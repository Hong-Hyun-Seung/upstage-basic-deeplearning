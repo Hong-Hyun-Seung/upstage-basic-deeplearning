{
  "nbformat": 4,
  "nbformat_minor": 0,
  "metadata": {
    "accelerator": "GPU",
    "colab": {
      "name": "1012_MRC_Mission2_Generation_based_MRC.ipynb의 사본",
      "provenance": [],
      "collapsed_sections": [],
      "include_colab_link": true
    },
    "kernelspec": {
      "display_name": "Python 3 (ipykernel)",
      "language": "python",
      "name": "python3"
    },
    "language_info": {
      "codemirror_mode": {
        "name": "ipython",
        "version": 3
      },
      "file_extension": ".py",
      "mimetype": "text/x-python",
      "name": "python",
      "nbconvert_exporter": "python",
      "pygments_lexer": "ipython3",
      "version": "3.8.0"
    },
    "widgets": {
      "application/vnd.jupyter.widget-state+json": {
        "8dd238e0692b43d194b240b80e694685": {
          "model_module": "@jupyter-widgets/controls",
          "model_name": "HBoxModel",
          "model_module_version": "1.5.0",
          "state": {
            "_view_name": "HBoxView",
            "_dom_classes": [],
            "_model_name": "HBoxModel",
            "_view_module": "@jupyter-widgets/controls",
            "_model_module_version": "1.5.0",
            "_view_count": null,
            "_view_module_version": "1.5.0",
            "box_style": "",
            "layout": "IPY_MODEL_2b22b5de417f409088f8b8128e669caa",
            "_model_module": "@jupyter-widgets/controls",
            "children": [
              "IPY_MODEL_ff8a4c0bb22c4d7492d77b2fe9ddea29",
              "IPY_MODEL_d57f47ea80b242aca84f91e5f98bc613"
            ]
          }
        },
        "2b22b5de417f409088f8b8128e669caa": {
          "model_module": "@jupyter-widgets/base",
          "model_name": "LayoutModel",
          "model_module_version": "1.2.0",
          "state": {
            "_view_name": "LayoutView",
            "grid_template_rows": null,
            "right": null,
            "justify_content": null,
            "_view_module": "@jupyter-widgets/base",
            "overflow": null,
            "_model_module_version": "1.2.0",
            "_view_count": null,
            "flex_flow": null,
            "width": null,
            "min_width": null,
            "border": null,
            "align_items": null,
            "bottom": null,
            "_model_module": "@jupyter-widgets/base",
            "top": null,
            "grid_column": null,
            "overflow_y": null,
            "overflow_x": null,
            "grid_auto_flow": null,
            "grid_area": null,
            "grid_template_columns": null,
            "flex": null,
            "_model_name": "LayoutModel",
            "justify_items": null,
            "grid_row": null,
            "max_height": null,
            "align_content": null,
            "visibility": null,
            "align_self": null,
            "height": null,
            "min_height": null,
            "padding": null,
            "grid_auto_rows": null,
            "grid_gap": null,
            "max_width": null,
            "order": null,
            "_view_module_version": "1.2.0",
            "grid_template_areas": null,
            "object_position": null,
            "object_fit": null,
            "grid_auto_columns": null,
            "margin": null,
            "display": null,
            "left": null
          }
        },
        "ff8a4c0bb22c4d7492d77b2fe9ddea29": {
          "model_module": "@jupyter-widgets/controls",
          "model_name": "FloatProgressModel",
          "model_module_version": "1.5.0",
          "state": {
            "_view_name": "ProgressView",
            "style": "IPY_MODEL_cca48f1994b34e0fb49f85d7e21dd993",
            "_dom_classes": [],
            "description": "Downloading: ",
            "_model_name": "FloatProgressModel",
            "bar_style": "success",
            "max": 1745,
            "_view_module": "@jupyter-widgets/controls",
            "_model_module_version": "1.5.0",
            "value": 1745,
            "_view_count": null,
            "_view_module_version": "1.5.0",
            "orientation": "horizontal",
            "min": 0,
            "description_tooltip": null,
            "_model_module": "@jupyter-widgets/controls",
            "layout": "IPY_MODEL_c785807673ea48ff8512f74c1dcf4c8b"
          }
        },
        "d57f47ea80b242aca84f91e5f98bc613": {
          "model_module": "@jupyter-widgets/controls",
          "model_name": "HTMLModel",
          "model_module_version": "1.5.0",
          "state": {
            "_view_name": "HTMLView",
            "style": "IPY_MODEL_15970962e9ce4e90a6902449c477c79a",
            "_dom_classes": [],
            "description": "",
            "_model_name": "HTMLModel",
            "placeholder": "​",
            "_view_module": "@jupyter-widgets/controls",
            "_model_module_version": "1.5.0",
            "value": " 4.56k/? [00:00&lt;00:00, 20.1kB/s]",
            "_view_count": null,
            "_view_module_version": "1.5.0",
            "description_tooltip": null,
            "_model_module": "@jupyter-widgets/controls",
            "layout": "IPY_MODEL_d81c546e8fe944c08a45ac608c29fb81"
          }
        },
        "cca48f1994b34e0fb49f85d7e21dd993": {
          "model_module": "@jupyter-widgets/controls",
          "model_name": "ProgressStyleModel",
          "model_module_version": "1.5.0",
          "state": {
            "_view_name": "StyleView",
            "_model_name": "ProgressStyleModel",
            "description_width": "initial",
            "_view_module": "@jupyter-widgets/base",
            "_model_module_version": "1.5.0",
            "_view_count": null,
            "_view_module_version": "1.2.0",
            "bar_color": null,
            "_model_module": "@jupyter-widgets/controls"
          }
        },
        "c785807673ea48ff8512f74c1dcf4c8b": {
          "model_module": "@jupyter-widgets/base",
          "model_name": "LayoutModel",
          "model_module_version": "1.2.0",
          "state": {
            "_view_name": "LayoutView",
            "grid_template_rows": null,
            "right": null,
            "justify_content": null,
            "_view_module": "@jupyter-widgets/base",
            "overflow": null,
            "_model_module_version": "1.2.0",
            "_view_count": null,
            "flex_flow": null,
            "width": null,
            "min_width": null,
            "border": null,
            "align_items": null,
            "bottom": null,
            "_model_module": "@jupyter-widgets/base",
            "top": null,
            "grid_column": null,
            "overflow_y": null,
            "overflow_x": null,
            "grid_auto_flow": null,
            "grid_area": null,
            "grid_template_columns": null,
            "flex": null,
            "_model_name": "LayoutModel",
            "justify_items": null,
            "grid_row": null,
            "max_height": null,
            "align_content": null,
            "visibility": null,
            "align_self": null,
            "height": null,
            "min_height": null,
            "padding": null,
            "grid_auto_rows": null,
            "grid_gap": null,
            "max_width": null,
            "order": null,
            "_view_module_version": "1.2.0",
            "grid_template_areas": null,
            "object_position": null,
            "object_fit": null,
            "grid_auto_columns": null,
            "margin": null,
            "display": null,
            "left": null
          }
        },
        "15970962e9ce4e90a6902449c477c79a": {
          "model_module": "@jupyter-widgets/controls",
          "model_name": "DescriptionStyleModel",
          "model_module_version": "1.5.0",
          "state": {
            "_view_name": "StyleView",
            "_model_name": "DescriptionStyleModel",
            "description_width": "",
            "_view_module": "@jupyter-widgets/base",
            "_model_module_version": "1.5.0",
            "_view_count": null,
            "_view_module_version": "1.2.0",
            "_model_module": "@jupyter-widgets/controls"
          }
        },
        "d81c546e8fe944c08a45ac608c29fb81": {
          "model_module": "@jupyter-widgets/base",
          "model_name": "LayoutModel",
          "model_module_version": "1.2.0",
          "state": {
            "_view_name": "LayoutView",
            "grid_template_rows": null,
            "right": null,
            "justify_content": null,
            "_view_module": "@jupyter-widgets/base",
            "overflow": null,
            "_model_module_version": "1.2.0",
            "_view_count": null,
            "flex_flow": null,
            "width": null,
            "min_width": null,
            "border": null,
            "align_items": null,
            "bottom": null,
            "_model_module": "@jupyter-widgets/base",
            "top": null,
            "grid_column": null,
            "overflow_y": null,
            "overflow_x": null,
            "grid_auto_flow": null,
            "grid_area": null,
            "grid_template_columns": null,
            "flex": null,
            "_model_name": "LayoutModel",
            "justify_items": null,
            "grid_row": null,
            "max_height": null,
            "align_content": null,
            "visibility": null,
            "align_self": null,
            "height": null,
            "min_height": null,
            "padding": null,
            "grid_auto_rows": null,
            "grid_gap": null,
            "max_width": null,
            "order": null,
            "_view_module_version": "1.2.0",
            "grid_template_areas": null,
            "object_position": null,
            "object_fit": null,
            "grid_auto_columns": null,
            "margin": null,
            "display": null,
            "left": null
          }
        },
        "c0fcbb5dbfd34b86895433ce5de714c5": {
          "model_module": "@jupyter-widgets/controls",
          "model_name": "HBoxModel",
          "model_module_version": "1.5.0",
          "state": {
            "_view_name": "HBoxView",
            "_dom_classes": [],
            "_model_name": "HBoxModel",
            "_view_module": "@jupyter-widgets/controls",
            "_model_module_version": "1.5.0",
            "_view_count": null,
            "_view_module_version": "1.5.0",
            "box_style": "",
            "layout": "IPY_MODEL_ab0603257936469a98932cca92696e98",
            "_model_module": "@jupyter-widgets/controls",
            "children": [
              "IPY_MODEL_10cadfe7b23149aebbc5b2f5ca84a50b",
              "IPY_MODEL_4ae5ed872fb149b8b9a5ef381b1f6c61"
            ]
          }
        },
        "ab0603257936469a98932cca92696e98": {
          "model_module": "@jupyter-widgets/base",
          "model_name": "LayoutModel",
          "model_module_version": "1.2.0",
          "state": {
            "_view_name": "LayoutView",
            "grid_template_rows": null,
            "right": null,
            "justify_content": null,
            "_view_module": "@jupyter-widgets/base",
            "overflow": null,
            "_model_module_version": "1.2.0",
            "_view_count": null,
            "flex_flow": null,
            "width": null,
            "min_width": null,
            "border": null,
            "align_items": null,
            "bottom": null,
            "_model_module": "@jupyter-widgets/base",
            "top": null,
            "grid_column": null,
            "overflow_y": null,
            "overflow_x": null,
            "grid_auto_flow": null,
            "grid_area": null,
            "grid_template_columns": null,
            "flex": null,
            "_model_name": "LayoutModel",
            "justify_items": null,
            "grid_row": null,
            "max_height": null,
            "align_content": null,
            "visibility": null,
            "align_self": null,
            "height": null,
            "min_height": null,
            "padding": null,
            "grid_auto_rows": null,
            "grid_gap": null,
            "max_width": null,
            "order": null,
            "_view_module_version": "1.2.0",
            "grid_template_areas": null,
            "object_position": null,
            "object_fit": null,
            "grid_auto_columns": null,
            "margin": null,
            "display": null,
            "left": null
          }
        },
        "10cadfe7b23149aebbc5b2f5ca84a50b": {
          "model_module": "@jupyter-widgets/controls",
          "model_name": "FloatProgressModel",
          "model_module_version": "1.5.0",
          "state": {
            "_view_name": "ProgressView",
            "style": "IPY_MODEL_651f6e6cc25c482cba7135f23009fa16",
            "_dom_classes": [],
            "description": "Downloading: ",
            "_model_name": "FloatProgressModel",
            "bar_style": "success",
            "max": 962,
            "_view_module": "@jupyter-widgets/controls",
            "_model_module_version": "1.5.0",
            "value": 962,
            "_view_count": null,
            "_view_module_version": "1.5.0",
            "orientation": "horizontal",
            "min": 0,
            "description_tooltip": null,
            "_model_module": "@jupyter-widgets/controls",
            "layout": "IPY_MODEL_ad1e40118cd741aaa790174bff4c6c34"
          }
        },
        "4ae5ed872fb149b8b9a5ef381b1f6c61": {
          "model_module": "@jupyter-widgets/controls",
          "model_name": "HTMLModel",
          "model_module_version": "1.5.0",
          "state": {
            "_view_name": "HTMLView",
            "style": "IPY_MODEL_6125f32b2d794ba49dcf93db667b92b1",
            "_dom_classes": [],
            "description": "",
            "_model_name": "HTMLModel",
            "placeholder": "​",
            "_view_module": "@jupyter-widgets/controls",
            "_model_module_version": "1.5.0",
            "value": " 2.24k/? [00:00&lt;00:00, 2.98kB/s]",
            "_view_count": null,
            "_view_module_version": "1.5.0",
            "description_tooltip": null,
            "_model_module": "@jupyter-widgets/controls",
            "layout": "IPY_MODEL_3c41c2e3f99c476389946339257d5ab8"
          }
        },
        "651f6e6cc25c482cba7135f23009fa16": {
          "model_module": "@jupyter-widgets/controls",
          "model_name": "ProgressStyleModel",
          "model_module_version": "1.5.0",
          "state": {
            "_view_name": "StyleView",
            "_model_name": "ProgressStyleModel",
            "description_width": "initial",
            "_view_module": "@jupyter-widgets/base",
            "_model_module_version": "1.5.0",
            "_view_count": null,
            "_view_module_version": "1.2.0",
            "bar_color": null,
            "_model_module": "@jupyter-widgets/controls"
          }
        },
        "ad1e40118cd741aaa790174bff4c6c34": {
          "model_module": "@jupyter-widgets/base",
          "model_name": "LayoutModel",
          "model_module_version": "1.2.0",
          "state": {
            "_view_name": "LayoutView",
            "grid_template_rows": null,
            "right": null,
            "justify_content": null,
            "_view_module": "@jupyter-widgets/base",
            "overflow": null,
            "_model_module_version": "1.2.0",
            "_view_count": null,
            "flex_flow": null,
            "width": null,
            "min_width": null,
            "border": null,
            "align_items": null,
            "bottom": null,
            "_model_module": "@jupyter-widgets/base",
            "top": null,
            "grid_column": null,
            "overflow_y": null,
            "overflow_x": null,
            "grid_auto_flow": null,
            "grid_area": null,
            "grid_template_columns": null,
            "flex": null,
            "_model_name": "LayoutModel",
            "justify_items": null,
            "grid_row": null,
            "max_height": null,
            "align_content": null,
            "visibility": null,
            "align_self": null,
            "height": null,
            "min_height": null,
            "padding": null,
            "grid_auto_rows": null,
            "grid_gap": null,
            "max_width": null,
            "order": null,
            "_view_module_version": "1.2.0",
            "grid_template_areas": null,
            "object_position": null,
            "object_fit": null,
            "grid_auto_columns": null,
            "margin": null,
            "display": null,
            "left": null
          }
        },
        "6125f32b2d794ba49dcf93db667b92b1": {
          "model_module": "@jupyter-widgets/controls",
          "model_name": "DescriptionStyleModel",
          "model_module_version": "1.5.0",
          "state": {
            "_view_name": "StyleView",
            "_model_name": "DescriptionStyleModel",
            "description_width": "",
            "_view_module": "@jupyter-widgets/base",
            "_model_module_version": "1.5.0",
            "_view_count": null,
            "_view_module_version": "1.2.0",
            "_model_module": "@jupyter-widgets/controls"
          }
        },
        "3c41c2e3f99c476389946339257d5ab8": {
          "model_module": "@jupyter-widgets/base",
          "model_name": "LayoutModel",
          "model_module_version": "1.2.0",
          "state": {
            "_view_name": "LayoutView",
            "grid_template_rows": null,
            "right": null,
            "justify_content": null,
            "_view_module": "@jupyter-widgets/base",
            "overflow": null,
            "_model_module_version": "1.2.0",
            "_view_count": null,
            "flex_flow": null,
            "width": null,
            "min_width": null,
            "border": null,
            "align_items": null,
            "bottom": null,
            "_model_module": "@jupyter-widgets/base",
            "top": null,
            "grid_column": null,
            "overflow_y": null,
            "overflow_x": null,
            "grid_auto_flow": null,
            "grid_area": null,
            "grid_template_columns": null,
            "flex": null,
            "_model_name": "LayoutModel",
            "justify_items": null,
            "grid_row": null,
            "max_height": null,
            "align_content": null,
            "visibility": null,
            "align_self": null,
            "height": null,
            "min_height": null,
            "padding": null,
            "grid_auto_rows": null,
            "grid_gap": null,
            "max_width": null,
            "order": null,
            "_view_module_version": "1.2.0",
            "grid_template_areas": null,
            "object_position": null,
            "object_fit": null,
            "grid_auto_columns": null,
            "margin": null,
            "display": null,
            "left": null
          }
        },
        "5b6af37383554e0380abb70511d48a7a": {
          "model_module": "@jupyter-widgets/controls",
          "model_name": "HBoxModel",
          "model_module_version": "1.5.0",
          "state": {
            "_view_name": "HBoxView",
            "_dom_classes": [],
            "_model_name": "HBoxModel",
            "_view_module": "@jupyter-widgets/controls",
            "_model_module_version": "1.5.0",
            "_view_count": null,
            "_view_module_version": "1.5.0",
            "box_style": "",
            "layout": "IPY_MODEL_ae465a7b08944ff4aa707a65428a68cf",
            "_model_module": "@jupyter-widgets/controls",
            "children": [
              "IPY_MODEL_628b7caf5cfd46bdadcc5cadb6668acd",
              "IPY_MODEL_c22cad5d803d44e48e631dc3a66462d5"
            ]
          }
        },
        "ae465a7b08944ff4aa707a65428a68cf": {
          "model_module": "@jupyter-widgets/base",
          "model_name": "LayoutModel",
          "model_module_version": "1.2.0",
          "state": {
            "_view_name": "LayoutView",
            "grid_template_rows": null,
            "right": null,
            "justify_content": null,
            "_view_module": "@jupyter-widgets/base",
            "overflow": null,
            "_model_module_version": "1.2.0",
            "_view_count": null,
            "flex_flow": null,
            "width": null,
            "min_width": null,
            "border": null,
            "align_items": null,
            "bottom": null,
            "_model_module": "@jupyter-widgets/base",
            "top": null,
            "grid_column": null,
            "overflow_y": null,
            "overflow_x": null,
            "grid_auto_flow": null,
            "grid_area": null,
            "grid_template_columns": null,
            "flex": null,
            "_model_name": "LayoutModel",
            "justify_items": null,
            "grid_row": null,
            "max_height": null,
            "align_content": null,
            "visibility": null,
            "align_self": null,
            "height": null,
            "min_height": null,
            "padding": null,
            "grid_auto_rows": null,
            "grid_gap": null,
            "max_width": null,
            "order": null,
            "_view_module_version": "1.2.0",
            "grid_template_areas": null,
            "object_position": null,
            "object_fit": null,
            "grid_auto_columns": null,
            "margin": null,
            "display": null,
            "left": null
          }
        },
        "628b7caf5cfd46bdadcc5cadb6668acd": {
          "model_module": "@jupyter-widgets/controls",
          "model_name": "FloatProgressModel",
          "model_module_version": "1.5.0",
          "state": {
            "_view_name": "ProgressView",
            "style": "IPY_MODEL_f383a490687a4d9b935c4c70be5bc49a",
            "_dom_classes": [],
            "description": "Downloading: ",
            "_model_name": "FloatProgressModel",
            "bar_style": "success",
            "max": 7568316,
            "_view_module": "@jupyter-widgets/controls",
            "_model_module_version": "1.5.0",
            "value": 7568316,
            "_view_count": null,
            "_view_module_version": "1.5.0",
            "orientation": "horizontal",
            "min": 0,
            "description_tooltip": null,
            "_model_module": "@jupyter-widgets/controls",
            "layout": "IPY_MODEL_018f5b0be62240059fde8908dfdca3ed"
          }
        },
        "c22cad5d803d44e48e631dc3a66462d5": {
          "model_module": "@jupyter-widgets/controls",
          "model_name": "HTMLModel",
          "model_module_version": "1.5.0",
          "state": {
            "_view_name": "HTMLView",
            "style": "IPY_MODEL_600e2af05a8347d1934fe0a23d9d7522",
            "_dom_classes": [],
            "description": "",
            "_model_name": "HTMLModel",
            "placeholder": "​",
            "_view_module": "@jupyter-widgets/controls",
            "_model_module_version": "1.5.0",
            "value": " 38.5M/? [00:01&lt;00:00, 26.1MB/s]",
            "_view_count": null,
            "_view_module_version": "1.5.0",
            "description_tooltip": null,
            "_model_module": "@jupyter-widgets/controls",
            "layout": "IPY_MODEL_5dfe584c93c84212928308ff55764965"
          }
        },
        "f383a490687a4d9b935c4c70be5bc49a": {
          "model_module": "@jupyter-widgets/controls",
          "model_name": "ProgressStyleModel",
          "model_module_version": "1.5.0",
          "state": {
            "_view_name": "StyleView",
            "_model_name": "ProgressStyleModel",
            "description_width": "initial",
            "_view_module": "@jupyter-widgets/base",
            "_model_module_version": "1.5.0",
            "_view_count": null,
            "_view_module_version": "1.2.0",
            "bar_color": null,
            "_model_module": "@jupyter-widgets/controls"
          }
        },
        "018f5b0be62240059fde8908dfdca3ed": {
          "model_module": "@jupyter-widgets/base",
          "model_name": "LayoutModel",
          "model_module_version": "1.2.0",
          "state": {
            "_view_name": "LayoutView",
            "grid_template_rows": null,
            "right": null,
            "justify_content": null,
            "_view_module": "@jupyter-widgets/base",
            "overflow": null,
            "_model_module_version": "1.2.0",
            "_view_count": null,
            "flex_flow": null,
            "width": null,
            "min_width": null,
            "border": null,
            "align_items": null,
            "bottom": null,
            "_model_module": "@jupyter-widgets/base",
            "top": null,
            "grid_column": null,
            "overflow_y": null,
            "overflow_x": null,
            "grid_auto_flow": null,
            "grid_area": null,
            "grid_template_columns": null,
            "flex": null,
            "_model_name": "LayoutModel",
            "justify_items": null,
            "grid_row": null,
            "max_height": null,
            "align_content": null,
            "visibility": null,
            "align_self": null,
            "height": null,
            "min_height": null,
            "padding": null,
            "grid_auto_rows": null,
            "grid_gap": null,
            "max_width": null,
            "order": null,
            "_view_module_version": "1.2.0",
            "grid_template_areas": null,
            "object_position": null,
            "object_fit": null,
            "grid_auto_columns": null,
            "margin": null,
            "display": null,
            "left": null
          }
        },
        "600e2af05a8347d1934fe0a23d9d7522": {
          "model_module": "@jupyter-widgets/controls",
          "model_name": "DescriptionStyleModel",
          "model_module_version": "1.5.0",
          "state": {
            "_view_name": "StyleView",
            "_model_name": "DescriptionStyleModel",
            "description_width": "",
            "_view_module": "@jupyter-widgets/base",
            "_model_module_version": "1.5.0",
            "_view_count": null,
            "_view_module_version": "1.2.0",
            "_model_module": "@jupyter-widgets/controls"
          }
        },
        "5dfe584c93c84212928308ff55764965": {
          "model_module": "@jupyter-widgets/base",
          "model_name": "LayoutModel",
          "model_module_version": "1.2.0",
          "state": {
            "_view_name": "LayoutView",
            "grid_template_rows": null,
            "right": null,
            "justify_content": null,
            "_view_module": "@jupyter-widgets/base",
            "overflow": null,
            "_model_module_version": "1.2.0",
            "_view_count": null,
            "flex_flow": null,
            "width": null,
            "min_width": null,
            "border": null,
            "align_items": null,
            "bottom": null,
            "_model_module": "@jupyter-widgets/base",
            "top": null,
            "grid_column": null,
            "overflow_y": null,
            "overflow_x": null,
            "grid_auto_flow": null,
            "grid_area": null,
            "grid_template_columns": null,
            "flex": null,
            "_model_name": "LayoutModel",
            "justify_items": null,
            "grid_row": null,
            "max_height": null,
            "align_content": null,
            "visibility": null,
            "align_self": null,
            "height": null,
            "min_height": null,
            "padding": null,
            "grid_auto_rows": null,
            "grid_gap": null,
            "max_width": null,
            "order": null,
            "_view_module_version": "1.2.0",
            "grid_template_areas": null,
            "object_position": null,
            "object_fit": null,
            "grid_auto_columns": null,
            "margin": null,
            "display": null,
            "left": null
          }
        },
        "406bb51f272d4c17a9113340051c9ded": {
          "model_module": "@jupyter-widgets/controls",
          "model_name": "HBoxModel",
          "model_module_version": "1.5.0",
          "state": {
            "_view_name": "HBoxView",
            "_dom_classes": [],
            "_model_name": "HBoxModel",
            "_view_module": "@jupyter-widgets/controls",
            "_model_module_version": "1.5.0",
            "_view_count": null,
            "_view_module_version": "1.5.0",
            "box_style": "",
            "layout": "IPY_MODEL_7a90c7541f9f4a6d9d6fb8a08c858ce3",
            "_model_module": "@jupyter-widgets/controls",
            "children": [
              "IPY_MODEL_9af3296815454b5eb8d00e771185154f",
              "IPY_MODEL_5e97faeaaf63480d87b7007516af5baf"
            ]
          }
        },
        "7a90c7541f9f4a6d9d6fb8a08c858ce3": {
          "model_module": "@jupyter-widgets/base",
          "model_name": "LayoutModel",
          "model_module_version": "1.2.0",
          "state": {
            "_view_name": "LayoutView",
            "grid_template_rows": null,
            "right": null,
            "justify_content": null,
            "_view_module": "@jupyter-widgets/base",
            "overflow": null,
            "_model_module_version": "1.2.0",
            "_view_count": null,
            "flex_flow": null,
            "width": null,
            "min_width": null,
            "border": null,
            "align_items": null,
            "bottom": null,
            "_model_module": "@jupyter-widgets/base",
            "top": null,
            "grid_column": null,
            "overflow_y": null,
            "overflow_x": null,
            "grid_auto_flow": null,
            "grid_area": null,
            "grid_template_columns": null,
            "flex": null,
            "_model_name": "LayoutModel",
            "justify_items": null,
            "grid_row": null,
            "max_height": null,
            "align_content": null,
            "visibility": null,
            "align_self": null,
            "height": null,
            "min_height": null,
            "padding": null,
            "grid_auto_rows": null,
            "grid_gap": null,
            "max_width": null,
            "order": null,
            "_view_module_version": "1.2.0",
            "grid_template_areas": null,
            "object_position": null,
            "object_fit": null,
            "grid_auto_columns": null,
            "margin": null,
            "display": null,
            "left": null
          }
        },
        "9af3296815454b5eb8d00e771185154f": {
          "model_module": "@jupyter-widgets/controls",
          "model_name": "FloatProgressModel",
          "model_module_version": "1.5.0",
          "state": {
            "_view_name": "ProgressView",
            "style": "IPY_MODEL_ef8eeb5f1b4e403f92deaf62215dd1c6",
            "_dom_classes": [],
            "description": "Downloading: ",
            "_model_name": "FloatProgressModel",
            "bar_style": "success",
            "max": 770480,
            "_view_module": "@jupyter-widgets/controls",
            "_model_module_version": "1.5.0",
            "value": 770480,
            "_view_count": null,
            "_view_module_version": "1.5.0",
            "orientation": "horizontal",
            "min": 0,
            "description_tooltip": null,
            "_model_module": "@jupyter-widgets/controls",
            "layout": "IPY_MODEL_44ce17a2b46f4a29b942831c44a8e59c"
          }
        },
        "5e97faeaaf63480d87b7007516af5baf": {
          "model_module": "@jupyter-widgets/controls",
          "model_name": "HTMLModel",
          "model_module_version": "1.5.0",
          "state": {
            "_view_name": "HTMLView",
            "style": "IPY_MODEL_9d3159a809a04489866c1df896ec98b3",
            "_dom_classes": [],
            "description": "",
            "_model_name": "HTMLModel",
            "placeholder": "​",
            "_view_module": "@jupyter-widgets/controls",
            "_model_module_version": "1.5.0",
            "value": " 3.88M/? [00:00&lt;00:00, 9.77MB/s]",
            "_view_count": null,
            "_view_module_version": "1.5.0",
            "description_tooltip": null,
            "_model_module": "@jupyter-widgets/controls",
            "layout": "IPY_MODEL_7aa90f5917c343b4ab1a2bffb0c0973a"
          }
        },
        "ef8eeb5f1b4e403f92deaf62215dd1c6": {
          "model_module": "@jupyter-widgets/controls",
          "model_name": "ProgressStyleModel",
          "model_module_version": "1.5.0",
          "state": {
            "_view_name": "StyleView",
            "_model_name": "ProgressStyleModel",
            "description_width": "initial",
            "_view_module": "@jupyter-widgets/base",
            "_model_module_version": "1.5.0",
            "_view_count": null,
            "_view_module_version": "1.2.0",
            "bar_color": null,
            "_model_module": "@jupyter-widgets/controls"
          }
        },
        "44ce17a2b46f4a29b942831c44a8e59c": {
          "model_module": "@jupyter-widgets/base",
          "model_name": "LayoutModel",
          "model_module_version": "1.2.0",
          "state": {
            "_view_name": "LayoutView",
            "grid_template_rows": null,
            "right": null,
            "justify_content": null,
            "_view_module": "@jupyter-widgets/base",
            "overflow": null,
            "_model_module_version": "1.2.0",
            "_view_count": null,
            "flex_flow": null,
            "width": null,
            "min_width": null,
            "border": null,
            "align_items": null,
            "bottom": null,
            "_model_module": "@jupyter-widgets/base",
            "top": null,
            "grid_column": null,
            "overflow_y": null,
            "overflow_x": null,
            "grid_auto_flow": null,
            "grid_area": null,
            "grid_template_columns": null,
            "flex": null,
            "_model_name": "LayoutModel",
            "justify_items": null,
            "grid_row": null,
            "max_height": null,
            "align_content": null,
            "visibility": null,
            "align_self": null,
            "height": null,
            "min_height": null,
            "padding": null,
            "grid_auto_rows": null,
            "grid_gap": null,
            "max_width": null,
            "order": null,
            "_view_module_version": "1.2.0",
            "grid_template_areas": null,
            "object_position": null,
            "object_fit": null,
            "grid_auto_columns": null,
            "margin": null,
            "display": null,
            "left": null
          }
        },
        "9d3159a809a04489866c1df896ec98b3": {
          "model_module": "@jupyter-widgets/controls",
          "model_name": "DescriptionStyleModel",
          "model_module_version": "1.5.0",
          "state": {
            "_view_name": "StyleView",
            "_model_name": "DescriptionStyleModel",
            "description_width": "",
            "_view_module": "@jupyter-widgets/base",
            "_model_module_version": "1.5.0",
            "_view_count": null,
            "_view_module_version": "1.2.0",
            "_model_module": "@jupyter-widgets/controls"
          }
        },
        "7aa90f5917c343b4ab1a2bffb0c0973a": {
          "model_module": "@jupyter-widgets/base",
          "model_name": "LayoutModel",
          "model_module_version": "1.2.0",
          "state": {
            "_view_name": "LayoutView",
            "grid_template_rows": null,
            "right": null,
            "justify_content": null,
            "_view_module": "@jupyter-widgets/base",
            "overflow": null,
            "_model_module_version": "1.2.0",
            "_view_count": null,
            "flex_flow": null,
            "width": null,
            "min_width": null,
            "border": null,
            "align_items": null,
            "bottom": null,
            "_model_module": "@jupyter-widgets/base",
            "top": null,
            "grid_column": null,
            "overflow_y": null,
            "overflow_x": null,
            "grid_auto_flow": null,
            "grid_area": null,
            "grid_template_columns": null,
            "flex": null,
            "_model_name": "LayoutModel",
            "justify_items": null,
            "grid_row": null,
            "max_height": null,
            "align_content": null,
            "visibility": null,
            "align_self": null,
            "height": null,
            "min_height": null,
            "padding": null,
            "grid_auto_rows": null,
            "grid_gap": null,
            "max_width": null,
            "order": null,
            "_view_module_version": "1.2.0",
            "grid_template_areas": null,
            "object_position": null,
            "object_fit": null,
            "grid_auto_columns": null,
            "margin": null,
            "display": null,
            "left": null
          }
        },
        "eed1511c83ae48e78b231b82d6c797c2": {
          "model_module": "@jupyter-widgets/controls",
          "model_name": "HBoxModel",
          "model_module_version": "1.5.0",
          "state": {
            "_view_name": "HBoxView",
            "_dom_classes": [],
            "_model_name": "HBoxModel",
            "_view_module": "@jupyter-widgets/controls",
            "_model_module_version": "1.5.0",
            "_view_count": null,
            "_view_module_version": "1.5.0",
            "box_style": "",
            "layout": "IPY_MODEL_28765a6d0a6b459b909f84e47f679a6e",
            "_model_module": "@jupyter-widgets/controls",
            "children": [
              "IPY_MODEL_f6505c563ad74856b64f11953c0abafb",
              "IPY_MODEL_68fe4150f9c4417eb7f49c5df1b0a40e"
            ]
          }
        },
        "28765a6d0a6b459b909f84e47f679a6e": {
          "model_module": "@jupyter-widgets/base",
          "model_name": "LayoutModel",
          "model_module_version": "1.2.0",
          "state": {
            "_view_name": "LayoutView",
            "grid_template_rows": null,
            "right": null,
            "justify_content": null,
            "_view_module": "@jupyter-widgets/base",
            "overflow": null,
            "_model_module_version": "1.2.0",
            "_view_count": null,
            "flex_flow": null,
            "width": null,
            "min_width": null,
            "border": null,
            "align_items": null,
            "bottom": null,
            "_model_module": "@jupyter-widgets/base",
            "top": null,
            "grid_column": null,
            "overflow_y": null,
            "overflow_x": null,
            "grid_auto_flow": null,
            "grid_area": null,
            "grid_template_columns": null,
            "flex": null,
            "_model_name": "LayoutModel",
            "justify_items": null,
            "grid_row": null,
            "max_height": null,
            "align_content": null,
            "visibility": null,
            "align_self": null,
            "height": null,
            "min_height": null,
            "padding": null,
            "grid_auto_rows": null,
            "grid_gap": null,
            "max_width": null,
            "order": null,
            "_view_module_version": "1.2.0",
            "grid_template_areas": null,
            "object_position": null,
            "object_fit": null,
            "grid_auto_columns": null,
            "margin": null,
            "display": null,
            "left": null
          }
        },
        "f6505c563ad74856b64f11953c0abafb": {
          "model_module": "@jupyter-widgets/controls",
          "model_name": "FloatProgressModel",
          "model_module_version": "1.5.0",
          "state": {
            "_view_name": "ProgressView",
            "style": "IPY_MODEL_57e857a7d7a34deb9419884469b0b462",
            "_dom_classes": [],
            "description": "",
            "_model_name": "FloatProgressModel",
            "bar_style": "info",
            "max": 1,
            "_view_module": "@jupyter-widgets/controls",
            "_model_module_version": "1.5.0",
            "value": 1,
            "_view_count": null,
            "_view_module_version": "1.5.0",
            "orientation": "horizontal",
            "min": 0,
            "description_tooltip": null,
            "_model_module": "@jupyter-widgets/controls",
            "layout": "IPY_MODEL_5dbfbf4b0bfc4df5a8d0d7c0bcd9bdf3"
          }
        },
        "68fe4150f9c4417eb7f49c5df1b0a40e": {
          "model_module": "@jupyter-widgets/controls",
          "model_name": "HTMLModel",
          "model_module_version": "1.5.0",
          "state": {
            "_view_name": "HTMLView",
            "style": "IPY_MODEL_c6e7bbc8cb99411d84388c16954da434",
            "_dom_classes": [],
            "description": "",
            "_model_name": "HTMLModel",
            "placeholder": "​",
            "_view_module": "@jupyter-widgets/controls",
            "_model_module_version": "1.5.0",
            "value": " 60407/0 [00:06&lt;00:00, 12655.06 examples/s]",
            "_view_count": null,
            "_view_module_version": "1.5.0",
            "description_tooltip": null,
            "_model_module": "@jupyter-widgets/controls",
            "layout": "IPY_MODEL_bf7a4915f7b54559bd99309d318b8952"
          }
        },
        "57e857a7d7a34deb9419884469b0b462": {
          "model_module": "@jupyter-widgets/controls",
          "model_name": "ProgressStyleModel",
          "model_module_version": "1.5.0",
          "state": {
            "_view_name": "StyleView",
            "_model_name": "ProgressStyleModel",
            "description_width": "initial",
            "_view_module": "@jupyter-widgets/base",
            "_model_module_version": "1.5.0",
            "_view_count": null,
            "_view_module_version": "1.2.0",
            "bar_color": null,
            "_model_module": "@jupyter-widgets/controls"
          }
        },
        "5dbfbf4b0bfc4df5a8d0d7c0bcd9bdf3": {
          "model_module": "@jupyter-widgets/base",
          "model_name": "LayoutModel",
          "model_module_version": "1.2.0",
          "state": {
            "_view_name": "LayoutView",
            "grid_template_rows": null,
            "right": null,
            "justify_content": null,
            "_view_module": "@jupyter-widgets/base",
            "overflow": null,
            "_model_module_version": "1.2.0",
            "_view_count": null,
            "flex_flow": null,
            "width": null,
            "min_width": null,
            "border": null,
            "align_items": null,
            "bottom": null,
            "_model_module": "@jupyter-widgets/base",
            "top": null,
            "grid_column": null,
            "overflow_y": null,
            "overflow_x": null,
            "grid_auto_flow": null,
            "grid_area": null,
            "grid_template_columns": null,
            "flex": null,
            "_model_name": "LayoutModel",
            "justify_items": null,
            "grid_row": null,
            "max_height": null,
            "align_content": null,
            "visibility": null,
            "align_self": null,
            "height": null,
            "min_height": null,
            "padding": null,
            "grid_auto_rows": null,
            "grid_gap": null,
            "max_width": null,
            "order": null,
            "_view_module_version": "1.2.0",
            "grid_template_areas": null,
            "object_position": null,
            "object_fit": null,
            "grid_auto_columns": null,
            "margin": null,
            "display": null,
            "left": null
          }
        },
        "c6e7bbc8cb99411d84388c16954da434": {
          "model_module": "@jupyter-widgets/controls",
          "model_name": "DescriptionStyleModel",
          "model_module_version": "1.5.0",
          "state": {
            "_view_name": "StyleView",
            "_model_name": "DescriptionStyleModel",
            "description_width": "",
            "_view_module": "@jupyter-widgets/base",
            "_model_module_version": "1.5.0",
            "_view_count": null,
            "_view_module_version": "1.2.0",
            "_model_module": "@jupyter-widgets/controls"
          }
        },
        "bf7a4915f7b54559bd99309d318b8952": {
          "model_module": "@jupyter-widgets/base",
          "model_name": "LayoutModel",
          "model_module_version": "1.2.0",
          "state": {
            "_view_name": "LayoutView",
            "grid_template_rows": null,
            "right": null,
            "justify_content": null,
            "_view_module": "@jupyter-widgets/base",
            "overflow": null,
            "_model_module_version": "1.2.0",
            "_view_count": null,
            "flex_flow": null,
            "width": null,
            "min_width": null,
            "border": null,
            "align_items": null,
            "bottom": null,
            "_model_module": "@jupyter-widgets/base",
            "top": null,
            "grid_column": null,
            "overflow_y": null,
            "overflow_x": null,
            "grid_auto_flow": null,
            "grid_area": null,
            "grid_template_columns": null,
            "flex": null,
            "_model_name": "LayoutModel",
            "justify_items": null,
            "grid_row": null,
            "max_height": null,
            "align_content": null,
            "visibility": null,
            "align_self": null,
            "height": null,
            "min_height": null,
            "padding": null,
            "grid_auto_rows": null,
            "grid_gap": null,
            "max_width": null,
            "order": null,
            "_view_module_version": "1.2.0",
            "grid_template_areas": null,
            "object_position": null,
            "object_fit": null,
            "grid_auto_columns": null,
            "margin": null,
            "display": null,
            "left": null
          }
        },
        "ab2d4031a91649d187c66911411580c2": {
          "model_module": "@jupyter-widgets/controls",
          "model_name": "HBoxModel",
          "model_module_version": "1.5.0",
          "state": {
            "_view_name": "HBoxView",
            "_dom_classes": [],
            "_model_name": "HBoxModel",
            "_view_module": "@jupyter-widgets/controls",
            "_model_module_version": "1.5.0",
            "_view_count": null,
            "_view_module_version": "1.5.0",
            "box_style": "",
            "layout": "IPY_MODEL_2ebc20c5714749b9b1835b48d72a73eb",
            "_model_module": "@jupyter-widgets/controls",
            "children": [
              "IPY_MODEL_a63f0faa30064c4bae201b3c79bb70f9",
              "IPY_MODEL_24359f1d856641dca4380f2d9989c569"
            ]
          }
        },
        "2ebc20c5714749b9b1835b48d72a73eb": {
          "model_module": "@jupyter-widgets/base",
          "model_name": "LayoutModel",
          "model_module_version": "1.2.0",
          "state": {
            "_view_name": "LayoutView",
            "grid_template_rows": null,
            "right": null,
            "justify_content": null,
            "_view_module": "@jupyter-widgets/base",
            "overflow": null,
            "_model_module_version": "1.2.0",
            "_view_count": null,
            "flex_flow": null,
            "width": null,
            "min_width": null,
            "border": null,
            "align_items": null,
            "bottom": null,
            "_model_module": "@jupyter-widgets/base",
            "top": null,
            "grid_column": null,
            "overflow_y": null,
            "overflow_x": null,
            "grid_auto_flow": null,
            "grid_area": null,
            "grid_template_columns": null,
            "flex": null,
            "_model_name": "LayoutModel",
            "justify_items": null,
            "grid_row": null,
            "max_height": null,
            "align_content": null,
            "visibility": null,
            "align_self": null,
            "height": null,
            "min_height": null,
            "padding": null,
            "grid_auto_rows": null,
            "grid_gap": null,
            "max_width": null,
            "order": null,
            "_view_module_version": "1.2.0",
            "grid_template_areas": null,
            "object_position": null,
            "object_fit": null,
            "grid_auto_columns": null,
            "margin": null,
            "display": null,
            "left": null
          }
        },
        "a63f0faa30064c4bae201b3c79bb70f9": {
          "model_module": "@jupyter-widgets/controls",
          "model_name": "FloatProgressModel",
          "model_module_version": "1.5.0",
          "state": {
            "_view_name": "ProgressView",
            "style": "IPY_MODEL_6721bebdf95a4720a08b0873171e4e15",
            "_dom_classes": [],
            "description": "",
            "_model_name": "FloatProgressModel",
            "bar_style": "info",
            "max": 1,
            "_view_module": "@jupyter-widgets/controls",
            "_model_module_version": "1.5.0",
            "value": 1,
            "_view_count": null,
            "_view_module_version": "1.5.0",
            "orientation": "horizontal",
            "min": 0,
            "description_tooltip": null,
            "_model_module": "@jupyter-widgets/controls",
            "layout": "IPY_MODEL_021edf4b628545ecafa951904bb16435"
          }
        },
        "24359f1d856641dca4380f2d9989c569": {
          "model_module": "@jupyter-widgets/controls",
          "model_name": "HTMLModel",
          "model_module_version": "1.5.0",
          "state": {
            "_view_name": "HTMLView",
            "style": "IPY_MODEL_5b8861d79ec741b88239296c989bd683",
            "_dom_classes": [],
            "description": "",
            "_model_name": "HTMLModel",
            "placeholder": "​",
            "_view_module": "@jupyter-widgets/controls",
            "_model_module_version": "1.5.0",
            "value": " 5774/0 [00:00&lt;00:00, 22.89 examples/s]",
            "_view_count": null,
            "_view_module_version": "1.5.0",
            "description_tooltip": null,
            "_model_module": "@jupyter-widgets/controls",
            "layout": "IPY_MODEL_f41fe650d1574ebcbf833c0766c202e6"
          }
        },
        "6721bebdf95a4720a08b0873171e4e15": {
          "model_module": "@jupyter-widgets/controls",
          "model_name": "ProgressStyleModel",
          "model_module_version": "1.5.0",
          "state": {
            "_view_name": "StyleView",
            "_model_name": "ProgressStyleModel",
            "description_width": "initial",
            "_view_module": "@jupyter-widgets/base",
            "_model_module_version": "1.5.0",
            "_view_count": null,
            "_view_module_version": "1.2.0",
            "bar_color": null,
            "_model_module": "@jupyter-widgets/controls"
          }
        },
        "021edf4b628545ecafa951904bb16435": {
          "model_module": "@jupyter-widgets/base",
          "model_name": "LayoutModel",
          "model_module_version": "1.2.0",
          "state": {
            "_view_name": "LayoutView",
            "grid_template_rows": null,
            "right": null,
            "justify_content": null,
            "_view_module": "@jupyter-widgets/base",
            "overflow": null,
            "_model_module_version": "1.2.0",
            "_view_count": null,
            "flex_flow": null,
            "width": null,
            "min_width": null,
            "border": null,
            "align_items": null,
            "bottom": null,
            "_model_module": "@jupyter-widgets/base",
            "top": null,
            "grid_column": null,
            "overflow_y": null,
            "overflow_x": null,
            "grid_auto_flow": null,
            "grid_area": null,
            "grid_template_columns": null,
            "flex": null,
            "_model_name": "LayoutModel",
            "justify_items": null,
            "grid_row": null,
            "max_height": null,
            "align_content": null,
            "visibility": null,
            "align_self": null,
            "height": null,
            "min_height": null,
            "padding": null,
            "grid_auto_rows": null,
            "grid_gap": null,
            "max_width": null,
            "order": null,
            "_view_module_version": "1.2.0",
            "grid_template_areas": null,
            "object_position": null,
            "object_fit": null,
            "grid_auto_columns": null,
            "margin": null,
            "display": null,
            "left": null
          }
        },
        "5b8861d79ec741b88239296c989bd683": {
          "model_module": "@jupyter-widgets/controls",
          "model_name": "DescriptionStyleModel",
          "model_module_version": "1.5.0",
          "state": {
            "_view_name": "StyleView",
            "_model_name": "DescriptionStyleModel",
            "description_width": "",
            "_view_module": "@jupyter-widgets/base",
            "_model_module_version": "1.5.0",
            "_view_count": null,
            "_view_module_version": "1.2.0",
            "_model_module": "@jupyter-widgets/controls"
          }
        },
        "f41fe650d1574ebcbf833c0766c202e6": {
          "model_module": "@jupyter-widgets/base",
          "model_name": "LayoutModel",
          "model_module_version": "1.2.0",
          "state": {
            "_view_name": "LayoutView",
            "grid_template_rows": null,
            "right": null,
            "justify_content": null,
            "_view_module": "@jupyter-widgets/base",
            "overflow": null,
            "_model_module_version": "1.2.0",
            "_view_count": null,
            "flex_flow": null,
            "width": null,
            "min_width": null,
            "border": null,
            "align_items": null,
            "bottom": null,
            "_model_module": "@jupyter-widgets/base",
            "top": null,
            "grid_column": null,
            "overflow_y": null,
            "overflow_x": null,
            "grid_auto_flow": null,
            "grid_area": null,
            "grid_template_columns": null,
            "flex": null,
            "_model_name": "LayoutModel",
            "justify_items": null,
            "grid_row": null,
            "max_height": null,
            "align_content": null,
            "visibility": null,
            "align_self": null,
            "height": null,
            "min_height": null,
            "padding": null,
            "grid_auto_rows": null,
            "grid_gap": null,
            "max_width": null,
            "order": null,
            "_view_module_version": "1.2.0",
            "grid_template_areas": null,
            "object_position": null,
            "object_fit": null,
            "grid_auto_columns": null,
            "margin": null,
            "display": null,
            "left": null
          }
        },
        "1d9f6f8b874b41eb8286c4d1f6d6f553": {
          "model_module": "@jupyter-widgets/controls",
          "model_name": "HBoxModel",
          "model_module_version": "1.5.0",
          "state": {
            "_view_name": "HBoxView",
            "_dom_classes": [],
            "_model_name": "HBoxModel",
            "_view_module": "@jupyter-widgets/controls",
            "_model_module_version": "1.5.0",
            "_view_count": null,
            "_view_module_version": "1.5.0",
            "box_style": "",
            "layout": "IPY_MODEL_e2a08a3b28bb42388cc13a0979a03be5",
            "_model_module": "@jupyter-widgets/controls",
            "children": [
              "IPY_MODEL_4efde3bcec024a7f80dbee459c3961e8",
              "IPY_MODEL_7dae0908144b41a8a453c91e928304d4"
            ]
          }
        },
        "e2a08a3b28bb42388cc13a0979a03be5": {
          "model_module": "@jupyter-widgets/base",
          "model_name": "LayoutModel",
          "model_module_version": "1.2.0",
          "state": {
            "_view_name": "LayoutView",
            "grid_template_rows": null,
            "right": null,
            "justify_content": null,
            "_view_module": "@jupyter-widgets/base",
            "overflow": null,
            "_model_module_version": "1.2.0",
            "_view_count": null,
            "flex_flow": null,
            "width": null,
            "min_width": null,
            "border": null,
            "align_items": null,
            "bottom": null,
            "_model_module": "@jupyter-widgets/base",
            "top": null,
            "grid_column": null,
            "overflow_y": null,
            "overflow_x": null,
            "grid_auto_flow": null,
            "grid_area": null,
            "grid_template_columns": null,
            "flex": null,
            "_model_name": "LayoutModel",
            "justify_items": null,
            "grid_row": null,
            "max_height": null,
            "align_content": null,
            "visibility": null,
            "align_self": null,
            "height": null,
            "min_height": null,
            "padding": null,
            "grid_auto_rows": null,
            "grid_gap": null,
            "max_width": null,
            "order": null,
            "_view_module_version": "1.2.0",
            "grid_template_areas": null,
            "object_position": null,
            "object_fit": null,
            "grid_auto_columns": null,
            "margin": null,
            "display": null,
            "left": null
          }
        },
        "4efde3bcec024a7f80dbee459c3961e8": {
          "model_module": "@jupyter-widgets/controls",
          "model_name": "FloatProgressModel",
          "model_module_version": "1.5.0",
          "state": {
            "_view_name": "ProgressView",
            "style": "IPY_MODEL_99ab524c184749b7b81664a965bcf66a",
            "_dom_classes": [],
            "description": "Downloading: ",
            "_model_name": "FloatProgressModel",
            "bar_style": "success",
            "max": 1726,
            "_view_module": "@jupyter-widgets/controls",
            "_model_module_version": "1.5.0",
            "value": 1726,
            "_view_count": null,
            "_view_module_version": "1.5.0",
            "orientation": "horizontal",
            "min": 0,
            "description_tooltip": null,
            "_model_module": "@jupyter-widgets/controls",
            "layout": "IPY_MODEL_82cbdf95492a4272870f7d7d74e5bdbe"
          }
        },
        "7dae0908144b41a8a453c91e928304d4": {
          "model_module": "@jupyter-widgets/controls",
          "model_name": "HTMLModel",
          "model_module_version": "1.5.0",
          "state": {
            "_view_name": "HTMLView",
            "style": "IPY_MODEL_8c3c30a05c4c4c28a1b2e21dfc21779f",
            "_dom_classes": [],
            "description": "",
            "_model_name": "HTMLModel",
            "placeholder": "​",
            "_view_module": "@jupyter-widgets/controls",
            "_model_module_version": "1.5.0",
            "value": " 4.51k/? [00:01&lt;00:00, 4.51kB/s]",
            "_view_count": null,
            "_view_module_version": "1.5.0",
            "description_tooltip": null,
            "_model_module": "@jupyter-widgets/controls",
            "layout": "IPY_MODEL_9cdd9c30aebb4468a85910e3024a78c8"
          }
        },
        "99ab524c184749b7b81664a965bcf66a": {
          "model_module": "@jupyter-widgets/controls",
          "model_name": "ProgressStyleModel",
          "model_module_version": "1.5.0",
          "state": {
            "_view_name": "StyleView",
            "_model_name": "ProgressStyleModel",
            "description_width": "initial",
            "_view_module": "@jupyter-widgets/base",
            "_model_module_version": "1.5.0",
            "_view_count": null,
            "_view_module_version": "1.2.0",
            "bar_color": null,
            "_model_module": "@jupyter-widgets/controls"
          }
        },
        "82cbdf95492a4272870f7d7d74e5bdbe": {
          "model_module": "@jupyter-widgets/base",
          "model_name": "LayoutModel",
          "model_module_version": "1.2.0",
          "state": {
            "_view_name": "LayoutView",
            "grid_template_rows": null,
            "right": null,
            "justify_content": null,
            "_view_module": "@jupyter-widgets/base",
            "overflow": null,
            "_model_module_version": "1.2.0",
            "_view_count": null,
            "flex_flow": null,
            "width": null,
            "min_width": null,
            "border": null,
            "align_items": null,
            "bottom": null,
            "_model_module": "@jupyter-widgets/base",
            "top": null,
            "grid_column": null,
            "overflow_y": null,
            "overflow_x": null,
            "grid_auto_flow": null,
            "grid_area": null,
            "grid_template_columns": null,
            "flex": null,
            "_model_name": "LayoutModel",
            "justify_items": null,
            "grid_row": null,
            "max_height": null,
            "align_content": null,
            "visibility": null,
            "align_self": null,
            "height": null,
            "min_height": null,
            "padding": null,
            "grid_auto_rows": null,
            "grid_gap": null,
            "max_width": null,
            "order": null,
            "_view_module_version": "1.2.0",
            "grid_template_areas": null,
            "object_position": null,
            "object_fit": null,
            "grid_auto_columns": null,
            "margin": null,
            "display": null,
            "left": null
          }
        },
        "8c3c30a05c4c4c28a1b2e21dfc21779f": {
          "model_module": "@jupyter-widgets/controls",
          "model_name": "DescriptionStyleModel",
          "model_module_version": "1.5.0",
          "state": {
            "_view_name": "StyleView",
            "_model_name": "DescriptionStyleModel",
            "description_width": "",
            "_view_module": "@jupyter-widgets/base",
            "_model_module_version": "1.5.0",
            "_view_count": null,
            "_view_module_version": "1.2.0",
            "_model_module": "@jupyter-widgets/controls"
          }
        },
        "9cdd9c30aebb4468a85910e3024a78c8": {
          "model_module": "@jupyter-widgets/base",
          "model_name": "LayoutModel",
          "model_module_version": "1.2.0",
          "state": {
            "_view_name": "LayoutView",
            "grid_template_rows": null,
            "right": null,
            "justify_content": null,
            "_view_module": "@jupyter-widgets/base",
            "overflow": null,
            "_model_module_version": "1.2.0",
            "_view_count": null,
            "flex_flow": null,
            "width": null,
            "min_width": null,
            "border": null,
            "align_items": null,
            "bottom": null,
            "_model_module": "@jupyter-widgets/base",
            "top": null,
            "grid_column": null,
            "overflow_y": null,
            "overflow_x": null,
            "grid_auto_flow": null,
            "grid_area": null,
            "grid_template_columns": null,
            "flex": null,
            "_model_name": "LayoutModel",
            "justify_items": null,
            "grid_row": null,
            "max_height": null,
            "align_content": null,
            "visibility": null,
            "align_self": null,
            "height": null,
            "min_height": null,
            "padding": null,
            "grid_auto_rows": null,
            "grid_gap": null,
            "max_width": null,
            "order": null,
            "_view_module_version": "1.2.0",
            "grid_template_areas": null,
            "object_position": null,
            "object_fit": null,
            "grid_auto_columns": null,
            "margin": null,
            "display": null,
            "left": null
          }
        },
        "1b3742e50779455dab67a0190a8814bf": {
          "model_module": "@jupyter-widgets/controls",
          "model_name": "HBoxModel",
          "model_module_version": "1.5.0",
          "state": {
            "_view_name": "HBoxView",
            "_dom_classes": [],
            "_model_name": "HBoxModel",
            "_view_module": "@jupyter-widgets/controls",
            "_model_module_version": "1.5.0",
            "_view_count": null,
            "_view_module_version": "1.5.0",
            "box_style": "",
            "layout": "IPY_MODEL_adc09b74dfa04330aeb85ae138ab53fe",
            "_model_module": "@jupyter-widgets/controls",
            "children": [
              "IPY_MODEL_75e9fa0478a94ee1ac70bc7fa2ffe3e5",
              "IPY_MODEL_29603606d158479e89ec64b35bfc2267"
            ]
          }
        },
        "adc09b74dfa04330aeb85ae138ab53fe": {
          "model_module": "@jupyter-widgets/base",
          "model_name": "LayoutModel",
          "model_module_version": "1.2.0",
          "state": {
            "_view_name": "LayoutView",
            "grid_template_rows": null,
            "right": null,
            "justify_content": null,
            "_view_module": "@jupyter-widgets/base",
            "overflow": null,
            "_model_module_version": "1.2.0",
            "_view_count": null,
            "flex_flow": null,
            "width": null,
            "min_width": null,
            "border": null,
            "align_items": null,
            "bottom": null,
            "_model_module": "@jupyter-widgets/base",
            "top": null,
            "grid_column": null,
            "overflow_y": null,
            "overflow_x": null,
            "grid_auto_flow": null,
            "grid_area": null,
            "grid_template_columns": null,
            "flex": null,
            "_model_name": "LayoutModel",
            "justify_items": null,
            "grid_row": null,
            "max_height": null,
            "align_content": null,
            "visibility": null,
            "align_self": null,
            "height": null,
            "min_height": null,
            "padding": null,
            "grid_auto_rows": null,
            "grid_gap": null,
            "max_width": null,
            "order": null,
            "_view_module_version": "1.2.0",
            "grid_template_areas": null,
            "object_position": null,
            "object_fit": null,
            "grid_auto_columns": null,
            "margin": null,
            "display": null,
            "left": null
          }
        },
        "75e9fa0478a94ee1ac70bc7fa2ffe3e5": {
          "model_module": "@jupyter-widgets/controls",
          "model_name": "FloatProgressModel",
          "model_module_version": "1.5.0",
          "state": {
            "_view_name": "ProgressView",
            "style": "IPY_MODEL_a0c915c635394ce8a389d65f7b8553fd",
            "_dom_classes": [],
            "description": "Downloading: ",
            "_model_name": "FloatProgressModel",
            "bar_style": "success",
            "max": 1132,
            "_view_module": "@jupyter-widgets/controls",
            "_model_module_version": "1.5.0",
            "value": 1132,
            "_view_count": null,
            "_view_module_version": "1.5.0",
            "orientation": "horizontal",
            "min": 0,
            "description_tooltip": null,
            "_model_module": "@jupyter-widgets/controls",
            "layout": "IPY_MODEL_2ee64f8f28c44c6cad9105ad32b14cfe"
          }
        },
        "29603606d158479e89ec64b35bfc2267": {
          "model_module": "@jupyter-widgets/controls",
          "model_name": "HTMLModel",
          "model_module_version": "1.5.0",
          "state": {
            "_view_name": "HTMLView",
            "style": "IPY_MODEL_002e6d502934427bb46811c65d805444",
            "_dom_classes": [],
            "description": "",
            "_model_name": "HTMLModel",
            "placeholder": "​",
            "_view_module": "@jupyter-widgets/controls",
            "_model_module_version": "1.5.0",
            "value": " 3.35k/? [00:00&lt;00:00, 30.6kB/s]",
            "_view_count": null,
            "_view_module_version": "1.5.0",
            "description_tooltip": null,
            "_model_module": "@jupyter-widgets/controls",
            "layout": "IPY_MODEL_2bca3ae689c743e1afe32221b15145a4"
          }
        },
        "a0c915c635394ce8a389d65f7b8553fd": {
          "model_module": "@jupyter-widgets/controls",
          "model_name": "ProgressStyleModel",
          "model_module_version": "1.5.0",
          "state": {
            "_view_name": "StyleView",
            "_model_name": "ProgressStyleModel",
            "description_width": "initial",
            "_view_module": "@jupyter-widgets/base",
            "_model_module_version": "1.5.0",
            "_view_count": null,
            "_view_module_version": "1.2.0",
            "bar_color": null,
            "_model_module": "@jupyter-widgets/controls"
          }
        },
        "2ee64f8f28c44c6cad9105ad32b14cfe": {
          "model_module": "@jupyter-widgets/base",
          "model_name": "LayoutModel",
          "model_module_version": "1.2.0",
          "state": {
            "_view_name": "LayoutView",
            "grid_template_rows": null,
            "right": null,
            "justify_content": null,
            "_view_module": "@jupyter-widgets/base",
            "overflow": null,
            "_model_module_version": "1.2.0",
            "_view_count": null,
            "flex_flow": null,
            "width": null,
            "min_width": null,
            "border": null,
            "align_items": null,
            "bottom": null,
            "_model_module": "@jupyter-widgets/base",
            "top": null,
            "grid_column": null,
            "overflow_y": null,
            "overflow_x": null,
            "grid_auto_flow": null,
            "grid_area": null,
            "grid_template_columns": null,
            "flex": null,
            "_model_name": "LayoutModel",
            "justify_items": null,
            "grid_row": null,
            "max_height": null,
            "align_content": null,
            "visibility": null,
            "align_self": null,
            "height": null,
            "min_height": null,
            "padding": null,
            "grid_auto_rows": null,
            "grid_gap": null,
            "max_width": null,
            "order": null,
            "_view_module_version": "1.2.0",
            "grid_template_areas": null,
            "object_position": null,
            "object_fit": null,
            "grid_auto_columns": null,
            "margin": null,
            "display": null,
            "left": null
          }
        },
        "002e6d502934427bb46811c65d805444": {
          "model_module": "@jupyter-widgets/controls",
          "model_name": "DescriptionStyleModel",
          "model_module_version": "1.5.0",
          "state": {
            "_view_name": "StyleView",
            "_model_name": "DescriptionStyleModel",
            "description_width": "",
            "_view_module": "@jupyter-widgets/base",
            "_model_module_version": "1.5.0",
            "_view_count": null,
            "_view_module_version": "1.2.0",
            "_model_module": "@jupyter-widgets/controls"
          }
        },
        "2bca3ae689c743e1afe32221b15145a4": {
          "model_module": "@jupyter-widgets/base",
          "model_name": "LayoutModel",
          "model_module_version": "1.2.0",
          "state": {
            "_view_name": "LayoutView",
            "grid_template_rows": null,
            "right": null,
            "justify_content": null,
            "_view_module": "@jupyter-widgets/base",
            "overflow": null,
            "_model_module_version": "1.2.0",
            "_view_count": null,
            "flex_flow": null,
            "width": null,
            "min_width": null,
            "border": null,
            "align_items": null,
            "bottom": null,
            "_model_module": "@jupyter-widgets/base",
            "top": null,
            "grid_column": null,
            "overflow_y": null,
            "overflow_x": null,
            "grid_auto_flow": null,
            "grid_area": null,
            "grid_template_columns": null,
            "flex": null,
            "_model_name": "LayoutModel",
            "justify_items": null,
            "grid_row": null,
            "max_height": null,
            "align_content": null,
            "visibility": null,
            "align_self": null,
            "height": null,
            "min_height": null,
            "padding": null,
            "grid_auto_rows": null,
            "grid_gap": null,
            "max_width": null,
            "order": null,
            "_view_module_version": "1.2.0",
            "grid_template_areas": null,
            "object_position": null,
            "object_fit": null,
            "grid_auto_columns": null,
            "margin": null,
            "display": null,
            "left": null
          }
        },
        "54fbae8668ca41ca99a3c3d349413d17": {
          "model_module": "@jupyter-widgets/controls",
          "model_name": "HBoxModel",
          "model_module_version": "1.5.0",
          "state": {
            "_dom_classes": [],
            "_model_module": "@jupyter-widgets/controls",
            "_model_module_version": "1.5.0",
            "_model_name": "HBoxModel",
            "_view_count": null,
            "_view_module": "@jupyter-widgets/controls",
            "_view_module_version": "1.5.0",
            "_view_name": "HBoxView",
            "box_style": "",
            "children": [
              "IPY_MODEL_0aa32391d2e1410194c8e4a3a32c3d6e",
              "IPY_MODEL_83635b6cb6cc4fc6b03e7f21622b7b04"
            ],
            "layout": "IPY_MODEL_bd29eb64703a48de928afa6e7c227ac9"
          }
        },
        "0aa32391d2e1410194c8e4a3a32c3d6e": {
          "model_module": "@jupyter-widgets/controls",
          "model_name": "FloatProgressModel",
          "model_module_version": "1.5.0",
          "state": {
            "_dom_classes": [],
            "_model_module": "@jupyter-widgets/controls",
            "_model_module_version": "1.5.0",
            "_model_name": "FloatProgressModel",
            "_view_count": null,
            "_view_module": "@jupyter-widgets/controls",
            "_view_module_version": "1.5.0",
            "_view_name": "ProgressView",
            "bar_style": "success",
            "description": "Downloading: 100%",
            "description_tooltip": null,
            "layout": "IPY_MODEL_18b7583d91d54e3eaa85346ce0a68d78",
            "max": 553,
            "min": 0,
            "orientation": "horizontal",
            "style": "IPY_MODEL_68cc37fc65d345039494197c7cd00c77",
            "value": 553
          }
        },
        "83635b6cb6cc4fc6b03e7f21622b7b04": {
          "model_module": "@jupyter-widgets/controls",
          "model_name": "HTMLModel",
          "model_module_version": "1.5.0",
          "state": {
            "_dom_classes": [],
            "_model_module": "@jupyter-widgets/controls",
            "_model_module_version": "1.5.0",
            "_model_name": "HTMLModel",
            "_view_count": null,
            "_view_module": "@jupyter-widgets/controls",
            "_view_module_version": "1.5.0",
            "_view_name": "HTMLView",
            "description": "",
            "description_tooltip": null,
            "layout": "IPY_MODEL_d1062453729f4777be0a97e06b8a6471",
            "placeholder": "​",
            "style": "IPY_MODEL_6034e0a3f8584ec9b2cca7464b5df8cc",
            "value": " 553/553 [00:02&lt;00:00, 257B/s]"
          }
        },
        "bd29eb64703a48de928afa6e7c227ac9": {
          "model_module": "@jupyter-widgets/base",
          "model_name": "LayoutModel",
          "model_module_version": "1.2.0",
          "state": {
            "_model_module": "@jupyter-widgets/base",
            "_model_module_version": "1.2.0",
            "_model_name": "LayoutModel",
            "_view_count": null,
            "_view_module": "@jupyter-widgets/base",
            "_view_module_version": "1.2.0",
            "_view_name": "LayoutView",
            "align_content": null,
            "align_items": null,
            "align_self": null,
            "border": null,
            "bottom": null,
            "display": null,
            "flex": null,
            "flex_flow": null,
            "grid_area": null,
            "grid_auto_columns": null,
            "grid_auto_flow": null,
            "grid_auto_rows": null,
            "grid_column": null,
            "grid_gap": null,
            "grid_row": null,
            "grid_template_areas": null,
            "grid_template_columns": null,
            "grid_template_rows": null,
            "height": null,
            "justify_content": null,
            "justify_items": null,
            "left": null,
            "margin": null,
            "max_height": null,
            "max_width": null,
            "min_height": null,
            "min_width": null,
            "object_fit": null,
            "object_position": null,
            "order": null,
            "overflow": null,
            "overflow_x": null,
            "overflow_y": null,
            "padding": null,
            "right": null,
            "top": null,
            "visibility": null,
            "width": null
          }
        },
        "18b7583d91d54e3eaa85346ce0a68d78": {
          "model_module": "@jupyter-widgets/base",
          "model_name": "LayoutModel",
          "model_module_version": "1.2.0",
          "state": {
            "_model_module": "@jupyter-widgets/base",
            "_model_module_version": "1.2.0",
            "_model_name": "LayoutModel",
            "_view_count": null,
            "_view_module": "@jupyter-widgets/base",
            "_view_module_version": "1.2.0",
            "_view_name": "LayoutView",
            "align_content": null,
            "align_items": null,
            "align_self": null,
            "border": null,
            "bottom": null,
            "display": null,
            "flex": null,
            "flex_flow": null,
            "grid_area": null,
            "grid_auto_columns": null,
            "grid_auto_flow": null,
            "grid_auto_rows": null,
            "grid_column": null,
            "grid_gap": null,
            "grid_row": null,
            "grid_template_areas": null,
            "grid_template_columns": null,
            "grid_template_rows": null,
            "height": null,
            "justify_content": null,
            "justify_items": null,
            "left": null,
            "margin": null,
            "max_height": null,
            "max_width": null,
            "min_height": null,
            "min_width": null,
            "object_fit": null,
            "object_position": null,
            "order": null,
            "overflow": null,
            "overflow_x": null,
            "overflow_y": null,
            "padding": null,
            "right": null,
            "top": null,
            "visibility": null,
            "width": null
          }
        },
        "68cc37fc65d345039494197c7cd00c77": {
          "model_module": "@jupyter-widgets/controls",
          "model_name": "ProgressStyleModel",
          "model_module_version": "1.5.0",
          "state": {
            "_model_module": "@jupyter-widgets/controls",
            "_model_module_version": "1.5.0",
            "_model_name": "ProgressStyleModel",
            "_view_count": null,
            "_view_module": "@jupyter-widgets/base",
            "_view_module_version": "1.2.0",
            "_view_name": "StyleView",
            "bar_color": null,
            "description_width": "initial"
          }
        },
        "d1062453729f4777be0a97e06b8a6471": {
          "model_module": "@jupyter-widgets/base",
          "model_name": "LayoutModel",
          "model_module_version": "1.2.0",
          "state": {
            "_model_module": "@jupyter-widgets/base",
            "_model_module_version": "1.2.0",
            "_model_name": "LayoutModel",
            "_view_count": null,
            "_view_module": "@jupyter-widgets/base",
            "_view_module_version": "1.2.0",
            "_view_name": "LayoutView",
            "align_content": null,
            "align_items": null,
            "align_self": null,
            "border": null,
            "bottom": null,
            "display": null,
            "flex": null,
            "flex_flow": null,
            "grid_area": null,
            "grid_auto_columns": null,
            "grid_auto_flow": null,
            "grid_auto_rows": null,
            "grid_column": null,
            "grid_gap": null,
            "grid_row": null,
            "grid_template_areas": null,
            "grid_template_columns": null,
            "grid_template_rows": null,
            "height": null,
            "justify_content": null,
            "justify_items": null,
            "left": null,
            "margin": null,
            "max_height": null,
            "max_width": null,
            "min_height": null,
            "min_width": null,
            "object_fit": null,
            "object_position": null,
            "order": null,
            "overflow": null,
            "overflow_x": null,
            "overflow_y": null,
            "padding": null,
            "right": null,
            "top": null,
            "visibility": null,
            "width": null
          }
        },
        "6034e0a3f8584ec9b2cca7464b5df8cc": {
          "model_module": "@jupyter-widgets/controls",
          "model_name": "DescriptionStyleModel",
          "model_module_version": "1.5.0",
          "state": {
            "_model_module": "@jupyter-widgets/controls",
            "_model_module_version": "1.5.0",
            "_model_name": "DescriptionStyleModel",
            "_view_count": null,
            "_view_module": "@jupyter-widgets/base",
            "_view_module_version": "1.2.0",
            "_view_name": "StyleView",
            "description_width": ""
          }
        },
        "c72717f3a955463ebb0db0da5186e4cd": {
          "model_module": "@jupyter-widgets/controls",
          "model_name": "HBoxModel",
          "model_module_version": "1.5.0",
          "state": {
            "_dom_classes": [],
            "_model_module": "@jupyter-widgets/controls",
            "_model_module_version": "1.5.0",
            "_model_name": "HBoxModel",
            "_view_count": null,
            "_view_module": "@jupyter-widgets/controls",
            "_view_module_version": "1.5.0",
            "_view_name": "HBoxView",
            "box_style": "",
            "children": [
              "IPY_MODEL_bef5c628ffee4a49b8996b0764653c91",
              "IPY_MODEL_1055462f4a334054b28ac80429a34389"
            ],
            "layout": "IPY_MODEL_94d7c6e33f8d4e1dbee167f1a2cb7365"
          }
        },
        "bef5c628ffee4a49b8996b0764653c91": {
          "model_module": "@jupyter-widgets/controls",
          "model_name": "FloatProgressModel",
          "model_module_version": "1.5.0",
          "state": {
            "_dom_classes": [],
            "_model_module": "@jupyter-widgets/controls",
            "_model_module_version": "1.5.0",
            "_model_name": "FloatProgressModel",
            "_view_count": null,
            "_view_module": "@jupyter-widgets/controls",
            "_view_module_version": "1.5.0",
            "_view_name": "ProgressView",
            "bar_style": "success",
            "description": "Downloading: 100%",
            "description_tooltip": null,
            "layout": "IPY_MODEL_692c81623dc1461388225416fcf476c1",
            "max": 4309802,
            "min": 0,
            "orientation": "horizontal",
            "style": "IPY_MODEL_c521eb12efb94bca8feea5f06048c9ee",
            "value": 4309802
          }
        },
        "1055462f4a334054b28ac80429a34389": {
          "model_module": "@jupyter-widgets/controls",
          "model_name": "HTMLModel",
          "model_module_version": "1.5.0",
          "state": {
            "_dom_classes": [],
            "_model_module": "@jupyter-widgets/controls",
            "_model_module_version": "1.5.0",
            "_model_name": "HTMLModel",
            "_view_count": null,
            "_view_module": "@jupyter-widgets/controls",
            "_view_module_version": "1.5.0",
            "_view_name": "HTMLView",
            "description": "",
            "description_tooltip": null,
            "layout": "IPY_MODEL_ad8eab20c8904beca7f569298b70bc41",
            "placeholder": "​",
            "style": "IPY_MODEL_cea3281d301b4bdd88b30c3f4dfc558c",
            "value": " 4.31M/4.31M [00:06&lt;00:00, 658kB/s]"
          }
        },
        "94d7c6e33f8d4e1dbee167f1a2cb7365": {
          "model_module": "@jupyter-widgets/base",
          "model_name": "LayoutModel",
          "model_module_version": "1.2.0",
          "state": {
            "_model_module": "@jupyter-widgets/base",
            "_model_module_version": "1.2.0",
            "_model_name": "LayoutModel",
            "_view_count": null,
            "_view_module": "@jupyter-widgets/base",
            "_view_module_version": "1.2.0",
            "_view_name": "LayoutView",
            "align_content": null,
            "align_items": null,
            "align_self": null,
            "border": null,
            "bottom": null,
            "display": null,
            "flex": null,
            "flex_flow": null,
            "grid_area": null,
            "grid_auto_columns": null,
            "grid_auto_flow": null,
            "grid_auto_rows": null,
            "grid_column": null,
            "grid_gap": null,
            "grid_row": null,
            "grid_template_areas": null,
            "grid_template_columns": null,
            "grid_template_rows": null,
            "height": null,
            "justify_content": null,
            "justify_items": null,
            "left": null,
            "margin": null,
            "max_height": null,
            "max_width": null,
            "min_height": null,
            "min_width": null,
            "object_fit": null,
            "object_position": null,
            "order": null,
            "overflow": null,
            "overflow_x": null,
            "overflow_y": null,
            "padding": null,
            "right": null,
            "top": null,
            "visibility": null,
            "width": null
          }
        },
        "692c81623dc1461388225416fcf476c1": {
          "model_module": "@jupyter-widgets/base",
          "model_name": "LayoutModel",
          "model_module_version": "1.2.0",
          "state": {
            "_model_module": "@jupyter-widgets/base",
            "_model_module_version": "1.2.0",
            "_model_name": "LayoutModel",
            "_view_count": null,
            "_view_module": "@jupyter-widgets/base",
            "_view_module_version": "1.2.0",
            "_view_name": "LayoutView",
            "align_content": null,
            "align_items": null,
            "align_self": null,
            "border": null,
            "bottom": null,
            "display": null,
            "flex": null,
            "flex_flow": null,
            "grid_area": null,
            "grid_auto_columns": null,
            "grid_auto_flow": null,
            "grid_auto_rows": null,
            "grid_column": null,
            "grid_gap": null,
            "grid_row": null,
            "grid_template_areas": null,
            "grid_template_columns": null,
            "grid_template_rows": null,
            "height": null,
            "justify_content": null,
            "justify_items": null,
            "left": null,
            "margin": null,
            "max_height": null,
            "max_width": null,
            "min_height": null,
            "min_width": null,
            "object_fit": null,
            "object_position": null,
            "order": null,
            "overflow": null,
            "overflow_x": null,
            "overflow_y": null,
            "padding": null,
            "right": null,
            "top": null,
            "visibility": null,
            "width": null
          }
        },
        "c521eb12efb94bca8feea5f06048c9ee": {
          "model_module": "@jupyter-widgets/controls",
          "model_name": "ProgressStyleModel",
          "model_module_version": "1.5.0",
          "state": {
            "_model_module": "@jupyter-widgets/controls",
            "_model_module_version": "1.5.0",
            "_model_name": "ProgressStyleModel",
            "_view_count": null,
            "_view_module": "@jupyter-widgets/base",
            "_view_module_version": "1.2.0",
            "_view_name": "StyleView",
            "bar_color": null,
            "description_width": "initial"
          }
        },
        "ad8eab20c8904beca7f569298b70bc41": {
          "model_module": "@jupyter-widgets/base",
          "model_name": "LayoutModel",
          "model_module_version": "1.2.0",
          "state": {
            "_model_module": "@jupyter-widgets/base",
            "_model_module_version": "1.2.0",
            "_model_name": "LayoutModel",
            "_view_count": null,
            "_view_module": "@jupyter-widgets/base",
            "_view_module_version": "1.2.0",
            "_view_name": "LayoutView",
            "align_content": null,
            "align_items": null,
            "align_self": null,
            "border": null,
            "bottom": null,
            "display": null,
            "flex": null,
            "flex_flow": null,
            "grid_area": null,
            "grid_auto_columns": null,
            "grid_auto_flow": null,
            "grid_auto_rows": null,
            "grid_column": null,
            "grid_gap": null,
            "grid_row": null,
            "grid_template_areas": null,
            "grid_template_columns": null,
            "grid_template_rows": null,
            "height": null,
            "justify_content": null,
            "justify_items": null,
            "left": null,
            "margin": null,
            "max_height": null,
            "max_width": null,
            "min_height": null,
            "min_width": null,
            "object_fit": null,
            "object_position": null,
            "order": null,
            "overflow": null,
            "overflow_x": null,
            "overflow_y": null,
            "padding": null,
            "right": null,
            "top": null,
            "visibility": null,
            "width": null
          }
        },
        "cea3281d301b4bdd88b30c3f4dfc558c": {
          "model_module": "@jupyter-widgets/controls",
          "model_name": "DescriptionStyleModel",
          "model_module_version": "1.5.0",
          "state": {
            "_model_module": "@jupyter-widgets/controls",
            "_model_module_version": "1.5.0",
            "_model_name": "DescriptionStyleModel",
            "_view_count": null,
            "_view_module": "@jupyter-widgets/base",
            "_view_module_version": "1.2.0",
            "_view_name": "StyleView",
            "description_width": ""
          }
        },
        "cc5c1cc2f21445098d3729ea3459fb73": {
          "model_module": "@jupyter-widgets/controls",
          "model_name": "HBoxModel",
          "model_module_version": "1.5.0",
          "state": {
            "_dom_classes": [],
            "_model_module": "@jupyter-widgets/controls",
            "_model_module_version": "1.5.0",
            "_model_name": "HBoxModel",
            "_view_count": null,
            "_view_module": "@jupyter-widgets/controls",
            "_view_module_version": "1.5.0",
            "_view_name": "HBoxView",
            "box_style": "",
            "children": [
              "IPY_MODEL_f7672a8dc3de482ab7a82937a26b5e5f",
              "IPY_MODEL_47c13f8fedfb4db6a9a67259f4589e69"
            ],
            "layout": "IPY_MODEL_cd8d9074404243eebd5726f5497d7db3"
          }
        },
        "f7672a8dc3de482ab7a82937a26b5e5f": {
          "model_module": "@jupyter-widgets/controls",
          "model_name": "FloatProgressModel",
          "model_module_version": "1.5.0",
          "state": {
            "_dom_classes": [],
            "_model_module": "@jupyter-widgets/controls",
            "_model_module_version": "1.5.0",
            "_model_name": "FloatProgressModel",
            "_view_count": null,
            "_view_module": "@jupyter-widgets/controls",
            "_view_module_version": "1.5.0",
            "_view_name": "ProgressView",
            "bar_style": "success",
            "description": "Downloading: 100%",
            "description_tooltip": null,
            "layout": "IPY_MODEL_a4d4c12767f14b33ad2ff16b9e86fed2",
            "max": 99,
            "min": 0,
            "orientation": "horizontal",
            "style": "IPY_MODEL_522ffe1834ca40739e97dc9f870a652c",
            "value": 99
          }
        },
        "47c13f8fedfb4db6a9a67259f4589e69": {
          "model_module": "@jupyter-widgets/controls",
          "model_name": "HTMLModel",
          "model_module_version": "1.5.0",
          "state": {
            "_dom_classes": [],
            "_model_module": "@jupyter-widgets/controls",
            "_model_module_version": "1.5.0",
            "_model_name": "HTMLModel",
            "_view_count": null,
            "_view_module": "@jupyter-widgets/controls",
            "_view_module_version": "1.5.0",
            "_view_name": "HTMLView",
            "description": "",
            "description_tooltip": null,
            "layout": "IPY_MODEL_69602224da574ff58560587a29056fa8",
            "placeholder": "​",
            "style": "IPY_MODEL_a533332f9f00467c878b26f6f5b29c67",
            "value": " 99.0/99.0 [00:02&lt;00:00, 47.6B/s]"
          }
        },
        "cd8d9074404243eebd5726f5497d7db3": {
          "model_module": "@jupyter-widgets/base",
          "model_name": "LayoutModel",
          "model_module_version": "1.2.0",
          "state": {
            "_model_module": "@jupyter-widgets/base",
            "_model_module_version": "1.2.0",
            "_model_name": "LayoutModel",
            "_view_count": null,
            "_view_module": "@jupyter-widgets/base",
            "_view_module_version": "1.2.0",
            "_view_name": "LayoutView",
            "align_content": null,
            "align_items": null,
            "align_self": null,
            "border": null,
            "bottom": null,
            "display": null,
            "flex": null,
            "flex_flow": null,
            "grid_area": null,
            "grid_auto_columns": null,
            "grid_auto_flow": null,
            "grid_auto_rows": null,
            "grid_column": null,
            "grid_gap": null,
            "grid_row": null,
            "grid_template_areas": null,
            "grid_template_columns": null,
            "grid_template_rows": null,
            "height": null,
            "justify_content": null,
            "justify_items": null,
            "left": null,
            "margin": null,
            "max_height": null,
            "max_width": null,
            "min_height": null,
            "min_width": null,
            "object_fit": null,
            "object_position": null,
            "order": null,
            "overflow": null,
            "overflow_x": null,
            "overflow_y": null,
            "padding": null,
            "right": null,
            "top": null,
            "visibility": null,
            "width": null
          }
        },
        "a4d4c12767f14b33ad2ff16b9e86fed2": {
          "model_module": "@jupyter-widgets/base",
          "model_name": "LayoutModel",
          "model_module_version": "1.2.0",
          "state": {
            "_model_module": "@jupyter-widgets/base",
            "_model_module_version": "1.2.0",
            "_model_name": "LayoutModel",
            "_view_count": null,
            "_view_module": "@jupyter-widgets/base",
            "_view_module_version": "1.2.0",
            "_view_name": "LayoutView",
            "align_content": null,
            "align_items": null,
            "align_self": null,
            "border": null,
            "bottom": null,
            "display": null,
            "flex": null,
            "flex_flow": null,
            "grid_area": null,
            "grid_auto_columns": null,
            "grid_auto_flow": null,
            "grid_auto_rows": null,
            "grid_column": null,
            "grid_gap": null,
            "grid_row": null,
            "grid_template_areas": null,
            "grid_template_columns": null,
            "grid_template_rows": null,
            "height": null,
            "justify_content": null,
            "justify_items": null,
            "left": null,
            "margin": null,
            "max_height": null,
            "max_width": null,
            "min_height": null,
            "min_width": null,
            "object_fit": null,
            "object_position": null,
            "order": null,
            "overflow": null,
            "overflow_x": null,
            "overflow_y": null,
            "padding": null,
            "right": null,
            "top": null,
            "visibility": null,
            "width": null
          }
        },
        "522ffe1834ca40739e97dc9f870a652c": {
          "model_module": "@jupyter-widgets/controls",
          "model_name": "ProgressStyleModel",
          "model_module_version": "1.5.0",
          "state": {
            "_model_module": "@jupyter-widgets/controls",
            "_model_module_version": "1.5.0",
            "_model_name": "ProgressStyleModel",
            "_view_count": null,
            "_view_module": "@jupyter-widgets/base",
            "_view_module_version": "1.2.0",
            "_view_name": "StyleView",
            "bar_color": null,
            "description_width": "initial"
          }
        },
        "69602224da574ff58560587a29056fa8": {
          "model_module": "@jupyter-widgets/base",
          "model_name": "LayoutModel",
          "model_module_version": "1.2.0",
          "state": {
            "_model_module": "@jupyter-widgets/base",
            "_model_module_version": "1.2.0",
            "_model_name": "LayoutModel",
            "_view_count": null,
            "_view_module": "@jupyter-widgets/base",
            "_view_module_version": "1.2.0",
            "_view_name": "LayoutView",
            "align_content": null,
            "align_items": null,
            "align_self": null,
            "border": null,
            "bottom": null,
            "display": null,
            "flex": null,
            "flex_flow": null,
            "grid_area": null,
            "grid_auto_columns": null,
            "grid_auto_flow": null,
            "grid_auto_rows": null,
            "grid_column": null,
            "grid_gap": null,
            "grid_row": null,
            "grid_template_areas": null,
            "grid_template_columns": null,
            "grid_template_rows": null,
            "height": null,
            "justify_content": null,
            "justify_items": null,
            "left": null,
            "margin": null,
            "max_height": null,
            "max_width": null,
            "min_height": null,
            "min_width": null,
            "object_fit": null,
            "object_position": null,
            "order": null,
            "overflow": null,
            "overflow_x": null,
            "overflow_y": null,
            "padding": null,
            "right": null,
            "top": null,
            "visibility": null,
            "width": null
          }
        },
        "a533332f9f00467c878b26f6f5b29c67": {
          "model_module": "@jupyter-widgets/controls",
          "model_name": "DescriptionStyleModel",
          "model_module_version": "1.5.0",
          "state": {
            "_model_module": "@jupyter-widgets/controls",
            "_model_module_version": "1.5.0",
            "_model_name": "DescriptionStyleModel",
            "_view_count": null,
            "_view_module": "@jupyter-widgets/base",
            "_view_module_version": "1.2.0",
            "_view_name": "StyleView",
            "description_width": ""
          }
        },
        "b8f83c123dfb45d698ba3c507d278bb1": {
          "model_module": "@jupyter-widgets/controls",
          "model_name": "HBoxModel",
          "model_module_version": "1.5.0",
          "state": {
            "_dom_classes": [],
            "_model_module": "@jupyter-widgets/controls",
            "_model_module_version": "1.5.0",
            "_model_name": "HBoxModel",
            "_view_count": null,
            "_view_module": "@jupyter-widgets/controls",
            "_view_module_version": "1.5.0",
            "_view_name": "HBoxView",
            "box_style": "",
            "children": [
              "IPY_MODEL_2366446fbf1d41cb99799b0e37e9a3a5",
              "IPY_MODEL_84bb888828d54b769b549319c882c995"
            ],
            "layout": "IPY_MODEL_399b39d2c631462a9a21e8b3ff5b5ec0"
          }
        },
        "2366446fbf1d41cb99799b0e37e9a3a5": {
          "model_module": "@jupyter-widgets/controls",
          "model_name": "FloatProgressModel",
          "model_module_version": "1.5.0",
          "state": {
            "_dom_classes": [],
            "_model_module": "@jupyter-widgets/controls",
            "_model_module_version": "1.5.0",
            "_model_name": "FloatProgressModel",
            "_view_count": null,
            "_view_module": "@jupyter-widgets/controls",
            "_view_module_version": "1.5.0",
            "_view_name": "ProgressView",
            "bar_style": "success",
            "description": "Downloading: 100%",
            "description_tooltip": null,
            "layout": "IPY_MODEL_acdd8f173368499cafd7b733bb30a694",
            "max": 82,
            "min": 0,
            "orientation": "horizontal",
            "style": "IPY_MODEL_f1687be77d6d4c42935a8091ec4b67ff",
            "value": 82
          }
        },
        "84bb888828d54b769b549319c882c995": {
          "model_module": "@jupyter-widgets/controls",
          "model_name": "HTMLModel",
          "model_module_version": "1.5.0",
          "state": {
            "_dom_classes": [],
            "_model_module": "@jupyter-widgets/controls",
            "_model_module_version": "1.5.0",
            "_model_name": "HTMLModel",
            "_view_count": null,
            "_view_module": "@jupyter-widgets/controls",
            "_view_module_version": "1.5.0",
            "_view_name": "HTMLView",
            "description": "",
            "description_tooltip": null,
            "layout": "IPY_MODEL_3ac25d07aa6941d1a071c231d7d79a96",
            "placeholder": "​",
            "style": "IPY_MODEL_6917439a6ae649c08e59699464891da3",
            "value": " 82.0/82.0 [00:00&lt;00:00, 155B/s]"
          }
        },
        "399b39d2c631462a9a21e8b3ff5b5ec0": {
          "model_module": "@jupyter-widgets/base",
          "model_name": "LayoutModel",
          "model_module_version": "1.2.0",
          "state": {
            "_model_module": "@jupyter-widgets/base",
            "_model_module_version": "1.2.0",
            "_model_name": "LayoutModel",
            "_view_count": null,
            "_view_module": "@jupyter-widgets/base",
            "_view_module_version": "1.2.0",
            "_view_name": "LayoutView",
            "align_content": null,
            "align_items": null,
            "align_self": null,
            "border": null,
            "bottom": null,
            "display": null,
            "flex": null,
            "flex_flow": null,
            "grid_area": null,
            "grid_auto_columns": null,
            "grid_auto_flow": null,
            "grid_auto_rows": null,
            "grid_column": null,
            "grid_gap": null,
            "grid_row": null,
            "grid_template_areas": null,
            "grid_template_columns": null,
            "grid_template_rows": null,
            "height": null,
            "justify_content": null,
            "justify_items": null,
            "left": null,
            "margin": null,
            "max_height": null,
            "max_width": null,
            "min_height": null,
            "min_width": null,
            "object_fit": null,
            "object_position": null,
            "order": null,
            "overflow": null,
            "overflow_x": null,
            "overflow_y": null,
            "padding": null,
            "right": null,
            "top": null,
            "visibility": null,
            "width": null
          }
        },
        "acdd8f173368499cafd7b733bb30a694": {
          "model_module": "@jupyter-widgets/base",
          "model_name": "LayoutModel",
          "model_module_version": "1.2.0",
          "state": {
            "_model_module": "@jupyter-widgets/base",
            "_model_module_version": "1.2.0",
            "_model_name": "LayoutModel",
            "_view_count": null,
            "_view_module": "@jupyter-widgets/base",
            "_view_module_version": "1.2.0",
            "_view_name": "LayoutView",
            "align_content": null,
            "align_items": null,
            "align_self": null,
            "border": null,
            "bottom": null,
            "display": null,
            "flex": null,
            "flex_flow": null,
            "grid_area": null,
            "grid_auto_columns": null,
            "grid_auto_flow": null,
            "grid_auto_rows": null,
            "grid_column": null,
            "grid_gap": null,
            "grid_row": null,
            "grid_template_areas": null,
            "grid_template_columns": null,
            "grid_template_rows": null,
            "height": null,
            "justify_content": null,
            "justify_items": null,
            "left": null,
            "margin": null,
            "max_height": null,
            "max_width": null,
            "min_height": null,
            "min_width": null,
            "object_fit": null,
            "object_position": null,
            "order": null,
            "overflow": null,
            "overflow_x": null,
            "overflow_y": null,
            "padding": null,
            "right": null,
            "top": null,
            "visibility": null,
            "width": null
          }
        },
        "f1687be77d6d4c42935a8091ec4b67ff": {
          "model_module": "@jupyter-widgets/controls",
          "model_name": "ProgressStyleModel",
          "model_module_version": "1.5.0",
          "state": {
            "_model_module": "@jupyter-widgets/controls",
            "_model_module_version": "1.5.0",
            "_model_name": "ProgressStyleModel",
            "_view_count": null,
            "_view_module": "@jupyter-widgets/base",
            "_view_module_version": "1.2.0",
            "_view_name": "StyleView",
            "bar_color": null,
            "description_width": "initial"
          }
        },
        "3ac25d07aa6941d1a071c231d7d79a96": {
          "model_module": "@jupyter-widgets/base",
          "model_name": "LayoutModel",
          "model_module_version": "1.2.0",
          "state": {
            "_model_module": "@jupyter-widgets/base",
            "_model_module_version": "1.2.0",
            "_model_name": "LayoutModel",
            "_view_count": null,
            "_view_module": "@jupyter-widgets/base",
            "_view_module_version": "1.2.0",
            "_view_name": "LayoutView",
            "align_content": null,
            "align_items": null,
            "align_self": null,
            "border": null,
            "bottom": null,
            "display": null,
            "flex": null,
            "flex_flow": null,
            "grid_area": null,
            "grid_auto_columns": null,
            "grid_auto_flow": null,
            "grid_auto_rows": null,
            "grid_column": null,
            "grid_gap": null,
            "grid_row": null,
            "grid_template_areas": null,
            "grid_template_columns": null,
            "grid_template_rows": null,
            "height": null,
            "justify_content": null,
            "justify_items": null,
            "left": null,
            "margin": null,
            "max_height": null,
            "max_width": null,
            "min_height": null,
            "min_width": null,
            "object_fit": null,
            "object_position": null,
            "order": null,
            "overflow": null,
            "overflow_x": null,
            "overflow_y": null,
            "padding": null,
            "right": null,
            "top": null,
            "visibility": null,
            "width": null
          }
        },
        "6917439a6ae649c08e59699464891da3": {
          "model_module": "@jupyter-widgets/controls",
          "model_name": "DescriptionStyleModel",
          "model_module_version": "1.5.0",
          "state": {
            "_model_module": "@jupyter-widgets/controls",
            "_model_module_version": "1.5.0",
            "_model_name": "DescriptionStyleModel",
            "_view_count": null,
            "_view_module": "@jupyter-widgets/base",
            "_view_module_version": "1.2.0",
            "_view_name": "StyleView",
            "description_width": ""
          }
        },
        "9f462d6a73e24282a7ed010b8ee0d221": {
          "model_module": "@jupyter-widgets/controls",
          "model_name": "HBoxModel",
          "model_module_version": "1.5.0",
          "state": {
            "_dom_classes": [],
            "_model_module": "@jupyter-widgets/controls",
            "_model_module_version": "1.5.0",
            "_model_name": "HBoxModel",
            "_view_count": null,
            "_view_module": "@jupyter-widgets/controls",
            "_view_module_version": "1.5.0",
            "_view_name": "HBoxView",
            "box_style": "",
            "children": [
              "IPY_MODEL_f117e4092f80489fb801c825b997a36c",
              "IPY_MODEL_e4deeeae181741cba993d44de6df9898"
            ],
            "layout": "IPY_MODEL_5f436c428ca141d4ba041f7efd2509e1"
          }
        },
        "f117e4092f80489fb801c825b997a36c": {
          "model_module": "@jupyter-widgets/controls",
          "model_name": "FloatProgressModel",
          "model_module_version": "1.5.0",
          "state": {
            "_dom_classes": [],
            "_model_module": "@jupyter-widgets/controls",
            "_model_module_version": "1.5.0",
            "_model_name": "FloatProgressModel",
            "_view_count": null,
            "_view_module": "@jupyter-widgets/controls",
            "_view_module_version": "1.5.0",
            "_view_name": "ProgressView",
            "bar_style": "",
            "description": "Downloading:  37%",
            "description_tooltip": null,
            "layout": "IPY_MODEL_f132007fa74d4ac19610ac7ec89c1059",
            "max": 1200794589,
            "min": 0,
            "orientation": "horizontal",
            "style": "IPY_MODEL_66f6680d0bdb459b9db5f561814c2afb",
            "value": 444364800
          }
        },
        "e4deeeae181741cba993d44de6df9898": {
          "model_module": "@jupyter-widgets/controls",
          "model_name": "HTMLModel",
          "model_module_version": "1.5.0",
          "state": {
            "_dom_classes": [],
            "_model_module": "@jupyter-widgets/controls",
            "_model_module_version": "1.5.0",
            "_model_name": "HTMLModel",
            "_view_count": null,
            "_view_module": "@jupyter-widgets/controls",
            "_view_module_version": "1.5.0",
            "_view_name": "HTMLView",
            "description": "",
            "description_tooltip": null,
            "layout": "IPY_MODEL_35f8de5a40dd443a8b0b98eeaa42337e",
            "placeholder": "​",
            "style": "IPY_MODEL_6e94aa412bf44d588decda38561114ba",
            "value": " 444M/1.20G [00:13&lt;00:22, 33.1MB/s]"
          }
        },
        "5f436c428ca141d4ba041f7efd2509e1": {
          "model_module": "@jupyter-widgets/base",
          "model_name": "LayoutModel",
          "model_module_version": "1.2.0",
          "state": {
            "_model_module": "@jupyter-widgets/base",
            "_model_module_version": "1.2.0",
            "_model_name": "LayoutModel",
            "_view_count": null,
            "_view_module": "@jupyter-widgets/base",
            "_view_module_version": "1.2.0",
            "_view_name": "LayoutView",
            "align_content": null,
            "align_items": null,
            "align_self": null,
            "border": null,
            "bottom": null,
            "display": null,
            "flex": null,
            "flex_flow": null,
            "grid_area": null,
            "grid_auto_columns": null,
            "grid_auto_flow": null,
            "grid_auto_rows": null,
            "grid_column": null,
            "grid_gap": null,
            "grid_row": null,
            "grid_template_areas": null,
            "grid_template_columns": null,
            "grid_template_rows": null,
            "height": null,
            "justify_content": null,
            "justify_items": null,
            "left": null,
            "margin": null,
            "max_height": null,
            "max_width": null,
            "min_height": null,
            "min_width": null,
            "object_fit": null,
            "object_position": null,
            "order": null,
            "overflow": null,
            "overflow_x": null,
            "overflow_y": null,
            "padding": null,
            "right": null,
            "top": null,
            "visibility": null,
            "width": null
          }
        },
        "f132007fa74d4ac19610ac7ec89c1059": {
          "model_module": "@jupyter-widgets/base",
          "model_name": "LayoutModel",
          "model_module_version": "1.2.0",
          "state": {
            "_model_module": "@jupyter-widgets/base",
            "_model_module_version": "1.2.0",
            "_model_name": "LayoutModel",
            "_view_count": null,
            "_view_module": "@jupyter-widgets/base",
            "_view_module_version": "1.2.0",
            "_view_name": "LayoutView",
            "align_content": null,
            "align_items": null,
            "align_self": null,
            "border": null,
            "bottom": null,
            "display": null,
            "flex": null,
            "flex_flow": null,
            "grid_area": null,
            "grid_auto_columns": null,
            "grid_auto_flow": null,
            "grid_auto_rows": null,
            "grid_column": null,
            "grid_gap": null,
            "grid_row": null,
            "grid_template_areas": null,
            "grid_template_columns": null,
            "grid_template_rows": null,
            "height": null,
            "justify_content": null,
            "justify_items": null,
            "left": null,
            "margin": null,
            "max_height": null,
            "max_width": null,
            "min_height": null,
            "min_width": null,
            "object_fit": null,
            "object_position": null,
            "order": null,
            "overflow": null,
            "overflow_x": null,
            "overflow_y": null,
            "padding": null,
            "right": null,
            "top": null,
            "visibility": null,
            "width": null
          }
        },
        "66f6680d0bdb459b9db5f561814c2afb": {
          "model_module": "@jupyter-widgets/controls",
          "model_name": "ProgressStyleModel",
          "model_module_version": "1.5.0",
          "state": {
            "_model_module": "@jupyter-widgets/controls",
            "_model_module_version": "1.5.0",
            "_model_name": "ProgressStyleModel",
            "_view_count": null,
            "_view_module": "@jupyter-widgets/base",
            "_view_module_version": "1.2.0",
            "_view_name": "StyleView",
            "bar_color": null,
            "description_width": "initial"
          }
        },
        "35f8de5a40dd443a8b0b98eeaa42337e": {
          "model_module": "@jupyter-widgets/base",
          "model_name": "LayoutModel",
          "model_module_version": "1.2.0",
          "state": {
            "_model_module": "@jupyter-widgets/base",
            "_model_module_version": "1.2.0",
            "_model_name": "LayoutModel",
            "_view_count": null,
            "_view_module": "@jupyter-widgets/base",
            "_view_module_version": "1.2.0",
            "_view_name": "LayoutView",
            "align_content": null,
            "align_items": null,
            "align_self": null,
            "border": null,
            "bottom": null,
            "display": null,
            "flex": null,
            "flex_flow": null,
            "grid_area": null,
            "grid_auto_columns": null,
            "grid_auto_flow": null,
            "grid_auto_rows": null,
            "grid_column": null,
            "grid_gap": null,
            "grid_row": null,
            "grid_template_areas": null,
            "grid_template_columns": null,
            "grid_template_rows": null,
            "height": null,
            "justify_content": null,
            "justify_items": null,
            "left": null,
            "margin": null,
            "max_height": null,
            "max_width": null,
            "min_height": null,
            "min_width": null,
            "object_fit": null,
            "object_position": null,
            "order": null,
            "overflow": null,
            "overflow_x": null,
            "overflow_y": null,
            "padding": null,
            "right": null,
            "top": null,
            "visibility": null,
            "width": null
          }
        },
        "6e94aa412bf44d588decda38561114ba": {
          "model_module": "@jupyter-widgets/controls",
          "model_name": "DescriptionStyleModel",
          "model_module_version": "1.5.0",
          "state": {
            "_model_module": "@jupyter-widgets/controls",
            "_model_module_version": "1.5.0",
            "_model_name": "DescriptionStyleModel",
            "_view_count": null,
            "_view_module": "@jupyter-widgets/base",
            "_view_module_version": "1.2.0",
            "_view_name": "StyleView",
            "description_width": ""
          }
        }
      }
    }
  },
  "cells": [
    {
      "cell_type": "markdown",
      "metadata": {
        "id": "view-in-github",
        "colab_type": "text"
      },
      "source": [
        "<a href=\"https://colab.research.google.com/github/Hong-Hyun-Seung/upstage-basic-deeplearning/blob/main/1012_MRC_Mission2_Generation_based_MRC_ipynb%EC%9D%98_%EC%82%AC%EB%B3%B8.ipynb\" target=\"_parent\"><img src=\"https://colab.research.google.com/assets/colab-badge.svg\" alt=\"Open In Colab\"/></a>"
      ]
    },
    {
      "cell_type": "markdown",
      "metadata": {
        "id": "fUuS4JiKRCM9"
      },
      "source": [
        "# T5를 활용해서 Generation-based MRC 문제를 풀어보기"
      ]
    },
    {
      "cell_type": "markdown",
      "metadata": {
        "id": "Lz8Db7dvgNYG"
      },
      "source": [
        "두번째 미션에서는 **3강에서 배운 Generation based MRC**를 구현합니다!\n",
        "> Remind !🤔  \n",
        "* Extraction-based MRC : 지문 내 답의 위치를 예측 (classification) , 주어진 지문 내에 무조건 답이 존재함\n",
        "* Generation-based MRC : 주어진 지문과 질의를 통해 답변을 생성함(Generation) , 주어진 지문 내에 답이 존재하지 않아도 되며 비교적 유연함\n",
        "\n",
        "* 주어진 지문과 질의을 기반으로 적절한 답을 생성하는것이 오늘의 목표\n",
        "* T5 모델을 활용하여 문제를 풀어볼 예정이니, T5에 대한 사전 지식이 필요합니다 \n",
        "* T5는 encoder-decoder 구조의 모델이니 encoder만으로 구성된 BERT와는 구조가 상이합니다\n",
        "* 해당 미션은 빈칸이 없습니다. 코드 한줄씩 살펴보면서 의미를 확인해보세요 !\n"
      ]
    },
    {
      "cell_type": "markdown",
      "metadata": {
        "id": "klpXVMSDSuZf"
      },
      "source": [
        "```\n",
        "🛠 Setup을 하는 부분입니다. 이전 과제에서 반복되는 부분이기 때문에 무지성 실행 하셔도 좋습니다.\n",
        "💻 실습 코드입니다. 따라가면서 코드를 이해해보세요.\n",
        "```"
      ]
    },
    {
      "cell_type": "markdown",
      "metadata": {
        "id": "uppHa3i6icyT"
      },
      "source": [
        "## 🛠 초기설정"
      ]
    },
    {
      "cell_type": "markdown",
      "metadata": {
        "id": "UDM02OBaPSI-"
      },
      "source": [
        "### 🛠 Requirements"
      ]
    },
    {
      "cell_type": "code",
      "metadata": {
        "colab": {
          "base_uri": "https://localhost:8080/"
        },
        "id": "MnRE10fhWbYJ",
        "outputId": "d6e1cebd-533d-42ec-b359-04a0a3f7de41"
      },
      "source": [
        "# Output model file을 저장하기위해 drive 마운트를 수행합니다\n",
        "# 마운트를 진행하지 않은 경우, 모델의 크기가 커질 경우엔 디스크 용량이 부족하여 에러가 발생할 수 있습니다\n",
        "from google.colab import drive\n",
        "drive.mount(\"/content/drive\")"
      ],
      "execution_count": 1,
      "outputs": [
        {
          "output_type": "stream",
          "name": "stdout",
          "text": [
            "Mounted at /content/drive\n"
          ]
        }
      ]
    },
    {
      "cell_type": "code",
      "metadata": {
        "colab": {
          "base_uri": "https://localhost:8080/"
        },
        "id": "pN4bYDBnRnYZ",
        "outputId": "d4c779b1-3e59-4d93-d6b2-17368a914762"
      },
      "source": [
        "# Requirements\n",
        "!pip install tqdm==4.48.0 -q\n",
        "!pip install datasets==1.4.1 -q\n",
        "!pip install transformers==4.5.0 -q\n",
        "!pip install sentencepiece==0.1.95 -q\n",
        "!pip install nltk -q"
      ],
      "execution_count": 2,
      "outputs": [
        {
          "output_type": "stream",
          "name": "stdout",
          "text": [
            "\u001b[K     |████████████████████████████████| 67 kB 2.7 MB/s \n",
            "\u001b[K     |████████████████████████████████| 186 kB 4.3 MB/s \n",
            "\u001b[K     |████████████████████████████████| 243 kB 31.6 MB/s \n",
            "\u001b[K     |████████████████████████████████| 125 kB 52.0 MB/s \n",
            "\u001b[K     |████████████████████████████████| 2.1 MB 2.0 MB/s \n",
            "\u001b[K     |████████████████████████████████| 3.3 MB 20.7 MB/s \n",
            "\u001b[K     |████████████████████████████████| 895 kB 40.2 MB/s \n",
            "\u001b[K     |████████████████████████████████| 1.2 MB 4.3 MB/s \n",
            "\u001b[?25h"
          ]
        }
      ]
    },
    {
      "cell_type": "code",
      "metadata": {
        "colab": {
          "base_uri": "https://localhost:8080/"
        },
        "id": "NP3y7Nea4r6q",
        "outputId": "a519e1d9-3965-4f72-f858-0872fff7dd9d"
      },
      "source": [
        "import nltk\n",
        "# nltk는 postprocess를 위해 import합니다 - postprocess_text 함수 참고\n",
        "nltk.download('punkt')"
      ],
      "execution_count": 3,
      "outputs": [
        {
          "output_type": "stream",
          "name": "stdout",
          "text": [
            "[nltk_data] Downloading package punkt to /root/nltk_data...\n",
            "[nltk_data]   Unzipping tokenizers/punkt.zip.\n"
          ]
        },
        {
          "output_type": "execute_result",
          "data": {
            "text/plain": [
              "True"
            ]
          },
          "metadata": {},
          "execution_count": 3
        }
      ]
    },
    {
      "cell_type": "markdown",
      "metadata": {
        "id": "l_yJGvqKQY6e"
      },
      "source": [
        "### 🛠 난수 고정 및 버전 확인"
      ]
    },
    {
      "cell_type": "code",
      "metadata": {
        "colab": {
          "base_uri": "https://localhost:8080/"
        },
        "id": "yP5CoIJyhaY-",
        "outputId": "a278c9c3-bf3e-4a3c-c270-e481aefcfe6e"
      },
      "source": [
        "import random\n",
        "import numpy as np\n",
        "import torch\n",
        "\n",
        "# pytorch version, device 정보 확인하기 \n",
        "print (\"PyTorch version:[%s].\"%(torch.__version__))\n",
        "device = torch.device(\"cuda:0\" if torch.cuda.is_available() else \"cpu\")\n",
        "print (\"device:[%s].\"%(device))"
      ],
      "execution_count": 4,
      "outputs": [
        {
          "output_type": "stream",
          "name": "stdout",
          "text": [
            "PyTorch version:[1.9.0+cu111].\n",
            "device:[cuda:0].\n"
          ]
        }
      ]
    },
    {
      "cell_type": "code",
      "metadata": {
        "id": "Q7bePKjihnVm"
      },
      "source": [
        "# 난수 고정\n",
        "def set_seed(random_seed):\n",
        "    torch.manual_seed(random_seed)\n",
        "    torch.cuda.manual_seed(random_seed)\n",
        "    torch.cuda.manual_seed_all(random_seed)  # if use multi-GPU\n",
        "    torch.backends.cudnn.deterministic = True\n",
        "    torch.backends.cudnn.benchmark = False\n",
        "    np.random.seed(random_seed)\n",
        "    random.seed(random_seed)\n",
        "    \n",
        "set_seed(42) # magic number :)"
      ],
      "execution_count": 5,
      "outputs": []
    },
    {
      "cell_type": "markdown",
      "metadata": {
        "id": "9JLa6JZ6R6MF"
      },
      "source": [
        "### 🛠 데이터 및 평가 지표 불러오기"
      ]
    },
    {
      "cell_type": "code",
      "metadata": {
        "colab": {
          "base_uri": "https://localhost:8080/",
          "height": 272,
          "referenced_widgets": [
            "8dd238e0692b43d194b240b80e694685",
            "2b22b5de417f409088f8b8128e669caa",
            "ff8a4c0bb22c4d7492d77b2fe9ddea29",
            "d57f47ea80b242aca84f91e5f98bc613",
            "cca48f1994b34e0fb49f85d7e21dd993",
            "c785807673ea48ff8512f74c1dcf4c8b",
            "15970962e9ce4e90a6902449c477c79a",
            "d81c546e8fe944c08a45ac608c29fb81",
            "c0fcbb5dbfd34b86895433ce5de714c5",
            "ab0603257936469a98932cca92696e98",
            "10cadfe7b23149aebbc5b2f5ca84a50b",
            "4ae5ed872fb149b8b9a5ef381b1f6c61",
            "651f6e6cc25c482cba7135f23009fa16",
            "ad1e40118cd741aaa790174bff4c6c34",
            "6125f32b2d794ba49dcf93db667b92b1",
            "3c41c2e3f99c476389946339257d5ab8",
            "5b6af37383554e0380abb70511d48a7a",
            "ae465a7b08944ff4aa707a65428a68cf",
            "628b7caf5cfd46bdadcc5cadb6668acd",
            "c22cad5d803d44e48e631dc3a66462d5",
            "f383a490687a4d9b935c4c70be5bc49a",
            "018f5b0be62240059fde8908dfdca3ed",
            "600e2af05a8347d1934fe0a23d9d7522",
            "5dfe584c93c84212928308ff55764965",
            "406bb51f272d4c17a9113340051c9ded",
            "7a90c7541f9f4a6d9d6fb8a08c858ce3",
            "9af3296815454b5eb8d00e771185154f",
            "5e97faeaaf63480d87b7007516af5baf",
            "ef8eeb5f1b4e403f92deaf62215dd1c6",
            "44ce17a2b46f4a29b942831c44a8e59c",
            "9d3159a809a04489866c1df896ec98b3",
            "7aa90f5917c343b4ab1a2bffb0c0973a",
            "eed1511c83ae48e78b231b82d6c797c2",
            "28765a6d0a6b459b909f84e47f679a6e",
            "f6505c563ad74856b64f11953c0abafb",
            "68fe4150f9c4417eb7f49c5df1b0a40e",
            "57e857a7d7a34deb9419884469b0b462",
            "5dbfbf4b0bfc4df5a8d0d7c0bcd9bdf3",
            "c6e7bbc8cb99411d84388c16954da434",
            "bf7a4915f7b54559bd99309d318b8952",
            "ab2d4031a91649d187c66911411580c2",
            "2ebc20c5714749b9b1835b48d72a73eb",
            "a63f0faa30064c4bae201b3c79bb70f9",
            "24359f1d856641dca4380f2d9989c569",
            "6721bebdf95a4720a08b0873171e4e15",
            "021edf4b628545ecafa951904bb16435",
            "5b8861d79ec741b88239296c989bd683",
            "f41fe650d1574ebcbf833c0766c202e6"
          ]
        },
        "id": "PHsVnWTjR5ux",
        "outputId": "6a4efc48-7117-4824-f363-fc28fefa94d4"
      },
      "source": [
        "from datasets import load_dataset\n",
        "\n",
        "datasets = load_dataset(\"squad_kor_v1\")"
      ],
      "execution_count": 6,
      "outputs": [
        {
          "output_type": "display_data",
          "data": {
            "application/vnd.jupyter.widget-view+json": {
              "model_id": "8dd238e0692b43d194b240b80e694685",
              "version_minor": 0,
              "version_major": 2
            },
            "text/plain": [
              "HBox(children=(FloatProgress(value=0.0, description='Downloading', max=1745.0, style=ProgressStyle(description…"
            ]
          },
          "metadata": {}
        },
        {
          "output_type": "stream",
          "name": "stdout",
          "text": [
            "\n"
          ]
        },
        {
          "output_type": "display_data",
          "data": {
            "application/vnd.jupyter.widget-view+json": {
              "model_id": "c0fcbb5dbfd34b86895433ce5de714c5",
              "version_minor": 0,
              "version_major": 2
            },
            "text/plain": [
              "HBox(children=(FloatProgress(value=0.0, description='Downloading', max=962.0, style=ProgressStyle(description_…"
            ]
          },
          "metadata": {}
        },
        {
          "output_type": "stream",
          "name": "stdout",
          "text": [
            "\n",
            "Downloading and preparing dataset squad_kor_v1/squad_kor_v1 (download: 40.44 MiB, generated: 87.40 MiB, post-processed: Unknown size, total: 127.84 MiB) to /root/.cache/huggingface/datasets/squad_kor_v1/squad_kor_v1/1.0.0/31982418accc53b059af090befa81e68880acc667ca5405d30ce6fa7910950a7...\n"
          ]
        },
        {
          "output_type": "display_data",
          "data": {
            "application/vnd.jupyter.widget-view+json": {
              "model_id": "5b6af37383554e0380abb70511d48a7a",
              "version_minor": 0,
              "version_major": 2
            },
            "text/plain": [
              "HBox(children=(FloatProgress(value=0.0, description='Downloading', max=7568316.0, style=ProgressStyle(descript…"
            ]
          },
          "metadata": {}
        },
        {
          "output_type": "stream",
          "name": "stdout",
          "text": [
            "\n"
          ]
        },
        {
          "output_type": "display_data",
          "data": {
            "application/vnd.jupyter.widget-view+json": {
              "model_id": "406bb51f272d4c17a9113340051c9ded",
              "version_minor": 0,
              "version_major": 2
            },
            "text/plain": [
              "HBox(children=(FloatProgress(value=0.0, description='Downloading', max=770480.0, style=ProgressStyle(descripti…"
            ]
          },
          "metadata": {}
        },
        {
          "output_type": "stream",
          "name": "stdout",
          "text": [
            "\n"
          ]
        },
        {
          "output_type": "display_data",
          "data": {
            "application/vnd.jupyter.widget-view+json": {
              "model_id": "eed1511c83ae48e78b231b82d6c797c2",
              "version_minor": 0,
              "version_major": 2
            },
            "text/plain": [
              "HBox(children=(FloatProgress(value=1.0, bar_style='info', max=1.0), HTML(value='')))"
            ]
          },
          "metadata": {}
        },
        {
          "output_type": "display_data",
          "data": {
            "application/vnd.jupyter.widget-view+json": {
              "model_id": "ab2d4031a91649d187c66911411580c2",
              "version_minor": 0,
              "version_major": 2
            },
            "text/plain": [
              "HBox(children=(FloatProgress(value=1.0, bar_style='info', max=1.0), HTML(value='')))"
            ]
          },
          "metadata": {}
        },
        {
          "output_type": "stream",
          "name": "stdout",
          "text": [
            "Dataset squad_kor_v1 downloaded and prepared to /root/.cache/huggingface/datasets/squad_kor_v1/squad_kor_v1/1.0.0/31982418accc53b059af090befa81e68880acc667ca5405d30ce6fa7910950a7. Subsequent calls will reuse this data.\n"
          ]
        }
      ]
    },
    {
      "cell_type": "code",
      "metadata": {
        "colab": {
          "base_uri": "https://localhost:8080/",
          "height": 116,
          "referenced_widgets": [
            "1d9f6f8b874b41eb8286c4d1f6d6f553",
            "e2a08a3b28bb42388cc13a0979a03be5",
            "4efde3bcec024a7f80dbee459c3961e8",
            "7dae0908144b41a8a453c91e928304d4",
            "99ab524c184749b7b81664a965bcf66a",
            "82cbdf95492a4272870f7d7d74e5bdbe",
            "8c3c30a05c4c4c28a1b2e21dfc21779f",
            "9cdd9c30aebb4468a85910e3024a78c8",
            "1b3742e50779455dab67a0190a8814bf",
            "adc09b74dfa04330aeb85ae138ab53fe",
            "75e9fa0478a94ee1ac70bc7fa2ffe3e5",
            "29603606d158479e89ec64b35bfc2267",
            "a0c915c635394ce8a389d65f7b8553fd",
            "2ee64f8f28c44c6cad9105ad32b14cfe",
            "002e6d502934427bb46811c65d805444",
            "2bca3ae689c743e1afe32221b15145a4"
          ]
        },
        "id": "fHMnn6-YSFs0",
        "outputId": "64c783d2-2a18-46e7-aa77-514a928801a5"
      },
      "source": [
        "from datasets import load_metric\n",
        "\n",
        "metric = load_metric(\"squad\")"
      ],
      "execution_count": 7,
      "outputs": [
        {
          "output_type": "display_data",
          "data": {
            "application/vnd.jupyter.widget-view+json": {
              "model_id": "1d9f6f8b874b41eb8286c4d1f6d6f553",
              "version_minor": 0,
              "version_major": 2
            },
            "text/plain": [
              "HBox(children=(FloatProgress(value=0.0, description='Downloading', max=1726.0, style=ProgressStyle(description…"
            ]
          },
          "metadata": {}
        },
        {
          "output_type": "stream",
          "name": "stdout",
          "text": [
            "\n"
          ]
        },
        {
          "output_type": "display_data",
          "data": {
            "application/vnd.jupyter.widget-view+json": {
              "model_id": "1b3742e50779455dab67a0190a8814bf",
              "version_minor": 0,
              "version_major": 2
            },
            "text/plain": [
              "HBox(children=(FloatProgress(value=0.0, description='Downloading', max=1132.0, style=ProgressStyle(description…"
            ]
          },
          "metadata": {}
        },
        {
          "output_type": "stream",
          "name": "stdout",
          "text": [
            "\n"
          ]
        }
      ]
    },
    {
      "cell_type": "markdown",
      "metadata": {
        "id": "HE4Z2qUQQ04Y"
      },
      "source": [
        "##  💻 T5를 활용하여 Generation based QA 모델 구현하기"
      ]
    },
    {
      "cell_type": "markdown",
      "metadata": {
        "id": "FzeR6uM1RibW"
      },
      "source": [
        "### 💻 Pre-trained 모델 및 토크나이저 불러오기"
      ]
    },
    {
      "cell_type": "code",
      "metadata": {
        "id": "ZJoMcsnRRh4Y"
      },
      "source": [
        "\"\"\"\n",
        "[간단 설명]\n",
        "\n",
        "1. huggingface의 transformers 라이브러리를 통해 모델을 불러옵니다\n",
        "2. AutoModel을 사용하면 원하는 모델을 이름만 바꾸어 불러 올 수 있습니다\n",
        "3. QuestionAnswering을 위한 모델이 이미 구축되어있기 때문에 편하게 불러와서 사용 할 수 있습니다\n",
        "4. 대용량 데이터로 기학습된 모델을 불러와서 사용합니다 (기학습된 == Pretrained)\n",
        "\"\"\"\n",
        "from transformers import (\n",
        "    AutoConfig,\n",
        "    AutoModelForSeq2SeqLM,\n",
        "    AutoTokenizer\n",
        ")"
      ],
      "execution_count": 8,
      "outputs": []
    },
    {
      "cell_type": "code",
      "metadata": {
        "id": "QRCrQ3FJRmLB"
      },
      "source": [
        "model_name = \"google/mt5-small\""
      ],
      "execution_count": 9,
      "outputs": []
    },
    {
      "cell_type": "code",
      "metadata": {
        "colab": {
          "background_save": true,
          "base_uri": "https://localhost:8080/",
          "height": 248,
          "referenced_widgets": [
            "54fbae8668ca41ca99a3c3d349413d17",
            "0aa32391d2e1410194c8e4a3a32c3d6e",
            "83635b6cb6cc4fc6b03e7f21622b7b04",
            "bd29eb64703a48de928afa6e7c227ac9",
            "18b7583d91d54e3eaa85346ce0a68d78",
            "68cc37fc65d345039494197c7cd00c77",
            "d1062453729f4777be0a97e06b8a6471",
            "6034e0a3f8584ec9b2cca7464b5df8cc",
            "c72717f3a955463ebb0db0da5186e4cd",
            "bef5c628ffee4a49b8996b0764653c91",
            "1055462f4a334054b28ac80429a34389",
            "94d7c6e33f8d4e1dbee167f1a2cb7365",
            "692c81623dc1461388225416fcf476c1",
            "c521eb12efb94bca8feea5f06048c9ee",
            "ad8eab20c8904beca7f569298b70bc41",
            "cea3281d301b4bdd88b30c3f4dfc558c",
            "cc5c1cc2f21445098d3729ea3459fb73",
            "f7672a8dc3de482ab7a82937a26b5e5f",
            "47c13f8fedfb4db6a9a67259f4589e69",
            "cd8d9074404243eebd5726f5497d7db3",
            "a4d4c12767f14b33ad2ff16b9e86fed2",
            "522ffe1834ca40739e97dc9f870a652c",
            "69602224da574ff58560587a29056fa8",
            "a533332f9f00467c878b26f6f5b29c67",
            "b8f83c123dfb45d698ba3c507d278bb1",
            "2366446fbf1d41cb99799b0e37e9a3a5",
            "84bb888828d54b769b549319c882c995",
            "399b39d2c631462a9a21e8b3ff5b5ec0",
            "acdd8f173368499cafd7b733bb30a694",
            "f1687be77d6d4c42935a8091ec4b67ff",
            "3ac25d07aa6941d1a071c231d7d79a96",
            "6917439a6ae649c08e59699464891da3",
            "9f462d6a73e24282a7ed010b8ee0d221",
            "f117e4092f80489fb801c825b997a36c",
            "e4deeeae181741cba993d44de6df9898",
            "5f436c428ca141d4ba041f7efd2509e1",
            "f132007fa74d4ac19610ac7ec89c1059",
            "66f6680d0bdb459b9db5f561814c2afb",
            "35f8de5a40dd443a8b0b98eeaa42337e",
            "6e94aa412bf44d588decda38561114ba"
          ]
        },
        "id": "IreSlFmlIrIm",
        "outputId": "0a1381ed-917d-4832-bdfc-886313c376a8"
      },
      "source": [
        "# T5는 seq2seq 모델이므로 model을 불러올 때 AutoModelForSeq2SeqLM을 사용해야 함\n",
        "config = AutoConfig.from_pretrained(\n",
        "    model_name,\n",
        "    cache_dir=None,\n",
        ")\n",
        "tokenizer = AutoTokenizer.from_pretrained(\n",
        "    model_name,\n",
        "    cache_dir=None,\n",
        "    use_fast=True,\n",
        ")\n",
        "model = AutoModelForSeq2SeqLM.from_pretrained(\n",
        "    model_name,\n",
        "    config=config,\n",
        "    cache_dir=None,\n",
        ")"
      ],
      "execution_count": null,
      "outputs": [
        {
          "data": {
            "application/vnd.jupyter.widget-view+json": {
              "model_id": "54fbae8668ca41ca99a3c3d349413d17",
              "version_major": 2,
              "version_minor": 0
            },
            "text/plain": [
              "HBox(children=(FloatProgress(value=0.0, description='Downloading', max=553.0, style=ProgressStyle(description_…"
            ]
          },
          "metadata": {},
          "output_type": "display_data"
        },
        {
          "name": "stdout",
          "output_type": "stream",
          "text": [
            "\n"
          ]
        },
        {
          "data": {
            "application/vnd.jupyter.widget-view+json": {
              "model_id": "c72717f3a955463ebb0db0da5186e4cd",
              "version_major": 2,
              "version_minor": 0
            },
            "text/plain": [
              "HBox(children=(FloatProgress(value=0.0, description='Downloading', max=4309802.0, style=ProgressStyle(descript…"
            ]
          },
          "metadata": {},
          "output_type": "display_data"
        },
        {
          "name": "stdout",
          "output_type": "stream",
          "text": [
            "\n"
          ]
        },
        {
          "data": {
            "application/vnd.jupyter.widget-view+json": {
              "model_id": "cc5c1cc2f21445098d3729ea3459fb73",
              "version_major": 2,
              "version_minor": 0
            },
            "text/plain": [
              "HBox(children=(FloatProgress(value=0.0, description='Downloading', max=99.0, style=ProgressStyle(description_w…"
            ]
          },
          "metadata": {},
          "output_type": "display_data"
        },
        {
          "name": "stdout",
          "output_type": "stream",
          "text": [
            "\n"
          ]
        },
        {
          "data": {
            "application/vnd.jupyter.widget-view+json": {
              "model_id": "b8f83c123dfb45d698ba3c507d278bb1",
              "version_major": 2,
              "version_minor": 0
            },
            "text/plain": [
              "HBox(children=(FloatProgress(value=0.0, description='Downloading', max=82.0, style=ProgressStyle(description_w…"
            ]
          },
          "metadata": {},
          "output_type": "display_data"
        },
        {
          "name": "stdout",
          "output_type": "stream",
          "text": [
            "\n"
          ]
        },
        {
          "data": {
            "application/vnd.jupyter.widget-view+json": {
              "model_id": "9f462d6a73e24282a7ed010b8ee0d221",
              "version_major": 2,
              "version_minor": 0
            },
            "text/plain": [
              "HBox(children=(FloatProgress(value=0.0, description='Downloading', max=1200794589.0, style=ProgressStyle(descr…"
            ]
          },
          "metadata": {},
          "output_type": "display_data"
        },
        {
          "name": "stdout",
          "output_type": "stream",
          "text": [
            "\n"
          ]
        }
      ]
    },
    {
      "cell_type": "code",
      "metadata": {
        "colab": {
          "background_save": true
        },
        "id": "3TB27WBVjOXh",
        "outputId": "505e6a44-37ed-4a1e-965a-f8e19438b471"
      },
      "source": [
        "# model 구조 살펴보기\n",
        "model "
      ],
      "execution_count": null,
      "outputs": [
        {
          "data": {
            "text/plain": [
              "MT5ForConditionalGeneration(\n",
              "  (shared): Embedding(250112, 512)\n",
              "  (encoder): T5Stack(\n",
              "    (embed_tokens): Embedding(250112, 512)\n",
              "    (block): ModuleList(\n",
              "      (0): T5Block(\n",
              "        (layer): ModuleList(\n",
              "          (0): T5LayerSelfAttention(\n",
              "            (SelfAttention): T5Attention(\n",
              "              (q): Linear(in_features=512, out_features=384, bias=False)\n",
              "              (k): Linear(in_features=512, out_features=384, bias=False)\n",
              "              (v): Linear(in_features=512, out_features=384, bias=False)\n",
              "              (o): Linear(in_features=384, out_features=512, bias=False)\n",
              "              (relative_attention_bias): Embedding(32, 6)\n",
              "            )\n",
              "            (layer_norm): T5LayerNorm()\n",
              "            (dropout): Dropout(p=0.1, inplace=False)\n",
              "          )\n",
              "          (1): T5LayerFF(\n",
              "            (DenseReluDense): T5DenseGatedGeluDense(\n",
              "              (wi_0): Linear(in_features=512, out_features=1024, bias=False)\n",
              "              (wi_1): Linear(in_features=512, out_features=1024, bias=False)\n",
              "              (wo): Linear(in_features=1024, out_features=512, bias=False)\n",
              "              (dropout): Dropout(p=0.1, inplace=False)\n",
              "            )\n",
              "            (layer_norm): T5LayerNorm()\n",
              "            (dropout): Dropout(p=0.1, inplace=False)\n",
              "          )\n",
              "        )\n",
              "      )\n",
              "      (1): T5Block(\n",
              "        (layer): ModuleList(\n",
              "          (0): T5LayerSelfAttention(\n",
              "            (SelfAttention): T5Attention(\n",
              "              (q): Linear(in_features=512, out_features=384, bias=False)\n",
              "              (k): Linear(in_features=512, out_features=384, bias=False)\n",
              "              (v): Linear(in_features=512, out_features=384, bias=False)\n",
              "              (o): Linear(in_features=384, out_features=512, bias=False)\n",
              "            )\n",
              "            (layer_norm): T5LayerNorm()\n",
              "            (dropout): Dropout(p=0.1, inplace=False)\n",
              "          )\n",
              "          (1): T5LayerFF(\n",
              "            (DenseReluDense): T5DenseGatedGeluDense(\n",
              "              (wi_0): Linear(in_features=512, out_features=1024, bias=False)\n",
              "              (wi_1): Linear(in_features=512, out_features=1024, bias=False)\n",
              "              (wo): Linear(in_features=1024, out_features=512, bias=False)\n",
              "              (dropout): Dropout(p=0.1, inplace=False)\n",
              "            )\n",
              "            (layer_norm): T5LayerNorm()\n",
              "            (dropout): Dropout(p=0.1, inplace=False)\n",
              "          )\n",
              "        )\n",
              "      )\n",
              "      (2): T5Block(\n",
              "        (layer): ModuleList(\n",
              "          (0): T5LayerSelfAttention(\n",
              "            (SelfAttention): T5Attention(\n",
              "              (q): Linear(in_features=512, out_features=384, bias=False)\n",
              "              (k): Linear(in_features=512, out_features=384, bias=False)\n",
              "              (v): Linear(in_features=512, out_features=384, bias=False)\n",
              "              (o): Linear(in_features=384, out_features=512, bias=False)\n",
              "            )\n",
              "            (layer_norm): T5LayerNorm()\n",
              "            (dropout): Dropout(p=0.1, inplace=False)\n",
              "          )\n",
              "          (1): T5LayerFF(\n",
              "            (DenseReluDense): T5DenseGatedGeluDense(\n",
              "              (wi_0): Linear(in_features=512, out_features=1024, bias=False)\n",
              "              (wi_1): Linear(in_features=512, out_features=1024, bias=False)\n",
              "              (wo): Linear(in_features=1024, out_features=512, bias=False)\n",
              "              (dropout): Dropout(p=0.1, inplace=False)\n",
              "            )\n",
              "            (layer_norm): T5LayerNorm()\n",
              "            (dropout): Dropout(p=0.1, inplace=False)\n",
              "          )\n",
              "        )\n",
              "      )\n",
              "      (3): T5Block(\n",
              "        (layer): ModuleList(\n",
              "          (0): T5LayerSelfAttention(\n",
              "            (SelfAttention): T5Attention(\n",
              "              (q): Linear(in_features=512, out_features=384, bias=False)\n",
              "              (k): Linear(in_features=512, out_features=384, bias=False)\n",
              "              (v): Linear(in_features=512, out_features=384, bias=False)\n",
              "              (o): Linear(in_features=384, out_features=512, bias=False)\n",
              "            )\n",
              "            (layer_norm): T5LayerNorm()\n",
              "            (dropout): Dropout(p=0.1, inplace=False)\n",
              "          )\n",
              "          (1): T5LayerFF(\n",
              "            (DenseReluDense): T5DenseGatedGeluDense(\n",
              "              (wi_0): Linear(in_features=512, out_features=1024, bias=False)\n",
              "              (wi_1): Linear(in_features=512, out_features=1024, bias=False)\n",
              "              (wo): Linear(in_features=1024, out_features=512, bias=False)\n",
              "              (dropout): Dropout(p=0.1, inplace=False)\n",
              "            )\n",
              "            (layer_norm): T5LayerNorm()\n",
              "            (dropout): Dropout(p=0.1, inplace=False)\n",
              "          )\n",
              "        )\n",
              "      )\n",
              "      (4): T5Block(\n",
              "        (layer): ModuleList(\n",
              "          (0): T5LayerSelfAttention(\n",
              "            (SelfAttention): T5Attention(\n",
              "              (q): Linear(in_features=512, out_features=384, bias=False)\n",
              "              (k): Linear(in_features=512, out_features=384, bias=False)\n",
              "              (v): Linear(in_features=512, out_features=384, bias=False)\n",
              "              (o): Linear(in_features=384, out_features=512, bias=False)\n",
              "            )\n",
              "            (layer_norm): T5LayerNorm()\n",
              "            (dropout): Dropout(p=0.1, inplace=False)\n",
              "          )\n",
              "          (1): T5LayerFF(\n",
              "            (DenseReluDense): T5DenseGatedGeluDense(\n",
              "              (wi_0): Linear(in_features=512, out_features=1024, bias=False)\n",
              "              (wi_1): Linear(in_features=512, out_features=1024, bias=False)\n",
              "              (wo): Linear(in_features=1024, out_features=512, bias=False)\n",
              "              (dropout): Dropout(p=0.1, inplace=False)\n",
              "            )\n",
              "            (layer_norm): T5LayerNorm()\n",
              "            (dropout): Dropout(p=0.1, inplace=False)\n",
              "          )\n",
              "        )\n",
              "      )\n",
              "      (5): T5Block(\n",
              "        (layer): ModuleList(\n",
              "          (0): T5LayerSelfAttention(\n",
              "            (SelfAttention): T5Attention(\n",
              "              (q): Linear(in_features=512, out_features=384, bias=False)\n",
              "              (k): Linear(in_features=512, out_features=384, bias=False)\n",
              "              (v): Linear(in_features=512, out_features=384, bias=False)\n",
              "              (o): Linear(in_features=384, out_features=512, bias=False)\n",
              "            )\n",
              "            (layer_norm): T5LayerNorm()\n",
              "            (dropout): Dropout(p=0.1, inplace=False)\n",
              "          )\n",
              "          (1): T5LayerFF(\n",
              "            (DenseReluDense): T5DenseGatedGeluDense(\n",
              "              (wi_0): Linear(in_features=512, out_features=1024, bias=False)\n",
              "              (wi_1): Linear(in_features=512, out_features=1024, bias=False)\n",
              "              (wo): Linear(in_features=1024, out_features=512, bias=False)\n",
              "              (dropout): Dropout(p=0.1, inplace=False)\n",
              "            )\n",
              "            (layer_norm): T5LayerNorm()\n",
              "            (dropout): Dropout(p=0.1, inplace=False)\n",
              "          )\n",
              "        )\n",
              "      )\n",
              "      (6): T5Block(\n",
              "        (layer): ModuleList(\n",
              "          (0): T5LayerSelfAttention(\n",
              "            (SelfAttention): T5Attention(\n",
              "              (q): Linear(in_features=512, out_features=384, bias=False)\n",
              "              (k): Linear(in_features=512, out_features=384, bias=False)\n",
              "              (v): Linear(in_features=512, out_features=384, bias=False)\n",
              "              (o): Linear(in_features=384, out_features=512, bias=False)\n",
              "            )\n",
              "            (layer_norm): T5LayerNorm()\n",
              "            (dropout): Dropout(p=0.1, inplace=False)\n",
              "          )\n",
              "          (1): T5LayerFF(\n",
              "            (DenseReluDense): T5DenseGatedGeluDense(\n",
              "              (wi_0): Linear(in_features=512, out_features=1024, bias=False)\n",
              "              (wi_1): Linear(in_features=512, out_features=1024, bias=False)\n",
              "              (wo): Linear(in_features=1024, out_features=512, bias=False)\n",
              "              (dropout): Dropout(p=0.1, inplace=False)\n",
              "            )\n",
              "            (layer_norm): T5LayerNorm()\n",
              "            (dropout): Dropout(p=0.1, inplace=False)\n",
              "          )\n",
              "        )\n",
              "      )\n",
              "      (7): T5Block(\n",
              "        (layer): ModuleList(\n",
              "          (0): T5LayerSelfAttention(\n",
              "            (SelfAttention): T5Attention(\n",
              "              (q): Linear(in_features=512, out_features=384, bias=False)\n",
              "              (k): Linear(in_features=512, out_features=384, bias=False)\n",
              "              (v): Linear(in_features=512, out_features=384, bias=False)\n",
              "              (o): Linear(in_features=384, out_features=512, bias=False)\n",
              "            )\n",
              "            (layer_norm): T5LayerNorm()\n",
              "            (dropout): Dropout(p=0.1, inplace=False)\n",
              "          )\n",
              "          (1): T5LayerFF(\n",
              "            (DenseReluDense): T5DenseGatedGeluDense(\n",
              "              (wi_0): Linear(in_features=512, out_features=1024, bias=False)\n",
              "              (wi_1): Linear(in_features=512, out_features=1024, bias=False)\n",
              "              (wo): Linear(in_features=1024, out_features=512, bias=False)\n",
              "              (dropout): Dropout(p=0.1, inplace=False)\n",
              "            )\n",
              "            (layer_norm): T5LayerNorm()\n",
              "            (dropout): Dropout(p=0.1, inplace=False)\n",
              "          )\n",
              "        )\n",
              "      )\n",
              "    )\n",
              "    (final_layer_norm): T5LayerNorm()\n",
              "    (dropout): Dropout(p=0.1, inplace=False)\n",
              "  )\n",
              "  (decoder): T5Stack(\n",
              "    (embed_tokens): Embedding(250112, 512)\n",
              "    (block): ModuleList(\n",
              "      (0): T5Block(\n",
              "        (layer): ModuleList(\n",
              "          (0): T5LayerSelfAttention(\n",
              "            (SelfAttention): T5Attention(\n",
              "              (q): Linear(in_features=512, out_features=384, bias=False)\n",
              "              (k): Linear(in_features=512, out_features=384, bias=False)\n",
              "              (v): Linear(in_features=512, out_features=384, bias=False)\n",
              "              (o): Linear(in_features=384, out_features=512, bias=False)\n",
              "              (relative_attention_bias): Embedding(32, 6)\n",
              "            )\n",
              "            (layer_norm): T5LayerNorm()\n",
              "            (dropout): Dropout(p=0.1, inplace=False)\n",
              "          )\n",
              "          (1): T5LayerCrossAttention(\n",
              "            (EncDecAttention): T5Attention(\n",
              "              (q): Linear(in_features=512, out_features=384, bias=False)\n",
              "              (k): Linear(in_features=512, out_features=384, bias=False)\n",
              "              (v): Linear(in_features=512, out_features=384, bias=False)\n",
              "              (o): Linear(in_features=384, out_features=512, bias=False)\n",
              "            )\n",
              "            (layer_norm): T5LayerNorm()\n",
              "            (dropout): Dropout(p=0.1, inplace=False)\n",
              "          )\n",
              "          (2): T5LayerFF(\n",
              "            (DenseReluDense): T5DenseGatedGeluDense(\n",
              "              (wi_0): Linear(in_features=512, out_features=1024, bias=False)\n",
              "              (wi_1): Linear(in_features=512, out_features=1024, bias=False)\n",
              "              (wo): Linear(in_features=1024, out_features=512, bias=False)\n",
              "              (dropout): Dropout(p=0.1, inplace=False)\n",
              "            )\n",
              "            (layer_norm): T5LayerNorm()\n",
              "            (dropout): Dropout(p=0.1, inplace=False)\n",
              "          )\n",
              "        )\n",
              "      )\n",
              "      (1): T5Block(\n",
              "        (layer): ModuleList(\n",
              "          (0): T5LayerSelfAttention(\n",
              "            (SelfAttention): T5Attention(\n",
              "              (q): Linear(in_features=512, out_features=384, bias=False)\n",
              "              (k): Linear(in_features=512, out_features=384, bias=False)\n",
              "              (v): Linear(in_features=512, out_features=384, bias=False)\n",
              "              (o): Linear(in_features=384, out_features=512, bias=False)\n",
              "            )\n",
              "            (layer_norm): T5LayerNorm()\n",
              "            (dropout): Dropout(p=0.1, inplace=False)\n",
              "          )\n",
              "          (1): T5LayerCrossAttention(\n",
              "            (EncDecAttention): T5Attention(\n",
              "              (q): Linear(in_features=512, out_features=384, bias=False)\n",
              "              (k): Linear(in_features=512, out_features=384, bias=False)\n",
              "              (v): Linear(in_features=512, out_features=384, bias=False)\n",
              "              (o): Linear(in_features=384, out_features=512, bias=False)\n",
              "            )\n",
              "            (layer_norm): T5LayerNorm()\n",
              "            (dropout): Dropout(p=0.1, inplace=False)\n",
              "          )\n",
              "          (2): T5LayerFF(\n",
              "            (DenseReluDense): T5DenseGatedGeluDense(\n",
              "              (wi_0): Linear(in_features=512, out_features=1024, bias=False)\n",
              "              (wi_1): Linear(in_features=512, out_features=1024, bias=False)\n",
              "              (wo): Linear(in_features=1024, out_features=512, bias=False)\n",
              "              (dropout): Dropout(p=0.1, inplace=False)\n",
              "            )\n",
              "            (layer_norm): T5LayerNorm()\n",
              "            (dropout): Dropout(p=0.1, inplace=False)\n",
              "          )\n",
              "        )\n",
              "      )\n",
              "      (2): T5Block(\n",
              "        (layer): ModuleList(\n",
              "          (0): T5LayerSelfAttention(\n",
              "            (SelfAttention): T5Attention(\n",
              "              (q): Linear(in_features=512, out_features=384, bias=False)\n",
              "              (k): Linear(in_features=512, out_features=384, bias=False)\n",
              "              (v): Linear(in_features=512, out_features=384, bias=False)\n",
              "              (o): Linear(in_features=384, out_features=512, bias=False)\n",
              "            )\n",
              "            (layer_norm): T5LayerNorm()\n",
              "            (dropout): Dropout(p=0.1, inplace=False)\n",
              "          )\n",
              "          (1): T5LayerCrossAttention(\n",
              "            (EncDecAttention): T5Attention(\n",
              "              (q): Linear(in_features=512, out_features=384, bias=False)\n",
              "              (k): Linear(in_features=512, out_features=384, bias=False)\n",
              "              (v): Linear(in_features=512, out_features=384, bias=False)\n",
              "              (o): Linear(in_features=384, out_features=512, bias=False)\n",
              "            )\n",
              "            (layer_norm): T5LayerNorm()\n",
              "            (dropout): Dropout(p=0.1, inplace=False)\n",
              "          )\n",
              "          (2): T5LayerFF(\n",
              "            (DenseReluDense): T5DenseGatedGeluDense(\n",
              "              (wi_0): Linear(in_features=512, out_features=1024, bias=False)\n",
              "              (wi_1): Linear(in_features=512, out_features=1024, bias=False)\n",
              "              (wo): Linear(in_features=1024, out_features=512, bias=False)\n",
              "              (dropout): Dropout(p=0.1, inplace=False)\n",
              "            )\n",
              "            (layer_norm): T5LayerNorm()\n",
              "            (dropout): Dropout(p=0.1, inplace=False)\n",
              "          )\n",
              "        )\n",
              "      )\n",
              "      (3): T5Block(\n",
              "        (layer): ModuleList(\n",
              "          (0): T5LayerSelfAttention(\n",
              "            (SelfAttention): T5Attention(\n",
              "              (q): Linear(in_features=512, out_features=384, bias=False)\n",
              "              (k): Linear(in_features=512, out_features=384, bias=False)\n",
              "              (v): Linear(in_features=512, out_features=384, bias=False)\n",
              "              (o): Linear(in_features=384, out_features=512, bias=False)\n",
              "            )\n",
              "            (layer_norm): T5LayerNorm()\n",
              "            (dropout): Dropout(p=0.1, inplace=False)\n",
              "          )\n",
              "          (1): T5LayerCrossAttention(\n",
              "            (EncDecAttention): T5Attention(\n",
              "              (q): Linear(in_features=512, out_features=384, bias=False)\n",
              "              (k): Linear(in_features=512, out_features=384, bias=False)\n",
              "              (v): Linear(in_features=512, out_features=384, bias=False)\n",
              "              (o): Linear(in_features=384, out_features=512, bias=False)\n",
              "            )\n",
              "            (layer_norm): T5LayerNorm()\n",
              "            (dropout): Dropout(p=0.1, inplace=False)\n",
              "          )\n",
              "          (2): T5LayerFF(\n",
              "            (DenseReluDense): T5DenseGatedGeluDense(\n",
              "              (wi_0): Linear(in_features=512, out_features=1024, bias=False)\n",
              "              (wi_1): Linear(in_features=512, out_features=1024, bias=False)\n",
              "              (wo): Linear(in_features=1024, out_features=512, bias=False)\n",
              "              (dropout): Dropout(p=0.1, inplace=False)\n",
              "            )\n",
              "            (layer_norm): T5LayerNorm()\n",
              "            (dropout): Dropout(p=0.1, inplace=False)\n",
              "          )\n",
              "        )\n",
              "      )\n",
              "      (4): T5Block(\n",
              "        (layer): ModuleList(\n",
              "          (0): T5LayerSelfAttention(\n",
              "            (SelfAttention): T5Attention(\n",
              "              (q): Linear(in_features=512, out_features=384, bias=False)\n",
              "              (k): Linear(in_features=512, out_features=384, bias=False)\n",
              "              (v): Linear(in_features=512, out_features=384, bias=False)\n",
              "              (o): Linear(in_features=384, out_features=512, bias=False)\n",
              "            )\n",
              "            (layer_norm): T5LayerNorm()\n",
              "            (dropout): Dropout(p=0.1, inplace=False)\n",
              "          )\n",
              "          (1): T5LayerCrossAttention(\n",
              "            (EncDecAttention): T5Attention(\n",
              "              (q): Linear(in_features=512, out_features=384, bias=False)\n",
              "              (k): Linear(in_features=512, out_features=384, bias=False)\n",
              "              (v): Linear(in_features=512, out_features=384, bias=False)\n",
              "              (o): Linear(in_features=384, out_features=512, bias=False)\n",
              "            )\n",
              "            (layer_norm): T5LayerNorm()\n",
              "            (dropout): Dropout(p=0.1, inplace=False)\n",
              "          )\n",
              "          (2): T5LayerFF(\n",
              "            (DenseReluDense): T5DenseGatedGeluDense(\n",
              "              (wi_0): Linear(in_features=512, out_features=1024, bias=False)\n",
              "              (wi_1): Linear(in_features=512, out_features=1024, bias=False)\n",
              "              (wo): Linear(in_features=1024, out_features=512, bias=False)\n",
              "              (dropout): Dropout(p=0.1, inplace=False)\n",
              "            )\n",
              "            (layer_norm): T5LayerNorm()\n",
              "            (dropout): Dropout(p=0.1, inplace=False)\n",
              "          )\n",
              "        )\n",
              "      )\n",
              "      (5): T5Block(\n",
              "        (layer): ModuleList(\n",
              "          (0): T5LayerSelfAttention(\n",
              "            (SelfAttention): T5Attention(\n",
              "              (q): Linear(in_features=512, out_features=384, bias=False)\n",
              "              (k): Linear(in_features=512, out_features=384, bias=False)\n",
              "              (v): Linear(in_features=512, out_features=384, bias=False)\n",
              "              (o): Linear(in_features=384, out_features=512, bias=False)\n",
              "            )\n",
              "            (layer_norm): T5LayerNorm()\n",
              "            (dropout): Dropout(p=0.1, inplace=False)\n",
              "          )\n",
              "          (1): T5LayerCrossAttention(\n",
              "            (EncDecAttention): T5Attention(\n",
              "              (q): Linear(in_features=512, out_features=384, bias=False)\n",
              "              (k): Linear(in_features=512, out_features=384, bias=False)\n",
              "              (v): Linear(in_features=512, out_features=384, bias=False)\n",
              "              (o): Linear(in_features=384, out_features=512, bias=False)\n",
              "            )\n",
              "            (layer_norm): T5LayerNorm()\n",
              "            (dropout): Dropout(p=0.1, inplace=False)\n",
              "          )\n",
              "          (2): T5LayerFF(\n",
              "            (DenseReluDense): T5DenseGatedGeluDense(\n",
              "              (wi_0): Linear(in_features=512, out_features=1024, bias=False)\n",
              "              (wi_1): Linear(in_features=512, out_features=1024, bias=False)\n",
              "              (wo): Linear(in_features=1024, out_features=512, bias=False)\n",
              "              (dropout): Dropout(p=0.1, inplace=False)\n",
              "            )\n",
              "            (layer_norm): T5LayerNorm()\n",
              "            (dropout): Dropout(p=0.1, inplace=False)\n",
              "          )\n",
              "        )\n",
              "      )\n",
              "      (6): T5Block(\n",
              "        (layer): ModuleList(\n",
              "          (0): T5LayerSelfAttention(\n",
              "            (SelfAttention): T5Attention(\n",
              "              (q): Linear(in_features=512, out_features=384, bias=False)\n",
              "              (k): Linear(in_features=512, out_features=384, bias=False)\n",
              "              (v): Linear(in_features=512, out_features=384, bias=False)\n",
              "              (o): Linear(in_features=384, out_features=512, bias=False)\n",
              "            )\n",
              "            (layer_norm): T5LayerNorm()\n",
              "            (dropout): Dropout(p=0.1, inplace=False)\n",
              "          )\n",
              "          (1): T5LayerCrossAttention(\n",
              "            (EncDecAttention): T5Attention(\n",
              "              (q): Linear(in_features=512, out_features=384, bias=False)\n",
              "              (k): Linear(in_features=512, out_features=384, bias=False)\n",
              "              (v): Linear(in_features=512, out_features=384, bias=False)\n",
              "              (o): Linear(in_features=384, out_features=512, bias=False)\n",
              "            )\n",
              "            (layer_norm): T5LayerNorm()\n",
              "            (dropout): Dropout(p=0.1, inplace=False)\n",
              "          )\n",
              "          (2): T5LayerFF(\n",
              "            (DenseReluDense): T5DenseGatedGeluDense(\n",
              "              (wi_0): Linear(in_features=512, out_features=1024, bias=False)\n",
              "              (wi_1): Linear(in_features=512, out_features=1024, bias=False)\n",
              "              (wo): Linear(in_features=1024, out_features=512, bias=False)\n",
              "              (dropout): Dropout(p=0.1, inplace=False)\n",
              "            )\n",
              "            (layer_norm): T5LayerNorm()\n",
              "            (dropout): Dropout(p=0.1, inplace=False)\n",
              "          )\n",
              "        )\n",
              "      )\n",
              "      (7): T5Block(\n",
              "        (layer): ModuleList(\n",
              "          (0): T5LayerSelfAttention(\n",
              "            (SelfAttention): T5Attention(\n",
              "              (q): Linear(in_features=512, out_features=384, bias=False)\n",
              "              (k): Linear(in_features=512, out_features=384, bias=False)\n",
              "              (v): Linear(in_features=512, out_features=384, bias=False)\n",
              "              (o): Linear(in_features=384, out_features=512, bias=False)\n",
              "            )\n",
              "            (layer_norm): T5LayerNorm()\n",
              "            (dropout): Dropout(p=0.1, inplace=False)\n",
              "          )\n",
              "          (1): T5LayerCrossAttention(\n",
              "            (EncDecAttention): T5Attention(\n",
              "              (q): Linear(in_features=512, out_features=384, bias=False)\n",
              "              (k): Linear(in_features=512, out_features=384, bias=False)\n",
              "              (v): Linear(in_features=512, out_features=384, bias=False)\n",
              "              (o): Linear(in_features=384, out_features=512, bias=False)\n",
              "            )\n",
              "            (layer_norm): T5LayerNorm()\n",
              "            (dropout): Dropout(p=0.1, inplace=False)\n",
              "          )\n",
              "          (2): T5LayerFF(\n",
              "            (DenseReluDense): T5DenseGatedGeluDense(\n",
              "              (wi_0): Linear(in_features=512, out_features=1024, bias=False)\n",
              "              (wi_1): Linear(in_features=512, out_features=1024, bias=False)\n",
              "              (wo): Linear(in_features=1024, out_features=512, bias=False)\n",
              "              (dropout): Dropout(p=0.1, inplace=False)\n",
              "            )\n",
              "            (layer_norm): T5LayerNorm()\n",
              "            (dropout): Dropout(p=0.1, inplace=False)\n",
              "          )\n",
              "        )\n",
              "      )\n",
              "    )\n",
              "    (final_layer_norm): T5LayerNorm()\n",
              "    (dropout): Dropout(p=0.1, inplace=False)\n",
              "  )\n",
              "  (lm_head): Linear(in_features=512, out_features=250112, bias=False)\n",
              ")"
            ]
          },
          "execution_count": null,
          "metadata": {},
          "output_type": "execute_result"
        }
      ]
    },
    {
      "cell_type": "markdown",
      "metadata": {
        "id": "AI3vIuHTSB10"
      },
      "source": [
        "### 💻 파라미터 설정하기"
      ]
    },
    {
      "cell_type": "code",
      "metadata": {
        "colab": {
          "background_save": true
        },
        "id": "tjXjXtvnSAef"
      },
      "source": [
        "# 데이터 전처리를 위한 파라미터 \n",
        "max_source_length = 1024\n",
        "max_target_length = 128\n",
        "padding = False\n",
        "\n",
        "# 학습을 위한 파라미터\n",
        "preprocessing_num_workers=12\n",
        "num_beams = 2\n",
        "max_train_samples = 16\n",
        "max_val_samples = 16\n",
        "batch_size = 4\n",
        "num_train_epochs = 30"
      ],
      "execution_count": null,
      "outputs": []
    },
    {
      "cell_type": "markdown",
      "metadata": {
        "id": "3mLwSy1aShBT"
      },
      "source": [
        "### 💻 전처리하기"
      ]
    },
    {
      "cell_type": "markdown",
      "metadata": {
        "id": "HzrqPfI84OtZ"
      },
      "source": [
        "![image.png](data:image/png;base64,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)"
      ]
    },
    {
      "cell_type": "code",
      "metadata": {
        "colab": {
          "background_save": true
        },
        "id": "YDD50QqYDdKr"
      },
      "source": [
        "def preprocess_function(examples):\n",
        "    inputs = [f\"question: {q}  context: {c} </s>\" for q, c in zip(examples[\"question\"], examples[\"context\"])]\n",
        "    targets = [f'{a[\"text\"][0]} </s>' for a in examples['answers']]\n",
        "    model_inputs = tokenizer(\n",
        "        inputs,\n",
        "        max_length=max_source_length,\n",
        "        padding=padding,\n",
        "        truncation=True\n",
        "    )\n",
        "\n",
        "    # targets(label)을 위해 tokenizer 설정\n",
        "    with tokenizer.as_target_tokenizer():\n",
        "        labels = tokenizer(\n",
        "            targets,\n",
        "            max_length=max_target_length,\n",
        "            padding=padding,\n",
        "            truncation=True\n",
        "        )\n",
        "\n",
        "    model_inputs[\"labels\"] = labels[\"input_ids\"]\n",
        "    model_inputs[\"example_id\"] = []\n",
        "    for i in range(len(model_inputs[\"labels\"])):\n",
        "        model_inputs[\"example_id\"].append(examples[\"id\"][i])\n",
        "    return model_inputs"
      ],
      "execution_count": null,
      "outputs": []
    },
    {
      "cell_type": "code",
      "metadata": {
        "colab": {
          "background_save": true
        },
        "id": "-b70jh26IrJS"
      },
      "source": [
        "column_names = datasets[\"train\"].column_names"
      ],
      "execution_count": null,
      "outputs": []
    },
    {
      "cell_type": "code",
      "metadata": {
        "colab": {
          "background_save": true,
          "referenced_widgets": [
            "5ba02f3f5449461aa1d53c09a9ba3094",
            "46240c85716248aa8c50b1db33602bd9",
            "f470605a16d5401ba334bef1a8ae62d4",
            "4ee76413a3b944f48a77667b1d6a28a6",
            "b1755f77d180494e8e4761d6c9d97477",
            "38e323b1184b48e19388467a11c4d7d0",
            "1bd937500ab74615adb49fccf9375403",
            "010676f57fde4b6cac4707c835c39f9a",
            "e47d9299fc64439cbaf004c2e20ad0a0",
            "682a157f00b0455db05f0b3389d9b7e9",
            "05ddcd583cdc43a7af75e629d97cf251",
            "90a06cb4d1524a76b8d25a183442e0de"
          ]
        },
        "id": "DDtsaJeVIrJT",
        "outputId": "2c8a2cc1-6f1b-4dae-8beb-8ccf2d18b06e"
      },
      "source": [
        "# 전체 train dataset을 사용하는 예제가 아니고, sampling된 데이터를 사용하는 코드입니다. 적절하게 코드를 수정하여 사용하셔도 좋습니다.\n",
        "\n",
        "train_dataset = datasets[\"train\"]\n",
        "train_dataset = train_dataset.select(range(max_train_samples))\n",
        "train_dataset = train_dataset.map(\n",
        "    preprocess_function,\n",
        "    batched=True,\n",
        "    num_proc=preprocessing_num_workers,\n",
        "    remove_columns=column_names,\n",
        "    load_from_cache_file=False,\n",
        ")"
      ],
      "execution_count": null,
      "outputs": [
        {
          "name": "stdout",
          "output_type": "stream",
          "text": [
            " "
          ]
        },
        {
          "data": {
            "application/vnd.jupyter.widget-view+json": {
              "model_id": "5ba02f3f5449461aa1d53c09a9ba3094",
              "version_major": 2,
              "version_minor": 0
            },
            "text/plain": [
              "HBox(children=(FloatProgress(value=0.0, description='#0', max=1.0, style=ProgressStyle(description_width='init…"
            ]
          },
          "metadata": {},
          "output_type": "display_data"
        },
        {
          "name": "stdout",
          "output_type": "stream",
          "text": [
            "\n",
            "      "
          ]
        },
        {
          "data": {
            "application/vnd.jupyter.widget-view+json": {
              "model_id": "46240c85716248aa8c50b1db33602bd9",
              "version_major": 2,
              "version_minor": 0
            },
            "text/plain": [
              "HBox(children=(FloatProgress(value=0.0, description='#1', max=1.0, style=ProgressStyle(description_width='init…"
            ]
          },
          "metadata": {},
          "output_type": "display_data"
        },
        {
          "name": "stdout",
          "output_type": "stream",
          "text": [
            " "
          ]
        },
        {
          "data": {
            "application/vnd.jupyter.widget-view+json": {
              "model_id": "f470605a16d5401ba334bef1a8ae62d4",
              "version_major": 2,
              "version_minor": 0
            },
            "text/plain": [
              "HBox(children=(FloatProgress(value=0.0, description='#4', max=1.0, style=ProgressStyle(description_width='init…"
            ]
          },
          "metadata": {},
          "output_type": "display_data"
        },
        {
          "name": "stdout",
          "output_type": "stream",
          "text": [
            " "
          ]
        },
        {
          "data": {
            "application/vnd.jupyter.widget-view+json": {
              "model_id": "4ee76413a3b944f48a77667b1d6a28a6",
              "version_major": 2,
              "version_minor": 0
            },
            "text/plain": [
              "HBox(children=(FloatProgress(value=0.0, description='#2', max=1.0, style=ProgressStyle(description_width='init…"
            ]
          },
          "metadata": {},
          "output_type": "display_data"
        },
        {
          "name": "stdout",
          "output_type": "stream",
          "text": [
            "\n",
            " "
          ]
        },
        {
          "data": {
            "application/vnd.jupyter.widget-view+json": {
              "model_id": "b1755f77d180494e8e4761d6c9d97477",
              "version_major": 2,
              "version_minor": 0
            },
            "text/plain": [
              "HBox(children=(FloatProgress(value=0.0, description='#3', max=1.0, style=ProgressStyle(description_width='init…"
            ]
          },
          "metadata": {},
          "output_type": "display_data"
        },
        {
          "name": "stdout",
          "output_type": "stream",
          "text": [
            "  "
          ]
        },
        {
          "data": {
            "application/vnd.jupyter.widget-view+json": {
              "model_id": "38e323b1184b48e19388467a11c4d7d0",
              "version_major": 2,
              "version_minor": 0
            },
            "text/plain": [
              "HBox(children=(FloatProgress(value=0.0, description='#5', max=1.0, style=ProgressStyle(description_width='init…"
            ]
          },
          "metadata": {},
          "output_type": "display_data"
        },
        {
          "name": "stdout",
          "output_type": "stream",
          "text": [
            "\n"
          ]
        },
        {
          "data": {
            "application/vnd.jupyter.widget-view+json": {
              "model_id": "1bd937500ab74615adb49fccf9375403",
              "version_major": 2,
              "version_minor": 0
            },
            "text/plain": [
              "HBox(children=(FloatProgress(value=0.0, description='#6', max=1.0, style=ProgressStyle(description_width='init…"
            ]
          },
          "metadata": {},
          "output_type": "display_data"
        },
        {
          "data": {
            "application/vnd.jupyter.widget-view+json": {
              "model_id": "010676f57fde4b6cac4707c835c39f9a",
              "version_major": 2,
              "version_minor": 0
            },
            "text/plain": [
              "HBox(children=(FloatProgress(value=0.0, description='#7', max=1.0, style=ProgressStyle(description_width='init…"
            ]
          },
          "metadata": {},
          "output_type": "display_data"
        },
        {
          "name": "stdout",
          "output_type": "stream",
          "text": [
            "\n"
          ]
        },
        {
          "data": {
            "application/vnd.jupyter.widget-view+json": {
              "model_id": "e47d9299fc64439cbaf004c2e20ad0a0",
              "version_major": 2,
              "version_minor": 0
            },
            "text/plain": [
              "HBox(children=(FloatProgress(value=0.0, description='#8', max=1.0, style=ProgressStyle(description_width='init…"
            ]
          },
          "metadata": {},
          "output_type": "display_data"
        },
        {
          "name": "stdout",
          "output_type": "stream",
          "text": [
            "\n"
          ]
        },
        {
          "data": {
            "application/vnd.jupyter.widget-view+json": {
              "model_id": "682a157f00b0455db05f0b3389d9b7e9",
              "version_major": 2,
              "version_minor": 0
            },
            "text/plain": [
              "HBox(children=(FloatProgress(value=0.0, description='#11', max=1.0, style=ProgressStyle(description_width='ini…"
            ]
          },
          "metadata": {},
          "output_type": "display_data"
        },
        {
          "name": "stdout",
          "output_type": "stream",
          "text": [
            "\n"
          ]
        },
        {
          "data": {
            "application/vnd.jupyter.widget-view+json": {
              "model_id": "05ddcd583cdc43a7af75e629d97cf251",
              "version_major": 2,
              "version_minor": 0
            },
            "text/plain": [
              "HBox(children=(FloatProgress(value=0.0, description='#10', max=1.0, style=ProgressStyle(description_width='ini…"
            ]
          },
          "metadata": {},
          "output_type": "display_data"
        },
        {
          "data": {
            "application/vnd.jupyter.widget-view+json": {
              "model_id": "90a06cb4d1524a76b8d25a183442e0de",
              "version_major": 2,
              "version_minor": 0
            },
            "text/plain": [
              "HBox(children=(FloatProgress(value=0.0, description='#9', max=1.0, style=ProgressStyle(description_width='init…"
            ]
          },
          "metadata": {},
          "output_type": "display_data"
        },
        {
          "name": "stdout",
          "output_type": "stream",
          "text": [
            "\n",
            "\n",
            "\n",
            "\n",
            "\n",
            "\n"
          ]
        }
      ]
    },
    {
      "cell_type": "code",
      "metadata": {
        "colab": {
          "background_save": true,
          "referenced_widgets": [
            "e3385b59d83d48d895c99d1d2204a1d2",
            "df587b7b6eb4405797b549db53424d06",
            "26f96995401f4026bada02fe7f8e2891",
            "181f233e8bf44602990c20fe054bd22b",
            "6436bf2cd08d44bba302fb5d7bd4dc2f",
            "2425f8ef618d4f6bbc9e3a8130aef72b",
            "28ab372ba5724f86ad7f786fee7455b9",
            "bef895e9b74642bd9ed26f224c0fd4c9",
            "d32b6968fb5c4154945e9ae23be9c92b",
            "b77656b6af9145e5b8f790d4205c3775",
            "b5ae193f644843fc9682d73d7cc0ca20",
            "39493ff7049b4ca59dcbf3c350c1a7ee"
          ]
        },
        "id": "XAUIoow83hQs",
        "outputId": "38b8831b-3ff2-4f04-e812-46fc3e5f43a2"
      },
      "source": [
        "# 전체 데이터로 평가\n",
        "eval_examples = datasets[\"validation\"]\n",
        "\n",
        "# 샘플 데이터로 평가\n",
        "# eval_examples = eval_examples.select(range(max_val_samples)) \n",
        "\n",
        "eval_dataset = eval_examples.map(\n",
        "    preprocess_function,\n",
        "    batched=True,\n",
        "    num_proc=preprocessing_num_workers,\n",
        "    remove_columns=column_names,\n",
        "    load_from_cache_file=False,\n",
        ")\n"
      ],
      "execution_count": null,
      "outputs": [
        {
          "name": "stdout",
          "output_type": "stream",
          "text": [
            " "
          ]
        },
        {
          "data": {
            "application/vnd.jupyter.widget-view+json": {
              "model_id": "e3385b59d83d48d895c99d1d2204a1d2",
              "version_major": 2,
              "version_minor": 0
            },
            "text/plain": [
              "HBox(children=(FloatProgress(value=0.0, description='#0', max=1.0, style=ProgressStyle(description_width='init…"
            ]
          },
          "metadata": {},
          "output_type": "display_data"
        },
        {
          "name": "stdout",
          "output_type": "stream",
          "text": [
            "      "
          ]
        },
        {
          "data": {
            "application/vnd.jupyter.widget-view+json": {
              "model_id": "df587b7b6eb4405797b549db53424d06",
              "version_major": 2,
              "version_minor": 0
            },
            "text/plain": [
              "HBox(children=(FloatProgress(value=0.0, description='#1', max=1.0, style=ProgressStyle(description_width='init…"
            ]
          },
          "metadata": {},
          "output_type": "display_data"
        },
        {
          "name": "stdout",
          "output_type": "stream",
          "text": [
            "    "
          ]
        },
        {
          "data": {
            "application/vnd.jupyter.widget-view+json": {
              "model_id": "26f96995401f4026bada02fe7f8e2891",
              "version_major": 2,
              "version_minor": 0
            },
            "text/plain": [
              "HBox(children=(FloatProgress(value=0.0, description='#2', max=1.0, style=ProgressStyle(description_width='init…"
            ]
          },
          "metadata": {},
          "output_type": "display_data"
        },
        {
          "name": "stdout",
          "output_type": "stream",
          "text": [
            " "
          ]
        },
        {
          "data": {
            "application/vnd.jupyter.widget-view+json": {
              "model_id": "181f233e8bf44602990c20fe054bd22b",
              "version_major": 2,
              "version_minor": 0
            },
            "text/plain": [
              "HBox(children=(FloatProgress(value=0.0, description='#4', max=1.0, style=ProgressStyle(description_width='init…"
            ]
          },
          "metadata": {},
          "output_type": "display_data"
        },
        {
          "data": {
            "application/vnd.jupyter.widget-view+json": {
              "model_id": "6436bf2cd08d44bba302fb5d7bd4dc2f",
              "version_major": 2,
              "version_minor": 0
            },
            "text/plain": [
              "HBox(children=(FloatProgress(value=0.0, description='#3', max=1.0, style=ProgressStyle(description_width='init…"
            ]
          },
          "metadata": {},
          "output_type": "display_data"
        },
        {
          "data": {
            "application/vnd.jupyter.widget-view+json": {
              "model_id": "2425f8ef618d4f6bbc9e3a8130aef72b",
              "version_major": 2,
              "version_minor": 0
            },
            "text/plain": [
              "HBox(children=(FloatProgress(value=0.0, description='#5', max=1.0, style=ProgressStyle(description_width='init…"
            ]
          },
          "metadata": {},
          "output_type": "display_data"
        },
        {
          "data": {
            "application/vnd.jupyter.widget-view+json": {
              "model_id": "28ab372ba5724f86ad7f786fee7455b9",
              "version_major": 2,
              "version_minor": 0
            },
            "text/plain": [
              "HBox(children=(FloatProgress(value=0.0, description='#6', max=1.0, style=ProgressStyle(description_width='init…"
            ]
          },
          "metadata": {},
          "output_type": "display_data"
        },
        {
          "data": {
            "application/vnd.jupyter.widget-view+json": {
              "model_id": "bef895e9b74642bd9ed26f224c0fd4c9",
              "version_major": 2,
              "version_minor": 0
            },
            "text/plain": [
              "HBox(children=(FloatProgress(value=0.0, description='#7', max=1.0, style=ProgressStyle(description_width='init…"
            ]
          },
          "metadata": {},
          "output_type": "display_data"
        },
        {
          "data": {
            "application/vnd.jupyter.widget-view+json": {
              "model_id": "d32b6968fb5c4154945e9ae23be9c92b",
              "version_major": 2,
              "version_minor": 0
            },
            "text/plain": [
              "HBox(children=(FloatProgress(value=0.0, description='#10', max=1.0, style=ProgressStyle(description_width='ini…"
            ]
          },
          "metadata": {},
          "output_type": "display_data"
        },
        {
          "data": {
            "application/vnd.jupyter.widget-view+json": {
              "model_id": "b77656b6af9145e5b8f790d4205c3775",
              "version_major": 2,
              "version_minor": 0
            },
            "text/plain": [
              "HBox(children=(FloatProgress(value=0.0, description='#9', max=1.0, style=ProgressStyle(description_width='init…"
            ]
          },
          "metadata": {},
          "output_type": "display_data"
        },
        {
          "data": {
            "application/vnd.jupyter.widget-view+json": {
              "model_id": "b5ae193f644843fc9682d73d7cc0ca20",
              "version_major": 2,
              "version_minor": 0
            },
            "text/plain": [
              "HBox(children=(FloatProgress(value=0.0, description='#8', max=1.0, style=ProgressStyle(description_width='init…"
            ]
          },
          "metadata": {},
          "output_type": "display_data"
        },
        {
          "data": {
            "application/vnd.jupyter.widget-view+json": {
              "model_id": "39493ff7049b4ca59dcbf3c350c1a7ee",
              "version_major": 2,
              "version_minor": 0
            },
            "text/plain": [
              "HBox(children=(FloatProgress(value=0.0, description='#11', max=1.0, style=ProgressStyle(description_width='ini…"
            ]
          },
          "metadata": {},
          "output_type": "display_data"
        },
        {
          "name": "stdout",
          "output_type": "stream",
          "text": [
            "\n",
            "\n",
            "\n",
            "\n",
            "\n",
            "\n",
            "\n",
            "\n",
            "\n",
            "\n",
            "\n",
            "\n"
          ]
        }
      ]
    },
    {
      "cell_type": "markdown",
      "metadata": {
        "id": "545PP3o8IrJV"
      },
      "source": [
        "### 💻 Fine-tuning하기"
      ]
    },
    {
      "cell_type": "code",
      "metadata": {
        "colab": {
          "background_save": true
        },
        "id": "BtdkbBXRSnE_"
      },
      "source": [
        "from transformers import (\n",
        "    DataCollatorForSeq2Seq,\n",
        "    Seq2SeqTrainer,\n",
        "    Seq2SeqTrainingArguments\n",
        ")"
      ],
      "execution_count": null,
      "outputs": []
    },
    {
      "cell_type": "code",
      "metadata": {
        "colab": {
          "background_save": true
        },
        "id": "2xyccays3kjA"
      },
      "source": [
        "label_pad_token_id = tokenizer.pad_token_id\n",
        "data_collator = DataCollatorForSeq2Seq(\n",
        "    tokenizer,\n",
        "    model=model,\n",
        "    label_pad_token_id=label_pad_token_id,\n",
        "    pad_to_multiple_of=None,\n",
        ")"
      ],
      "execution_count": null,
      "outputs": []
    },
    {
      "cell_type": "code",
      "metadata": {
        "colab": {
          "background_save": true
        },
        "id": "fWEn9-bX3mAM"
      },
      "source": [
        "def postprocess_text(preds, labels):\n",
        "  \"\"\"\n",
        "  postprocess는 nltk를 이용합니다.\n",
        "  Huggingface의 TemplateProcessing을 사용하여\n",
        "  정규표현식 기반으로 postprocess를 진행할 수 있지만\n",
        "  해당 미션에서는 nltk를 이용하여 간단한 후처리를 진행합니다\n",
        "  \"\"\"\n",
        "\n",
        "  preds = [pred.strip() for pred in preds]\n",
        "  labels = [label.strip() for label in labels]\n",
        "    \n",
        "  preds = [\"\\n\".join(nltk.sent_tokenize(pred)) for pred in preds]\n",
        "  labels = [\"\\n\".join(nltk.sent_tokenize(label)) for label in labels]\n",
        "\n",
        "  return preds, labels\n",
        "\n",
        "def compute_metrics(eval_preds):\n",
        "  preds, labels = eval_preds\n",
        "  if isinstance(preds, tuple):\n",
        "      preds = preds[0]\n",
        "  \n",
        "  decoded_preds = tokenizer.batch_decode(preds, skip_special_tokens=True)\n",
        "  # decoded_labels은 rouge metric을 위한 것이며, f1/em을 구할 때 사용되지 않음\n",
        "  decoded_labels = tokenizer.batch_decode(labels, skip_special_tokens=True)\n",
        "\n",
        "  # 간단한 post-processing\n",
        "  decoded_preds, decoded_labels = postprocess_text(decoded_preds, decoded_labels)\n",
        "\n",
        "  formatted_predictions = [{\"id\": ex[\"id\"], \"prediction_text\": decoded_preds[i]} for i, ex in enumerate(datasets[\"validation\"].select(range(max_val_samples)))]\n",
        "  references = [{\"id\": ex[\"id\"], \"answers\": ex[\"answers\"]} for ex in datasets[\"validation\"].select(range(max_val_samples))]\n",
        "\n",
        "  result = metric.compute(predictions=formatted_predictions, references=references)\n",
        "  return result"
      ],
      "execution_count": null,
      "outputs": []
    },
    {
      "cell_type": "code",
      "metadata": {
        "colab": {
          "background_save": true
        },
        "id": "Bliy8zgjIrJY"
      },
      "source": [
        "args = Seq2SeqTrainingArguments(\n",
        "    output_dir='outputs', \n",
        "    do_train=True, \n",
        "    do_eval=True, \n",
        "    predict_with_generate=True,\n",
        "    per_device_train_batch_size=batch_size,\n",
        "    per_device_eval_batch_size=batch_size,\n",
        "    num_train_epochs=num_train_epochs,\n",
        "    save_strategy='epoch',\n",
        "    save_total_limit=2 # 모델 checkpoint를 최대 몇개 저장할지 설정\n",
        ")"
      ],
      "execution_count": null,
      "outputs": []
    },
    {
      "cell_type": "code",
      "metadata": {
        "colab": {
          "background_save": true
        },
        "id": "imY1oC3SIrJf"
      },
      "source": [
        "trainer = Seq2SeqTrainer(\n",
        "    model=model,\n",
        "    args=args,\n",
        "    train_dataset=train_dataset,\n",
        "    eval_dataset=eval_dataset,\n",
        "    tokenizer=tokenizer,\n",
        "    data_collator=data_collator,\n",
        "    compute_metrics=compute_metrics,\n",
        ")"
      ],
      "execution_count": null,
      "outputs": []
    },
    {
      "cell_type": "code",
      "metadata": {
        "colab": {
          "base_uri": "https://localhost:8080/",
          "height": 76
        },
        "id": "uNx5pyRlIrJh",
        "outputId": "97d6db67-a153-481d-a936-75f8c05e854d"
      },
      "source": [
        "train_result = trainer.train(resume_from_checkpoint=None)"
      ],
      "execution_count": null,
      "outputs": [
        {
          "data": {
            "text/html": [
              "\n",
              "    <div>\n",
              "        <style>\n",
              "            /* Turns off some styling */\n",
              "            progress {\n",
              "                /* gets rid of default border in Firefox and Opera. */\n",
              "                border: none;\n",
              "                /* Needs to be in here for Safari polyfill so background images work as expected. */\n",
              "                background-size: auto;\n",
              "            }\n",
              "        </style>\n",
              "      \n",
              "      <progress value='49' max='120' style='width:300px; height:20px; vertical-align: middle;'></progress>\n",
              "      [ 49/120 10:38 < 16:03, 0.07 it/s, Epoch 12/30]\n",
              "    </div>\n",
              "    <table border=\"1\" class=\"dataframe\">\n",
              "  <thead>\n",
              "    <tr style=\"text-align: left;\">\n",
              "      <th>Step</th>\n",
              "      <th>Training Loss</th>\n",
              "    </tr>\n",
              "  </thead>\n",
              "  <tbody>\n",
              "  </tbody>\n",
              "</table><p>"
            ],
            "text/plain": [
              "<IPython.core.display.HTML object>"
            ]
          },
          "metadata": {},
          "output_type": "display_data"
        }
      ]
    },
    {
      "cell_type": "code",
      "metadata": {
        "colab": {
          "base_uri": "https://localhost:8080/"
        },
        "id": "kfAo4wLBDdKv",
        "outputId": "0bc9b0f5-0d94-4944-9094-4d2141be6737"
      },
      "source": [
        "train_result"
      ],
      "execution_count": null,
      "outputs": [
        {
          "data": {
            "text/plain": [
              "TrainOutput(global_step=120, training_loss=32.5375732421875, metrics={'train_runtime': 1777.315, 'train_samples_per_second': 0.068, 'total_flos': 429387257432064.0, 'epoch': 30.0, 'init_mem_cpu_alloc_delta': 927588352, 'init_mem_gpu_alloc_delta': 1200707584, 'init_mem_cpu_peaked_delta': 0, 'init_mem_gpu_peaked_delta': 0, 'train_mem_cpu_alloc_delta': -329199616, 'train_mem_gpu_alloc_delta': 3625318400, 'train_mem_cpu_peaked_delta': 371867648, 'train_mem_gpu_peaked_delta': 2061845504})"
            ]
          },
          "execution_count": 22,
          "metadata": {},
          "output_type": "execute_result"
        }
      ]
    },
    {
      "cell_type": "markdown",
      "metadata": {
        "id": "H52hVdy7DdKv"
      },
      "source": [
        "### 💻 평가하기"
      ]
    },
    {
      "cell_type": "code",
      "metadata": {
        "colab": {
          "base_uri": "https://localhost:8080/",
          "height": 108
        },
        "id": "6yZyE8m3TNlL",
        "outputId": "2c6765c6-77af-492c-bc82-2f4255532f52"
      },
      "source": [
        "metrics = trainer.evaluate(\n",
        "    max_length=max_target_length,\n",
        "    num_beams=num_beams,\n",
        "    metric_key_prefix=\"eval\"\n",
        ")"
      ],
      "execution_count": null,
      "outputs": [
        {
          "name": "stderr",
          "output_type": "stream",
          "text": [
            "/usr/local/lib/python3.7/dist-packages/torch/_tensor.py:575: UserWarning: floor_divide is deprecated, and will be removed in a future version of pytorch. It currently rounds toward 0 (like the 'trunc' function NOT 'floor'). This results in incorrect rounding for negative values.\n",
            "To keep the current behavior, use torch.div(a, b, rounding_mode='trunc'), or for actual floor division, use torch.div(a, b, rounding_mode='floor'). (Triggered internally at  /pytorch/aten/src/ATen/native/BinaryOps.cpp:467.)\n",
            "  return torch.floor_divide(self, other)\n"
          ]
        },
        {
          "data": {
            "text/html": [
              "\n",
              "    <div>\n",
              "        <style>\n",
              "            /* Turns off some styling */\n",
              "            progress {\n",
              "                /* gets rid of default border in Firefox and Opera. */\n",
              "                border: none;\n",
              "                /* Needs to be in here for Safari polyfill so background images work as expected. */\n",
              "                background-size: auto;\n",
              "            }\n",
              "        </style>\n",
              "      \n",
              "      <progress value='1444' max='1444' style='width:300px; height:20px; vertical-align: middle;'></progress>\n",
              "      [1444/1444 40:08]\n",
              "    </div>\n",
              "    "
            ],
            "text/plain": [
              "<IPython.core.display.HTML object>"
            ]
          },
          "metadata": {},
          "output_type": "display_data"
        }
      ]
    },
    {
      "cell_type": "code",
      "metadata": {
        "colab": {
          "base_uri": "https://localhost:8080/"
        },
        "id": "Hx_7D7DMKy8s",
        "outputId": "f8291dea-8e4b-4c68-953b-0a493b6a2761"
      },
      "source": [
        "metrics"
      ],
      "execution_count": null,
      "outputs": [
        {
          "data": {
            "text/plain": [
              "{'epoch': 30.0,\n",
              " 'eval_exact_match': 0.0,\n",
              " 'eval_f1': 1.5625,\n",
              " 'eval_loss': 23.192293167114258,\n",
              " 'eval_mem_cpu_alloc_delta': 60768256,\n",
              " 'eval_mem_cpu_peaked_delta': 0,\n",
              " 'eval_mem_gpu_alloc_delta': 0,\n",
              " 'eval_mem_gpu_peaked_delta': 529559552,\n",
              " 'eval_runtime': 2410.8254,\n",
              " 'eval_samples_per_second': 2.395}"
            ]
          },
          "execution_count": 24,
          "metadata": {},
          "output_type": "execute_result"
        }
      ]
    },
    {
      "cell_type": "code",
      "metadata": {
        "colab": {
          "base_uri": "https://localhost:8080/",
          "height": 35
        },
        "id": "BhuNKJNo4PRp",
        "outputId": "f787ffde-53aa-43c9-d4da-6dc3ee7b25b3"
      },
      "source": [
        "document = \"세종대왕님은 언제 태어났어?\"\n",
        "input_ids = tokenizer(document, return_tensors='pt').input_ids\n",
        "outputs = model.generate(input_ids.to('cuda'))\n",
        "tokenizer.decode(outputs[0], skip_special_tokens=True)"
      ],
      "execution_count": null,
      "outputs": [
        {
          "data": {
            "application/vnd.google.colaboratory.intrinsic+json": {
              "type": "string"
            },
            "text/plain": [
              "'<extra_id_0>?'"
            ]
          },
          "execution_count": 27,
          "metadata": {},
          "output_type": "execute_result"
        }
      ]
    },
    {
      "cell_type": "code",
      "metadata": {
        "colab": {
          "base_uri": "https://localhost:8080/"
        },
        "id": "dGW9Gm0oTDl3",
        "outputId": "3e5d7dff-d9c8-4c21-efcd-44eeb7ebd40f"
      },
      "source": [
        "outputs"
      ],
      "execution_count": null,
      "outputs": [
        {
          "data": {
            "text/plain": [
              "tensor([[     0, 250099,    291,      1]], device='cuda:0')"
            ]
          },
          "execution_count": 28,
          "metadata": {},
          "output_type": "execute_result"
        }
      ]
    },
    {
      "cell_type": "code",
      "metadata": {
        "id": "ZayppB5Yvhl5"
      },
      "source": [
        ""
      ],
      "execution_count": null,
      "outputs": []
    }
  ]
}