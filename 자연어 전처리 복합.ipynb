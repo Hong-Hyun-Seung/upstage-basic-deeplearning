{
  "nbformat": 4,
  "nbformat_minor": 0,
  "metadata": {
    "colab": {
      "name": "(2강) 자연어의 전처리 - 0_한국어전처리.ipynb의 사본",
      "provenance": [],
      "collapsed_sections": [],
      "toc_visible": true
    },
    "kernelspec": {
      "name": "python3",
      "display_name": "Python 3"
    },
    "accelerator": "GPU"
  },
  "cells": [
    {
      "cell_type": "markdown",
      "metadata": {
        "id": "n-twU6g8ofUJ"
      },
      "source": [
        "# 자연어 전처리 실습\n",
        "\n",
        "> 작성자      \n",
        "```\n",
        "* 김성현 (bananaband657@gmail.com)  \n",
        "1기 멘토\n",
        "김바다 (qkek983@gmail.com)\n",
        "박상희 (parksanghee0103@gmail.com)  \n",
        "이정우 (jungwoo.l2.rs@gmail.com)\n",
        "2기 멘토\n",
        "박상희 (parksanghee0103@gmail.com)  \n",
        "이정우 (jungwoo.l2.rs@gmail.com)\n",
        "이녕우 (leenw2@gmail.com)\n",
        "박채훈 (qkrcogns2222@gmail.com)\n",
        "```\n",
        "[CC BY-NC-ND](https://creativecommons.org/licenses/by-nc-nd/2.0/kr/)\n"
      ]
    },
    {
      "cell_type": "markdown",
      "metadata": {
        "id": "slEZ86kEZJ9j"
      },
      "source": [
        "## 전처리를 위한 코퍼스 수집"
      ]
    },
    {
      "cell_type": "markdown",
      "metadata": {
        "id": "n_WthjqiYBGz"
      },
      "source": [
        "자연어 전처리 실습을 위해, 먼저 뉴스 기사를 크롤링해보도록 하겠습니다.   \n",
        "일반적으로 크롤링 코드를 작성하려면 많은 요소들을 고려해야합니다.   \n",
        "본 실습에서는 url 정보만 입력해주면 텍스트를 추출해주는 [라이브러리](https://github.com/codelucas/newspaper)를 사용하도록 하겠습니다.      "
      ]
    },
    {
      "cell_type": "code",
      "metadata": {
        "colab": {
          "base_uri": "https://localhost:8080/"
        },
        "id": "Y26dAmjKnTrr",
        "outputId": "1e865902-c774-4554-ca0f-957f1736406a"
      },
      "source": [
        "!pip install newspaper3k #이 library를 쓰면 뉴스기사에서 제목과 컨텐츠를 알아서 따로 분리 후 크롤링 해온다 "
      ],
      "execution_count": 1,
      "outputs": [
        {
          "output_type": "stream",
          "name": "stdout",
          "text": [
            "Collecting newspaper3k\n",
            "  Downloading newspaper3k-0.2.8-py3-none-any.whl (211 kB)\n",
            "\u001b[K     |████████████████████████████████| 211 kB 6.9 MB/s \n",
            "\u001b[?25hCollecting feedparser>=5.2.1\n",
            "  Downloading feedparser-6.0.8-py3-none-any.whl (81 kB)\n",
            "\u001b[K     |████████████████████████████████| 81 kB 6.0 MB/s \n",
            "\u001b[?25hCollecting jieba3k>=0.35.1\n",
            "  Downloading jieba3k-0.35.1.zip (7.4 MB)\n",
            "\u001b[K     |████████████████████████████████| 7.4 MB 27.4 MB/s \n",
            "\u001b[?25hRequirement already satisfied: requests>=2.10.0 in /usr/local/lib/python3.7/dist-packages (from newspaper3k) (2.23.0)\n",
            "Requirement already satisfied: nltk>=3.2.1 in /usr/local/lib/python3.7/dist-packages (from newspaper3k) (3.2.5)\n",
            "Requirement already satisfied: lxml>=3.6.0 in /usr/local/lib/python3.7/dist-packages (from newspaper3k) (4.2.6)\n",
            "Requirement already satisfied: beautifulsoup4>=4.4.1 in /usr/local/lib/python3.7/dist-packages (from newspaper3k) (4.6.3)\n",
            "Collecting cssselect>=0.9.2\n",
            "  Downloading cssselect-1.1.0-py2.py3-none-any.whl (16 kB)\n",
            "Requirement already satisfied: PyYAML>=3.11 in /usr/local/lib/python3.7/dist-packages (from newspaper3k) (3.13)\n",
            "Collecting feedfinder2>=0.0.4\n",
            "  Downloading feedfinder2-0.0.4.tar.gz (3.3 kB)\n",
            "Collecting tinysegmenter==0.3\n",
            "  Downloading tinysegmenter-0.3.tar.gz (16 kB)\n",
            "Collecting tldextract>=2.0.1\n",
            "  Downloading tldextract-3.1.2-py2.py3-none-any.whl (87 kB)\n",
            "\u001b[K     |████████████████████████████████| 87 kB 7.0 MB/s \n",
            "\u001b[?25hRequirement already satisfied: python-dateutil>=2.5.3 in /usr/local/lib/python3.7/dist-packages (from newspaper3k) (2.8.2)\n",
            "Requirement already satisfied: Pillow>=3.3.0 in /usr/local/lib/python3.7/dist-packages (from newspaper3k) (7.1.2)\n",
            "Requirement already satisfied: six in /usr/local/lib/python3.7/dist-packages (from feedfinder2>=0.0.4->newspaper3k) (1.15.0)\n",
            "Collecting sgmllib3k\n",
            "  Downloading sgmllib3k-1.0.0.tar.gz (5.8 kB)\n",
            "Requirement already satisfied: certifi>=2017.4.17 in /usr/local/lib/python3.7/dist-packages (from requests>=2.10.0->newspaper3k) (2021.5.30)\n",
            "Requirement already satisfied: urllib3!=1.25.0,!=1.25.1,<1.26,>=1.21.1 in /usr/local/lib/python3.7/dist-packages (from requests>=2.10.0->newspaper3k) (1.24.3)\n",
            "Requirement already satisfied: idna<3,>=2.5 in /usr/local/lib/python3.7/dist-packages (from requests>=2.10.0->newspaper3k) (2.10)\n",
            "Requirement already satisfied: chardet<4,>=3.0.2 in /usr/local/lib/python3.7/dist-packages (from requests>=2.10.0->newspaper3k) (3.0.4)\n",
            "Requirement already satisfied: filelock>=3.0.8 in /usr/local/lib/python3.7/dist-packages (from tldextract>=2.0.1->newspaper3k) (3.0.12)\n",
            "Collecting requests-file>=1.4\n",
            "  Downloading requests_file-1.5.1-py2.py3-none-any.whl (3.7 kB)\n",
            "Building wheels for collected packages: tinysegmenter, feedfinder2, jieba3k, sgmllib3k\n",
            "  Building wheel for tinysegmenter (setup.py) ... \u001b[?25l\u001b[?25hdone\n",
            "  Created wheel for tinysegmenter: filename=tinysegmenter-0.3-py3-none-any.whl size=13552 sha256=1c65869601bf856c4d51017c9e63ab1e63740c14d6c871ade9e9d2a1854245c9\n",
            "  Stored in directory: /root/.cache/pip/wheels/df/67/41/faca10fa501ca010be41b49d40360c2959e1c4f09bcbfa37fa\n",
            "  Building wheel for feedfinder2 (setup.py) ... \u001b[?25l\u001b[?25hdone\n",
            "  Created wheel for feedfinder2: filename=feedfinder2-0.0.4-py3-none-any.whl size=3356 sha256=5d32d2b8603e7e48769ed29892f36c67674f0cbf6aab94563b51138831326798\n",
            "  Stored in directory: /root/.cache/pip/wheels/7f/d4/8f/6e2ca54744c9d7292d88ddb8d42876bcdab5e6d84a21c10346\n",
            "  Building wheel for jieba3k (setup.py) ... \u001b[?25l\u001b[?25hdone\n",
            "  Created wheel for jieba3k: filename=jieba3k-0.35.1-py3-none-any.whl size=7398405 sha256=0e93bb1ebdabe2d35641b06441cead6d7c52da3796d4051106812931e5acb894\n",
            "  Stored in directory: /root/.cache/pip/wheels/4c/91/46/3c208287b726df325a5979574324878b679116e4baae1af3c3\n",
            "  Building wheel for sgmllib3k (setup.py) ... \u001b[?25l\u001b[?25hdone\n",
            "  Created wheel for sgmllib3k: filename=sgmllib3k-1.0.0-py3-none-any.whl size=6065 sha256=b706cac1bd3346b28fae1b988daa05111b2d50e8836cd8d3787a45e4ab6dc684\n",
            "  Stored in directory: /root/.cache/pip/wheels/73/ad/a4/0dff4a6ef231fc0dfa12ffbac2a36cebfdddfe059f50e019aa\n",
            "Successfully built tinysegmenter feedfinder2 jieba3k sgmllib3k\n",
            "Installing collected packages: sgmllib3k, requests-file, tldextract, tinysegmenter, jieba3k, feedparser, feedfinder2, cssselect, newspaper3k\n",
            "Successfully installed cssselect-1.1.0 feedfinder2-0.0.4 feedparser-6.0.8 jieba3k-0.35.1 newspaper3k-0.2.8 requests-file-1.5.1 sgmllib3k-1.0.0 tinysegmenter-0.3 tldextract-3.1.2\n"
          ]
        }
      ]
    },
    {
      "cell_type": "markdown",
      "metadata": {
        "id": "MOfUeQXUYhXD"
      },
      "source": [
        "newspaper 라이브러리는 매우 많은 언어에 대한 크롤링을 지원해주며, 아래 명령어로 확인할 수 있습니다."
      ]
    },
    {
      "cell_type": "code",
      "metadata": {
        "colab": {
          "base_uri": "https://localhost:8080/"
        },
        "id": "hlWZBgI1qVZ-",
        "outputId": "9a26acc8-3539-4442-c50a-d0ea3a046f23"
      },
      "source": [
        "import newspaper\n",
        "newspaper.languages()"
      ],
      "execution_count": 2,
      "outputs": [
        {
          "output_type": "stream",
          "name": "stdout",
          "text": [
            "\n",
            "Your available languages are:\n",
            "\n",
            "input code\t\tfull name\n",
            "  en\t\t\t  English\n",
            "  et\t\t\t  Estonian\n",
            "  bg\t\t\t  Bulgarian\n",
            "  mk\t\t\t  Macedonian\n",
            "  he\t\t\t  Hebrew\n",
            "  fi\t\t\t  Finnish\n",
            "  ru\t\t\t  Russian\n",
            "  pt\t\t\t  Portuguese\n",
            "  it\t\t\t  Italian\n",
            "  de\t\t\t  German\n",
            "  no\t\t\t  Norwegian\n",
            "  da\t\t\t  Danish\n",
            "  zh\t\t\t  Chinese\n",
            "  ja\t\t\t  Japanese\n",
            "  es\t\t\t  Spanish\n",
            "  id\t\t\t  Indonesian\n",
            "  ro\t\t\t  Romanian\n",
            "  tr\t\t\t  Turkish\n",
            "  pl\t\t\t  Polish\n",
            "  be\t\t\t  Belarusian\n",
            "  vi\t\t\t  Vietnamese\n",
            "  el\t\t\t  Greek\n",
            "  ko\t\t\t  Korean\n",
            "  sl\t\t\t  Slovenian\n",
            "  nl\t\t\t  Dutch\n",
            "  hu\t\t\t  Hungarian\n",
            "  sv\t\t\t  Swedish\n",
            "  uk\t\t\t  Ukrainian\n",
            "  hi\t\t\t  Hindi\n",
            "  fa\t\t\t  Persian\n",
            "  sr\t\t\t  Serbian\n",
            "  fr\t\t\t  French\n",
            "  hr\t\t\t  Croatian\n",
            "  ar\t\t\t  Arabic\n",
            "  nb\t\t\t  Norwegian (Bokmål)\n",
            "  sw\t\t\t  Swahili\n",
            "\n"
          ]
        }
      ]
    },
    {
      "cell_type": "markdown",
      "metadata": {
        "id": "s0PPDIpSY5VY"
      },
      "source": [
        "뉴스를 바로 크롤링해보도록 하겠습니다.   \n",
        "일반적으로 뉴스 기사의 경우, 재배포 역시 저작권에 위반되기 때문에, 매우 주의하셔야 합니다.   \n",
        "본 실습에서는 저작권에서 비교적 자유로운 위키트리 뉴스 데이터를 사용하도록 하겠습니다.   "
      ]
    },
    {
      "cell_type": "code",
      "metadata": {
        "id": "KDKEG2AZopJQ"
      },
      "source": [
        "news_url = \"https://www.wikitree.co.kr/articles/252931\"\n",
        "# context = \"이하 뉴스1&인공지능 알파고(AlphaGo)를 상대로 첫 승리를 거둔 이세돌 9단\\n\\n\\\n",
        "# 이하 뉴스1\\n\\n\\\n",
        "# 인공지능 알파고(AlphaGo)를 상대로 첫 승리를 거둔 이세돌 9단의 사진이 화제다.\\n\\n\\\n",
        "# 13일 서울 광화문 포시즌스 호텔에서 열린 '구글 딥마인드 챌린지 매치'에서 이세돌 9단은 알파고와의 제4국에서 승리했다. 이날 대국장을 빠져나가는 이세돌 9단의 모습이 사진에 포착됐다.\\n\\n\\\n",
        "# 이세돌 9단은 상의 주머니에 양손을 넣고 옅은 미소를 지었다. 이 사진은 SNS에서 화제를 모았다.\\n\\n\\\n",
        "# 오늘 알파고에게 승리하고 대국장 빠져나가는 이세돌이라는데ㅋㅋㅋㅋㅋㅋㅋ 포토제닉ㅋㅋㅋㅋㅋㅋㅋ 이대로 헐리웃 영화 만들어지고 포스터 소취요 pic.twitter.com/4IRFJu18hx — 조드윅 앓는 서린 (@katharine_stark) 2016년 3월 13일\\n\\n\\\n",
        "# 대국을 마친 뒤, 이세돌 9단은 \\\"한판 이겼는데 이렇게까지 축하를 받아보는 것은 처음\\\"이라고 말했다. 이세돌 9단은 기자회견장에도 함박 웃음을 감추지 못했다.\""
      ],
      "execution_count": 3,
      "outputs": []
    },
    {
      "cell_type": "code",
      "metadata": {
        "id": "hOTPKrvUqmsz"
      },
      "source": [
        "from newspaper import Article"
      ],
      "execution_count": 4,
      "outputs": []
    },
    {
      "cell_type": "code",
      "metadata": {
        "id": "ux6buNkoqZP9"
      },
      "source": [
        "article = Article(news_url, language='ko')"
      ],
      "execution_count": 5,
      "outputs": []
    },
    {
      "cell_type": "code",
      "metadata": {
        "colab": {
          "base_uri": "https://localhost:8080/"
        },
        "id": "3G2tKRInqj1p",
        "outputId": "d6874cd3-fd10-4ef7-92b7-9e0297678f4e"
      },
      "source": [
        "article.download()\n",
        "article.parse()\n",
        "\n",
        "print('title:', article.title)\n",
        "\n",
        "print('context:', article.text)\n"
      ],
      "execution_count": 6,
      "outputs": [
        {
          "output_type": "stream",
          "name": "stdout",
          "text": [
            "title: 알파고에 첫승 거두고 미소짓는 이세돌 사진\n",
            "context: 이하 뉴스1&인공지능 알파고(AlphaGo)를 상대로 첫 승리를 거둔 이세돌 9단\n",
            "\n",
            "이하 뉴스1\n",
            "\n",
            "인공지능 알파고(AlphaGo)를 상대로 첫 승리를 거둔 이세돌 9단의 사진이 화제다.\n",
            "\n",
            "13일 서울 광화문 포시즌스 호텔에서 열린 '구글 딥마인드 챌린지 매치'에서 이세돌 9단은 알파고와의 제4국에서 승리했다. 이날 대국장을 빠져나가는 이세돌 9단의 모습이 사진에 포착됐다.\n",
            "\n",
            "이세돌 9단은 상의 주머니에 양손을 넣고 옅은 미소를 지었다. 이 사진은 SNS에서 화제를 모았다.\n",
            "\n",
            "오늘 알파고에게 승리하고 대국장 빠져나가는 이세돌이라는데ㅋㅋㅋㅋㅋㅋㅋ 포토제닉ㅋㅋㅋㅋㅋㅋㅋ 이대로 헐리웃 영화 만들어지고 포스터 소취요 pic.twitter.com/4IRFJu18hx — 조드윅 앓는 서린 (@katharine_stark) 2016년 3월 13일\n",
            "\n",
            "대국을 마친 뒤, 이세돌 9단은 \"한판 이겼는데 이렇게까지 축하를 받아보는 것은 처음\"이라고 말했다. 이세돌 9단은 기자회견장에도 함박 웃음을 감추지 못했다.\n"
          ]
        }
      ]
    },
    {
      "cell_type": "markdown",
      "metadata": {
        "id": "_m3wqEX7YzW9"
      },
      "source": [
        "추가적인 전처리 실습을 위해, 뉴스에서 많이 포함되는 예제 텍스트를 임의로 추가하도록 하겠습니다."
      ]
    },
    {
      "cell_type": "code",
      "metadata": {
        "id": "y_V1YiaLuPkY"
      },
      "source": [
        "context = article.text.split('\\n')\n",
        "context.append(\"<h1>여기에 태그가 있네요!</h1> <h3>이곳에도 태그가 있구요</h3> html은 <b>태그</b>로 이루어진 문서입니다. 텍스트를 <b>진하게</b> 만들 수도 있고, <u>밑줄</u>을 칠 수도 있습니다. ‘<br>이 줄은 실제 뉴스(news,)에 포함되지 않은 임시 데이터임을 알립니다…<br>‘\")\n",
        "context.append(\"(서울=위키트리) 김성현 기자 (seonghkim@smilegate.com) <저작권자(c) 무단전재-재배포 금지> ‘<br>이 줄은 실제 뉴스(news,)에 포함되지 않은 임시 데이터임을 알립니다…<br>‘\")\n",
        "context.append(\"(사진=위키트리, 무단 전재-재배포 금지) ‘<br>이 줄은 실제 뉴스(news,)에 포함되지 않은 임시 데이터임을 알립니다…<br>‘\")\n",
        "context.append(\"#이세돌 #알파고 #인공지능 #딥러닝 #바둑\")\n"
      ],
      "execution_count": 7,
      "outputs": []
    },
    {
      "cell_type": "code",
      "metadata": {
        "colab": {
          "base_uri": "https://localhost:8080/"
        },
        "id": "6fo99_r_uT6Z",
        "outputId": "ad7ff1a9-8faa-4d4f-94df-1c45f8e8de40"
      },
      "source": [
        "for i, sent in enumerate(context):\n",
        "    print(i, sent)"
      ],
      "execution_count": 8,
      "outputs": [
        {
          "output_type": "stream",
          "name": "stdout",
          "text": [
            "0 이하 뉴스1&인공지능 알파고(AlphaGo)를 상대로 첫 승리를 거둔 이세돌 9단\n",
            "1 \n",
            "2 이하 뉴스1\n",
            "3 \n",
            "4 인공지능 알파고(AlphaGo)를 상대로 첫 승리를 거둔 이세돌 9단의 사진이 화제다.\n",
            "5 \n",
            "6 13일 서울 광화문 포시즌스 호텔에서 열린 '구글 딥마인드 챌린지 매치'에서 이세돌 9단은 알파고와의 제4국에서 승리했다. 이날 대국장을 빠져나가는 이세돌 9단의 모습이 사진에 포착됐다.\n",
            "7 \n",
            "8 이세돌 9단은 상의 주머니에 양손을 넣고 옅은 미소를 지었다. 이 사진은 SNS에서 화제를 모았다.\n",
            "9 \n",
            "10 오늘 알파고에게 승리하고 대국장 빠져나가는 이세돌이라는데ㅋㅋㅋㅋㅋㅋㅋ 포토제닉ㅋㅋㅋㅋㅋㅋㅋ 이대로 헐리웃 영화 만들어지고 포스터 소취요 pic.twitter.com/4IRFJu18hx — 조드윅 앓는 서린 (@katharine_stark) 2016년 3월 13일\n",
            "11 \n",
            "12 대국을 마친 뒤, 이세돌 9단은 \"한판 이겼는데 이렇게까지 축하를 받아보는 것은 처음\"이라고 말했다. 이세돌 9단은 기자회견장에도 함박 웃음을 감추지 못했다.\n",
            "13 <h1>여기에 태그가 있네요!</h1> <h3>이곳에도 태그가 있구요</h3> html은 <b>태그</b>로 이루어진 문서입니다. 텍스트를 <b>진하게</b> 만들 수도 있고, <u>밑줄</u>을 칠 수도 있습니다. ‘<br>이 줄은 실제 뉴스(news,)에 포함되지 않은 임시 데이터임을 알립니다…<br>‘\n",
            "14 (서울=위키트리) 김성현 기자 (seonghkim@smilegate.com) <저작권자(c) 무단전재-재배포 금지> ‘<br>이 줄은 실제 뉴스(news,)에 포함되지 않은 임시 데이터임을 알립니다…<br>‘\n",
            "15 (사진=위키트리, 무단 전재-재배포 금지) ‘<br>이 줄은 실제 뉴스(news,)에 포함되지 않은 임시 데이터임을 알립니다…<br>‘\n",
            "16 #이세돌 #알파고 #인공지능 #딥러닝 #바둑\n"
          ]
        }
      ]
    },
    {
      "cell_type": "markdown",
      "metadata": {
        "id": "zsEyucIm6FXT"
      },
      "source": [
        "HTML 테크가 무분별하게 부착되어 있네요 :-)\n",
        "먼저 테그부터 제거해보도록 하겠습니다."
      ]
    },
    {
      "cell_type": "code",
      "metadata": {
        "id": "fGI-1SXA395O"
      },
      "source": [
        "import re"
      ],
      "execution_count": 9,
      "outputs": []
    },
    {
      "cell_type": "code",
      "metadata": {
        "id": "IZg_TYeH_Obz"
      },
      "source": [
        "def remove_html(texts):\n",
        "    \"\"\"\n",
        "    HTML 태그를 제거합니다.\n",
        "    ``<p>안녕하세요 ㅎㅎ </p>`` -> ``안녕하세요 ㅎㅎ ``\n",
        "    \"\"\"\n",
        "    preprcessed_text = []\n",
        "    for text in texts:\n",
        "        text = re.sub(r\"<[^>]+>\\s+(?=<)|<[^>]+>\", \"\", text).strip()\n",
        "        if text:\n",
        "            preprcessed_text.append(text)\n",
        "    return preprcessed_text"
      ],
      "execution_count": 10,
      "outputs": []
    },
    {
      "cell_type": "code",
      "metadata": {
        "colab": {
          "base_uri": "https://localhost:8080/"
        },
        "id": "OqEu4OUL_Ya7",
        "outputId": "66928a5c-35d4-44ac-97f9-5568c0f6a472"
      },
      "source": [
        "context = remove_html(context)\n",
        "for i, sent in enumerate(context):\n",
        "    print(i, sent)"
      ],
      "execution_count": 11,
      "outputs": [
        {
          "output_type": "stream",
          "name": "stdout",
          "text": [
            "0 이하 뉴스1&인공지능 알파고(AlphaGo)를 상대로 첫 승리를 거둔 이세돌 9단\n",
            "1 이하 뉴스1\n",
            "2 인공지능 알파고(AlphaGo)를 상대로 첫 승리를 거둔 이세돌 9단의 사진이 화제다.\n",
            "3 13일 서울 광화문 포시즌스 호텔에서 열린 '구글 딥마인드 챌린지 매치'에서 이세돌 9단은 알파고와의 제4국에서 승리했다. 이날 대국장을 빠져나가는 이세돌 9단의 모습이 사진에 포착됐다.\n",
            "4 이세돌 9단은 상의 주머니에 양손을 넣고 옅은 미소를 지었다. 이 사진은 SNS에서 화제를 모았다.\n",
            "5 오늘 알파고에게 승리하고 대국장 빠져나가는 이세돌이라는데ㅋㅋㅋㅋㅋㅋㅋ 포토제닉ㅋㅋㅋㅋㅋㅋㅋ 이대로 헐리웃 영화 만들어지고 포스터 소취요 pic.twitter.com/4IRFJu18hx — 조드윅 앓는 서린 (@katharine_stark) 2016년 3월 13일\n",
            "6 대국을 마친 뒤, 이세돌 9단은 \"한판 이겼는데 이렇게까지 축하를 받아보는 것은 처음\"이라고 말했다. 이세돌 9단은 기자회견장에도 함박 웃음을 감추지 못했다.\n",
            "7 여기에 태그가 있네요!이곳에도 태그가 있구요 html은 태그로 이루어진 문서입니다. 텍스트를 진하게 만들 수도 있고, 밑줄을 칠 수도 있습니다. ‘이 줄은 실제 뉴스(news,)에 포함되지 않은 임시 데이터임을 알립니다…‘\n",
            "8 (서울=위키트리) 김성현 기자 (seonghkim@smilegate.com)  ‘이 줄은 실제 뉴스(news,)에 포함되지 않은 임시 데이터임을 알립니다…‘\n",
            "9 (사진=위키트리, 무단 전재-재배포 금지) ‘이 줄은 실제 뉴스(news,)에 포함되지 않은 임시 데이터임을 알립니다…‘\n",
            "10 #이세돌 #알파고 #인공지능 #딥러닝 #바둑\n"
          ]
        }
      ]
    },
    {
      "cell_type": "markdown",
      "metadata": {
        "id": "ZoMXHQWkZ_i0"
      },
      "source": [
        "## 문장 분리"
      ]
    },
    {
      "cell_type": "markdown",
      "metadata": {
        "id": "yYRM1wdSaBNh"
      },
      "source": [
        "문장 단위로 모델이 학습하도록 유도하기 위해, 문장 분리를 먼저 해주겠습니다.  \n",
        "\n",
        "한국어 문장분리기 중, 가장 성능이 우수한 것으로 알려진 [kss 라이브러리](https://github.com/hyunwoongko/kss)를 사용하도록 하겠습니다."
      ]
    },
    {
      "cell_type": "code",
      "metadata": {
        "colab": {
          "base_uri": "https://localhost:8080/"
        },
        "id": "u41qyTQ0rkxc",
        "outputId": "01f4ced2-8c31-4e7a-ad8d-c2af14f0594d"
      },
      "source": [
        "!pip install kss # 한국어의 문장 분리 규칙들을 다 라이브러리화 했다"
      ],
      "execution_count": 12,
      "outputs": [
        {
          "output_type": "stream",
          "name": "stdout",
          "text": [
            "Collecting kss\n",
            "  Downloading kss-3.2.0.tar.gz (42.4 MB)\n",
            "\u001b[K     |████████████████████████████████| 42.4 MB 56 kB/s \n",
            "\u001b[?25hCollecting emoji\n",
            "  Downloading emoji-1.5.0.tar.gz (185 kB)\n",
            "\u001b[K     |████████████████████████████████| 185 kB 63.6 MB/s \n",
            "\u001b[?25hBuilding wheels for collected packages: kss, emoji\n",
            "  Building wheel for kss (setup.py) ... \u001b[?25l\u001b[?25hdone\n",
            "  Created wheel for kss: filename=kss-3.2.0-py3-none-any.whl size=42447995 sha256=3cadb11b9f47813786746c899342ed2f4ab3989864ca8572b1c84dea804ea5ed\n",
            "  Stored in directory: /root/.cache/pip/wheels/a1/47/9c/a5f83b5ab6096e3c4a33643fc553b26098c23e72b6539b86f4\n",
            "  Building wheel for emoji (setup.py) ... \u001b[?25l\u001b[?25hdone\n",
            "  Created wheel for emoji: filename=emoji-1.5.0-py3-none-any.whl size=187457 sha256=7b91465aa30e734619e8c0f7477d6d7f8dd7c621e098e89e49349843e34a03b5\n",
            "  Stored in directory: /root/.cache/pip/wheels/db/b5/f6/b39abf14e94b3d6640613bbe630a66c10ccf7a12882d064fb5\n",
            "Successfully built kss emoji\n",
            "Installing collected packages: emoji, kss\n",
            "Successfully installed emoji-1.5.0 kss-3.2.0\n"
          ]
        }
      ]
    },
    {
      "cell_type": "code",
      "metadata": {
        "id": "rIL70wWesY0R",
        "colab": {
          "base_uri": "https://localhost:8080/"
        },
        "outputId": "ed4232f0-68be-4e16-f650-7e24c75e2c94"
      },
      "source": [
        "import kss"
      ],
      "execution_count": 13,
      "outputs": [
        {
          "output_type": "stream",
          "name": "stderr",
          "text": [
            "[Korean Sentence Splitter]: Initializing Kss...\n"
          ]
        }
      ]
    },
    {
      "cell_type": "code",
      "metadata": {
        "id": "rBIaMNpFugDz"
      },
      "source": [
        "sents = []\n",
        "\n",
        "for sent in context:\n",
        "    sent = sent.strip()\n",
        "    if sent:\n",
        "        splited_sent = kss.split_sentences(sent)#kss.split_senteces하면 입력된 문장이 자동으로 분리된다\n",
        "        sents.extend(splited_sent)"
      ],
      "execution_count": 19,
      "outputs": []
    },
    {
      "cell_type": "code",
      "metadata": {
        "colab": {
          "base_uri": "https://localhost:8080/"
        },
        "id": "b-KXa9upsXL2",
        "outputId": "d03ee372-a5f9-4ace-8c03-333037d007c9"
      },
      "source": [
        "for i, sent in enumerate(sents):\n",
        "    print(i, sent)"
      ],
      "execution_count": 20,
      "outputs": [
        {
          "output_type": "stream",
          "name": "stdout",
          "text": [
            "0 이하 뉴스1&인공지능 알파고(AlphaGo)를 상대로 첫 승리를 거둔 이세돌 9단\n",
            "1 이하 뉴스1\n",
            "2 인공지능 알파고(AlphaGo)를 상대로 첫 승리를 거둔 이세돌 9단의 사진이 화제다.\n",
            "3 13일 서울 광화문 포시즌스 호텔에서 열린 '구글 딥마인드 챌린지 매치'에서 이세돌 9단은 알파고와의 제4국에서 승리했다.\n",
            "4 이날 대국장을 빠져나가는 이세돌 9단의 모습이 사진에 포착됐다.\n",
            "5 이세돌 9단은 상의 주머니에 양손을 넣고 옅은 미소를 지었다.\n",
            "6 이 사진은 SNS에서 화제를 모았다.\n",
            "7 오늘 알파고에게 승리하고 대국장 빠져나가는 이세돌이라는데ㅋㅋㅋㅋㅋㅋㅋ 포토제닉ㅋㅋㅋㅋㅋㅋㅋ 이대로 헐리웃 영화 만들어지고 포스터 소취요 pic.twitter.com/4IRFJu18hx — 조드윅 앓는 서린 (@katharine_stark) 2016년 3월 13일\n",
            "8 대국을 마친 뒤, 이세돌 9단은 \"한판 이겼는데 이렇게까지 축하를 받아보는 것은 처음\"이라고 말했다.\n",
            "9 이세돌 9단은 기자회견장에도 함박 웃음을 감추지 못했다.\n",
            "10 여기에 태그가 있네요!\n",
            "11 이곳에도 태그가 있구요\n",
            "12 html은 태그로 이루어진 문서입니다.\n",
            "13 텍스트를 진하게 만들 수도 있고, 밑줄을 칠 수도 있습니다. ‘이 줄은 실제 뉴스(news,)에 포함되지 않은 임시 데이터임을 알립니다…‘\n",
            "14 (서울=위키트리) 김성현 기자 (seonghkim@smilegate.com) ‘이 줄은 실제 뉴스(news,)에 포함되지 않은 임시 데이터임을 알립니다…‘\n",
            "15 (사진=위키트리, 무단 전재-재배포 금지) ‘이 줄은 실제 뉴스(news,)에 포함되지 않은 임시 데이터임을 알립니다…‘\n",
            "16 #이세돌 #알파고 #인공지능 #딥러닝 #바둑\n"
          ]
        }
      ]
    },
    {
      "cell_type": "markdown",
      "metadata": {
        "id": "KMXEI7jNbw7P"
      },
      "source": [
        "눈으로 확인해보니 데이터가 매우 불-편하네요 :-)   \n",
        "이제 본문에서 제거가 필요한 요소들을 확인해볼 수 있습니다.   "
      ]
    },
    {
      "cell_type": "markdown",
      "metadata": {
        "id": "ZKTpImqncN08"
      },
      "source": [
        "## Normalizing"
      ]
    },
    {
      "cell_type": "code",
      "metadata": {
        "id": "hIbEAtMtEEil"
      },
      "source": [
        "def remove_email(texts):\n",
        "    \"\"\"\n",
        "    이메일을 제거합니다.#웹에서 긁어 오면 이메일 같은 개인정보도 크롤링 하는 경우가 ㅠㅠ -> 반드시 제거해줘야\n",
        "    ``홍길동 abc@gmail.com 연락주세요!`` -> ``홍길동  연락주세요!``\n",
        "    \"\"\"\n",
        "    preprocessed_text = []\n",
        "    for text in texts:\n",
        "        text = re.sub(r\"[a-zA-Z0-9+-_.]+@[a-zA-Z0-9-]+\\.[a-zA-Z0-9-.]+\", \"\", text).strip()\n",
        "        if text:\n",
        "            preprocessed_text.append(text)\n",
        "    return preprocessed_text"
      ],
      "execution_count": 21,
      "outputs": []
    },
    {
      "cell_type": "code",
      "metadata": {
        "colab": {
          "base_uri": "https://localhost:8080/"
        },
        "id": "qOnFlNWBEQMw",
        "outputId": "04418425-f010-467d-937d-642dd7b40a2a"
      },
      "source": [
        "sents = remove_email(sents)\n",
        "for i, sent in enumerate(sents):\n",
        "    print(i, sent)"
      ],
      "execution_count": 22,
      "outputs": [
        {
          "output_type": "stream",
          "name": "stdout",
          "text": [
            "0 이하 뉴스1&인공지능 알파고(AlphaGo)를 상대로 첫 승리를 거둔 이세돌 9단\n",
            "1 이하 뉴스1\n",
            "2 인공지능 알파고(AlphaGo)를 상대로 첫 승리를 거둔 이세돌 9단의 사진이 화제다.\n",
            "3 13일 서울 광화문 포시즌스 호텔에서 열린 '구글 딥마인드 챌린지 매치'에서 이세돌 9단은 알파고와의 제4국에서 승리했다.\n",
            "4 이날 대국장을 빠져나가는 이세돌 9단의 모습이 사진에 포착됐다.\n",
            "5 이세돌 9단은 상의 주머니에 양손을 넣고 옅은 미소를 지었다.\n",
            "6 이 사진은 SNS에서 화제를 모았다.\n",
            "7 오늘 알파고에게 승리하고 대국장 빠져나가는 이세돌이라는데ㅋㅋㅋㅋㅋㅋㅋ 포토제닉ㅋㅋㅋㅋㅋㅋㅋ 이대로 헐리웃 영화 만들어지고 포스터 소취요 pic.twitter.com/4IRFJu18hx — 조드윅 앓는 서린 (@katharine_stark) 2016년 3월 13일\n",
            "8 대국을 마친 뒤, 이세돌 9단은 \"한판 이겼는데 이렇게까지 축하를 받아보는 것은 처음\"이라고 말했다.\n",
            "9 이세돌 9단은 기자회견장에도 함박 웃음을 감추지 못했다.\n",
            "10 여기에 태그가 있네요!\n",
            "11 이곳에도 태그가 있구요\n",
            "12 html은 태그로 이루어진 문서입니다.\n",
            "13 텍스트를 진하게 만들 수도 있고, 밑줄을 칠 수도 있습니다. ‘이 줄은 실제 뉴스(news,)에 포함되지 않은 임시 데이터임을 알립니다…‘\n",
            "14 (서울=위키트리) 김성현 기자 () ‘이 줄은 실제 뉴스(news,)에 포함되지 않은 임시 데이터임을 알립니다…‘\n",
            "15 (사진=위키트리, 무단 전재-재배포 금지) ‘이 줄은 실제 뉴스(news,)에 포함되지 않은 임시 데이터임을 알립니다…‘\n",
            "16 #이세돌 #알파고 #인공지능 #딥러닝 #바둑\n"
          ]
        }
      ]
    },
    {
      "cell_type": "code",
      "metadata": {
        "id": "l-eTwAyT30Nw"
      },
      "source": [
        "def remove_hashtag(texts):\n",
        "    \"\"\"\n",
        "    해쉬태그(#)를 제거합니다.\n",
        "    ``대박! #맛집 #JMT`` -> ``대박!  ``\n",
        "    \"\"\"\n",
        "    preprocessed_text = []\n",
        "    for text in texts:\n",
        "        text = re.sub(r\"#\\S+\", \"\", text).strip()\n",
        "        if text:\n",
        "            preprocessed_text.append(text)\n",
        "    return preprocessed_text"
      ],
      "execution_count": 23,
      "outputs": []
    },
    {
      "cell_type": "code",
      "metadata": {
        "colab": {
          "base_uri": "https://localhost:8080/"
        },
        "id": "mNfsL_Rc-lAB",
        "outputId": "39af15c2-0c9d-4171-d66f-fa8b1a53ebf1"
      },
      "source": [
        "sents = remove_hashtag(sents)\n",
        "for i, sent in enumerate(sents):\n",
        "    print(i, sent)"
      ],
      "execution_count": 24,
      "outputs": [
        {
          "output_type": "stream",
          "name": "stdout",
          "text": [
            "0 이하 뉴스1&인공지능 알파고(AlphaGo)를 상대로 첫 승리를 거둔 이세돌 9단\n",
            "1 이하 뉴스1\n",
            "2 인공지능 알파고(AlphaGo)를 상대로 첫 승리를 거둔 이세돌 9단의 사진이 화제다.\n",
            "3 13일 서울 광화문 포시즌스 호텔에서 열린 '구글 딥마인드 챌린지 매치'에서 이세돌 9단은 알파고와의 제4국에서 승리했다.\n",
            "4 이날 대국장을 빠져나가는 이세돌 9단의 모습이 사진에 포착됐다.\n",
            "5 이세돌 9단은 상의 주머니에 양손을 넣고 옅은 미소를 지었다.\n",
            "6 이 사진은 SNS에서 화제를 모았다.\n",
            "7 오늘 알파고에게 승리하고 대국장 빠져나가는 이세돌이라는데ㅋㅋㅋㅋㅋㅋㅋ 포토제닉ㅋㅋㅋㅋㅋㅋㅋ 이대로 헐리웃 영화 만들어지고 포스터 소취요 pic.twitter.com/4IRFJu18hx — 조드윅 앓는 서린 (@katharine_stark) 2016년 3월 13일\n",
            "8 대국을 마친 뒤, 이세돌 9단은 \"한판 이겼는데 이렇게까지 축하를 받아보는 것은 처음\"이라고 말했다.\n",
            "9 이세돌 9단은 기자회견장에도 함박 웃음을 감추지 못했다.\n",
            "10 여기에 태그가 있네요!\n",
            "11 이곳에도 태그가 있구요\n",
            "12 html은 태그로 이루어진 문서입니다.\n",
            "13 텍스트를 진하게 만들 수도 있고, 밑줄을 칠 수도 있습니다. ‘이 줄은 실제 뉴스(news,)에 포함되지 않은 임시 데이터임을 알립니다…‘\n",
            "14 (서울=위키트리) 김성현 기자 () ‘이 줄은 실제 뉴스(news,)에 포함되지 않은 임시 데이터임을 알립니다…‘\n",
            "15 (사진=위키트리, 무단 전재-재배포 금지) ‘이 줄은 실제 뉴스(news,)에 포함되지 않은 임시 데이터임을 알립니다…‘\n"
          ]
        }
      ]
    },
    {
      "cell_type": "code",
      "metadata": {
        "id": "v9OMx7ke4J-3"
      },
      "source": [
        "def remove_user_mention(texts):\n",
        "    \"\"\"\n",
        "    유저에 대한 멘션(@) 태그를 제거합니다.\n",
        "    ``@홍길동 감사합니다!`` -> `` 감사합니다!``\n",
        "    \"\"\"\n",
        "    preprocessed_text = []\n",
        "    for text in texts:\n",
        "        text = re.sub(r\"@\\w+\", \"\", text).strip()\n",
        "        if text:\n",
        "            preprocessed_text.append(text)\n",
        "    return preprocessed_text"
      ],
      "execution_count": 25,
      "outputs": []
    },
    {
      "cell_type": "code",
      "metadata": {
        "colab": {
          "base_uri": "https://localhost:8080/"
        },
        "id": "waTWpnUe4bXM",
        "outputId": "b33e9802-ef3d-481a-c005-0a3548a76f83"
      },
      "source": [
        "sents = remove_user_mention(sents)\n",
        "for i, sent in enumerate(sents):\n",
        "    print(i, sent)"
      ],
      "execution_count": 26,
      "outputs": [
        {
          "output_type": "stream",
          "name": "stdout",
          "text": [
            "0 이하 뉴스1&인공지능 알파고(AlphaGo)를 상대로 첫 승리를 거둔 이세돌 9단\n",
            "1 이하 뉴스1\n",
            "2 인공지능 알파고(AlphaGo)를 상대로 첫 승리를 거둔 이세돌 9단의 사진이 화제다.\n",
            "3 13일 서울 광화문 포시즌스 호텔에서 열린 '구글 딥마인드 챌린지 매치'에서 이세돌 9단은 알파고와의 제4국에서 승리했다.\n",
            "4 이날 대국장을 빠져나가는 이세돌 9단의 모습이 사진에 포착됐다.\n",
            "5 이세돌 9단은 상의 주머니에 양손을 넣고 옅은 미소를 지었다.\n",
            "6 이 사진은 SNS에서 화제를 모았다.\n",
            "7 오늘 알파고에게 승리하고 대국장 빠져나가는 이세돌이라는데ㅋㅋㅋㅋㅋㅋㅋ 포토제닉ㅋㅋㅋㅋㅋㅋㅋ 이대로 헐리웃 영화 만들어지고 포스터 소취요 pic.twitter.com/4IRFJu18hx — 조드윅 앓는 서린 () 2016년 3월 13일\n",
            "8 대국을 마친 뒤, 이세돌 9단은 \"한판 이겼는데 이렇게까지 축하를 받아보는 것은 처음\"이라고 말했다.\n",
            "9 이세돌 9단은 기자회견장에도 함박 웃음을 감추지 못했다.\n",
            "10 여기에 태그가 있네요!\n",
            "11 이곳에도 태그가 있구요\n",
            "12 html은 태그로 이루어진 문서입니다.\n",
            "13 텍스트를 진하게 만들 수도 있고, 밑줄을 칠 수도 있습니다. ‘이 줄은 실제 뉴스(news,)에 포함되지 않은 임시 데이터임을 알립니다…‘\n",
            "14 (서울=위키트리) 김성현 기자 () ‘이 줄은 실제 뉴스(news,)에 포함되지 않은 임시 데이터임을 알립니다…‘\n",
            "15 (사진=위키트리, 무단 전재-재배포 금지) ‘이 줄은 실제 뉴스(news,)에 포함되지 않은 임시 데이터임을 알립니다…‘\n"
          ]
        }
      ]
    },
    {
      "cell_type": "code",
      "metadata": {
        "id": "03CdiW0D8Gnz"
      },
      "source": [
        "def remove_url(texts):\n",
        "    \"\"\"\n",
        "    URL을 제거합니다.\n",
        "    ``주소: www.naver.com`` -> ``주소: ``   #url도 개인정보, 중요한 주소를 포함할 가능성이 있다, 주소가 그리고 언어를 배우는데 도움이 되지는 않음\n",
        "    \"\"\"\n",
        "    preprocessed_text = []\n",
        "    for text in texts:\n",
        "        text = re.sub(r\"(http|https)?:\\/\\/\\S+\\b|www\\.(\\w+\\.)+\\S*\", \"\", text).strip()\n",
        "        text = re.sub(r\"pic\\.(\\w+\\.)+\\S*\", \"\", text).strip()\n",
        "        if text:\n",
        "            preprocessed_text.append(text)\n",
        "    return preprocessed_text"
      ],
      "execution_count": 27,
      "outputs": []
    },
    {
      "cell_type": "code",
      "metadata": {
        "colab": {
          "base_uri": "https://localhost:8080/"
        },
        "id": "fpsxBYj38UhI",
        "outputId": "abddb2a0-6052-4e9d-99e0-dc346161abb6"
      },
      "source": [
        "sents = remove_url(sents)\n",
        "for i, sent in enumerate(sents):\n",
        "    print(i, sent)"
      ],
      "execution_count": 28,
      "outputs": [
        {
          "output_type": "stream",
          "name": "stdout",
          "text": [
            "0 이하 뉴스1&인공지능 알파고(AlphaGo)를 상대로 첫 승리를 거둔 이세돌 9단\n",
            "1 이하 뉴스1\n",
            "2 인공지능 알파고(AlphaGo)를 상대로 첫 승리를 거둔 이세돌 9단의 사진이 화제다.\n",
            "3 13일 서울 광화문 포시즌스 호텔에서 열린 '구글 딥마인드 챌린지 매치'에서 이세돌 9단은 알파고와의 제4국에서 승리했다.\n",
            "4 이날 대국장을 빠져나가는 이세돌 9단의 모습이 사진에 포착됐다.\n",
            "5 이세돌 9단은 상의 주머니에 양손을 넣고 옅은 미소를 지었다.\n",
            "6 이 사진은 SNS에서 화제를 모았다.\n",
            "7 오늘 알파고에게 승리하고 대국장 빠져나가는 이세돌이라는데ㅋㅋㅋㅋㅋㅋㅋ 포토제닉ㅋㅋㅋㅋㅋㅋㅋ 이대로 헐리웃 영화 만들어지고 포스터 소취요  — 조드윅 앓는 서린 () 2016년 3월 13일\n",
            "8 대국을 마친 뒤, 이세돌 9단은 \"한판 이겼는데 이렇게까지 축하를 받아보는 것은 처음\"이라고 말했다.\n",
            "9 이세돌 9단은 기자회견장에도 함박 웃음을 감추지 못했다.\n",
            "10 여기에 태그가 있네요!\n",
            "11 이곳에도 태그가 있구요\n",
            "12 html은 태그로 이루어진 문서입니다.\n",
            "13 텍스트를 진하게 만들 수도 있고, 밑줄을 칠 수도 있습니다. ‘이 줄은 실제 뉴스(news,)에 포함되지 않은 임시 데이터임을 알립니다…‘\n",
            "14 (서울=위키트리) 김성현 기자 () ‘이 줄은 실제 뉴스(news,)에 포함되지 않은 임시 데이터임을 알립니다…‘\n",
            "15 (사진=위키트리, 무단 전재-재배포 금지) ‘이 줄은 실제 뉴스(news,)에 포함되지 않은 임시 데이터임을 알립니다…‘\n"
          ]
        }
      ]
    },
    {
      "cell_type": "code",
      "metadata": {
        "id": "Rir88iL9-2GQ"
      },
      "source": [
        "def remove_bad_char(texts): #이건 한국어만의 문제인데, 가끔 한국어 크롤링을 하면 이와 같은 의미 없는 문자들이 크롤링 되는 경우가 ㅠㅠ\n",
        "    \"\"\"\n",
        "    문제를 일으킬 수 있는 문자들을 제거합니다.\n",
        "    \"\"\"\n",
        "    bad_chars = {\"\\u200b\": \"\", \"…\": \" ... \", \"\\ufeff\": \"\"}\n",
        "    preprcessed_text = []\n",
        "    for text in texts:\n",
        "        for bad_char in bad_chars:\n",
        "            text = text.replace(bad_char, bad_chars[bad_char])\n",
        "        text = re.sub(r\"[\\+á?\\xc3\\xa1]\", \"\", text)\n",
        "        if text:\n",
        "            preprcessed_text.append(text)\n",
        "    return preprcessed_text"
      ],
      "execution_count": 33,
      "outputs": []
    },
    {
      "cell_type": "code",
      "metadata": {
        "colab": {
          "base_uri": "https://localhost:8080/"
        },
        "id": "fXHg4_-A_Hg-",
        "outputId": "6131b857-6310-4cd8-bb61-f89547f830d7"
      },
      "source": [
        "sents = remove_bad_char(sents)\n",
        "for i, sent in enumerate(sents):\n",
        "    print(i, sent)"
      ],
      "execution_count": 34,
      "outputs": [
        {
          "output_type": "stream",
          "name": "stdout",
          "text": [
            "0 이하 뉴스1&인공지능 알파고(AlphaGo)를 상대로 첫 승리를 거둔 이세돌 9단\n",
            "1 이하 뉴스1\n",
            "2 인공지능 알파고(AlphaGo)를 상대로 첫 승리를 거둔 이세돌 9단의 사진이 화제다.\n",
            "3 13일 서울 광화문 포시즌스 호텔에서 열린 '구글 딥마인드 챌린지 매치'에서 이세돌 9단은 알파고와의 제4국에서 승리했다.\n",
            "4 이날 대국장을 빠져나가는 이세돌 9단의 모습이 사진에 포착됐다.\n",
            "5 이세돌 9단은 상의 주머니에 양손을 넣고 옅은 미소를 지었다.\n",
            "6 이 사진은 SNS에서 화제를 모았다.\n",
            "7 오늘 알파고에게 승리하고 대국장 빠져나가는 이세돌이라는데ㅋㅋㅋㅋㅋㅋㅋ 포토제닉ㅋㅋㅋㅋㅋㅋㅋ 이대로 헐리웃 영화 만들어지고 포스터 소취요  — 조드윅 앓는 서린 () 2016년 3월 13일\n",
            "8 대국을 마친 뒤, 이세돌 9단은 \"한판 이겼는데 이렇게까지 축하를 받아보는 것은 처음\"이라고 말했다.\n",
            "9 이세돌 9단은 기자회견장에도 함박 웃음을 감추지 못했다.\n",
            "10 여기에 태그가 있네요!\n",
            "11 이곳에도 태그가 있구요\n",
            "12 html은 태그로 이루어진 문서입니다.\n",
            "13 텍스트를 진하게 만들 수도 있고, 밑줄을 칠 수도 있습니다. ‘이 줄은 실제 뉴스(news,)에 포함되지 않은 임시 데이터임을 알립니다 ... ‘\n",
            "14 () ‘이 줄은 실제 뉴스(news,)에 포함되지 않은 임시 데이터임을 알립니다 ... ‘\n",
            "15 (사진=위키트리, 무단 전재-재배포 금지) ‘이 줄은 실제 뉴스(news,)에 포함되지 않은 임시 데이터임을 알립니다 ... ‘\n"
          ]
        }
      ]
    },
    {
      "cell_type": "code",
      "metadata": {
        "id": "X0QNLCbU_jzq"
      },
      "source": [
        "def remove_press(texts):\n",
        "    \"\"\"\n",
        "    언론 정보를 제거합니다.\n",
        "    ``홍길동 기자 (연합뉴스)`` -> ````\n",
        "    ``(이스탄불=연합뉴스) 하채림 특파원 -> ````\n",
        "    \"\"\"\n",
        "    re_patterns = [\n",
        "        r\"\\([^(]*?(뉴스|경제|일보|미디어|데일리|한겨례|타임즈|위키트리)\\)\",\n",
        "        r\"[가-힣]{0,4} (기자|선임기자|수습기자|특파원|객원기자|논설고문|통신원|연구소장) \",   # 이름(보통 3글자) + 기자\n",
        "        r\"[가-힣]{1,}(뉴스|경제|일보|미디어|데일리|한겨례|타임|위키트리)\",  # (... 연합뉴스) ..\n",
        "        r\"\\(\\s+\\)\",  # (  )\n",
        "        r\"\\(=\\s+\\)\",  # (=  )\n",
        "        r\"\\(\\s+=\\)\",  # (  =)\n",
        "    ]\n",
        "\n",
        "    preprocessed_text = []\n",
        "    for text in texts:\n",
        "        for re_pattern in re_patterns:\n",
        "            text = re.sub(re_pattern, \"\", text).strip()\n",
        "        if text:\n",
        "            preprocessed_text.append(text)    \n",
        "    return preprocessed_text"
      ],
      "execution_count": 35,
      "outputs": []
    },
    {
      "cell_type": "code",
      "metadata": {
        "colab": {
          "base_uri": "https://localhost:8080/"
        },
        "id": "Esm6MOjX_wKl",
        "outputId": "47ecc89f-eb6c-414b-a830-4a55265db7c4"
      },
      "source": [
        "sents = remove_press(sents)\n",
        "for i, sent in enumerate(sents):\n",
        "    print(i, sent)"
      ],
      "execution_count": 36,
      "outputs": [
        {
          "output_type": "stream",
          "name": "stdout",
          "text": [
            "0 이하 뉴스1&인공지능 알파고(AlphaGo)를 상대로 첫 승리를 거둔 이세돌 9단\n",
            "1 이하 뉴스1\n",
            "2 인공지능 알파고(AlphaGo)를 상대로 첫 승리를 거둔 이세돌 9단의 사진이 화제다.\n",
            "3 13일 서울 광화문 포시즌스 호텔에서 열린 '구글 딥마인드 챌린지 매치'에서 이세돌 9단은 알파고와의 제4국에서 승리했다.\n",
            "4 이날 대국장을 빠져나가는 이세돌 9단의 모습이 사진에 포착됐다.\n",
            "5 이세돌 9단은 상의 주머니에 양손을 넣고 옅은 미소를 지었다.\n",
            "6 이 사진은 SNS에서 화제를 모았다.\n",
            "7 오늘 알파고에게 승리하고 대국장 빠져나가는 이세돌이라는데ㅋㅋㅋㅋㅋㅋㅋ 포토제닉ㅋㅋㅋㅋㅋㅋㅋ 이대로 헐리웃 영화 만들어지고 포스터 소취요  — 조드윅 앓는 서린 () 2016년 3월 13일\n",
            "8 대국을 마친 뒤, 이세돌 9단은 \"한판 이겼는데 이렇게까지 축하를 받아보는 것은 처음\"이라고 말했다.\n",
            "9 이세돌 9단은 기자회견장에도 함박 웃음을 감추지 못했다.\n",
            "10 여기에 태그가 있네요!\n",
            "11 이곳에도 태그가 있구요\n",
            "12 html은 태그로 이루어진 문서입니다.\n",
            "13 텍스트를 진하게 만들 수도 있고, 밑줄을 칠 수도 있습니다. ‘이 줄은 실제 뉴스(news,)에 포함되지 않은 임시 데이터임을 알립니다 ... ‘\n",
            "14 () ‘이 줄은 실제 뉴스(news,)에 포함되지 않은 임시 데이터임을 알립니다 ... ‘\n",
            "15 (사진=위키트리, 무단 전재-재배포 금지) ‘이 줄은 실제 뉴스(news,)에 포함되지 않은 임시 데이터임을 알립니다 ... ‘\n"
          ]
        }
      ]
    },
    {
      "cell_type": "code",
      "metadata": {
        "id": "fLlkYrwTCKSE"
      },
      "source": [
        "def remove_copyright(texts):\n",
        "    \"\"\"\n",
        "    뉴스 내 포함된 저작권 관련 텍스트를 제거합니다.\n",
        "    ``(사진=저작권자(c) 연합뉴스, 무단 전재-재배포 금지)`` -> ``(사진= 연합뉴스, 무단 전재-재배포 금지)`` TODO 수정할 것\n",
        "    \"\"\"\n",
        "    re_patterns = [\n",
        "        r\"\\<저작권자(\\(c\\)|ⓒ|©|\\(Copyright\\)|(\\(c\\))|(\\(C\\))).+?\\>\",\n",
        "        r\"저작권자\\(c\\)|ⓒ|©|(Copyright)|(\\(c\\))|(\\(C\\))\"\n",
        "    ]\n",
        "    preprocessed_text = []\n",
        "    for text in texts:\n",
        "        for re_pattern in re_patterns:\n",
        "            text = re.sub(re_pattern, \"\", text).strip()\n",
        "        if text:\n",
        "            preprocessed_text.append(text)    \n",
        "    return preprocessed_text"
      ],
      "execution_count": 37,
      "outputs": []
    },
    {
      "cell_type": "code",
      "metadata": {
        "colab": {
          "base_uri": "https://localhost:8080/"
        },
        "id": "2d-05viiDw0X",
        "outputId": "19ced87b-1e5d-472f-fe9c-cd217b6a3039"
      },
      "source": [
        "sents = remove_copyright(sents)\n",
        "for i, sent in enumerate(sents):\n",
        "    print(i, sent)"
      ],
      "execution_count": 38,
      "outputs": [
        {
          "output_type": "stream",
          "name": "stdout",
          "text": [
            "0 이하 뉴스1&인공지능 알파고(AlphaGo)를 상대로 첫 승리를 거둔 이세돌 9단\n",
            "1 이하 뉴스1\n",
            "2 인공지능 알파고(AlphaGo)를 상대로 첫 승리를 거둔 이세돌 9단의 사진이 화제다.\n",
            "3 13일 서울 광화문 포시즌스 호텔에서 열린 '구글 딥마인드 챌린지 매치'에서 이세돌 9단은 알파고와의 제4국에서 승리했다.\n",
            "4 이날 대국장을 빠져나가는 이세돌 9단의 모습이 사진에 포착됐다.\n",
            "5 이세돌 9단은 상의 주머니에 양손을 넣고 옅은 미소를 지었다.\n",
            "6 이 사진은 SNS에서 화제를 모았다.\n",
            "7 오늘 알파고에게 승리하고 대국장 빠져나가는 이세돌이라는데ㅋㅋㅋㅋㅋㅋㅋ 포토제닉ㅋㅋㅋㅋㅋㅋㅋ 이대로 헐리웃 영화 만들어지고 포스터 소취요  — 조드윅 앓는 서린 () 2016년 3월 13일\n",
            "8 대국을 마친 뒤, 이세돌 9단은 \"한판 이겼는데 이렇게까지 축하를 받아보는 것은 처음\"이라고 말했다.\n",
            "9 이세돌 9단은 기자회견장에도 함박 웃음을 감추지 못했다.\n",
            "10 여기에 태그가 있네요!\n",
            "11 이곳에도 태그가 있구요\n",
            "12 html은 태그로 이루어진 문서입니다.\n",
            "13 텍스트를 진하게 만들 수도 있고, 밑줄을 칠 수도 있습니다. ‘이 줄은 실제 뉴스(news,)에 포함되지 않은 임시 데이터임을 알립니다 ... ‘\n",
            "14 () ‘이 줄은 실제 뉴스(news,)에 포함되지 않은 임시 데이터임을 알립니다 ... ‘\n",
            "15 (사진=위키트리, 무단 전재-재배포 금지) ‘이 줄은 실제 뉴스(news,)에 포함되지 않은 임시 데이터임을 알립니다 ... ‘\n"
          ]
        }
      ]
    },
    {
      "cell_type": "code",
      "metadata": {
        "id": "UCkRPjsHBgvR"
      },
      "source": [
        "def remove_photo_info(texts):\n",
        "    \"\"\"\n",
        "    뉴스 내 포함된 이미지에 대한 label을 제거합니다.\n",
        "    ``(사진= 연합뉴스, 무단 전재-재배포 금지)`` -> ````\n",
        "    ``(출처=청주시)`` -> ````\n",
        "    \"\"\"\n",
        "    preprocessed_text = []\n",
        "    for text in texts:\n",
        "        text = re.sub(r\"\\(출처 ?= ?.+\\) |\\(사진 ?= ?.+\\) |\\(자료 ?= ?.+\\)| \\(자료사진\\) |사진=.+기자 \", \"\", text).strip()\n",
        "        if text:\n",
        "            preprocessed_text.append(text)\n",
        "    return preprocessed_text\n"
      ],
      "execution_count": 39,
      "outputs": []
    },
    {
      "cell_type": "code",
      "metadata": {
        "colab": {
          "base_uri": "https://localhost:8080/"
        },
        "id": "SdOSxpRRBwqV",
        "outputId": "4b232f1d-7417-4cb5-b490-c655e680863a"
      },
      "source": [
        "sents = remove_photo_info(sents)\n",
        "for i, sent in enumerate(sents):\n",
        "    print(i, sent)"
      ],
      "execution_count": 40,
      "outputs": [
        {
          "output_type": "stream",
          "name": "stdout",
          "text": [
            "0 이하 뉴스1&인공지능 알파고(AlphaGo)를 상대로 첫 승리를 거둔 이세돌 9단\n",
            "1 이하 뉴스1\n",
            "2 인공지능 알파고(AlphaGo)를 상대로 첫 승리를 거둔 이세돌 9단의 사진이 화제다.\n",
            "3 13일 서울 광화문 포시즌스 호텔에서 열린 '구글 딥마인드 챌린지 매치'에서 이세돌 9단은 알파고와의 제4국에서 승리했다.\n",
            "4 이날 대국장을 빠져나가는 이세돌 9단의 모습이 사진에 포착됐다.\n",
            "5 이세돌 9단은 상의 주머니에 양손을 넣고 옅은 미소를 지었다.\n",
            "6 이 사진은 SNS에서 화제를 모았다.\n",
            "7 오늘 알파고에게 승리하고 대국장 빠져나가는 이세돌이라는데ㅋㅋㅋㅋㅋㅋㅋ 포토제닉ㅋㅋㅋㅋㅋㅋㅋ 이대로 헐리웃 영화 만들어지고 포스터 소취요  — 조드윅 앓는 서린 () 2016년 3월 13일\n",
            "8 대국을 마친 뒤, 이세돌 9단은 \"한판 이겼는데 이렇게까지 축하를 받아보는 것은 처음\"이라고 말했다.\n",
            "9 이세돌 9단은 기자회견장에도 함박 웃음을 감추지 못했다.\n",
            "10 여기에 태그가 있네요!\n",
            "11 이곳에도 태그가 있구요\n",
            "12 html은 태그로 이루어진 문서입니다.\n",
            "13 텍스트를 진하게 만들 수도 있고, 밑줄을 칠 수도 있습니다. ‘이 줄은 실제 뉴스(news,)에 포함되지 않은 임시 데이터임을 알립니다 ... ‘\n",
            "14 () ‘이 줄은 실제 뉴스(news,)에 포함되지 않은 임시 데이터임을 알립니다 ... ‘\n",
            "15 ‘이 줄은 실제 뉴스(news,)에 포함되지 않은 임시 데이터임을 알립니다 ... ‘\n"
          ]
        }
      ]
    },
    {
      "cell_type": "code",
      "metadata": {
        "id": "yFIgYzXxEmV4"
      },
      "source": [
        "def remove_useless_breacket(texts):\n",
        "    \"\"\"\n",
        "    위키피디아 전처리를 위한 함수입니다.\n",
        "    괄호 내부에 의미가 없는 정보를 제거합니다.\n",
        "    아무런 정보를 포함하고 있지 않다면, 괄호를 통채로 제거합니다.\n",
        "    ``수학(,)`` -> ``수학``\n",
        "    ``수학(數學,) -> ``수학(數學)``\n",
        "    \"\"\"\n",
        "    bracket_pattern = re.compile(r\"\\((.*?)\\)\")\n",
        "    preprocessed_text = []\n",
        "    for text in texts:\n",
        "        modi_text = \"\"\n",
        "        text = text.replace(\"()\", \"\")  # 수학() -> 수학\n",
        "        brackets = bracket_pattern.search(text)\n",
        "        if not brackets:\n",
        "            if text:\n",
        "                preprocessed_text.append(text)\n",
        "                continue\n",
        "        replace_brackets = {}\n",
        "        # key: 원본 문장에서 고쳐야하는 index, value: 고쳐져야 하는 값\n",
        "        # e.g. {'2,8': '(數學)','34,37': ''}\n",
        "        while brackets:\n",
        "            index_key = str(brackets.start()) + \",\" + str(brackets.end())\n",
        "            bracket = text[brackets.start() + 1 : brackets.end() - 1]\n",
        "            infos = bracket.split(\",\")\n",
        "            modi_infos = []\n",
        "            for info in infos:\n",
        "                info = info.strip()\n",
        "                if len(info) > 0:\n",
        "                    modi_infos.append(info)\n",
        "            if len(modi_infos) > 0:\n",
        "                replace_brackets[index_key] = \"(\" + \", \".join(modi_infos) + \")\"\n",
        "            else:\n",
        "                replace_brackets[index_key] = \"\"\n",
        "            brackets = bracket_pattern.search(text, brackets.start() + 1)\n",
        "        end_index = 0\n",
        "        for index_key in replace_brackets.keys():\n",
        "            start_index = int(index_key.split(\",\")[0])\n",
        "            modi_text += text[end_index:start_index]\n",
        "            modi_text += replace_brackets[index_key]\n",
        "            end_index = int(index_key.split(\",\")[1])\n",
        "        modi_text += text[end_index:]\n",
        "        modi_text = modi_text.strip()\n",
        "        if modi_text:\n",
        "            preprocessed_text.append(modi_text)\n",
        "    return preprocessed_text"
      ],
      "execution_count": 41,
      "outputs": []
    },
    {
      "cell_type": "code",
      "metadata": {
        "colab": {
          "base_uri": "https://localhost:8080/"
        },
        "id": "FIyH9kNXE5mJ",
        "outputId": "f761083d-2241-4494-b112-cf9ff4a0b63c"
      },
      "source": [
        "sents = remove_useless_breacket(sents)\n",
        "for i, sent in enumerate(sents):\n",
        "    print(i, sent)"
      ],
      "execution_count": 42,
      "outputs": [
        {
          "output_type": "stream",
          "name": "stdout",
          "text": [
            "0 이하 뉴스1&인공지능 알파고(AlphaGo)를 상대로 첫 승리를 거둔 이세돌 9단\n",
            "1 이하 뉴스1\n",
            "2 인공지능 알파고(AlphaGo)를 상대로 첫 승리를 거둔 이세돌 9단의 사진이 화제다.\n",
            "3 13일 서울 광화문 포시즌스 호텔에서 열린 '구글 딥마인드 챌린지 매치'에서 이세돌 9단은 알파고와의 제4국에서 승리했다.\n",
            "4 이날 대국장을 빠져나가는 이세돌 9단의 모습이 사진에 포착됐다.\n",
            "5 이세돌 9단은 상의 주머니에 양손을 넣고 옅은 미소를 지었다.\n",
            "6 이 사진은 SNS에서 화제를 모았다.\n",
            "7 오늘 알파고에게 승리하고 대국장 빠져나가는 이세돌이라는데ㅋㅋㅋㅋㅋㅋㅋ 포토제닉ㅋㅋㅋㅋㅋㅋㅋ 이대로 헐리웃 영화 만들어지고 포스터 소취요  — 조드윅 앓는 서린  2016년 3월 13일\n",
            "8 대국을 마친 뒤, 이세돌 9단은 \"한판 이겼는데 이렇게까지 축하를 받아보는 것은 처음\"이라고 말했다.\n",
            "9 이세돌 9단은 기자회견장에도 함박 웃음을 감추지 못했다.\n",
            "10 여기에 태그가 있네요!\n",
            "11 이곳에도 태그가 있구요\n",
            "12 html은 태그로 이루어진 문서입니다.\n",
            "13 텍스트를 진하게 만들 수도 있고, 밑줄을 칠 수도 있습니다. ‘이 줄은 실제 뉴스(news)에 포함되지 않은 임시 데이터임을 알립니다 ... ‘\n",
            "14 ‘이 줄은 실제 뉴스(news)에 포함되지 않은 임시 데이터임을 알립니다 ... ‘\n",
            "15 ‘이 줄은 실제 뉴스(news)에 포함되지 않은 임시 데이터임을 알립니다 ... ‘\n"
          ]
        }
      ]
    },
    {
      "cell_type": "code",
      "metadata": {
        "colab": {
          "base_uri": "https://localhost:8080/"
        },
        "id": "LqKx9fFiFjJi",
        "outputId": "7083acf1-3026-4c37-f0eb-c0bbf7e7a9ad"
      },
      "source": [
        "!pip install soynlp"
      ],
      "execution_count": 43,
      "outputs": [
        {
          "output_type": "stream",
          "name": "stdout",
          "text": [
            "Collecting soynlp\n",
            "  Downloading soynlp-0.0.493-py3-none-any.whl (416 kB)\n",
            "\u001b[?25l\r\u001b[K     |▉                               | 10 kB 30.9 MB/s eta 0:00:01\r\u001b[K     |█▋                              | 20 kB 24.9 MB/s eta 0:00:01\r\u001b[K     |██▍                             | 30 kB 17.4 MB/s eta 0:00:01\r\u001b[K     |███▏                            | 40 kB 15.1 MB/s eta 0:00:01\r\u001b[K     |████                            | 51 kB 8.1 MB/s eta 0:00:01\r\u001b[K     |████▊                           | 61 kB 8.3 MB/s eta 0:00:01\r\u001b[K     |█████▌                          | 71 kB 8.3 MB/s eta 0:00:01\r\u001b[K     |██████▎                         | 81 kB 9.2 MB/s eta 0:00:01\r\u001b[K     |███████                         | 92 kB 10.0 MB/s eta 0:00:01\r\u001b[K     |███████▉                        | 102 kB 8.1 MB/s eta 0:00:01\r\u001b[K     |████████▋                       | 112 kB 8.1 MB/s eta 0:00:01\r\u001b[K     |█████████▍                      | 122 kB 8.1 MB/s eta 0:00:01\r\u001b[K     |██████████▏                     | 133 kB 8.1 MB/s eta 0:00:01\r\u001b[K     |███████████                     | 143 kB 8.1 MB/s eta 0:00:01\r\u001b[K     |███████████▉                    | 153 kB 8.1 MB/s eta 0:00:01\r\u001b[K     |████████████▋                   | 163 kB 8.1 MB/s eta 0:00:01\r\u001b[K     |█████████████▍                  | 174 kB 8.1 MB/s eta 0:00:01\r\u001b[K     |██████████████▏                 | 184 kB 8.1 MB/s eta 0:00:01\r\u001b[K     |███████████████                 | 194 kB 8.1 MB/s eta 0:00:01\r\u001b[K     |███████████████▊                | 204 kB 8.1 MB/s eta 0:00:01\r\u001b[K     |████████████████▌               | 215 kB 8.1 MB/s eta 0:00:01\r\u001b[K     |█████████████████▎              | 225 kB 8.1 MB/s eta 0:00:01\r\u001b[K     |██████████████████              | 235 kB 8.1 MB/s eta 0:00:01\r\u001b[K     |██████████████████▉             | 245 kB 8.1 MB/s eta 0:00:01\r\u001b[K     |███████████████████▋            | 256 kB 8.1 MB/s eta 0:00:01\r\u001b[K     |████████████████████▍           | 266 kB 8.1 MB/s eta 0:00:01\r\u001b[K     |█████████████████████▎          | 276 kB 8.1 MB/s eta 0:00:01\r\u001b[K     |██████████████████████          | 286 kB 8.1 MB/s eta 0:00:01\r\u001b[K     |██████████████████████▉         | 296 kB 8.1 MB/s eta 0:00:01\r\u001b[K     |███████████████████████▋        | 307 kB 8.1 MB/s eta 0:00:01\r\u001b[K     |████████████████████████▍       | 317 kB 8.1 MB/s eta 0:00:01\r\u001b[K     |█████████████████████████▏      | 327 kB 8.1 MB/s eta 0:00:01\r\u001b[K     |██████████████████████████      | 337 kB 8.1 MB/s eta 0:00:01\r\u001b[K     |██████████████████████████▊     | 348 kB 8.1 MB/s eta 0:00:01\r\u001b[K     |███████████████████████████▌    | 358 kB 8.1 MB/s eta 0:00:01\r\u001b[K     |████████████████████████████▎   | 368 kB 8.1 MB/s eta 0:00:01\r\u001b[K     |█████████████████████████████   | 378 kB 8.1 MB/s eta 0:00:01\r\u001b[K     |█████████████████████████████▉  | 389 kB 8.1 MB/s eta 0:00:01\r\u001b[K     |██████████████████████████████▋ | 399 kB 8.1 MB/s eta 0:00:01\r\u001b[K     |███████████████████████████████▌| 409 kB 8.1 MB/s eta 0:00:01\r\u001b[K     |████████████████████████████████| 416 kB 8.1 MB/s \n",
            "\u001b[?25hRequirement already satisfied: scipy>=1.1.0 in /usr/local/lib/python3.7/dist-packages (from soynlp) (1.4.1)\n",
            "Requirement already satisfied: psutil>=5.0.1 in /usr/local/lib/python3.7/dist-packages (from soynlp) (5.4.8)\n",
            "Requirement already satisfied: scikit-learn>=0.20.0 in /usr/local/lib/python3.7/dist-packages (from soynlp) (0.22.2.post1)\n",
            "Requirement already satisfied: numpy>=1.12.1 in /usr/local/lib/python3.7/dist-packages (from soynlp) (1.19.5)\n",
            "Requirement already satisfied: joblib>=0.11 in /usr/local/lib/python3.7/dist-packages (from scikit-learn>=0.20.0->soynlp) (1.0.1)\n",
            "Installing collected packages: soynlp\n",
            "Successfully installed soynlp-0.0.493\n"
          ]
        }
      ]
    },
    {
      "cell_type": "code",
      "metadata": {
        "colab": {
          "base_uri": "https://localhost:8080/"
        },
        "id": "mXQwZaORGEi0",
        "outputId": "8bc60665-860e-46b7-98fc-426f75eb6eb8"
      },
      "source": [
        "from soynlp.normalizer import *\n",
        "print(repeat_normalize('와하하하하하하하하하핫', num_repeats=2))"
      ],
      "execution_count": 44,
      "outputs": [
        {
          "output_type": "stream",
          "name": "stdout",
          "text": [
            "와하하핫\n"
          ]
        }
      ]
    },
    {
      "cell_type": "code",
      "metadata": {
        "id": "Uv4y-nsOGv1y"
      },
      "source": [
        "def remove_repeat_char(texts):\n",
        "    preprocessed_text = []\n",
        "    for text in texts:\n",
        "        text = repeat_normalize(text, num_repeats=2).strip()\n",
        "        if text:\n",
        "            preprocessed_text.append(text)\n",
        "    return preprocessed_text"
      ],
      "execution_count": 45,
      "outputs": []
    },
    {
      "cell_type": "code",
      "metadata": {
        "colab": {
          "base_uri": "https://localhost:8080/"
        },
        "id": "sl1Q5XqlHCjn",
        "outputId": "49824110-a7f6-4a20-9783-e6ead05895d2"
      },
      "source": [
        "sents = remove_repeat_char(sents) \n",
        "for i, sent in enumerate(sents):\n",
        "    print(i, sent)"
      ],
      "execution_count": 47,
      "outputs": [
        {
          "output_type": "stream",
          "name": "stdout",
          "text": [
            "0 이하 뉴스1&인공지능 알파고(AlphaGo)를 상대로 첫 승리를 거둔 이세돌 9단\n",
            "1 이하 뉴스1\n",
            "2 인공지능 알파고(AlphaGo)를 상대로 첫 승리를 거둔 이세돌 9단의 사진이 화제다.\n",
            "3 13일 서울 광화문 포시즌스 호텔에서 열린 '구글 딥마인드 챌린지 매치'에서 이세돌 9단은 알파고와의 제4국에서 승리했다.\n",
            "4 이날 대국장을 빠져나가는 이세돌 9단의 모습이 사진에 포착됐다.\n",
            "5 이세돌 9단은 상의 주머니에 양손을 넣고 옅은 미소를 지었다.\n",
            "6 이 사진은 SNS에서 화제를 모았다.\n",
            "7 오늘 알파고에게 승리하고 대국장 빠져나가는 이세돌이라는데ㅋㅋ 포토제닉ㅋㅋ 이대로 헐리웃 영화 만들어지고 포스터 소취요 — 조드윅 앓는 서린 2016년 3월 13일\n",
            "8 대국을 마친 뒤, 이세돌 9단은 \"한판 이겼는데 이렇게까지 축하를 받아보는 것은 처음\"이라고 말했다.\n",
            "9 이세돌 9단은 기자회견장에도 함박 웃음을 감추지 못했다.\n",
            "10 여기에 태그가 있네요!\n",
            "11 이곳에도 태그가 있구요\n",
            "12 html은 태그로 이루어진 문서입니다.\n",
            "13 텍스트를 진하게 만들 수도 있고, 밑줄을 칠 수도 있습니다. ‘이 줄은 실제 뉴스(news)에 포함되지 않은 임시 데이터임을 알립니다 ... ‘\n",
            "14 ‘이 줄은 실제 뉴스(news)에 포함되지 않은 임시 데이터임을 알립니다 ... ‘\n",
            "15 ‘이 줄은 실제 뉴스(news)에 포함되지 않은 임시 데이터임을 알립니다 ... ‘\n"
          ]
        }
      ]
    },
    {
      "cell_type": "code",
      "metadata": {
        "id": "gSw2vTRq3Ncj"
      },
      "source": [
        "def clean_punc(texts): #기호들을 일반화 해주는 과정. 기자들이 자신만의 방법으로 기호를 표현하는 경우가 ㅠㅠㅠ->다 통일 시켜 줘야 한다\n",
        "    punct_mapping = {\"‘\": \"'\", \"₹\": \"e\", \"´\": \"'\", \"°\": \"\", \"€\": \"e\", \"™\": \"tm\", \"√\": \" sqrt \", \"×\": \"x\", \"²\": \"2\", \"—\": \"-\", \"–\": \"-\", \"’\": \"'\", \"_\": \"-\", \"`\": \"'\", '“': '\"', '”': '\"', '“': '\"', \"£\": \"e\", '∞': 'infinity', 'θ': 'theta', '÷': '/', 'α': 'alpha', '•': '.', 'à': 'a', '−': '-', 'β': 'beta', '∅': '', '³': '3', 'π': 'pi', }\n",
        "\n",
        "    preprocessed_text = []\n",
        "    for text in texts:\n",
        "        for p in punct_mapping:\n",
        "            text = text.replace(p, punct_mapping[p])\n",
        "        text = text.strip()\n",
        "        if text:\n",
        "            preprocessed_text.append(text)\n",
        "    return preprocessed_text"
      ],
      "execution_count": 48,
      "outputs": []
    },
    {
      "cell_type": "code",
      "metadata": {
        "colab": {
          "base_uri": "https://localhost:8080/"
        },
        "id": "5GaQEA6x3cWy",
        "outputId": "cf708a70-1389-437c-c756-153702da9eba"
      },
      "source": [
        "sents = clean_punc(sents)\n",
        "for i, sent in enumerate(sents):\n",
        "    print(i, sent)"
      ],
      "execution_count": 49,
      "outputs": [
        {
          "output_type": "stream",
          "name": "stdout",
          "text": [
            "0 이하 뉴스1&인공지능 알파고(AlphaGo)를 상대로 첫 승리를 거둔 이세돌 9단\n",
            "1 이하 뉴스1\n",
            "2 인공지능 알파고(AlphaGo)를 상대로 첫 승리를 거둔 이세돌 9단의 사진이 화제다.\n",
            "3 13일 서울 광화문 포시즌스 호텔에서 열린 '구글 딥마인드 챌린지 매치'에서 이세돌 9단은 알파고와의 제4국에서 승리했다.\n",
            "4 이날 대국장을 빠져나가는 이세돌 9단의 모습이 사진에 포착됐다.\n",
            "5 이세돌 9단은 상의 주머니에 양손을 넣고 옅은 미소를 지었다.\n",
            "6 이 사진은 SNS에서 화제를 모았다.\n",
            "7 오늘 알파고에게 승리하고 대국장 빠져나가는 이세돌이라는데ㅋㅋ 포토제닉ㅋㅋ 이대로 헐리웃 영화 만들어지고 포스터 소취요 - 조드윅 앓는 서린 2016년 3월 13일\n",
            "8 대국을 마친 뒤, 이세돌 9단은 \"한판 이겼는데 이렇게까지 축하를 받아보는 것은 처음\"이라고 말했다.\n",
            "9 이세돌 9단은 기자회견장에도 함박 웃음을 감추지 못했다.\n",
            "10 여기에 태그가 있네요!\n",
            "11 이곳에도 태그가 있구요\n",
            "12 html은 태그로 이루어진 문서입니다.\n",
            "13 텍스트를 진하게 만들 수도 있고, 밑줄을 칠 수도 있습니다. '이 줄은 실제 뉴스(news)에 포함되지 않은 임시 데이터임을 알립니다 ... '\n",
            "14 '이 줄은 실제 뉴스(news)에 포함되지 않은 임시 데이터임을 알립니다 ... '\n",
            "15 '이 줄은 실제 뉴스(news)에 포함되지 않은 임시 데이터임을 알립니다 ... '\n"
          ]
        }
      ]
    },
    {
      "cell_type": "code",
      "metadata": {
        "id": "sX_JE4Z53jJz"
      },
      "source": [
        "def remove_repeated_spacing(texts): #전처리 하면서 여러개가 삭제되는데, 이때 space가 커질수가 있다. -> space 한칸으로 줄일 필요!!\n",
        "    \"\"\"\n",
        "    두 개 이상의 연속된 공백을 하나로 치환합니다.\n",
        "    ``오늘은    날씨가   좋다.`` -> ``오늘은 날씨가 좋다.``\n",
        "    \"\"\"\n",
        "    preprocessed_text = []\n",
        "    for text in texts:\n",
        "        text = re.sub(r\"\\s+\", \" \", text).strip()\n",
        "        if text:\n",
        "            preprocessed_text.append(text)\n",
        "    return preprocessed_text"
      ],
      "execution_count": 50,
      "outputs": []
    },
    {
      "cell_type": "code",
      "metadata": {
        "colab": {
          "base_uri": "https://localhost:8080/"
        },
        "id": "Y8Wcg2gxHrey",
        "outputId": "4897e8b0-e385-4a88-e968-565c652f5d60"
      },
      "source": [
        "sents = remove_repeated_spacing(sents)\n",
        "for i, sent in enumerate(sents):\n",
        "    print(i, sent)"
      ],
      "execution_count": 51,
      "outputs": [
        {
          "output_type": "stream",
          "name": "stdout",
          "text": [
            "0 이하 뉴스1&인공지능 알파고(AlphaGo)를 상대로 첫 승리를 거둔 이세돌 9단\n",
            "1 이하 뉴스1\n",
            "2 인공지능 알파고(AlphaGo)를 상대로 첫 승리를 거둔 이세돌 9단의 사진이 화제다.\n",
            "3 13일 서울 광화문 포시즌스 호텔에서 열린 '구글 딥마인드 챌린지 매치'에서 이세돌 9단은 알파고와의 제4국에서 승리했다.\n",
            "4 이날 대국장을 빠져나가는 이세돌 9단의 모습이 사진에 포착됐다.\n",
            "5 이세돌 9단은 상의 주머니에 양손을 넣고 옅은 미소를 지었다.\n",
            "6 이 사진은 SNS에서 화제를 모았다.\n",
            "7 오늘 알파고에게 승리하고 대국장 빠져나가는 이세돌이라는데ㅋㅋ 포토제닉ㅋㅋ 이대로 헐리웃 영화 만들어지고 포스터 소취요 - 조드윅 앓는 서린 2016년 3월 13일\n",
            "8 대국을 마친 뒤, 이세돌 9단은 \"한판 이겼는데 이렇게까지 축하를 받아보는 것은 처음\"이라고 말했다.\n",
            "9 이세돌 9단은 기자회견장에도 함박 웃음을 감추지 못했다.\n",
            "10 여기에 태그가 있네요!\n",
            "11 이곳에도 태그가 있구요\n",
            "12 html은 태그로 이루어진 문서입니다.\n",
            "13 텍스트를 진하게 만들 수도 있고, 밑줄을 칠 수도 있습니다. '이 줄은 실제 뉴스(news)에 포함되지 않은 임시 데이터임을 알립니다 ... '\n",
            "14 '이 줄은 실제 뉴스(news)에 포함되지 않은 임시 데이터임을 알립니다 ... '\n",
            "15 '이 줄은 실제 뉴스(news)에 포함되지 않은 임시 데이터임을 알립니다 ... '\n"
          ]
        }
      ]
    },
    {
      "cell_type": "code",
      "metadata": {
        "id": "I6NcmB7fHtYR"
      },
      "source": [
        "from collections import OrderedDict #중복된 문장을 학습하는 것은 노의미\n",
        "def remove_dup_sent(texts):\n",
        "    \"\"\"\n",
        "    중복된 문장을 제거합니다.\n",
        "    \"\"\"\n",
        "    texts = list(OrderedDict.fromkeys(texts))  #OrderedDict->입력된 순서대로 중복 제거 후 list로 만들어줌\n",
        "    return texts"
      ],
      "execution_count": 52,
      "outputs": []
    },
    {
      "cell_type": "code",
      "metadata": {
        "colab": {
          "base_uri": "https://localhost:8080/"
        },
        "id": "Czgj7ockIWc7",
        "outputId": "94561057-73d8-47fd-8ae8-fb55faee1cb8"
      },
      "source": [
        "sents = remove_dup_sent(sents)\n",
        "for i, sent in enumerate(sents):\n",
        "    print(i, sent)"
      ],
      "execution_count": 53,
      "outputs": [
        {
          "output_type": "stream",
          "name": "stdout",
          "text": [
            "0 이하 뉴스1&인공지능 알파고(AlphaGo)를 상대로 첫 승리를 거둔 이세돌 9단\n",
            "1 이하 뉴스1\n",
            "2 인공지능 알파고(AlphaGo)를 상대로 첫 승리를 거둔 이세돌 9단의 사진이 화제다.\n",
            "3 13일 서울 광화문 포시즌스 호텔에서 열린 '구글 딥마인드 챌린지 매치'에서 이세돌 9단은 알파고와의 제4국에서 승리했다.\n",
            "4 이날 대국장을 빠져나가는 이세돌 9단의 모습이 사진에 포착됐다.\n",
            "5 이세돌 9단은 상의 주머니에 양손을 넣고 옅은 미소를 지었다.\n",
            "6 이 사진은 SNS에서 화제를 모았다.\n",
            "7 오늘 알파고에게 승리하고 대국장 빠져나가는 이세돌이라는데ㅋㅋ 포토제닉ㅋㅋ 이대로 헐리웃 영화 만들어지고 포스터 소취요 - 조드윅 앓는 서린 2016년 3월 13일\n",
            "8 대국을 마친 뒤, 이세돌 9단은 \"한판 이겼는데 이렇게까지 축하를 받아보는 것은 처음\"이라고 말했다.\n",
            "9 이세돌 9단은 기자회견장에도 함박 웃음을 감추지 못했다.\n",
            "10 여기에 태그가 있네요!\n",
            "11 이곳에도 태그가 있구요\n",
            "12 html은 태그로 이루어진 문서입니다.\n",
            "13 텍스트를 진하게 만들 수도 있고, 밑줄을 칠 수도 있습니다. '이 줄은 실제 뉴스(news)에 포함되지 않은 임시 데이터임을 알립니다 ... '\n",
            "14 '이 줄은 실제 뉴스(news)에 포함되지 않은 임시 데이터임을 알립니다 ... '\n"
          ]
        }
      ]
    },
    {
      "cell_type": "code",
      "metadata": {
        "colab": {
          "base_uri": "https://localhost:8080/",
          "height": 1000
        },
        "id": "4pWdU3WpIYtZ",
        "outputId": "ddd34385-a13c-4c16-ea58-eb85c44bd431"
      },
      "source": [
        "!pip install git+https://github.com/haven-jeon/PyKoSpacing.git #띄어쓰기 보정을 해줘야 할떄도 있다. (크롤링 했는데 단어끼리 붙어있는 경우가 있다)"
      ],
      "execution_count": 54,
      "outputs": [
        {
          "output_type": "stream",
          "name": "stdout",
          "text": [
            "Collecting git+https://github.com/haven-jeon/PyKoSpacing.git\n",
            "  Cloning https://github.com/haven-jeon/PyKoSpacing.git to /tmp/pip-req-build-k576veqz\n",
            "  Running command git clone -q https://github.com/haven-jeon/PyKoSpacing.git /tmp/pip-req-build-k576veqz\n",
            "Collecting tensorflow==2.5.1\n",
            "  Downloading tensorflow-2.5.1-cp37-cp37m-manylinux2010_x86_64.whl (454.4 MB)\n",
            "\u001b[K     |████████████████████████████████| 454.4 MB 9.3 kB/s \n",
            "\u001b[?25hRequirement already satisfied: h5py==3.1.0 in /usr/local/lib/python3.7/dist-packages (from pykospacing==0.5) (3.1.0)\n",
            "Collecting argparse>=1.4.0\n",
            "  Downloading argparse-1.4.0-py2.py3-none-any.whl (23 kB)\n",
            "Requirement already satisfied: numpy>=1.14.5 in /usr/local/lib/python3.7/dist-packages (from h5py==3.1.0->pykospacing==0.5) (1.19.5)\n",
            "Requirement already satisfied: cached-property in /usr/local/lib/python3.7/dist-packages (from h5py==3.1.0->pykospacing==0.5) (1.5.2)\n",
            "Requirement already satisfied: termcolor~=1.1.0 in /usr/local/lib/python3.7/dist-packages (from tensorflow==2.5.1->pykospacing==0.5) (1.1.0)\n",
            "Requirement already satisfied: flatbuffers~=1.12.0 in /usr/local/lib/python3.7/dist-packages (from tensorflow==2.5.1->pykospacing==0.5) (1.12)\n",
            "Requirement already satisfied: keras-preprocessing~=1.1.2 in /usr/local/lib/python3.7/dist-packages (from tensorflow==2.5.1->pykospacing==0.5) (1.1.2)\n",
            "Requirement already satisfied: wrapt~=1.12.1 in /usr/local/lib/python3.7/dist-packages (from tensorflow==2.5.1->pykospacing==0.5) (1.12.1)\n",
            "Requirement already satisfied: gast==0.4.0 in /usr/local/lib/python3.7/dist-packages (from tensorflow==2.5.1->pykospacing==0.5) (0.4.0)\n",
            "Requirement already satisfied: absl-py~=0.10 in /usr/local/lib/python3.7/dist-packages (from tensorflow==2.5.1->pykospacing==0.5) (0.12.0)\n",
            "Requirement already satisfied: wheel~=0.35 in /usr/local/lib/python3.7/dist-packages (from tensorflow==2.5.1->pykospacing==0.5) (0.37.0)\n",
            "Requirement already satisfied: opt-einsum~=3.3.0 in /usr/local/lib/python3.7/dist-packages (from tensorflow==2.5.1->pykospacing==0.5) (3.3.0)\n",
            "Requirement already satisfied: google-pasta~=0.2 in /usr/local/lib/python3.7/dist-packages (from tensorflow==2.5.1->pykospacing==0.5) (0.2.0)\n",
            "Collecting keras-nightly~=2.5.0.dev\n",
            "  Downloading keras_nightly-2.5.0.dev2021032900-py2.py3-none-any.whl (1.2 MB)\n",
            "\u001b[K     |████████████████████████████████| 1.2 MB 55.7 MB/s \n",
            "\u001b[?25hRequirement already satisfied: six~=1.15.0 in /usr/local/lib/python3.7/dist-packages (from tensorflow==2.5.1->pykospacing==0.5) (1.15.0)\n",
            "Requirement already satisfied: tensorboard~=2.5 in /usr/local/lib/python3.7/dist-packages (from tensorflow==2.5.1->pykospacing==0.5) (2.6.0)\n",
            "Requirement already satisfied: astunparse~=1.6.3 in /usr/local/lib/python3.7/dist-packages (from tensorflow==2.5.1->pykospacing==0.5) (1.6.3)\n",
            "Requirement already satisfied: protobuf>=3.9.2 in /usr/local/lib/python3.7/dist-packages (from tensorflow==2.5.1->pykospacing==0.5) (3.17.3)\n",
            "Requirement already satisfied: typing-extensions~=3.7.4 in /usr/local/lib/python3.7/dist-packages (from tensorflow==2.5.1->pykospacing==0.5) (3.7.4.3)\n",
            "Collecting tensorflow-estimator<2.6.0,>=2.5.0\n",
            "  Downloading tensorflow_estimator-2.5.0-py2.py3-none-any.whl (462 kB)\n",
            "\u001b[K     |████████████████████████████████| 462 kB 72.3 MB/s \n",
            "\u001b[?25hCollecting grpcio~=1.34.0\n",
            "  Downloading grpcio-1.34.1-cp37-cp37m-manylinux2014_x86_64.whl (4.0 MB)\n",
            "\u001b[K     |████████████████████████████████| 4.0 MB 50.7 MB/s \n",
            "\u001b[?25hRequirement already satisfied: werkzeug>=0.11.15 in /usr/local/lib/python3.7/dist-packages (from tensorboard~=2.5->tensorflow==2.5.1->pykospacing==0.5) (1.0.1)\n",
            "Requirement already satisfied: google-auth<2,>=1.6.3 in /usr/local/lib/python3.7/dist-packages (from tensorboard~=2.5->tensorflow==2.5.1->pykospacing==0.5) (1.35.0)\n",
            "Requirement already satisfied: tensorboard-plugin-wit>=1.6.0 in /usr/local/lib/python3.7/dist-packages (from tensorboard~=2.5->tensorflow==2.5.1->pykospacing==0.5) (1.8.0)\n",
            "Requirement already satisfied: setuptools>=41.0.0 in /usr/local/lib/python3.7/dist-packages (from tensorboard~=2.5->tensorflow==2.5.1->pykospacing==0.5) (57.4.0)\n",
            "Requirement already satisfied: google-auth-oauthlib<0.5,>=0.4.1 in /usr/local/lib/python3.7/dist-packages (from tensorboard~=2.5->tensorflow==2.5.1->pykospacing==0.5) (0.4.6)\n",
            "Requirement already satisfied: requests<3,>=2.21.0 in /usr/local/lib/python3.7/dist-packages (from tensorboard~=2.5->tensorflow==2.5.1->pykospacing==0.5) (2.23.0)\n",
            "Requirement already satisfied: tensorboard-data-server<0.7.0,>=0.6.0 in /usr/local/lib/python3.7/dist-packages (from tensorboard~=2.5->tensorflow==2.5.1->pykospacing==0.5) (0.6.1)\n",
            "Requirement already satisfied: markdown>=2.6.8 in /usr/local/lib/python3.7/dist-packages (from tensorboard~=2.5->tensorflow==2.5.1->pykospacing==0.5) (3.3.4)\n",
            "Requirement already satisfied: pyasn1-modules>=0.2.1 in /usr/local/lib/python3.7/dist-packages (from google-auth<2,>=1.6.3->tensorboard~=2.5->tensorflow==2.5.1->pykospacing==0.5) (0.2.8)\n",
            "Requirement already satisfied: rsa<5,>=3.1.4 in /usr/local/lib/python3.7/dist-packages (from google-auth<2,>=1.6.3->tensorboard~=2.5->tensorflow==2.5.1->pykospacing==0.5) (4.7.2)\n",
            "Requirement already satisfied: cachetools<5.0,>=2.0.0 in /usr/local/lib/python3.7/dist-packages (from google-auth<2,>=1.6.3->tensorboard~=2.5->tensorflow==2.5.1->pykospacing==0.5) (4.2.2)\n",
            "Requirement already satisfied: requests-oauthlib>=0.7.0 in /usr/local/lib/python3.7/dist-packages (from google-auth-oauthlib<0.5,>=0.4.1->tensorboard~=2.5->tensorflow==2.5.1->pykospacing==0.5) (1.3.0)\n",
            "Requirement already satisfied: importlib-metadata in /usr/local/lib/python3.7/dist-packages (from markdown>=2.6.8->tensorboard~=2.5->tensorflow==2.5.1->pykospacing==0.5) (4.8.1)\n",
            "Requirement already satisfied: pyasn1<0.5.0,>=0.4.6 in /usr/local/lib/python3.7/dist-packages (from pyasn1-modules>=0.2.1->google-auth<2,>=1.6.3->tensorboard~=2.5->tensorflow==2.5.1->pykospacing==0.5) (0.4.8)\n",
            "Requirement already satisfied: certifi>=2017.4.17 in /usr/local/lib/python3.7/dist-packages (from requests<3,>=2.21.0->tensorboard~=2.5->tensorflow==2.5.1->pykospacing==0.5) (2021.5.30)\n",
            "Requirement already satisfied: urllib3!=1.25.0,!=1.25.1,<1.26,>=1.21.1 in /usr/local/lib/python3.7/dist-packages (from requests<3,>=2.21.0->tensorboard~=2.5->tensorflow==2.5.1->pykospacing==0.5) (1.24.3)\n",
            "Requirement already satisfied: chardet<4,>=3.0.2 in /usr/local/lib/python3.7/dist-packages (from requests<3,>=2.21.0->tensorboard~=2.5->tensorflow==2.5.1->pykospacing==0.5) (3.0.4)\n",
            "Requirement already satisfied: idna<3,>=2.5 in /usr/local/lib/python3.7/dist-packages (from requests<3,>=2.21.0->tensorboard~=2.5->tensorflow==2.5.1->pykospacing==0.5) (2.10)\n",
            "Requirement already satisfied: oauthlib>=3.0.0 in /usr/local/lib/python3.7/dist-packages (from requests-oauthlib>=0.7.0->google-auth-oauthlib<0.5,>=0.4.1->tensorboard~=2.5->tensorflow==2.5.1->pykospacing==0.5) (3.1.1)\n",
            "Requirement already satisfied: zipp>=0.5 in /usr/local/lib/python3.7/dist-packages (from importlib-metadata->markdown>=2.6.8->tensorboard~=2.5->tensorflow==2.5.1->pykospacing==0.5) (3.5.0)\n",
            "Building wheels for collected packages: pykospacing\n",
            "  Building wheel for pykospacing (setup.py) ... \u001b[?25l\u001b[?25hdone\n",
            "  Created wheel for pykospacing: filename=pykospacing-0.5-py3-none-any.whl size=2255835 sha256=9e1d9e85675759fa378adeb77597582d598d71250672813b5a3a5851a2179aa8\n",
            "  Stored in directory: /tmp/pip-ephem-wheel-cache-mgb93sbf/wheels/9b/93/81/a2a7dc8c66ede5bf30634d20635f32b95eac7ca2ea8844058b\n",
            "Successfully built pykospacing\n",
            "Installing collected packages: grpcio, tensorflow-estimator, keras-nightly, tensorflow, argparse, pykospacing\n",
            "  Attempting uninstall: grpcio\n",
            "    Found existing installation: grpcio 1.40.0\n",
            "    Uninstalling grpcio-1.40.0:\n",
            "      Successfully uninstalled grpcio-1.40.0\n",
            "  Attempting uninstall: tensorflow-estimator\n",
            "    Found existing installation: tensorflow-estimator 2.6.0\n",
            "    Uninstalling tensorflow-estimator-2.6.0:\n",
            "      Successfully uninstalled tensorflow-estimator-2.6.0\n",
            "  Attempting uninstall: tensorflow\n",
            "    Found existing installation: tensorflow 2.6.0\n",
            "    Uninstalling tensorflow-2.6.0:\n",
            "      Successfully uninstalled tensorflow-2.6.0\n",
            "Successfully installed argparse-1.4.0 grpcio-1.34.1 keras-nightly-2.5.0.dev2021032900 pykospacing-0.5 tensorflow-2.5.1 tensorflow-estimator-2.5.0\n"
          ]
        },
        {
          "output_type": "display_data",
          "data": {
            "application/vnd.colab-display-data+json": {
              "pip_warning": {
                "packages": [
                  "argparse"
                ]
              }
            }
          },
          "metadata": {}
        }
      ]
    },
    {
      "cell_type": "code",
      "metadata": {
        "colab": {
          "base_uri": "https://localhost:8080/",
          "height": 52
        },
        "id": "bYdRHKipI7yq",
        "outputId": "8c9fa538-2a11-45a2-8031-d457db77e153"
      },
      "source": [
        "from pykospacing import Spacing\n",
        "spacing = Spacing()\n",
        "spacing(\"김형호영화시장분석가는'1987'의네이버영화정보네티즌10점평에서언급된단어들을지난해12월27일부터올해1월10일까지통계프로그램R과KoNLP패키지로텍스트마이닝하여분석했다.\")"
      ],
      "execution_count": 55,
      "outputs": [
        {
          "output_type": "execute_result",
          "data": {
            "application/vnd.google.colaboratory.intrinsic+json": {
              "type": "string"
            },
            "text/plain": [
              "\"김형호 영화시장 분석가는 '1987'의 네이버 영화 정보 네티즌 10점 평에서 언급된 단어들을 지난해 12월 27일부터 올해 1월 10일까지 통계 프로그램 R과 KoNLP 패키지로 텍스트마이닝하여 분석했다.\""
            ]
          },
          "metadata": {},
          "execution_count": 55
        }
      ]
    },
    {
      "cell_type": "code",
      "metadata": {
        "id": "MuBb9G1_J8yU"
      },
      "source": [
        "def spacing_sent(texts):\n",
        "    \"\"\"\n",
        "    띄어쓰기를 보정합니다.\n",
        "    \"\"\"\n",
        "    preprocessed_text = []\n",
        "    for text in texts:\n",
        "        text = spacing(text)\n",
        "        if text:\n",
        "            preprocessed_text.append(text)\n",
        "    return preprocessed_text"
      ],
      "execution_count": 56,
      "outputs": []
    },
    {
      "cell_type": "code",
      "metadata": {
        "colab": {
          "base_uri": "https://localhost:8080/"
        },
        "id": "PzLY7z0MKMj_",
        "outputId": "4aaea885-ffc4-452a-8b7b-97640badb5a7"
      },
      "source": [
        "sents_ = spacing_sent(sents)\n",
        "for i, sent in enumerate(sents_):\n",
        "    print(i, sent)"
      ],
      "execution_count": 57,
      "outputs": [
        {
          "output_type": "stream",
          "name": "stdout",
          "text": [
            "0 이하 뉴스1&인공지능 알파고(AlphaGo)를 상대로 첫 승리를 거둔 이 세돌 9단\n",
            "1 이하 뉴스1\n",
            "2 인공지능 알파고(AlphaGo)를 상대로 첫 승리를 거둔 이 세돌 9단의 사진이 화제다.\n",
            "3 13일 서울 광화문 포시즌스 호텔에서 열린 '구글 딥마인드 챌린지 매치'에서 이세돌 9단은 알파고와의 제 4국에서 승리했다.\n",
            "4 이날 대 국장을 빠져나가는 이세돌 9단의 모습이 사진에 포착됐다.\n",
            "5 이세돌 9단은 상의 주머니에 양손을 넣고 옅은 미소를 지었다.\n",
            "6 이 사진은 SNS에서 화제를 모았다.\n",
            "7 오늘 알파고에게 승리하고 대국장 빠져나가는 이세돌이라는 데 ㅋㅋ 포토제닉 ㅋㅋ 이대로 헐리웃 영화 만들어지고 포스터 소취요 - 조드윅 앓는 서린 2016년 3월 13일\n",
            "8 대국을 마친 뒤, 이세돌 9단은 \"한 판 이겼는데 이렇게까지 축하를 받아 보는 것은 처음\"이라고 말했다.\n",
            "9 이세돌 9단은 기 자회견장에도 함박 웃음을 감추지 못했다.\n",
            "10 여기에 태그가 있네요!\n",
            "11 이곳에도 태그가 있구요\n",
            "12 html은 태그로 이루어진 문서입니다.\n",
            "13 텍스트를 진하게 만들 수도 있고, 밑줄을 칠 수도 있습니다. '이 줄은 실제 뉴스(news)에 포함되지 않은 임시 데이터임을 알립니 다 ... '\n",
            "14 '이 줄은 실제 뉴스(news)에 포함되지 않은 임시 데이터임을 알립니 다 ... '\n"
          ]
        }
      ]
    },
    {
      "cell_type": "markdown",
      "metadata": {
        "id": "eVwNVHKNImts"
      },
      "source": [
        "근데 이 띄어쓰기 보정기가 꼭 필수는 아닌게, 바로 윗줄 \n",
        "\"알립니 다\" 처럼 잘못 처리하는 경우가 있어서 ㅠㅠ."
      ]
    },
    {
      "cell_type": "markdown",
      "metadata": {
        "id": "crNWI0kG7vhe"
      },
      "source": [
        "마춤뻡 검사기도 테스트를 해보겠습니다."
      ]
    },
    {
      "cell_type": "code",
      "metadata": {
        "colab": {
          "base_uri": "https://localhost:8080/"
        },
        "id": "0hsr5A5gKPWb",
        "outputId": "af726903-f5d8-4eff-ba4e-1e3ebbedd332"
      },
      "source": [
        "!pip install git+https://github.com/ssut/py-hanspell.git"
      ],
      "execution_count": 58,
      "outputs": [
        {
          "output_type": "stream",
          "name": "stdout",
          "text": [
            "Collecting git+https://github.com/ssut/py-hanspell.git\n",
            "  Cloning https://github.com/ssut/py-hanspell.git to /tmp/pip-req-build-hja9ubmf\n",
            "  Running command git clone -q https://github.com/ssut/py-hanspell.git /tmp/pip-req-build-hja9ubmf\n",
            "Requirement already satisfied: requests in /usr/local/lib/python3.7/dist-packages (from py-hanspell==1.1) (2.23.0)\n",
            "Requirement already satisfied: chardet<4,>=3.0.2 in /usr/local/lib/python3.7/dist-packages (from requests->py-hanspell==1.1) (3.0.4)\n",
            "Requirement already satisfied: certifi>=2017.4.17 in /usr/local/lib/python3.7/dist-packages (from requests->py-hanspell==1.1) (2021.5.30)\n",
            "Requirement already satisfied: urllib3!=1.25.0,!=1.25.1,<1.26,>=1.21.1 in /usr/local/lib/python3.7/dist-packages (from requests->py-hanspell==1.1) (1.24.3)\n",
            "Requirement already satisfied: idna<3,>=2.5 in /usr/local/lib/python3.7/dist-packages (from requests->py-hanspell==1.1) (2.10)\n",
            "Building wheels for collected packages: py-hanspell\n",
            "  Building wheel for py-hanspell (setup.py) ... \u001b[?25l\u001b[?25hdone\n",
            "  Created wheel for py-hanspell: filename=py_hanspell-1.1-py3-none-any.whl size=4868 sha256=a2b45d2c96ce00b0b55d270c5c5edfe84553170707e21451a39f0844103ca13c\n",
            "  Stored in directory: /tmp/pip-ephem-wheel-cache-pkukl4hh/wheels/ab/f5/7b/d4124bb329c905301baed80e2ae45aa14e824f62ebc3ec2cc4\n",
            "Successfully built py-hanspell\n",
            "Installing collected packages: py-hanspell\n",
            "Successfully installed py-hanspell-1.1\n"
          ]
        }
      ]
    },
    {
      "cell_type": "code",
      "metadata": {
        "colab": {
          "base_uri": "https://localhost:8080/"
        },
        "id": "DypeMRxAK189",
        "outputId": "bb8adb48-066c-46a7-91f2-c1997896aa12"
      },
      "source": [
        "from hanspell import spell_checker\n",
        " \n",
        "sent = \"대체 왜 않돼는지 설명을 해바\"\n",
        "spelled_sent = spell_checker.check(sent)\n",
        "print(spelled_sent)\n",
        "checked_sent = spelled_sent.checked \n",
        "print(checked_sent)"
      ],
      "execution_count": 59,
      "outputs": [
        {
          "output_type": "stream",
          "name": "stdout",
          "text": [
            "Checked(result=True, original='대체 왜 않돼는지 설명을 해바', checked='대체 왜 안되는지 설명을 해봐', errors=2, words=OrderedDict([('대체', 0), ('왜', 0), ('안되는지', 1), ('설명을', 0), ('해봐', 1)]), time=0.6580195426940918)\n",
            "대체 왜 안되는지 설명을 해봐\n"
          ]
        }
      ]
    },
    {
      "cell_type": "code",
      "metadata": {
        "id": "iset-o6uK9a7"
      },
      "source": [
        "def spell_check_sent(texts):\n",
        "    \"\"\"\n",
        "    맞춤법을 보정합니다.\n",
        "    \"\"\"\n",
        "    preprocessed_text = []\n",
        "    for text in texts:\n",
        "        try:\n",
        "            spelled_sent = spell_checker.check(text)\n",
        "            checked_sent = spelled_sent.checked \n",
        "            if checked_sent:\n",
        "                preprocessed_text.append(checked_sent)\n",
        "        except:\n",
        "            preprocessed_text.append(text)\n",
        "    return preprocessed_text"
      ],
      "execution_count": 60,
      "outputs": []
    },
    {
      "cell_type": "code",
      "metadata": {
        "colab": {
          "base_uri": "https://localhost:8080/"
        },
        "id": "YF2XcJ1xLOoW",
        "outputId": "e49b024e-6953-44d2-de40-0a73871ef18a"
      },
      "source": [
        "sents_ = spell_check_sent(sents)\n",
        "for i, sent in enumerate(sents_):\n",
        "    print(i, sent)"
      ],
      "execution_count": 61,
      "outputs": [
        {
          "output_type": "stream",
          "name": "stdout",
          "text": [
            "0 이하 뉴스1&인공지능 알파고(AlphaGo)를 상대로 첫 승리를 거둔 이세돌 9단\n",
            "1 이하 뉴스 1\n",
            "2 인공지능 알파고(AlphaGo)를 상대로 첫 승리를 거둔 이세돌 9단의 사진이 화제다.\n",
            "3 13일 서울 광화문 포 시즌스 호텔에서 열린 '구글 딥마인드 챌린지 매치'에서 이세돌 9단은 알파고와의 제4국에서 승리했다.\n",
            "4 이날 대국장을 빠져나가는 이세돌 9단의 모습이 사진에 포착됐다.\n",
            "5 이세돌 9단은 상의 주머니에 양손을 넣고 옅은 미소를 지었다.\n",
            "6 이 사진은 SNS에서 화제를 모았다.\n",
            "7 오늘 알파고에게 승리하고 대국장 빠져나가는 이세돌이라는데ㅋㅋ 포토제닉ㅋㅋ 이대로 할리우드 영화 만들어지고 포스터 소치요 - 조드윅 앓는 서린 2016년 3월 13일\n",
            "8 대국을 마친 뒤, 이세돌 9단은 \"한 판 이겼는데 이렇게까지 축하를 받아보는 것은 처음\"이라고 말했다.\n",
            "9 이세돌 9단은 기자회견장에도 함박웃음을 감추지 못했다.\n",
            "10 여기에 태그가 있네요!\n",
            "11 이곳에도 태그가 있고요\n",
            "12 html은 태그로 이루어진 문서입니다.\n",
            "13 텍스트를 진하게 만들 수도 있고, 밑줄을 칠 수도 있습니다. '이 줄은 실제 뉴스(news)에 포함되지 않은 임시 데이터임을 알립니다 ... '\n",
            "14 '이 줄은 실제 뉴스(news)에 포함되지 않은 임시 데이터임을 알립니다 ... '\n"
          ]
        }
      ]
    },
    {
      "cell_type": "markdown",
      "metadata": {
        "id": "J5PE6uh68DO3"
      },
      "source": [
        "필터링의 끝판왕!   \n",
        "형태소 분석 기반 필터링을 테스트하기 위해 한국어 형태소 분석기를 설치합니다.   "
      ]
    },
    {
      "cell_type": "code",
      "metadata": {
        "colab": {
          "base_uri": "https://localhost:8080/",
          "height": 640
        },
        "id": "ag_7MU3qL32H",
        "outputId": "ca2c6a11-6f7f-4a70-c8ef-af22c60bf8de"
      },
      "source": [
        "!pip install konlpy"
      ],
      "execution_count": 62,
      "outputs": [
        {
          "output_type": "stream",
          "name": "stdout",
          "text": [
            "Collecting konlpy\n",
            "  Downloading konlpy-0.5.2-py2.py3-none-any.whl (19.4 MB)\n",
            "\u001b[K     |████████████████████████████████| 19.4 MB 5.4 MB/s \n",
            "\u001b[?25hCollecting JPype1>=0.7.0\n",
            "  Downloading JPype1-1.3.0-cp37-cp37m-manylinux_2_5_x86_64.manylinux1_x86_64.whl (448 kB)\n",
            "\u001b[K     |████████████████████████████████| 448 kB 56.5 MB/s \n",
            "\u001b[?25hRequirement already satisfied: lxml>=4.1.0 in /usr/local/lib/python3.7/dist-packages (from konlpy) (4.2.6)\n",
            "Requirement already satisfied: numpy>=1.6 in /usr/local/lib/python3.7/dist-packages (from konlpy) (1.19.5)\n",
            "Collecting colorama\n",
            "  Downloading colorama-0.4.4-py2.py3-none-any.whl (16 kB)\n",
            "Collecting beautifulsoup4==4.6.0\n",
            "  Downloading beautifulsoup4-4.6.0-py3-none-any.whl (86 kB)\n",
            "\u001b[K     |████████████████████████████████| 86 kB 7.4 MB/s \n",
            "\u001b[?25hRequirement already satisfied: tweepy>=3.7.0 in /usr/local/lib/python3.7/dist-packages (from konlpy) (3.10.0)\n",
            "Requirement already satisfied: typing-extensions in /usr/local/lib/python3.7/dist-packages (from JPype1>=0.7.0->konlpy) (3.7.4.3)\n",
            "Requirement already satisfied: requests-oauthlib>=0.7.0 in /usr/local/lib/python3.7/dist-packages (from tweepy>=3.7.0->konlpy) (1.3.0)\n",
            "Requirement already satisfied: requests[socks]>=2.11.1 in /usr/local/lib/python3.7/dist-packages (from tweepy>=3.7.0->konlpy) (2.23.0)\n",
            "Requirement already satisfied: six>=1.10.0 in /usr/local/lib/python3.7/dist-packages (from tweepy>=3.7.0->konlpy) (1.15.0)\n",
            "Requirement already satisfied: oauthlib>=3.0.0 in /usr/local/lib/python3.7/dist-packages (from requests-oauthlib>=0.7.0->tweepy>=3.7.0->konlpy) (3.1.1)\n",
            "Requirement already satisfied: certifi>=2017.4.17 in /usr/local/lib/python3.7/dist-packages (from requests[socks]>=2.11.1->tweepy>=3.7.0->konlpy) (2021.5.30)\n",
            "Requirement already satisfied: chardet<4,>=3.0.2 in /usr/local/lib/python3.7/dist-packages (from requests[socks]>=2.11.1->tweepy>=3.7.0->konlpy) (3.0.4)\n",
            "Requirement already satisfied: urllib3!=1.25.0,!=1.25.1,<1.26,>=1.21.1 in /usr/local/lib/python3.7/dist-packages (from requests[socks]>=2.11.1->tweepy>=3.7.0->konlpy) (1.24.3)\n",
            "Requirement already satisfied: idna<3,>=2.5 in /usr/local/lib/python3.7/dist-packages (from requests[socks]>=2.11.1->tweepy>=3.7.0->konlpy) (2.10)\n",
            "Requirement already satisfied: PySocks!=1.5.7,>=1.5.6 in /usr/local/lib/python3.7/dist-packages (from requests[socks]>=2.11.1->tweepy>=3.7.0->konlpy) (1.7.1)\n",
            "Installing collected packages: JPype1, colorama, beautifulsoup4, konlpy\n",
            "  Attempting uninstall: beautifulsoup4\n",
            "    Found existing installation: beautifulsoup4 4.6.3\n",
            "    Uninstalling beautifulsoup4-4.6.3:\n",
            "      Successfully uninstalled beautifulsoup4-4.6.3\n",
            "Successfully installed JPype1-1.3.0 beautifulsoup4-4.6.0 colorama-0.4.4 konlpy-0.5.2\n"
          ]
        },
        {
          "output_type": "display_data",
          "data": {
            "application/vnd.colab-display-data+json": {
              "pip_warning": {
                "packages": [
                  "bs4"
                ]
              }
            }
          },
          "metadata": {}
        }
      ]
    },
    {
      "cell_type": "code",
      "metadata": {
        "colab": {
          "base_uri": "https://localhost:8080/"
        },
        "id": "Fnzxr9NqMfes",
        "outputId": "5f842f6e-4f81-4095-e5f4-ea3a407f2963"
      },
      "source": [
        "!bash <(curl -s https://raw.githubusercontent.com/konlpy/konlpy/master/scripts/mecab.sh)"
      ],
      "execution_count": 63,
      "outputs": [
        {
          "output_type": "stream",
          "name": "stdout",
          "text": [
            "Installing automake (A dependency for mecab-ko)\n",
            "Ign:1 https://developer.download.nvidia.com/compute/cuda/repos/ubuntu1804/x86_64  InRelease\n",
            "Get:2 https://cloud.r-project.org/bin/linux/ubuntu bionic-cran40/ InRelease [3,626 B]\n",
            "Ign:3 https://developer.download.nvidia.com/compute/machine-learning/repos/ubuntu1804/x86_64  InRelease\n",
            "Hit:4 https://developer.download.nvidia.com/compute/cuda/repos/ubuntu1804/x86_64  Release\n",
            "Hit:5 https://developer.download.nvidia.com/compute/machine-learning/repos/ubuntu1804/x86_64  Release\n",
            "Get:6 http://security.ubuntu.com/ubuntu bionic-security InRelease [88.7 kB]\n",
            "Get:7 https://cloud.r-project.org/bin/linux/ubuntu bionic-cran40/ Packages [67.9 kB]\n",
            "Get:8 http://ppa.launchpad.net/c2d4u.team/c2d4u4.0+/ubuntu bionic InRelease [15.9 kB]\n",
            "Hit:10 http://archive.ubuntu.com/ubuntu bionic InRelease\n",
            "Get:12 http://archive.ubuntu.com/ubuntu bionic-updates InRelease [88.7 kB]\n",
            "Hit:13 http://ppa.launchpad.net/cran/libgit2/ubuntu bionic InRelease\n",
            "Get:14 http://security.ubuntu.com/ubuntu bionic-security/restricted amd64 Packages [594 kB]\n",
            "Hit:15 http://ppa.launchpad.net/deadsnakes/ppa/ubuntu bionic InRelease\n",
            "Get:16 http://archive.ubuntu.com/ubuntu bionic-backports InRelease [74.6 kB]\n",
            "Get:17 http://security.ubuntu.com/ubuntu bionic-security/main amd64 Packages [2,351 kB]\n",
            "Get:18 http://archive.ubuntu.com/ubuntu bionic-updates/restricted amd64 Packages [627 kB]\n",
            "Get:19 http://ppa.launchpad.net/graphics-drivers/ppa/ubuntu bionic InRelease [21.3 kB]\n",
            "Get:20 http://security.ubuntu.com/ubuntu bionic-security/universe amd64 Packages [1,428 kB]\n",
            "Get:21 http://archive.ubuntu.com/ubuntu bionic-updates/main amd64 Packages [2,787 kB]\n",
            "Get:22 http://ppa.launchpad.net/c2d4u.team/c2d4u4.0+/ubuntu bionic/main Sources [1,802 kB]\n",
            "Get:23 http://archive.ubuntu.com/ubuntu bionic-updates/universe amd64 Packages [2,202 kB]\n",
            "Get:24 http://ppa.launchpad.net/c2d4u.team/c2d4u4.0+/ubuntu bionic/main amd64 Packages [922 kB]\n",
            "Get:25 http://ppa.launchpad.net/graphics-drivers/ppa/ubuntu bionic/main amd64 Packages [42.0 kB]\n",
            "Fetched 13.1 MB in 4s (3,105 kB/s)\n",
            "Reading package lists... Done\n",
            "Reading package lists... Done\n",
            "Building dependency tree       \n",
            "Reading state information... Done\n",
            "The following additional packages will be installed:\n",
            "  autoconf autotools-dev libsigsegv2 m4\n",
            "Suggested packages:\n",
            "  autoconf-archive gnu-standards autoconf-doc libtool gettext m4-doc\n",
            "The following NEW packages will be installed:\n",
            "  autoconf automake autotools-dev libsigsegv2 m4\n",
            "0 upgraded, 5 newly installed, 0 to remove and 79 not upgraded.\n",
            "Need to get 1,082 kB of archives.\n",
            "After this operation, 3,994 kB of additional disk space will be used.\n",
            "Get:1 http://archive.ubuntu.com/ubuntu bionic/main amd64 libsigsegv2 amd64 2.12-1 [14.7 kB]\n",
            "Get:2 http://archive.ubuntu.com/ubuntu bionic/main amd64 m4 amd64 1.4.18-1 [197 kB]\n",
            "Get:3 http://archive.ubuntu.com/ubuntu bionic/main amd64 autoconf all 2.69-11 [322 kB]\n",
            "Get:4 http://archive.ubuntu.com/ubuntu bionic/main amd64 autotools-dev all 20180224.1 [39.6 kB]\n",
            "Get:5 http://archive.ubuntu.com/ubuntu bionic/main amd64 automake all 1:1.15.1-3ubuntu2 [509 kB]\n",
            "Fetched 1,082 kB in 1s (867 kB/s)\n",
            "debconf: unable to initialize frontend: Dialog\n",
            "debconf: (No usable dialog-like program is installed, so the dialog based frontend cannot be used. at /usr/share/perl5/Debconf/FrontEnd/Dialog.pm line 76, <> line 5.)\n",
            "debconf: falling back to frontend: Readline\n",
            "debconf: unable to initialize frontend: Readline\n",
            "debconf: (This frontend requires a controlling tty.)\n",
            "debconf: falling back to frontend: Teletype\n",
            "dpkg-preconfigure: unable to re-open stdin: \n",
            "Selecting previously unselected package libsigsegv2:amd64.\n",
            "(Reading database ... 155013 files and directories currently installed.)\n",
            "Preparing to unpack .../libsigsegv2_2.12-1_amd64.deb ...\n",
            "Unpacking libsigsegv2:amd64 (2.12-1) ...\n",
            "Selecting previously unselected package m4.\n",
            "Preparing to unpack .../archives/m4_1.4.18-1_amd64.deb ...\n",
            "Unpacking m4 (1.4.18-1) ...\n",
            "Selecting previously unselected package autoconf.\n",
            "Preparing to unpack .../autoconf_2.69-11_all.deb ...\n",
            "Unpacking autoconf (2.69-11) ...\n",
            "Selecting previously unselected package autotools-dev.\n",
            "Preparing to unpack .../autotools-dev_20180224.1_all.deb ...\n",
            "Unpacking autotools-dev (20180224.1) ...\n",
            "Selecting previously unselected package automake.\n",
            "Preparing to unpack .../automake_1%3a1.15.1-3ubuntu2_all.deb ...\n",
            "Unpacking automake (1:1.15.1-3ubuntu2) ...\n",
            "Setting up libsigsegv2:amd64 (2.12-1) ...\n",
            "Setting up m4 (1.4.18-1) ...\n",
            "Setting up autotools-dev (20180224.1) ...\n",
            "Setting up autoconf (2.69-11) ...\n",
            "Setting up automake (1:1.15.1-3ubuntu2) ...\n",
            "update-alternatives: using /usr/bin/automake-1.15 to provide /usr/bin/automake (automake) in auto mode\n",
            "Processing triggers for libc-bin (2.27-3ubuntu1.3) ...\n",
            "/sbin/ldconfig.real: /usr/local/lib/python3.7/dist-packages/ideep4py/lib/libmkldnn.so.0 is not a symbolic link\n",
            "\n",
            "Processing triggers for man-db (2.8.3-2ubuntu0.1) ...\n",
            "Install mecab-ko-dic\n",
            "  % Total    % Received % Xferd  Average Speed   Time    Time     Time  Current\n",
            "                                 Dload  Upload   Total   Spent    Left  Speed\n",
            "  0     0    0     0    0     0      0      0 --:--:-- --:--:-- --:--:--     0\n",
            "100 1381k  100 1381k    0     0  1257k      0  0:00:01  0:00:01 --:--:-- 1257k\n",
            "mecab-0.996-ko-0.9.2/\n",
            "mecab-0.996-ko-0.9.2/example/\n",
            "mecab-0.996-ko-0.9.2/example/example.cpp\n",
            "mecab-0.996-ko-0.9.2/example/example_lattice.cpp\n",
            "mecab-0.996-ko-0.9.2/example/example_lattice.c\n",
            "mecab-0.996-ko-0.9.2/example/example.c\n",
            "mecab-0.996-ko-0.9.2/example/thread_test.cpp\n",
            "mecab-0.996-ko-0.9.2/mecab-config.in\n",
            "mecab-0.996-ko-0.9.2/man/\n",
            "mecab-0.996-ko-0.9.2/man/Makefile.am\n",
            "mecab-0.996-ko-0.9.2/man/mecab.1\n",
            "mecab-0.996-ko-0.9.2/man/Makefile.in\n",
            "mecab-0.996-ko-0.9.2/mecab.iss.in\n",
            "mecab-0.996-ko-0.9.2/config.guess\n",
            "mecab-0.996-ko-0.9.2/README\n",
            "mecab-0.996-ko-0.9.2/COPYING\n",
            "mecab-0.996-ko-0.9.2/CHANGES.md\n",
            "mecab-0.996-ko-0.9.2/README.md\n",
            "mecab-0.996-ko-0.9.2/INSTALL\n",
            "mecab-0.996-ko-0.9.2/config.sub\n",
            "mecab-0.996-ko-0.9.2/configure.in\n",
            "mecab-0.996-ko-0.9.2/swig/\n",
            "mecab-0.996-ko-0.9.2/swig/Makefile\n",
            "mecab-0.996-ko-0.9.2/swig/version.h.in\n",
            "mecab-0.996-ko-0.9.2/swig/version.h\n",
            "mecab-0.996-ko-0.9.2/swig/MeCab.i\n",
            "mecab-0.996-ko-0.9.2/aclocal.m4\n",
            "mecab-0.996-ko-0.9.2/LGPL\n",
            "mecab-0.996-ko-0.9.2/Makefile.am\n",
            "mecab-0.996-ko-0.9.2/configure\n",
            "mecab-0.996-ko-0.9.2/tests/\n",
            "mecab-0.996-ko-0.9.2/tests/autolink/\n",
            "mecab-0.996-ko-0.9.2/tests/autolink/unk.def\n",
            "mecab-0.996-ko-0.9.2/tests/autolink/dicrc\n",
            "mecab-0.996-ko-0.9.2/tests/autolink/dic.csv\n",
            "mecab-0.996-ko-0.9.2/tests/autolink/test\n",
            "mecab-0.996-ko-0.9.2/tests/autolink/char.def\n",
            "mecab-0.996-ko-0.9.2/tests/autolink/matrix.def\n",
            "mecab-0.996-ko-0.9.2/tests/autolink/test.gld\n",
            "mecab-0.996-ko-0.9.2/tests/t9/\n",
            "mecab-0.996-ko-0.9.2/tests/t9/unk.def\n",
            "mecab-0.996-ko-0.9.2/tests/t9/ipadic.pl\n",
            "mecab-0.996-ko-0.9.2/tests/t9/dicrc\n",
            "mecab-0.996-ko-0.9.2/tests/t9/dic.csv\n",
            "mecab-0.996-ko-0.9.2/tests/t9/test\n",
            "mecab-0.996-ko-0.9.2/tests/t9/char.def\n",
            "mecab-0.996-ko-0.9.2/tests/t9/matrix.def\n",
            "mecab-0.996-ko-0.9.2/tests/t9/mkdic.pl\n",
            "mecab-0.996-ko-0.9.2/tests/t9/test.gld\n",
            "mecab-0.996-ko-0.9.2/tests/cost-train/\n",
            "mecab-0.996-ko-0.9.2/tests/cost-train/ipa.train\n",
            "mecab-0.996-ko-0.9.2/tests/cost-train/ipa.test\n",
            "mecab-0.996-ko-0.9.2/tests/cost-train/seed/\n",
            "mecab-0.996-ko-0.9.2/tests/cost-train/seed/rewrite.def\n",
            "mecab-0.996-ko-0.9.2/tests/cost-train/seed/feature.def\n",
            "mecab-0.996-ko-0.9.2/tests/cost-train/seed/unk.def\n",
            "mecab-0.996-ko-0.9.2/tests/cost-train/seed/dicrc\n",
            "mecab-0.996-ko-0.9.2/tests/cost-train/seed/dic.csv\n",
            "mecab-0.996-ko-0.9.2/tests/cost-train/seed/char.def\n",
            "mecab-0.996-ko-0.9.2/tests/cost-train/seed/matrix.def\n",
            "mecab-0.996-ko-0.9.2/tests/run-eval.sh\n",
            "mecab-0.996-ko-0.9.2/tests/run-cost-train.sh\n",
            "mecab-0.996-ko-0.9.2/tests/Makefile.am\n",
            "mecab-0.996-ko-0.9.2/tests/katakana/\n",
            "mecab-0.996-ko-0.9.2/tests/katakana/unk.def\n",
            "mecab-0.996-ko-0.9.2/tests/katakana/dicrc\n",
            "mecab-0.996-ko-0.9.2/tests/katakana/dic.csv\n",
            "mecab-0.996-ko-0.9.2/tests/katakana/test\n",
            "mecab-0.996-ko-0.9.2/tests/katakana/char.def\n",
            "mecab-0.996-ko-0.9.2/tests/katakana/matrix.def\n",
            "mecab-0.996-ko-0.9.2/tests/katakana/test.gld\n",
            "mecab-0.996-ko-0.9.2/tests/eval/\n",
            "mecab-0.996-ko-0.9.2/tests/eval/answer\n",
            "mecab-0.996-ko-0.9.2/tests/eval/system\n",
            "mecab-0.996-ko-0.9.2/tests/eval/test.gld\n",
            "mecab-0.996-ko-0.9.2/tests/shiin/\n",
            "mecab-0.996-ko-0.9.2/tests/shiin/unk.def\n",
            "mecab-0.996-ko-0.9.2/tests/shiin/dicrc\n",
            "mecab-0.996-ko-0.9.2/tests/shiin/dic.csv\n",
            "mecab-0.996-ko-0.9.2/tests/shiin/test\n",
            "mecab-0.996-ko-0.9.2/tests/shiin/char.def\n",
            "mecab-0.996-ko-0.9.2/tests/shiin/matrix.def\n",
            "mecab-0.996-ko-0.9.2/tests/shiin/mkdic.pl\n",
            "mecab-0.996-ko-0.9.2/tests/shiin/test.gld\n",
            "mecab-0.996-ko-0.9.2/tests/latin/\n",
            "mecab-0.996-ko-0.9.2/tests/latin/unk.def\n",
            "mecab-0.996-ko-0.9.2/tests/latin/dicrc\n",
            "mecab-0.996-ko-0.9.2/tests/latin/dic.csv\n",
            "mecab-0.996-ko-0.9.2/tests/latin/test\n",
            "mecab-0.996-ko-0.9.2/tests/latin/char.def\n",
            "mecab-0.996-ko-0.9.2/tests/latin/matrix.def\n",
            "mecab-0.996-ko-0.9.2/tests/latin/test.gld\n",
            "mecab-0.996-ko-0.9.2/tests/chartype/\n",
            "mecab-0.996-ko-0.9.2/tests/chartype/unk.def\n",
            "mecab-0.996-ko-0.9.2/tests/chartype/dicrc\n",
            "mecab-0.996-ko-0.9.2/tests/chartype/dic.csv\n",
            "mecab-0.996-ko-0.9.2/tests/chartype/test\n",
            "mecab-0.996-ko-0.9.2/tests/chartype/char.def\n",
            "mecab-0.996-ko-0.9.2/tests/chartype/matrix.def\n",
            "mecab-0.996-ko-0.9.2/tests/chartype/test.gld\n",
            "mecab-0.996-ko-0.9.2/tests/run-dics.sh\n",
            "mecab-0.996-ko-0.9.2/tests/ngram/\n",
            "mecab-0.996-ko-0.9.2/tests/ngram/unk.def\n",
            "mecab-0.996-ko-0.9.2/tests/ngram/dicrc\n",
            "mecab-0.996-ko-0.9.2/tests/ngram/dic.csv\n",
            "mecab-0.996-ko-0.9.2/tests/ngram/test\n",
            "mecab-0.996-ko-0.9.2/tests/ngram/char.def\n",
            "mecab-0.996-ko-0.9.2/tests/ngram/matrix.def\n",
            "mecab-0.996-ko-0.9.2/tests/ngram/test.gld\n",
            "mecab-0.996-ko-0.9.2/tests/Makefile.in\n",
            "mecab-0.996-ko-0.9.2/ltmain.sh\n",
            "mecab-0.996-ko-0.9.2/config.rpath\n",
            "mecab-0.996-ko-0.9.2/config.h.in\n",
            "mecab-0.996-ko-0.9.2/mecabrc.in\n",
            "mecab-0.996-ko-0.9.2/GPL\n",
            "mecab-0.996-ko-0.9.2/Makefile.train\n",
            "mecab-0.996-ko-0.9.2/ChangeLog\n",
            "mecab-0.996-ko-0.9.2/install-sh\n",
            "mecab-0.996-ko-0.9.2/AUTHORS\n",
            "mecab-0.996-ko-0.9.2/doc/\n",
            "mecab-0.996-ko-0.9.2/doc/bindings.html\n",
            "mecab-0.996-ko-0.9.2/doc/posid.html\n",
            "mecab-0.996-ko-0.9.2/doc/unk.html\n",
            "mecab-0.996-ko-0.9.2/doc/learn.html\n",
            "mecab-0.996-ko-0.9.2/doc/format.html\n",
            "mecab-0.996-ko-0.9.2/doc/libmecab.html\n",
            "mecab-0.996-ko-0.9.2/doc/mecab.css\n",
            "mecab-0.996-ko-0.9.2/doc/feature.html\n",
            "mecab-0.996-ko-0.9.2/doc/Makefile.am\n",
            "mecab-0.996-ko-0.9.2/doc/soft.html\n",
            "mecab-0.996-ko-0.9.2/doc/en/\n",
            "mecab-0.996-ko-0.9.2/doc/en/bindings.html\n",
            "mecab-0.996-ko-0.9.2/doc/dic-detail.html\n",
            "mecab-0.996-ko-0.9.2/doc/flow.png\n",
            "mecab-0.996-ko-0.9.2/doc/mecab.html\n",
            "mecab-0.996-ko-0.9.2/doc/index.html\n",
            "mecab-0.996-ko-0.9.2/doc/result.png\n",
            "mecab-0.996-ko-0.9.2/doc/doxygen/\n",
            "mecab-0.996-ko-0.9.2/doc/doxygen/tab_a.png\n",
            "mecab-0.996-ko-0.9.2/doc/doxygen/globals_eval.html\n",
            "mecab-0.996-ko-0.9.2/doc/doxygen/classMeCab_1_1Tagger-members.html\n",
            "mecab-0.996-ko-0.9.2/doc/doxygen/functions_vars.html\n",
            "mecab-0.996-ko-0.9.2/doc/doxygen/doxygen.css\n",
            "mecab-0.996-ko-0.9.2/doc/doxygen/tab_r.gif\n",
            "mecab-0.996-ko-0.9.2/doc/doxygen/classMeCab_1_1Lattice.html\n",
            "mecab-0.996-ko-0.9.2/doc/doxygen/functions.html\n",
            "mecab-0.996-ko-0.9.2/doc/doxygen/classMeCab_1_1Tagger.html\n",
            "mecab-0.996-ko-0.9.2/doc/doxygen/mecab_8h_source.html\n",
            "mecab-0.996-ko-0.9.2/doc/doxygen/tabs.css\n",
            "mecab-0.996-ko-0.9.2/doc/doxygen/nav_f.png\n",
            "mecab-0.996-ko-0.9.2/doc/doxygen/tab_b.png\n",
            "mecab-0.996-ko-0.9.2/doc/doxygen/globals.html\n",
            "mecab-0.996-ko-0.9.2/doc/doxygen/nav_h.png\n",
            "mecab-0.996-ko-0.9.2/doc/doxygen/tab_h.png\n",
            "mecab-0.996-ko-0.9.2/doc/doxygen/classMeCab_1_1Model.html\n",
            "mecab-0.996-ko-0.9.2/doc/doxygen/globals_func.html\n",
            "mecab-0.996-ko-0.9.2/doc/doxygen/closed.png\n",
            "mecab-0.996-ko-0.9.2/doc/doxygen/tab_l.gif\n",
            "mecab-0.996-ko-0.9.2/doc/doxygen/structmecab__path__t-members.html\n",
            "mecab-0.996-ko-0.9.2/doc/doxygen/functions_func.html\n",
            "mecab-0.996-ko-0.9.2/doc/doxygen/globals_type.html\n",
            "mecab-0.996-ko-0.9.2/doc/doxygen/classMeCab_1_1Lattice-members.html\n",
            "mecab-0.996-ko-0.9.2/doc/doxygen/structmecab__node__t.html\n",
            "mecab-0.996-ko-0.9.2/doc/doxygen/namespacemembers_func.html\n",
            "mecab-0.996-ko-0.9.2/doc/doxygen/tab_s.png\n",
            "mecab-0.996-ko-0.9.2/doc/doxygen/structmecab__dictionary__info__t-members.html\n",
            "mecab-0.996-ko-0.9.2/doc/doxygen/namespacemembers_type.html\n",
            "mecab-0.996-ko-0.9.2/doc/doxygen/classMeCab_1_1Model-members.html\n",
            "mecab-0.996-ko-0.9.2/doc/doxygen/structmecab__dictionary__info__t.html\n",
            "mecab-0.996-ko-0.9.2/doc/doxygen/namespaces.html\n",
            "mecab-0.996-ko-0.9.2/doc/doxygen/namespacemembers.html\n",
            "mecab-0.996-ko-0.9.2/doc/doxygen/namespaceMeCab.html\n",
            "mecab-0.996-ko-0.9.2/doc/doxygen/structmecab__path__t.html\n",
            "mecab-0.996-ko-0.9.2/doc/doxygen/files.html\n",
            "mecab-0.996-ko-0.9.2/doc/doxygen/structmecab__node__t-members.html\n",
            "mecab-0.996-ko-0.9.2/doc/doxygen/index.html\n",
            "mecab-0.996-ko-0.9.2/doc/doxygen/annotated.html\n",
            "mecab-0.996-ko-0.9.2/doc/doxygen/globals_defs.html\n",
            "mecab-0.996-ko-0.9.2/doc/doxygen/classes.html\n",
            "mecab-0.996-ko-0.9.2/doc/doxygen/mecab_8h-source.html\n",
            "mecab-0.996-ko-0.9.2/doc/doxygen/doxygen.png\n",
            "mecab-0.996-ko-0.9.2/doc/doxygen/tab_b.gif\n",
            "mecab-0.996-ko-0.9.2/doc/doxygen/bc_s.png\n",
            "mecab-0.996-ko-0.9.2/doc/doxygen/open.png\n",
            "mecab-0.996-ko-0.9.2/doc/doxygen/mecab_8h.html\n",
            "mecab-0.996-ko-0.9.2/doc/dic.html\n",
            "mecab-0.996-ko-0.9.2/doc/partial.html\n",
            "mecab-0.996-ko-0.9.2/doc/feature.png\n",
            "mecab-0.996-ko-0.9.2/doc/Makefile.in\n",
            "mecab-0.996-ko-0.9.2/missing\n",
            "mecab-0.996-ko-0.9.2/BSD\n",
            "mecab-0.996-ko-0.9.2/NEWS\n",
            "mecab-0.996-ko-0.9.2/mkinstalldirs\n",
            "mecab-0.996-ko-0.9.2/src/\n",
            "mecab-0.996-ko-0.9.2/src/dictionary.h\n",
            "mecab-0.996-ko-0.9.2/src/writer.h\n",
            "mecab-0.996-ko-0.9.2/src/utils.h\n",
            "mecab-0.996-ko-0.9.2/src/string_buffer.cpp\n",
            "mecab-0.996-ko-0.9.2/src/tokenizer.cpp\n",
            "mecab-0.996-ko-0.9.2/src/make.bat\n",
            "mecab-0.996-ko-0.9.2/src/mecab.h\n",
            "mecab-0.996-ko-0.9.2/src/freelist.h\n",
            "mecab-0.996-ko-0.9.2/src/string_buffer.h\n",
            "mecab-0.996-ko-0.9.2/src/learner_tagger.h\n",
            "mecab-0.996-ko-0.9.2/src/dictionary_compiler.cpp\n",
            "mecab-0.996-ko-0.9.2/src/eval.cpp\n",
            "mecab-0.996-ko-0.9.2/src/mecab-system-eval.cpp\n",
            "mecab-0.996-ko-0.9.2/src/darts.h\n",
            "mecab-0.996-ko-0.9.2/src/param.h\n",
            "mecab-0.996-ko-0.9.2/src/char_property.h\n",
            "mecab-0.996-ko-0.9.2/src/learner_node.h\n",
            "mecab-0.996-ko-0.9.2/src/mecab-dict-gen.cpp\n",
            "mecab-0.996-ko-0.9.2/src/mecab-dict-index.cpp\n",
            "mecab-0.996-ko-0.9.2/src/winmain.h\n",
            "mecab-0.996-ko-0.9.2/src/thread.h\n",
            "mecab-0.996-ko-0.9.2/src/context_id.cpp\n",
            "mecab-0.996-ko-0.9.2/src/Makefile.am\n",
            "mecab-0.996-ko-0.9.2/src/connector.h\n",
            "mecab-0.996-ko-0.9.2/src/common.h\n",
            "mecab-0.996-ko-0.9.2/src/dictionary_rewriter.cpp\n",
            "mecab-0.996-ko-0.9.2/src/Makefile.msvc.in\n",
            "mecab-0.996-ko-0.9.2/src/dictionary_rewriter.h\n",
            "mecab-0.996-ko-0.9.2/src/feature_index.h\n",
            "mecab-0.996-ko-0.9.2/src/iconv_utils.cpp\n",
            "mecab-0.996-ko-0.9.2/src/char_property.cpp\n",
            "mecab-0.996-ko-0.9.2/src/mecab-test-gen.cpp\n",
            "mecab-0.996-ko-0.9.2/src/tagger.cpp\n",
            "mecab-0.996-ko-0.9.2/src/mecab-cost-train.cpp\n",
            "mecab-0.996-ko-0.9.2/src/learner.cpp\n",
            "mecab-0.996-ko-0.9.2/src/dictionary.cpp\n",
            "mecab-0.996-ko-0.9.2/src/lbfgs.cpp\n",
            "mecab-0.996-ko-0.9.2/src/ucs.h\n",
            "mecab-0.996-ko-0.9.2/src/writer.cpp\n",
            "mecab-0.996-ko-0.9.2/src/learner_tagger.cpp\n",
            "mecab-0.996-ko-0.9.2/src/lbfgs.h\n",
            "mecab-0.996-ko-0.9.2/src/libmecab.cpp\n",
            "mecab-0.996-ko-0.9.2/src/tokenizer.h\n",
            "mecab-0.996-ko-0.9.2/src/mecab.cpp\n",
            "mecab-0.996-ko-0.9.2/src/utils.cpp\n",
            "mecab-0.996-ko-0.9.2/src/dictionary_generator.cpp\n",
            "mecab-0.996-ko-0.9.2/src/param.cpp\n",
            "mecab-0.996-ko-0.9.2/src/context_id.h\n",
            "mecab-0.996-ko-0.9.2/src/mmap.h\n",
            "mecab-0.996-ko-0.9.2/src/viterbi.h\n",
            "mecab-0.996-ko-0.9.2/src/viterbi.cpp\n",
            "mecab-0.996-ko-0.9.2/src/stream_wrapper.h\n",
            "mecab-0.996-ko-0.9.2/src/feature_index.cpp\n",
            "mecab-0.996-ko-0.9.2/src/nbest_generator.h\n",
            "mecab-0.996-ko-0.9.2/src/ucstable.h\n",
            "mecab-0.996-ko-0.9.2/src/nbest_generator.cpp\n",
            "mecab-0.996-ko-0.9.2/src/iconv_utils.h\n",
            "mecab-0.996-ko-0.9.2/src/connector.cpp\n",
            "mecab-0.996-ko-0.9.2/src/Makefile.in\n",
            "mecab-0.996-ko-0.9.2/src/scoped_ptr.h\n",
            "mecab-0.996-ko-0.9.2/Makefile.in\n",
            "checking for a BSD-compatible install... /usr/bin/install -c\n",
            "checking whether build environment is sane... yes\n",
            "checking for a thread-safe mkdir -p... /bin/mkdir -p\n",
            "checking for gawk... no\n",
            "checking for mawk... mawk\n",
            "checking whether make sets $(MAKE)... yes\n",
            "checking for gcc... gcc\n",
            "checking whether the C compiler works... yes\n",
            "checking for C compiler default output file name... a.out\n",
            "checking for suffix of executables... \n",
            "checking whether we are cross compiling... no\n",
            "checking for suffix of object files... o\n",
            "checking whether we are using the GNU C compiler... yes\n",
            "checking whether gcc accepts -g... yes\n",
            "checking for gcc option to accept ISO C89... none needed\n",
            "checking for style of include used by make... GNU\n",
            "checking dependency style of gcc... none\n",
            "checking for g++... g++\n",
            "checking whether we are using the GNU C++ compiler... yes\n",
            "checking whether g++ accepts -g... yes\n",
            "checking dependency style of g++... none\n",
            "checking how to run the C preprocessor... gcc -E\n",
            "checking for grep that handles long lines and -e... /bin/grep\n",
            "checking for egrep... /bin/grep -E\n",
            "checking whether gcc needs -traditional... no\n",
            "checking whether make sets $(MAKE)... (cached) yes\n",
            "checking build system type... x86_64-unknown-linux-gnu\n",
            "checking host system type... x86_64-unknown-linux-gnu\n",
            "checking how to print strings... printf\n",
            "checking for a sed that does not truncate output... /bin/sed\n",
            "checking for fgrep... /bin/grep -F\n",
            "checking for ld used by gcc... /usr/bin/ld\n",
            "checking if the linker (/usr/bin/ld) is GNU ld... yes\n",
            "checking for BSD- or MS-compatible name lister (nm)... /usr/bin/nm -B\n",
            "checking the name lister (/usr/bin/nm -B) interface... BSD nm\n",
            "checking whether ln -s works... yes\n",
            "checking the maximum length of command line arguments... 1572864\n",
            "checking whether the shell understands some XSI constructs... yes\n",
            "checking whether the shell understands \"+=\"... yes\n",
            "checking how to convert x86_64-unknown-linux-gnu file names to x86_64-unknown-linux-gnu format... func_convert_file_noop\n",
            "checking how to convert x86_64-unknown-linux-gnu file names to toolchain format... func_convert_file_noop\n",
            "checking for /usr/bin/ld option to reload object files... -r\n",
            "checking for objdump... objdump\n",
            "checking how to recognize dependent libraries... pass_all\n",
            "checking for dlltool... dlltool\n",
            "checking how to associate runtime and link libraries... printf %s\\n\n",
            "checking for ar... ar\n",
            "checking for archiver @FILE support... @\n",
            "checking for strip... strip\n",
            "checking for ranlib... ranlib\n",
            "checking command to parse /usr/bin/nm -B output from gcc object... ok\n",
            "checking for sysroot... no\n",
            "./configure: line 7378: /usr/bin/file: No such file or directory\n",
            "checking for mt... no\n",
            "checking if : is a manifest tool... no\n",
            "checking for ANSI C header files... yes\n",
            "checking for sys/types.h... yes\n",
            "checking for sys/stat.h... yes\n",
            "checking for stdlib.h... yes\n",
            "checking for string.h... yes\n",
            "checking for memory.h... yes\n",
            "checking for strings.h... yes\n",
            "checking for inttypes.h... yes\n",
            "checking for stdint.h... yes\n",
            "checking for unistd.h... yes\n",
            "checking for dlfcn.h... yes\n",
            "checking for objdir... .libs\n",
            "checking if gcc supports -fno-rtti -fno-exceptions... no\n",
            "checking for gcc option to produce PIC... -fPIC -DPIC\n",
            "checking if gcc PIC flag -fPIC -DPIC works... yes\n",
            "checking if gcc static flag -static works... yes\n",
            "checking if gcc supports -c -o file.o... yes\n",
            "checking if gcc supports -c -o file.o... (cached) yes\n",
            "checking whether the gcc linker (/usr/bin/ld) supports shared libraries... yes\n",
            "checking whether -lc should be explicitly linked in... no\n",
            "checking dynamic linker characteristics... GNU/Linux ld.so\n",
            "checking how to hardcode library paths into programs... immediate\n",
            "checking whether stripping libraries is possible... yes\n",
            "checking if libtool supports shared libraries... yes\n",
            "checking whether to build shared libraries... yes\n",
            "checking whether to build static libraries... yes\n",
            "checking how to run the C++ preprocessor... g++ -E\n",
            "checking for ld used by g++... /usr/bin/ld\n",
            "checking if the linker (/usr/bin/ld) is GNU ld... yes\n",
            "checking whether the g++ linker (/usr/bin/ld) supports shared libraries... yes\n",
            "checking for g++ option to produce PIC... -fPIC -DPIC\n",
            "checking if g++ PIC flag -fPIC -DPIC works... yes\n",
            "checking if g++ static flag -static works... yes\n",
            "checking if g++ supports -c -o file.o... yes\n",
            "checking if g++ supports -c -o file.o... (cached) yes\n",
            "checking whether the g++ linker (/usr/bin/ld) supports shared libraries... yes\n",
            "checking dynamic linker characteristics... (cached) GNU/Linux ld.so\n",
            "checking how to hardcode library paths into programs... immediate\n",
            "checking for library containing strerror... none required\n",
            "checking whether byte ordering is bigendian... no\n",
            "checking for ld used by GCC... /usr/bin/ld\n",
            "checking if the linker (/usr/bin/ld) is GNU ld... yes\n",
            "checking for shared library run path origin... done\n",
            "checking for iconv... yes\n",
            "checking for working iconv... yes\n",
            "checking for iconv declaration... \n",
            "         extern size_t iconv (iconv_t cd, char * *inbuf, size_t *inbytesleft, char * *outbuf, size_t *outbytesleft);\n",
            "checking for ANSI C header files... (cached) yes\n",
            "checking for an ANSI C-conforming const... yes\n",
            "checking whether byte ordering is bigendian... (cached) no\n",
            "checking for string.h... (cached) yes\n",
            "checking for stdlib.h... (cached) yes\n",
            "checking for unistd.h... (cached) yes\n",
            "checking fcntl.h usability... yes\n",
            "checking fcntl.h presence... yes\n",
            "checking for fcntl.h... yes\n",
            "checking for stdint.h... (cached) yes\n",
            "checking for sys/stat.h... (cached) yes\n",
            "checking sys/mman.h usability... yes\n",
            "checking sys/mman.h presence... yes\n",
            "checking for sys/mman.h... yes\n",
            "checking sys/times.h usability... yes\n",
            "checking sys/times.h presence... yes\n",
            "checking for sys/times.h... yes\n",
            "checking for sys/types.h... (cached) yes\n",
            "checking dirent.h usability... yes\n",
            "checking dirent.h presence... yes\n",
            "checking for dirent.h... yes\n",
            "checking ctype.h usability... yes\n",
            "checking ctype.h presence... yes\n",
            "checking for ctype.h... yes\n",
            "checking for sys/types.h... (cached) yes\n",
            "checking io.h usability... no\n",
            "checking io.h presence... no\n",
            "checking for io.h... no\n",
            "checking windows.h usability... no\n",
            "checking windows.h presence... no\n",
            "checking for windows.h... no\n",
            "checking pthread.h usability... yes\n",
            "checking pthread.h presence... yes\n",
            "checking for pthread.h... yes\n",
            "checking for off_t... yes\n",
            "checking for size_t... yes\n",
            "checking size of char... 1\n",
            "checking size of short... 2\n",
            "checking size of int... 4\n",
            "checking size of long... 8\n",
            "checking size of long long... 8\n",
            "checking size of size_t... 8\n",
            "checking for size_t... (cached) yes\n",
            "checking for unsigned long long int... yes\n",
            "checking for stdlib.h... (cached) yes\n",
            "checking for unistd.h... (cached) yes\n",
            "checking for sys/param.h... yes\n",
            "checking for getpagesize... yes\n",
            "checking for working mmap... yes\n",
            "checking for main in -lstdc++... yes\n",
            "checking for pthread_create in -lpthread... yes\n",
            "checking for pthread_join in -lpthread... yes\n",
            "checking for getenv... yes\n",
            "checking for opendir... yes\n",
            "checking whether make is GNU Make... yes\n",
            "checking if g++ supports stl <vector> (required)... yes\n",
            "checking if g++ supports stl <list> (required)... yes\n",
            "checking if g++ supports stl <map> (required)... yes\n",
            "checking if g++ supports stl <set> (required)... yes\n",
            "checking if g++ supports stl <queue> (required)... yes\n",
            "checking if g++ supports stl <functional> (required)... yes\n",
            "checking if g++ supports stl <algorithm> (required)... yes\n",
            "checking if g++ supports stl <string> (required)... yes\n",
            "checking if g++ supports stl <iostream> (required)... yes\n",
            "checking if g++ supports stl <sstream> (required)... yes\n",
            "checking if g++ supports stl <fstream> (required)... yes\n",
            "checking if g++ supports template <class T> (required)... yes\n",
            "checking if g++ supports const_cast<> (required)... yes\n",
            "checking if g++ supports static_cast<> (required)... yes\n",
            "checking if g++ supports reinterpret_cast<> (required)... yes\n",
            "checking if g++ supports namespaces (required) ... yes\n",
            "checking if g++ supports __thread (optional)... yes\n",
            "checking if g++ supports template <class T> (required)... yes\n",
            "checking if g++ supports GCC native atomic operations (optional)... yes\n",
            "checking if g++ supports OSX native atomic operations (optional)... no\n",
            "checking if g++ environment provides all required features... yes\n",
            "configure: creating ./config.status\n",
            "config.status: creating Makefile\n",
            "config.status: creating src/Makefile\n",
            "config.status: creating src/Makefile.msvc\n",
            "config.status: creating man/Makefile\n",
            "config.status: creating doc/Makefile\n",
            "config.status: creating tests/Makefile\n",
            "config.status: creating swig/version.h\n",
            "config.status: creating mecab.iss\n",
            "config.status: creating mecab-config\n",
            "config.status: creating mecabrc\n",
            "config.status: creating config.h\n",
            "config.status: executing depfiles commands\n",
            "config.status: executing libtool commands\n",
            "config.status: executing default commands\n",
            "make  all-recursive\n",
            "make[1]: Entering directory '/tmp/mecab-0.996-ko-0.9.2'\n",
            "Making all in src\n",
            "make[2]: Entering directory '/tmp/mecab-0.996-ko-0.9.2/src'\n",
            "/bin/bash ../libtool --tag=CXX   --mode=compile g++ -DHAVE_CONFIG_H -I. -I.. -DDIC_VERSION=102   -DMECAB_DEFAULT_RC=\"\\\"/usr/local/etc/mecabrc\\\"\"    -O3 -Wall  -c -o viterbi.lo viterbi.cpp\n",
            "libtool: compile:  g++ -DHAVE_CONFIG_H -I. -I.. -DDIC_VERSION=102 -DMECAB_DEFAULT_RC=\\\"/usr/local/etc/mecabrc\\\" -O3 -Wall -c viterbi.cpp  -fPIC -DPIC -o .libs/viterbi.o\n",
            "In file included from \u001b[01m\u001b[Kviterbi.cpp:14:0\u001b[m\u001b[K:\n",
            "\u001b[01m\u001b[Kparam.h:30:13:\u001b[m\u001b[K \u001b[01;35m\u001b[Kwarning: \u001b[m\u001b[K'\u001b[01m\u001b[KTarget {anonymous}::lexical_cast(Source) [with Target = std::__cxx11::basic_string<char>; Source = std::__cxx11::basic_string<char>]\u001b[m\u001b[K' defined but not used [\u001b[01;35m\u001b[K-Wunused-function\u001b[m\u001b[K]\n",
            " std::string \u001b[01;35m\u001b[Klexical_cast<std::string, std::string>\u001b[m\u001b[K(std::string arg) {\n",
            "             \u001b[01;35m\u001b[K^~~~~~~~~~~~~~~~~~~~~~~~~~~~~~~~~~~~~~\u001b[m\u001b[K\n",
            "libtool: compile:  g++ -DHAVE_CONFIG_H -I. -I.. -DDIC_VERSION=102 -DMECAB_DEFAULT_RC=\\\"/usr/local/etc/mecabrc\\\" -O3 -Wall -c viterbi.cpp -o viterbi.o >/dev/null 2>&1\n",
            "/bin/bash ../libtool --tag=CXX   --mode=compile g++ -DHAVE_CONFIG_H -I. -I.. -DDIC_VERSION=102   -DMECAB_DEFAULT_RC=\"\\\"/usr/local/etc/mecabrc\\\"\"    -O3 -Wall  -c -o tagger.lo tagger.cpp\n",
            "libtool: compile:  g++ -DHAVE_CONFIG_H -I. -I.. -DDIC_VERSION=102 -DMECAB_DEFAULT_RC=\\\"/usr/local/etc/mecabrc\\\" -O3 -Wall -c tagger.cpp  -fPIC -DPIC -o .libs/tagger.o\n",
            "libtool: compile:  g++ -DHAVE_CONFIG_H -I. -I.. -DDIC_VERSION=102 -DMECAB_DEFAULT_RC=\\\"/usr/local/etc/mecabrc\\\" -O3 -Wall -c tagger.cpp -o tagger.o >/dev/null 2>&1\n",
            "/bin/bash ../libtool --tag=CXX   --mode=compile g++ -DHAVE_CONFIG_H -I. -I.. -DDIC_VERSION=102   -DMECAB_DEFAULT_RC=\"\\\"/usr/local/etc/mecabrc\\\"\"    -O3 -Wall  -c -o utils.lo utils.cpp\n",
            "libtool: compile:  g++ -DHAVE_CONFIG_H -I. -I.. -DDIC_VERSION=102 -DMECAB_DEFAULT_RC=\\\"/usr/local/etc/mecabrc\\\" -O3 -Wall -c utils.cpp  -fPIC -DPIC -o .libs/utils.o\n",
            "libtool: compile:  g++ -DHAVE_CONFIG_H -I. -I.. -DDIC_VERSION=102 -DMECAB_DEFAULT_RC=\\\"/usr/local/etc/mecabrc\\\" -O3 -Wall -c utils.cpp -o utils.o >/dev/null 2>&1\n",
            "/bin/bash ../libtool --tag=CXX   --mode=compile g++ -DHAVE_CONFIG_H -I. -I.. -DDIC_VERSION=102   -DMECAB_DEFAULT_RC=\"\\\"/usr/local/etc/mecabrc\\\"\"    -O3 -Wall  -c -o eval.lo eval.cpp\n",
            "libtool: compile:  g++ -DHAVE_CONFIG_H -I. -I.. -DDIC_VERSION=102 -DMECAB_DEFAULT_RC=\\\"/usr/local/etc/mecabrc\\\" -O3 -Wall -c eval.cpp  -fPIC -DPIC -o .libs/eval.o\n",
            "libtool: compile:  g++ -DHAVE_CONFIG_H -I. -I.. -DDIC_VERSION=102 -DMECAB_DEFAULT_RC=\\\"/usr/local/etc/mecabrc\\\" -O3 -Wall -c eval.cpp -o eval.o >/dev/null 2>&1\n",
            "/bin/bash ../libtool --tag=CXX   --mode=compile g++ -DHAVE_CONFIG_H -I. -I.. -DDIC_VERSION=102   -DMECAB_DEFAULT_RC=\"\\\"/usr/local/etc/mecabrc\\\"\"    -O3 -Wall  -c -o iconv_utils.lo iconv_utils.cpp\n",
            "libtool: compile:  g++ -DHAVE_CONFIG_H -I. -I.. -DDIC_VERSION=102 -DMECAB_DEFAULT_RC=\\\"/usr/local/etc/mecabrc\\\" -O3 -Wall -c iconv_utils.cpp  -fPIC -DPIC -o .libs/iconv_utils.o\n",
            "libtool: compile:  g++ -DHAVE_CONFIG_H -I. -I.. -DDIC_VERSION=102 -DMECAB_DEFAULT_RC=\\\"/usr/local/etc/mecabrc\\\" -O3 -Wall -c iconv_utils.cpp -o iconv_utils.o >/dev/null 2>&1\n",
            "/bin/bash ../libtool --tag=CXX   --mode=compile g++ -DHAVE_CONFIG_H -I. -I.. -DDIC_VERSION=102   -DMECAB_DEFAULT_RC=\"\\\"/usr/local/etc/mecabrc\\\"\"    -O3 -Wall  -c -o dictionary_rewriter.lo dictionary_rewriter.cpp\n",
            "libtool: compile:  g++ -DHAVE_CONFIG_H -I. -I.. -DDIC_VERSION=102 -DMECAB_DEFAULT_RC=\\\"/usr/local/etc/mecabrc\\\" -O3 -Wall -c dictionary_rewriter.cpp  -fPIC -DPIC -o .libs/dictionary_rewriter.o\n",
            "libtool: compile:  g++ -DHAVE_CONFIG_H -I. -I.. -DDIC_VERSION=102 -DMECAB_DEFAULT_RC=\\\"/usr/local/etc/mecabrc\\\" -O3 -Wall -c dictionary_rewriter.cpp -o dictionary_rewriter.o >/dev/null 2>&1\n",
            "/bin/bash ../libtool --tag=CXX   --mode=compile g++ -DHAVE_CONFIG_H -I. -I.. -DDIC_VERSION=102   -DMECAB_DEFAULT_RC=\"\\\"/usr/local/etc/mecabrc\\\"\"    -O3 -Wall  -c -o dictionary_generator.lo dictionary_generator.cpp\n",
            "libtool: compile:  g++ -DHAVE_CONFIG_H -I. -I.. -DDIC_VERSION=102 -DMECAB_DEFAULT_RC=\\\"/usr/local/etc/mecabrc\\\" -O3 -Wall -c dictionary_generator.cpp  -fPIC -DPIC -o .libs/dictionary_generator.o\n",
            "libtool: compile:  g++ -DHAVE_CONFIG_H -I. -I.. -DDIC_VERSION=102 -DMECAB_DEFAULT_RC=\\\"/usr/local/etc/mecabrc\\\" -O3 -Wall -c dictionary_generator.cpp -o dictionary_generator.o >/dev/null 2>&1\n",
            "/bin/bash ../libtool --tag=CXX   --mode=compile g++ -DHAVE_CONFIG_H -I. -I.. -DDIC_VERSION=102   -DMECAB_DEFAULT_RC=\"\\\"/usr/local/etc/mecabrc\\\"\"    -O3 -Wall  -c -o dictionary_compiler.lo dictionary_compiler.cpp\n",
            "libtool: compile:  g++ -DHAVE_CONFIG_H -I. -I.. -DDIC_VERSION=102 -DMECAB_DEFAULT_RC=\\\"/usr/local/etc/mecabrc\\\" -O3 -Wall -c dictionary_compiler.cpp  -fPIC -DPIC -o .libs/dictionary_compiler.o\n",
            "libtool: compile:  g++ -DHAVE_CONFIG_H -I. -I.. -DDIC_VERSION=102 -DMECAB_DEFAULT_RC=\\\"/usr/local/etc/mecabrc\\\" -O3 -Wall -c dictionary_compiler.cpp -o dictionary_compiler.o >/dev/null 2>&1\n",
            "/bin/bash ../libtool --tag=CXX   --mode=compile g++ -DHAVE_CONFIG_H -I. -I.. -DDIC_VERSION=102   -DMECAB_DEFAULT_RC=\"\\\"/usr/local/etc/mecabrc\\\"\"    -O3 -Wall  -c -o context_id.lo context_id.cpp\n",
            "libtool: compile:  g++ -DHAVE_CONFIG_H -I. -I.. -DDIC_VERSION=102 -DMECAB_DEFAULT_RC=\\\"/usr/local/etc/mecabrc\\\" -O3 -Wall -c context_id.cpp  -fPIC -DPIC -o .libs/context_id.o\n",
            "libtool: compile:  g++ -DHAVE_CONFIG_H -I. -I.. -DDIC_VERSION=102 -DMECAB_DEFAULT_RC=\\\"/usr/local/etc/mecabrc\\\" -O3 -Wall -c context_id.cpp -o context_id.o >/dev/null 2>&1\n",
            "/bin/bash ../libtool --tag=CXX   --mode=compile g++ -DHAVE_CONFIG_H -I. -I.. -DDIC_VERSION=102   -DMECAB_DEFAULT_RC=\"\\\"/usr/local/etc/mecabrc\\\"\"    -O3 -Wall  -c -o connector.lo connector.cpp\n",
            "libtool: compile:  g++ -DHAVE_CONFIG_H -I. -I.. -DDIC_VERSION=102 -DMECAB_DEFAULT_RC=\\\"/usr/local/etc/mecabrc\\\" -O3 -Wall -c connector.cpp  -fPIC -DPIC -o .libs/connector.o\n",
            "libtool: compile:  g++ -DHAVE_CONFIG_H -I. -I.. -DDIC_VERSION=102 -DMECAB_DEFAULT_RC=\\\"/usr/local/etc/mecabrc\\\" -O3 -Wall -c connector.cpp -o connector.o >/dev/null 2>&1\n",
            "/bin/bash ../libtool --tag=CXX   --mode=compile g++ -DHAVE_CONFIG_H -I. -I.. -DDIC_VERSION=102   -DMECAB_DEFAULT_RC=\"\\\"/usr/local/etc/mecabrc\\\"\"    -O3 -Wall  -c -o nbest_generator.lo nbest_generator.cpp\n",
            "libtool: compile:  g++ -DHAVE_CONFIG_H -I. -I.. -DDIC_VERSION=102 -DMECAB_DEFAULT_RC=\\\"/usr/local/etc/mecabrc\\\" -O3 -Wall -c nbest_generator.cpp  -fPIC -DPIC -o .libs/nbest_generator.o\n",
            "libtool: compile:  g++ -DHAVE_CONFIG_H -I. -I.. -DDIC_VERSION=102 -DMECAB_DEFAULT_RC=\\\"/usr/local/etc/mecabrc\\\" -O3 -Wall -c nbest_generator.cpp -o nbest_generator.o >/dev/null 2>&1\n",
            "/bin/bash ../libtool --tag=CXX   --mode=compile g++ -DHAVE_CONFIG_H -I. -I.. -DDIC_VERSION=102   -DMECAB_DEFAULT_RC=\"\\\"/usr/local/etc/mecabrc\\\"\"    -O3 -Wall  -c -o writer.lo writer.cpp\n",
            "libtool: compile:  g++ -DHAVE_CONFIG_H -I. -I.. -DDIC_VERSION=102 -DMECAB_DEFAULT_RC=\\\"/usr/local/etc/mecabrc\\\" -O3 -Wall -c writer.cpp  -fPIC -DPIC -o .libs/writer.o\n",
            "libtool: compile:  g++ -DHAVE_CONFIG_H -I. -I.. -DDIC_VERSION=102 -DMECAB_DEFAULT_RC=\\\"/usr/local/etc/mecabrc\\\" -O3 -Wall -c writer.cpp -o writer.o >/dev/null 2>&1\n",
            "/bin/bash ../libtool --tag=CXX   --mode=compile g++ -DHAVE_CONFIG_H -I. -I.. -DDIC_VERSION=102   -DMECAB_DEFAULT_RC=\"\\\"/usr/local/etc/mecabrc\\\"\"    -O3 -Wall  -c -o string_buffer.lo string_buffer.cpp\n",
            "libtool: compile:  g++ -DHAVE_CONFIG_H -I. -I.. -DDIC_VERSION=102 -DMECAB_DEFAULT_RC=\\\"/usr/local/etc/mecabrc\\\" -O3 -Wall -c string_buffer.cpp  -fPIC -DPIC -o .libs/string_buffer.o\n",
            "libtool: compile:  g++ -DHAVE_CONFIG_H -I. -I.. -DDIC_VERSION=102 -DMECAB_DEFAULT_RC=\\\"/usr/local/etc/mecabrc\\\" -O3 -Wall -c string_buffer.cpp -o string_buffer.o >/dev/null 2>&1\n",
            "/bin/bash ../libtool --tag=CXX   --mode=compile g++ -DHAVE_CONFIG_H -I. -I.. -DDIC_VERSION=102   -DMECAB_DEFAULT_RC=\"\\\"/usr/local/etc/mecabrc\\\"\"    -O3 -Wall  -c -o param.lo param.cpp\n",
            "libtool: compile:  g++ -DHAVE_CONFIG_H -I. -I.. -DDIC_VERSION=102 -DMECAB_DEFAULT_RC=\\\"/usr/local/etc/mecabrc\\\" -O3 -Wall -c param.cpp  -fPIC -DPIC -o .libs/param.o\n",
            "libtool: compile:  g++ -DHAVE_CONFIG_H -I. -I.. -DDIC_VERSION=102 -DMECAB_DEFAULT_RC=\\\"/usr/local/etc/mecabrc\\\" -O3 -Wall -c param.cpp -o param.o >/dev/null 2>&1\n",
            "/bin/bash ../libtool --tag=CXX   --mode=compile g++ -DHAVE_CONFIG_H -I. -I.. -DDIC_VERSION=102   -DMECAB_DEFAULT_RC=\"\\\"/usr/local/etc/mecabrc\\\"\"    -O3 -Wall  -c -o tokenizer.lo tokenizer.cpp\n",
            "libtool: compile:  g++ -DHAVE_CONFIG_H -I. -I.. -DDIC_VERSION=102 -DMECAB_DEFAULT_RC=\\\"/usr/local/etc/mecabrc\\\" -O3 -Wall -c tokenizer.cpp  -fPIC -DPIC -o .libs/tokenizer.o\n",
            "libtool: compile:  g++ -DHAVE_CONFIG_H -I. -I.. -DDIC_VERSION=102 -DMECAB_DEFAULT_RC=\\\"/usr/local/etc/mecabrc\\\" -O3 -Wall -c tokenizer.cpp -o tokenizer.o >/dev/null 2>&1\n",
            "/bin/bash ../libtool --tag=CXX   --mode=compile g++ -DHAVE_CONFIG_H -I. -I.. -DDIC_VERSION=102   -DMECAB_DEFAULT_RC=\"\\\"/usr/local/etc/mecabrc\\\"\"    -O3 -Wall  -c -o char_property.lo char_property.cpp\n",
            "libtool: compile:  g++ -DHAVE_CONFIG_H -I. -I.. -DDIC_VERSION=102 -DMECAB_DEFAULT_RC=\\\"/usr/local/etc/mecabrc\\\" -O3 -Wall -c char_property.cpp  -fPIC -DPIC -o .libs/char_property.o\n",
            "libtool: compile:  g++ -DHAVE_CONFIG_H -I. -I.. -DDIC_VERSION=102 -DMECAB_DEFAULT_RC=\\\"/usr/local/etc/mecabrc\\\" -O3 -Wall -c char_property.cpp -o char_property.o >/dev/null 2>&1\n",
            "/bin/bash ../libtool --tag=CXX   --mode=compile g++ -DHAVE_CONFIG_H -I. -I.. -DDIC_VERSION=102   -DMECAB_DEFAULT_RC=\"\\\"/usr/local/etc/mecabrc\\\"\"    -O3 -Wall  -c -o dictionary.lo dictionary.cpp\n",
            "libtool: compile:  g++ -DHAVE_CONFIG_H -I. -I.. -DDIC_VERSION=102 -DMECAB_DEFAULT_RC=\\\"/usr/local/etc/mecabrc\\\" -O3 -Wall -c dictionary.cpp  -fPIC -DPIC -o .libs/dictionary.o\n",
            "libtool: compile:  g++ -DHAVE_CONFIG_H -I. -I.. -DDIC_VERSION=102 -DMECAB_DEFAULT_RC=\\\"/usr/local/etc/mecabrc\\\" -O3 -Wall -c dictionary.cpp -o dictionary.o >/dev/null 2>&1\n",
            "/bin/bash ../libtool --tag=CXX   --mode=compile g++ -DHAVE_CONFIG_H -I. -I.. -DDIC_VERSION=102   -DMECAB_DEFAULT_RC=\"\\\"/usr/local/etc/mecabrc\\\"\"    -O3 -Wall  -c -o feature_index.lo feature_index.cpp\n",
            "libtool: compile:  g++ -DHAVE_CONFIG_H -I. -I.. -DDIC_VERSION=102 -DMECAB_DEFAULT_RC=\\\"/usr/local/etc/mecabrc\\\" -O3 -Wall -c feature_index.cpp  -fPIC -DPIC -o .libs/feature_index.o\n",
            "libtool: compile:  g++ -DHAVE_CONFIG_H -I. -I.. -DDIC_VERSION=102 -DMECAB_DEFAULT_RC=\\\"/usr/local/etc/mecabrc\\\" -O3 -Wall -c feature_index.cpp -o feature_index.o >/dev/null 2>&1\n",
            "/bin/bash ../libtool --tag=CXX   --mode=compile g++ -DHAVE_CONFIG_H -I. -I.. -DDIC_VERSION=102   -DMECAB_DEFAULT_RC=\"\\\"/usr/local/etc/mecabrc\\\"\"    -O3 -Wall  -c -o lbfgs.lo lbfgs.cpp\n",
            "libtool: compile:  g++ -DHAVE_CONFIG_H -I. -I.. -DDIC_VERSION=102 -DMECAB_DEFAULT_RC=\\\"/usr/local/etc/mecabrc\\\" -O3 -Wall -c lbfgs.cpp  -fPIC -DPIC -o .libs/lbfgs.o\n",
            "libtool: compile:  g++ -DHAVE_CONFIG_H -I. -I.. -DDIC_VERSION=102 -DMECAB_DEFAULT_RC=\\\"/usr/local/etc/mecabrc\\\" -O3 -Wall -c lbfgs.cpp -o lbfgs.o >/dev/null 2>&1\n",
            "/bin/bash ../libtool --tag=CXX   --mode=compile g++ -DHAVE_CONFIG_H -I. -I.. -DDIC_VERSION=102   -DMECAB_DEFAULT_RC=\"\\\"/usr/local/etc/mecabrc\\\"\"    -O3 -Wall  -c -o learner_tagger.lo learner_tagger.cpp\n",
            "libtool: compile:  g++ -DHAVE_CONFIG_H -I. -I.. -DDIC_VERSION=102 -DMECAB_DEFAULT_RC=\\\"/usr/local/etc/mecabrc\\\" -O3 -Wall -c learner_tagger.cpp  -fPIC -DPIC -o .libs/learner_tagger.o\n",
            "\u001b[01m\u001b[Klearner_tagger.cpp:25:7:\u001b[m\u001b[K \u001b[01;35m\u001b[Kwarning: \u001b[m\u001b[K'\u001b[01m\u001b[Kchar* MeCab::{anonymous}::mystrdup(const string&)\u001b[m\u001b[K' defined but not used [\u001b[01;35m\u001b[K-Wunused-function\u001b[m\u001b[K]\n",
            " char *\u001b[01;35m\u001b[Kmystrdup\u001b[m\u001b[K(const std::string &str) {\n",
            "       \u001b[01;35m\u001b[K^~~~~~~~\u001b[m\u001b[K\n",
            "libtool: compile:  g++ -DHAVE_CONFIG_H -I. -I.. -DDIC_VERSION=102 -DMECAB_DEFAULT_RC=\\\"/usr/local/etc/mecabrc\\\" -O3 -Wall -c learner_tagger.cpp -o learner_tagger.o >/dev/null 2>&1\n",
            "/bin/bash ../libtool --tag=CXX   --mode=compile g++ -DHAVE_CONFIG_H -I. -I.. -DDIC_VERSION=102   -DMECAB_DEFAULT_RC=\"\\\"/usr/local/etc/mecabrc\\\"\"    -O3 -Wall  -c -o learner.lo learner.cpp\n",
            "libtool: compile:  g++ -DHAVE_CONFIG_H -I. -I.. -DDIC_VERSION=102 -DMECAB_DEFAULT_RC=\\\"/usr/local/etc/mecabrc\\\" -O3 -Wall -c learner.cpp  -fPIC -DPIC -o .libs/learner.o\n",
            "libtool: compile:  g++ -DHAVE_CONFIG_H -I. -I.. -DDIC_VERSION=102 -DMECAB_DEFAULT_RC=\\\"/usr/local/etc/mecabrc\\\" -O3 -Wall -c learner.cpp -o learner.o >/dev/null 2>&1\n",
            "/bin/bash ../libtool --tag=CXX   --mode=compile g++ -DHAVE_CONFIG_H -I. -I.. -DDIC_VERSION=102   -DMECAB_DEFAULT_RC=\"\\\"/usr/local/etc/mecabrc\\\"\"    -O3 -Wall  -c -o libmecab.lo libmecab.cpp\n",
            "libtool: compile:  g++ -DHAVE_CONFIG_H -I. -I.. -DDIC_VERSION=102 -DMECAB_DEFAULT_RC=\\\"/usr/local/etc/mecabrc\\\" -O3 -Wall -c libmecab.cpp  -fPIC -DPIC -o .libs/libmecab.o\n",
            "libtool: compile:  g++ -DHAVE_CONFIG_H -I. -I.. -DDIC_VERSION=102 -DMECAB_DEFAULT_RC=\\\"/usr/local/etc/mecabrc\\\" -O3 -Wall -c libmecab.cpp -o libmecab.o >/dev/null 2>&1\n",
            "/bin/bash ../libtool --tag=CXX   --mode=link g++  -O3 -Wall  -no-undefined -version-info 2:0:0  -o libmecab.la -rpath /usr/local/lib viterbi.lo tagger.lo utils.lo eval.lo iconv_utils.lo dictionary_rewriter.lo dictionary_generator.lo dictionary_compiler.lo context_id.lo connector.lo nbest_generator.lo writer.lo string_buffer.lo param.lo tokenizer.lo char_property.lo dictionary.lo feature_index.lo lbfgs.lo learner_tagger.lo learner.lo libmecab.lo  -lpthread -lpthread  -lstdc++ \n",
            "libtool: link: g++  -fPIC -DPIC -shared -nostdlib /usr/lib/gcc/x86_64-linux-gnu/7/../../../x86_64-linux-gnu/crti.o /usr/lib/gcc/x86_64-linux-gnu/7/crtbeginS.o  .libs/viterbi.o .libs/tagger.o .libs/utils.o .libs/eval.o .libs/iconv_utils.o .libs/dictionary_rewriter.o .libs/dictionary_generator.o .libs/dictionary_compiler.o .libs/context_id.o .libs/connector.o .libs/nbest_generator.o .libs/writer.o .libs/string_buffer.o .libs/param.o .libs/tokenizer.o .libs/char_property.o .libs/dictionary.o .libs/feature_index.o .libs/lbfgs.o .libs/learner_tagger.o .libs/learner.o .libs/libmecab.o   -lpthread -L/usr/lib/gcc/x86_64-linux-gnu/7 -L/usr/lib/gcc/x86_64-linux-gnu/7/../../../x86_64-linux-gnu -L/usr/lib/gcc/x86_64-linux-gnu/7/../../../../lib -L/lib/x86_64-linux-gnu -L/lib/../lib -L/usr/lib/x86_64-linux-gnu -L/usr/lib/../lib -L/usr/local/cuda/lib64/stubs -L/usr/lib/gcc/x86_64-linux-gnu/7/../../.. -lstdc++ -lm -lc -lgcc_s /usr/lib/gcc/x86_64-linux-gnu/7/crtendS.o /usr/lib/gcc/x86_64-linux-gnu/7/../../../x86_64-linux-gnu/crtn.o  -O3   -Wl,-soname -Wl,libmecab.so.2 -o .libs/libmecab.so.2.0.0\n",
            "libtool: link: (cd \".libs\" && rm -f \"libmecab.so.2\" && ln -s \"libmecab.so.2.0.0\" \"libmecab.so.2\")\n",
            "libtool: link: (cd \".libs\" && rm -f \"libmecab.so\" && ln -s \"libmecab.so.2.0.0\" \"libmecab.so\")\n",
            "libtool: link: ar cru .libs/libmecab.a  viterbi.o tagger.o utils.o eval.o iconv_utils.o dictionary_rewriter.o dictionary_generator.o dictionary_compiler.o context_id.o connector.o nbest_generator.o writer.o string_buffer.o param.o tokenizer.o char_property.o dictionary.o feature_index.o lbfgs.o learner_tagger.o learner.o libmecab.o\n",
            "ar: `u' modifier ignored since `D' is the default (see `U')\n",
            "libtool: link: ranlib .libs/libmecab.a\n",
            "libtool: link: ( cd \".libs\" && rm -f \"libmecab.la\" && ln -s \"../libmecab.la\" \"libmecab.la\" )\n",
            "g++ -DHAVE_CONFIG_H -I. -I.. -DDIC_VERSION=102   -DMECAB_DEFAULT_RC=\"\\\"/usr/local/etc/mecabrc\\\"\"    -O3 -Wall  -c -o mecab.o mecab.cpp\n",
            "/bin/bash ../libtool --tag=CXX   --mode=link g++  -O3 -Wall    -o mecab mecab.o libmecab.la -lpthread -lpthread  -lstdc++ \n",
            "libtool: link: g++ -O3 -Wall -o .libs/mecab mecab.o  ./.libs/libmecab.so -lpthread -lstdc++\n",
            "g++ -DHAVE_CONFIG_H -I. -I.. -DDIC_VERSION=102   -DMECAB_DEFAULT_RC=\"\\\"/usr/local/etc/mecabrc\\\"\"    -O3 -Wall  -c -o mecab-dict-index.o mecab-dict-index.cpp\n",
            "/bin/bash ../libtool --tag=CXX   --mode=link g++  -O3 -Wall    -o mecab-dict-index mecab-dict-index.o libmecab.la -lpthread -lpthread  -lstdc++ \n",
            "libtool: link: g++ -O3 -Wall -o .libs/mecab-dict-index mecab-dict-index.o  ./.libs/libmecab.so -lpthread -lstdc++\n",
            "g++ -DHAVE_CONFIG_H -I. -I.. -DDIC_VERSION=102   -DMECAB_DEFAULT_RC=\"\\\"/usr/local/etc/mecabrc\\\"\"    -O3 -Wall  -c -o mecab-dict-gen.o mecab-dict-gen.cpp\n",
            "/bin/bash ../libtool --tag=CXX   --mode=link g++  -O3 -Wall    -o mecab-dict-gen mecab-dict-gen.o libmecab.la -lpthread -lpthread  -lstdc++ \n",
            "libtool: link: g++ -O3 -Wall -o .libs/mecab-dict-gen mecab-dict-gen.o  ./.libs/libmecab.so -lpthread -lstdc++\n",
            "g++ -DHAVE_CONFIG_H -I. -I.. -DDIC_VERSION=102   -DMECAB_DEFAULT_RC=\"\\\"/usr/local/etc/mecabrc\\\"\"    -O3 -Wall  -c -o mecab-cost-train.o mecab-cost-train.cpp\n",
            "/bin/bash ../libtool --tag=CXX   --mode=link g++  -O3 -Wall    -o mecab-cost-train mecab-cost-train.o libmecab.la -lpthread -lpthread  -lstdc++ \n",
            "libtool: link: g++ -O3 -Wall -o .libs/mecab-cost-train mecab-cost-train.o  ./.libs/libmecab.so -lpthread -lstdc++\n",
            "g++ -DHAVE_CONFIG_H -I. -I.. -DDIC_VERSION=102   -DMECAB_DEFAULT_RC=\"\\\"/usr/local/etc/mecabrc\\\"\"    -O3 -Wall  -c -o mecab-system-eval.o mecab-system-eval.cpp\n",
            "/bin/bash ../libtool --tag=CXX   --mode=link g++  -O3 -Wall    -o mecab-system-eval mecab-system-eval.o libmecab.la -lpthread -lpthread  -lstdc++ \n",
            "libtool: link: g++ -O3 -Wall -o .libs/mecab-system-eval mecab-system-eval.o  ./.libs/libmecab.so -lpthread -lstdc++\n",
            "g++ -DHAVE_CONFIG_H -I. -I.. -DDIC_VERSION=102   -DMECAB_DEFAULT_RC=\"\\\"/usr/local/etc/mecabrc\\\"\"    -O3 -Wall  -c -o mecab-test-gen.o mecab-test-gen.cpp\n",
            "/bin/bash ../libtool --tag=CXX   --mode=link g++  -O3 -Wall    -o mecab-test-gen mecab-test-gen.o libmecab.la -lpthread -lpthread  -lstdc++ \n",
            "libtool: link: g++ -O3 -Wall -o .libs/mecab-test-gen mecab-test-gen.o  ./.libs/libmecab.so -lpthread -lstdc++\n",
            "make[2]: Leaving directory '/tmp/mecab-0.996-ko-0.9.2/src'\n",
            "Making all in man\n",
            "make[2]: Entering directory '/tmp/mecab-0.996-ko-0.9.2/man'\n",
            "make[2]: Nothing to be done for 'all'.\n",
            "make[2]: Leaving directory '/tmp/mecab-0.996-ko-0.9.2/man'\n",
            "Making all in doc\n",
            "make[2]: Entering directory '/tmp/mecab-0.996-ko-0.9.2/doc'\n",
            "make[2]: Nothing to be done for 'all'.\n",
            "make[2]: Leaving directory '/tmp/mecab-0.996-ko-0.9.2/doc'\n",
            "Making all in tests\n",
            "make[2]: Entering directory '/tmp/mecab-0.996-ko-0.9.2/tests'\n",
            "make[2]: Nothing to be done for 'all'.\n",
            "make[2]: Leaving directory '/tmp/mecab-0.996-ko-0.9.2/tests'\n",
            "make[2]: Entering directory '/tmp/mecab-0.996-ko-0.9.2'\n",
            "make[2]: Leaving directory '/tmp/mecab-0.996-ko-0.9.2'\n",
            "make[1]: Leaving directory '/tmp/mecab-0.996-ko-0.9.2'\n",
            "Making check in src\n",
            "make[1]: Entering directory '/tmp/mecab-0.996-ko-0.9.2/src'\n",
            "make[1]: Nothing to be done for 'check'.\n",
            "make[1]: Leaving directory '/tmp/mecab-0.996-ko-0.9.2/src'\n",
            "Making check in man\n",
            "make[1]: Entering directory '/tmp/mecab-0.996-ko-0.9.2/man'\n",
            "make[1]: Nothing to be done for 'check'.\n",
            "make[1]: Leaving directory '/tmp/mecab-0.996-ko-0.9.2/man'\n",
            "Making check in doc\n",
            "make[1]: Entering directory '/tmp/mecab-0.996-ko-0.9.2/doc'\n",
            "make[1]: Nothing to be done for 'check'.\n",
            "make[1]: Leaving directory '/tmp/mecab-0.996-ko-0.9.2/doc'\n",
            "Making check in tests\n",
            "make[1]: Entering directory '/tmp/mecab-0.996-ko-0.9.2/tests'\n",
            "make  check-TESTS\n",
            "make[2]: Entering directory '/tmp/mecab-0.996-ko-0.9.2/tests'\n",
            "./pos-id.def is not found. minimum setting is used\n",
            "reading ./unk.def ... 2\n",
            "emitting double-array: 100% |###########################################| \n",
            "./model.def is not found. skipped.\n",
            "./pos-id.def is not found. minimum setting is used\n",
            "reading ./dic.csv ... 177\n",
            "emitting double-array: 100% |###########################################| \n",
            "reading ./matrix.def ... 178x178\n",
            "emitting matrix      : 100% |###########################################| \n",
            "\n",
            "done!\n",
            "./pos-id.def is not found. minimum setting is used\n",
            "reading ./unk.def ... 2\n",
            "emitting double-array: 100% |###########################################| \n",
            "./model.def is not found. skipped.\n",
            "./pos-id.def is not found. minimum setting is used\n",
            "reading ./dic.csv ... 83\n",
            "emitting double-array: 100% |###########################################| \n",
            "reading ./matrix.def ... 84x84\n",
            "emitting matrix      : 100% |###########################################| \n",
            "\n",
            "done!\n",
            "./pos-id.def is not found. minimum setting is used\n",
            "reading ./unk.def ... 2\n",
            "emitting double-array: 100% |###########################################| \n",
            "./model.def is not found. skipped.\n",
            "./pos-id.def is not found. minimum setting is used\n",
            "reading ./dic.csv ... 450\n",
            "emitting double-array: 100% |###########################################| \n",
            "reading ./matrix.def ... 1x1\n",
            "\n",
            "done!\n",
            "./pos-id.def is not found. minimum setting is used\n",
            "reading ./unk.def ... 2\n",
            "emitting double-array: 100% |###########################################| \n",
            "./model.def is not found. skipped.\n",
            "./pos-id.def is not found. minimum setting is used\n",
            "reading ./dic.csv ... 162\n",
            "emitting double-array: 100% |###########################################| \n",
            "reading ./matrix.def ... 3x3\n",
            "emitting matrix      : 100% |###########################################| \n",
            "\n",
            "done!\n",
            "./pos-id.def is not found. minimum setting is used\n",
            "reading ./unk.def ... 2\n",
            "emitting double-array: 100% |###########################################| \n",
            "./model.def is not found. skipped.\n",
            "./pos-id.def is not found. minimum setting is used\n",
            "reading ./dic.csv ... 4\n",
            "emitting double-array: 100% |###########################################| \n",
            "reading ./matrix.def ... 1x1\n",
            "\n",
            "done!\n",
            "./pos-id.def is not found. minimum setting is used\n",
            "reading ./unk.def ... 11\n",
            "emitting double-array: 100% |###########################################| \n",
            "./model.def is not found. skipped.\n",
            "./pos-id.def is not found. minimum setting is used\n",
            "reading ./dic.csv ... 1\n",
            "reading ./matrix.def ... 1x1\n",
            "\n",
            "done!\n",
            "./pos-id.def is not found. minimum setting is used\n",
            "reading ./unk.def ... 2\n",
            "emitting double-array: 100% |###########################################| \n",
            "./model.def is not found. skipped.\n",
            "./pos-id.def is not found. minimum setting is used\n",
            "reading ./dic.csv ... 1\n",
            "reading ./matrix.def ... 1x1\n",
            "\n",
            "done!\n",
            "PASS: run-dics.sh\n",
            "PASS: run-eval.sh\n",
            "seed/pos-id.def is not found. minimum setting is used\n",
            "reading seed/unk.def ... 40\n",
            "emitting double-array: 100% |###########################################| \n",
            "seed/model.def is not found. skipped.\n",
            "seed/pos-id.def is not found. minimum setting is used\n",
            "reading seed/dic.csv ... 4335\n",
            "emitting double-array: 100% |###########################################| \n",
            "reading seed/matrix.def ... 1x1\n",
            "\n",
            "done!\n",
            "reading corpus ...\n",
            "Number of sentences: 34\n",
            "Number of features:  64108\n",
            "eta:                 0.00005\n",
            "freq:                1\n",
            "eval-size:           6\n",
            "unk-eval-size:       4\n",
            "threads:             1\n",
            "charset:             EUC-JP\n",
            "C(sigma^2):          1.00000\n",
            "\n",
            "iter=0 err=1.00000 F=0.35771 target=2406.28355 diff=1.00000\n",
            "iter=1 err=0.97059 F=0.65652 target=1484.25231 diff=0.38318\n",
            "iter=2 err=0.91176 F=0.79331 target=863.32765 diff=0.41834\n",
            "iter=3 err=0.85294 F=0.89213 target=596.72480 diff=0.30881\n",
            "iter=4 err=0.61765 F=0.95467 target=336.30744 diff=0.43641\n",
            "iter=5 err=0.50000 F=0.96702 target=246.53039 diff=0.26695\n",
            "iter=6 err=0.35294 F=0.95472 target=188.93963 diff=0.23361\n",
            "iter=7 err=0.20588 F=0.99106 target=168.62665 diff=0.10751\n",
            "iter=8 err=0.05882 F=0.99777 target=158.64865 diff=0.05917\n",
            "iter=9 err=0.08824 F=0.99665 target=154.14530 diff=0.02839\n",
            "iter=10 err=0.08824 F=0.99665 target=151.94257 diff=0.01429\n",
            "iter=11 err=0.02941 F=0.99888 target=147.20825 diff=0.03116\n",
            "iter=12 err=0.00000 F=1.00000 target=147.34956 diff=0.00096\n",
            "iter=13 err=0.02941 F=0.99888 target=146.32592 diff=0.00695\n",
            "iter=14 err=0.00000 F=1.00000 target=145.77299 diff=0.00378\n",
            "iter=15 err=0.02941 F=0.99888 target=145.24641 diff=0.00361\n",
            "iter=16 err=0.00000 F=1.00000 target=144.96490 diff=0.00194\n",
            "iter=17 err=0.02941 F=0.99888 target=144.90246 diff=0.00043\n",
            "iter=18 err=0.00000 F=1.00000 target=144.75959 diff=0.00099\n",
            "iter=19 err=0.00000 F=1.00000 target=144.71727 diff=0.00029\n",
            "iter=20 err=0.00000 F=1.00000 target=144.66337 diff=0.00037\n",
            "iter=21 err=0.00000 F=1.00000 target=144.61349 diff=0.00034\n",
            "iter=22 err=0.00000 F=1.00000 target=144.62987 diff=0.00011\n",
            "iter=23 err=0.00000 F=1.00000 target=144.60060 diff=0.00020\n",
            "iter=24 err=0.00000 F=1.00000 target=144.59125 diff=0.00006\n",
            "iter=25 err=0.00000 F=1.00000 target=144.58619 diff=0.00004\n",
            "iter=26 err=0.00000 F=1.00000 target=144.58219 diff=0.00003\n",
            "iter=27 err=0.00000 F=1.00000 target=144.58059 diff=0.00001\n",
            "\n",
            "Done! writing model file ... \n",
            "model-ipadic.c1.0.f1.model is not a binary model. reopen it as text mode...\n",
            "reading seed/unk.def ... 40\n",
            "reading seed/dic.csv ... 4335\n",
            "emitting model-ipadic.c1.0.f1.dic/left-id.def/ model-ipadic.c1.0.f1.dic/right-id.def\n",
            "emitting model-ipadic.c1.0.f1.dic/unk.def ... 40\n",
            "emitting model-ipadic.c1.0.f1.dic/dic.csv ... 4335\n",
            "emitting matrix      : 100% |###########################################| \n",
            "copying seed/char.def to model-ipadic.c1.0.f1.dic/char.def\n",
            "copying seed/rewrite.def to model-ipadic.c1.0.f1.dic/rewrite.def\n",
            "copying seed/dicrc to model-ipadic.c1.0.f1.dic/dicrc\n",
            "copying seed/feature.def to model-ipadic.c1.0.f1.dic/feature.def\n",
            "copying model-ipadic.c1.0.f1.model to model-ipadic.c1.0.f1.dic/model.def\n",
            "\n",
            "done!\n",
            "model-ipadic.c1.0.f1.dic/pos-id.def is not found. minimum setting is used\n",
            "reading model-ipadic.c1.0.f1.dic/unk.def ... 40\n",
            "emitting double-array: 100% |###########################################| \n",
            "model-ipadic.c1.0.f1.dic/pos-id.def is not found. minimum setting is used\n",
            "reading model-ipadic.c1.0.f1.dic/dic.csv ... 4335\n",
            "emitting double-array: 100% |###########################################| \n",
            "reading model-ipadic.c1.0.f1.dic/matrix.def ... 346x346\n",
            "emitting matrix      : 100% |###########################################| \n",
            "\n",
            "done!\n",
            "              precision          recall         F\n",
            "LEVEL 0:    12.8959(57/442) 11.8998(57/479) 12.3779\n",
            "LEVEL 1:    12.2172(54/442) 11.2735(54/479) 11.7264\n",
            "LEVEL 2:    11.7647(52/442) 10.8559(52/479) 11.2921\n",
            "LEVEL 4:    11.7647(52/442) 10.8559(52/479) 11.2921\n",
            "PASS: run-cost-train.sh\n",
            "==================\n",
            "All 3 tests passed\n",
            "==================\n",
            "make[2]: Leaving directory '/tmp/mecab-0.996-ko-0.9.2/tests'\n",
            "make[1]: Leaving directory '/tmp/mecab-0.996-ko-0.9.2/tests'\n",
            "make[1]: Entering directory '/tmp/mecab-0.996-ko-0.9.2'\n",
            "make[1]: Leaving directory '/tmp/mecab-0.996-ko-0.9.2'\n",
            "Making install in src\n",
            "make[1]: Entering directory '/tmp/mecab-0.996-ko-0.9.2/src'\n",
            "make[2]: Entering directory '/tmp/mecab-0.996-ko-0.9.2/src'\n",
            "test -z \"/usr/local/lib\" || /bin/mkdir -p \"/usr/local/lib\"\n",
            " /bin/bash ../libtool   --mode=install /usr/bin/install -c   libmecab.la '/usr/local/lib'\n",
            "libtool: install: /usr/bin/install -c .libs/libmecab.so.2.0.0 /usr/local/lib/libmecab.so.2.0.0\n",
            "libtool: install: (cd /usr/local/lib && { ln -s -f libmecab.so.2.0.0 libmecab.so.2 || { rm -f libmecab.so.2 && ln -s libmecab.so.2.0.0 libmecab.so.2; }; })\n",
            "libtool: install: (cd /usr/local/lib && { ln -s -f libmecab.so.2.0.0 libmecab.so || { rm -f libmecab.so && ln -s libmecab.so.2.0.0 libmecab.so; }; })\n",
            "libtool: install: /usr/bin/install -c .libs/libmecab.lai /usr/local/lib/libmecab.la\n",
            "libtool: install: /usr/bin/install -c .libs/libmecab.a /usr/local/lib/libmecab.a\n",
            "libtool: install: chmod 644 /usr/local/lib/libmecab.a\n",
            "libtool: install: ranlib /usr/local/lib/libmecab.a\n",
            "libtool: finish: PATH=\"/usr/local/sbin:/usr/local/bin:/usr/sbin:/usr/bin:/sbin:/bin:/snap/bin:/sbin\" ldconfig -n /usr/local/lib\n",
            "----------------------------------------------------------------------\n",
            "Libraries have been installed in:\n",
            "   /usr/local/lib\n",
            "\n",
            "If you ever happen to want to link against installed libraries\n",
            "in a given directory, LIBDIR, you must either use libtool, and\n",
            "specify the full pathname of the library, or use the `-LLIBDIR'\n",
            "flag during linking and do at least one of the following:\n",
            "   - add LIBDIR to the `LD_LIBRARY_PATH' environment variable\n",
            "     during execution\n",
            "   - add LIBDIR to the `LD_RUN_PATH' environment variable\n",
            "     during linking\n",
            "   - use the `-Wl,-rpath -Wl,LIBDIR' linker flag\n",
            "   - have your system administrator add LIBDIR to `/etc/ld.so.conf'\n",
            "\n",
            "See any operating system documentation about shared libraries for\n",
            "more information, such as the ld(1) and ld.so(8) manual pages.\n",
            "----------------------------------------------------------------------\n",
            "test -z \"/usr/local/bin\" || /bin/mkdir -p \"/usr/local/bin\"\n",
            "  /bin/bash ../libtool   --mode=install /usr/bin/install -c mecab '/usr/local/bin'\n",
            "libtool: install: /usr/bin/install -c .libs/mecab /usr/local/bin/mecab\n",
            "test -z \"/usr/local/libexec/mecab\" || /bin/mkdir -p \"/usr/local/libexec/mecab\"\n",
            "  /bin/bash ../libtool   --mode=install /usr/bin/install -c mecab-dict-index mecab-dict-gen mecab-cost-train mecab-system-eval mecab-test-gen '/usr/local/libexec/mecab'\n",
            "libtool: install: /usr/bin/install -c .libs/mecab-dict-index /usr/local/libexec/mecab/mecab-dict-index\n",
            "libtool: install: /usr/bin/install -c .libs/mecab-dict-gen /usr/local/libexec/mecab/mecab-dict-gen\n",
            "libtool: install: /usr/bin/install -c .libs/mecab-cost-train /usr/local/libexec/mecab/mecab-cost-train\n",
            "libtool: install: /usr/bin/install -c .libs/mecab-system-eval /usr/local/libexec/mecab/mecab-system-eval\n",
            "libtool: install: /usr/bin/install -c .libs/mecab-test-gen /usr/local/libexec/mecab/mecab-test-gen\n",
            "test -z \"/usr/local/include\" || /bin/mkdir -p \"/usr/local/include\"\n",
            " /usr/bin/install -c -m 644 mecab.h '/usr/local/include'\n",
            "make[2]: Leaving directory '/tmp/mecab-0.996-ko-0.9.2/src'\n",
            "make[1]: Leaving directory '/tmp/mecab-0.996-ko-0.9.2/src'\n",
            "Making install in man\n",
            "make[1]: Entering directory '/tmp/mecab-0.996-ko-0.9.2/man'\n",
            "make[2]: Entering directory '/tmp/mecab-0.996-ko-0.9.2/man'\n",
            "make[2]: Nothing to be done for 'install-exec-am'.\n",
            "test -z \"/usr/local/share/man/man1\" || /bin/mkdir -p \"/usr/local/share/man/man1\"\n",
            " /usr/bin/install -c -m 644 mecab.1 '/usr/local/share/man/man1'\n",
            "make[2]: Leaving directory '/tmp/mecab-0.996-ko-0.9.2/man'\n",
            "make[1]: Leaving directory '/tmp/mecab-0.996-ko-0.9.2/man'\n",
            "Making install in doc\n",
            "make[1]: Entering directory '/tmp/mecab-0.996-ko-0.9.2/doc'\n",
            "make[2]: Entering directory '/tmp/mecab-0.996-ko-0.9.2/doc'\n",
            "make[2]: Nothing to be done for 'install-exec-am'.\n",
            "make[2]: Nothing to be done for 'install-data-am'.\n",
            "make[2]: Leaving directory '/tmp/mecab-0.996-ko-0.9.2/doc'\n",
            "make[1]: Leaving directory '/tmp/mecab-0.996-ko-0.9.2/doc'\n",
            "Making install in tests\n",
            "make[1]: Entering directory '/tmp/mecab-0.996-ko-0.9.2/tests'\n",
            "make[2]: Entering directory '/tmp/mecab-0.996-ko-0.9.2/tests'\n",
            "make[2]: Nothing to be done for 'install-exec-am'.\n",
            "make[2]: Nothing to be done for 'install-data-am'.\n",
            "make[2]: Leaving directory '/tmp/mecab-0.996-ko-0.9.2/tests'\n",
            "make[1]: Leaving directory '/tmp/mecab-0.996-ko-0.9.2/tests'\n",
            "make[1]: Entering directory '/tmp/mecab-0.996-ko-0.9.2'\n",
            "make[2]: Entering directory '/tmp/mecab-0.996-ko-0.9.2'\n",
            "test -z \"/usr/local/bin\" || /bin/mkdir -p \"/usr/local/bin\"\n",
            " /usr/bin/install -c mecab-config '/usr/local/bin'\n",
            "test -z \"/usr/local/etc\" || /bin/mkdir -p \"/usr/local/etc\"\n",
            " /usr/bin/install -c -m 644 mecabrc '/usr/local/etc'\n",
            "make[2]: Leaving directory '/tmp/mecab-0.996-ko-0.9.2'\n",
            "make[1]: Leaving directory '/tmp/mecab-0.996-ko-0.9.2'\n",
            "Install mecab-ko-dic\n",
            "Install mecab-ko-dic\n",
            "  % Total    % Received % Xferd  Average Speed   Time    Time     Time  Current\n",
            "                                 Dload  Upload   Total   Spent    Left  Speed\n",
            "  0     0    0     0    0     0      0      0 --:--:-- --:--:-- --:--:--     0\n",
            "100 47.4M  100 47.4M    0     0  21.1M      0  0:00:02  0:00:02 --:--:-- 47.4M\n",
            "mecab-ko-dic-2.1.1-20180720/\n",
            "mecab-ko-dic-2.1.1-20180720/configure\n",
            "mecab-ko-dic-2.1.1-20180720/COPYING\n",
            "mecab-ko-dic-2.1.1-20180720/autogen.sh\n",
            "mecab-ko-dic-2.1.1-20180720/Place-station.csv\n",
            "mecab-ko-dic-2.1.1-20180720/NNG.csv\n",
            "mecab-ko-dic-2.1.1-20180720/README\n",
            "mecab-ko-dic-2.1.1-20180720/EF.csv\n",
            "mecab-ko-dic-2.1.1-20180720/MAG.csv\n",
            "mecab-ko-dic-2.1.1-20180720/Preanalysis.csv\n",
            "mecab-ko-dic-2.1.1-20180720/NNB.csv\n",
            "mecab-ko-dic-2.1.1-20180720/Person-actor.csv\n",
            "mecab-ko-dic-2.1.1-20180720/VV.csv\n",
            "mecab-ko-dic-2.1.1-20180720/Makefile.in\n",
            "mecab-ko-dic-2.1.1-20180720/matrix.def\n",
            "mecab-ko-dic-2.1.1-20180720/EC.csv\n",
            "mecab-ko-dic-2.1.1-20180720/NNBC.csv\n",
            "mecab-ko-dic-2.1.1-20180720/clean\n",
            "mecab-ko-dic-2.1.1-20180720/ChangeLog\n",
            "mecab-ko-dic-2.1.1-20180720/J.csv\n",
            "mecab-ko-dic-2.1.1-20180720/.keep\n",
            "mecab-ko-dic-2.1.1-20180720/feature.def\n",
            "mecab-ko-dic-2.1.1-20180720/Foreign.csv\n",
            "mecab-ko-dic-2.1.1-20180720/XPN.csv\n",
            "mecab-ko-dic-2.1.1-20180720/EP.csv\n",
            "mecab-ko-dic-2.1.1-20180720/NR.csv\n",
            "mecab-ko-dic-2.1.1-20180720/left-id.def\n",
            "mecab-ko-dic-2.1.1-20180720/Place.csv\n",
            "mecab-ko-dic-2.1.1-20180720/Symbol.csv\n",
            "mecab-ko-dic-2.1.1-20180720/dicrc\n",
            "mecab-ko-dic-2.1.1-20180720/NP.csv\n",
            "mecab-ko-dic-2.1.1-20180720/ETM.csv\n",
            "mecab-ko-dic-2.1.1-20180720/IC.csv\n",
            "mecab-ko-dic-2.1.1-20180720/Place-address.csv\n",
            "mecab-ko-dic-2.1.1-20180720/Group.csv\n",
            "mecab-ko-dic-2.1.1-20180720/model.def\n",
            "mecab-ko-dic-2.1.1-20180720/XSN.csv\n",
            "mecab-ko-dic-2.1.1-20180720/INSTALL\n",
            "mecab-ko-dic-2.1.1-20180720/rewrite.def\n",
            "mecab-ko-dic-2.1.1-20180720/Inflect.csv\n",
            "mecab-ko-dic-2.1.1-20180720/configure.ac\n",
            "mecab-ko-dic-2.1.1-20180720/NNP.csv\n",
            "mecab-ko-dic-2.1.1-20180720/CoinedWord.csv\n",
            "mecab-ko-dic-2.1.1-20180720/XSV.csv\n",
            "mecab-ko-dic-2.1.1-20180720/pos-id.def\n",
            "mecab-ko-dic-2.1.1-20180720/Makefile.am\n",
            "mecab-ko-dic-2.1.1-20180720/unk.def\n",
            "mecab-ko-dic-2.1.1-20180720/missing\n",
            "mecab-ko-dic-2.1.1-20180720/VCP.csv\n",
            "mecab-ko-dic-2.1.1-20180720/install-sh\n",
            "mecab-ko-dic-2.1.1-20180720/Hanja.csv\n",
            "mecab-ko-dic-2.1.1-20180720/MAJ.csv\n",
            "mecab-ko-dic-2.1.1-20180720/XSA.csv\n",
            "mecab-ko-dic-2.1.1-20180720/Wikipedia.csv\n",
            "mecab-ko-dic-2.1.1-20180720/tools/\n",
            "mecab-ko-dic-2.1.1-20180720/tools/add-userdic.sh\n",
            "mecab-ko-dic-2.1.1-20180720/tools/mecab-bestn.sh\n",
            "mecab-ko-dic-2.1.1-20180720/tools/convert_for_using_store.sh\n",
            "mecab-ko-dic-2.1.1-20180720/user-dic/\n",
            "mecab-ko-dic-2.1.1-20180720/user-dic/nnp.csv\n",
            "mecab-ko-dic-2.1.1-20180720/user-dic/place.csv\n",
            "mecab-ko-dic-2.1.1-20180720/user-dic/person.csv\n",
            "mecab-ko-dic-2.1.1-20180720/user-dic/README.md\n",
            "mecab-ko-dic-2.1.1-20180720/NorthKorea.csv\n",
            "mecab-ko-dic-2.1.1-20180720/VX.csv\n",
            "mecab-ko-dic-2.1.1-20180720/right-id.def\n",
            "mecab-ko-dic-2.1.1-20180720/VA.csv\n",
            "mecab-ko-dic-2.1.1-20180720/char.def\n",
            "mecab-ko-dic-2.1.1-20180720/NEWS\n",
            "mecab-ko-dic-2.1.1-20180720/MM.csv\n",
            "mecab-ko-dic-2.1.1-20180720/ETN.csv\n",
            "mecab-ko-dic-2.1.1-20180720/AUTHORS\n",
            "mecab-ko-dic-2.1.1-20180720/Person.csv\n",
            "mecab-ko-dic-2.1.1-20180720/XR.csv\n",
            "mecab-ko-dic-2.1.1-20180720/VCN.csv\n",
            "Looking in current directory for macros.\n",
            "configure.ac:2: warning: AM_INIT_AUTOMAKE: two- and three-arguments forms are deprecated.  For more info, see:\n",
            "configure.ac:2: http://www.gnu.org/software/automake/manual/automake.html#Modernize-AM_005fINIT_005fAUTOMAKE-invocation\n",
            "checking for a BSD-compatible install... /usr/bin/install -c\n",
            "checking whether build environment is sane... yes\n",
            "/tmp/mecab-ko-dic-2.1.1-20180720/missing: Unknown `--is-lightweight' option\n",
            "Try `/tmp/mecab-ko-dic-2.1.1-20180720/missing --help' for more information\n",
            "configure: WARNING: 'missing' script is too old or missing\n",
            "checking for a thread-safe mkdir -p... /bin/mkdir -p\n",
            "checking for gawk... no\n",
            "checking for mawk... mawk\n",
            "checking whether make sets $(MAKE)... yes\n",
            "checking whether make supports nested variables... yes\n",
            "checking for mecab-config... /usr/local/bin/mecab-config\n",
            "checking that generated files are newer than configure... done\n",
            "configure: creating ./config.status\n",
            "config.status: creating Makefile\n",
            "/usr/local/lib\n",
            "/sbin/ldconfig.real: /usr/local/lib/python3.7/dist-packages/ideep4py/lib/libmkldnn.so.0 is not a symbolic link\n",
            "\n",
            "/usr/local/libexec/mecab/mecab-dict-index -d . -o . -f UTF-8 -t UTF-8\n",
            "reading ./unk.def ... 13\n",
            "emitting double-array: 100% |###########################################| \n",
            "reading ./Group.csv ... 3176\n",
            "reading ./NR.csv ... 482\n",
            "reading ./MAG.csv ... 14242\n",
            "reading ./Foreign.csv ... 11690\n",
            "reading ./XPN.csv ... 83\n",
            "reading ./XSV.csv ... 23\n",
            "reading ./EC.csv ... 2547\n",
            "reading ./NNB.csv ... 140\n",
            "reading ./VA.csv ... 2360\n",
            "reading ./Place-address.csv ... 19301\n",
            "reading ./EF.csv ... 1820\n",
            "reading ./Inflect.csv ... 44820\n",
            "reading ./VV.csv ... 7331\n",
            "reading ./Place-station.csv ... 1145\n",
            "reading ./NNG.csv ... 208524\n",
            "reading ./NNBC.csv ... 677\n",
            "reading ./J.csv ... 416\n",
            "reading ./Wikipedia.csv ... 36762\n",
            "reading ./MAJ.csv ... 240\n",
            "reading ./VCN.csv ... 7\n",
            "reading ./CoinedWord.csv ... 148\n",
            "reading ./VCP.csv ... 9\n",
            "reading ./XSN.csv ... 124\n",
            "reading ./ETN.csv ... 14\n",
            "reading ./VX.csv ... 125\n",
            "reading ./XSA.csv ... 19\n",
            "reading ./EP.csv ... 51\n",
            "reading ./NorthKorea.csv ... 3\n",
            "reading ./Symbol.csv ... 16\n",
            "reading ./XR.csv ... 3637\n",
            "reading ./NNP.csv ... 2371\n",
            "reading ./Person-actor.csv ... 99230\n",
            "reading ./IC.csv ... 1305\n",
            "reading ./ETM.csv ... 133\n",
            "reading ./MM.csv ... 453\n",
            "reading ./Place.csv ... 30303\n",
            "reading ./Preanalysis.csv ... 5\n",
            "reading ./Person.csv ... 196459\n",
            "reading ./NP.csv ... 342\n",
            "reading ./Hanja.csv ... 125750\n",
            "emitting double-array: 100% |###########################################| \n",
            "reading ./matrix.def ... 3822x2693\n",
            "emitting matrix      : 100% |###########################################| \n",
            "\n",
            "done!\n",
            "echo To enable dictionary, rewrite /usr/local/etc/mecabrc as \\\"dicdir = /usr/local/lib/mecab/dic/mecab-ko-dic\\\"\n",
            "To enable dictionary, rewrite /usr/local/etc/mecabrc as \"dicdir = /usr/local/lib/mecab/dic/mecab-ko-dic\"\n",
            "make[1]: Entering directory '/tmp/mecab-ko-dic-2.1.1-20180720'\n",
            "make[1]: Nothing to be done for 'install-exec-am'.\n",
            " /bin/mkdir -p '/usr/local/lib/mecab/dic/mecab-ko-dic'\n",
            " /usr/bin/install -c -m 644 model.bin matrix.bin char.bin sys.dic unk.dic left-id.def right-id.def rewrite.def pos-id.def dicrc '/usr/local/lib/mecab/dic/mecab-ko-dic'\n",
            "make[1]: Leaving directory '/tmp/mecab-ko-dic-2.1.1-20180720'\n",
            "Install mecab-python\n",
            "/tmp /tmp/mecab-ko-dic-2.1.1-20180720\n",
            "Cloning into 'mecab-python-0.996'...\n",
            "Unpacking objects: 100% (17/17), done.\n",
            "/tmp/mecab-ko-dic-2.1.1-20180720\n",
            "Processing /tmp/mecab-python-0.996\n",
            "\u001b[33m  DEPRECATION: A future pip version will change local packages to be built in-place without first copying to a temporary directory. We recommend you use --use-feature=in-tree-build to test your packages with this new behavior before it becomes the default.\n",
            "   pip 21.3 will remove support for this functionality. You can find discussion regarding this at https://github.com/pypa/pip/issues/7555.\u001b[0m\n",
            "Building wheels for collected packages: mecab-python\n",
            "  Building wheel for mecab-python (setup.py) ... \u001b[?25l\u001b[?25hdone\n",
            "  Created wheel for mecab-python: filename=mecab_python-0.996_ko_0.9.2-cp37-cp37m-linux_x86_64.whl size=141817 sha256=9d91e4c603118246f0ad49332021956ca259775da67926ac586034dfbb553f79\n",
            "  Stored in directory: /root/.cache/pip/wheels/40/7b/9f/2922869bef86c3354ae7034f7a3647c573ee1997c2dad0290a\n",
            "\u001b[33m  WARNING: Built wheel for mecab-python is invalid: Metadata 1.2 mandates PEP 440 version, but '0.996-ko-0.9.2' is not\u001b[0m\n",
            "Failed to build mecab-python\n",
            "Installing collected packages: mecab-python\n",
            "    Running setup.py install for mecab-python ... \u001b[?25l\u001b[?25hdone\n",
            "\u001b[33m  DEPRECATION: mecab-python was installed using the legacy 'setup.py install' method, because a wheel could not be built for it. A possible replacement is to fix the wheel build issue reported above. You can find discussion regarding this at https://github.com/pypa/pip/issues/8368.\u001b[0m\n",
            "Successfully installed mecab-python-0.996-ko-0.9.2\n",
            "Done.\n"
          ]
        }
      ]
    },
    {
      "cell_type": "code",
      "metadata": {
        "colab": {
          "base_uri": "https://localhost:8080/"
        },
        "id": "I_XDmnXdMxIx",
        "outputId": "1787946b-c79d-4823-bf09-08aa34524fdd"
      },
      "source": [
        "from konlpy.tag import Mecab\n",
        "\n",
        "mecab = Mecab()\n",
        "morphs = mecab.pos(\"아버지가방에들어가신다.\", join=False) #pos가 part of speech약자!!(형태소)\n",
        "print(morphs)"
      ],
      "execution_count": 65,
      "outputs": [
        {
          "output_type": "stream",
          "name": "stdout",
          "text": [
            "[('아버지', 'NNG'), ('가', 'JKS'), ('방', 'NNG'), ('에', 'JKB'), ('들어가', 'VV'), ('신다', 'EP+EF'), ('.', 'SF')]\n"
          ]
        }
      ]
    },
    {
      "cell_type": "markdown",
      "metadata": {
        "id": "QF8FVJ0HNRF0"
      },
      "source": [
        "## Filtering"
      ]
    },
    {
      "cell_type": "code",
      "metadata": {
        "id": "fGG7qAwWMj9u"
      },
      "source": [
        "def morph_filter(texts): #우리 나라말은 문장 안에 명사, 동사, 형용사를 다 포함해야 온전한 문장이므로, 문장이 3 요소를 다 포함하지 않고 있으면 삭제\n",
        "    \"\"\"\n",
        "    명사(NN), 동사(V), 형용사(J)의 포함 여부에 따라 문장 필터링\n",
        "    \"\"\"\n",
        "    NN_TAGS = [\"NNG\", \"NNP\", \"NNB\", \"NP\"]\n",
        "    V_TAGS = [\"VV\", \"VA\", \"VX\", \"VCP\", \"VCN\", \"XSN\", \"XSA\", \"XSV\"]\n",
        "    J_TAGS = [\"JKS\", \"J\", \"JO\", \"JK\", \"JKC\", \"JKG\", \"JKB\", \"JKV\", \"JKQ\", \"JX\", \"JC\", \"JKI\", \"JKO\", \"JKM\", \"ETM\"]\n",
        "\n",
        "    preprocessed_text = []\n",
        "    for text in texts:\n",
        "        morphs = mecab.pos(text, join=False)\n",
        "\n",
        "        nn_flag = False\n",
        "        v_flag = False\n",
        "        j_flag = False\n",
        "        for morph in morphs:\n",
        "            pos_tags = morph[1].split(\"+\")\n",
        "            for pos_tag in pos_tags:\n",
        "                if not nn_flag and pos_tag in NN_TAGS:\n",
        "                    nn_flag = True\n",
        "                if not v_flag and pos_tag in V_TAGS:\n",
        "                    v_flag = True\n",
        "                if not j_flag and pos_tag in J_TAGS:\n",
        "                    j_flag = True\n",
        "            if nn_flag and v_flag and j_flag:\n",
        "                preprocessed_text.append(text)\n",
        "                break\n",
        "    return preprocessed_text"
      ],
      "execution_count": 66,
      "outputs": []
    },
    {
      "cell_type": "code",
      "metadata": {
        "colab": {
          "base_uri": "https://localhost:8080/"
        },
        "id": "hKzTuww3NuAg",
        "outputId": "54fb456b-45b4-4c86-c695-773f9bf457e7"
      },
      "source": [
        "sents = morph_filter(sents)\n",
        "for i, sent in enumerate(sents):\n",
        "    print(i, sent)"
      ],
      "execution_count": 67,
      "outputs": [
        {
          "output_type": "stream",
          "name": "stdout",
          "text": [
            "0 이하 뉴스1&인공지능 알파고(AlphaGo)를 상대로 첫 승리를 거둔 이세돌 9단\n",
            "1 인공지능 알파고(AlphaGo)를 상대로 첫 승리를 거둔 이세돌 9단의 사진이 화제다.\n",
            "2 13일 서울 광화문 포시즌스 호텔에서 열린 '구글 딥마인드 챌린지 매치'에서 이세돌 9단은 알파고와의 제4국에서 승리했다.\n",
            "3 이날 대국장을 빠져나가는 이세돌 9단의 모습이 사진에 포착됐다.\n",
            "4 이세돌 9단은 상의 주머니에 양손을 넣고 옅은 미소를 지었다.\n",
            "5 이 사진은 SNS에서 화제를 모았다.\n",
            "6 오늘 알파고에게 승리하고 대국장 빠져나가는 이세돌이라는데ㅋㅋ 포토제닉ㅋㅋ 이대로 헐리웃 영화 만들어지고 포스터 소취요 - 조드윅 앓는 서린 2016년 3월 13일\n",
            "7 대국을 마친 뒤, 이세돌 9단은 \"한판 이겼는데 이렇게까지 축하를 받아보는 것은 처음\"이라고 말했다.\n",
            "8 이세돌 9단은 기자회견장에도 함박 웃음을 감추지 못했다.\n",
            "9 여기에 태그가 있네요!\n",
            "10 이곳에도 태그가 있구요\n",
            "11 html은 태그로 이루어진 문서입니다.\n",
            "12 텍스트를 진하게 만들 수도 있고, 밑줄을 칠 수도 있습니다. '이 줄은 실제 뉴스(news)에 포함되지 않은 임시 데이터임을 알립니다 ... '\n",
            "13 '이 줄은 실제 뉴스(news)에 포함되지 않은 임시 데이터임을 알립니다 ... '\n"
          ]
        }
      ]
    },
    {
      "cell_type": "markdown",
      "metadata": {
        "id": "jkSg-62YPc7i"
      },
      "source": [
        "![image.png](data:image/png;base64,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)"
      ]
    },
    {
      "cell_type": "markdown",
      "metadata": {
        "id": "vtwSGHgvPgUp"
      },
      "source": [
        "**\"1 이하 뉴스 1\"**  삭제된것 확인"
      ]
    },
    {
      "cell_type": "code",
      "metadata": {
        "id": "VG06kTHsNx_O"
      },
      "source": [
        "def excluded_word_filter(excluded_words, texts):\n",
        "    \"\"\"\n",
        "    특정 단어를 포함하는 문장 필터링\n",
        "    \"\"\"\n",
        "    preprocessed_text = []\n",
        "    for text in texts:\n",
        "        include_flag = False\n",
        "        for word in excluded_words:\n",
        "            if word in text:\n",
        "                include_flag = True\n",
        "                break\n",
        "        if not include_flag:\n",
        "            preprocessed_text.append(text)\n",
        "    return preprocessed_text"
      ],
      "execution_count": 68,
      "outputs": []
    },
    {
      "cell_type": "code",
      "metadata": {
        "id": "jN1bmgcNQOGv"
      },
      "source": [
        "excluded_words = [\"이하 뉴스1\", \"이 줄은 실제 뉴스\"]"
      ],
      "execution_count": 69,
      "outputs": []
    },
    {
      "cell_type": "code",
      "metadata": {
        "colab": {
          "base_uri": "https://localhost:8080/"
        },
        "id": "mBtlvqFtQJcE",
        "outputId": "070c2577-0403-4857-94ca-5b346f803fa3"
      },
      "source": [
        "sents = excluded_word_filter(excluded_words, sents)\n",
        "for i, sent in enumerate(sents):\n",
        "    print(i, sent)"
      ],
      "execution_count": 70,
      "outputs": [
        {
          "output_type": "stream",
          "name": "stdout",
          "text": [
            "0 인공지능 알파고(AlphaGo)를 상대로 첫 승리를 거둔 이세돌 9단의 사진이 화제다.\n",
            "1 13일 서울 광화문 포시즌스 호텔에서 열린 '구글 딥마인드 챌린지 매치'에서 이세돌 9단은 알파고와의 제4국에서 승리했다.\n",
            "2 이날 대국장을 빠져나가는 이세돌 9단의 모습이 사진에 포착됐다.\n",
            "3 이세돌 9단은 상의 주머니에 양손을 넣고 옅은 미소를 지었다.\n",
            "4 이 사진은 SNS에서 화제를 모았다.\n",
            "5 오늘 알파고에게 승리하고 대국장 빠져나가는 이세돌이라는데ㅋㅋ 포토제닉ㅋㅋ 이대로 헐리웃 영화 만들어지고 포스터 소취요 - 조드윅 앓는 서린 2016년 3월 13일\n",
            "6 대국을 마친 뒤, 이세돌 9단은 \"한판 이겼는데 이렇게까지 축하를 받아보는 것은 처음\"이라고 말했다.\n",
            "7 이세돌 9단은 기자회견장에도 함박 웃음을 감추지 못했다.\n",
            "8 여기에 태그가 있네요!\n",
            "9 이곳에도 태그가 있구요\n",
            "10 html은 태그로 이루어진 문서입니다.\n"
          ]
        }
      ]
    },
    {
      "cell_type": "code",
      "metadata": {
        "id": "atfxB7i8i2kg"
      },
      "source": [
        "def remove_stopwords(sents):\n",
        "    #  큰 의미가 없는 불용어 정의\n",
        "    stopwords = ['소취요', '-', '조드윅', '포스터', '앓는', '서린']\n",
        "    preprocessed_text = []\n",
        "    for sent in sents:\n",
        "        sent = [w for w in sent.split(' ') if w not in stopwords]# 불용어 제거\n",
        "        preprocessed_text.append(' '.join(sent))\n",
        "    return preprocessed_text"
      ],
      "execution_count": 71,
      "outputs": []
    },
    {
      "cell_type": "code",
      "metadata": {
        "colab": {
          "base_uri": "https://localhost:8080/"
        },
        "id": "RW1SXJlFi7j8",
        "outputId": "f63e3fa2-4ba5-4bf4-8e38-6116fedbf2f4"
      },
      "source": [
        "sents_ = remove_stopwords(sents)\n",
        "for i, sent in enumerate(sents_):\n",
        "    print(i, sent)"
      ],
      "execution_count": 72,
      "outputs": [
        {
          "output_type": "stream",
          "name": "stdout",
          "text": [
            "0 인공지능 알파고(AlphaGo)를 상대로 첫 승리를 거둔 이세돌 9단의 사진이 화제다.\n",
            "1 13일 서울 광화문 포시즌스 호텔에서 열린 '구글 딥마인드 챌린지 매치'에서 이세돌 9단은 알파고와의 제4국에서 승리했다.\n",
            "2 이날 대국장을 빠져나가는 이세돌 9단의 모습이 사진에 포착됐다.\n",
            "3 이세돌 9단은 상의 주머니에 양손을 넣고 옅은 미소를 지었다.\n",
            "4 이 사진은 SNS에서 화제를 모았다.\n",
            "5 오늘 알파고에게 승리하고 대국장 빠져나가는 이세돌이라는데ㅋㅋ 포토제닉ㅋㅋ 이대로 헐리웃 영화 만들어지고 2016년 3월 13일\n",
            "6 대국을 마친 뒤, 이세돌 9단은 \"한판 이겼는데 이렇게까지 축하를 받아보는 것은 처음\"이라고 말했다.\n",
            "7 이세돌 9단은 기자회견장에도 함박 웃음을 감추지 못했다.\n",
            "8 여기에 태그가 있네요!\n",
            "9 이곳에도 태그가 있구요\n",
            "10 html은 태그로 이루어진 문서입니다.\n"
          ]
        }
      ]
    },
    {
      "cell_type": "code",
      "metadata": {
        "id": "k8h-rZkuQVLs"
      },
      "source": [
        "def min_max_filter(min_len, max_len, texts):#outlier에 대한 제거 -> 5번 같은 문장은 너무 길고, 이건 데이터 관점에서 outlier에 해당\n",
        "    \"\"\"\n",
        "    문장을 최대, 최소 길이로 필터링합니다.\n",
        "    \"\"\"\n",
        "    preprocessed_text = []\n",
        "    for text in texts:\n",
        "        if min_len < len(text) and len(text) < max_len:\n",
        "            preprocessed_text.append(text)\n",
        "    return preprocessed_text"
      ],
      "execution_count": 75,
      "outputs": []
    },
    {
      "cell_type": "markdown",
      "metadata": {
        "id": "h0GkYAYZ8uOq"
      },
      "source": [
        "최종 결과입니다! :-)   \n",
        "처음에 비하면 많이 이뻐졌죠?   "
      ]
    },
    {
      "cell_type": "code",
      "metadata": {
        "colab": {
          "base_uri": "https://localhost:8080/"
        },
        "id": "hGrPe1_kRQ3j",
        "outputId": "0b091a86-7c3e-41c4-8457-f21019b41258"
      },
      "source": [
        "sents_ = min_max_filter(min_len=5, max_len=70, texts=sents)\n",
        "for i, sent in enumerate(sents_):\n",
        "    print(i, sent)"
      ],
      "execution_count": 76,
      "outputs": [
        {
          "output_type": "stream",
          "name": "stdout",
          "text": [
            "0 인공지능 알파고(AlphaGo)를 상대로 첫 승리를 거둔 이세돌 9단의 사진이 화제다.\n",
            "1 13일 서울 광화문 포시즌스 호텔에서 열린 '구글 딥마인드 챌린지 매치'에서 이세돌 9단은 알파고와의 제4국에서 승리했다.\n",
            "2 이날 대국장을 빠져나가는 이세돌 9단의 모습이 사진에 포착됐다.\n",
            "3 이세돌 9단은 상의 주머니에 양손을 넣고 옅은 미소를 지었다.\n",
            "4 이 사진은 SNS에서 화제를 모았다.\n",
            "5 대국을 마친 뒤, 이세돌 9단은 \"한판 이겼는데 이렇게까지 축하를 받아보는 것은 처음\"이라고 말했다.\n",
            "6 이세돌 9단은 기자회견장에도 함박 웃음을 감추지 못했다.\n",
            "7 여기에 태그가 있네요!\n",
            "8 이곳에도 태그가 있구요\n",
            "9 html은 태그로 이루어진 문서입니다.\n"
          ]
        }
      ]
    },
    {
      "cell_type": "markdown",
      "metadata": {
        "id": "0IAlzMS_h0mH"
      },
      "source": [
        "## 유니코드 기반으로 filtering"
      ]
    },
    {
      "cell_type": "markdown",
      "metadata": {
        "id": "vHqcv0YGh4ze"
      },
      "source": [
        "1. 유니코드란?\n",
        "> 유니코드(Unicode)는 전 세계의 모든 문자를 컴퓨터에서 일관되게 표현하고 다룰 수 있도록 설계된 산업 표준이며, 유니코드 협회(Unicode Consortium)가 제정한다. 또한 이 표준에는 ISO 10646 문자 집합, 문자 인코딩, 문자 정보 데이터베이스, 문자들을 다루기 위한 알고리즘 등을 포함하고 있다. - 위키피디아 -\n",
        "\n",
        "* 한국인들은 주로 영어, 한국어, 숫자들에 익숙해 있습니다. 그런데 갑자기 러시아어, 아랍어, 불어와 같은 언어들을 처리해야 한다면?!\n",
        "* 이런 고민을 유니코드를 사용하면 해결할 수 있습니다!\n",
        "* 이번 장에서는 간단하게 유니코드를 python 프로그래밍에서 사용하는 방법을 배우도록 하겠습니다."
      ]
    },
    {
      "cell_type": "markdown",
      "metadata": {
        "id": "dBkhKh_KiAz4"
      },
      "source": [
        "2. 유니코드 표현\n",
        "* 유니코드는 16진수로 표현되어 있습니다. 간단한 예제를 통해 알아보겠습니다.\n",
        "* 다양한 언어와 문자에 대한 유니코드는 https://jrgraphix.net/r/Unicode/0020-007F 이 사이트에서 쉽게 확인 가능합니다."
      ]
    },
    {
      "cell_type": "code",
      "metadata": {
        "id": "1VugPgRtRXl3",
        "colab": {
          "base_uri": "https://localhost:8080/"
        },
        "outputId": "fa8b3374-4802-4604-f74e-c8438bb304e5"
      },
      "source": [
        "sentence = 'hello world'\n",
        "\n",
        "print('* 원본 문장')\n",
        "print(sentence)\n",
        "\n",
        "print('\\n* 10진수로 표현된 유니코드')\n",
        "for w in sentence:\n",
        "  print(ord(w), end=' ') # 문자 -> 10진수 변환\n",
        "\n",
        "print('\\n\\n* 16진수로 표현된 유니코드')\n",
        "for w in sentence:\n",
        "  print(hex(ord(w)), end=' ') # 문자 -> 16진수 변환"
      ],
      "execution_count": 77,
      "outputs": [
        {
          "output_type": "stream",
          "name": "stdout",
          "text": [
            "* 원본 문장\n",
            "hello world\n",
            "\n",
            "* 10진수로 표현된 유니코드\n",
            "104 101 108 108 111 32 119 111 114 108 100 \n",
            "\n",
            "* 16진수로 표현된 유니코드\n",
            "0x68 0x65 0x6c 0x6c 0x6f 0x20 0x77 0x6f 0x72 0x6c 0x64 "
          ]
        }
      ]
    },
    {
      "cell_type": "code",
      "metadata": {
        "colab": {
          "base_uri": "https://localhost:8080/"
        },
        "id": "a_b-_yDHiFm0",
        "outputId": "8eec22fa-6f9d-4e5d-ace1-8ec436b5206e"
      },
      "source": [
        "range_s = int('0370',16) # 그리스 문자 유니코드 범위\n",
        "range_e = int('03FF',16) # 16진수 -> 10진수 변환\n",
        "\n",
        "for i in range(range_s, range_e + 1): # \n",
        "  print(chr(i), end=' ')"
      ],
      "execution_count": 78,
      "outputs": [
        {
          "output_type": "stream",
          "name": "stdout",
          "text": [
            "Ͱ ͱ Ͳ ͳ ʹ ͵ Ͷ ͷ ͸ ͹ ͺ ͻ ͼ ͽ ; Ϳ ΀ ΁ ΂ ΃ ΄ ΅ Ά · Έ Ή Ί ΋ Ό ΍ Ύ Ώ ΐ Α Β Γ Δ Ε Ζ Η Θ Ι Κ Λ Μ Ν Ξ Ο Π Ρ ΢ Σ Τ Υ Φ Χ Ψ Ω Ϊ Ϋ ά έ ή ί ΰ α β γ δ ε ζ η θ ι κ λ μ ν ξ ο π ρ ς σ τ υ φ χ ψ ω ϊ ϋ ό ύ ώ Ϗ ϐ ϑ ϒ ϓ ϔ ϕ ϖ ϗ Ϙ ϙ Ϛ ϛ Ϝ ϝ Ϟ ϟ Ϡ ϡ Ϣ ϣ Ϥ ϥ Ϧ ϧ Ϩ ϩ Ϫ ϫ Ϭ ϭ Ϯ ϯ ϰ ϱ ϲ ϳ ϴ ϵ ϶ Ϸ ϸ Ϲ Ϻ ϻ ϼ Ͻ Ͼ Ͽ "
          ]
        }
      ]
    },
    {
      "cell_type": "markdown",
      "metadata": {
        "id": "CPvjxn0xh_kA"
      },
      "source": [
        "* 유니코드의 범위를 안다면 쉽게, 출력도 가능하다.\n",
        "* 15번째 문자를 보면 세미콜론(;)과 유사하기로 악명을 떨친 그리스어 ; 가 있다.\n",
        "* 유니코드를 이용한다면 쉽게 그리스어 ; 검출도 가능하다!"
      ]
    },
    {
      "cell_type": "markdown",
      "metadata": {
        "id": "SHMY8IJ4iNMU"
      },
      "source": [
        "![image.png](data:image/png;base64,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)"
      ]
    },
    {
      "cell_type": "markdown",
      "metadata": {
        "id": "e51Kw1LxiOvq"
      },
      "source": [
        "* hello world에 해당하는 유니코드들이 올바르게 표시 되었음을 확인할 수 있습니다.\n",
        "* 위와 같이 해당하는 언어들의 유니코드 범위를 안다면, 쉽게 다양한 언어들을 구별 할 수 있습니다."
      ]
    },
    {
      "cell_type": "markdown",
      "metadata": {
        "id": "33PEzd9NiSJJ"
      },
      "source": [
        "3. 유니코드 활용\n",
        "* 이번 장에서는 10진수, 16진수, ord()함수를 이용해 다양한 언어로 구성된 hello world 문장 속에서 특정 언어를 제거해 보도록 하겠습니다."
      ]
    },
    {
      "cell_type": "code",
      "metadata": {
        "id": "DEAxO3RtiJdW"
      },
      "source": [
        "def remove_language(range_s, range_e, sentence):\n",
        "    a = int(range_s, 16) # 16진수 -> 10진수 변환\n",
        "    b = int(range_e, 16)\n",
        "    return_sentence = ''\n",
        "    for i, w in enumerate(sentence):#sentence를 한글자 한글자 음절 단위로 관찰하면서 음절이 십진수로 변환시, \n",
        "        if a<= ord(w) and ord(w) <= b:  # 음절 단위로 사전에 정의한 유니코드 범위 내에 존재하는가\n",
        "            continue\n",
        "        return_sentence+=w\n",
        "    return return_sentence"
      ],
      "execution_count": 79,
      "outputs": []
    },
    {
      "cell_type": "code",
      "metadata": {
        "colab": {
          "base_uri": "https://localhost:8080/"
        },
        "id": "8nY2HlNbiUJ_",
        "outputId": "f65b44d9-3376-4fdd-872f-fb67526bf764"
      },
      "source": [
        "sentence = 'hello world 안녕하세요 세계 مرحبا بالعالم  Hallo Welt Chào thế giới Привет, мир'\n",
        "# 영어 한국어 아랍어 독일어 베트남어 러시아어\n",
        "# 구글번역기 이용\n",
        "print(sentence)"
      ],
      "execution_count": 80,
      "outputs": [
        {
          "output_type": "stream",
          "name": "stdout",
          "text": [
            "hello world 안녕하세요 세계 مرحبا بالعالم  Hallo Welt Chào thế giới Привет, мир\n"
          ]
        }
      ]
    },
    {
      "cell_type": "code",
      "metadata": {
        "colab": {
          "base_uri": "https://localhost:8080/"
        },
        "id": "p2dxg82iibU2",
        "outputId": "2ab4ffe9-adde-45aa-a4c1-5506f1d19e36"
      },
      "source": [
        "print(remove_language('0600','06FF',sentence)) # 아랍어 제거, 아랍어의 유니코드 범위 0600 ~ 06FF"
      ],
      "execution_count": 81,
      "outputs": [
        {
          "output_type": "stream",
          "name": "stdout",
          "text": [
            "hello world 안녕하세요 세계    Hallo Welt Chào thế giới Привет, мир\n"
          ]
        }
      ]
    },
    {
      "cell_type": "code",
      "metadata": {
        "colab": {
          "base_uri": "https://localhost:8080/"
        },
        "id": "ML32NjwZicwI",
        "outputId": "6a2cb314-76c8-43dd-a5be-368bbe07d7da"
      },
      "source": [
        "print(remove_language('0400','04FF',sentence)) # 러시아어 제거, 러시아 키릴 문자의 유니코드 범위 0400 ~ 04FF"
      ],
      "execution_count": 82,
      "outputs": [
        {
          "output_type": "stream",
          "name": "stdout",
          "text": [
            "hello world 안녕하세요 세계 مرحبا بالعالم  Hallo Welt Chào thế giới , \n"
          ]
        }
      ]
    },
    {
      "cell_type": "markdown",
      "metadata": {
        "id": "fZM8K1IHig2A"
      },
      "source": [
        "* 영어를 제거하려면 어떻게 해야할까?\n",
        "* 위에서 소개한 유니코드 사이트에서 Basic Latin 0020 ~ 007F 범위에 대소문자 알파벳이 있음을 알 수 있다. "
      ]
    },
    {
      "cell_type": "code",
      "metadata": {
        "colab": {
          "base_uri": "https://localhost:8080/"
        },
        "id": "1F32V12bid9L",
        "outputId": "9b699c61-e107-4e95-e7f1-76c7434b0821"
      },
      "source": [
        "print(remove_language('0020','007F',sentence)) # 알파벳 제거, 알파벳의 유니코드 범위 0020 ~ 007F"
      ],
      "execution_count": 83,
      "outputs": [
        {
          "output_type": "stream",
          "name": "stdout",
          "text": [
            "안녕하세요세계مرحبابالعالمàếớПриветмир\n"
          ]
        }
      ]
    },
    {
      "cell_type": "markdown",
      "metadata": {
        "id": "r4C_NlKOik5j"
      },
      "source": [
        "* 주의해야할 점을 눈치 채셨나요?\n",
        "* 먼저 영어, 독일어, 베트남어 일부는 같은 유니코드 체계를 이용해 표현됩니다.-> ex)다른언어인데, 알파벳을 사용하니깐, 유니코드 범위는 같음\n",
        "* 두번째로, 유니코드 범위에 공백을 표현하는 유니코드가 속해 있을 수 있어, 원하지 않게 띄어쓰기를 제거하게 됩니다.\n",
        "* 이런 점들을 고려해, 독립된 유니코드를 사용하는 언어인지, 유니코드에서 띄어쓰기 혹은 특수문자들에 대해서도 원하는 목적을 위해 적절히 예외처리를 해주셔야합니다."
      ]
    }
  ]
}