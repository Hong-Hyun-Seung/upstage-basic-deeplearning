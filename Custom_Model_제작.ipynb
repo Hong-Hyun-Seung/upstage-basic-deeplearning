{
  "nbformat": 4,
  "nbformat_minor": 0,
  "metadata": {
    "colab": {
      "name": " Custom Model 제작.ipynb",
      "provenance": [],
      "collapsed_sections": [
        "nzf_SMkwQIcp",
        "Lh7DIeNXnfZN",
        "A9pZE3mpaIdG",
        "Oknx2fv3Ncvn",
        "VodIGNr0gI8U",
        "95QrHvgqadqg",
        "VfkQ0jmGbSmX",
        "JQsWM-vgqV17",
        "33PuuiWGZhz5",
        "M1EGwkfCxDr7",
        "D9JlxC5WyO7X",
        "qXkF-1SC1Q0q",
        "oJ0ZuWycwsff",
        "5qM693v7A31v",
        "zfJJRMVx4uZU",
        "f3MnmB0zE-TK",
        "dgoOCMtbJHEL",
        "W-eAr6c7GEHl",
        "m7w_YfK6HXQ9",
        "LZ0zV31lX6zN",
        "TwdiREr_YLEa",
        "SHpq-zKFdQ8j",
        "VfmnV6cRuYf5",
        "6h_5Q9Xejktd",
        "Ybvq8tz4769-",
        "5d8rq3BlRjmH",
        "jpXu3zuOcjzO",
        "yBmtQly_nqR7",
        "jPvOek5YxfRg",
        "VBC_HD024zT7",
        "zLFA5jeb7dcB",
        "IJNyfmll_h_o",
        "qrEsHFT2FRDj",
        "8r1QkKGGJobo",
        "GGZDh_Tw4tpS",
        "HXUIf4hw8R_A",
        "R68OFoe8BzbF",
        "rZmymVenGzXd",
        "eU_nhb1vKTi-",
        "ZRWBmAYkOYgy",
        "mgJ38Rsiy2Tc",
        "MpJ51jOZL1pm",
        "6a_OSRXMgc8j",
        "a-Zs6pnh1925",
        "XLOhs8I56dYA",
        "CgV9Ntk38ieo",
        "6ARH3kXTPKEq",
        "Pfdy2siYp4ua",
        "LYE0lhVK2Vow",
        "S8u8jNL8H_dN",
        "C3WfRph4AYrb",
        "jr6BwccdiH5s",
        "P0rBcgFOdVTL",
        "SvtNG5hkeb2G",
        "bC4XBN5k5g53",
        "87fdrrUW_Eyg",
        "1ZC6RK20H8iC",
        "JfrjK8Q5tNH6",
        "VeIqAIk1NTUh",
        "ij7zgUmsUwD6",
        "B6lHaqZqvnb5",
        "2clV-zzGiH-v",
        "7tJVT5Mp9I4S",
        "5HujUYII-wih",
        "70LM7F_OjMqB",
        "1r2HJhPzCqZM",
        "IA_-_-XdtJwT",
        "tz48RlN1_6t_",
        "5kOCk33KLR8i",
        "b7RtvqiWNGen",
        "RX9s5bAEZR81",
        "g_Aa_VhGg5ds",
        "dim6OGlSD4Hk",
        "gsjw07-c6Vgf",
        "7hmoOk31nohg",
        "aowwiHAz3I2c",
        "q2IFscSgPqj0",
        "C5EzHAPj3LW8",
        "rSyB0wutN_Oi",
        "pSIGoFyWRoJ2",
        "u7iF0gyR3dZa",
        "Ixzc0txuqmDb"
      ],
      "toc_visible": true,
      "include_colab_link": true
    },
    "kernelspec": {
      "name": "python3",
      "display_name": "Python 3"
    },
    "language_info": {
      "name": "python"
    },
    "accelerator": "GPU"
  },
  "cells": [
    {
      "cell_type": "markdown",
      "metadata": {
        "id": "view-in-github",
        "colab_type": "text"
      },
      "source": [
        "<a href=\"https://colab.research.google.com/github/Hong-Hyun-Seung/upstage-basic-deeplearning/blob/main/Custom_Model_%EC%A0%9C%EC%9E%91.ipynb\" target=\"_parent\"><img src=\"https://colab.research.google.com/assets/colab-badge.svg\" alt=\"Open In Colab\"/></a>"
      ]
    },
    {
      "cell_type": "markdown",
      "metadata": {
        "id": "7tFl6DHSdUHf"
      },
      "source": [
        "<img src=\"https://i.imgur.com/uDGD221.png\" width=100%>\n",
        "\n",
        "```\n",
        "💡 Colab Dark 모드 사용을 권장합니다\n",
        "```"
      ]
    },
    {
      "cell_type": "markdown",
      "metadata": {
        "id": "dYStbm6ZsH9a"
      },
      "source": [
        "# Custom Model 제작\n",
        "> PyTorch의 첫 번째 필수 과제에 오신 것을 환영합니다! 이번 Colab에서는 PyTorch 강의를 수강하시면서 배운 다양한 지식들 및 그 외 유용한 지식들을 실습을 통해서 활용해볼 시간을 가질 것입니다!\n",
        "- 🌍 Custom 모델 제작을 위한 Documentation 활용\n",
        "- ⭐ Custom 모델 제작을 위한 nn.Module 클래스\n",
        "- 🚀 <font color='yellow'><b>[ Optional ]</b></font> Custom 모델 제작을 위한 Github 참조해보기\n",
        "\n",
        "\n"
      ]
    },
    {
      "cell_type": "markdown",
      "metadata": {
        "id": "ECqIkyC27Z5X"
      },
      "source": [
        "## 🦆 과제와 함께할 친구 부스트캠프 오리 - 부덕이\n",
        "> 부덕이는 이제 갓 PyTorch를 시작해서 궁금한게 매우 많고 열정이 넘쳐요! \n",
        "\n",
        "```python\n",
        "🦆\n",
        "반가워요! PyTorch를 함께 공부하게 된 부덕이라고 해요!\n",
        "PyTorch가 무엇인지 늘 궁금했었는데 이번에 공부하게 되어 너무 기뻐요!\n",
        "```\n",
        "```pyton\n",
        "😊\n",
        "물론이죠! 함께 열심히 공부해봐요!\n",
        "```\n"
      ]
    },
    {
      "cell_type": "markdown",
      "metadata": {
        "id": "nzf_SMkwQIcp"
      },
      "source": [
        "## 😉 PyTorch 라이센스\n",
        "\n",
        "PyTorch는 BSD 라이센스를 사용합니다! 자유롭게 수정하고 배포가 가능하며 심지어 상업적으로 이용이 가능합니다!\n",
        "\n",
        "![](https://github.com/IllgamhoDuck/PyTorch/blob/main/document_image/pytorch%20official%20-%20bsd%20license.png?raw=true)\n",
        "\n",
        "- [Adding a Contributor License Agreement for PyTorch - PyTorch](https://pytorch.org/blog/a-contributor-license-agreement-for-pytorch/#what-is-not-changing)\n",
        "- [BSD License - Wikipedia](https://en.wikipedia.org/wiki/BSD_licenses)\n",
        "\n",
        "\n"
      ]
    },
    {
      "cell_type": "markdown",
      "metadata": {
        "id": "TE5_pyW7zvbT"
      },
      "source": [
        "## 🌈 과제 종류\n",
        "> 앞으로 여러분들이 마주하게 될 과제는 다음과 같이 4개의 종류로 구성되어 있습니다!\n",
        "- 🔎 탐색 : 정보를 찾아 모험을 떠나볼까요?\n",
        "- 👨‍💻 코딩 : 자신의 손으로 코드를 작성해보세요!\n",
        "- 📖 읽기 : 자료를 눈으로 찬찬히 훑어보세요!\n",
        "- ❓ 퀴즈 : 정답을 맞혀보세요!\n",
        "\n",
        "**기타**\n",
        "- 🎁 힌트 : 과제 해결에 도움을 주는 글입니다\n",
        "- ✨ 유용한 자료 : 읽으면 좋지만 필수는 아닙니다\n",
        "- 🔥 활활 : 과제 난이도가 높습니다\n",
        "- 🔥🔥🔥 활활활화르르 : 과제 난이도가 매우 높습니다\n"
      ]
    },
    {
      "cell_type": "markdown",
      "metadata": {
        "id": "Lh7DIeNXnfZN"
      },
      "source": [
        "## 🌍 Custom 모델 제작을 위한 Documentation 활용\n",
        "\n",
        "```\n",
        "💡 PyTorch 라이브러리의 Documentation을 함께 탐사하며 Custom 모델\n",
        "   제작을 위해 Documentation을 활용하는 방법을 배워볼 것입니다!\n",
        "```\n",
        "\n",
        "Documentation은 개발자들이 자신들의 라이브러리에 대한 설명을 친절히 담아놓은 문서입니다. 우리가 라이브러리를 사용하며 경험하는 많은 문제들의 해법은 Stack overflow나 google에서 찾는 medium과 같은 블로그에 대부분 잘 정리되어있지만 세부적인 내용을 알아야 하는 순간이 있습니다. 우리가 찾는 내용이 documentation을 제외한 그 어느 곳에도 존재하지 않는 경우도 있지요.\n",
        "\n",
        "Documentation은 라이브러리의 모든 세부 정보가 담겨있는 곳으로 여기에 나오는 다양한 내용들을 많이 알수록 Custom 모델을 만들때 사용할 수 있는 도구의 범위가 넓어지게 됩니다. 더 멋진 세련된 자신만의 Custom 모델을 만들기 위해 가장 중요한 초석이라고 할 수 있습니다!\n",
        "\n",
        "그럼 🦆 부덕이와 함께 떠나볼까요!\n",
        "\n",
        "\n",
        "- 🌓 Documentation과 친해지기\n",
        "- 🌓 Documentation에서 정보 탐색하기\n",
        "- 🌓 Documentation에서 찾은 기능 이해 및 활용하기\n",
        "- 🌓 Documentation 읽기"
      ]
    },
    {
      "cell_type": "markdown",
      "metadata": {
        "id": "A9pZE3mpaIdG"
      },
      "source": [
        "###  🌓 Documentation과 친해지기\n",
        "> 처음 접하는 Documentation을 보게 되면 그 방대한 양에 기가 질리게 마련입니다! 특히나 생소한 분야의 Documentation이라면 그 어색함은 더더욱 말할 것도 없겠죠! 내용을 이해할 필요는 없습니다! 자유롭게 Documentation을 보면서 이것저것 눌러보고 탐험해보세요! \n",
        "\n",
        "- 🔎 <font color='orange'><b>[ 탐색 ]</b></font> Documentation 둘러보기\n",
        "- ❓ <font color='red'><b>[ 퀴즈 ]</b></font> PyTorch Release Status (배포 상태)"
      ]
    },
    {
      "cell_type": "markdown",
      "metadata": {
        "id": "Oknx2fv3Ncvn"
      },
      "source": [
        "#### 🔎 <font color='orange'><b>[ 탐색 ]</b></font> Documentation 둘러보기\n",
        "> 💡 제시되는 항목을 따라가주시면 됩니다! 퀴즈가 아닙니다!\n",
        "\n",
        "``` python\n",
        "🦆\n",
        "PyTorch를 알기 위해서 공식 documention을 들어가보았어요!\n",
        "PyTorch 답게 빨간색으로 포인트를 준 홈페이지가 보이네요!\n",
        "저희 함께 Documentation을 둘러보아요!\n",
        "```\n",
        "- [Documentation main - PyTorch 공식 문서](https://pytorch.org/docs/stable/index.html)"
      ]
    },
    {
      "cell_type": "markdown",
      "metadata": {
        "id": "VodIGNr0gI8U"
      },
      "source": [
        "##### ✔️ 버젼 (Version)\n",
        "``` python\n",
        "🦆\n",
        "저희가 보는 이 PyTorch Documentation의 버젼을 살펴보아요!\n",
        "```\n",
        "\n",
        "- ✅ PyTorch 버젼 확인해보기\n",
        "    - `1.9.0`\n",
        "- ✅ PyTorch 버젼 클릭해서 다른 버젼 살펴보기\n",
        "    - ![](https://github.com/IllgamhoDuck/PyTorch/blob/main/document_image/pytorch%20version.png?raw=true)\n",
        "    - `v0.1.12`에서 시작해서 현재 `v1.9.0` 버젼\n",
        "- ✅ master (unstable) 버젼 Documentation 열어보기\n",
        "\n"
      ]
    },
    {
      "cell_type": "markdown",
      "metadata": {
        "id": "95QrHvgqadqg"
      },
      "source": [
        "##### ✔️ 목차 (Index)\n",
        "``` python\n",
        "🦆\n",
        "PyTorch에는 정말 많은 내용이 담겨져 있기 때문에\n",
        "사람이 쉽게 내용을 찾기 위해서 목차로 정리가 잘 되어있을 거에요!\n",
        "Documentation의 좌측에 목차가 위치하고 있는 것 같아요! 같이 살펴봐요!\n",
        "```\n",
        "\n",
        "- ✅ `python API` 옆의 `[ - ]` 눌러보기\n",
        "    - ![](https://github.com/IllgamhoDuck/PyTorch/blob/main/document_image/+%20-%20button.png?raw=true)\n",
        "- ✅ 목차 살펴보기\n",
        "    - Notes\n",
        "    - Language Bindings\n",
        "    - Python API\n",
        "    - Libraries\n",
        "    - Community\n",
        "- ✅ python API의 하위 목차 훑어보기\n",
        "- ✅ python API의 하위 목차 아무거나 하나 가볍게 읽어보기\n",
        "    - ex) `torch.nn`\n",
        "- ✅ python API - torch 문서 내부 목차 훑어보기\n",
        "    - [TORCH - PyTorch 공식 문서](https://pytorch.org/docs/stable/torch.html)\n",
        "    - ![](https://github.com/IllgamhoDuck/PyTorch/blob/main/document_image/table%20of%20content%20-%20torch.png?raw=true)\n",
        "    \n"
      ]
    },
    {
      "cell_type": "markdown",
      "metadata": {
        "id": "tSwYkTH_lgsz"
      },
      "source": [
        "##### ✔️ 검색 (Search)\n",
        "``` python\n",
        "🦆\n",
        "목차가 있어 원하는 내용을 찾기가 수월해보이지만\n",
        "익숙한 사람이 아니라면 원하는 내용을 찾기 위해 한참을 헤맬 것 같아요!\n",
        "우리가 원하는 내용을 바로 찾기 위해 search bar를 사용하면 될 것 같아요!\n",
        "```\n",
        "\n",
        "- ✅ search bar 위치 확인해보기\n",
        "    - ![](https://github.com/IllgamhoDuck/PyTorch/blob/main/document_image/pytorch%20search%20bar.png?raw=true)\n",
        "- ✅ 원하는 키워드 아무것이나 검색해보기\n",
        "    - ex) duck\n",
        "\n"
      ]
    },
    {
      "cell_type": "markdown",
      "metadata": {
        "id": "VfkQ0jmGbSmX"
      },
      "source": [
        "#### ❓ <font color='red'><b>[ 퀴즈 ]</b></font> PyTorch Release Status (배포 상태)\n",
        "``` python\n",
        "🦆\n",
        "PyTorch에 정말 내용이 많네요! 둘러보는 것을 멈추고\n",
        "메인 페이지로 돌아왔는데 release status에 대한 설명이 쓰여있네요!\n",
        "Stable, Beta, Prototype 3가지가 적혀져 있는데 Beta가 무엇인지 알려주세요!\n",
        "```\n",
        "- [Documentation main - PyTorch 공식 문서](https://pytorch.org/docs/stable/index.html)"
      ]
    },
    {
      "cell_type": "markdown",
      "metadata": {
        "id": "5X_RYE6szDXr"
      },
      "source": [
        "```python\n",
        "😮\n",
        "# TODO : 맞고 틀리고가 없는 문제입니다. 문서를 읽고 답을 자유로이 적어주세요\n",
        "어.. 음 그러니까 말이죠 Beta란..\n",
        "아직 완성이 되지 않은 feature로, 사용자 피드백에 의하여 바뀔수가 있고, 이전버전과의 호환을 보장해 줄 수 없다\n",
        "```\n"
      ]
    },
    {
      "cell_type": "markdown",
      "metadata": {
        "id": "JQsWM-vgqV17"
      },
      "source": [
        "### 🌓 Documentation에서 정보 탐색하기\n",
        "> 대부분의 해법은 구글링을 통해서 바로 정답을 찾을 수 있고 지금 이 글을 읽는 모든 분들은 이미 잘 활용하실 겁니다. 하지만 Documentation의 모든 정보가 항상 구글링을 통해 나오는 것은 아니기 때문에 구글링 없이 Documentation만을 가지고 정보를 찾는 방법을 실습해볼 것입니다!\n",
        "\n",
        "- ❓ <font color='red'><b>[ 퀴즈 ]</b></font> Documentation이 제공하는 search 기능 활용\n",
        "- 🔎 <font color='orange'><b>[ 탐색 ]</b></font> 목차를 보고 원하는 정보를 찾기 "
      ]
    },
    {
      "cell_type": "markdown",
      "metadata": {
        "id": "33PuuiWGZhz5"
      },
      "source": [
        "#### ❓ <font color='red'><b>[ 퀴즈 ]</b></font> Documentation이 제공하는 search 기능 활용\n",
        "\n",
        "``` python\n",
        "🦆\n",
        "PyTorch가 제공해주는 검색 기능을 이용하여서 궁금한 것을 찾아보고 싶어요!\n",
        "```\n",
        "- [Documentation main - PyTorch 공식 문서](https://pytorch.org/docs/stable/index.html)\n"
      ]
    },
    {
      "cell_type": "markdown",
      "metadata": {
        "id": "M1EGwkfCxDr7"
      },
      "source": [
        "##### 💯 PyTorch의 Linear Algebra 기능 여부\n",
        "\n",
        "``` python\n",
        "🦆\n",
        "PyTorch는 NumPy처럼 선형대수학(Linear Algebra) 관련 기능이 있나요?\n",
        "```"
      ]
    },
    {
      "cell_type": "markdown",
      "metadata": {
        "id": "CmxHQsDxZUoK"
      },
      "source": [
        "```python\n",
        "😉\n",
        "# TODO : 있는지 없는지 자유롭게 답해주세요!\n",
        "있습니다\n",
        "```"
      ]
    },
    {
      "cell_type": "markdown",
      "metadata": {
        "id": "D9JlxC5WyO7X"
      },
      "source": [
        "##### 💯 Matrix Multiplication\n",
        "\n",
        "``` python\n",
        "🦆\n",
        "pytorch에서 Matrix Multiplication을 하고 싶을 때 사용하는 함수는 무엇일까요?\n",
        "```"
      ]
    },
    {
      "cell_type": "markdown",
      "metadata": {
        "id": "rHpU8WUZyO7f"
      },
      "source": [
        "```python\n",
        "😉\n",
        "# TODO : 정해진 형식이 없습니다! 자유롭게 답해주세요!\n",
        "torch.matmul\n",
        "```\n"
      ]
    },
    {
      "cell_type": "markdown",
      "metadata": {
        "id": "qXkF-1SC1Q0q"
      },
      "source": [
        "##### 💯 Norm\n",
        "> 여기서 말하는 norm은 normalization이 아니라 벡터나 행렬의 크기의 개념인 norm임에 주의해주세요!\n",
        "\n",
        "``` python\n",
        "🦆\n",
        "저는 모델을 만들 때 벡터나 행렬의 norm을 많이 이용할 것 같아요! \n",
        "이럴때 어떤 함수를 사용하면 좋을까요?\n",
        "```"
      ]
    },
    {
      "cell_type": "markdown",
      "metadata": {
        "id": "orfjxQuq1Q0u"
      },
      "source": [
        "```python\n",
        "😃\n",
        "# TODO : 정해진 형식이 없습니다! 자유롭게 답해주세요!\n",
        "torch.norm()\n",
        "\n",
        "```\n"
      ]
    },
    {
      "cell_type": "markdown",
      "metadata": {
        "id": "oJ0ZuWycwsff"
      },
      "source": [
        "#### 🔎 <font color='orange'><b>[ 탐색 ]</b></font> 목차를 보고 원하는 정보를 찾기\n",
        "> 💡 제시되는 항목을 따라가주시면 됩니다! 퀴즈가 아닙니다!\n",
        "\n",
        "``` python\n",
        "🦆\n",
        "나중에 PyTorch에 익숙해지면 저도 라이브러리에 제 코드를 기여하고 싶어요!\n",
        "대부분의 라이브러리가 그렇듯 PyTorch도 분명히 기여 프로세스에 대해\n",
        "작성해놓은 문서가 있을거예요! \n",
        "```\n",
        "- [Documentation main - PyTorch 공식 문서](https://pytorch.org/docs/stable/index.html)\n"
      ]
    },
    {
      "cell_type": "markdown",
      "metadata": {
        "id": "fUmgABsu8dSn"
      },
      "source": [
        "``` python\n",
        "🦆\n",
        "역시 목차에 커뮤니티 (Community)가 있네요!\n",
        "여기에 코드에 기여하고 싶은 사람들을 위한 가이드 문서가 있어요! \n",
        "```\n",
        "\n",
        "- ✅ Community 하위 목차 살펴보기\n",
        "- ✅ PyTorch Contribution Guide 문서 열어서 훑어보기\n",
        "    - [PyTorch Contribution Guide - PyTorch 공식 문서](https://pytorch.org/docs/stable/community/contribution_guide.html)\n",
        "- ✅ PyTorch Contribution Guide 문서 내부 목차 확인\n",
        "    - ![](https://github.com/IllgamhoDuck/PyTorch/blob/main/document_image/table%20of%20content%20-%20contribution.png?raw=true)\n",
        "- ✅ 내부 목차 - Common Mistakes to Avoid 가볍게 읽어보기\n",
        "    - [PyTorch Contribution Guide - Common Mistakes To Avoid - PyTorch 공식 문서](https://pytorch.org/docs/stable/community/contribution_guide.html#common-mistakes-to-avoid)\n",
        "\n"
      ]
    },
    {
      "cell_type": "markdown",
      "metadata": {
        "id": "5qM693v7A31v"
      },
      "source": [
        "### 🌓 Documentation에서 찾은 기능 이해 및 활용하기\n",
        "> 이제 PyTorch documentation에서 원하는 정보를 찾는 방법을 알게 되었습니다! 하지만 단지 찾기만 하면 소용이 없겠죠! Documentation에 적힌 기능의 설명을 읽고 직접 활용할 줄 알아야 진짜 의미가 있습니다. 우리는 간단한 예제를 통해 PyTorch를 직접 사용해볼 것입니다!\n",
        "\n",
        "- ❓ <font color='red'><b>[ 퀴즈 ]</b></font> PyTorch의 기본 구성 요소 Tensor\n",
        "- 👨‍💻 <font color='green'><b>[ 코딩 ]</b></font> 사칙연산 계산하기\n",
        "- 👨‍💻 <font color='green'><b>[ 코딩 ]</b></font> 인덱싱 (Indexing)"
      ]
    },
    {
      "cell_type": "markdown",
      "metadata": {
        "id": "zfJJRMVx4uZU"
      },
      "source": [
        "#### ❓ <font color='red'><b>[ 퀴즈 ]</b></font> PyTorch의 기본 구성 요소 Tensor\n",
        "``` python\n",
        "🦆\n",
        "PyTorch는 tensor가 모든 것의 기본 구성 요소라고 해서\n",
        "사용하려고 찾아보았는데 \"torch.tensor\"와 \"torch.Tensor\"\n",
        "2가지가 있더라구요! 무슨 차이가 있는 거죠?\n",
        "```\n",
        "- [Documentation main - PyTorch 공식 문서](https://pytorch.org/docs/stable/index.html)"
      ]
    },
    {
      "cell_type": "markdown",
      "metadata": {
        "id": "JXqdRH8h4uZc"
      },
      "source": [
        "```python\n",
        "🙃\n",
        "# TODO : 맞고 틀리고가 없는 문제입니다. 문서를 읽고 답을 자유로이 적어주세요\n",
        "torch.tensor는 tensor내에 data를 넣어서 반환해주는 함수로, torch.tensor()를 했을 때 error가 뜨는 반면, torch.Tensor는 빈 tensor를 반환해 주는 것이 가능한 함수로, torch.Tensor()를 해도 error가 안 뜬다\n",
        "torch.tensor(data, dtype=None, device=None, requires_grad=False) → Tensor\n",
        "추가적으로 Tensor(data)를 하면, default값으로 정해진 형(실수형)으로 반환하는 반면, tensor(data)는 data의 형에 맞추어 반환한다\n",
        "```\n"
      ]
    },
    {
      "cell_type": "markdown",
      "metadata": {
        "id": "reS_xSGFCMkj"
      },
      "source": [
        "![image.png](data:image/png;base64,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)"
      ]
    },
    {
      "cell_type": "markdown",
      "metadata": {
        "id": "f3MnmB0zE-TK"
      },
      "source": [
        "#### 👨‍💻 <font color='green'><b>[ 코딩 ]</b></font> 사칙연산 계산하기\n",
        "\n",
        "``` python\n",
        "🦆\n",
        "저희도 이제 드디어 PyTorch를 이용해 코딩을 시작하네요!\n",
        "간단한 사칙연산으로 같이 시작해봐요!\n",
        "```\n",
        "- [Documentation main - PyTorch 공식 문서](https://pytorch.org/docs/stable/index.html)\n"
      ]
    },
    {
      "cell_type": "markdown",
      "metadata": {
        "id": "dgoOCMtbJHEL"
      },
      "source": [
        "##### 💡 더하기 (add)\n",
        "> 🦆 부덕이가 코드를 작성해주었어요!\n",
        "\n",
        "```python\n",
        "🦆\n",
        "5 + 7 계산을 먼저 제가 해볼게요!\n",
        "```\n",
        "\n",
        "- [torch.add - PyTorch 공식 문서](https://pytorch.org/docs/stable/generated/torch.add.html?highlight=add#torch.add)"
      ]
    },
    {
      "cell_type": "code",
      "metadata": {
        "colab": {
          "base_uri": "https://localhost:8080/"
        },
        "id": "K5-9T-fjE3a_",
        "outputId": "c495bf65-6108-43ee-9fcb-1c2fdcc2a1e4"
      },
      "source": [
        "import torch\n",
        "\n",
        "A = torch.Tensor([5])\n",
        "B = torch.Tensor([7])\n",
        "\n",
        "torch.add(A, B)"
      ],
      "execution_count": 1,
      "outputs": [
        {
          "output_type": "execute_result",
          "data": {
            "text/plain": [
              "tensor([12.])"
            ]
          },
          "metadata": {
            "tags": []
          },
          "execution_count": 1
        }
      ]
    },
    {
      "cell_type": "code",
      "metadata": {
        "colab": {
          "base_uri": "https://localhost:8080/"
        },
        "id": "9U9Wd_2oCLVR",
        "outputId": "b3304f53-1222-40f9-e6b1-7711f3d046b1"
      },
      "source": [
        "# 🦆 torch.add를 + 연산자를 통해서 사용 가능해요!\n",
        "A + B"
      ],
      "execution_count": 2,
      "outputs": [
        {
          "output_type": "execute_result",
          "data": {
            "text/plain": [
              "tensor([12.])"
            ]
          },
          "metadata": {
            "tags": []
          },
          "execution_count": 2
        }
      ]
    },
    {
      "cell_type": "code",
      "metadata": {
        "colab": {
          "base_uri": "https://localhost:8080/"
        },
        "id": "kq9h3ucECtoe",
        "outputId": "74f7f544-b4fe-45e1-cd5b-682bc6fe537b"
      },
      "source": [
        "# 🦆 계산할때 피연산자(operand)중 하나라도 tensor가 입력되면 결과는 tensor로 나와요!\n",
        "A + 7"
      ],
      "execution_count": 3,
      "outputs": [
        {
          "output_type": "execute_result",
          "data": {
            "text/plain": [
              "tensor([12.])"
            ]
          },
          "metadata": {
            "tags": []
          },
          "execution_count": 3
        }
      ]
    },
    {
      "cell_type": "markdown",
      "metadata": {
        "id": "W-eAr6c7GEHl"
      },
      "source": [
        "##### 💡 복잡한 사칙연산 계산\n",
        "```python\n",
        "🦆\n",
        "(3 + 7) * 2 - 5 / 10 은 무엇일까요?\n",
        "연산자(+, -, *, /) 없이 함수를 사용해 계산해주세요!\n",
        "```\n",
        "\n",
        "각 사칙연산은 torch에서 어떤 이름을 사용할까요?\n",
        "- `+` : [torch.add](https://pytorch.org/docs/stable/generated/torch.add.html?highlight=add#torch.add)\n",
        "- `-` : [torch.sub](https://pytorch.org/docs/stable/generated/torch.sub.html#)\n",
        "- `*` : [torch.mul](https://pytorch.org/docs/stable/generated/torch.multiply.html?highlight=multiply#torch.multiply)\n",
        "- `/` : [torch.div](https://pytorch.org/docs/stable/generated/torch.div.html#torch.div)"
      ]
    },
    {
      "cell_type": "code",
      "metadata": {
        "colab": {
          "base_uri": "https://localhost:8080/"
        },
        "id": "a-1cyVz1CiCK",
        "outputId": "c28e07bb-d5dd-4e57-b39f-926914e817e9"
      },
      "source": [
        "import torch\n",
        "\n",
        "A = torch.Tensor([3])\n",
        "B = torch.Tensor([7])\n",
        "C = torch.Tensor([2])\n",
        "D = torch.Tensor([5])\n",
        "E = torch.Tensor([10])\n",
        "\n",
        "# TODO : torch 함수를 이용해서 (3 + 7) * 2 - 5 / 10 를 계산해보세요!\n",
        "# 정답 19.5가 나와야 합니다!\n",
        "\n",
        "output = torch.add(A, B) # 1줄에 torch 함수 하나씩만 사용하세요!\n",
        "output = torch.mul(output, C)\n",
        "temp = torch.div(D,E)\n",
        "output = torch.sub(output,temp)\n",
        "\n",
        "\n",
        "# 아래 코드는 수정하실 필요가 없습니다!\n",
        "if output == 19.5:\n",
        "    print(\"🎉🎉🎉 성공!!! 🎉🎉🎉\")\n",
        "else:\n",
        "    print(\"🦆 다시 도전해봐요!\")"
      ],
      "execution_count": 4,
      "outputs": [
        {
          "output_type": "stream",
          "text": [
            "🎉🎉🎉 성공!!! 🎉🎉🎉\n"
          ],
          "name": "stdout"
        }
      ]
    },
    {
      "cell_type": "markdown",
      "metadata": {
        "id": "m7w_YfK6HXQ9"
      },
      "source": [
        "#### 👨‍💻 <font color='green'><b>[ 코딩 ]</b></font> 인덱싱 (Indexing)\n",
        "> <font color='yellow'><b>[ Optional ]</b></font> 문제의 경우 🔥 매우 어려울 수 있습니다 🔥 Documentation만으로 도저히 이해가 안가신다면 구글링을 허용합니다. 난이도가 높아 시간이 많이 소요될 수 있기 때문에 여유가 되시는 분에게만 추천드립니다.\n",
        "\n",
        "``` python\n",
        "🦆\n",
        "tensor에서 원하는 값만 가져오고 싶은데 어떻게 해야 좋을지 모르겠어요!\n",
        "파이썬에서 list를 indexing(인덱싱)하는 것과 비슷할까요?\n",
        "```\n",
        "\n",
        "- [Documentation main - PyTorch 공식 문서](https://pytorch.org/docs/stable/index.html)"
      ]
    },
    {
      "cell_type": "markdown",
      "metadata": {
        "id": "LZ0zV31lX6zN"
      },
      "source": [
        "##### 💡 index_select\n",
        "\n",
        "\n",
        "``` python\n",
        "🦆\n",
        "[[1  2]\n",
        " [3  4]] 2차원 텐서에서 [1  3]이라는 값을 가져오고 싶어요!\n",
        "```\n",
        "\n",
        "- [torch.index_select - PyTorch 공식 문서](https://pytorch.org/docs/stable/generated/torch.index_select.html?highlight=index#torch.index_select)\n",
        "\n",
        "🎁 **힌트** 🎁\n",
        "- tensor를 원하는 모양으로 바꾸고 싶을때 [torch.Tensor.view](https://pytorch.org/docs/stable/generated/torch.Tensor.view.html?highlight=view#torch.Tensor.view)라는 함수를 사용하면 됩니다!\n"
      ]
    },
    {
      "cell_type": "markdown",
      "metadata": {
        "id": "W-Nvh8w96nei"
      },
      "source": [
        "![image.png](data:image/png;base64,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)"
      ]
    },
    {
      "cell_type": "code",
      "metadata": {
        "id": "SvQOq6u-7ZBT"
      },
      "source": [
        ""
      ],
      "execution_count": null,
      "outputs": []
    },
    {
      "cell_type": "code",
      "metadata": {
        "colab": {
          "base_uri": "https://localhost:8080/"
        },
        "id": "wIDKrXzXZs07",
        "outputId": "2135edbe-2ef6-4ac4-fb5e-672f8013b6a2"
      },
      "source": [
        "import torch\n",
        "\n",
        "A = torch.Tensor([[1, 2],\n",
        "                  [3, 4]])\n",
        "\n",
        "# TODO : [1, 3]을 만드세요!\n",
        "indexes = torch.tensor([0])\n",
        "A = torch.index_select(A,1,indexes)\n",
        "# torch.index_select 함수를 써서 해보세요!\n",
        "output = A.view([1,2])\n",
        "\n",
        "# 아래 코드는 수정하실 필요가 없습니다!\n",
        "if torch.all(output == torch.Tensor([1, 3])):\n",
        "    print(\"🎉🎉🎉 성공!!! 🎉🎉🎉\")\n",
        "else:\n",
        "    print(\"🦆 다시 도전해봐요!\")"
      ],
      "execution_count": 10,
      "outputs": [
        {
          "output_type": "stream",
          "text": [
            "🎉🎉🎉 성공!!! 🎉🎉🎉\n"
          ],
          "name": "stdout"
        }
      ]
    },
    {
      "cell_type": "code",
      "metadata": {
        "colab": {
          "base_uri": "https://localhost:8080/"
        },
        "id": "Co8YFuVtaVZr",
        "outputId": "30d0a55f-ecbf-4fc6-befc-00330f2e3803"
      },
      "source": [
        "# 파이썬 리스트 인덱싱과 비슷한 방법으로 해보세요!\n",
        "output = A\n",
        "output = A[:,0]\n",
        "# 아래 코드는 수정하실 필요가 없습니다!\n",
        "if torch.all(output == torch.Tensor([1, 3])):\n",
        "    print(\"🎉🎉🎉 성공!!! 🎉🎉🎉\")\n",
        "else:\n",
        "    print(\"🦆 다시 도전해봐요!\")"
      ],
      "execution_count": 13,
      "outputs": [
        {
          "output_type": "stream",
          "text": [
            "🎉🎉🎉 성공!!! 🎉🎉🎉\n"
          ],
          "name": "stdout"
        }
      ]
    },
    {
      "cell_type": "markdown",
      "metadata": {
        "id": "TwdiREr_YLEa"
      },
      "source": [
        "##### 💡 2D tensor에서 대각선 요소 가져오기 - 2D gather\n",
        "\n",
        "``` python\n",
        "🦆\n",
        "[[1  2]\n",
        " [3  4]] 2차원 텐서에서 대각선 요소만 가져와서 [1  4] 1차원 텐서를 만들고 싶어요!\n",
        "\n",
        "indexing을 통해 해보려니까 왠지 모르게 안되더라구요!\n",
        "친구가 \"torch.gather\"라는 함수를 사용하라고 귀뜸해줬어요!\n",
        "```\n",
        "- [torch.gather - PyTorch 공식 문서](https://pytorch.org/docs/stable/generated/torch.gather.html#torch.gather)\n"
      ]
    },
    {
      "cell_type": "code",
      "metadata": {
        "colab": {
          "base_uri": "https://localhost:8080/"
        },
        "id": "kwx3LEqKbU9M",
        "outputId": "a18cebef-27bc-44ed-d9d9-fe5705f1e3bb"
      },
      "source": [
        "import torch\n",
        "\n",
        "A = torch.Tensor([[1, 2],\n",
        "                  [3, 4]])\n",
        "\n",
        "# torch.gather 함수를 써서 해보세요!\n",
        "output = torch.gather(A,1,torch.tensor([0,1]).unsqueeze(axis = -1))\n",
        "output = output.view(1,2)\n",
        "print(output)\n",
        "\n",
        "# 아래 코드는 수정하실 필요가 없습니다!\n",
        "if torch.all(output == torch.Tensor([1, 4])):\n",
        "    print(\"🎉🎉🎉 성공!!! 🎉🎉🎉\")\n",
        "else:\n",
        "    print(\"🦆 다시 도전해봐요!\")"
      ],
      "execution_count": 25,
      "outputs": [
        {
          "output_type": "stream",
          "text": [
            "tensor([[1., 4.]])\n",
            "🎉🎉🎉 성공!!! 🎉🎉🎉\n"
          ],
          "name": "stdout"
        }
      ]
    },
    {
      "cell_type": "markdown",
      "metadata": {
        "id": "SHpq-zKFdQ8j"
      },
      "source": [
        "##### 💡 🔥 <font color='yellow'><b>[ Optional ]</b></font> 3D tensor에서 대각선 요소 가져오기 - 3D gather 🔥\n",
        "> PyTorch 숙련자에게도 약간 난이도가 있는 문제입니다. PyTorch에서 다뤄지는 대부분의 tensor는 3D 이상인 만큼 시간이 될 때 한번 즈음 연습해보는 것을 추천드립니다.\n",
        "\n",
        "``` python\n",
        "🦆\n",
        "2D에서 성공적으로 대각선 요소를 모아서 너무 기뻐요!\n",
        "3D에도 적용시켜보고 싶은데 가능할까요?\n",
        "\n",
        "[[[1  2]\n",
        "  [3  4]]\n",
        " [[5  6]                                   [[1  4]\n",
        "  [7  8]]] 3차원 텐서에서 대각선 요소만 가져와서 [5  8]] 이라는 2차원 텐서를 만들고 싶어요!\n",
        "```\n",
        "- [torch.gather - PyTorch 공식 문서](https://pytorch.org/docs/stable/generated/torch.gather.html#torch.gather)\n"
      ]
    },
    {
      "cell_type": "markdown",
      "metadata": {
        "id": "EUBzCXRrv3nm"
      },
      "source": [
        "![image.png](data:image/png;base64,iVBORw0KGgoAAAANSUhEUgAAAtEAAACZCAYAAADpXWYvAAAgAElEQVR4Ae193W8UR9b+/BdzuavcZLUXmzujvclG78WCdqVEuViiKMqKlV4hLsbmQ7ZYshgMSYyVJUFvjOWgQLDMD0KAjRUDdkLWAQwva70mOErsBQLe4GAInyayR/Ll+amm+1RXV39U1UyPmRk/SGg+3H361FNPnXrq9OmaHOEfEAACQAAIAAEgAASAABAAAk4I5JyOxsFAAAgAASAABIAAEAACQAAIEEQ0SAAEgAAQAAJAAAgAASAABBwRgIh2BAyHAwEgAASAABAAAkAACAABiGhwAAgAASAABIAAEAACQAAIOCIAEe0IGA4HAkAACAABIAAEgAAQAAIQ0eAAEAACQAAIAAEgAASAABBwRAAi2hEwHA4EgAAQAAJAAAgAASAABCCiwQEgAASAABAAAkAACAABIOCIAES0I2A4HAgAASAABIAAEAACQAAIQESDA0AACAABIAAEgAAQAAJAwBEBiGhHwHA4EAACQAAIAAEgAASAABCoioheKC4S/gMDcAAcAAfAAXAAHAAHwIFG5QBENAQ/FjzgADgADoAD4AA4AA6AA44cgIh2BKxRV1NoFzIF4AA4AA6AA+AAOAAO2HMAIhoiGitPcAAcAAfAAXAAHAAHwAFHDkBEOwKGFZr9Cg1YAStwABwAB8ABcAAcaFQOQERDRGPlCQ6AA+AAOAAOgAPgADjgyAGIaEfAGnU1hXYhUwAOgAPgADgADoAD4IA9ByCiIaKx8gQHwAFwABwAB8ABcAAccOQARLQjYFih2a/QgBWwAgfAAXAAHAAHwIFG5QBENEQ0Vp7gADgADoAD4AA4AA6AA44cgIh2BKxRV1NoFzIF4AA4AA6AA+AAOAAO2HMAIhoiGitPcAAcAAfAAXAAHAAHwAFHDkBEOwKGFZr9Cg1YAStwABwAB8ABcAAcaFQOQERDRGPlCQ6AA+AAOAAOgAPgADjgyAGIaEfAGnU1hXYhUwAOgAPgADgADoAD4IA9ByCiIaKx8gQHwAFwABwAB8ABcAAccOQARLQjYFih2a/QgBWwAgfAAXAAHAAHwIFG5QBENEQ0Vp7gADgADoAD4AA4AA6AA44cgIh2BKxRV1NoFzIF4AA4AA6AA+AAOAAO2HMAIhoiGitPcAAcAAfAAXAAHAAHwAFHDkBEOwKGFZr9Cg1YAStwABwAB8ABcAAcaFQOQERDRGPlCQ6AA+AAOAAOgAPgADjgyAGIaEfAGnU1hXYhUwAOgAPgADgADoAD4IA9ByCiIaKx8gQHwAFwABwAB8ABcAAccOQARLQjYFih2a/QgBWwAgfAAXAAHAAHwIFG5QBENEQ0Vp7gADgADoAD4AA4AA6AA44cgIh2BKxRV1NoFzIF4AA4AA6AA+AAOAAO2HMAIhoiGitPcAAcAAfAAXAAHAAHwAFHDkBEOwKGFZr9Cg1YAStwABwAB8ABcAAcaFQOQERDRGPlCQ6AA+AAOAAOgAPgADjgyAGIaEfAGnU1hXYhUwAOgAPgADgADoAD4IA9ByCiIaKx8gQHwAFwABwAB8ABcAAccOQARLQjYOkrtHO0LZejnP5/67kyiHmLDrwcY+vlPrqZ4PPNgy9Fr517iQ5ct19VyfZ91RFjK0fbvkqylWXbFynTtiTgJduKv0f5eb2PXtR5nMvRiwdvRY9tNPwybftyHscObX+q8cbBT5/rmcYn57YnxWB8j5gODiw1ByCibQQAB7kUAet1nKOQvNJLLz6To9wza+jwlE7+JQjsj8bo7efzlMv9ktZ+ei8sjrjNmpCqSERLmx00YsA900nKcK2sBt3981/SmrcG6LV3R+nbx3p/1sbn26eG6I9vDVD/vwz+OArJ2aHN9Lt8jvLPd9DIfYNt5/4IxlUy/zK8ZqZtb7xxPLLVX9wbkwMObZexIZw4SO7vgBOhpEWKTzePrKFf5ARH99DFEAcd/PTPM8YnySGLJIZz2zPkeggHxe6dL6iz0Eztx6ZpofiAhrqaqdB+nKbmlWOSzk35fm78EG1paaZCyy4amkm3NX2mh9o3NVOhEPzvHUs/xzqW/zRC7wi7O07TdIy/Ln5aXzPmOjV17k/f0dC+XdS60cd703ba+9k1eljrfj9l/yCibTqAg5ytiDYe5wUCNRCbM3z+pJFim+0lTzxaAOJ2CaGcMvmIgW62bfZvQV7PLKL14OJN3BYTkk1/VumYhhTRBl5wP0lhlUu7W6Hxz7ofAsFkzW1r2zE+sQCqStvN48Q81jSf5bhamnEs+9oSH+bIQtHcdj7WjIG9Lc+mKpRNccRs2+gfc6iMO4FG25Vw2/Lc68e2U6Gwi4buLNLC98epvdBMnZ8/CCdaLG1xn4rX6c/eLInijTsG0gX5xCFqVcSzJ6R305mfNO6X4YPwY+5cT8mP1v7vYttk7WeZ11cxqYX3DyePU6dY3EQwb6Z3zlTe77XQxmr5ABFtMwh4kkoRsF4HmYNvqCNTM9F6sDDbdg6+aZloDRezbbN/jS6iQ32r4Vcrf3PORFsKpYbMRFel7eZxYh5rWmxY4nFcnyJ6kZIz0RqeFmLf2Ef1LKLnJ6ivtZkKPZdorrhI431tVGjpoQtzOk7V+zy2zxN0+8erc41v+ttKgjGzzHaNxnureefRedpbujuwnfaPztCcuNsw/4C+OeIteAqdp+nHem5flX2HiLYAeLJ7lVcfnLWItrh2MAiqMPk6XN84aVhMPBDR1ZkQAo6Y7Bfp2vGTbuUclkLS3geTj3F/97lflSx3zPVYAFWl7fU/jutVRNtzNIM+Yg7VYSZ6blRkaduo7+tFWpi7VBJYrX0TsRlbe0xjxlni/HONPvmbENE9dLYqwp3tZ5fZrg4OLpiVe+w8je0TC4o26v3fJ+E+/uE07UwpeanfNpeLVfx5jSWiZ8aoZ8NL1CTqjEXt269X0drdw3TzZ6XxMrhpJQWcbc7538vP4Ro9tf4uWoJhDr4L8vqqXdPtReG/2bZZ6Kq3NNXrm2/Bm22b/YsX0ffoVOsKr7/+0EUXxe3DmODqTdw2OMWfH2czk+/+dbYkSkWdsfz//hjd1tswPUY7xDHvj9F/Zibp4+5Bek3UT3cNUf/5H0NtvtIvbA3R8I2f6MqRIVrb6dne0DNKV2aKwbFss38y+E5cl33yv+fss/RP9dV/H6mRZp6mCcnYMaKNK+GPPK6DRn6+Soc3rCrVpuaeWUVre8e0mrt7NPLWGn8M5+nZP3XRyIzPrYiIvkeXj3TQn5t+6S1y87+ilf+9h05NKxy4f462NXlcb9p6LrjWozH/+zytPng1jF+Wbdd50ADjOFZEzwxTWwnnPK3sGqPZSLvtYhiPyWzjTTjW5TJIhhj9Yw6FRPQTutz9CuVF+VzTupjnYDzeGm3HYqtwvpy/z5wu1UDL2/ldX9Dd4iLd/XxX6BZ/+8BMeKyYrvXv47RFLxH423Ga0s8b2xe6jvRDObesrPHtS3R493baWCpV2ERbukdo+k5MPbSVn/N0truZCq2H6MLXH9NOUTu8fYCuzz+gC31v0MZCM23s+iK2xpp5XXOvfu27qHe/rvcJRLQV1xtHRE/10eq8Fiz5obgm5WEnGdy0yV6d6AWZ5OcEm7E7FVgISXl91a6NODTbNgffWhPRV+nEOl9Av9pLl1MeSKtcRAdCTF0Iqe+jiyKLiYkFqypMU0X0P2n/HkVwl84bpP7xn+WA9UT0SdrVPRgIc7b/97PBQ4t1J6LX07atz3mCl8dmLk+rD/GOH0/oYofHB7Vfcr9fRSv944Oa6Cc0sjXmWHFcfhX1XFH6bop3GllB274S2Zbg3JCw5kmEx2gWCwi2KV/rfxxHRPTUAK31BfTq7olgoSLbzH1hbjuLDHMss7CVFMOfioh+Qhe7VvkCejOdSnmoztx2xjO7V64RZvG6d3SeForT9Em7WifbRn0Tbtf88WRYhJfs7xuXsY77e+roGwYRXUbWePp0bJ3vzh1emYJaD23l5/w49Qox/l4P7ZH1w9up9wO/7KEk+PfRWIT36Zhx6QpjH3nlRQeLWmVhoR+795zot/TrqX+/e2Z3CfctR69Fz/tff2HzwaXo3xyuoV6vEd83iIi+RyfWiV0mcpR/tZcu+gHq4fUBPzuSo5W9fraJJ0jOODMZZMDVxLXyUF0WGYwQiaQvSyWi9cEVCMtAnOjHeJ/Ngd1lUhMYqwK6jybVuwXcJ8przYpoxccFFrVpIvqtITox4T+o8WSWRg94Qvm1I0E21BPRA7Thowm6/Vhknov0+MYE7f+7J77f/9I/n69nyESrnGPbkcyz2g7xnrmZJiTVc1LGT7AgXUFtn/qC+dFVOvCqN2Zzrx71tm28M0BrfbHctHWYZn1OzF7aI7fbkzy91EXPiWNf3iPHuxDHN4+t975//WgoGzp50M8A/mYznfi0g5rEuU0ddPFRDN+zbLuKUem9eZyYx5ru89KO45CIVgX0hwGHVc4F781t52PNGNjb0m1mEceN/jGHSploVUB30EjC3TbdT8n1CIf0/s/q8zyNf9RWyrSOi7rYr72H+/ae027zu/ij7ObBQtkk9FhUVlYPHSwAOo9+Rz/6ZSFz0yO0V9R7F5oplNm28dPPVrf3TdDd+UW68IGw00a9ow9oYf4aHRYlKK2H6BsXfIrfefXnKcK44C86WPDqwjn4/CYN/uDCBT+zzlj88AV1iuz6Fu9OAdeNd568AxGd0qeNIaIfDVOLP/nqgWfyQ3/vZM4+yOCmieUUEcABM4vgy4Gy9Cp9WW4ieg21+SUcud/uocspBGW8KhfRLsGlzGNZ1KaJaP1vE6NUEFlmRQgH5RxhPx6f/9LLTPOxfD3+zDhydlz/vrhIT1dEh8dcZFyNdniZutx6OhUSt1GReLFLz2ird3bE+3V0IiRWntCpDb5oF7Ei/wodiGwr6ePN4zKLBQT3iXw1iz/GRY9lPBair1F8osd4bTPbNvsnRfRfNsskRdNum5pZs232Ows/2Ra/ss0s4jjbSuwj5lDuBWpp9RdwEU6Gx7fuZ6JtyaX489mO7SuLWxZj3rZ283ShR81Cl5EJDvl5hwY7hT2T0GNRWWE9tL8AKLx3XrszYqqHTvbT27GD/Q9KOzzRPEH7RXa6rrK2vs9+7fnDr/7Hy0r3TdBccYb+sV3013b65PtseGbLx3o7rjFEtAxY0dpeDnY5zjzLY8MTepAt075HJrq0CmUckwO7xQQpFyqq4ImpSQ0FX28AVy6iA6ERKhXwF1/iu7LKOVRfWdTqQlkck/Q3/l4RvFJEq7W9woYujmPOLQUg/TjFx5oW0ZIf+hgM+o75J4Wc0n/hfo1ZmP7fHi8DncvRs63D2uSqTBQcIyCiYzNQsdinLUok/yxihH9sJvFGXtfrW7a5tCJajXU5ii0fSvCTuV5dUcGikQWzv60d18pyhnT7QGW1vnPnaa+wxaUJWptlG7lkocIdITiLGtmezbA/9EKin5po5tIOFs1+ljpyvaR2+t/bZ5d5ccH9FPMaUyYjcY3zg+vg4/rW39YwaR/tVLtx12rg7xpDRJeVidayXYkTeLBHchbBN0Q+nqxDD58ok3mIeOYJiCcJ++AbFSch/5Trm22b/QsWKito7bGrNDu43s88rqKeb5Pa7X2/LEX0jTAmiZno3it0X+mriNhW/lbTIrqcTPRfbX8NVCkfKQlvtRY7jHOmpSwK9t7YMo8T81jT/OWHFSMPXurHBbEsOUaY/ZMiumkdnZi6F2T4f99Lk5H2qj6YbXP8MWNgb0u3mUUcN/onY7v/oOW3vX5df55aBtPLI4y2UzFW8bZ8X9rSLLytXWif6CyuN/6RV/NsEHosKmNrdK39mKHBHUJkttHhyTAGXPut1kMzP0qvSX6yaGb/NdHs1VRvp3/oiQ+Dz1y6wncBIq+86ODFBS9qYl5NZTKhdgq/2GZERD+hCx94WwBWVMpjaHvEnzo9vjFEdNGhJnr6KK3mSfTDq1426tEtOrGBbw/rWbBg4ski+IaIIwNtTNYsQijzpOEefH2bSzT5BiKaMQ4e8BL1qWm/dFe5iA4H01A/RLAu81jODGeSiXaoiRZ11t889LKGj/9DI73+A4lKdpvbW9Miupya6PwqevurezKrPHvlKLX9SX9wK+CZyATe/HKzVzedlD3lcYlMdHommvFJ2gElMq7MMYx5ao5l9rZ0m1nEcaN/zCElQSLr8pN45+NltB3Btcx4pdgJbWun7RPN+FXyyiUjJqHHorKyemgW0c3U3jdOd58IfObp4ffnae9mL4MbqodWcEj0UxPNXmkHi2YtS63YqwSzqp/LWXe/rlvsCb4wd4e+Oeo/DNoZ/2uOVferXvDz/WwQEb1IC7a7cxTjdqhYQds61vu7BrDACwLT7Kfr/Ixp+NZc9Pa/RWCXwTVsK7gVHb2+R1qzbffg69t8aiJ6kRaUCTi/IfkWe82KaC6d4N0z9FcW1EkCm79XBK8ndC125yjO0vD7MTt99Gu100pQuj3s/ey3vt1d5EFD5ikLJcWGDKLy7k0Cl/k5BHlcmNvM10DUZLQ7Ry5HTW+NSQH4kEWzXKgFojrX1KX9BLTlQ5WyTYa2R3Cr/3EsM9EKNx5+5T+smUvLtJrbztxiblSSMWdb/Mo2A74FMZ6P8V7NfrKtRP94/CgieqGo3A1JydobbUc4ldQO2++Dn/UW25yFBHXZ1+J625iyg1IW1S8bKXKNctJxXINs2xbvOBbjoczu5jdpZ0lEq/Xddn42Xj20wEmve1f6YPshGg89l+KGf3g8Nfa5jSOixWC32SdaHHdnjN59fYXcq7bl2FVlS7vwRO+R4R6d2rqKntW20IOIVgeHeeKJZqL985VbnZE9e/0gvvxEtMU+0QKb+9docN9JWiPEe+dJ6j11gx6zsFeEuQxq92/QYK+3R7UqpGtDRAs+lLFP9PO/8he5eXr2D+vo3SHeMk9dXK+gbaPKbXRl8RapU2UBpIhEiZ/Px4DLENGMjfxRqsRMq0WM8PE1C0l7W+wf23x6IlqM12Fq8eeRCO+s267G3Qzeh37WOyyoGTvnVz9zGxKxagmCbZmC824XPh6PJuhwV1tp7+ZCyyZq7z5NU9OW+0NH/NQyzVzaUWE9tDOmHHuyfH10jQa7eR/tZtq4eRf1fv5dafeRmvAvy7ZWyVZjiegqgWRPJj+w6w87pU3GiT7HZczFll593nZgMefJSSJ0/bRSkcDfSEYlIdMWOU76EdgKsuo5ypXVdqWExrotGUwmsi1P15aXiR6iYcf6OnueWrSPhWQI/wwevqwRjFOxyrTty3kcO7R9CeKNjI+RGOrgp89faSs0PtJibcqYc257iq16GF/wUd4lS41DwKkucIKIzpSoWQrJpQjsgb8Rcewc2ANbENGVTXIQ0ZXhV/HEBBGt/SBOuYthhxi2BPFGCl+I6LoQJxWP40zn9qcck9CWmuUsRPSyImfCpBaq20OweNrBuyZE9LIaF/XGeYxjqzGaIMzzZd4ds7omxk3Nih30X73FufrwFyJ6WQW9mMn3mVVUqglfVjjU9uCEiK7t/nn6kzHGsVUfRER0np790x66eB/8ssIPcwIWBOCAkQMQ0SCJkSQIuJh0wQFwABwAB8ABcAAcCHMAIhoiGiIaHAAHwAFwABwAB8ABcMCRAxDRjoBhFRZehQEP4AEOgAPgADgADoADy5EDENEQ0Vh5ggPgADgADoAD4AA4AA44cgAi2hGw5bjSQpuRYQAHwAFwABwAB8ABcCDMAYhoiGisPMEBcAAcAAfAAXAAHAAHHDkAEe0IGFZh4VUY8AAe4AA4AA6AA+AAOLAcOQARDRGNlSc4AA6AA+AAOAAOgAPggCMHIKIdAVuOKy20GRkGcAAcAAfAAXAAHAAHwhyAiM5URJ+jbbkc5fT/Zf3MbMyvkgm7L/fRzQSfbx58KXrtcn/SO/JrX167tn0VJlAwoLJs+yJl2pYEvALfk9q0jL+/3kcv6jzO5ejFg7fKyFS4c2Nka8w4ynXQyDLoy0y5/1THcb3EsHrxcxnHo2Uw7jEf1Se/IaJtBidPRCkC1hsAjmLhSi+9+EyOcs+socNTOoGWILA/GqO3n89TLvdLWvvpvbA44jZrQqoiES1tmsVQpkLCpo8zOOb++S9pzVsD9Nq7o/TtY70/a+Pz7VND9Me3Bqj/XwZ/HEX07NBm+l0+R/nnO2gk8rPKjuOiuEhuInqCel7+ZYnHfz50NczjDPpVctE4/g2YWvoirxcaey/Rgetx9u/RqdYXKJ/L0+86ztFD/RpyzIUXJRWNY+0aN4+soV/kRN/voYuhv1UhhkleJuGhYGTd9nrxU2lbCOcqfH/nC+osNFP7sWlaKD6goa5mKrQfp6n5yq41N36ItrQ0U6FlFw3NpNuaPtND7ZuaqVAI/veOpZ9jLUR/GqF3hN0dp2k6BksXP62vGXOdWjt3+sz/UKvEezed+SkjvOug7eX2BUS0TedyMDZOor5YMB7nEVOdLM0ZPrNttpc8QWoDgtslJmtDttxs2+zfgryeWUTrhPZElcXEadOfVTqmIUW0gRfcT6roNfKPhVCKbaf+ZnuCx5Zjj/22eWXuV8N23PX5ekYcSzxWFyjmcWW2bTGOQ+NHFaCm8Wm2bfRP9rXpWlqsKwZ3t8y41ouf0TbG8amc764f206Fwi4aurNIC98fp/ZCM3V+/qDiBer0Z2+WRPHGHQPpgnzikCLmWERnJ+rmzvWU/Gjt/y62TdZ+hsZC9fqjnD50O+cJjfeLPmeskxcYbnbrGRM73yGibQYBiz/jBG0OviECpmai9Q402zZOQHpb0zLR2rFm22b/Gl1Eh/pWw69W/uaciU4Rumqb0jPRGpdZCKXYdhLRxcbMRJvFnsDVkInWeJjJONZtJmaitX4vmmOE0T/mThllakbbsl314qeOb0af5yeor7WZCj2XaK64SON9bVRo6aELcxnZlzgn2xvb54m5/ePJx6jxx/X9N/1tJcGYWWbbok2uPi7Z8fN36GyPh0dh8z4a+seu1AXGkvlVJ5hCRFt01GT3Kq/WOGsRbXHtgLAZBHan64WDl3kCMvsHER3GNOjbpfq+SNeOn3Qr50gRumX7z0IoxbabiK4ufsz92sxEu7Wd25Is0C3GcdlxxGzb6B9zByI6NoNa9phU+nRuVGRp26jv60VamLtEe1uaqbVvomrXi/p8jT75mxDRPXS2KsKd7WeX2Y62wW1cPr3z79CZdzZ5GegtH9HYo0XiBQwWGHZ92FgiemaMeja8RE2izljU6P16Fa3dPUw3f1bAkEFYu/XJ2WZ+eEl+DtcSqg8NRkswzJPEgry+atfm1qTZtnECKqq3XtXr5yh5UvWwM9s2+xcvokUmbYXXX3/ooovi9qES0Pl9LYkq9qn0+q+zJVEq6ozl//fH6Lbehukx2iGOeX+M/jMzSR93D9Jron66a4j6z/8YavOVfmFriIZv/ERXjgzR2k7P9oaeUboyUwyOZZv9k8F34rrsk/89Z5+lf6qv/vtIjTTzNEXoBv2pckkbVzoO4rOFbXN/x3M5OiaD4148eJVmR/fQ6l+L5wDy9OyfOuiU9izCwyt91PKHX1FelIY8s4paDk7QZX5gV19ETw/Tu/+9ip7Ne+3/RdMa2nZkgmaVNj/8qoOaSrXNK2jbV09kPz0c9b/Pv0IHNB/MYy2hZjytr3yfzLZdxrHa7zalNGbbRv+YOyER/YQud7/i9VnTupjnS2xjGMeeevGT/c3gdeZ0qQZa3s7v+oLuFhfp7udeVpK/bx+YkRwOxUGF86Hv/32ctqglAuL9347TlH782L5wKYF+TqGZyhJ1ty/R4d3baaOowy5soi3dIzR9J6Ye2srPeTrb3UyF1kN04euPaefGZipsH6Dr8w/oQt8btLHQTBu7voitsQ5horf9KX8uiebO4zT1SPDoO+8uRAELDNs+axwRPdVHq/3JTBW6pfdNysNOMghrk70Uzf738rM2UZQmRO+76IRtDr5SQCh2cqEJISkgmm0bJ6CaE9FX6cQ6X0C/2kuXIw+kBViYRVVwbDz5ffxCuIf7NtqfJpuKYFWFaaqI/ift36MI7tJ5g9Q//rOcnDwRfZJ2dQ8Gwpzt//1s8NAiRHRkN5poHyoiemtHdMeRpg66WJo8hLg/GhND8rTy9y9E70SlxJumDcMhIT35ob9rDseh++doW5PgXlhYM2/N4xgiOoiZT+hi1ypfQG+mUykPq9ng6vVBBrFWzjOcIKmGnxbxyVKgcY0wi+W9o/O0UJymT9qVGlmRnZ5wu+aPJ8MivGR/37iMdcz5qaNvGER0GaJu+jR1lsSz2oZm2rnDq8tW66Gt/Jwfp15h770e2iPtbqfeDzx7Hnb7aMwSc247Z34Z+8grLzp+OE07YxYX6vF7z4l+c+ujhelpuv7EP4evkfDApbNtV1/q8PgGEdH36MQ6kV3KUf7VXrroB9KH1weorTRZ5Whlr//UvgxuBhGtdCYHX/PtXHPwDZFQ+sKBNo38ZtvspymrHPgQCEvTOWbbZv+CzKXAXhXQfTSp3i1QsGdfa1ZEq76yqE0T0W8N0YkJ/wGdJ7M0esATyq8dCXaV8ET0AG34aIJuPxaZ5yI9vjFB+//uie/3v/TP5+sZMtGMoXhl25HMs9oO8Z65aZHdLNmXi05tXOl2LW279bcilCNb8AV/E7Hhsn+nY3aIM8R52jbqjbuLXc95Yllkh7/1s8aPbtGJDf73MhN9jw6/LkTwc9Ry7FawI8bMGL37svf925fUsXyVDrzqxafn/jpAJ7Z6C8emjrHgXAUn81hTbSuC2qKvzLYtxrHiq+h7tplFfGRbifGIeVlKPKjCtINGEu5iMf+NtmW7zBgYbS2Jn2EecDvLf52n8Y/aSpnWcbELx9few317zwV3UJxtK7t5sFA2CT0WlZXVQwcLgM6j39GPflnI3PQI7RX13npm28ZPP1vd3jdBd+cX6cIHwkcOQBAAAB1+SURBVE4b9Y4+oIX5a3RYlKC0HqJvJI9s+oczv2Ghrwrjgr/ouHtmt2Gh8SYN/mBzzeRj+BrqAsO5z53an+xLvVy3MUT0o2Fq8TOMevCVWSCeAGVw0yb7FBHAATOLSSJEDOnLchPRa6jNL+HI/XYPXbYYdG6i6ikNTBa1aSJa/9vEKBVEllkRwkE5R7gdj89/6WWm+Vi+Hn9mHLVyDpVzy1lEh7PU+gLyFh1+1bsz8bvuYEEjsIuM/zsDtDbljoZYzD/XNRbOCN0fphblTln+1T6a5P7SXvl6eixT+1F9740N8w47aluSbZsFpHpt1WYW8dHYdhkzX6CWVr+EI7eOThgEtOpnctt5vJkxqA0/2d/KXlncsnDztrWbpws9qrArIxMc4vUdGuwU9kxCj0VlhfXQ/gKg8N55baFqqodO9tPbsYP9D0o7PNE8QftFdvqDS+FxH8Kgsn7Sx101PvMCpqzSmTpra1b4NYaIloE1WtvLwS7Htc7yWIjoBX5aPhfFTScY45g8AZknniAT7YkVr+wmT6sPhkWLfm3xuXIRHYgm77qqD977sMgqI+CxqNWFsgguSX/j7xUhLEX0tOaDLo5jzi1hpx+nBDeIaMY04IPH6SBjrfOAuS9FoowhUQ5JbsVkhS/v9jLQudyvqG0oObvH10sea9wG73V5iugw9k1bY/bIVngvxoU9ruZYZrSVwJFs/QzzIC5umr9j0ciC2d/Wzt8nmoW1qP2N20/ZbN/3ce487U2qh1b7icsJOk/Tj+r3ju959413zmjb8hn2h15I9FMTzVzawaLZz1JHrmfwmzO/EudIuQaLdl5ccD/FvMaUyVj3T8lPvkalC6YseFk/NhpDRJeViV5Pp7gWUhAImejUFbRx0mBBzhn/uOAhMV5Ba49dpdnB9V4tY24V9XybPmiWpYi+EcYkMRPde4Xuq3hDRCtcThLHURHtnol+KfJQYOKkpddQ51+hw7E/nuIi9jx+LE8RnaeVXWM0+20vrSzdFchTy2DywkT0izmG8XjLUkRX00/2t8JXUcqgbWsX2idajS3lvh//yCtFMAg9FpVbjl5TxrBr+2ZocIcQmW10eDJ8Ltd+J5YrJPnJopn910SzV1O9nf6hJz4MeHHmN1FEV7seWvWPFzCoh3biXmOI6KJDTfT0UVrtB93VH171bvWodY+csVbIxcFXZqKUv4UnTXPwDR0vsxXLrZyD7wI8oRG/PjTHD10lYFu5iA4H01A/JFzT+RjODGeSiXaoiRZ11t889Ab+4//QSK//QKKS3ea2IBPNPNBF9CK510TnqGnd0eCB2Ee3aGT3Gvpz90T4FnLoQcJbNPJXr8Y6qaSD4w0y0dxXymtMzJw86Jd1xOx0wrwXr/a4muO40daS+KngUmEMC21rpwlqFcNy33PJyNLUQ7OIbqb2vnG6W3pobp4efn+e9m72MrhJ5QqJfmqi2SvtYNGsZakr7ItyMa70PF7AJC4w6rRdleJiOr9BRPQiLeiZHrVmMSTQgsyUvPUqnpLvWO8/6c8CLwhQs5+u8zOm4VuI+m1fWR6Rlo2VwTVsK/Alen2vEzMI7JFBEBUSSYQxThpOmWiljVJg5Ci/YTgsPhR/a1ZEc9aXd8/QX1lQJwls/l4RvJ7QtdidozhLw+/H7PTRr9VOKzjeHvZ+9lvf7i7yoCHzNKYsQXJE3llI4HLSOLCwbe7vuHEc9iO9TCOG+xntzpHLr6HDMiP1RIpmeStf4XyTXjttKfZk9lmNc8r7aGzy4lkm41jhk+AC28wiycC2EhcQzJ3QjkbBg5u53/dmUGueQaxdEj+DOUqOSa1v7L4Pftb7enGRQoK6LHvCL79GOFKewGUIftlIkWuU+Xv9lcsZ3Noam+Hd/CbtLIlotVzBzs+GrIeeHij9EmViFrzQTKZFjx2/3Pqu3mw2jogWg91mn2hx3J0xevf1FfQLMemIvWCPXU0t5yj9KtjWYD9YFrzRicocfOWuB8qEx/a8V0VghgKY2bZxAgrZE8SOERKRY7wBYLZt9i+xZEa5JZtUH20WVU9poFZNRFvsEy366v41Gtx3ktYI8d55knpP3aDH7JMizGVgun+DBnu9PapVIQ0R7fHHfZ/oYF/63DMr6M9bj8odQATmMkuqbqVXXKSk/aPFOeaxxs8IhBcNahyJxqYMx7EWI9jfpyeixTgIHtyUi5UEPxMFujzeHMu4zYm2YkV01n5mFPNCP+sdFtQybkhsLK/pZ24TBZptmYLzbhe+f48m6HBXW2nv5kLLJmrvPk1T05b7Q6vCv+Snlmnm0o4K66HLxta1LxKO58xzYh8VdtFgypaRT9v/Wrl+Y4noBLIsHdiBKFUntFxaNi/R54RMW1J2T5l8Q9cOZWz0ABj4G5kMErKMkeOk/4Gt0PXLansgJEK2Utuit61+Pyc+WCixXoK2SREQFmpJ4ix9jLlzIz7TmrTAXAI8lhB7FmiZcH8JxrH0NxKbliKGpfS9ddvrxc+Uti4hP9PHOnwEPsuLAxDRmQYfd7GQPOCWIrAH/kbEsfUExAMmsBWa/CGinR5SEHyAiE7KtEJEJ8cLHofa6xKMY4hoXmjaPNui9Y+Yf5z7KMZGpvMY7DuPM+DvPM81CsYQ0cuK/AnCfJlkeOtl0NaEiF5W4wKiwWlsJIi+fJkLZqdrg5fLVqyAJ4hTtcgBiOhlFZRjRDTXhC8rHGo7GEFE13b/1GIgX1KfIiI6T8/+aQ9dvI9+W9J+QMzGggIceOocgIgGCZ86CTHxQHyAA+AAOAAOgAPgQL1xACIaIhoiGhwAB8ABcAAcAAfAAXDAkQMQ0Y6A1dsqCf5iZQ8OgAPgADgADoAD4ED2HICIhojGyhMcAAfAAXAAHAAHwAFwwJEDENGOgGEll/1KDpgCU3AAHAAHwAFwAByoNw5ARENEY+UJDoAD4AA4AA6AA+AAOODIAYhoR8DqbZUEf7GyBwfAAXAAHAAHwAFwIHsOQERDRGPlCQ6AA+AAOAAOgAPgADjgyAGIaEfAsJLLfiUHTIEpOAAOgAPgADgADtQbByCiMxXR52hbLkc5/X9ZP4cb8+uCwu7LfXQzweebB1+KXrvcn/SO/CqZ165tXyUN8izbvkiZtiUBr3obrEvq7/U+elHncS5HLx68VUamwp0bI1tjxlGug0bK6EtnLmXa9qTxUqvfu/dVMi+XcwxzaLtzrK1V7sCv5LEAbBoVG4hom0mZg1yKgPUI4jgBXemlF5/JUe6ZNXR4Sh9kDkHYb4OzWHg0Rm8/n6dc7pe09tN7YXHEbdaEVEUiWto0iyHnttj0Y5WPuX/+S1rz1gC99u4offtY78/a+Hz71BD98a0B6v+XwR9HITk7tJl+l89R/vkOGon8/LPjuCgukrOIvn6U/izGUv4FevdSuG3OXHJs+0LqOA774j6RBHGgvAWM6/Ud+yq17YHvocRCShx17qsljmGSl8bEiEPbZVwMLxyTY61rn5Zx/J0vqLPQTO3Hpmmh+ICGupqp0H6cpubLsKXE3bnxQ7SlpZkKLbtoaCbd1vSZHmrf1EyFQvC/dyz9HOvx9dMIvSPs7jhN04p/fL6Ln3xO3b/enqDBfbuodaOP96bttPeza/QwBp+6b2uGbYKItgGTg1xK8PdI5U9AxuO8QKBOGOYJ0myb7VkHX26XEMqGScFs2+zfgryeWUTrg9SbvF6iA9czCqI2/e54TEOKaAMvuJ+kuMjlyMg/Fqkptl37m/kpxJppLBltW/jH7RavLtdWz7N7H4gxU7vs7JnGj8U4VsaFW9vNttmekUPsg4wpSxPDJM9TuBvfD+a283nOGDAWGb5eP7adCoVdNHRnkRa+P07thWbq/PxBONFSxvWmP3uzJIo37hhIF+QTh6hVEc+ekN5NZ34y8dfu73Pnekp+tPZ/F9smaz/LwID7uZZeH4595C1uIpg3055/Vt7vtdTWrH2BiLYZBByojeLYPlCWOjI1i6MHA7Nt5+CblsXRcDHbNvvX6CI668FZDXvOmWhLsZCeida4bCFSjUJX4+dCSiZax9Fo28K/kE2ncaxhobcj8rm2RbRbFt4cI8xxRsNviWPYshDR8xPU19pMhZ5LNFdcpPG+Niq09NCFOQ37CFez+/vYPi8bun88O5vqmP2mv60kojPLbFcRC9XvqryfPk2d4u7A5h46+/2TUp8vzE3TP3b4Gel947ELjar4Uoc4QkRbdNpk9yqv1jhrEW1x7YCoVZiAHK5vntzM/kFEV2dCCDhisl+ka8dPupVzWIpoex8WacFCpBqFrgN3dd+Mti38021W73ONi2infjDHCHOcMXE8+e9m22b/loOInhsVWdo26vt6kRbmLtHelmZq7ZtYQiF1jT75mxBwPXS2KsKd7WeX2a7e+E/mczbXnKfp0Y/pnfbdNDgdvtbU0TdSs/XZXD98zXq02VgiemaMeja8RE2iNjKXo/yvV9Ha3cN082elo3iC1B9S4mwzfy8/h+vU1Nq+6O1VcxCWAiJUa2xTpmC2bZ4kgglZbYd4b7p9arZt9i9eRN+jU60rvP76QxddFLcPYyZmo/CJOSfOTubf/etsSZSKOmP5//0xuq37Mz1GO8Qx74/Rf2Ym6ePuQXpN1E93DVH/+R9Dbb7SL2wN0fCNn+jKkSFa2+nZ3tAzSldmisGxbLN/MvhOXJd98r/n7LP0T/XVfx+pkeZxkiaiY8eIRamOhW1zf/t8C40jMVbNY8lo28I/63HMtoRfU/fo4u5X6Nm8qN3+Fa3eOkyTIZ48ocsH19PKX4vnFHL0i9+vpwNXJujAy14M0uPNzaE9tPYPv6J8CYNfUtPrHXT4/9RnG67SgVc9W/lX+5Rr3aLD/vdNW89pNY8W41i2SY2NZtwXimbb5jjzdGNYrIieGaa2JoFFnlZ2jdFsqE85npnbzrHJjAHbzPB15nSpBlrWH3d9QXeLi3T3810lIcXftw/MhGNNbFsVv/59nLboJQJ/O05T+nlj+0LX4eupr2VljW9fosO7t9NGkWktbKIt3SM0fSemHtrKz3k6291MhdZDdOHrj2mnqB3ePkDX5x/Qhb43aGOhmTZ2fRFbY819Wz+vfh08L6b0/sJnOQ4aR0RP9dFqMTlFJtUc5ZqUh53kBKBN9lIQ+N/Lzwk2Y2svLQKlvL5qd3lMQFERfZVOrPMF9Ku9dDnyQFoQjI3Cxzio/b6J44f/nS5SrAIeC1ZVmKaK6H/S/j2K4C6dN0j94z/LQemJ6JO0q3swEOZs/+9ng4cWIaJjxrt5LBm5xGM0bQHBx4T4FHNtedxLtG1rdPecpo4xKWJvHnrFF8RKbMivopX/5X1W+Tl5MObYki8rqGVIEdL3z1Hbb8T5eVp98GqJY3xuWFjzWEMMS9sBKSKipwZorS+gV3dPyL6Mxg4LXP0Y9jRENNcIs2jdOzpPC8Vp+qTdv6VfEsJt1DfBPLF7/fFkWISX7MeUB3DWk68ffS0ja8xlCpqI37nDq8tW66Gt/Jwfp14hxt/roT0lUS6w2U69H3j2PJ/30ZhxLgpjx6Ur0Tb72POi44fTtFNri37O3nOi38L2y/k8/Znfb7tHSoupcmwsl3MaRETfoxPrOOPSSxf9p34fXh/wMwQ5WtnrTSBBBskgohUiclBLC64eYewDZel4ZYI1PzBnts1+mrLKAbl9m08lE60K6D6aVO8WKNizr0bhE3MOn+u9Bm2NXWjFLoocgxGL2jQR/dYQnZjwH9R4MkujBzyh/NoRn5/FRfJE9ABt+GiCbj8WmeciPb4xQfv/7onv97/0z+frGTLRKg5sO5J51vFjbqYJSfUcuejUxpV6DL+3sO3c32xzqTLR3BbxmnZt+bc8CZFVylL+fI9ObfUWj7l8B10s2Rqjt0tiN0clcfvI456IYS3+91JEzxylPwvB/Jv1dOL6Ezlpzl7a421L+Jsu36Zv46sOaioJ7JeoZ8hPNuRfocOxD+ma44zKp9S2qxiV3ptt13oMC4loVUB/GIzfED4SA3Pb+Tx3DBzjlPRJP2+exj9qK2Vax8UuHF97D/ftPRdwjH20flV282ChbBJ6LCorq4cOFgCdR7+jH/2ykLnpEdor6r0LzRTKbNv46Wer2/sm6O78Il34QNhpo97RB7Qwf40OixKU1kP0TSK+Ot7i83de/XmaOPYXHXfP7DZk69+kwR/iruHy3ROaOrarlFUvbN5HY34csu5vp7a7+FW7xzaGiH40TC1+RkgXkJMf+tkfrmeWk5o22aeIAA5qENFpZR8Wk4TEeA21+SUcud/uocsWA89ZVFnYzDwwsKhNE9H63yZGqSCyzIoQDso5woHj8fkvvcw0H8vX48/cZs6O698rAh0iOiZrzPhxjLBdQPDxcQI+6W9yLPhxaPoorS7FsBeo51u134PyBRbRs8fWxWTglex17jl6W9vmTz7XUbrGCtr2VZIwshjHjJN4TWqfeox8b7bNsVaP48lj1be5RIkAKaL/slkmaJp229QLm9vObXTHQOWL+3sWt5zV9La1m6cLPX4mtCTwysgEy34XPt2hwU5hzyT0WFRWWA/tLwAK753X7g6Y6qGT/fR27GD/g9IOTzRP0H6Rnf7gklzUcn/Wzeuja/RJ16aSUN+442Mah4C26svGENEykEdFHgekHNc6y2MhomWN4hJNQEE5hzrhB7eZ04JN5SI6mGyfaiZaF9ExQliKaO1BD73WeSHm3BKGENGpwc/IJY4RSymi+ZoRIR4V0UFMU8dR+H1EhN4ZoLV+oiH3Yq9SH62LLnuxV+Jaot+6XfHZbJvbFvE/JMhU28G4Np1jtm32T4poxlK85l+hA5F9/lUf7drO8c/sp267ks8sGlkw+9va+ftEs7AWtb9x+ymzz8bXufO0V4hxLk1I6k8uWeg8TT8mHWPxPe++8c4ZbXs2w/7QC4l+aqKZSztYNPtZ6sj1DL7aZ5d5ccH9FPMaUyZj7Bffv4eTx6mztD/0Jtr5/7xMu+25y/24xhDRZWWi19MpdaWlZ4YU8nNQQyY6ukgJBpB5AgpE9Apae+wqzQ6u92tAV2nZt+ikYBQ+Sn8FPql2gsm2bkT0DdX/RUrMRPdeoftq+yGi609El5OJflF9WDDMlfAYeEIjXD7iiz+1Fjt8rMU4Vrm2XEV00zo6MXWPTm3wyghzv09bmIi+sceV5xvToiDcb2n9b/ibKGXQtrUL7ROt9ne578c/8koRDEKPReWWo9dSx3B622dosLQ9Wxsdngy3nWu/1XrokK0kP1k0s/+aaPZqqrfTP/TEhwEvLl2RixW9rIMXHby40P+ufDaVyYTaKf0Kyjc27jhEF2ayqamOv1a4LxrlmMYQ0UWHmmg5WeVp9YdXvVs9j27RiQ3P+bdItQy1+mMKXBIiCaiTwj5Qlgi0zCagQEQzxsrkrj78GYNv5SJa76sqfObMsJ5tFu1J+ht/r5RecN2ydU20qLP+5qE36Tz+D430+g8kKjY5YLFtlHPUWDlHsYya6NwKWntkgh76zxM8vH6O3v3LGuq5Ei7VCD1IOMU/555U0oEYlpYskZlovktx/xxtKz1YmKPoTidqjLHHdclFdHGRQtvaaYKaY0clr1wyYhJ6LCorq4dmEd1M7X3jdPeJ6Id5evj9edq72cvghuqhlfkm0U9NNHulHSyatSy1Yq8SzKp+LpdvtLxBez77rlTnXfVr1gs2Dn42iIhepAXb3TmKwe3RICO5grZ1rE8U0bOfros+NR/7IJpFoJTCOXz7NfCFBaYagMV7s2334OvbXPJyDqWNyiSU3zCs1a8FGNSsiOasL++eob+yoGaxzJ95kPL3iuD1hK7F7hzFWRp+P2anj36tdpqvVVyk28Pez37r291FRDXzlMWCYkMGWnn3JoHLSYtOC9vO/c02I+UQAYfYb6NttpXWdj5Gva0feu9zXB6niXaJXTAWstmdI0f514/STe4vFs1KyQGL6lx+HZ2I/PSyOc4EddAJ/c6lc+yDfDXbrvUYFhHRxUV6KB/czFPLYHgBw5yzid98rDsGUY6zLbvX4Ge9r+uCWvad6zX8GmElUxrOtvplI0WuUY4pTyidyzXIbtdnMR665uY3aWdJRKv13XZ+NmI9dCxGof7aRxeUBy7tuOTWT41gs3FEtBjsNvtEi+PujNG7r6+gX4hJ75lV1HLsKkWzpCoZxNP0q7z9XZWJkh/0CYhgniSW8wSUiPG3vbSyhGtyfbRR+JQd7NV+LuN91US0xT7Ros33r9HgvpO0Roj3zpPUe+oGPWafFGEuOXr/Bg32entUq0IaIlrpexa+SyyiF4pl7BP9sh/HxL7STWto2xF/B5ASNzhLmqfVh24pt8eT9o8WGCCGOWWi/bgjH9xUFityzJWOscDVt7XkIjr0s95hQR1ugzJGfF8T/+5nbkMiVhVotmUKzrtd+D4+mqDDXW3eLhMtm6i9+zRNTVvuDx3xU8s0c2lHhfXQidiZsM3k76bFSzMVsL2dEjOTud9YIjoTciWDZSa9HygVoV3KMKdNxok+x2XMc5QW4Dn4BlltkSnSMmCh6wX+RurvZKYsnG2KHCftBbZC1y+r7Yvk3pZK+q22zk18sFBivQT+spDUuBxdONr44s4NmfELXT/I2kbGovQ3yndnLklbYe6X13YbfGrpGPe+ivSF5OlyjmEObXeOtbXEF/iSzH9gsxywgYiWAT8LwmMCCgloIYAgoq1Ws2qwgYheJIjoLOJROTYQw7KJYRDRakzD+3LGIs6pB95ARGcqomud9AmBPTVbXettajz/akJE1/y4SBB7+ZRsdc23qfG4nP0kiBiWPabgHTAFB8rlAET0sppYYyYgrglfVjjUdsCAiLbpn6iIzv/6FXr3UtKDXTY2cUy5E8nSnYcYtnRYYzwAa3DAxAGIaIhH53IDE6nwdwQecAAcAAfAAXAAHGh0DkBEQ0RDRIMD4AA4AA6AA+AAOAAOOHIAItoRsEZfVaF9yByAA+AAOAAOgAPgADhg5gBENEQ0Vp7gADgADoAD4AA4AA6AA44cgIh2BAwrM/PKDBgBI3AAHAAHwAFwABxodA5ARENEY+UJDoAD4AA4AA6AA+AAOODIAYhoR8AafVWF9iFzAA6AA+AAOAAOgAPggJkDENEQ0Vh5ggPgADgADoAD4AA4AA44cgAi2hEwrMzMKzNgBIzAAXAAHAAHwAFwoNE5ABENEY2VJzgADoAD4AA4AA6AA+CAIwcgoh0Ba/RVFdqHzAE4AA6AA+AAOAAOgANmDkBEQ0Rj5QkOgAPgADgADoAD4AA44MgBiGhHwLAyM6/MgBEwAgfAAXAAHAAHwIFG5wBENEQ0Vp7gADgADoAD4AA4AA6AA44cgIh2BKzRV1VoHzIH4AA4AA6AA+AAOAAOmDkAEQ0RjZUnOAAOgAPgADgADoAD4IAjByCiHQHDysy8MgNGwAgcAAfAAXAAHAAHGp0DENEQ0Vh5ggPgADgADoAD4AA4AA44cgAi2hGwRl9VoX3IHIAD4AA4AA6AA+AAOGDmAEQ0RDRWnuAAOAAOgAPgADgADoADjhyAiHYEDCsz88oMGAEjcAAcAAfAAXAAHGh0DkBEQ0Rj5QkOgAPgADgADoAD4AA44MgBiGhHwBp9VYX2IXMADoAD4AA4AA6AA+CAmQMQ0RDRWHmCA+AAOAAOgAPgADgADjhyACLaETCszMwrM2AEjMABcAAcAAfAAXCg0TkAEQ0RjZUnOAAOgAPgADgADoAD4IAjByCiHQFr9FUV2ofMATgADoAD4AA4AA6AA2YOQERDRGPlCQ6AA+AAOAAOgAPgADjgyAGIaEfAsDIzr8yAETACB8ABcAAcAAfAgUbnAEQ0RDRWnuAAOAAOgAPgADgADoADjhyAiHYErNFXVWgfMgfgADgADoAD4AA4AA6YOQARDRGNlSc4AA6AA+AAOAAOgAPggCMHqiKiCf+AABAAAkAACAABIAAEgEADIwAR3cCdi6YBASAABIAAEAACQAAIVAcBiOjq4AqrQAAIAAEgAASAABAAAg2MAER0A3cumgYEgAAQAAJAAAgAASBQHQQgoquDK6wCASAABIAAEAACQAAINDAC/x9OhvJFVgyGxgAAAABJRU5ErkJggg==)"
      ]
    },
    {
      "cell_type": "code",
      "metadata": {
        "colab": {
          "base_uri": "https://localhost:8080/",
          "height": 257
        },
        "id": "N7_WCGcpdQ81",
        "outputId": "b6e4c5af-bf49-497f-f2ab-4b50037e972c"
      },
      "source": [
        "import torch\n",
        "\n",
        "A = torch.Tensor([[[1, 2],\n",
        "                   [3, 4]],\n",
        "                  [[5, 6],\n",
        "                   [7, 8]]])\n",
        "\n",
        "# torch.gather 함수를 써서 해보세요!\n",
        "#output = torch.gather(A, 1, torch.tensor([0,1]))\n",
        "#output = torch.gather(A, -2, torch.tensor([0,1]).unsqueeze(axis = -1))\n",
        "print(A.size())\n",
        "output = torch.gather(A, 1, torch.tensor([0,1]))\n",
        "print(output)\n",
        "\n",
        "\n",
        "# 아래 코드는 수정하실 필요가 없습니다!\n",
        "if torch.all(output == torch.Tensor([[1, 4], [5, 8]])):\n",
        "    print(\"🎉🎉🎉 성공!!! 🎉🎉🎉\")\n",
        "else:\n",
        "    print(\"🦆 다시 도전해봐요!\")"
      ],
      "execution_count": 24,
      "outputs": [
        {
          "output_type": "stream",
          "text": [
            "torch.Size([2, 2, 2])\n"
          ],
          "name": "stdout"
        },
        {
          "output_type": "error",
          "ename": "IndexError",
          "evalue": "ignored",
          "traceback": [
            "\u001b[0;31m---------------------------------------------------------------------------\u001b[0m",
            "\u001b[0;31mIndexError\u001b[0m                                Traceback (most recent call last)",
            "\u001b[0;32m<ipython-input-24-64056cbca4e1>\u001b[0m in \u001b[0;36m<module>\u001b[0;34m()\u001b[0m\n\u001b[1;32m     10\u001b[0m \u001b[0;31m#output = torch.gather(A, -2, torch.tensor([0,1]).unsqueeze(axis = -1))\u001b[0m\u001b[0;34m\u001b[0m\u001b[0;34m\u001b[0m\u001b[0;34m\u001b[0m\u001b[0m\n\u001b[1;32m     11\u001b[0m \u001b[0mprint\u001b[0m\u001b[0;34m(\u001b[0m\u001b[0mA\u001b[0m\u001b[0;34m.\u001b[0m\u001b[0msize\u001b[0m\u001b[0;34m(\u001b[0m\u001b[0;34m)\u001b[0m\u001b[0;34m)\u001b[0m\u001b[0;34m\u001b[0m\u001b[0;34m\u001b[0m\u001b[0m\n\u001b[0;32m---> 12\u001b[0;31m \u001b[0moutput\u001b[0m \u001b[0;34m=\u001b[0m \u001b[0mtorch\u001b[0m\u001b[0;34m.\u001b[0m\u001b[0mgather\u001b[0m\u001b[0;34m(\u001b[0m\u001b[0mA\u001b[0m\u001b[0;34m,\u001b[0m \u001b[0;36m1\u001b[0m\u001b[0;34m,\u001b[0m \u001b[0mtorch\u001b[0m\u001b[0;34m.\u001b[0m\u001b[0mtensor\u001b[0m\u001b[0;34m(\u001b[0m\u001b[0;34m[\u001b[0m\u001b[0;36m0\u001b[0m\u001b[0;34m,\u001b[0m\u001b[0;36m1\u001b[0m\u001b[0;34m]\u001b[0m\u001b[0;34m)\u001b[0m\u001b[0;34m)\u001b[0m\u001b[0;34m\u001b[0m\u001b[0;34m\u001b[0m\u001b[0m\n\u001b[0m\u001b[1;32m     13\u001b[0m \u001b[0mprint\u001b[0m\u001b[0;34m(\u001b[0m\u001b[0moutput\u001b[0m\u001b[0;34m)\u001b[0m\u001b[0;34m\u001b[0m\u001b[0;34m\u001b[0m\u001b[0m\n\u001b[1;32m     14\u001b[0m \u001b[0;34m\u001b[0m\u001b[0m\n",
            "\u001b[0;31mIndexError\u001b[0m: Dimension out of range (expected to be in range of [-1, 0], but got 1)"
          ]
        }
      ]
    },
    {
      "cell_type": "markdown",
      "metadata": {
        "id": "VfmnV6cRuYf5"
      },
      "source": [
        "##### 💡 🔥🔥🔥 <font color='yellow'><b>[ Optional ]</b></font> 임의의 크기의 3D tensor에서 대각선 요소 모으기 - 3D gather 🔥🔥🔥\n",
        "> PyTorch 숙련자에게도 어려운 문제입니다. 다양한 크기의 입력값에도 강건하게 대응할 수 있는 모델을 만드는 과정에서 부딪히게 되는 문제이기도 합니다. gather의 동작 원리를 정확히 숙지해야 하며 확장성 있는 유연한 코드를 작성해야 합니다.\n",
        "\n",
        "``` python\n",
        "🦆\n",
        "저희는 지금까지 정해진 크기의 입력에서 대각선 요소를 가져왔는데\n",
        "임의의 크기의 3D 텐서에서도 마찬가지로 대각선 요소를 가져와서 2D 텐서를 만들 수 있을까요?\n",
        "```\n",
        "- [torch.gather - PyTorch 공식 문서](https://pytorch.org/docs/stable/generated/torch.gather.html#torch.gather)\n",
        "\n",
        "🎁 **힌트** 🎁\n",
        "- 원하는 크기의 tensor를 만들기 위해 [torch.Tensor.expand](https://pytorch.org/docs/stable/generated/torch.Tensor.expand.html?highlight=expand)를 사용할 수 있습니다!"
      ]
    },
    {
      "cell_type": "code",
      "metadata": {
        "id": "yg_byIzJxoPC"
      },
      "source": [
        "import torch\n",
        "\n",
        "# TODO : 임의의 크기의 3D tensor에서 대각선 요소 가져와 2D로 반환하는 함수를 만드세요! \n",
        "def get_diag_element_3D(A):\n",
        "\n",
        "    output = A\n",
        "\n",
        "    return output"
      ],
      "execution_count": null,
      "outputs": []
    },
    {
      "cell_type": "code",
      "metadata": {
        "colab": {
          "base_uri": "https://localhost:8080/"
        },
        "id": "7q9gz0d5rYiG",
        "outputId": "c17212c5-6ae7-4451-c167-5529585050b1"
      },
      "source": [
        "# TODO : 원하는 크기의 3D tensor를 만들어보면서 제대로 동작하는지 테스트해보세요!\n",
        "C = 1\n",
        "H = 2\n",
        "W = 3\n",
        "\n",
        "# 아래 코드는 수정하실 필요가 없습니다!\n",
        "A = torch.tensor([i for i in range(1, C*H*W + 1)])\n",
        "A = A.view(C, H, W)\n",
        "\n",
        "print(f\"원본 3D 행렬\\n{A}\")\n",
        "print(\"-\" * 50)\n",
        "\n",
        "print(f\"대각선 요소를 모은 2D 행렬\")\n",
        "get_diag_element_3D(A)"
      ],
      "execution_count": null,
      "outputs": [
        {
          "output_type": "stream",
          "text": [
            "원본 3D 행렬\n",
            "tensor([[[1, 2, 3],\n",
            "         [4, 5, 6]]])\n",
            "--------------------------------------------------\n",
            "대각선 요소를 모은 2D 행렬\n"
          ],
          "name": "stdout"
        },
        {
          "output_type": "execute_result",
          "data": {
            "text/plain": [
              "tensor([[[1, 2, 3],\n",
              "         [4, 5, 6]]])"
            ]
          },
          "metadata": {
            "tags": []
          },
          "execution_count": 7
        }
      ]
    },
    {
      "cell_type": "code",
      "metadata": {
        "colab": {
          "base_uri": "https://localhost:8080/"
        },
        "id": "ORBb-HPcJnCg",
        "outputId": "76ce2d57-1429-4421-9f75-db02686221ac"
      },
      "source": [
        "# 아래 코드는 수정하실 필요가 없습니다!\n",
        "A = torch.tensor([[[1]]])\n",
        "\n",
        "if torch.all(get_diag_element_3D(A) == torch.Tensor([[1]])):\n",
        "    print(\"🎉🎉🎉 성공!!! 🎉🎉🎉\")\n",
        "else:\n",
        "    print(\"🦆 다시 도전해봐요!\")"
      ],
      "execution_count": null,
      "outputs": [
        {
          "output_type": "stream",
          "text": [
            "🎉🎉🎉 성공!!! 🎉🎉🎉\n"
          ],
          "name": "stdout"
        }
      ]
    },
    {
      "cell_type": "code",
      "metadata": {
        "colab": {
          "base_uri": "https://localhost:8080/"
        },
        "id": "pSbNIk3tyj8U",
        "outputId": "5e5d385c-9a1d-45f2-9f52-5493990747b8"
      },
      "source": [
        "# 아래 코드는 수정하실 필요가 없습니다!\n",
        "A = torch.Tensor([[[1, 2],\n",
        "                   [3, 4]],\n",
        "                  [[5, 6],\n",
        "                   [7, 8]]])\n",
        "\n",
        "if torch.all(get_diag_element_3D(A) == torch.Tensor([[1, 4],\n",
        "                                                     [5, 8]])):\n",
        "    print(\"🎉🎉🎉 성공!!! 🎉🎉🎉\")\n",
        "else:\n",
        "    print(\"🦆 다시 도전해봐요!\")"
      ],
      "execution_count": null,
      "outputs": [
        {
          "output_type": "stream",
          "text": [
            "🦆 다시 도전해봐요!\n"
          ],
          "name": "stdout"
        }
      ]
    },
    {
      "cell_type": "code",
      "metadata": {
        "colab": {
          "base_uri": "https://localhost:8080/"
        },
        "id": "H3ewV_sBJ-nm",
        "outputId": "95159470-f216-4819-ed98-b905b57e3acf"
      },
      "source": [
        "# 아래 코드는 수정하실 필요가 없습니다!\n",
        "A = torch.Tensor([[[1, 2, 3],\n",
        "                   [4, 5, 6]]])\n",
        "\n",
        "if torch.all(get_diag_element_3D(A) == torch.Tensor([[1, 5]])):\n",
        "    print(\"🎉🎉🎉 성공!!! 🎉🎉🎉\")\n",
        "else:\n",
        "    print(\"🦆 다시 도전해봐요!\")"
      ],
      "execution_count": null,
      "outputs": [
        {
          "output_type": "error",
          "ename": "RuntimeError",
          "evalue": "ignored",
          "traceback": [
            "\u001b[0;31m---------------------------------------------------------------------------\u001b[0m",
            "\u001b[0;31mRuntimeError\u001b[0m                              Traceback (most recent call last)",
            "\u001b[0;32m<ipython-input-10-5690f10ee105>\u001b[0m in \u001b[0;36m<module>\u001b[0;34m()\u001b[0m\n\u001b[1;32m      3\u001b[0m                    [4, 5, 6]]])\n\u001b[1;32m      4\u001b[0m \u001b[0;34m\u001b[0m\u001b[0m\n\u001b[0;32m----> 5\u001b[0;31m \u001b[0;32mif\u001b[0m \u001b[0mtorch\u001b[0m\u001b[0;34m.\u001b[0m\u001b[0mall\u001b[0m\u001b[0;34m(\u001b[0m\u001b[0mget_diag_element_3D\u001b[0m\u001b[0;34m(\u001b[0m\u001b[0mA\u001b[0m\u001b[0;34m)\u001b[0m \u001b[0;34m==\u001b[0m \u001b[0mtorch\u001b[0m\u001b[0;34m.\u001b[0m\u001b[0mTensor\u001b[0m\u001b[0;34m(\u001b[0m\u001b[0;34m[\u001b[0m\u001b[0;34m[\u001b[0m\u001b[0;36m1\u001b[0m\u001b[0;34m,\u001b[0m \u001b[0;36m5\u001b[0m\u001b[0;34m]\u001b[0m\u001b[0;34m]\u001b[0m\u001b[0;34m)\u001b[0m\u001b[0;34m)\u001b[0m\u001b[0;34m:\u001b[0m\u001b[0;34m\u001b[0m\u001b[0;34m\u001b[0m\u001b[0m\n\u001b[0m\u001b[1;32m      6\u001b[0m     \u001b[0mprint\u001b[0m\u001b[0;34m(\u001b[0m\u001b[0;34m\"🎉🎉🎉 성공!!! 🎉🎉🎉\"\u001b[0m\u001b[0;34m)\u001b[0m\u001b[0;34m\u001b[0m\u001b[0;34m\u001b[0m\u001b[0m\n\u001b[1;32m      7\u001b[0m \u001b[0;32melse\u001b[0m\u001b[0;34m:\u001b[0m\u001b[0;34m\u001b[0m\u001b[0;34m\u001b[0m\u001b[0m\n",
            "\u001b[0;31mRuntimeError\u001b[0m: The size of tensor a (3) must match the size of tensor b (2) at non-singleton dimension 2"
          ]
        }
      ]
    },
    {
      "cell_type": "code",
      "metadata": {
        "colab": {
          "base_uri": "https://localhost:8080/"
        },
        "id": "fueU_tOgIzDC",
        "outputId": "29aae5d1-059c-458f-a6d2-c2eaed5e7b33"
      },
      "source": [
        "# 아래 코드는 수정하실 필요가 없습니다!\n",
        "A = torch.tensor([[[ 1,  2,  3,  4,  5],\n",
        "                   [ 6,  7,  8,  9, 10],\n",
        "                   [11, 12, 13, 14, 15]],\n",
        "          \n",
        "                  [[16, 17, 18, 19, 20],\n",
        "                   [21, 22, 23, 24, 25],\n",
        "                   [26, 27, 28, 29, 30]]])\n",
        "\n",
        "if torch.all(get_diag_element_3D(A) == torch.Tensor([[ 1,  7, 13],\n",
        "                                                     [16, 22, 28]])):\n",
        "    print(\"🎉🎉🎉 성공!!! 🎉🎉🎉\")\n",
        "else:\n",
        "    print(\"🦆 다시 도전해봐요!\")"
      ],
      "execution_count": null,
      "outputs": [
        {
          "output_type": "error",
          "ename": "RuntimeError",
          "evalue": "ignored",
          "traceback": [
            "\u001b[0;31m---------------------------------------------------------------------------\u001b[0m",
            "\u001b[0;31mRuntimeError\u001b[0m                              Traceback (most recent call last)",
            "\u001b[0;32m<ipython-input-11-bcf1e4ed077e>\u001b[0m in \u001b[0;36m<module>\u001b[0;34m()\u001b[0m\n\u001b[1;32m      9\u001b[0m \u001b[0;34m\u001b[0m\u001b[0m\n\u001b[1;32m     10\u001b[0m if torch.all(get_diag_element_3D(A) == torch.Tensor([[ 1,  7, 13],\n\u001b[0;32m---> 11\u001b[0;31m                                                      [16, 22, 28]])):\n\u001b[0m\u001b[1;32m     12\u001b[0m     \u001b[0mprint\u001b[0m\u001b[0;34m(\u001b[0m\u001b[0;34m\"🎉🎉🎉 성공!!! 🎉🎉🎉\"\u001b[0m\u001b[0;34m)\u001b[0m\u001b[0;34m\u001b[0m\u001b[0;34m\u001b[0m\u001b[0m\n\u001b[1;32m     13\u001b[0m \u001b[0;32melse\u001b[0m\u001b[0;34m:\u001b[0m\u001b[0;34m\u001b[0m\u001b[0;34m\u001b[0m\u001b[0m\n",
            "\u001b[0;31mRuntimeError\u001b[0m: The size of tensor a (5) must match the size of tensor b (3) at non-singleton dimension 2"
          ]
        }
      ]
    },
    {
      "cell_type": "code",
      "metadata": {
        "colab": {
          "base_uri": "https://localhost:8080/"
        },
        "id": "1MKSgAWOJWvb",
        "outputId": "85cd21c9-a615-489a-e194-8fbec5288582"
      },
      "source": [
        "# 아래 코드는 수정하실 필요가 없습니다!\n",
        "A = torch.tensor([[[ 1,  2,  3],\n",
        "                   [ 4,  5,  6],\n",
        "                   [ 7,  8,  9],\n",
        "                   [10, 11, 12],\n",
        "                   [13, 14, 15]],\n",
        "        \n",
        "                  [[16, 17, 18],\n",
        "                   [19, 20, 21],\n",
        "                   [22, 23, 24],\n",
        "                   [25, 26, 27],\n",
        "                   [28, 29, 30]],\n",
        "        \n",
        "                  [[31, 32, 33],\n",
        "                   [34, 35, 36],\n",
        "                   [37, 38, 39],\n",
        "                   [40, 41, 42],\n",
        "                   [43, 44, 45]]])\n",
        "\n",
        "if torch.all(get_diag_element_3D(A) == torch.Tensor([[ 1,  5,  9],\n",
        "                                                     [16, 20, 24],\n",
        "                                                     [31, 35, 39]])):\n",
        "    print(\"🎉🎉🎉 성공!!! 🎉🎉🎉\")\n",
        "else:\n",
        "    print(\"🦆 다시 도전해봐요!\")"
      ],
      "execution_count": null,
      "outputs": [
        {
          "output_type": "error",
          "ename": "RuntimeError",
          "evalue": "ignored",
          "traceback": [
            "\u001b[0;31m---------------------------------------------------------------------------\u001b[0m",
            "\u001b[0;31mRuntimeError\u001b[0m                              Traceback (most recent call last)",
            "\u001b[0;32m<ipython-input-12-669673b146fe>\u001b[0m in \u001b[0;36m<module>\u001b[0;34m()\u001b[0m\n\u001b[1;32m     20\u001b[0m if torch.all(get_diag_element_3D(A) == torch.Tensor([[ 1,  5,  9],\n\u001b[1;32m     21\u001b[0m                                                      \u001b[0;34m[\u001b[0m\u001b[0;36m16\u001b[0m\u001b[0;34m,\u001b[0m \u001b[0;36m20\u001b[0m\u001b[0;34m,\u001b[0m \u001b[0;36m24\u001b[0m\u001b[0;34m]\u001b[0m\u001b[0;34m,\u001b[0m\u001b[0;34m\u001b[0m\u001b[0;34m\u001b[0m\u001b[0m\n\u001b[0;32m---> 22\u001b[0;31m                                                      [31, 35, 39]])):\n\u001b[0m\u001b[1;32m     23\u001b[0m     \u001b[0mprint\u001b[0m\u001b[0;34m(\u001b[0m\u001b[0;34m\"🎉🎉🎉 성공!!! 🎉🎉🎉\"\u001b[0m\u001b[0;34m)\u001b[0m\u001b[0;34m\u001b[0m\u001b[0;34m\u001b[0m\u001b[0m\n\u001b[1;32m     24\u001b[0m \u001b[0;32melse\u001b[0m\u001b[0;34m:\u001b[0m\u001b[0;34m\u001b[0m\u001b[0;34m\u001b[0m\u001b[0m\n",
            "\u001b[0;31mRuntimeError\u001b[0m: The size of tensor a (5) must match the size of tensor b (3) at non-singleton dimension 1"
          ]
        }
      ]
    },
    {
      "cell_type": "markdown",
      "metadata": {
        "id": "6h_5Q9Xejktd"
      },
      "source": [
        "### 🌓 Documentation 읽기\n",
        "> PyTorch documentation에서 원하는 정보를 찾는 것은 물론 활용도 문제없이 하게 되었습니다! 하지만 아직 PyTorch가 제공하는 다양한 기능에 어떤 것들이 있는지 모릅니다. Custom 모델을 제작함에 있어 PyTorch가 제공하는 기능을 많이 알면 많이 알수록 더 다양하고 멋진 모델을 만들어낼 수 있게 됩니다! 그렇기에 이번 섹션에서는 Documentation을 차분히 읽어보는 시간을 가질 것입니다!\n",
        "\n",
        "- 📖 <font color='gold' ><b>[ 읽기 ]</b></font> torch 문서 읽기\n",
        "- 📖 <font color='gold' ><b>[ 읽기 ]</b></font> torch.linalg 문서 읽기\n",
        "- 📖 <font color='gold' ><b>[ 읽기 ]</b></font> torch.nn 문서 읽기\n",
        "- 👨‍💻 <font color='green'><b>[ 코딩 ]</b></font> torch.nn `Linear Layers`\n",
        "- ❓ <font color='red'><b>[ 퀴즈 ]</b></font> Linear vs LazyLinear"
      ]
    },
    {
      "cell_type": "markdown",
      "metadata": {
        "id": "Ybvq8tz4769-"
      },
      "source": [
        "#### 📖 <font color='gold' ><b>[ 읽기 ]</b></font> torch 문서 읽기\n",
        "``` python\n",
        "🦆\n",
        "Documentation을 잠깐 둘러보았는데 Python API 목차의 torch 문서에 \n",
        "중요하고 유용한 내용들이 가득 담겨있는 것 같아요!\n",
        "\n",
        "개발자들이 정성들여 만들어놓은 다양한 기능들이 있는데\n",
        "몰라서 활용되지 않는다면 정말 아쉬울 것 같아요!\n",
        "\n",
        "우리 같이 읽어봐요!\n",
        "```\n",
        "\n",
        "- [torch 문서 - PyTorch 공식 문서](https://pytorch.org/docs/stable/torch.html)"
      ]
    },
    {
      "cell_type": "markdown",
      "metadata": {
        "id": "5d8rq3BlRjmH"
      },
      "source": [
        "##### 💌 Tensors\n",
        "> 🦆 부덕이가 Tensor부분을 정리 해주었어요!\n",
        "\n",
        "``` python\n",
        "🦆\n",
        "Tensors 부분을 제가 먼저 읽어서 정리를 해두었어요!\n",
        "제가 어떻게 해당 부분을 읽어나갔는지 공유해드릴게요!\n",
        "```\n",
        "\n",
        "- [Tensors - PyTorch 공식 문서](https://pytorch.org/docs/stable/torch.html#tensors)"
      ]
    },
    {
      "cell_type": "markdown",
      "metadata": {
        "id": "XOvQP1sYUfci"
      },
      "source": [
        "``` python\n",
        "🦆\n",
        "\"Tensors\"라는 이름을 보며 추측해보았는데 tensor 자료구조를 생성하거나\n",
        "관련된 특성을 추출할 수 있는 함수들이 모여있을 것 같아요!\n",
        "\n",
        "먼저 Tensors 부분을 읽어나가면서 어떤 함수들이 있는지 보았어요!\n",
        "\"is_tensor\"나 \"is_storage\"와 같은 함수명을 보아서 자료구조를\n",
        "체크하는 함수인 것 같아요!\n",
        "```\n",
        "\n",
        "![](https://github.com/IllgamhoDuck/PyTorch/blob/main/document_image/torch%20-%20tensors.png?raw=true)"
      ]
    },
    {
      "cell_type": "markdown",
      "metadata": {
        "id": "_EYZfH4CX7tT"
      },
      "source": [
        "``` python\n",
        "🦆\n",
        "\"is_tensor\"라는 함수를 더 알고 싶어서 링크를 타고 들어갔어요!\n",
        "파란 박스 부분에 설명을 읽고 나니까 제가 생각했던 대로\n",
        "tensor 자료구조인지 체크하는 것이 맞네요!\n",
        "\n",
        "아래 빨간 박스 부분에 예제가 나와있더라구요!\n",
        "코드를 직접 쳐보면 더 이해가 잘될 것 같아서\n",
        "날개로 직접 예제를 구현해보았어요!\n",
        "```\n",
        "- [torch.is_tensor - PyTorch 공식 문서](https://pytorch.org/docs/stable/generated/torch.is_tensor.html#torch.is_tensor)\n",
        "![](https://github.com/IllgamhoDuck/PyTorch/blob/main/document_image/torch%20is%20tensor.png?raw=true)"
      ]
    },
    {
      "cell_type": "code",
      "metadata": {
        "colab": {
          "base_uri": "https://localhost:8080/"
        },
        "id": "-up9L8HlYzmm",
        "outputId": "0f304fc6-ac7d-4a38-ec04-5876712ff0aa"
      },
      "source": [
        "import torch\n",
        "\n",
        "x = torch.tensor([1,2,3])\n",
        "y = [1, 2, 3]\n",
        "\n",
        "# 🦆 멋지게 동작하네요! 예상했던 대로에요!\n",
        "torch.is_tensor(x), torch.is_tensor(y) "
      ],
      "execution_count": 12,
      "outputs": [
        {
          "output_type": "execute_result",
          "data": {
            "text/plain": [
              "(True, False)"
            ]
          },
          "metadata": {
            "tags": []
          },
          "execution_count": 12
        }
      ]
    },
    {
      "cell_type": "code",
      "metadata": {
        "colab": {
          "base_uri": "https://localhost:8080/"
        },
        "id": "L-pYoFx5bYcj",
        "outputId": "4a986dc1-e525-4b88-c9a2-a1cb5239ef82"
      },
      "source": [
        "# 🦆 numel이라는 함수도 한 번 써보았어요! 잘 동작하네요!\n",
        "torch.numel(x)"
      ],
      "execution_count": 13,
      "outputs": [
        {
          "output_type": "execute_result",
          "data": {
            "text/plain": [
              "3"
            ]
          },
          "metadata": {
            "tags": []
          },
          "execution_count": 13
        }
      ]
    },
    {
      "cell_type": "markdown",
      "metadata": {
        "id": "6wP5qfTMUYxq"
      },
      "source": [
        "``` python\n",
        "🦆\n",
        "스크롤을 내리다보니까 Tensor의 속하는 함수들인데\n",
        "다음의 세부 항목으로 분류했더라구요!\n",
        "- \"Creation Ops\"\n",
        "- \"Indexing, Slicing, Joining, Mutating Ops\"\n",
        "\n",
        "그래서 여기에 같이 정리하지 않고 새로운 섹션을 만들어서 정리하려고 해요!\n",
        "```\n",
        "\n",
        "![](https://github.com/IllgamhoDuck/PyTorch/blob/main/document_image/torch%20-%20tensors%20-%20ops.png?raw=true)\n"
      ]
    },
    {
      "cell_type": "markdown",
      "metadata": {
        "id": "jpXu3zuOcjzO"
      },
      "source": [
        "##### 💌 Tensors - Creation Ops\n",
        "> 🦆 부덕이가 정리를 이어나가고 있어요!\n",
        "\n",
        "``` python\n",
        "🦆\n",
        "Tensors 부분에 속하지면 따로 정리하고 싶어서\n",
        "이렇게 별도 섹션으로 나누어놓았어요!\n",
        "```\n",
        "- [Tensors - PyTorch 공식 문서](https://pytorch.org/docs/stable/torch.html#tensors)"
      ]
    },
    {
      "cell_type": "markdown",
      "metadata": {
        "id": "rJZJuicGdHwm"
      },
      "source": [
        "``` python\n",
        "🦆\n",
        "이름을 보면 \"Tensors\"라는 자료구조를 만드는 함수들이 모여있겠죠?\n",
        "저는 먼저 아래 그림에서 빨간 박스 친 부분을 유심히 읽어보았어요!\n",
        "\"함수명\"과 우측에 \"함수에 대한 요약 설명\"을 읽어나갔죠!\n",
        "```\n",
        "\n",
        "- ✅ 함수와 요약 설명을 가볍게 훑어보세요!\n",
        "\n",
        "![](https://github.com/IllgamhoDuck/PyTorch/blob/main/document_image/torch%20-%20tensors%20-%20creation%20ops.png?raw=true)"
      ]
    },
    {
      "cell_type": "markdown",
      "metadata": {
        "id": "5b6lTFnCjQwc"
      },
      "source": [
        "```python\n",
        "🦆\n",
        "뭐든지 직접 손으로 쳐본게 더 이해가 잘가고 기억에 오래 남더라구요!\n",
        "그래서 함수들을 쭉 둘러보고 3가지 함수의 예제를 구현해보았어요!\n",
        "```\n",
        "\n",
        "- ✅ <font color='yellow'><b>[ Optional ]</b></font> 원하는 3개 함수를 골라서 예제 코드를 돌려보세요!\n",
        "    - from_numpy\n",
        "    - zeros\n",
        "    - zeros_like\n",
        "\n",
        "\n",
        "- [torch.from_numpy - PyTorch 공식 문서](https://pytorch.org/docs/stable/generated/torch.from_numpy.html#torch.from_numpy)\n",
        "- [torch.zeros - PyTorch 공식 문서](https://pytorch.org/docs/stable/generated/torch.zeros.html#torch.zeros)\n",
        "- [torch.zeros_like - PyTorch 공식 문서](https://pytorch.org/docs/stable/generated/torch.zeros_like.html#torch.zeros_like)"
      ]
    },
    {
      "cell_type": "code",
      "metadata": {
        "colab": {
          "base_uri": "https://localhost:8080/"
        },
        "id": "Vhp7vsgE8FY4",
        "outputId": "453036e9-08ae-4d55-e03a-35b2989e30a3"
      },
      "source": [
        "import torch\n",
        "import numpy as np\n",
        "\n",
        "# 🦆 torch.from_numpy\n",
        "a = np.array([1,2,3])\n",
        "t = torch.from_numpy(a)\n",
        "t"
      ],
      "execution_count": 14,
      "outputs": [
        {
          "output_type": "execute_result",
          "data": {
            "text/plain": [
              "tensor([1, 2, 3])"
            ]
          },
          "metadata": {
            "tags": []
          },
          "execution_count": 14
        }
      ]
    },
    {
      "cell_type": "code",
      "metadata": {
        "colab": {
          "base_uri": "https://localhost:8080/"
        },
        "id": "1mzqAJDGm9Hd",
        "outputId": "e144107f-e72c-47aa-e0cd-9e5398ee1f35"
      },
      "source": [
        "# 🦆 torch.zeros\n",
        "torch.zeros(2, 3)"
      ],
      "execution_count": 15,
      "outputs": [
        {
          "output_type": "execute_result",
          "data": {
            "text/plain": [
              "tensor([[0., 0., 0.],\n",
              "        [0., 0., 0.]])"
            ]
          },
          "metadata": {
            "tags": []
          },
          "execution_count": 15
        }
      ]
    },
    {
      "cell_type": "code",
      "metadata": {
        "colab": {
          "base_uri": "https://localhost:8080/"
        },
        "id": "BA2pv3pFiu3M",
        "outputId": "ba19a1cc-a839-4d25-e2f2-af0d84fc971d"
      },
      "source": [
        "# 🦆 torch.zeros_like\n",
        "torch.zeros_like(t)#Returns a tensor filled with the scalar value 0, with the same size as input"
      ],
      "execution_count": 17,
      "outputs": [
        {
          "output_type": "execute_result",
          "data": {
            "text/plain": [
              "tensor([0, 0, 0])"
            ]
          },
          "metadata": {
            "tags": []
          },
          "execution_count": 17
        }
      ]
    },
    {
      "cell_type": "markdown",
      "metadata": {
        "id": "yBmtQly_nqR7"
      },
      "source": [
        "##### 💌 Tensors - Indexing, Slicing, Joining, Mutating Ops\n",
        "> 🦆 부덕이가 마저 정리해놓았어요!\n",
        "\n",
        "``` python\n",
        "🦆\n",
        "Tensors 항목의 마지막 세부 항목이에요!\n",
        "Indexing, Slicing 등 보기만 해도 중요한 함수들이 모여있을 것 같아요!\n",
        "```\n",
        "\n",
        "- [Tensors - PyTorch 공식 문서](https://pytorch.org/docs/stable/torch.html#tensors)"
      ]
    },
    {
      "cell_type": "markdown",
      "metadata": {
        "id": "h4iVxzyHnqR-"
      },
      "source": [
        "``` python\n",
        "🦆\n",
        "읽다보니까 가끔은 예제 코드가 없는 함수가 종종 섞여있어요!\n",
        "이럴때는 함수 설명을 더 자세히 읽고 구현해봐야 할 거 같아요!\n",
        "```\n",
        "\n",
        "- ✅ 함수와 요약 설명을 가볍게 훑어보세요!\n",
        "- ✅ <font color='yellow'><b>[ Optional ]</b></font> 원하는 3개 함수를 골라서 예제 코드를 돌려보세요!\n",
        "    - chunk\n",
        "    - swapdims\n",
        "    - zeros_like\n",
        "\n",
        "\n",
        "- [torch.chunk - PyTorch 공식 문서](https://pytorch.org/docs/stable/generated/torch.chunk.html#torch.chunk)\n",
        "- [torch.swapdims - PyTorch 공식 문서](https://pytorch.org/docs/stable/generated/torch.swapdims.html#torch.swapdims)\n",
        "- [torch.Tensor.scatter_ - PyTorch 공식 문서](https://pytorch.org/docs/stable/generated/torch.Tensor.scatter_.html#torch.Tensor.scatter_)"
      ]
    },
    {
      "cell_type": "markdown",
      "metadata": {
        "id": "l4AaBdfDodFn"
      },
      "source": [
        "![image.png](data:image/png;base64,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)"
      ]
    },
    {
      "cell_type": "code",
      "metadata": {
        "colab": {
          "base_uri": "https://localhost:8080/"
        },
        "id": "Nq9zOgoznqR_",
        "outputId": "ae4086b8-68c5-477c-86ea-dfdd223afd55"
      },
      "source": [
        "import torch\n",
        "import numpy as np\n",
        "\n",
        "# 🦆 torch.chunk\n",
        "t = torch.tensor([[1, 2, 3],\n",
        "                  [4, 5, 6]])\n",
        "\n",
        "# 🦆 예제는 없지만 documentation을 읽어서 구현해보았어요!\n",
        "print(torch.chunk(t, 2, 0))\n",
        "print(torch.chunk(t, 2, 1))"
      ],
      "execution_count": 25,
      "outputs": [
        {
          "output_type": "stream",
          "text": [
            "(tensor([[1, 2, 3]]), tensor([[4, 5, 6]]))\n",
            "(tensor([[1, 2],\n",
            "        [4, 5]]), tensor([[3],\n",
            "        [6]]))\n"
          ],
          "name": "stdout"
        }
      ]
    },
    {
      "cell_type": "code",
      "metadata": {
        "colab": {
          "base_uri": "https://localhost:8080/"
        },
        "id": "t7Qy8zEPnqSA",
        "outputId": "5afbd526-02f4-4b1c-cd54-a2b6049e7937"
      },
      "source": [
        "# 🦆 torch.swapdims\n",
        "x = torch.tensor([[[0,1],[2,3]],[[4,5],[6,7]]])\n",
        "x"
      ],
      "execution_count": 18,
      "outputs": [
        {
          "output_type": "execute_result",
          "data": {
            "text/plain": [
              "tensor([[[0, 1],\n",
              "         [2, 3]],\n",
              "\n",
              "        [[4, 5],\n",
              "         [6, 7]]])"
            ]
          },
          "metadata": {
            "tags": []
          },
          "execution_count": 18
        }
      ]
    },
    {
      "cell_type": "code",
      "metadata": {
        "colab": {
          "base_uri": "https://localhost:8080/"
        },
        "id": "8o6mHeHeutTh",
        "outputId": "98f8133e-862a-4ff9-82c6-8908719189f3"
      },
      "source": [
        "torch.swapdims(x, 0, 1)"
      ],
      "execution_count": 19,
      "outputs": [
        {
          "output_type": "execute_result",
          "data": {
            "text/plain": [
              "tensor([[[0, 1],\n",
              "         [4, 5]],\n",
              "\n",
              "        [[2, 3],\n",
              "         [6, 7]]])"
            ]
          },
          "metadata": {
            "tags": []
          },
          "execution_count": 19
        }
      ]
    },
    {
      "cell_type": "code",
      "metadata": {
        "colab": {
          "base_uri": "https://localhost:8080/"
        },
        "id": "8TBo37wDu4xW",
        "outputId": "c1ef6d11-4184-4dd4-c4ba-6deeec8894bc"
      },
      "source": [
        "torch.swapdims(x, 0, 2)"
      ],
      "execution_count": 20,
      "outputs": [
        {
          "output_type": "execute_result",
          "data": {
            "text/plain": [
              "tensor([[[0, 4],\n",
              "         [2, 6]],\n",
              "\n",
              "        [[1, 5],\n",
              "         [3, 7]]])"
            ]
          },
          "metadata": {
            "tags": []
          },
          "execution_count": 20
        }
      ]
    },
    {
      "cell_type": "code",
      "metadata": {
        "colab": {
          "base_uri": "https://localhost:8080/"
        },
        "id": "M08dZW2fnqSB",
        "outputId": "34ddac40-377a-4428-bf2d-b64103c46073"
      },
      "source": [
        "# 🦆 torch.Tensor.scatter_\n",
        "src = torch.arange(1, 11).reshape((2, 5))\n",
        "src"
      ],
      "execution_count": 26,
      "outputs": [
        {
          "output_type": "execute_result",
          "data": {
            "text/plain": [
              "tensor([[ 1,  2,  3,  4,  5],\n",
              "        [ 6,  7,  8,  9, 10]])"
            ]
          },
          "metadata": {
            "tags": []
          },
          "execution_count": 26
        }
      ]
    },
    {
      "cell_type": "code",
      "metadata": {
        "colab": {
          "base_uri": "https://localhost:8080/"
        },
        "id": "z6WstSp-wLU4",
        "outputId": "ee1cba90-7a38-4459-b9a6-eeef3890225d"
      },
      "source": [
        "# 🦆 우리가 함께 공부했던 gather와 비슷한 느낌이 나요!\n",
        "index = torch.tensor([[0, 1, 2, 0]])\n",
        "torch.zeros(3, 5, dtype=src.dtype).scatter_(0, index, src)"
      ],
      "execution_count": 27,
      "outputs": [
        {
          "output_type": "execute_result",
          "data": {
            "text/plain": [
              "tensor([[1, 0, 0, 4, 0],\n",
              "        [0, 2, 0, 0, 0],\n",
              "        [0, 0, 3, 0, 0]])"
            ]
          },
          "metadata": {
            "tags": []
          },
          "execution_count": 27
        }
      ]
    },
    {
      "cell_type": "code",
      "metadata": {
        "colab": {
          "base_uri": "https://localhost:8080/"
        },
        "id": "R0yIEAw-xAdV",
        "outputId": "d29ef883-a66d-48d1-dae2-ef6da1cf1a9b"
      },
      "source": [
        "index = torch.tensor([[0, 1, 2], [0, 1, 4]])\n",
        "torch.zeros(3, 5, dtype=src.dtype).scatter_(1, index, src)"
      ],
      "execution_count": 28,
      "outputs": [
        {
          "output_type": "execute_result",
          "data": {
            "text/plain": [
              "tensor([[1, 2, 3, 0, 0],\n",
              "        [6, 7, 0, 0, 8],\n",
              "        [0, 0, 0, 0, 0]])"
            ]
          },
          "metadata": {
            "tags": []
          },
          "execution_count": 28
        }
      ]
    },
    {
      "cell_type": "markdown",
      "metadata": {
        "id": "jPvOek5YxfRg"
      },
      "source": [
        "##### 💌 Random sampling\n",
        "\n",
        "``` python\n",
        "🦆\n",
        "랜덤 함수들은 초기화, 샘플링 등 다양한 곳에 활용할 수 있을 것 같아요!\n",
        "유용한만큼 눈여겨서 봐두면 나중에 잘 쓰일 것 같아요!\n",
        "```\n",
        "\n",
        "- [Random sampling - PyTorch 공식 문서](https://pytorch.org/docs/stable/torch.html#random-sampling)"
      ]
    },
    {
      "cell_type": "markdown",
      "metadata": {
        "id": "LAcT0HckxfR7"
      },
      "source": [
        "- ✅ 함수와 요약 설명을 가볍게 훑어보세요!\n",
        "- ✅ <font color='yellow'><b>[ Optional ]</b></font> 원하는 3개 함수를 골라서 예제 코드를 돌려보세요!\n",
        "    - \n",
        "    - \n",
        "    - \n"
      ]
    },
    {
      "cell_type": "markdown",
      "metadata": {
        "id": "ua1xhKCE5Q_F"
      },
      "source": [
        "![image.png](data:image/png;base64,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)"
      ]
    },
    {
      "cell_type": "code",
      "metadata": {
        "id": "y3LC4H6d2YFk",
        "outputId": "09d4fb6c-2dd4-467f-d756-2761316a9e25",
        "colab": {
          "base_uri": "https://localhost:8080/"
        }
      },
      "source": [
        "torch.seed()"
      ],
      "execution_count": 36,
      "outputs": [
        {
          "output_type": "execute_result",
          "data": {
            "text/plain": [
              "7515979983945834925"
            ]
          },
          "metadata": {
            "tags": []
          },
          "execution_count": 36
        }
      ]
    },
    {
      "cell_type": "code",
      "metadata": {
        "id": "OUDKE1TL2ak4",
        "outputId": "9dfdceb9-b10d-45c4-ab40-c8faa9fe047b",
        "colab": {
          "base_uri": "https://localhost:8080/"
        }
      },
      "source": [
        "torch.initial_seed()"
      ],
      "execution_count": 37,
      "outputs": [
        {
          "output_type": "execute_result",
          "data": {
            "text/plain": [
              "7515979983945834925"
            ]
          },
          "metadata": {
            "tags": []
          },
          "execution_count": 37
        }
      ]
    },
    {
      "cell_type": "code",
      "metadata": {
        "id": "Gv469jMp2k9b"
      },
      "source": [
        "rates = torch.rand(4, 4) "
      ],
      "execution_count": 47,
      "outputs": []
    },
    {
      "cell_type": "code",
      "metadata": {
        "id": "is3eJZkb3564",
        "outputId": "1e6e3929-fb3f-4c21-c522-fb50a9b51b8b",
        "colab": {
          "base_uri": "https://localhost:8080/"
        }
      },
      "source": [
        "rates"
      ],
      "execution_count": 50,
      "outputs": [
        {
          "output_type": "execute_result",
          "data": {
            "text/plain": [
              "tensor([[0.3873, 0.1039, 0.7773, 0.8868],\n",
              "        [0.2590, 0.8119, 0.8283, 0.2906],\n",
              "        [0.1508, 0.6998, 0.2712, 0.8071],\n",
              "        [0.9673, 0.9374, 0.5329, 0.2126]])"
            ]
          },
          "metadata": {
            "tags": []
          },
          "execution_count": 50
        }
      ]
    },
    {
      "cell_type": "code",
      "metadata": {
        "id": "_aWdtK9G4Adi",
        "outputId": "15174d2a-87ae-4d21-c4c7-0a5608e8aef7",
        "colab": {
          "base_uri": "https://localhost:8080/"
        }
      },
      "source": [
        "torch.poisson(rates)"
      ],
      "execution_count": 49,
      "outputs": [
        {
          "output_type": "execute_result",
          "data": {
            "text/plain": [
              "tensor([[0., 0., 1., 1.],\n",
              "        [0., 2., 1., 0.],\n",
              "        [0., 0., 0., 0.],\n",
              "        [0., 1., 0., 0.]])"
            ]
          },
          "metadata": {
            "tags": []
          },
          "execution_count": 49
        }
      ]
    },
    {
      "cell_type": "markdown",
      "metadata": {
        "id": "VBC_HD024zT7"
      },
      "source": [
        "##### 💌 Math operations - Pointwise Ops\n",
        "\n",
        "``` python\n",
        "🦆\n",
        "연산과 관련된 다양한 함수들이 모여있네요!\n",
        "pointwise로 연산처리를 하는 함수들인가봐요!\n",
        "```\n",
        "\n",
        "- [Math operations - PyTorch 공식 문서](https://pytorch.org/docs/stable/torch.html#math-operations)\n",
        "- [Pointwise - Wikipedia](https://en.wikipedia.org/wiki/Pointwise)"
      ]
    },
    {
      "cell_type": "markdown",
      "metadata": {
        "id": "YQDWkg-S4zT9"
      },
      "source": [
        "- ✅ 함수와 요약 설명을 가볍게 훑어보세요!\n",
        "- ✅ <font color='yellow'><b>[ Optional ]</b></font> 원하는 3개 함수를 골라서 예제 코드를 돌려보세요!\n",
        "    - \n",
        "    - \n",
        "    - "
      ]
    },
    {
      "cell_type": "code",
      "metadata": {
        "id": "8gs2UZNq49OS",
        "outputId": "16ba2df6-9292-46a7-e701-d08c9b3617a5",
        "colab": {
          "base_uri": "https://localhost:8080/"
        }
      },
      "source": [
        "torch.abs(torch.tensor([-1, -2, 3]))"
      ],
      "execution_count": 51,
      "outputs": [
        {
          "output_type": "execute_result",
          "data": {
            "text/plain": [
              "tensor([1, 2, 3])"
            ]
          },
          "metadata": {
            "tags": []
          },
          "execution_count": 51
        }
      ]
    },
    {
      "cell_type": "code",
      "metadata": {
        "id": "2Z5NWXVR5b1Z"
      },
      "source": [
        "input = torch.rand(4)"
      ],
      "execution_count": 56,
      "outputs": []
    },
    {
      "cell_type": "code",
      "metadata": {
        "id": "IB-1qbq65nUm",
        "outputId": "f88dd9a0-dd99-439d-befe-9b2678072931",
        "colab": {
          "base_uri": "https://localhost:8080/"
        }
      },
      "source": [
        "input"
      ],
      "execution_count": 57,
      "outputs": [
        {
          "output_type": "execute_result",
          "data": {
            "text/plain": [
              "tensor([0.8551, 0.1349, 0.7407, 0.3959])"
            ]
          },
          "metadata": {
            "tags": []
          },
          "execution_count": 57
        }
      ]
    },
    {
      "cell_type": "code",
      "metadata": {
        "id": "dlC352dg5fij",
        "outputId": "c95d4914-8388-4337-e4ef-8de4039a807a",
        "colab": {
          "base_uri": "https://localhost:8080/"
        }
      },
      "source": [
        "torch.acos(input)"
      ],
      "execution_count": 58,
      "outputs": [
        {
          "output_type": "execute_result",
          "data": {
            "text/plain": [
              "tensor([0.5450, 1.4355, 0.7366, 1.1637])"
            ]
          },
          "metadata": {
            "tags": []
          },
          "execution_count": 58
        }
      ]
    },
    {
      "cell_type": "markdown",
      "metadata": {
        "id": "zLFA5jeb7dcB"
      },
      "source": [
        "##### 💌 Math operations - Reduction Ops\n",
        "\n",
        "``` python\n",
        "🦆\n",
        "함수들이 조건에 따라 tensor에서 특정 값만을 가져오거나\n",
        "연산을 통해서 크기를 줄이는 등 주어진 tensor의 크기를 줄여서\n",
        "출력하기 때문에 reduction의 이름이 붙은 것 같아요!\n",
        "```\n",
        "\n",
        "- [Math operations - PyTorch 공식 문서](https://pytorch.org/docs/stable/torch.html#math-operations)"
      ]
    },
    {
      "cell_type": "markdown",
      "metadata": {
        "id": "poy8CCOC7dcC"
      },
      "source": [
        "- ✅ 함수와 요약 설명을 가볍게 훑어보세요!\n",
        "- ✅ <font color='yellow'><b>[ Optional ]</b></font> 원하는 3개 함수를 골라서 예제 코드를 돌려보세요!\n",
        "    - \n",
        "    - \n",
        "    - \n"
      ]
    },
    {
      "cell_type": "code",
      "metadata": {
        "id": "ge2hq5ES6xiB"
      },
      "source": [
        "a = torch.randn(4)"
      ],
      "execution_count": 59,
      "outputs": []
    },
    {
      "cell_type": "code",
      "metadata": {
        "id": "PyQts96060kv",
        "outputId": "1112d3bc-e791-4a6d-b5b0-cad5524904bd",
        "colab": {
          "base_uri": "https://localhost:8080/"
        }
      },
      "source": [
        "torch.clamp(a, min=-0.5, max=0.5)"
      ],
      "execution_count": 60,
      "outputs": [
        {
          "output_type": "execute_result",
          "data": {
            "text/plain": [
              "tensor([ 0.5000, -0.3999,  0.0313, -0.5000])"
            ]
          },
          "metadata": {
            "tags": []
          },
          "execution_count": 60
        }
      ]
    },
    {
      "cell_type": "code",
      "metadata": {
        "id": "qoUEiVZD7E9n",
        "outputId": "6aef4b6d-775a-42b9-c72e-db33d13db757",
        "colab": {
          "base_uri": "https://localhost:8080/"
        }
      },
      "source": [
        "a = torch.randn(4)\n",
        "a"
      ],
      "execution_count": 61,
      "outputs": [
        {
          "output_type": "execute_result",
          "data": {
            "text/plain": [
              "tensor([-0.5648,  2.1808, -0.6205,  0.2556])"
            ]
          },
          "metadata": {
            "tags": []
          },
          "execution_count": 61
        }
      ]
    },
    {
      "cell_type": "code",
      "metadata": {
        "id": "vpHRREkw7GqZ",
        "outputId": "4feef0a8-1afe-4abd-dfac-a687d29fe53e",
        "colab": {
          "base_uri": "https://localhost:8080/"
        }
      },
      "source": [
        "torch.floor(a)"
      ],
      "execution_count": 62,
      "outputs": [
        {
          "output_type": "execute_result",
          "data": {
            "text/plain": [
              "tensor([-1.,  2., -1.,  0.])"
            ]
          },
          "metadata": {
            "tags": []
          },
          "execution_count": 62
        }
      ]
    },
    {
      "cell_type": "markdown",
      "metadata": {
        "id": "IJNyfmll_h_o"
      },
      "source": [
        "##### 💌 Math operations - Comparison Ops\n",
        "\n",
        "``` python\n",
        "🦆\n",
        "작은지 큰지 이런 비교와 관련된 기능을 포함하는 함수들처럼 보여요!\n",
        "if else 문만큼 유용할 것 같아요!\n",
        "```\n",
        "\n",
        "- [Math operations - PyTorch 공식 문서](https://pytorch.org/docs/stable/torch.html#math-operations)"
      ]
    },
    {
      "cell_type": "markdown",
      "metadata": {
        "id": "rOStUYzm_h_p"
      },
      "source": [
        "- ✅ 함수와 요약 설명을 가볍게 훑어보세요!\n",
        "- ✅ <font color='yellow'><b>[ Optional ]</b></font> 원하는 3개 함수를 골라서 예제 코드를 돌려보세요!\n",
        "    - \n",
        "    - \n",
        "    - "
      ]
    },
    {
      "cell_type": "code",
      "metadata": {
        "id": "0MzeBSwa70ka",
        "outputId": "94582b09-90bb-4722-8a7f-96c778e57fe2",
        "colab": {
          "base_uri": "https://localhost:8080/"
        }
      },
      "source": [
        "a = torch.randn(4, 4)\n",
        "a"
      ],
      "execution_count": 63,
      "outputs": [
        {
          "output_type": "execute_result",
          "data": {
            "text/plain": [
              "tensor([[-1.5093, -1.1954,  1.0908,  0.0058],\n",
              "        [ 2.3110,  0.6811,  0.0636, -2.3280],\n",
              "        [ 0.5330,  0.6360,  1.3986,  0.8684],\n",
              "        [ 0.5928, -0.1122, -0.1152,  0.7209]])"
            ]
          },
          "metadata": {
            "tags": []
          },
          "execution_count": 63
        }
      ]
    },
    {
      "cell_type": "code",
      "metadata": {
        "id": "V6gXrjtj75YY",
        "outputId": "13cc12d7-d8ef-4d7c-cb07-2a71838c84f1",
        "colab": {
          "base_uri": "https://localhost:8080/"
        }
      },
      "source": [
        "torch.argmax(a)"
      ],
      "execution_count": 65,
      "outputs": [
        {
          "output_type": "execute_result",
          "data": {
            "text/plain": [
              "tensor(4)"
            ]
          },
          "metadata": {
            "tags": []
          },
          "execution_count": 65
        }
      ]
    },
    {
      "cell_type": "code",
      "metadata": {
        "id": "HT-YF8nk8wLa",
        "outputId": "65aa8ab6-8c6c-4d37-efe9-8d884d308adf",
        "colab": {
          "base_uri": "https://localhost:8080/"
        }
      },
      "source": [
        "a = torch.randn(4, 4)\n",
        "a"
      ],
      "execution_count": 67,
      "outputs": [
        {
          "output_type": "execute_result",
          "data": {
            "text/plain": [
              "tensor([[-1.4202, -0.6713, -0.5595, -0.0775],\n",
              "        [ 1.2394, -1.1482, -1.2689,  0.3800],\n",
              "        [ 0.1375, -1.0941,  0.1001,  1.5768],\n",
              "        [-1.2876, -0.7923,  1.4605,  0.8917]])"
            ]
          },
          "metadata": {
            "tags": []
          },
          "execution_count": 67
        }
      ]
    },
    {
      "cell_type": "code",
      "metadata": {
        "id": "Uo9BoAKO80cz",
        "outputId": "9d6dd9f9-423d-4075-b072-17cd702abe64",
        "colab": {
          "base_uri": "https://localhost:8080/"
        }
      },
      "source": [
        " torch.amax(a, 1)"
      ],
      "execution_count": 68,
      "outputs": [
        {
          "output_type": "execute_result",
          "data": {
            "text/plain": [
              "tensor([-0.0775,  1.2394,  1.5768,  1.4605])"
            ]
          },
          "metadata": {
            "tags": []
          },
          "execution_count": 68
        }
      ]
    },
    {
      "cell_type": "markdown",
      "metadata": {
        "id": "qrEsHFT2FRDj"
      },
      "source": [
        "##### 💌 Math operations - Other Operations\n",
        "\n",
        "``` python\n",
        "🦆\n",
        "특정한 세부 항목으로 분류하기 힘든 함수들을 모아놨나봐요!\n",
        "유용해보이는 함수 몇몇 눈에 띄네요!\n",
        "특히 \"einsum\"은 배치 단위의 텐서 계산에 유용해보여서\n",
        "왠지 기억해두면 custom 모델을 만들때 사용할 일이 있을 것 같아요!\n",
        "```\n",
        "\n",
        "- [Math operations - PyTorch 공식 문서](https://pytorch.org/docs/stable/torch.html#math-operations)"
      ]
    },
    {
      "cell_type": "markdown",
      "metadata": {
        "id": "O9dwBl4SFRDk"
      },
      "source": [
        "- ✅ 함수와 요약 설명을 가볍게 훑어보세요!\n",
        "- ✅ <font color='yellow'><b>[ Optional ]</b></font> 원하는 3개 함수를 골라서 예제 코드를 돌려보세요!\n",
        "    - \n",
        "    - \n",
        "    - "
      ]
    },
    {
      "cell_type": "code",
      "metadata": {
        "id": "eN571WRc9cT1",
        "outputId": "30474827-b2b8-4816-ac3d-4942e601a2f2",
        "colab": {
          "base_uri": "https://localhost:8080/"
        }
      },
      "source": [
        "#torch.einsum(equation, *operands) → Tensor\n",
        "x = torch.randn(5)\n",
        "y = torch.randn(4)\n",
        "torch.einsum('i,j->ij', x, y)"
      ],
      "execution_count": 69,
      "outputs": [
        {
          "output_type": "execute_result",
          "data": {
            "text/plain": [
              "tensor([[ 0.6965, -0.4511, -0.6043, -1.6980],\n",
              "        [ 0.9083, -0.5882, -0.7880, -2.2141],\n",
              "        [ 0.5541, -0.3589, -0.4808, -1.3508],\n",
              "        [ 2.0822, -1.3486, -1.8065, -5.0758],\n",
              "        [-0.6337,  0.4105,  0.5499,  1.5449]])"
            ]
          },
          "metadata": {
            "tags": []
          },
          "execution_count": 69
        }
      ]
    },
    {
      "cell_type": "markdown",
      "metadata": {
        "id": "8r1QkKGGJobo"
      },
      "source": [
        "##### 💌 Math operations - BLAS and LAPACK Operations\n",
        "\n",
        "``` python\n",
        "🦆\n",
        "위협적으로 보이는 이름에 놀라셨죠? 저도 놀랐어요!\n",
        "\n",
        "- \"BLAS\" - Basic Linear Algebra Subprograms\n",
        "- \"LAPACK\" - Linear Algebra PACKage\n",
        "\n",
        "찾아보았는데 이는 모두 선형대수학(Linear Algebra)와 연관된 이름이에요!\n",
        "함수를 살펴보니까 친숙함이 느껴져요!\n",
        "```\n",
        "\n",
        "- [Math operations - PyTorch 공식 문서](https://pytorch.org/docs/stable/torch.html#math-operations)\n",
        "- [BLAS - netlib](http://www.netlib.org/blas/)\n",
        "- [LAPACK - netlib](http://www.netlib.org/lapack/)"
      ]
    },
    {
      "cell_type": "markdown",
      "metadata": {
        "id": "3ZVGkAp5Jobp"
      },
      "source": [
        "- ✅ 함수와 요약 설명을 가볍게 훑어보세요!\n",
        "- ✅ <font color='yellow'><b>[ Optional ]</b></font> 원하는 3개 함수를 골라서 예제 코드를 돌려보세요!\n",
        "    - \n",
        "    - \n",
        "    - "
      ]
    },
    {
      "cell_type": "code",
      "metadata": {
        "colab": {
          "base_uri": "https://localhost:8080/"
        },
        "id": "qbzHU6WTJobq",
        "outputId": "bd008d5d-b93b-4603-ba47-b32fcf94e13a"
      },
      "source": [
        "import torch\n",
        "\n",
        "M = torch.randn(2, 3)\n",
        "mat1 = torch.randn(2, 3)\n",
        "mat2 = torch.randn(3, 3)\n",
        "torch.addmm(M, mat1, mat2)"
      ],
      "execution_count": 29,
      "outputs": [
        {
          "output_type": "execute_result",
          "data": {
            "text/plain": [
              "tensor([[ 0.3265, -0.9941, -1.1375],\n",
              "        [ 3.7853,  2.5347,  0.2685]])"
            ]
          },
          "metadata": {
            "tags": []
          },
          "execution_count": 29
        }
      ]
    },
    {
      "cell_type": "code",
      "metadata": {
        "colab": {
          "base_uri": "https://localhost:8080/"
        },
        "id": "uRk9bcnqJobr",
        "outputId": "2be9fa1c-3124-4ad6-d9e4-0e5cc6f663d6"
      },
      "source": [
        "a = torch.eye(10)\n",
        "torch.matrix_rank(a)"
      ],
      "execution_count": 30,
      "outputs": [
        {
          "output_type": "stream",
          "text": [
            "/usr/local/lib/python3.7/dist-packages/ipykernel_launcher.py:2: UserWarning: torch.matrix_rank is deprecated in favor of torch.linalg.matrix_rankand will be removed in a future PyTorch release. The parameter 'symmetric' was renamed in torch.linalg.matrix_rank to 'hermitian'. (Triggered internally at  /pytorch/aten/src/ATen/native/LinearAlgebra.cpp:438.)\n",
            "  \n"
          ],
          "name": "stderr"
        },
        {
          "output_type": "execute_result",
          "data": {
            "text/plain": [
              "tensor(10)"
            ]
          },
          "metadata": {
            "tags": []
          },
          "execution_count": 30
        }
      ]
    },
    {
      "cell_type": "code",
      "metadata": {
        "colab": {
          "base_uri": "https://localhost:8080/"
        },
        "id": "g5GegxahJobr",
        "outputId": "8e2614c6-d50c-4cfe-ebd2-6150ed5c35cd"
      },
      "source": [
        "b = torch.eye(10)\n",
        "b[0, 0] = 0\n",
        "torch.matrix_rank(b)"
      ],
      "execution_count": 31,
      "outputs": [
        {
          "output_type": "execute_result",
          "data": {
            "text/plain": [
              "tensor(9)"
            ]
          },
          "metadata": {
            "tags": []
          },
          "execution_count": 31
        }
      ]
    },
    {
      "cell_type": "code",
      "metadata": {
        "colab": {
          "base_uri": "https://localhost:8080/"
        },
        "id": "7_b9Xu6qJobs",
        "outputId": "0f4c2b5e-1cca-4d58-8c45-9121957444b8"
      },
      "source": [
        "a = torch.tensor([[12., -51, 4],\n",
        "                  [6, 167, -68],\n",
        "                  [-4, 24, -41]])\n",
        "q, r = torch.qr(a)\n",
        "q"
      ],
      "execution_count": 32,
      "outputs": [
        {
          "output_type": "stream",
          "text": [
            "/usr/local/lib/python3.7/dist-packages/ipykernel_launcher.py:4: UserWarning: torch.qr is deprecated in favor of torch.linalg.qr and will be removed in a future PyTorch release.\n",
            "The boolean parameter 'some' has been replaced with a string parameter 'mode'.\n",
            "Q, R = torch.qr(A, some)\n",
            "should be replaced with\n",
            "Q, R = torch.linalg.qr(A, 'reduced' if some else 'complete') (Triggered internally at  /pytorch/aten/src/ATen/native/BatchLinearAlgebra.cpp:1940.)\n",
            "  after removing the cwd from sys.path.\n"
          ],
          "name": "stderr"
        },
        {
          "output_type": "execute_result",
          "data": {
            "text/plain": [
              "tensor([[-0.8571,  0.3943,  0.3314],\n",
              "        [-0.4286, -0.9029, -0.0343],\n",
              "        [ 0.2857, -0.1714,  0.9429]])"
            ]
          },
          "metadata": {
            "tags": []
          },
          "execution_count": 32
        }
      ]
    },
    {
      "cell_type": "code",
      "metadata": {
        "colab": {
          "base_uri": "https://localhost:8080/"
        },
        "id": "W5mBhSmmJobs",
        "outputId": "4b41f584-c8cc-46c8-8e45-699264b73029"
      },
      "source": [
        "r"
      ],
      "execution_count": 33,
      "outputs": [
        {
          "output_type": "execute_result",
          "data": {
            "text/plain": [
              "tensor([[ -14.0000,  -21.0000,   14.0000],\n",
              "        [   0.0000, -175.0000,   70.0000],\n",
              "        [   0.0000,    0.0000,  -35.0000]])"
            ]
          },
          "metadata": {
            "tags": []
          },
          "execution_count": 33
        }
      ]
    },
    {
      "cell_type": "code",
      "metadata": {
        "colab": {
          "base_uri": "https://localhost:8080/"
        },
        "id": "e9SbUGKmJobs",
        "outputId": "5597c9ae-a6d4-431b-897f-5a97030c3ba6"
      },
      "source": [
        "torch.mm(q, r).round()"
      ],
      "execution_count": 34,
      "outputs": [
        {
          "output_type": "execute_result",
          "data": {
            "text/plain": [
              "tensor([[ 12., -51.,   4.],\n",
              "        [  6., 167., -68.],\n",
              "        [ -4.,  24., -41.]])"
            ]
          },
          "metadata": {
            "tags": []
          },
          "execution_count": 34
        }
      ]
    },
    {
      "cell_type": "code",
      "metadata": {
        "colab": {
          "base_uri": "https://localhost:8080/"
        },
        "id": "C_2T-Q3EJobt",
        "outputId": "d6c50742-c770-482d-c97f-702b8a57d6a3"
      },
      "source": [
        "torch.allclose(torch.matmul(q, r), a)"
      ],
      "execution_count": 35,
      "outputs": [
        {
          "output_type": "execute_result",
          "data": {
            "text/plain": [
              "True"
            ]
          },
          "metadata": {
            "tags": []
          },
          "execution_count": 35
        }
      ]
    },
    {
      "cell_type": "markdown",
      "metadata": {
        "id": "GGZDh_Tw4tpS"
      },
      "source": [
        "#### 📖 <font color='gold' ><b>[ 읽기 ]</b></font> torch.linalg 문서 읽기\n",
        "``` python\n",
        "🦆\n",
        "torch 문서를 읽으면서 보았던 선형대수학(linear algebra) 관련 함수들이\n",
        "\"torch.linalg\"로 새롭게 정리되면서 기존 \"torch\"에 속해있던\n",
        "선형대수학 기능들이 deprecated 된 것 같아요!\n",
        "\n",
        "디렉토리가 이동했을 뿐 함수명은 이미 친숙하게 느껴지네요! 그렇지 않나요?\n",
        "```\n",
        "\n",
        "- [torch.linalg 문서 - PyTorch 공식 문서](https://pytorch.org/docs/stable/linalg.html#)"
      ]
    },
    {
      "cell_type": "markdown",
      "metadata": {
        "id": "tOg5zeq46J0A"
      },
      "source": [
        "- ✅ torch.linalg 하위 목차를 한번 훑어보세요!\n",
        "    - Matrix Properties\n",
        "    - Decompositions\n",
        "    - Solvers\n",
        "    - Inverses\n",
        "    - Matrix Products\n",
        "    - Tensor Operations\n",
        "    - Experimental Functions\n",
        "- ✅ 각 하위 목차별로 어떤 함수가 속해있는지 훑어보세요!\n",
        "    - ex) Matrix Properties에는 `norm`, `vector_norm` 등이 있다\n",
        "    - ex) Decompositions에는 `cholesky`, `qr`, `svd` 등이 있다\n",
        "    - ex) Inverses에는 `inv`, `pinv` 2개의 함수가 있다"
      ]
    },
    {
      "cell_type": "markdown",
      "metadata": {
        "id": "HXUIf4hw8R_A"
      },
      "source": [
        "#### 📖 <font color='gold' ><b>[ 읽기 ]</b></font> torch.nn 문서 읽기\n",
        "``` python\n",
        "🦆\n",
        "설명에 그래프를 만들기 위한 \"basic building block\"이라고 쓰여있어요!\n",
        "\n",
        "지금까지 저희가 확인한 다양한 함수들을 잘 활용하면\n",
        "여기서 말하는 \"basic building block\"을 만들 수 있겠지만 시간이 걸리니까\n",
        "PyTorch에서 미리 만들어두고 이를 \"torch.nn\"으로 묶어놓은 것 같아요! \n",
        "\n",
        "여기서 제공해주는 블럭들을 잘 이용하면 그래프라는 딥러닝 모델을 만들 수 있을 것 같아요!\n",
        "\n",
        "매우 중요해보이지만 내용이 정말 많네요!\n",
        "이 많은 내용을 다 볼 수는 없으니까 간단하게 훑어보기만 해요!\n",
        "지금은 생소하고 어려워보여도 차츰 익숙해질게 틀림없어요!\n",
        "```\n",
        "\n",
        "- [torch.nn 문서 - PyTorch 공식 문서](https://pytorch.org/docs/stable/nn.html)"
      ]
    },
    {
      "cell_type": "markdown",
      "metadata": {
        "id": "MQjpdQWB8R_S"
      },
      "source": [
        "- ✅ torch.nn의 하위 목차를 한번 훑어보세요!\n",
        "- ✅ 각 하위 목차별로 어떤 레이어(Layer)혹은 함수(Function)가 속해있는지 훑어보세요!\n"
      ]
    },
    {
      "cell_type": "markdown",
      "metadata": {
        "id": "R68OFoe8BzbF"
      },
      "source": [
        "#### 👨‍💻 <font color='green'><b>[ 코딩 ]</b></font> torch.nn `Linear Layers`\n",
        "\n",
        "``` python\n",
        "🦆\n",
        "가볍게 읽기만 하려고 했는데 그래도 한 두개는 직접 예제를 따라해보고 싶어요!\n",
        "딥러닝을 공부할 때 자주 나오던 y = WX + b 라는 공식이 기억나시나요?\n",
        "이 linear transformation을 구현해놓은 \"nn.Linear\"가 속해잇는\n",
        "\"Linear Layers\" 항목을 잠깐만 같이 살펴봐요!\n",
        "```\n",
        "\n",
        "- [torch.nn Linear Layers - PyTorch 공식 문서](https://pytorch.org/docs/stable/nn.html#linear-layers)"
      ]
    },
    {
      "cell_type": "markdown",
      "metadata": {
        "id": "rZmymVenGzXd"
      },
      "source": [
        "##### 💡 nn.Linear\n",
        "\n",
        "\n",
        "``` python\n",
        "🦆\n",
        "앞으로 왠지 이 \"nn.Linear\"는 정말 자주 마주칠 것만 같은 예감이 들어요!\n",
        "```\n",
        "\n",
        "- [torch.nn.Linear - PyTorch 공식 문서](https://pytorch.org/docs/stable/generated/torch.nn.Linear.html#torch.nn.Linear)\n",
        "\n",
        "🎁 **힌트** 🎁\n",
        "- PyTorch에는 tensor 크기(or 모양)를 반환하는 함수가 있어요! 영어로 크기가 무엇일까요?"
      ]
    },
    {
      "cell_type": "markdown",
      "metadata": {
        "id": "AO7Bjh3kFokE"
      },
      "source": [
        "![image.png](data:image/png;base64,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)"
      ]
    },
    {
      "cell_type": "code",
      "metadata": {
        "id": "tjHTIZdrGzXd",
        "outputId": "8c41e20f-1b80-4b5f-b936-985f9641fe42",
        "colab": {
          "base_uri": "https://localhost:8080/"
        }
      },
      "source": [
        "import torch\n",
        "from torch import nn\n",
        "\n",
        "X = torch.Tensor([[1, 2],\n",
        "                  [3, 4]])\n",
        "\n",
        "# TODO : tensor X의 크기는 (2, 2)입니다\n",
        "#        nn.Linear를 사용하여서 (2, 5)로 크기를 바꾸고 이 크기를 출력하세요!\n",
        "linear = torch.nn.Linear(2,5)\n",
        "linear1 = linear(X)\n",
        "print(linear1.size())\n",
        "\n"
      ],
      "execution_count": 71,
      "outputs": [
        {
          "output_type": "stream",
          "text": [
            "torch.Size([2, 5])\n"
          ],
          "name": "stdout"
        }
      ]
    },
    {
      "cell_type": "markdown",
      "metadata": {
        "id": "eU_nhb1vKTi-"
      },
      "source": [
        "##### 💡 nn.Identity\n",
        "> 믿기지 않겠지만 이 layer도 유용하게 사용됩니다. 다만 딥러닝을 막 배우는 단계에서 이 layer를 사용할 일은 거의 없기 때문에 사용처를 아실 필요는 없습니다. 다만 궁금해하실 분들을 위해 링크를 남겨놓습니다.\n",
        "\n",
        "``` python\n",
        "🦆\n",
        "??? 이 \"nn.Identity\"는 도대체.. 뭐죠???\n",
        "입력과 출력이 동일하게 나오는데 도대체 왜 만들어놓은 걸까요?\n",
        "그래도.. 한번 사용해봐요!\n",
        "```\n",
        "\n",
        "- [torch.nn.Identity - PyTorch 공식 문서](https://pytorch.org/docs/stable/generated/torch.nn.Identity.html#torch.nn.Identity)\n",
        "\n",
        "**✨ 유용한 자료 ✨**\n",
        "- [What is the use of nn.Identity? - PyTorch Forum](https://discuss.pytorch.org/t/what-is-the-use-of-nn-identity/51781)\n",
        "- [What is the idea behind using nn.Identity for residual learning? - Stack Overflow](https://stackoverflow.com/questions/64229717/what-is-the-idea-behind-using-nn-identity-for-residual-learning)"
      ]
    },
    {
      "cell_type": "code",
      "metadata": {
        "id": "Om5zRqyvKTjA",
        "outputId": "311c4f29-b830-46d9-afb0-30674ba311cf",
        "colab": {
          "base_uri": "https://localhost:8080/"
        }
      },
      "source": [
        "import torch\n",
        "from torch import nn\n",
        "\n",
        "X = torch.Tensor([[1, 2],\n",
        "                  [3, 4]])\n",
        "\n",
        "# TODO : nn.Identity를 생성해 X를 입력시킨 후 나온 출력값이 X와 동일한지 확인해보세요!\n",
        "m = nn.Identity()\n",
        "#input = torch.randn(128, 20)\n",
        "output = m(X)\n",
        "print(output)\n",
        "print(output.size())\n"
      ],
      "execution_count": 1,
      "outputs": [
        {
          "output_type": "stream",
          "text": [
            "tensor([[1., 2.],\n",
            "        [3., 4.]])\n",
            "torch.Size([2, 2])\n"
          ],
          "name": "stdout"
        }
      ]
    },
    {
      "cell_type": "markdown",
      "metadata": {
        "id": "ZRWBmAYkOYgy"
      },
      "source": [
        "#### ❓ <font color='red'><b>[ 퀴즈 ]</b></font> Linear vs LazyLinear\n",
        "``` python\n",
        "🦆\n",
        "그냥 지나치려고 했는데 신경이 쓰여서요!\n",
        "Linear와 LazyLinear 차이가 뭐죠?!\n",
        "```\n",
        "\n",
        "- [torch.nn.Linear - PyTorch 공식 문서](https://pytorch.org/docs/stable/generated/torch.nn.Linear.html#torch.nn.Linear)\n",
        "- [torch.nn.LazyLinear - PyTorch 공식 문서](https://pytorch.org/docs/stable/generated/torch.nn.LazyLinear.html#torch.nn.LazyLinear)"
      ]
    },
    {
      "cell_type": "markdown",
      "metadata": {
        "id": "SIrfhKtCOYg6"
      },
      "source": [
        "```python\n",
        "😂\n",
        "# TODO : 맞고 틀리고가 없는 문제입니다. 문서를 읽고 답을 자유로이 적어주세요\n",
        "\n",
        "```"
      ]
    },
    {
      "cell_type": "markdown",
      "metadata": {
        "id": "PNriTnyfdI0-"
      },
      "source": [
        "### 🎉🎉🎉 Documentation 완료! 🎉🎉🎉\n",
        "\n",
        "```python\n",
        "🦆\n",
        "우리가 함께 여기까지 오다니 너무 기뻐요!\n",
        "같이 좀 더 힘내서 나아가보자구요!\n",
        "```\n",
        "\n",
        "Documentation 장이 생각보다 많이 힘들었죠?<br>\n",
        "적지 않은 분량이었음에도 무사히 마무리 지으신 것을 정말 축하드립니다! 🎉<br> 결코 쉽지 않은 일입니다.\n",
        "\n",
        "여러분은 이제 Documentation을 활용할 준비가 되었습니다.<br>\n",
        "이제 우리의 본래 목적인 모델 제작과 관련된 내용을 다룰 차례입니다.<br>"
      ]
    },
    {
      "cell_type": "markdown",
      "metadata": {
        "id": "EYHm2O2t6Usd"
      },
      "source": [
        "## ⭐ Custom 모델 제작을 위한 nn.Module 클래스\n",
        "\n",
        "```\n",
        "💡 PyTorch 라이브러리가 제공해주는 다양한 기능들과\n",
        "   nn.Module를 활용하여 모델 제작 및 분석을 진행해볼 것입니다!\n",
        "```\n",
        "\n",
        "Documentation에 나온 다양한 기능들을 찾고 활용하는 방법을 배웠으니 이제 PyTorch가 제공해주는 기능들을 조합하여서 멋진 모델을 만들 차례입니다. 모델을 만들기 위해서 기능들을 단순히 나열해놓기만 한다면 지저분하겠죠? 그래서 PyTorch는 이런 일련의 기능들을 한 곳에 모아 하나의 모델로 추상화할 수 있게끔 클래스를 제공합니다.\n",
        "\n",
        "```\n",
        "💡 nn.Module\n",
        "```\n",
        "- [torch.nn.Module - PyTorch 공식 문서](https://pytorch.org/docs/stable/generated/torch.nn.Module.html)\n",
        "\n",
        "`nn.Module` 클래스는 여러 기능들을 한 곳에 모아놓는 상자 역할을 합니다.<br>\n",
        "`nn.Module`이라는 상자는 다른 `nn.Module` 상자를 포함할 수도 있습니다!<br>\n",
        "어떻게 사용햐느냐에 따라 `nn.Module` 상자는 다른 의미를 가집니다.\n",
        "\n",
        "- `nn.Module`이라는 상자에 `기능`들을 가득 모아놓은 경우 `basic building block`\n",
        "- `nn.Module`이라는 상자에 `basic building block`인 `nn.Module`들을 가득 모아놓은 경우 `딥러닝 모델`\n",
        "- `nn.Module`이라는 상자에 `딥러닝 모델`인 `nn.Module`들을 가득 모아놓은 경우 `더욱 큰 딥러닝 모델`\n",
        "\n",
        "`nn.Module`은 빈 상자일 뿐 이를 어떻게 사용할지는 온전히 설계자의 몫입니다!<br>\n",
        "`기능`과 `basic building block`과 `딥러닝 모델`을 혼재해서 마구잡이로 담을 수도 있고<br>\n",
        "`기능`은 `기능`끼리 `block`은 `block`끼리 계층적으로 담을 수도 있습니다!\n",
        "\n",
        "우리는 여기서 `nn.Module`를 이용해 모델을 제작해보고 제작한 모델이 어떻게 구성되어있는지 분석해볼 것입니다!<br>\n",
        "추가적으로 custom 모델 제작에 유용할 수 있는 `nn.Module`의 기능들도 살펴볼 것입니다!\n",
        "\n",
        "🦆 부덕이가 솟구치는 배움의 욕구를 주체하기 어려워하고 있어요!\n",
        "\n",
        "- ☄️ nn.Module 모델 제작\n",
        "- ☄️ nn.Module 분석하기\n",
        "- ☄️ nn.Module 알쓸신잡\n"
      ]
    },
    {
      "cell_type": "markdown",
      "metadata": {
        "id": "yXCog9jT_MJt"
      },
      "source": [
        "### ☄️ nn.Module 모델 제작\n",
        "> nn.Module이 무엇인지 이해한 후 이를 이용하여서 모델을 제작하는 다양한 방법에 대해서 실습해보고 custom 모델을 제작함에 있어 중요한 개념들에 대해 이해하는 시간을 가질 것입니다\n",
        "\n",
        "- 📖 <font color='gold' ><b>[ 읽기 ]</b></font> torch.nn.Module 문서 읽기\n",
        "- 👨‍💻 <font color='green'><b>[ 코딩 ]</b></font> 1 + 2\n",
        "- 👨‍💻 <font color='green'><b>[ 코딩 ]</b></font> Container\n",
        "- ❓ <font color='red'><b>[ 퀴즈 ]</b></font> Python List vs PyTorch ModuleList\n",
        "- 👨‍💻 <font color='green'><b>[ 코딩 ]</b></font> 조건문\n",
        "- 👨‍💻 <font color='green'><b>[ 코딩 ]</b></font> Module들의 흐름 느껴보기\n",
        "- 👨‍💻 <font color='green'><b>[ 코딩 ]</b></font> Parameter\n",
        "- ❓ <font color='red'><b>[ 퀴즈 ]</b></font> Tensor vs Parameter\n",
        "- 👨‍💻 <font color='green'><b>[ 코딩 ]</b></font> Buffer"
      ]
    },
    {
      "cell_type": "markdown",
      "metadata": {
        "id": "mgJ38Rsiy2Tc"
      },
      "source": [
        "#### 📖 <font color='gold' ><b>[ 읽기 ]</b></font> torch.nn.Module 문서 읽기\n",
        "``` python\n",
        "🦆\n",
        "\"nn.Module\"은 앞으로 저희와 계속 함께하게될 운명이 틀림없어요!\n",
        "잠깐이지만 \"nn.Module\"에 대해서 알아보는 시간을 가져봐요! \n",
        "```\n",
        "\n",
        "- [Documentation main - PyTorch 공식 문서](https://pytorch.org/docs/stable/index.html)"
      ]
    },
    {
      "cell_type": "markdown",
      "metadata": {
        "id": "IoDjvw97y2Tr"
      },
      "source": [
        "- ✅ Documentation에서 nn.Module을 검색해서 찾으세요!\n",
        "- ✅ nn.Module 문서의 설명을 읽어보세요!\n",
        "    - ![](https://github.com/IllgamhoDuck/PyTorch/blob/main/document_image/nn.Module.png?raw=true)\n",
        "- ✅ nn.Module 내부의 method들의 이름과 설명을 가볍게 훑어보세요!\n",
        "```\n",
        "🔔 외우거나 이해하는 시간이 아닙니다!\n",
        "     설명이 눈에 잘 안들어오고 어색하다면 매우 정상입니다\n",
        "     억지로 읽으실 필요 없습니다! 눈에 안들어오면 그냥 지나가세요!\n",
        "     앞으로 공부를 해가시면서 점차 익숙해지실거니 지금은\n",
        "     가벼운 마음으로 훑어보면서 이런게 있구나~ 정도로만 보세요!\n",
        "```\n",
        "    - add_module\n",
        "    - apply\n",
        "    - bfloat16\n",
        "    - buffers\n",
        "    - children\n",
        "    - cpu\n",
        "    - cuda\n",
        "    - double\n",
        "    - dump_patches\n",
        "    - eval\n",
        "    - extra_repr\n",
        "    - float\n",
        "    - forward\n",
        "    - get_buffer\n",
        "    - get_parameter\n",
        "    - get_submodule\n",
        "    - half\n",
        "    - load_state_dict\n",
        "    - modules\n",
        "    - named_buffers\n",
        "    - named_children\n",
        "    - named_modules\n",
        "    - named_parameters\n",
        "    - parameters\n",
        "    - register_backward_hook\n",
        "    - register_buffer\n",
        "    - register_forward_hook\n",
        "    - register_forward_pre_hook\n",
        "    - register_full_backward_hook\n",
        "    - register_parameter\n",
        "    - requires_grad_\n",
        "    - share_memory\n",
        "    - state_dict\n",
        "    - to\n",
        "    - to_empty\n",
        "    - train\n",
        "    - type\n",
        "    - xpu\n",
        "    - zero_grad"
      ]
    },
    {
      "cell_type": "markdown",
      "metadata": {
        "id": "5OhWyjstxvUt"
      },
      "source": [
        "#### 👨‍💻 <font color='green'><b>[ 코딩 ]</b></font> 1 + 2\n",
        "\n",
        "``` python\n",
        "🦆\n",
        "Documentation을 읽어나가다가 가볍게 \"torch.add\"를 이용해서 \n",
        "사칙연산을 계산한 것을 기억하세요?\n",
        "\n",
        "이번에는 \"nn.Module\"를 이용해서 더하기 연산을 하는 모델을 만들어보아요!\n",
        "```\n",
        "\n",
        "- [Documentation main - PyTorch 공식 문서](https://pytorch.org/docs/stable/index.html)\n",
        "- [torch.add - PyTorch 공식 문서](https://pytorch.org/docs/stable/generated/torch.add.html?highlight=add#torch.add)"
      ]
    },
    {
      "cell_type": "code",
      "metadata": {
        "id": "lF5CCXcgxjWD"
      },
      "source": [
        "import torch\n",
        "from torch import nn\n",
        "\n",
        "# TODO : Add 모델을 완성하세요!\n",
        "class Add(nn.Module):\n",
        "    def __init__(self):\n",
        "        # TODO : init 과정에서 반드시 들어가야 하는 super 관련 코드가 있습니다\n",
        "        pass\n",
        "\n",
        "    def forward(self, x1, x2):\n",
        "        # TODO : torch.add 함수를 사용해서 더하기 연산을 해주세요!\n",
        "        pass\n",
        "\n",
        "\n",
        "# 아래 코드는 수정하실 필요가 없습니다!\n",
        "x1 = torch.tensor([1])\n",
        "x2 = torch.tensor([2])\n",
        "\n",
        "add = Add()\n",
        "output = add(x1, x2)\n",
        "\n",
        "if output == 3:\n",
        "    print(\"🎉🎉🎉 성공!!! 🎉🎉🎉\")\n",
        "else:\n",
        "    print(\"🦆 다시 도전해봐요!\")"
      ],
      "execution_count": null,
      "outputs": []
    },
    {
      "cell_type": "markdown",
      "metadata": {
        "id": "ZfhwgR6kYy6i"
      },
      "source": [
        "``` python\n",
        "🦆\n",
        "super를 통해서 init을 하는 것은 왜 그런걸까요?\n",
        "\n",
        "아래 링크의 글을 읽으니까 의문이 좀 풀리는 것 같아요! \n",
        "```\n",
        "\n",
        "**✨ 유용한 자료 ✨**\n",
        "- [Why is the super constructor necessary in PyTorch custom modules? - Stack Overflow](https://stackoverflow.com/questions/63058355/why-is-the-super-constructor-necessary-in-pytorch-custom-modules)"
      ]
    },
    {
      "cell_type": "markdown",
      "metadata": {
        "id": "MpJ51jOZL1pm"
      },
      "source": [
        "#### 👨‍💻 <font color='green'><b>[ 코딩 ]</b></font> Container\n",
        "\n",
        "``` python\n",
        "🦆\n",
        "저희가 원하는 모듈(Module)을 성공적으로 만들었어요!\n",
        "시작이 절반! 인지는 모르겠지만 모델을 만든 것은 틀림없죠!\n",
        "\n",
        "이렇게 만든 모듈(Module)들을 묶어서 사용하고 싶은데 어떻게 하는걸까요?\n",
        "파이썬의 리스트에 모듈들을 보관하면 되는걸까요?\n",
        "\n",
        "앗! 찾았어요! \n",
        "Documentation을 열심히 찾아보니까 관련된 함수들이\n",
        "\"torch.nn\"의 Container 항목에 포함되어있네요!\n",
        "```\n",
        "\n",
        "- [Documentation main - PyTorch 공식 문서](https://pytorch.org/docs/stable/index.html)\n",
        "- [Containers  - PyTorch 공식 문서](https://pytorch.org/docs/stable/nn.html#containers)"
      ]
    },
    {
      "cell_type": "markdown",
      "metadata": {
        "id": "6a_OSRXMgc8j"
      },
      "source": [
        "##### 💡 torch.nn.Sequential\n",
        "\n",
        "``` python\n",
        "🦆\n",
        "모듈(Module)들을 하나로 묶어 순차적으로 실행시키고 싶을때\n",
        "torch.nn.Sequential를 사용한다고 하네요! 같이 만들어봐요!\n",
        "```\n",
        "\n",
        "- [torch.nn.Sequential - PyTorch 공식 문서](https://pytorch.org/docs/stable/generated/torch.nn.Sequential.html#torch.nn.Sequential)"
      ]
    },
    {
      "cell_type": "code",
      "metadata": {
        "id": "ZAzm120dL1p4"
      },
      "source": [
        "import torch\n",
        "from torch import nn\n",
        "\n",
        "# TODO : 다음의 모듈(Module)을 읽고 이해해보세요!\n",
        "class Add(nn.Module):\n",
        "    def __init__(self, value):\n",
        "        super().__init__()\n",
        "        self.value = value\n",
        "\n",
        "    def forward(self, x):\n",
        "        return x + self.value\n",
        "\n",
        "# TODO : 위에 모듈(Module)과 nn.Sequential를 이용해서\n",
        "#        입력값 x가 주어지면 다음의 연산을 처리하는 모델을 만들어보세요!\n",
        "#        y = x + 3 + 2 + 5\n",
        "calculator = None\n",
        "\n",
        "\n",
        "# 아래 코드는 수정하실 필요가 없습니다!\n",
        "x = torch.tensor([1])\n",
        "\n",
        "output = calculator(x)\n",
        "\n",
        "if output == 11:\n",
        "    print(\"🎉🎉🎉 성공!!! 🎉🎉🎉\")\n",
        "else:\n",
        "    print(\"🦆 다시 도전해봐요!\")"
      ],
      "execution_count": null,
      "outputs": []
    },
    {
      "cell_type": "markdown",
      "metadata": {
        "id": "a-Zs6pnh1925"
      },
      "source": [
        "##### 💡 torch.nn.ModuleList\n",
        "\n",
        "``` python\n",
        "🦆\n",
        "torch.nn.Sequential은 묶어놓은 모듈들을 차례대로 수행하기 때문에\n",
        "실행 순서가 정해져있는 기능들을 하나로 묶어두기 좋아보여요!\n",
        "\n",
        "하지만 파이썬의 list처럼 모아두기만 하고 그때그때 원하는 것만\n",
        "인덱싱(indexing)을 통해 쓰고 싶으면 torch.nn.ModuleList을 쓰면 되지 않을까요?\n",
        "```\n",
        "\n",
        "- [torch.nn.ModuleList - PyTorch 공식 문서](https://pytorch.org/docs/stable/generated/torch.nn.ModuleList.html#torch.nn.ModuleList)"
      ]
    },
    {
      "cell_type": "code",
      "metadata": {
        "colab": {
          "base_uri": "https://localhost:8080/"
        },
        "id": "7D3cK6pS193J",
        "outputId": "0311460a-1f6f-43f6-d535-494da1c203da"
      },
      "source": [
        "import torch\n",
        "from torch import nn\n",
        "\n",
        "# TODO : 다음의 모듈(Module)을 읽고 이해해보세요!\n",
        "class Add(nn.Module):\n",
        "    def __init__(self, value):\n",
        "        super().__init__()\n",
        "        self.value = value\n",
        "\n",
        "    def forward(self, x):\n",
        "        return x + self.value\n",
        "\n",
        "\n",
        "# TODO : Calculator 모델을 완성하세요!\n",
        "class Calculator(nn.Module):\n",
        "    def __init__(self):\n",
        "        super().__init__()\n",
        "        self.add_list = nn.ModuleList([Add(2), Add(3), Add(5)])\n",
        "\n",
        "    def forward(self, x):\n",
        "        # TODO : self.add_list에 담긴 모듈들을 이용하여서\n",
        "        #        y = ((x + 3) + 2) + 5 의 연산을 구현하세요!\n",
        "        \n",
        "        return x\n",
        "\n",
        "\n",
        "# 아래 코드는 수정하실 필요가 없습니다!\n",
        "x = torch.tensor([1])\n",
        "\n",
        "calculator = Calculator()\n",
        "output = calculator(x)\n",
        "\n",
        "if output == 11:\n",
        "    print(\"🎉🎉🎉 성공!!! 🎉🎉🎉\")\n",
        "else:\n",
        "    print(\"🦆 다시 도전해봐요!\")"
      ],
      "execution_count": null,
      "outputs": [
        {
          "output_type": "stream",
          "text": [
            "🦆 다시 도전해봐요!\n"
          ],
          "name": "stdout"
        }
      ]
    },
    {
      "cell_type": "markdown",
      "metadata": {
        "id": "XLOhs8I56dYA"
      },
      "source": [
        "##### 💡 torch.nn.ModuleDict\n",
        "\n",
        "``` python\n",
        "🦆\n",
        "torch.nn.ModuleLists 정말 편리하네요!!\n",
        "하지만 만약 리스트에 담긴 모듈의 크기가 정말 커진다면\n",
        "나중에는 인덱싱(indexing)으로 원하는 모듈을 찾기가 정말 힘들어질 것 같아요!\n",
        "\n",
        "파이썬의 dict처럼 특정 모듈을 key값을 이용해 보관해놓는다면\n",
        "나중에 원하는 모듈을 가져올때 훨씬 수월하지 않을까요?\n",
        "마침 PyTorch에 torch.nn.ModuleDict이 있네요! 같이 써봐요!\n",
        "```\n",
        "\n",
        "- [torch.nn.ModuleDict - PyTorch 공식 문서](https://pytorch.org/docs/stable/generated/torch.nn.ModuleDict.html#torch.nn.ModuleDict)"
      ]
    },
    {
      "cell_type": "code",
      "metadata": {
        "colab": {
          "base_uri": "https://localhost:8080/"
        },
        "id": "suYi2pjj6dYK",
        "outputId": "74e3ae0b-8ece-4717-92a8-5d37ffc15b5e"
      },
      "source": [
        "import torch\n",
        "from torch import nn\n",
        "\n",
        "# TODO : 다음의 모듈(Module)을 읽고 이해해보세요!\n",
        "class Add(nn.Module):\n",
        "    def __init__(self, value):\n",
        "        super().__init__()\n",
        "        self.value = value\n",
        "\n",
        "    def forward(self, x):\n",
        "        return x + self.value\n",
        "\n",
        "\n",
        "# TODO : Calculator 모델을 완성하세요!\n",
        "class Calculator(nn.Module):\n",
        "    def __init__(self):\n",
        "        super().__init__()\n",
        "        self.add_dict = nn.ModuleDict({'add2': Add(2),\n",
        "                                       'add3': Add(3),\n",
        "                                       'add5': Add(5)})\n",
        "\n",
        "    def forward(self, x):\n",
        "        # TODO : self.add_dict에 담긴 모듈들을 이용하여서\n",
        "        #        y = ((x + 3) + 2) + 5 의 연산을 구현하세요!\n",
        "       \n",
        "        return x\n",
        "\n",
        "\n",
        "# 아래 코드는 수정하실 필요가 없습니다!\n",
        "x = torch.tensor([1])\n",
        "\n",
        "calculator = Calculator()\n",
        "output = calculator(x)\n",
        "\n",
        "if output == 11:\n",
        "    print(\"🎉🎉🎉 성공!!! 🎉🎉🎉\")\n",
        "else:\n",
        "    print(\"🦆 다시 도전해봐요!\")"
      ],
      "execution_count": null,
      "outputs": [
        {
          "output_type": "stream",
          "text": [
            "🦆 다시 도전해봐요!\n"
          ],
          "name": "stdout"
        }
      ]
    },
    {
      "cell_type": "markdown",
      "metadata": {
        "id": "CgV9Ntk38ieo"
      },
      "source": [
        "#### ❓ <font color='red'><b>[ 퀴즈 ]</b></font> Python List vs PyTorch ModuleList\n",
        "``` python\n",
        "🦆\n",
        "그런데 가만히 생각해보니까 파이썬에도 List가 있는데 왜 굳이\n",
        "PyTorch에서는 ModuleList를 별도로 만들어두었을까요?\n",
        "\n",
        "그 이유가 궁금해요!\n",
        "```\n",
        "\n",
        "- [torch.nn.ModuleList - PyTorch 공식 문서](https://pytorch.org/docs/stable/generated/torch.nn.ModuleList.html#torch.nn.ModuleList)\n",
        "\n",
        "🎁 **힌트** 🎁\n",
        "- 아래에 작성된 코드를 실행시키시면 힌트를 얻을 수 있습니다!"
      ]
    },
    {
      "cell_type": "code",
      "metadata": {
        "id": "p0X4Bi7E9bjz"
      },
      "source": [
        "# 아래 코드는 수정하실 필요가 없습니다!\n",
        "class Add(nn.Module):\n",
        "    def __init__(self, value):\n",
        "        super().__init__()\n",
        "        self.value = value\n",
        "\n",
        "    def forward(self, x):\n",
        "        return x + self.value\n",
        "\n",
        "\n",
        "class PythonList(nn.Module):\n",
        "    \"\"\"Python List\"\"\"\n",
        "    def __init__(self):\n",
        "        super().__init__()\n",
        "\n",
        "        # Python List\n",
        "        self.add_list = [Add(2), Add(3), Add(5)]\n",
        "\n",
        "    def forward(self, x):\n",
        "        x = self.add_list[1](x)\n",
        "        x = self.add_list[0](x)\n",
        "        x = self.add_list[2](x)\n",
        "        \n",
        "        return x\n",
        "\n",
        "class PyTorchList(nn.Module):\n",
        "    \"\"\"PyTorch List\"\"\"\n",
        "    def __init__(self):\n",
        "        super().__init__()\n",
        "\n",
        "        # Pytorch ModuleList\n",
        "        self.add_list = nn.ModuleList([Add(2), Add(3), Add(5)])\n",
        "\n",
        "    def forward(self, x):\n",
        "        x = self.add_list[1](x)\n",
        "        x = self.add_list[0](x)\n",
        "        x = self.add_list[2](x)\n",
        "        \n",
        "        return x"
      ],
      "execution_count": null,
      "outputs": []
    },
    {
      "cell_type": "code",
      "metadata": {
        "colab": {
          "base_uri": "https://localhost:8080/"
        },
        "id": "wcZcR67F_MbE",
        "outputId": "44cbf0d1-701e-4791-a362-90adc75275c0"
      },
      "source": [
        "# 아래 코드는 수정하실 필요가 없습니다!\n",
        "x = torch.tensor([1])\n",
        "\n",
        "python_list = PythonList()\n",
        "pytorch_list = PyTorchList()\n",
        "\n",
        "# 기능 동작은 동일합니다!\n",
        "print(python_list(x), pytorch_list(x))"
      ],
      "execution_count": null,
      "outputs": [
        {
          "output_type": "stream",
          "text": [
            "tensor([11]) tensor([11])\n"
          ],
          "name": "stdout"
        }
      ]
    },
    {
      "cell_type": "code",
      "metadata": {
        "colab": {
          "base_uri": "https://localhost:8080/"
        },
        "id": "o8qgY2EK_lMb",
        "outputId": "ca84b04f-e6c9-493c-8e09-c4a43d6c97dd"
      },
      "source": [
        "# Python List로 모아놓은 모듈들이 감쪽같이 사라졌습니다!\n",
        "python_list"
      ],
      "execution_count": null,
      "outputs": [
        {
          "output_type": "execute_result",
          "data": {
            "text/plain": [
              "PythonList()"
            ]
          },
          "metadata": {
            "tags": []
          },
          "execution_count": 82
        }
      ]
    },
    {
      "cell_type": "code",
      "metadata": {
        "colab": {
          "base_uri": "https://localhost:8080/"
        },
        "id": "I-eFwdj7ABMH",
        "outputId": "bd6f2454-d9a6-42e3-bf3d-bee644d9e82e"
      },
      "source": [
        "# 하지만 PyTorch의 ModuleList로 모아놓은 모듈들은 짠! 하고 나타나네요!\n",
        "pytorch_list"
      ],
      "execution_count": null,
      "outputs": [
        {
          "output_type": "execute_result",
          "data": {
            "text/plain": [
              "PyTorchList(\n",
              "  (add_list): ModuleList(\n",
              "    (0): Add()\n",
              "    (1): Add()\n",
              "    (2): Add()\n",
              "  )\n",
              ")"
            ]
          },
          "metadata": {
            "tags": []
          },
          "execution_count": 83
        }
      ]
    },
    {
      "cell_type": "markdown",
      "metadata": {
        "id": "8EZ7R-Js8ie5"
      },
      "source": [
        "```python\n",
        "😌\n",
        "# TODO : 맞고 틀리고가 없는 문제입니다. 문서를 읽고 답을 자유로이 적어주세요\n",
        "\n",
        "```\n"
      ]
    },
    {
      "cell_type": "markdown",
      "metadata": {
        "id": "6ARH3kXTPKEq"
      },
      "source": [
        "#### 👨‍💻 <font color='green'><b>[ 코딩 ]</b></font> 조건문\n",
        "\n",
        "``` python\n",
        "🦆\n",
        "정말 많은 것을 한번에 배우니까 생각보다 힘드네요 꽉꽉!💦\n",
        "죄송해요! 보통 인간어를 사용하는데 힘들면 가끔 오리어가 나오네요!\n",
        "\n",
        "모델을 만들때 PyTorch는 동적 계산 그래프를 사용하기 때문에\n",
        "if / else 와 같은 조건문을 쉽게 사용할 수 있는 장점이 있다고 들었어요!\n",
        "\n",
        "정말 멋진 것 같아요! 같이 어서 써봐요!\n",
        "```\n",
        "\n",
        "- [Documentation main - PyTorch 공식 문서](https://pytorch.org/docs/stable/index.html)\n",
        "\n",
        "**✨ 유용한 자료 ✨**\n",
        "- [Can someone explain the use of a dynamic graph? - Reddit](https://www.reddit.com/r/pytorch/comments/8kpsjy/can_someone_explain_the_use_of_a_dynamic_graph/)"
      ]
    },
    {
      "cell_type": "code",
      "metadata": {
        "colab": {
          "base_uri": "https://localhost:8080/"
        },
        "id": "mDBSmecjPKE7",
        "outputId": "9d33be81-6a58-4249-c271-5729fd669ae0"
      },
      "source": [
        "import torch\n",
        "from torch import nn\n",
        "\n",
        "# TODO : 다음의 모듈(Module)을 읽고 이해해보세요!\n",
        "class Add(nn.Module):\n",
        "    def __init__(self, value):\n",
        "        super().__init__()\n",
        "        self.value = value\n",
        "\n",
        "    def forward(self, x):\n",
        "        return x + self.value\n",
        "\n",
        "class Sub(nn.Module):\n",
        "    def __init__(self, value):\n",
        "        super().__init__()\n",
        "        self.value = value\n",
        "\n",
        "    def forward(self, x):\n",
        "        return x - self.value\n",
        "\n",
        "\n",
        "# TODO : Calculator 모델을 완성하세요!\n",
        "class Calculator(nn.Module):\n",
        "    def __init__(self, cal_type):\n",
        "        super().__init__()\n",
        "        self.cal_type = cal_type\n",
        "        self.add = Add(3)\n",
        "        self.sub = Sub(3)\n",
        "\n",
        "    def forward(self, x):\n",
        "        # TODO : cal_type에 \"add\"가 입력되면 더하기 모델 y = x + 3\n",
        "        #                   \"sub\"가 입력되면 빼기 모델 y = x - 3\n",
        "        #                   \"add\", \"sub\"가 아닌 다른 문자열이 입력되면 ValueError을 일으키세요!\n",
        "        #        if/elif/else 조건문을 사용하세요! \n",
        "        if self.cal_type == \"add\":\n",
        "            x = self.add(x)\n",
        "\n",
        "        return x\n",
        "\n",
        "\n",
        "# 아래 코드는 수정하실 필요가 없습니다!\n",
        "x = torch.tensor([5])\n",
        "\n",
        "try:\n",
        "    calculator = Calculator(\"none\")\n",
        "    output = calculator(x)\n",
        "\n",
        "    print(\"🦆 잘못된 문자열 입력에는 에러를 발생시키세요!!\")\n",
        "except ValueError:\n",
        "    calculator = Calculator(\"add\")\n",
        "    add_output = calculator(x)\n",
        "\n",
        "    calculator = Calculator(\"sub\")\n",
        "    sub_output = calculator(x)\n",
        "    \n",
        "    if add_output == 8 and sub_output == 2:\n",
        "        print(\"🎉🎉🎉 성공!!! 🎉🎉🎉\")\n",
        "    else:\n",
        "        print(\"🦆 다시 도전해봐요!\")\n",
        "except:\n",
        "    print(\"🦆 ValueError를 발생시키세요!!\")\n"
      ],
      "execution_count": null,
      "outputs": [
        {
          "output_type": "stream",
          "text": [
            "🦆 잘못된 문자열 입력에는 에러를 발생시키세요!!\n"
          ],
          "name": "stdout"
        }
      ]
    },
    {
      "cell_type": "markdown",
      "metadata": {
        "id": "Pfdy2siYp4ua"
      },
      "source": [
        "#### 👨‍💻 <font color='green'><b>[ 코딩 ]</b></font> Module들의 흐름 느껴보기\n",
        "> 🦆 부덕이가 코드를 작성해주었어요\n",
        "\n",
        "``` python\n",
        "🦆\n",
        "Module은 Module을 포함할 수 있다는 사실이 멋져요!\n",
        "\n",
        "- 최소의 기능 단위인 function\n",
        "- function들로 이루어진 layer\n",
        "- layer로 이루어진 model\n",
        "\n",
        "작은 부분부터 블럭을 하나씩 쌓고 또 쌓다보면 어느 순간\n",
        "우리는 거대한 딥러닝 모델이라는 멋진 탑을 볼 수 있게 되니까요!\n",
        "\n",
        "Module과 Module의 연결이 만들어내는 흐름을 느껴보세요!\n",
        "각 Module의 초기화는 어떤 순서로 되는지,\n",
        "언제 시작하고 끝나는지 천천히 생각해보세요!\n",
        "```\n",
        "\n",
        "- [Documentation main - PyTorch 공식 문서](https://pytorch.org/docs/stable/index.html)"
      ]
    },
    {
      "cell_type": "code",
      "metadata": {
        "colab": {
          "base_uri": "https://localhost:8080/"
        },
        "id": "uGPSjEytp4um",
        "outputId": "a6976a96-3f3b-4e45-e439-420e90511f59"
      },
      "source": [
        "import torch\n",
        "from torch import nn\n",
        "\n",
        "\n",
        "# Function\n",
        "class Function_A(nn.Module):\n",
        "    def __init__(self):\n",
        "        super().__init__()\n",
        "        print(f\"        Function A Initialized\")\n",
        "\n",
        "    def forward(self, x):\n",
        "        print(f\"        Function A started\")\n",
        "        print(f\"        Function A done\")\n",
        "\n",
        "class Function_B(nn.Module):\n",
        "    def __init__(self):\n",
        "        super().__init__()\n",
        "        print(f\"        Function B Initialized\")\n",
        "\n",
        "    def forward(self, x):\n",
        "        print(f\"        Function B started\")\n",
        "        print(f\"        Function B done\")\n",
        "\n",
        "class Function_C(nn.Module):\n",
        "    def __init__(self):\n",
        "        super().__init__()\n",
        "        print(f\"        Function C Initialized\")\n",
        "\n",
        "    def forward(self, x):\n",
        "        print(f\"        Function C started\")\n",
        "        print(f\"        Function C done\")\n",
        "\n",
        "class Function_D(nn.Module):\n",
        "    def __init__(self):\n",
        "        super().__init__()\n",
        "        print(f\"        Function D Initialized\")\n",
        "\n",
        "    def forward(self, x):\n",
        "        print(f\"        Function D started\")\n",
        "        print(f\"        Function D done\")\n",
        "\n",
        "\n",
        "# Layer\n",
        "class Layer_AB(nn.Module):\n",
        "    def __init__(self):\n",
        "        super().__init__()\n",
        "\n",
        "        self.a = Function_A()\n",
        "        self.b = Function_B()\n",
        "\n",
        "        print(f\"    Layer AB Initialized\")\n",
        "\n",
        "    def forward(self, x):\n",
        "        print(f\"    Layer AB started\")\n",
        "        self.a(x)\n",
        "        self.b(x)\n",
        "        print(f\"    Layer AB done\")\n",
        "\n",
        "class Layer_CD(nn.Module):\n",
        "    def __init__(self):\n",
        "        super().__init__()\n",
        "\n",
        "        self.c = Function_C()\n",
        "        self.d = Function_D()\n",
        "\n",
        "        print(f\"    Layer CD Initialized\")\n",
        "\n",
        "    def forward(self, x):\n",
        "        print(f\"    Layer CD started\")\n",
        "        self.c(x)\n",
        "        self.d(x)\n",
        "        print(f\"    Layer CD done\")\n",
        "\n",
        "\n",
        "# Model\n",
        "class Model(nn.Module):\n",
        "    def __init__(self):\n",
        "        super().__init__()\n",
        "\n",
        "        self.ab = Layer_AB()\n",
        "        self.cd = Layer_CD()\n",
        "\n",
        "        print(f\"Model ABCD Initialized\\n\")\n",
        "\n",
        "    def forward(self, x):\n",
        "        print(f\"Model ABCD started\")\n",
        "        self.ab(x)\n",
        "        self.cd(x)\n",
        "        print(f\"Model ABCD done\\n\")\n",
        "\n",
        "\n",
        "x = torch.tensor([7])\n",
        "\n",
        "model = Model()\n",
        "model(x)\n",
        "\n",
        "print(\"🎉🎉🎉 모든 딥러닝 모델은 이처럼 Module들이 쌓이고 쌓여서 만들어집니다! 🎉🎉🎉\")\n",
        "print(\"🎉🎉🎉 흐름을 느껴보시고 이 흐름이 이해가 되신 분은 다음으로 가시면 됩니다! 🎉🎉\")"
      ],
      "execution_count": null,
      "outputs": [
        {
          "output_type": "stream",
          "text": [
            "        Function A Initialized\n",
            "        Function B Initialized\n",
            "    Layer AB Initialized\n",
            "        Function C Initialized\n",
            "        Function D Initialized\n",
            "    Layer CD Initialized\n",
            "Model ABCD Initialized\n",
            "\n",
            "Model ABCD started\n",
            "    Layer AB started\n",
            "        Function A started\n",
            "        Function A done\n",
            "        Function B started\n",
            "        Function B done\n",
            "    Layer AB done\n",
            "    Layer CD started\n",
            "        Function C started\n",
            "        Function C done\n",
            "        Function D started\n",
            "        Function D done\n",
            "    Layer CD done\n",
            "Model ABCD done\n",
            "\n",
            "🎉🎉🎉 모든 딥러닝 모델은 이처럼 Module들이 쌓이고 쌓여서 만들어집니다! 🎉🎉🎉\n",
            "🎉🎉🎉 흐름을 느껴보시고 이 흐름이 이해가 되신 분은 다음으로 가시면 됩니다! 🎉🎉\n"
          ],
          "name": "stdout"
        }
      ]
    },
    {
      "cell_type": "markdown",
      "metadata": {
        "id": "LYE0lhVK2Vow"
      },
      "source": [
        "#### 👨‍💻 <font color='green'><b>[ 코딩 ]</b></font> Parameter\n",
        "\n",
        "``` python\n",
        "🦆\n",
        "linear transformation인 Y = XW + b 에 대해서 생각하고 있었어요!\n",
        "X는 저희가 torch.Tensor로 만들어서 제공하는데 W, b는 어디서 만들죠?\n",
        "\n",
        "언뜻 친구한테 들었는데 nn.Module안에 미리 만들어진 tensor들을\n",
        "보관할 수 있다고 들은 것 같아요! 뭐랬지, 아마 Parameter라고 한 것 같아요!\n",
        "```\n",
        "\n",
        "- [Documentation main - PyTorch 공식 문서](https://pytorch.org/docs/stable/index.html)\n",
        "- [torch.nn.parameter.Parameter - PyTorch 공식 문서](https://pytorch.org/docs/stable/generated/torch.nn.parameter.Parameter.html?highlight=parameter)\n",
        "\n",
        "🎁 **힌트** 🎁\n",
        "- [PyTorch linear.py L81 - L85 - PyTorch 공식 Github](https://github.com/pytorch/pytorch/blob/master/torch/nn/modules/linear.py#L81-L85)"
      ]
    },
    {
      "cell_type": "code",
      "metadata": {
        "colab": {
          "base_uri": "https://localhost:8080/"
        },
        "id": "wQoHSQcA2Vo3",
        "outputId": "960f80e0-c60e-4c22-a56d-2968d31b2ec5"
      },
      "source": [
        "import torch\n",
        "from torch import nn\n",
        "from torch.nn.parameter import Parameter\n",
        "\n",
        "\n",
        "# TODO : Linear 모델을 완성하세요!\n",
        "class Linear(nn.Module):\n",
        "    def __init__(self, in_features, out_features):\n",
        "        super().__init__()\n",
        "\n",
        "        # TODO : W, b parameter를 생성하세요! 모두 1로 초기화해주세요!\n",
        "        self.W = None\n",
        "        self.b = None\n",
        "\n",
        "    def forward(self, x):\n",
        "        output = torch.addmm(self.b, x, self.W.T)\n",
        "\n",
        "        return output\n",
        "\n",
        "\n",
        "# 아래 코드는 수정하실 필요가 없습니다!\n",
        "x = torch.Tensor([[1, 2],\n",
        "                  [3, 4]])\n",
        "\n",
        "linear = Linear(2, 3)\n",
        "output = linear(x)\n",
        "\n",
        "if torch.all(output == torch.Tensor([[4, 4, 4],\n",
        "                                     [8, 8, 8]])):\n",
        "    print(\"🎉🎉🎉 성공!!! 🎉🎉🎉\")\n",
        "else:\n",
        "    print(\"🦆 다시 도전해봐요!\")"
      ],
      "execution_count": null,
      "outputs": [
        {
          "output_type": "stream",
          "text": [
            "🎉🎉🎉 성공!!! 🎉🎉🎉\n"
          ],
          "name": "stdout"
        }
      ]
    },
    {
      "cell_type": "markdown",
      "metadata": {
        "id": "S8u8jNL8H_dN"
      },
      "source": [
        "#### ❓ <font color='red'><b>[ 퀴즈 ]</b></font> Tensor vs Parameter\n",
        "``` python\n",
        "🦆\n",
        "생각해보면 W, b도 tensor를 이용하면 되는 것 아닌가요?\n",
        "왜 굳이 Parameter라는 별개의 클래스를 사용하는 거죠?\n",
        "```\n",
        "🎁 **힌트** 🎁\n",
        "- 아래에 작성된 코드를 실행시키시면 힌트를 얻을 수 있습니다!"
      ]
    },
    {
      "cell_type": "code",
      "metadata": {
        "colab": {
          "base_uri": "https://localhost:8080/"
        },
        "id": "ULF5STEQH_dO",
        "outputId": "30568cfc-42b8-4c21-d7b0-e52ddde878f4"
      },
      "source": [
        "import torch\n",
        "from torch import nn\n",
        "from torch.nn.parameter import Parameter\n",
        "\n",
        "\n",
        "class Linear_Parameter(nn.Module):\n",
        "    def __init__(self, in_features, out_features):\n",
        "        super().__init__()\n",
        "\n",
        "        # torch.nn.parameter.Parameter\n",
        "        self.W = Parameter(torch.ones((out_features, in_features)))\n",
        "        self.b = Parameter(torch.ones(out_features))\n",
        "\n",
        "    def forward(self, x):\n",
        "        output = torch.addmm(self.b, x, self.W.T)\n",
        "\n",
        "        return output\n",
        "\n",
        "class Linear_Tensor(nn.Module):\n",
        "    def __init__(self, in_features, out_features):\n",
        "        super().__init__()\n",
        "\n",
        "        # torch.Tensor\n",
        "        self.W = torch.ones((out_features, in_features))\n",
        "        self.b = torch.ones(out_features)\n",
        "\n",
        "    def forward(self, x):\n",
        "        output = torch.addmm(self.b, x, self.W.T)\n",
        "\n",
        "        return output\n",
        "\n",
        "\n",
        "x = torch.Tensor([[1, 2],\n",
        "                  [3, 4]])\n",
        "\n",
        "linear_parameter = Linear_Parameter(2, 3)\n",
        "linear_tensor = Linear_Tensor(2, 3)\n",
        "\n",
        "output_parameter = linear_parameter(x)\n",
        "output_tensor = linear_tensor(x)\n",
        "\n",
        "# 값은 동일하게 계산되는 것을 볼 수 있습니다!\n",
        "# 하지만 출력을 자세히 보시면, Parameter를 이용해서 W, b를 만들 경우에만\n",
        "# output tensor에 gradient를 계산하는 함수인 grad_fn가 생성됩니다\n",
        "print(output_parameter)\n",
        "print(output_tensor)"
      ],
      "execution_count": null,
      "outputs": [
        {
          "output_type": "stream",
          "text": [
            "tensor([[4., 4., 4.],\n",
            "        [8., 8., 8.]], grad_fn=<AddmmBackward>)\n",
            "tensor([[4., 4., 4.],\n",
            "        [8., 8., 8.]])\n"
          ],
          "name": "stdout"
        }
      ]
    },
    {
      "cell_type": "code",
      "metadata": {
        "colab": {
          "base_uri": "https://localhost:8080/"
        },
        "id": "SCmHCEEWH_dP",
        "outputId": "887cdf54-adad-451a-f46a-be030ced826f"
      },
      "source": [
        "# Parameter로 만든 W, b는 저장할 tensor로 지정되어있습니다\n",
        "linear_parameter.state_dict()"
      ],
      "execution_count": null,
      "outputs": [
        {
          "output_type": "execute_result",
          "data": {
            "text/plain": [
              "OrderedDict([('W', tensor([[1., 1.],\n",
              "                      [1., 1.],\n",
              "                      [1., 1.]])), ('b', tensor([1., 1., 1.]))])"
            ]
          },
          "metadata": {
            "tags": []
          },
          "execution_count": 139
        }
      ]
    },
    {
      "cell_type": "code",
      "metadata": {
        "colab": {
          "base_uri": "https://localhost:8080/"
        },
        "id": "5obZKlPzH_dP",
        "outputId": "10ea426a-b2cb-4c47-a8ca-dcee3e65892f"
      },
      "source": [
        "# torch.Tensor로 만든 W, b는 저장되지 않습니다\n",
        "linear_tensor.state_dict()"
      ],
      "execution_count": null,
      "outputs": [
        {
          "output_type": "execute_result",
          "data": {
            "text/plain": [
              "OrderedDict()"
            ]
          },
          "metadata": {
            "tags": []
          },
          "execution_count": 140
        }
      ]
    },
    {
      "cell_type": "markdown",
      "metadata": {
        "id": "KH49yfoYH_dR"
      },
      "source": [
        "```python\n",
        "😏\n",
        "# TODO : 맞고 틀리고가 없는 문제입니다. 문서를 읽고 답을 자유로이 적어주세요\n",
        "\n",
        "```"
      ]
    },
    {
      "cell_type": "markdown",
      "metadata": {
        "id": "C3WfRph4AYrb"
      },
      "source": [
        "#### 👨‍💻 <font color='green'><b>[ 코딩 ]</b></font> Buffer\n",
        "\n",
        "``` python\n",
        "🦆\n",
        "친구가 말하길 Custom 모델을 만들때 대부분 torch.nn에 구현된 layer들을\n",
        "가져가다 사용하기 때문에 Parameter를 직접 다뤄볼 일은 매우 드물 것이라고 하네요!\n",
        "\n",
        "저희가 직접 새로운 layer를 작성할게 아니라면\n",
        "Parameter를 사용할 일이 거의 없다고 해요!\n",
        "\n",
        "하지만 Parameter를 사용할줄 아는 것은 중요하다면서 칭찬해줬어요!\n",
        "추가적으로 buffer라는 것도 있다면서 가르켜주었죠!\n",
        "\n",
        "일반적인 Tensor는 Parameter와 다르게 gradient를 계산하지 않아\n",
        "값도 업데이트 되지 않고, 모델을 저장할 때 무시되잖아요?\n",
        "\n",
        "하지만 Parameter로 지정하지 않아서 값이 업데이트 되지 않는다 해도\n",
        "저장하고싶은 tensor가 있을 수도 있잖아요?\n",
        "\n",
        "그럴때는 buffer에 tensor를 등록해주면 되요!\n",
        "모델을 저장할때 Parameter뿐만 아니라 buffer로 등록된 tensor들도 같이 저장되요!\n",
        "\n",
        "정리하면 다음과 같아요!\n",
        "\n",
        "- \"Tensor\"\n",
        "    - ❌ gradient 계산\n",
        "    - ❌ 값 업데이트\n",
        "    - ❌ 모델 저장시 값 저장\n",
        "- \"Parameter\"\n",
        "    - ✅ gradient 계산\n",
        "    - ✅ 값 업데이트\n",
        "    - ✅ 모델 저장시 값 저장\n",
        "- \"Buffer\"\n",
        "    - ❌ gradient 계산\n",
        "    - ❌ 값 업데이트\n",
        "    - ✅ 모델 저장시 값 저장\n",
        "```\n",
        "\n",
        "- [Documentation main - PyTorch 공식 문서](https://pytorch.org/docs/stable/index.html)\n",
        "- [register_buffer - PyTorch 공식 문서](https://pytorch.org/docs/stable/generated/torch.nn.Module.html?highlight=register_buffer#torch.nn.Module.register_buffer)\n",
        "\n",
        "**✨ 유용한 자료 ✨**\n",
        "- [What is the difference between `register_buffer` and `register_parameter` of `nn.Module` - PyTorch Forum](https://discuss.pytorch.org/t/what-is-the-difference-between-register-buffer-and-register-parameter-of-nn-module/32723)"
      ]
    },
    {
      "cell_type": "code",
      "metadata": {
        "id": "xU_FYpsgAYri"
      },
      "source": [
        "import torch\n",
        "from torch import nn\n",
        "from torch.nn.parameter import Parameter\n",
        "\n",
        "\n",
        "# TODO : Model 모델을 완성하세요!\n",
        "class Model(nn.Module):\n",
        "    def __init__(self):\n",
        "        super().__init__()\n",
        "\n",
        "        self.parameter = Parameter(torch.Tensor([7]))\n",
        "        self.tensor = torch.Tensor([7])\n",
        "\n",
        "        # TODO : torch.Tensor([7])를 buffer이라는 이름으로 buffer에 등록해보세요!\n",
        "\n",
        "\n",
        "\n",
        "# 아래 코드는 수정하실 필요가 없습니다!\n",
        "model = Model()\n",
        "\n",
        "try:\n",
        "    buffer = model.get_buffer('buffer')\n",
        "    if buffer == 7:\n",
        "        print(\"🎉🎉🎉 성공!!! 🎉🎉🎉\\n\")\n",
        "        print(\"🎉 이제 buffer에 등록된 tensor는 모델이 저장될 때 같이 저장될거예요! 🎉\")\n",
        "        print(model.state_dict())\n",
        "    else:\n",
        "        print(\"🦆 다시 도전해봐요!\")\n",
        "except:\n",
        "    print(\"🦆 다시 도전해봐요!\")\n"
      ],
      "execution_count": null,
      "outputs": []
    },
    {
      "cell_type": "markdown",
      "metadata": {
        "id": "HY5I6ZQbScV2"
      },
      "source": [
        "``` python\n",
        "😩\n",
        "아 너무 어려워요... 그래서 이걸 어디다 쓰는데요..?\n",
        "```\n",
        "``` python\n",
        "🦆\n",
        "그 말 할 줄 알았어요 준비해두었죠!\n",
        "한가지 좋은 예시로 BatchNorm에서 사용되요!\n",
        "아래 링크를 첨부해놓았으니 더 알고 싶으면 읽어보세요!\n",
        "\n",
        "이 buffer도 Parameter와 마찬가지로 사용할 일은 드물 것 같아요!\n",
        "하지만 알아두면 언젠가 요긴하게 쓸 날이 오겠죠?\n",
        "```\n",
        "\n",
        "\n",
        "**✨ 유용한 자료 ✨**\n",
        "- [torch.nn.BatchNorm1d - PyTorch 공식 문서](https://pytorch.org/docs/stable/generated/torch.nn.BatchNorm1d.html?highlight=buffer)\n",
        "- [PyTorch batchnorm.py L51 - L52 - PyTorch 공식 Github](https://github.com/pytorch/pytorch/blob/master/torch/nn/modules/batchnorm.py#L51-L52)"
      ]
    },
    {
      "cell_type": "markdown",
      "metadata": {
        "id": "jr6BwccdiH5s"
      },
      "source": [
        "### ☄️ nn.Module 분석하기\n",
        "> 모델을 제작함에 있어 중요한 기본 개념들을 이해하였습니다. 이제 저희는 원하는 모델을 제작할 수 있는 힘을 얻게 되었습니다. 하지만 custom 모델을 만들고 난 후 이 모델 내부가 어떻게 구성되었는지 어떻게 알 수 있을까요? 자신이 만든 custom 모델이라면 그럭저럭 기억이 나기 때문에 괜찮을 수 있습니다. 그렇다면 다른 사람의 모델을 참조하기 위해서 가져왔는데 이런 경우 어떻게 그 모델 내부를 분석할 수 있을까요? 우리는 그 방법에 대해서 가볍게 알아보는 시간을 가질 것입니다. \n",
        "\n",
        "- 👨‍💻 <font color='green'><b>[ 코딩 ]</b></font> 부덕이 모델 분석해보기\n",
        "- 👨‍💻 <font color='green'><b>[ 코딩 ]</b></font> 부덕이 모델 수정하기 - module 참조 제거\n",
        "- 👨‍💻 <font color='green'><b>[ 코딩 ]</b></font> 부덕이 모델 수정하기 - module 출력 내용 변경하기\n",
        "- 👨‍💻 <font color='green'><b>[ 코딩 ]</b></font> 부덕이 모델 수정하기 - Docstring 작성\n",
        "- 👨‍💻 <font color='green'><b>[ 코딩 ]</b></font> BatchNorm1d 분석해보기\n",
        "\n",
        "    \n"
      ]
    },
    {
      "cell_type": "markdown",
      "metadata": {
        "id": "P0rBcgFOdVTL"
      },
      "source": [
        "#### 👨‍💻 <font color='green'><b>[ 코딩 ]</b></font> 부덕이 모델 분석해보기\n",
        "\n",
        "``` python\n",
        "🦆\n",
        "PyTorch에 대해서 아무것도 몰랐었는데\n",
        "직접 모델을 만들어낼 줄 알게 되다니! 정말 꿈만 같아요!\n",
        "\n",
        "Module들의 흐름을 느껴보기 위해 제가 작성했던 코드를 보고있으니\n",
        "마음 속 깊은 곳에서 뿌듯함이 솟구쳐 올라와 날개 춤을 멈출 수가 없네요!\n",
        "\n",
        "그런데 모델을 만들고 난 후 어떤 module과 parameter를 썼는지\n",
        "어떻게 알 수 있는 거죠?\n",
        "\n",
        "느낌상 \"nn.Module\" Documentation에 그 방법이 나와있을 것 같아요!\n",
        "\n",
        "제가 전에 작성해놓았던 코드를 가져왔어요! 그때 보셨을 때와 조금 다르죠?\n",
        "배운 것을 적용해보느라고 조금씩 수정을 해보았어요!\n",
        "제가 만든 이 모델을 함께 분석해봐요!\n",
        "```\n",
        "\n",
        "- [Documentation main - PyTorch 공식 문서](https://pytorch.org/docs/stable/index.html)\n",
        "- [torch.nn.Module - PyTorch 공식 문서](https://pytorch.org/docs/stable/generated/torch.nn.Module.html)"
      ]
    },
    {
      "cell_type": "code",
      "metadata": {
        "colab": {
          "base_uri": "https://localhost:8080/"
        },
        "id": "0wIMxj_7cxSH",
        "outputId": "5e163a32-97a2-4cf9-df5e-231f443f98fe"
      },
      "source": [
        "import torch\n",
        "from torch import nn\n",
        "from torch.nn.parameter import Parameter\n",
        "\n",
        "\n",
        "# 아래 코드는 수정하실 필요가 없습니다!\n",
        "# 하지만 아래 과제를 진행하기 전에 아래 코드를 보면서 최대한 이해해보세요!\n",
        "\n",
        "# Function\n",
        "class Function_A(nn.Module):\n",
        "    def __init__(self, name):\n",
        "        super().__init__()\n",
        "        self.name = name\n",
        "\n",
        "    def forward(self, x):\n",
        "        x = x * 2\n",
        "        return x\n",
        "\n",
        "class Function_B(nn.Module):\n",
        "    def __init__(self):\n",
        "        super().__init__()\n",
        "        self.W1 = Parameter(torch.Tensor([10]))\n",
        "        self.W2 = Parameter(torch.Tensor([2]))\n",
        "\n",
        "    def forward(self, x):\n",
        "        x = x / self.W1\n",
        "        x = x / self.W2\n",
        "\n",
        "        return x\n",
        "\n",
        "class Function_C(nn.Module):\n",
        "    def __init__(self):\n",
        "        super().__init__()\n",
        "        self.register_buffer('duck', torch.Tensor([7]), persistent=True)\n",
        "\n",
        "    def forward(self, x):\n",
        "        x = x * self.duck\n",
        "        \n",
        "        return x\n",
        "\n",
        "class Function_D(nn.Module):\n",
        "    def __init__(self):\n",
        "        super().__init__()\n",
        "        self.W1 = Parameter(torch.Tensor([3]))\n",
        "        self.W2 = Parameter(torch.Tensor([5]))\n",
        "        self.c = Function_C()\n",
        "\n",
        "    def forward(self, x):\n",
        "        x = x + self.W1\n",
        "        x = self.c(x)\n",
        "        x = x / self.W2\n",
        "\n",
        "        return x\n",
        "\n",
        "\n",
        "# Layer\n",
        "class Layer_AB(nn.Module):\n",
        "    def __init__(self):\n",
        "        super().__init__()\n",
        "\n",
        "        self.a = Function_A('duck')\n",
        "        self.b = Function_B()\n",
        "\n",
        "    def forward(self, x):\n",
        "        x = self.a(x) / 5\n",
        "        x = self.b(x)\n",
        "\n",
        "        return x\n",
        "\n",
        "class Layer_CD(nn.Module):\n",
        "    def __init__(self):\n",
        "        super().__init__()\n",
        "\n",
        "        self.c = Function_C()\n",
        "        self.d = Function_D()\n",
        "\n",
        "    def forward(self, x):\n",
        "        x = self.c(x)\n",
        "        x = self.d(x) + 1\n",
        "\n",
        "        return x\n",
        "\n",
        "\n",
        "# Model\n",
        "class Model(nn.Module):\n",
        "    def __init__(self):\n",
        "        super().__init__()\n",
        "\n",
        "        self.ab = Layer_AB()\n",
        "        self.cd = Layer_CD()\n",
        "\n",
        "    def forward(self, x):\n",
        "        x = self.ab(x)\n",
        "        x = self.cd(x)\n",
        "\n",
        "        return x\n",
        "\n",
        "x = torch.tensor([7])\n",
        "\n",
        "model = Model()\n",
        "model(x)"
      ],
      "execution_count": null,
      "outputs": [
        {
          "output_type": "execute_result",
          "data": {
            "text/plain": [
              "tensor([6.5720], grad_fn=<AddBackward0>)"
            ]
          },
          "metadata": {
            "tags": []
          },
          "execution_count": 42
        }
      ]
    },
    {
      "cell_type": "markdown",
      "metadata": {
        "id": "SvtNG5hkeb2G"
      },
      "source": [
        "##### 💡 named_children vs named_modules\n",
        "> 🦆 부덕이가 코드를 작성해주었어요\n",
        "\n",
        "``` python\n",
        "🦆\n",
        "제가 만든 모델에서 어떤 module들이 있었는지 기억이 나질 않아요!\n",
        "그래서 모델 내부의 module들 목록을 보고싶어요!\n",
        "\n",
        "Documentation을 찾아보니까 children이나 module이라는 이름을 가진\n",
        "함수가 바로 제가 원하는 기능을 가진 것 같아요!\n",
        "\n",
        "하지만 이 둘은 무슨 차이일까요?\n",
        "역시 직접 코드를 통해서 확인해봐야겠어요!\n",
        "```\n",
        "\n",
        "- [named_children - PyTorch 공식 문서](https://pytorch.org/docs/stable/generated/torch.nn.Module.html?highlight=child#torch.nn.Module.named_children)\n",
        "- [named_modules - PyTorch 공식 문서](https://pytorch.org/docs/stable/generated/torch.nn.Module.html?highlight=named#torch.nn.Module.named_modules)\n"
      ]
    },
    {
      "cell_type": "code",
      "metadata": {
        "colab": {
          "base_uri": "https://localhost:8080/"
        },
        "id": "zSZh9S6SjCSQ",
        "outputId": "0a566083-a1db-4231-d027-3f23f0cadd65"
      },
      "source": [
        "for name, module in model.named_modules():\n",
        "    print(f\"[ Name ] : {name}\\n[ Module ]\\n{module}\")\n",
        "    print(\"-\" * 30)"
      ],
      "execution_count": null,
      "outputs": [
        {
          "output_type": "stream",
          "text": [
            "[ Name ] : \n",
            "[ Module ]\n",
            "Model(\n",
            "  (ab): Layer_AB(\n",
            "    (a): Function_A()\n",
            "    (b): Function_B()\n",
            "  )\n",
            "  (cd): Layer_CD(\n",
            "    (c): Function_C()\n",
            "    (d): Function_D(\n",
            "      (c): Function_C()\n",
            "    )\n",
            "  )\n",
            ")\n",
            "------------------------------\n",
            "[ Name ] : ab\n",
            "[ Module ]\n",
            "Layer_AB(\n",
            "  (a): Function_A()\n",
            "  (b): Function_B()\n",
            ")\n",
            "------------------------------\n",
            "[ Name ] : ab.a\n",
            "[ Module ]\n",
            "Function_A()\n",
            "------------------------------\n",
            "[ Name ] : ab.b\n",
            "[ Module ]\n",
            "Function_B()\n",
            "------------------------------\n",
            "[ Name ] : cd\n",
            "[ Module ]\n",
            "Layer_CD(\n",
            "  (c): Function_C()\n",
            "  (d): Function_D(\n",
            "    (c): Function_C()\n",
            "  )\n",
            ")\n",
            "------------------------------\n",
            "[ Name ] : cd.c\n",
            "[ Module ]\n",
            "Function_C()\n",
            "------------------------------\n",
            "[ Name ] : cd.d\n",
            "[ Module ]\n",
            "Function_D(\n",
            "  (c): Function_C()\n",
            ")\n",
            "------------------------------\n",
            "[ Name ] : cd.d.c\n",
            "[ Module ]\n",
            "Function_C()\n",
            "------------------------------\n"
          ],
          "name": "stdout"
        }
      ]
    },
    {
      "cell_type": "code",
      "metadata": {
        "colab": {
          "base_uri": "https://localhost:8080/"
        },
        "id": "IKfekNTn3D3n",
        "outputId": "ae7c198f-cd66-4c63-deba-ad807d36ed70"
      },
      "source": [
        "for name, child in model.named_children():\n",
        "    print(f\"[ Name ] : {name}\\n[ Children ]\\n{child}\")\n",
        "    print(\"-\" * 30)"
      ],
      "execution_count": null,
      "outputs": [
        {
          "output_type": "stream",
          "text": [
            "[ Name ] : ab\n",
            "[ Children ]\n",
            "Layer_AB(\n",
            "  (a): Function_A()\n",
            "  (b): Function_B()\n",
            ")\n",
            "------------------------------\n",
            "[ Name ] : cd\n",
            "[ Children ]\n",
            "Layer_CD(\n",
            "  (c): Function_C()\n",
            "  (d): Function_D(\n",
            "    (c): Function_C()\n",
            "  )\n",
            ")\n",
            "------------------------------\n"
          ],
          "name": "stdout"
        }
      ]
    },
    {
      "cell_type": "markdown",
      "metadata": {
        "id": "Fc5uZnP929pS"
      },
      "source": [
        "``` python\n",
        "🦆\n",
        "아하! 이제 알겠어요!\n",
        "\n",
        "\"children\"은 한 단계 아래의 submodule까지만 표시하는 것이고\n",
        "\"modules\"는 자신에게 속하는 모든 submodule들을 표시해주는 것이군요!\n",
        "\n",
        "\"named_modules\", \"named_children\"은 module의 이름도 돌려주는데\n",
        "그냥 module만 필요한 경우는 \"modules\", \"children\"를 사용하면 되겠네요!\n",
        "\n",
        "아니 그런데 왜 \"Function_D\"가 \"Function_C\"를 참조하는 중이죠?\n",
        "같은 기본 단위는 서로 독립적이어야 하는데 이러면 문제가 있을 것 같아요!\n",
        "분석이 끝나면 수정을 해야겠어요!\n",
        "```"
      ]
    },
    {
      "cell_type": "markdown",
      "metadata": {
        "id": "bC4XBN5k5g53"
      },
      "source": [
        "##### 💡 get_submodule\n",
        "\n",
        "``` python\n",
        "🦆\n",
        "제가 만든 모델 내부에 어떤 module들이 있는지 잘 알겠어요!\n",
        "이제 제가 원하는 특정 module만을 가져오고 싶어요!\n",
        "\n",
        "Function_A를 가져다 줄 수 있을까요?\n",
        "```\n",
        "\n",
        "- [get_submodule - PyTorch 공식 문서](https://pytorch.org/docs/stable/generated/torch.nn.Module.html?highlight=get_submodule#torch.nn.Module.get_submodule)\n"
      ]
    },
    {
      "cell_type": "code",
      "metadata": {
        "colab": {
          "base_uri": "https://localhost:8080/"
        },
        "id": "MSYN3x5hl4Wf",
        "outputId": "a6fdba55-ffbd-41a7-a157-26400a0d37d7"
      },
      "source": [
        "# TODO : Function_A 를 가져오세요!\n",
        "submodule = None\n",
        "\n",
        "\n",
        "# 아래 코드는 수정하실 필요가 없습니다!\n",
        "if submodule.__class__.__name__  == 'Function_A':\n",
        "    print(\"🎉🎉🎉 성공!!! 🎉🎉🎉\")\n",
        "else:\n",
        "    print(\"🦆 다시 도전해봐요!\")"
      ],
      "execution_count": null,
      "outputs": [
        {
          "output_type": "stream",
          "text": [
            "🎉🎉🎉 성공!!! 🎉🎉🎉\n"
          ],
          "name": "stdout"
        }
      ]
    },
    {
      "cell_type": "markdown",
      "metadata": {
        "id": "87fdrrUW_Eyg"
      },
      "source": [
        "##### 💡 Parameter\n",
        "\n",
        "``` python\n",
        "🦆\n",
        "이제 module에 대한 자신감이 생겼어요!\n",
        "그런데 문득 생각해보니까 Parameter에 대해서 공부하면서\n",
        "제가 어떤 모듈에 Parameter를 생성해놨던 것 같아요!\n",
        "\n",
        "저희가 module에서 module 목록을 보고 특정 module을\n",
        "찾기도 했던 것처럼 Parameter에서도 똑같이 해봐요!\n",
        "```\n",
        "\n",
        "- [parameters - PyTorch 공식 문서](https://pytorch.org/docs/stable/generated/torch.nn.Module.html?highlight=parameters#torch.nn.Module.parameters)\n",
        "- [named_parameters - PyTorch 공식 문서](https://pytorch.org/docs/stable/generated/torch.nn.Module.html?highlight=named#torch.nn.Module.named_parameters)\n",
        "- [get_parameter - PyTorch 공식 문서](https://pytorch.org/docs/stable/generated/torch.nn.Module.html?highlight=get#torch.nn.Module.get_parameter)\n"
      ]
    },
    {
      "cell_type": "code",
      "metadata": {
        "colab": {
          "base_uri": "https://localhost:8080/"
        },
        "id": "5HZk5-vlly_P",
        "outputId": "120396a5-25be-4e3b-a314-2f7965fae1e9"
      },
      "source": [
        "# 🦆 제가 4개의 Parameter를 만들었었군요!\n",
        "for name, parameter in model.named_parameters():\n",
        "    print(f\"[ Name ] : {name}\\n[ Parameter ]\\n{parameter}\")\n",
        "    print(\"-\" * 30)"
      ],
      "execution_count": null,
      "outputs": [
        {
          "output_type": "stream",
          "text": [
            "[ Name ] : ab.b.W1\n",
            "[ Parameter ]\n",
            "Parameter containing:\n",
            "tensor([10.], requires_grad=True)\n",
            "------------------------------\n",
            "[ Name ] : ab.b.W2\n",
            "[ Parameter ]\n",
            "Parameter containing:\n",
            "tensor([2.], requires_grad=True)\n",
            "------------------------------\n",
            "[ Name ] : cd.d.W1\n",
            "[ Parameter ]\n",
            "Parameter containing:\n",
            "tensor([3.], requires_grad=True)\n",
            "------------------------------\n",
            "[ Name ] : cd.d.W2\n",
            "[ Parameter ]\n",
            "Parameter containing:\n",
            "tensor([5.], requires_grad=True)\n",
            "------------------------------\n"
          ],
          "name": "stdout"
        }
      ]
    },
    {
      "cell_type": "markdown",
      "metadata": {
        "id": "lWwtgIOBD5-0"
      },
      "source": [
        "``` python\n",
        "🦆\n",
        "아하! 제가 4개의 Parameter를 만들었었네요!\n",
        "이름을 표시하니까 Parameter가 어디에 속하는지 알 수 있어 너무 좋아요!\n",
        "\n",
        "- \"Function_B\"에 W1, W2 Parameter 2개\n",
        "- \"Function_D\"에 W1, W2 Parameter 2개\n",
        "\n",
        "\"parameters\"를 사용해서 목록을 확인해도 되지만\n",
        "이름이 표시 안되니까 어떤 module에 속한\n",
        "Parameter인지 알기가 너무 힘들 것 같아요!\n",
        "\n",
        "Function_B에 속해있는 Parameter W1을 사용하고 싶은데\n",
        "이를 가져다 주실수 있나요?\n",
        "```"
      ]
    },
    {
      "cell_type": "code",
      "metadata": {
        "colab": {
          "base_uri": "https://localhost:8080/"
        },
        "id": "hIhreLUX_Eyj",
        "outputId": "4564110d-7180-4d6e-bd76-c36abb367d5f"
      },
      "source": [
        "# TODO : Function_B에 속하는 Parameter W1을 가져오세요!\n",
        "parameter = None\n",
        "\n",
        "\n",
        "# 아래 코드는 수정하실 필요가 없습니다!\n",
        "if parameter  == 10:\n",
        "    print(\"🎉🎉🎉 성공!!! 🎉🎉🎉\")\n",
        "else:\n",
        "    print(\"🦆 다시 도전해봐요!\")"
      ],
      "execution_count": null,
      "outputs": [
        {
          "output_type": "stream",
          "text": [
            "🎉🎉🎉 성공!!! 🎉🎉🎉\n"
          ],
          "name": "stdout"
        }
      ]
    },
    {
      "cell_type": "markdown",
      "metadata": {
        "id": "1ZC6RK20H8iC"
      },
      "source": [
        "##### 💡 Buffer\n",
        "\n",
        "``` python\n",
        "🦆\n",
        "생각을 해보니까 buffer도 하나 추가해뒀던 것 같아요!\n",
        "buffer도 같이 분석해봐요!\n",
        "```\n",
        "\n",
        "- [buffers - PyTorch 공식 문서](https://pytorch.org/docs/stable/generated/torch.nn.Module.html?highlight=buffers#torch.nn.Module.buffers)\n",
        "- [named_buffers - PyTorch 공식 문서](https://pytorch.org/docs/stable/generated/torch.nn.Module.html?highlight=named_buffers#torch.nn.Module.named_buffers)\n",
        "- [get_buffer - PyTorch 공식 문서](https://pytorch.org/docs/stable/generated/torch.nn.Module.html?highlight=get_buffer#torch.nn.Module.get_buffer)\n"
      ]
    },
    {
      "cell_type": "code",
      "metadata": {
        "colab": {
          "base_uri": "https://localhost:8080/"
        },
        "id": "4AxUn_jgH8iE",
        "outputId": "ce2c6e23-0b0d-4ba9-ef9a-848fb265caa5"
      },
      "source": [
        "# TODO : named_buffers를 사용해서 model에 속하는 buffer 전체 목록을 가져오세요!\n",
        "for name, buffer in model.named_buffers():\n",
        "    print(f\"[ Name ] : {name}\\n[ Buffer ] : {buffer}\")\n",
        "    print(\"-\" * 30)"
      ],
      "execution_count": null,
      "outputs": [
        {
          "output_type": "stream",
          "text": [
            "[ Name ] : cd.c.duck\n",
            "[ Buffer ] : tensor([7.])\n",
            "------------------------------\n",
            "[ Name ] : cd.d.c.duck\n",
            "[ Buffer ] : tensor([7.])\n",
            "------------------------------\n"
          ],
          "name": "stdout"
        }
      ]
    },
    {
      "cell_type": "code",
      "metadata": {
        "colab": {
          "base_uri": "https://localhost:8080/"
        },
        "id": "xWjaJqgWI5r-",
        "outputId": "b72ac3fb-9abe-4f8b-c276-65af6060a189"
      },
      "source": [
        "# TODO : buffers를 사용해서 model에 속하는 buffer 전체 목록을 가져오세요!\n",
        "for buffer in model.buffers():\n",
        "    print(f\"[ Buffer ] : {buffer}\")\n",
        "    print(\"-\" * 30)"
      ],
      "execution_count": null,
      "outputs": [
        {
          "output_type": "stream",
          "text": [
            "[ Buffer ] : tensor([7.])\n",
            "------------------------------\n",
            "[ Buffer ] : tensor([7.])\n",
            "------------------------------\n"
          ],
          "name": "stdout"
        }
      ]
    },
    {
      "cell_type": "code",
      "metadata": {
        "colab": {
          "base_uri": "https://localhost:8080/"
        },
        "id": "B2ePuoOWH8iF",
        "outputId": "30108bf2-ee03-409d-bb58-11961874a212"
      },
      "source": [
        "# TODO : Function_C에 속하는 Buffer를 가져오세요!\n",
        "buffer = None\n",
        "\n",
        "\n",
        "# 아래 코드는 수정하실 필요가 없습니다!\n",
        "if buffer == 7:\n",
        "    print(\"🎉🎉🎉 성공!!! 🎉🎉🎉\")\n",
        "else:\n",
        "    print(\"🦆 다시 도전해봐요!\")"
      ],
      "execution_count": null,
      "outputs": [
        {
          "output_type": "stream",
          "text": [
            "🎉🎉🎉 성공!!! 🎉🎉🎉\n"
          ],
          "name": "stdout"
        }
      ]
    },
    {
      "cell_type": "markdown",
      "metadata": {
        "id": "JfrjK8Q5tNH6"
      },
      "source": [
        "##### 💡 Docstring\n",
        "\n",
        "``` python\n",
        "🦆\n",
        "아차! 깜빡 잊었네요!\n",
        "\n",
        "PyTorch에서 제공하는 함수나 클래스들은 모두 Docstring이 작성되어있어요!\n",
        "하지만 Documentation을 보는 것이 더 편리하기 때문에 굳이 이용하지는 않죠!\n",
        "\n",
        "custom 모델을 만드는 중이고 이 custom 모델을 사용할\n",
        "다른 개발자들과 미래의 자신을 위해서 Docstring 작성은 필수에요!\n",
        "나중에 Documentation을 만들때도 이 Docstring이 있다면 만들기가 수월하겠죠?\n",
        "\n",
        "기초적인 실수를 했네요!\n",
        "나중에 Docstring을 추가해야겠어요!\n",
        "```\n",
        "- [Docstring - Wikipedia](https://en.wikipedia.org/wiki/Docstring)"
      ]
    },
    {
      "cell_type": "code",
      "metadata": {
        "colab": {
          "base_uri": "https://localhost:8080/"
        },
        "id": "tCkBRdsItfTQ",
        "outputId": "2c82b927-9911-492a-889e-9f0c969a2abf"
      },
      "source": [
        "print(model.__doc__)"
      ],
      "execution_count": null,
      "outputs": [
        {
          "output_type": "stream",
          "text": [
            "None\n"
          ],
          "name": "stdout"
        }
      ]
    },
    {
      "cell_type": "markdown",
      "metadata": {
        "id": "VeIqAIk1NTUh"
      },
      "source": [
        "#### 👨‍💻 <font color='green'><b>[ 코딩 ]</b></font> 부덕이 모델 수정하기 - module 참조 제거\n",
        "\n",
        "``` python\n",
        "🦆\n",
        "제 모델을 분석하면서 알게 되었는데 제가 가장 기본 단위로 만들어놓은\n",
        "\"Function_D\"가 \"Function_C\"를 포함하고 있더라구요!\n",
        "저는 기본 단위인 module끼리 서로 참조하는 걸 원하지 않아요!\n",
        "\n",
        "그리고 \"Function_C\"를 \"Function_D\"에서 제거해도\n",
        "전체 연산의 결과는 동일하게 하고 싶어요!\n",
        "\n",
        "같이 수정 해봐요!\n",
        "```\n",
        "\n",
        "- [Documentation main - PyTorch 공식 문서](https://pytorch.org/docs/stable/index.html)\n",
        "- [torch.nn.Module - PyTorch 공식 문서](https://pytorch.org/docs/stable/generated/torch.nn.Module.html)"
      ]
    },
    {
      "cell_type": "code",
      "metadata": {
        "colab": {
          "base_uri": "https://localhost:8080/"
        },
        "id": "A95FtG-1Px7k",
        "outputId": "a8d38af6-d9dd-43d6-b8f7-25ff42f6dc23"
      },
      "source": [
        "import torch\n",
        "from torch import nn\n",
        "from torch.nn.parameter import Parameter\n",
        "\n",
        "\n",
        "# Function\n",
        "class Function_A(nn.Module):\n",
        "    def __init__(self, name):\n",
        "        super().__init__()\n",
        "        self.name = name\n",
        "\n",
        "    def forward(self, x):\n",
        "        x = x * 2\n",
        "        return x\n",
        "\n",
        "class Function_B(nn.Module):\n",
        "    def __init__(self):\n",
        "        super().__init__()\n",
        "        self.W1 = Parameter(torch.Tensor([10]))\n",
        "        self.W2 = Parameter(torch.Tensor([2]))\n",
        "\n",
        "    def forward(self, x):\n",
        "        x = x / self.W1\n",
        "        x = x / self.W2\n",
        "\n",
        "        return x\n",
        "\n",
        "class Function_C(nn.Module):\n",
        "    def __init__(self):\n",
        "        super().__init__()\n",
        "        self.register_buffer('duck', torch.Tensor([7]), persistent=True)\n",
        "\n",
        "    def forward(self, x):\n",
        "        x = x * self.duck\n",
        "        \n",
        "        return x\n",
        "\n",
        "# TODO : Function_C에 대한 참조를 없애고, 대체할 수 있는 연산을 추가하세요!\n",
        "#        전체 모델의 연산 결과는 바뀌면 안됩니다!\n",
        "class Function_D(nn.Module):\n",
        "    def __init__(self):\n",
        "        super().__init__()\n",
        "        self.W1 = Parameter(torch.Tensor([3]))\n",
        "        self.W2 = Parameter(torch.Tensor([5]))\n",
        "        self.c = Function_C()\n",
        "\n",
        "    def forward(self, x):\n",
        "        x = x + self.W1\n",
        "        x = self.c(x)\n",
        "        x = x / self.W2\n",
        "\n",
        "        return x\n",
        "\n",
        "\n",
        "# Layer\n",
        "class Layer_AB(nn.Module):\n",
        "    def __init__(self):\n",
        "        super().__init__()\n",
        "\n",
        "        self.a = Function_A('duck')\n",
        "        self.b = Function_B()\n",
        "\n",
        "    def forward(self, x):\n",
        "        x = self.a(x) / 5\n",
        "        x = self.b(x)\n",
        "\n",
        "        return x\n",
        "\n",
        "class Layer_CD(nn.Module):\n",
        "    def __init__(self):\n",
        "        super().__init__()\n",
        "\n",
        "        self.c = Function_C()\n",
        "        self.d = Function_D()\n",
        "\n",
        "    def forward(self, x):\n",
        "        x = self.c(x)\n",
        "        x = self.d(x) + 1\n",
        "\n",
        "        return x\n",
        "\n",
        "\n",
        "# Model\n",
        "class Model(nn.Module):\n",
        "    def __init__(self):\n",
        "        super().__init__()\n",
        "\n",
        "        self.ab = Layer_AB()\n",
        "        self.cd = Layer_CD()\n",
        "\n",
        "    def forward(self, x):\n",
        "        x = self.ab(x)\n",
        "        x = self.cd(x)\n",
        "\n",
        "        return x\n",
        "\n",
        "\n",
        "\n",
        "# 아래 코드는 수정하실 필요가 없습니다!\n",
        "x = torch.tensor([7])\n",
        "\n",
        "model = Model()\n",
        "output = model(x)\n",
        "\n",
        "fixed = 1\n",
        "for name, _ in model.named_modules():\n",
        "    if 'cd.d.c' == name:\n",
        "        print(\"🦆 아직 Function_D가 Function_C를 참조하고 있네요!\")\n",
        "        fixed = 0\n",
        "\n",
        "if fixed:\n",
        "    if output == 6.5720:\n",
        "        print(\"🎉🎉🎉 성공!!! 🎉🎉🎉\")\n",
        "    else:\n",
        "        print(\"🦆 module간 참조는 성공적으로 수정되었는데 모델 연산이 달라졌어요!\")\n",
        "        print(\"🦆 Function_C를 제거하시면서 해당 연산을 대체하는 연산을 Function_D에 추가하세요!\")\n",
        "else:\n",
        "    print(\"🦆 다시 도전해봐요!\")"
      ],
      "execution_count": null,
      "outputs": [
        {
          "output_type": "stream",
          "text": [
            "🦆 아직 Function_D가 Function_C를 참조하고 있네요!\n",
            "🦆 다시 도전해봐요!\n"
          ],
          "name": "stdout"
        }
      ]
    },
    {
      "cell_type": "markdown",
      "metadata": {
        "id": "ij7zgUmsUwD6"
      },
      "source": [
        "#### 👨‍💻 <font color='green'><b>[ 코딩 ]</b></font> 부덕이 모델 수정하기 - module 출력 내용 변경하기\n",
        "\n",
        "``` python\n",
        "🦆\n",
        "Function 단위 module인 \"Function_A\"의 경우에\n",
        "instance를 생성하려면 이름을 입력하도록 했어요!\n",
        "그래서 다음처럼 \"Function_A\"를 생성하였죠!\n",
        "\n",
        "# Function_A('duck')\n",
        "\n",
        "저는 완성된 모델을 출력하면 다음처럼 나오길 원했어요!\n",
        "\n",
        "✅ 부덕이가 원하는 이상적인 출력\n",
        "Model(\n",
        "  (ab): Layer_AB(\n",
        "    (a): Function_A(name=duck)\n",
        "    (b): Function_B()\n",
        "  )\n",
        "  (cd): Layer_CD(\n",
        "    (c): Function_C()\n",
        "    (d): Function_D()\n",
        "  )\n",
        ")\n",
        "\n",
        "하지만 실제로 출력해보니 다음과 같이 나오더라구요.\n",
        "\n",
        "❌ 실제 출력 결과\n",
        "Model(\n",
        "  (ab): Layer_AB(\n",
        "    (a): Function_A()\n",
        "    (b): Function_B()\n",
        "  )\n",
        "  (cd): Layer_CD(\n",
        "    (c): Function_C()\n",
        "    (d): Function_D()\n",
        "  )\n",
        ")\n",
        "\n",
        "이를 어쩌면 좋을까요? 꽉꽉!💦\n",
        "```\n",
        "\n",
        "- [Documentation main - PyTorch 공식 문서](https://pytorch.org/docs/stable/index.html)\n",
        "- [extra_repr - PyTorch 공식 문서](https://pytorch.org/docs/stable/generated/torch.nn.Module.html?highlight=repr#torch.nn.Module.extra_repr)\n",
        "\n",
        "🎁 **힌트** 🎁\n",
        "- nn.Module 클래스에서 repr관련 method를 찾아보세요!"
      ]
    },
    {
      "cell_type": "code",
      "metadata": {
        "colab": {
          "base_uri": "https://localhost:8080/"
        },
        "id": "enxjXUKNUwD9",
        "outputId": "51f53b80-3eb9-4a01-fe68-c276b0fa2716"
      },
      "source": [
        "import torch\n",
        "from torch import nn\n",
        "from torch.nn.parameter import Parameter\n",
        "\n",
        "\n",
        "# Function\n",
        "\n",
        "# TODO : Function_A를 수정해서 부덕이가 원하는 출력이 나오도록 해주세요!\n",
        "class Function_A(nn.Module):\n",
        "    def __init__(self, name):\n",
        "        super().__init__()\n",
        "        self.name = name\n",
        "\n",
        "    def forward(self, x):\n",
        "        x = x * 2\n",
        "        return x\n",
        "\n",
        "class Function_B(nn.Module):\n",
        "    def __init__(self):\n",
        "        super().__init__()\n",
        "        self.W1 = Parameter(torch.Tensor([10]))\n",
        "        self.W2 = Parameter(torch.Tensor([2]))\n",
        "\n",
        "    def forward(self, x):\n",
        "        x = x / self.W1\n",
        "        x = x / self.W2\n",
        "\n",
        "        return x\n",
        "\n",
        "class Function_C(nn.Module):\n",
        "    def __init__(self):\n",
        "        super().__init__()\n",
        "        self.register_buffer('duck', torch.Tensor([7]), persistent=True)\n",
        "\n",
        "    def forward(self, x):\n",
        "        x = x * self.duck\n",
        "        \n",
        "        return x\n",
        "\n",
        "class Function_D(nn.Module):\n",
        "    def __init__(self):\n",
        "        super().__init__()\n",
        "        self.W1 = Parameter(torch.Tensor([3]))\n",
        "        self.W2 = Parameter(torch.Tensor([5]))\n",
        "        self.register_buffer('duck', torch.Tensor([7]), persistent=True)\n",
        "\n",
        "    def forward(self, x):\n",
        "        x = x + self.W1\n",
        "        x = x * self.duck\n",
        "        x = x / self.W2\n",
        "\n",
        "        return x\n",
        "\n",
        "\n",
        "# Layer\n",
        "class Layer_AB(nn.Module):\n",
        "    def __init__(self):\n",
        "        super().__init__()\n",
        "\n",
        "        self.a = Function_A('duck')\n",
        "        self.b = Function_B()\n",
        "\n",
        "    def forward(self, x):\n",
        "        x = self.a(x) / 5\n",
        "        x = self.b(x)\n",
        "\n",
        "        return x\n",
        "\n",
        "class Layer_CD(nn.Module):\n",
        "    def __init__(self):\n",
        "        super().__init__()\n",
        "\n",
        "        self.c = Function_C()\n",
        "        self.d = Function_D()\n",
        "\n",
        "    def forward(self, x):\n",
        "        x = self.c(x)\n",
        "        x = self.d(x) + 1\n",
        "\n",
        "        return x\n",
        "\n",
        "\n",
        "# Model\n",
        "class Model(nn.Module):\n",
        "    def __init__(self):\n",
        "        super().__init__()\n",
        "\n",
        "        self.ab = Layer_AB()\n",
        "        self.cd = Layer_CD()\n",
        "\n",
        "    def forward(self, x):\n",
        "        x = self.ab(x)\n",
        "        x = self.cd(x)\n",
        "\n",
        "        return x\n",
        "\n",
        "\n",
        "# 아래 코드는 수정하실 필요가 없습니다!\n",
        "model = Model()\n",
        "model_repr = repr(model)\n",
        "\n",
        "print(\"모델 출력 결과\")\n",
        "print(\"-\" * 30)\n",
        "print(model_repr)\n",
        "print(\"-\" * 30)\n",
        "\n",
        "answer = \"Model(\\n  (ab): Layer_AB(\\n    (a): Function_A(name=duck)\\n    (b): Function_B()\\n  )\\n  (cd): Layer_CD(\\n    (c): Function_C()\\n    (d): Function_D()\\n  )\\n)\"\n",
        "\n",
        "if model_repr == answer:\n",
        "    print(\"🎉🎉🎉 성공!!! 🎉🎉🎉\")\n",
        "    print(\"🦆 너무 고마워요 꽉꽉!\")\n",
        "else:\n",
        "    print(\"🦆 다시 도전해봐요!\")"
      ],
      "execution_count": null,
      "outputs": [
        {
          "output_type": "stream",
          "text": [
            "모델 출력 결과\n",
            "------------------------------\n",
            "Model(\n",
            "  (ab): Layer_AB(\n",
            "    (a): Function_A()\n",
            "    (b): Function_B()\n",
            "  )\n",
            "  (cd): Layer_CD(\n",
            "    (c): Function_C()\n",
            "    (d): Function_D()\n",
            "  )\n",
            ")\n",
            "------------------------------\n",
            "🦆 다시 도전해봐요!\n"
          ],
          "name": "stdout"
        }
      ]
    },
    {
      "cell_type": "markdown",
      "metadata": {
        "id": "B6lHaqZqvnb5"
      },
      "source": [
        "#### 👨‍💻 <font color='green'><b>[ 코딩 ]</b></font> 부덕이 모델 수정하기 - Docstring 작성\n",
        "\n",
        "``` python\n",
        "🦆\n",
        "가볍게 Docstring을 작성해봐요!\n",
        "Numpy, Pydoc, Google 등 다양한 스타일이 있으니까 궁금하면\n",
        "아래 링크에서 읽어보면서 공부해보도록 해요!\n",
        "\n",
        "지금은 스타일 상관없이 Docstring이라는 것을 추가하기만 해보죠!\n",
        "```\n",
        "\n",
        "- [Documentation main - PyTorch 공식 문서](https://pytorch.org/docs/stable/index.html)\n",
        "\n",
        "**✨ 유용한 자료 ✨**\n",
        "- [Docstrings in Python - Data Camp](https://www.datacamp.com/community/tutorials/docstrings-python)"
      ]
    },
    {
      "cell_type": "code",
      "metadata": {
        "colab": {
          "base_uri": "https://localhost:8080/"
        },
        "id": "X8_KUU4AvncC",
        "outputId": "de5faa92-df60-4244-a935-068c92c74eeb"
      },
      "source": [
        "import torch\n",
        "from torch import nn\n",
        "from torch.nn.parameter import Parameter\n",
        "\n",
        "# TODO : Docstring을 추가해보세요!\n",
        "class Model(nn.Module):\n",
        "    def __init__(self):\n",
        "        super().__init__()\n",
        "\n",
        "\n",
        "\n",
        "# 아래 코드는 수정하실 필요가 없습니다!\n",
        "model = Model()\n",
        "\n",
        "if model.__doc__:\n",
        "    print(\"🎉🎉🎉 성공!!! 🎉🎉🎉\")\n",
        "else:\n",
        "    print(\"🦆 다시 도전해봐요!\")"
      ],
      "execution_count": null,
      "outputs": [
        {
          "output_type": "stream",
          "text": [
            "🦆 다시 도전해봐요!\n"
          ],
          "name": "stdout"
        }
      ]
    },
    {
      "cell_type": "markdown",
      "metadata": {
        "id": "tka7VMeekxd7"
      },
      "source": [
        "#### 👨‍💻 <font color='green'><b>[ 코딩 ]</b></font> BatchNorm1d 분석해보기\n",
        "\n",
        "``` python\n",
        "🦆\n",
        "저 이제 자신감이 생긴 것 같아요!\n",
        "\n",
        "PyTorch가 미리 만들어둔 module중 하나를 분석해서\n",
        "제가 어느정도 성장했는지 알아보고 싶어요!\n",
        "\n",
        "음.. 뭐가 좋지? BatchNorm1d으로 해봐요!\n",
        "```\n",
        "\n",
        "- [Documentation main - PyTorch 공식 문서](https://pytorch.org/docs/stable/index.html)\n",
        "- [torch.nn.BatchNorm1d - PyTorch 공식 문서](https://pytorch.org/docs/stable/generated/torch.nn.BatchNorm1d.html#torch.nn.BatchNorm1d)"
      ]
    },
    {
      "cell_type": "code",
      "metadata": {
        "id": "WUshguoBlTNm"
      },
      "source": [
        "import torch\n",
        "import torch.nn\n",
        "\n",
        "module = nn.BatchNorm1d(10)\n",
        "\n",
        "# TODO : nn.BatchNorm1d의 parameter와 buffer 갯수를 알아내세요!\n",
        "parameter_n = None\n",
        "buffer_n = None\n",
        "\n",
        "# TODO : nn.BatchNorm1d의 buffer 이름을 알아내세요!\n",
        "#        [이름, 이름, 이름] 형태로 저장해주세요!\n",
        "buffer_names = None\n",
        "\n",
        "\n",
        "\n",
        "# 아래 코드는 수정하실 필요가 없습니다!\n",
        "answer = set(['running_mean', 'running_var', 'num_batches_tracked'])\n",
        "\n",
        "if parameter_n == 2 and buffer_n == 3 and answer == set(buffer_names):\n",
        "    print(\"🎉🎉🎉 성공!!! 🎉🎉🎉\")\n",
        "else:\n",
        "    print(\"🦆 다시 도전해봐요!\")"
      ],
      "execution_count": null,
      "outputs": []
    },
    {
      "cell_type": "markdown",
      "metadata": {
        "id": "lFLQWT3w0m4v"
      },
      "source": [
        "``` python\n",
        "🦆\n",
        "Docstring을 보는 것보다 PyTorch 공식 문서를 보는게 훨씬 편해서\n",
        "BatchNorm1d는 별도로 Docstring을 보지 않았어요!\n",
        "\n",
        "하지만 Documentation이 없는 모델을 사용중이라면\n",
        "Docstring을 Documentation처럼 여기고 꼼꼼히 보아야 해요!\n",
        "```"
      ]
    },
    {
      "cell_type": "markdown",
      "metadata": {
        "id": "2clV-zzGiH-v"
      },
      "source": [
        "### ☄️ nn.Module 알쓸신잡\n",
        "> 위에서 다루지 않았지만 nn.Module이 제공하는 기능 중에서 알아두면 유용한 기능에 대해 살펴볼 것입니다!\n",
        "\n",
        "- 👨‍💻 <font color='green'><b>[ 코딩 ]</b></font> hook\n",
        "- 👨‍💻 <font color='green'><b>[ 코딩 ]</b></font> apply\n"
      ]
    },
    {
      "cell_type": "markdown",
      "metadata": {
        "id": "7tJVT5Mp9I4S"
      },
      "source": [
        "#### 👨‍💻 <font color='green'><b>[ 코딩 ]</b></font> hook\n",
        "\n",
        "``` python\n",
        "🦆\n",
        "hook라는 생소한 용어를 처음 들어보았어요!\n",
        "이게 무엇일까요? 왠지 모르게 겁이 나네요!\n",
        "\n",
        "인터넷으로 찾아보니까 패키지화된 코드에서 다른 프로그래머가\n",
        "custom 코드를 중간에 실행시킬 수 있도록 만들어놓은 인터페이스라고 하네요!\n",
        "\n",
        "- 프로그램의 실행 로직을 분석하거나\n",
        "- 프로그램에 추가적인 기능을 제공하고 싶을 때\n",
        "\n",
        "hook이 사용된다고 해요!\n",
        "\n",
        "알듯말듯 하네요! 친구가 도움을 준다고 하니 같이 배워봐요! \n",
        "```\n",
        "\n",
        "- [Documentation main - PyTorch 공식 문서](https://pytorch.org/docs/stable/index.html)\n",
        "- [hook - WhatIs](https://whatis.techtarget.com/definition/hook)"
      ]
    },
    {
      "cell_type": "markdown",
      "metadata": {
        "id": "5HujUYII-wih"
      },
      "source": [
        "##### 💡 hook의 원리\n",
        "> 🦆 부덕이 친구가 코드를 작성해주었어요\n",
        "\n",
        "``` python\n",
        "🦆\n",
        "hook이 무엇인지 정말 모르겠다고 하니까 친구가 코드를 작성해주었어요!\n",
        "이 코드를 보고나면 한결 이해가 수월해질 거라고 하더라구요!\n",
        "```\n"
      ]
    },
    {
      "cell_type": "code",
      "metadata": {
        "colab": {
          "base_uri": "https://localhost:8080/"
        },
        "id": "Nok5e_w1PjwS",
        "outputId": "0df97dc7-d157-42b7-9809-f4eb83633dd1"
      },
      "source": [
        "def program_A(x):\n",
        "    print('program A processing!')\n",
        "    return x + 3\n",
        "\n",
        "def program_B(x):\n",
        "    print('program B processing!')\n",
        "    return x - 3\n",
        "\n",
        "class Package(object):\n",
        "    \"\"\"프로그램 A와 B를 묶어놓은 패키지 코드\"\"\"\n",
        "    def __init__(self):\n",
        "        self.programs = [program_A, program_B]\n",
        "        self.hooks = []\n",
        "\n",
        "    def __call__(self, x):\n",
        "        for program in self.programs:\n",
        "            x = program(x)\n",
        "\n",
        "            # Package를 사용하는 사람이 자신만의 custom program을\n",
        "            # 등록할 수 있도록 미리 만들어놓은 인터페이스 hook\n",
        "            if self.hooks:\n",
        "                for hook in self.hooks:\n",
        "                    output = hook(x)\n",
        "\n",
        "                    # return 값이 있는 hook의 경우에만 x를 업데이트 한다\n",
        "                    if output:\n",
        "                        x = output\n",
        "\n",
        "        return x\n",
        "\n",
        "# 패키지 생성\n",
        "package = Package()\n",
        "\n",
        "# 패키지 실행\n",
        "input = 3\n",
        "output = package(input)\n",
        "\n",
        "# 패키지 결과\n",
        "print(f\"Package Process Result! [ input {input} ] [ output {output} ]\")"
      ],
      "execution_count": null,
      "outputs": [
        {
          "output_type": "stream",
          "text": [
            "program A processing!\n",
            "program B processing!\n",
            "Package Process Result! [ input 3 ] [ output 3 ]\n"
          ],
          "name": "stdout"
        }
      ]
    },
    {
      "cell_type": "markdown",
      "metadata": {
        "id": "0KIn1D59SxDf"
      },
      "source": [
        "``` python\n",
        "🦆\n",
        "코드를 보고나서 조금 감이 오기 시작한 것 같아요!\n",
        "\n",
        "Package은 원래부터 self.hooks 라는 변수를 가지고 있었어요!\n",
        "그래서 Package를 실행하면 패키지에 포함된 프로그램을 하나씩 \n",
        "실행하는 중간 중간 self.hooks 에 등록된 함수가 있는지 체크하게 되는거죠!\n",
        "\n",
        "- self.hooks 에 등록된 함수가 있으면 실행 ✅\n",
        "- self.hooks 에 등록된 함수가 없으면 무시 ❌\n",
        "\n",
        "Package를 사용하는 개발자들이 자신의 custom 코드를 Package 중간중간에\n",
        "실행할 수 있도록 Package 제작한 개발자들이 미리 만들어놓은 인터페이스인 거예요!\n",
        "```\n",
        "```python\n",
        "😯\n",
        "세상에! 그럼 저희가 그동안 써오던 여러 패키지들도\n",
        "저희가 custom 코드를 패키지 내부에서 실행시킬 수 있도록\n",
        "\"hook\"이라고 불리는 인터페이스를 가지고 있었을 수도 있겠군요!\n",
        "```\n",
        "\n",
        "``` python\n",
        "🦆\n",
        "역시 뭐든지 알아야 쓸 수 있는 것 같아요!\n",
        "\n",
        "친구가 준 hook의 사용 예시를 함께 봐요!\n",
        "```"
      ]
    },
    {
      "cell_type": "code",
      "metadata": {
        "colab": {
          "base_uri": "https://localhost:8080/"
        },
        "id": "aMmA-BQdeYfi",
        "outputId": "91acec0a-96aa-452d-e05b-9991beba152a"
      },
      "source": [
        "# Hook - 프로그램의 실행 로직 분석 사용 예시\n",
        "def hook_analysis(x):\n",
        "    print(f'hook for analysis, current value is {x}')\n",
        "\n",
        "# 생성된 패키지에 hook 추가\n",
        "package.hooks = []\n",
        "package.hooks.append(hook_analysis)\n",
        "\n",
        "# 패키지 실행\n",
        "input = 3\n",
        "output = package(input)\n",
        "\n",
        "# 패키지 결과\n",
        "print(f\"Package Process Result! [ input {input} ] [ output {output} ]\")"
      ],
      "execution_count": null,
      "outputs": [
        {
          "output_type": "stream",
          "text": [
            "program A processing!\n",
            "hook for analysis, current value is 6\n",
            "program B processing!\n",
            "hook for analysis, current value is 3\n",
            "Package Process Result! [ input 3 ] [ output 3 ]\n"
          ],
          "name": "stdout"
        }
      ]
    },
    {
      "cell_type": "code",
      "metadata": {
        "colab": {
          "base_uri": "https://localhost:8080/"
        },
        "id": "Ijgpx3s6fLAO",
        "outputId": "35df2dd0-36dc-448b-ce52-62f021e72d1b"
      },
      "source": [
        "# Hook - 프로그램에 기능 추가 예시\n",
        "def hook_multiply(x):\n",
        "    print('hook for multiply')\n",
        "    return x * 3\n",
        "\n",
        "# 생성된 패키지에 hook 추가\n",
        "package.hooks = []\n",
        "package.hooks.append(hook_multiply)\n",
        "\n",
        "# 패키지 실행\n",
        "input = 3\n",
        "output = package(input)\n",
        "\n",
        "# 패키지 결과\n",
        "print(f\"Package Process Result! [ input {input} ] [ output {output} ]\")"
      ],
      "execution_count": null,
      "outputs": [
        {
          "output_type": "stream",
          "text": [
            "program A processing!\n",
            "hook for multiply\n",
            "program B processing!\n",
            "hook for multiply\n",
            "Package Process Result! [ input 3 ] [ output 45 ]\n"
          ],
          "name": "stdout"
        }
      ]
    },
    {
      "cell_type": "code",
      "metadata": {
        "colab": {
          "base_uri": "https://localhost:8080/"
        },
        "id": "RxWqcHgBg2PU",
        "outputId": "a4810bd7-eb17-496c-bebc-decc2de382f2"
      },
      "source": [
        "# 여러개의 hook을 넣을 수 있다\n",
        "package.hooks = []\n",
        "package.hooks.append(hook_multiply)\n",
        "package.hooks.append(hook_analysis)\n",
        "\n",
        "# 패키지 실행\n",
        "input = 3\n",
        "output = package(input)\n",
        "\n",
        "# 패키지 결과\n",
        "print(f\"Package Process Result! [ input {input} ] [ output {output} ]\")"
      ],
      "execution_count": null,
      "outputs": [
        {
          "output_type": "stream",
          "text": [
            "program A processing!\n",
            "hook for multiply\n",
            "hook for analysis, current value is 18\n",
            "program B processing!\n",
            "hook for multiply\n",
            "hook for analysis, current value is 45\n",
            "Package Process Result! [ input 3 ] [ output 45 ]\n"
          ],
          "name": "stdout"
        }
      ]
    },
    {
      "cell_type": "markdown",
      "metadata": {
        "id": "sVflo4JVhIHV"
      },
      "source": [
        "``` python\n",
        "🦆\n",
        "친구가 준 예시의 hook에서는 프로그램이 실행되고 난 이후에만\n",
        "hook 함수를 사용할 수가 있어요!\n",
        "\n",
        "만약 Package를 설계할 때 프로그램 실행 앞 뒤로 hook를 넣어둔다면\n",
        "프로그램의 실행 전과 후 모두 저희의 custom 함수를 실행할 수 있겠죠!\n",
        "\n",
        "그래서 프로그램 실행 전에 hook을 사용할 수 있도록\n",
        "pre_hook 이라는 인터페이스를 만들었보았어요!\n",
        "```"
      ]
    },
    {
      "cell_type": "code",
      "metadata": {
        "id": "o1iz3uPh9I4b"
      },
      "source": [
        "def program_A(x):\n",
        "    print('program A processing!')\n",
        "    return x + 3\n",
        "\n",
        "def program_B(x):\n",
        "    print('program B processing!')\n",
        "    return x - 3\n",
        "\n",
        "class Package(object):\n",
        "    \"\"\"프로그램 A와 B를 묶어놓은 패키지 코드\"\"\"\n",
        "    def __init__(self):\n",
        "        self.programs = [program_A, program_B]\n",
        "\n",
        "        # hooks\n",
        "        self.pre_hooks = []\n",
        "        self.hooks = []\n",
        "\n",
        "    def __call__(self, x):\n",
        "        for program in self.programs:\n",
        "            \n",
        "            # pre_hook\n",
        "            if self.pre_hooks:\n",
        "                for hook in self.pre_hooks:\n",
        "                    output = hook(x)\n",
        "                    if output:\n",
        "                        x = output\n",
        "\n",
        "            x = program(x)\n",
        "\n",
        "            # hook\n",
        "            if self.hooks:\n",
        "                for hook in self.hooks:\n",
        "                    output = hook(x)\n",
        "                    if output:\n",
        "                        x = output\n",
        "\n",
        "        return x"
      ],
      "execution_count": null,
      "outputs": []
    },
    {
      "cell_type": "markdown",
      "metadata": {
        "id": "YvZi6GDLh9iJ"
      },
      "source": [
        "``` python\n",
        "🦆\n",
        "친구한테 위의 코드를 보내주었더니 칭찬해주었어요!\n",
        "\n",
        "hook을 어디에다가 심어놓을 것인지는 설계자의 마음이라고 하였죠!\n",
        "보내준 예시에서는 Package쪽에다가 hook 인터페이스를 만들었지만\n",
        "program 내부에서 hook 인터페이스를 만들어둘 수도 있다고 하였어요!\n",
        "\n",
        "만약 이런 경우에는 프로그램 별로 다 다른 hook을 사용할 수 있기 때문에\n",
        "더욱 custom하기 좋다고 하였죠!\n",
        "```"
      ]
    },
    {
      "cell_type": "markdown",
      "metadata": {
        "id": "70LM7F_OjMqB"
      },
      "source": [
        "##### 💡 PyTorch의 hook\n",
        "> 🦆 부덕이가 코드를 작성해주었어요\n",
        "\n",
        "``` python\n",
        "🦆\n",
        "hook을 이해하고 나서 PyTorch에는 어떤 hook이 있는지 살펴보았어요!\n",
        "크게 2가지로 나뉘더라구요!\n",
        "\n",
        "- Tensor에 적용하는 hook\n",
        "- Module에 적용하는 hook\n",
        "```"
      ]
    },
    {
      "cell_type": "markdown",
      "metadata": {
        "id": "pR6xLrKogJoy"
      },
      "source": [
        "```python\n",
        "🦆\n",
        "Tensor에 등록하는 hook의 경우에는 \"_backward_hooks\"에서 확인할 수 있어요!\n",
        "\n",
        "module과 다르게 tensor에는 backward hook만 있어요!\n",
        "forward hook이 있는지 찾아보았는데 없더라구요!\n",
        "```\n",
        "- [register_hook - PyTorch 공식 문서](https://pytorch.org/docs/stable/generated/torch.Tensor.register_hook.html#torch.Tensor.register_hook)"
      ]
    },
    {
      "cell_type": "code",
      "metadata": {
        "colab": {
          "base_uri": "https://localhost:8080/"
        },
        "id": "N75CZzOwie3a",
        "outputId": "f7bb4455-6b9c-4af2-fece-b1554c89fbaa"
      },
      "source": [
        "import torch\n",
        "\n",
        "tensor = torch.rand(1, requires_grad=True)\n",
        "\n",
        "def tensor_hook(grad):\n",
        "    pass\n",
        "\n",
        "tensor.register_hook(tensor_hook)\n",
        "\n",
        "# 🦆 tensor는 backward hook만 있어요!\n",
        "tensor._backward_hooks"
      ],
      "execution_count": null,
      "outputs": [
        {
          "output_type": "execute_result",
          "data": {
            "text/plain": [
              "OrderedDict([(111, <function __main__.tensor_hook>)])"
            ]
          },
          "metadata": {
            "tags": []
          },
          "execution_count": 71
        }
      ]
    },
    {
      "cell_type": "markdown",
      "metadata": {
        "id": "dJ_ll23vibx-"
      },
      "source": [
        "```python\n",
        "🦆\n",
        "nn.Module에 등록하는 모든 hook은 \"__dict__\"을 이용하면 한번에 확인이 가능해요!\n",
        "```\n",
        "\n",
        "- [register_forward_pre_hook - PyTorch 공식 문서](https://pytorch.org/docs/stable/generated/torch.nn.Module.html?highlight=hook#torch.nn.Module.register_forward_pre_hook)\n",
        "- [register_forward_hook - PyTorch 공식 문서](https://pytorch.org/docs/stable/generated/torch.nn.Module.html?highlight=hook#torch.nn.Module.register_forward_hook)\n",
        "- [register_backward_hook - PyTorch 공식 문서](https://pytorch.org/docs/stable/generated/torch.nn.Module.html?highlight=hook#torch.nn.Module.register_backward_hook)\n",
        "- [register_full_backward_hook - PyTorch 공식 문서](https://pytorch.org/docs/stable/generated/torch.nn.Module.html?highlight=register_full#torch.nn.Module.register_full_backward_hook)"
      ]
    },
    {
      "cell_type": "code",
      "metadata": {
        "colab": {
          "base_uri": "https://localhost:8080/"
        },
        "id": "f522pSdWXgGA",
        "outputId": "14827ab7-632f-4bab-bf97-275e853379a1"
      },
      "source": [
        "from torch import nn\n",
        "\n",
        "class Model(nn.Module):\n",
        "    def __init__(self):\n",
        "        super().__init__()\n",
        "\n",
        "def module_hook(grad):\n",
        "    pass\n",
        "\n",
        "model = Model()\n",
        "model.register_forward_pre_hook(module_hook)\n",
        "model.register_forward_hook(module_hook)\n",
        "model.register_full_backward_hook(module_hook)\n",
        "\n",
        "# 🦆 __dict__에는 module의 모든 변수와 parameter, hook 등의 중요한 정보가 담겨있어요!\n",
        "#    module이 정보의 저장소로 이용하는 공간인만큼 자세한 잊지 말고 나중에 필요할 때 사용해보세요!\n",
        "model.__dict__"
      ],
      "execution_count": null,
      "outputs": [
        {
          "output_type": "execute_result",
          "data": {
            "text/plain": [
              "{'_backward_hooks': OrderedDict([(110, <function __main__.module_hook>)]),\n",
              " '_buffers': OrderedDict(),\n",
              " '_forward_hooks': OrderedDict([(109, <function __main__.module_hook>)]),\n",
              " '_forward_pre_hooks': OrderedDict([(108, <function __main__.module_hook>)]),\n",
              " '_is_full_backward_hook': True,\n",
              " '_load_state_dict_pre_hooks': OrderedDict(),\n",
              " '_modules': OrderedDict(),\n",
              " '_non_persistent_buffers_set': set(),\n",
              " '_parameters': OrderedDict(),\n",
              " '_state_dict_hooks': OrderedDict(),\n",
              " 'training': True}"
            ]
          },
          "metadata": {
            "tags": []
          },
          "execution_count": 70
        }
      ]
    },
    {
      "cell_type": "markdown",
      "metadata": {
        "id": "UxX-trOlrvjh"
      },
      "source": [
        "```python\n",
        "🦆\n",
        "\"__dict__\" 을 확인하니까 다음의 5가지가 나오더라구요!\n",
        "\n",
        "- forward_pre_hooks\n",
        "- forward_hooks\n",
        "- backward_hooks # deprecated\n",
        "- full_backward_hooks\n",
        "- state_dict_hooks # used internally\n",
        "\n",
        "왠지 이름을 보면 언제 사용하는지 알 것 같아요!\n",
        "forward와 backward시에 각각 hook이 호출되는 거겠죠!\n",
        "\n",
        "- forward 시에는 pre_hook과 hook이 있고\n",
        "- backward는 시에는 hook만 존재하네요!\n",
        "- state_dict의 경우도 hook이 있는데 저희가 사용하는게 아니라\n",
        "  \"load_state_dict\" 함수가 내부적으로 사용한다고 하네요!\n",
        "  아래 링크 첨부한 곳에 내용이 쓰여있어요!\n",
        "\n",
        "nn.Module에서 이렇게 hook이라는 공간을 만들어 둔 줄 몰랐네요!\n",
        "저희 이제 잘 알게 되었으니까 기회가 되면 꼭 써봐요!\n",
        "\n",
        "매번 module를 실행할때마다 module은 등록한 hook이 있는지 없는지 체크하는데\n",
        "매번 등록된 hook이 없으면 module도 섭섭하지 않을까요?\n",
        "\n",
        "너무 슬플 것 같아요..\n",
        "```\n",
        "- [Invoking Time of nn.Module _register_state_dict_hook() - PyTorch Forum](https://discuss.pytorch.org/t/invoking-time-of-nn-module-register-state-dict-hook/108163)"
      ]
    },
    {
      "cell_type": "markdown",
      "metadata": {
        "id": "1r2HJhPzCqZM"
      },
      "source": [
        "##### 💡 forward hook\n",
        "``` python\n",
        "🦆\n",
        "뭐든지 직접 사용해봐야 이해가 더 잘되겠죠?\n",
        "\n",
        "module에만 적용할 수 있는 forward hook! 같이 사용해봐요!\n",
        "```\n",
        "\n",
        "**Module**\n",
        "- [register_forward_pre_hook - PyTorch 공식 문서](https://pytorch.org/docs/stable/generated/torch.nn.Module.html?highlight=hook#torch.nn.Module.register_forward_pre_hook)\n",
        "- [register_forward_hook - PyTorch 공식 문서](https://pytorch.org/docs/stable/generated/torch.nn.Module.html?highlight=hook#torch.nn.Module.register_forward_hook)"
      ]
    },
    {
      "cell_type": "markdown",
      "metadata": {
        "id": "RfanMq-Et5gc"
      },
      "source": [
        "``` python\n",
        "🦆\n",
        "Add 모델에 어떤 값이 전파되는지 알아봐요!\n",
        "미리 만들어둔 list와 forward hook이면 분명 알아낼 수 있을 거예요!\n",
        "```"
      ]
    },
    {
      "cell_type": "code",
      "metadata": {
        "colab": {
          "base_uri": "https://localhost:8080/"
        },
        "id": "AMmXBTDhtOIc",
        "outputId": "f7ac8d7a-5430-4ce4-d83d-495e63232c76"
      },
      "source": [
        "import torch\n",
        "from torch import nn\n",
        "\n",
        "\n",
        "# Add 모델을 수정하지 마세요! \n",
        "class Add(nn.Module):\n",
        "    def __init__(self):\n",
        "        super().__init__() \n",
        "\n",
        "    def forward(self, x1, x2):\n",
        "        output = torch.add(x1, x2)\n",
        "\n",
        "        return output\n",
        "\n",
        "# 모델 생성\n",
        "add = Add()\n",
        "\n",
        "# TODO: 답을 x1, x2, output 순서로 list에 차례차례 넣으세요! \n",
        "answer = []\n",
        "\n",
        "\n",
        "# TODO : pre_hook를 이용해서 x1, x2 값을 알아내 answer에 저장하세요\n",
        "def pre_hook(module, input):\n",
        "    pass\n",
        "\n",
        "# TODO : hook를 이용해서 output 값을 알아내 answer에 저장하세요\n",
        "def hook(module, input, output):\n",
        "    pass\n",
        "\n",
        "\n",
        "# 아래 코드는 수정하실 필요가 없습니다!\n",
        "x1 = torch.rand(1)\n",
        "x2 = torch.rand(1)\n",
        "\n",
        "output = add(x1, x2)\n",
        "\n",
        "if answer == [x1, x2, output]:\n",
        "    print(\"🎉🎉🎉 성공!!! 🎉🎉🎉\")\n",
        "else:\n",
        "    print(\"🦆 다시 도전해봐요!\")"
      ],
      "execution_count": null,
      "outputs": [
        {
          "output_type": "stream",
          "text": [
            "🦆 다시 도전해봐요!\n"
          ],
          "name": "stdout"
        }
      ]
    },
    {
      "cell_type": "markdown",
      "metadata": {
        "id": "OyygsrsQD_4E"
      },
      "source": [
        "``` python\n",
        "🦆\n",
        "휴 생각보다 어려웠던 것 같아요!\n",
        "아직 익숙하지 않아서 그런가봐요!\n",
        "\n",
        "저희가 방금 hook를 이용해서 모델을 통해 전파되는 값들을 저장했는데\n",
        "이뿐만 아니라 전파되는 값을 수정도 가능하다고 들었어요!\n",
        "\n",
        "정말 가능한지 한번 해봐요!\n",
        "```"
      ]
    },
    {
      "cell_type": "code",
      "metadata": {
        "colab": {
          "base_uri": "https://localhost:8080/"
        },
        "id": "dj7hpOeCEv5-",
        "outputId": "164e3f0f-3c64-4099-ba43-cc82e9a0d84d"
      },
      "source": [
        "import torch\n",
        "from torch import nn\n",
        "\n",
        "# Add 모델을 수정하지 마세요! \n",
        "class Add(nn.Module):\n",
        "    def __init__(self):\n",
        "        super().__init__() \n",
        "\n",
        "    def forward(self, x1, x2):\n",
        "        output = torch.add(x1, x2)\n",
        "\n",
        "        return output\n",
        "\n",
        "# 모델 생성\n",
        "add = Add()\n",
        "\n",
        "\n",
        "# TODO : hook를 이용해서 전파되는 output 값에 5를 더해보세요!\n",
        "def hook(module, input, output):\n",
        "    pass\n",
        "\n",
        "\n",
        "# 아래 코드는 수정하실 필요가 없습니다!\n",
        "x1 = torch.rand(1)\n",
        "x2 = torch.rand(1)\n",
        "\n",
        "output = add(x1, x2)\n",
        "\n",
        "if output == x1 + x2 + 5:\n",
        "    print(\"🎉🎉🎉 성공!!! 🎉🎉🎉\")\n",
        "else:\n",
        "    print(\"🦆 다시 도전해봐요!\")"
      ],
      "execution_count": null,
      "outputs": [
        {
          "output_type": "stream",
          "text": [
            "🦆 다시 도전해봐요!\n"
          ],
          "name": "stdout"
        }
      ]
    },
    {
      "cell_type": "markdown",
      "metadata": {
        "id": "XdSszPOlFg2C"
      },
      "source": [
        "``` python\n",
        "🦆\n",
        "해냈어요! 저희가 전파되는 값을 수정했어요!\n",
        "\n",
        "hook 정말 강력하네요!\n",
        "잘 사용한다면 정말 유용할 것 같아요!\n",
        "\n",
        "또 어디에 사용해볼 수 있을까요?\n",
        "궁금해서 아래 글을 읽어보았는데 좋은 사례들이 있는 것 같아요!\n",
        "\n",
        "backward hook 관련 내용도 나오는데\n",
        "이 부분은 backward hook을 연습하고 마저 읽어야겠어요!\n",
        "```\n",
        "\n",
        "**✨ 유용한 자료 ✨**\n",
        "- [How to Use PyTorch Hooks - Medium](https://medium.com/the-dl/how-to-use-pytorch-hooks-5041d777f904)\n",
        "- [PyTorch 101, Part 5: Understanding Hooks - Paperspace blog](https://blog.paperspace.com/pytorch-hooks-gradient-clipping-debugging/)"
      ]
    },
    {
      "cell_type": "markdown",
      "metadata": {
        "id": "IA_-_-XdtJwT"
      },
      "source": [
        "##### 💡 backward hook\n",
        "``` python\n",
        "🦆\n",
        "forward hook은 module에만 적용할 수 있지만\n",
        "backward hook은 tensor와 module 2가지에 적용할 수 있더라구요!\n",
        "\n",
        "같이 사용해봐요!\n",
        "```\n",
        "\n",
        "**Tensor**\n",
        "- [register_hook - PyTorch 공식 문서](https://pytorch.org/docs/stable/generated/torch.Tensor.register_hook.html#torch.Tensor.register_hook)\n",
        "\n",
        "**Module**\n",
        "- [register_backward_hook - PyTorch 공식 문서](https://pytorch.org/docs/stable/generated/torch.nn.Module.html?highlight=hook#torch.nn.Module.register_backward_hook)\n",
        "- [register_full_backward_hook - PyTorch 공식 문서](https://pytorch.org/docs/stable/generated/torch.nn.Module.html?highlight=register_full#torch.nn.Module.register_full_backward_hook)"
      ]
    },
    {
      "cell_type": "markdown",
      "metadata": {
        "id": "3qIlAHSCy19v"
      },
      "source": [
        "``` python\n",
        "🦆\n",
        "이제 gradient까지 다루기 시작하다니! 너무 흥분되요!\n",
        "모델에서 backpropagation할 때 뒤로 전파되는 gradient값을 같이 알아봐요!\n",
        "\n",
        "forward에서 했듯 list와 backward hook이면 분명 가능할거에요! \n",
        "```"
      ]
    },
    {
      "cell_type": "code",
      "metadata": {
        "colab": {
          "base_uri": "https://localhost:8080/"
        },
        "id": "BT96uu7WYURO",
        "outputId": "42d53cd6-0dd4-437f-f551-2981f884336a"
      },
      "source": [
        "import torch\n",
        "from torch import nn\n",
        "from torch.nn.parameter import Parameter\n",
        "\n",
        "\n",
        "# Model 모델을 수정하지 마세요! \n",
        "class Model(nn.Module):\n",
        "    def __init__(self):\n",
        "        super().__init__()\n",
        "        self.W = Parameter(torch.Tensor([5]))\n",
        "\n",
        "    def forward(self, x1, x2):\n",
        "        output = x1 * x2\n",
        "        output = output * self.W\n",
        "\n",
        "        return output\n",
        "\n",
        "# 모델 생성\n",
        "model = Model()\n",
        "\n",
        "\n",
        "# TODO: 답을 x1.grad, x2.grad, output.grad 순서로 list에 차례차례 넣으세요! \n",
        "answer = []\n",
        "\n",
        "# TODO : hook를 이용해서 x1.grad, x2.grad, output.grad 값을 알아내 answer에 저장하세요\n",
        "def module_hook(module, grad_input, grad_output):\n",
        "    pass\n",
        "\n",
        "\n",
        "# 아래 코드는 수정하실 필요가 없습니다!\n",
        "x1 = torch.rand(1, requires_grad=True)\n",
        "x2 = torch.rand(1, requires_grad=True)\n",
        "\n",
        "output = model(x1, x2)\n",
        "output.retain_grad()\n",
        "output.backward()\n",
        "\n",
        "if answer == [x1.grad, x2.grad, output.grad]:\n",
        "    print(\"🎉🎉🎉 성공!!! 🎉🎉🎉\")\n",
        "else:\n",
        "    print(\"🦆 다시 도전해봐요!\")"
      ],
      "execution_count": null,
      "outputs": [
        {
          "output_type": "stream",
          "text": [
            "🦆 다시 도전해봐요!\n"
          ],
          "name": "stdout"
        }
      ]
    },
    {
      "cell_type": "markdown",
      "metadata": {
        "id": "bHkgQGZm35q4"
      },
      "source": [
        "``` python\n",
        "🦆\n",
        "module 단위의 backward hook은 정말 좋지만\n",
        "module을 기준으로 input, output gradient 값만 가져와서\n",
        "module 내부의 tensor의 gradient값은 알아낼 수 없어요!\n",
        "\n",
        "그래서 Model의 Parameter W의 gradient값을 알고 싶지만\n",
        "module 단위 backward hook로는 알아낼 수가 없네요!\n",
        "\n",
        "tensor 단위의 backward hook를 사용해야겠어요!\n",
        "```"
      ]
    },
    {
      "cell_type": "code",
      "metadata": {
        "colab": {
          "base_uri": "https://localhost:8080/"
        },
        "id": "PG0_rueTaYj3",
        "outputId": "223e2fce-ae99-46ec-ef71-c7f7c5129a03"
      },
      "source": [
        "import torch\n",
        "from torch import nn\n",
        "from torch.nn.parameter import Parameter\n",
        "\n",
        "class Model(nn.Module):\n",
        "    def __init__(self):\n",
        "        super().__init__()\n",
        "        self.W = Parameter(torch.Tensor([5]))\n",
        "\n",
        "    def forward(self, x1, x2):\n",
        "        output = x1 * x2\n",
        "        output = output * self.W\n",
        "\n",
        "        return output\n",
        "\n",
        "# 모델 생성\n",
        "model = Model()\n",
        "\n",
        "\n",
        "# TODO: Model의 Parameter W의 gradient 값을 저장하세요!\n",
        "answer = []\n",
        "\n",
        "# TODO : hook를 이용해서 W의 gradient 값을 알아내 answer에 저장하세요\n",
        "def tensor_hook(grad):\n",
        "    pass\n",
        "\n",
        "\n",
        "# 아래 코드는 수정하실 필요가 없습니다!\n",
        "x1 = torch.rand(1, requires_grad=True)\n",
        "x2 = torch.rand(1, requires_grad=True)\n",
        "\n",
        "output = model(x1, x2)\n",
        "output.backward()\n",
        "\n",
        "if answer == [model.W.grad]:\n",
        "    print(\"🎉🎉🎉 성공!!! 🎉🎉🎉\")\n",
        "else:\n",
        "    print(\"🦆 다시 도전해봐요!\")"
      ],
      "execution_count": null,
      "outputs": [
        {
          "output_type": "stream",
          "text": [
            "🦆 다시 도전해봐요!\n"
          ],
          "name": "stdout"
        }
      ]
    },
    {
      "cell_type": "markdown",
      "metadata": {
        "id": "EQtbwyLO6Z7p"
      },
      "source": [
        "``` python\n",
        "🦆\n",
        "이제 저희는 모델의 어떤 tensor에서도\n",
        "원하는 gradient값을 알아낼 수 있게 되었어요!\n",
        "\n",
        "그런데 backward hook도 gradient값의 흐름에 영향을 미칠 수 있을까요?\n",
        "```"
      ]
    },
    {
      "cell_type": "code",
      "metadata": {
        "colab": {
          "base_uri": "https://localhost:8080/"
        },
        "id": "J-C4I5fX6AE8",
        "outputId": "9ebf908b-54d6-40a0-9c05-aa9dec2f5f69"
      },
      "source": [
        "import torch\n",
        "from torch import nn\n",
        "from torch.nn.parameter import Parameter\n",
        "\n",
        "class Model(nn.Module):\n",
        "    def __init__(self):\n",
        "        super().__init__()\n",
        "        self.W = Parameter(torch.Tensor([5]))\n",
        "\n",
        "    def forward(self, x1, x2):\n",
        "        output = x1 * x2\n",
        "        output = output * self.W\n",
        "\n",
        "        return output\n",
        "\n",
        "# 모델 생성\n",
        "model = Model()\n",
        "\n",
        "\n",
        "# TODO : hook를 이용해서 module의 gradient 출력의 합이 1이 되도록 하세요!\n",
        "#        ex) (1.5, 0.5) -> (0.75, 0.25)\n",
        "def module_hook(module, grad_input, grad_output):\n",
        "    pass\n",
        "\n",
        "\n",
        "# 아래 코드는 수정하실 필요가 없습니다!\n",
        "x1 = torch.rand(1, requires_grad=True)\n",
        "x2 = torch.rand(1, requires_grad=True)\n",
        "\n",
        "output = model(x1, x2)\n",
        "output.backward()\n",
        "\n",
        "if x1.grad + x2.grad == 1:\n",
        "    print(\"🎉🎉🎉 성공!!! 🎉🎉🎉\")\n",
        "else:\n",
        "    print(\"🦆 다시 도전해봐요!\")"
      ],
      "execution_count": null,
      "outputs": [
        {
          "output_type": "stream",
          "text": [
            "🦆 다시 도전해봐요!\n"
          ],
          "name": "stdout"
        }
      ]
    },
    {
      "cell_type": "markdown",
      "metadata": {
        "id": "rOY2fP6aR1d8"
      },
      "source": [
        "``` python\n",
        "🦆\n",
        "forward hook, backward hook 모두 다루어보았네요!\n",
        "휴! 정말 힘들었어요!\n",
        "\n",
        "그래도 유용한 기능을 하나 알게 된 것 같아 매우 기뻐요!\n",
        "다음의 것들을 해볼 수 있을 것 같아요!\n",
        "\n",
        "- gradient값의 변화를 시각화\n",
        "- gradient값이 특정 임계값을 넘으면 gradient exploding 경고 알림\n",
        "- 특정 tensor의 gradient값이 너무 커지거나 작아지는 현상이 관측되면\n",
        "  해당 tensor 한정으로 gradient clipping\n",
        "\n",
        "아! 그러고보니 forward hook을 실습하고 읽다 만 문서가 생각나네요!\n",
        "이제 마저 backward hook 관련 내용을 읽어야겠네요!\n",
        "\n",
        "동영상도 하나 발견했는데 hook에 대해서 상세히 잘 설명해주는 것 같아요!\n",
        "hook의 동작 원리를 좀 더 자세히 알고싶을 때 한 번 봐야겠어요!\n",
        "```\n",
        "\n",
        "**✨ 유용한 자료 ✨**\n",
        "- [How to Use PyTorch Hooks - Medium](https://medium.com/the-dl/how-to-use-pytorch-hooks-5041d777f904)\n",
        "- [PyTorch 101, Part 5: Understanding Hooks - Paperspace blog](https://blog.paperspace.com/pytorch-hooks-gradient-clipping-debugging/)\n",
        "- [PyTorch Hooks Explained - In-depth Tutorial - YouTube](https://www.youtube.com/watch?v=syLFCVYua6Q)"
      ]
    },
    {
      "cell_type": "markdown",
      "metadata": {
        "id": "tz48RlN1_6t_"
      },
      "source": [
        "#### 👨‍💻 <font color='green'><b>[ 코딩 ]</b></font> apply\n",
        "\n",
        "``` python\n",
        "🦆\n",
        "이건 제가 설명드릴 수 있을 것 같아요! 공부를 열심히 했죠!\n",
        "\n",
        "우리는 PyTorch의 nn.Module은 상자라는 것을 같이 배웠어요!\n",
        "그래서 module은 module를 포함할 수 있고 다른 module 속에 들어갈 수도 있죠!\n",
        "\n",
        "하나의 module에 다른 모든 module들이 담기면\n",
        "우리는 이 거대한 module들의 집합을 모델이라고 부르죠!\n",
        "\n",
        "모델은 수많은 module과 module들이 서로 복잡하게 얽혀있는\n",
        "트리(Tree) 혹은 그래프(Graph)라고 볼 수 있어요!\n",
        "\n",
        "모델에 무언가를 적용하면 단지 맨 꼭대기의 module 하나가 아니라\n",
        "모델을 구성하는 전체 module에 모두 적용이 되어야 하고\n",
        "nn.Module의 method들은 대부분 내부적으로 이를 지원해요!\n",
        "\n",
        "예로 \".cpu()\"를 맨 위 module에 적용하면 우리는 신경쓰지 않아도\n",
        "module이 그 아래에 존재하는 모든 module에 \".cpu()\"를 적용해요!\n",
        "\n",
        "그러면 nn.Module에 이미 구현되어있는 method가 아닌\n",
        "저희만의 custom 함수를 모델에 적용하고 싶다면 어떻게 하면 좋을까요?\n",
        "모델에 속하는 모든 module에 일일이 함수를 적용해야할까요?\n",
        "\n",
        "이때 사용하는게 바로 \"apply\"에요!\n",
        "함수를 적용한다는 문구가 잘 와닿지 않으시죠? 함께 사용해봐요!\n",
        "```\n",
        "\n",
        "- [Documentation main - PyTorch 공식 문서](https://pytorch.org/docs/stable/index.html)\n",
        "- [apply - PyTorch 공식 문서](https://pytorch.org/docs/stable/generated/torch.nn.Module.html?highlight=apply#torch.nn.Module.apply)\n"
      ]
    },
    {
      "cell_type": "markdown",
      "metadata": {
        "id": "5kOCk33KLR8i"
      },
      "source": [
        "##### 💡 apply 예제\n",
        "> 🦆 부덕이가 코드를 작성해주었어요\n",
        "\n",
        "``` python\n",
        "🦆\n",
        "처음 보는 기능은 Documentation의 예제를 사용해보면 이해가 되더라구요!\n",
        "apply 함수에 적혀있는 예제를 그대로 가져와봤어요!\n",
        "```\n",
        "- [apply - PyTorch 공식 문서](https://pytorch.org/docs/stable/generated/torch.nn.Module.html?highlight=apply#torch.nn.Module.apply)"
      ]
    },
    {
      "cell_type": "code",
      "metadata": {
        "id": "P7tUi0q0CVap",
        "colab": {
          "base_uri": "https://localhost:8080/"
        },
        "outputId": "a1acbc60-6930-4388-8d70-e9950d4653c9"
      },
      "source": [
        "import torch\n",
        "from torch import nn\n",
        "\n",
        "@torch.no_grad()\n",
        "def init_weights(m):\n",
        "    print(m)\n",
        "    if type(m) == nn.Linear:\n",
        "        m.weight.fill_(1.0)\n",
        "        print(m.weight)\n",
        "\n",
        "net = nn.Sequential(nn.Linear(2, 2), nn.Linear(2, 2))\n",
        "net.apply(init_weights)"
      ],
      "execution_count": null,
      "outputs": [
        {
          "output_type": "stream",
          "text": [
            "Linear(in_features=2, out_features=2, bias=True)\n",
            "Parameter containing:\n",
            "tensor([[1., 1.],\n",
            "        [1., 1.]], requires_grad=True)\n",
            "Linear(in_features=2, out_features=2, bias=True)\n",
            "Parameter containing:\n",
            "tensor([[1., 1.],\n",
            "        [1., 1.]], requires_grad=True)\n",
            "Sequential(\n",
            "  (0): Linear(in_features=2, out_features=2, bias=True)\n",
            "  (1): Linear(in_features=2, out_features=2, bias=True)\n",
            ")\n"
          ],
          "name": "stdout"
        },
        {
          "output_type": "execute_result",
          "data": {
            "text/plain": [
              "Sequential(\n",
              "  (0): Linear(in_features=2, out_features=2, bias=True)\n",
              "  (1): Linear(in_features=2, out_features=2, bias=True)\n",
              ")"
            ]
          },
          "metadata": {
            "tags": []
          },
          "execution_count": 252
        }
      ]
    },
    {
      "cell_type": "markdown",
      "metadata": {
        "id": "kdSFfplQPgg9"
      },
      "source": [
        "```python\n",
        "🦆\n",
        "아하! 그러니까 apply를 통해 적용하는 함수는 module을 입력으로 받는군요!\n",
        "모델의 모든 module들을 순차적으로 입력받아서 처리하는 것 같아요!\n",
        "\n",
        "apply 함수는 일반적으로 가중치 초기화(Weight Initialization)에 많이 사용된다고 해요!\n",
        "Parameter로 지정한 tensor의 값을 원하는 값으로 지정해주는 것을 의미하는 것 같아요!\n",
        "하지만 저도 아직은 생소해서 정확한지 모르겠네요!\n",
        "\"m.weight.fill_\"과 같은 코드를 보니까 갑자기 두통이..\n",
        "```"
      ]
    },
    {
      "cell_type": "markdown",
      "metadata": {
        "id": "b7RtvqiWNGen"
      },
      "source": [
        "##### 💡 부덕이 모델 apply - Module 출력해보기\n",
        "> 🦆 부덕이가 코드를 작성해주었어요\n",
        "\n",
        "``` python\n",
        "🦆\n",
        "예제만으로 무언가 이해가 안된 찝찝한 기분이 들어요!\n",
        "예전에 만들어놓은 모델을 다시 가져와서 적용해봐야겠어요!\n",
        "```"
      ]
    },
    {
      "cell_type": "code",
      "metadata": {
        "id": "wBfaXAWNN6-C"
      },
      "source": [
        "import torch\n",
        "from torch import nn\n",
        "from torch.nn.parameter import Parameter\n",
        "\n",
        "\n",
        "# 아래 코드는 수정하실 필요가 없습니다!\n",
        "# 하지만 아래 과제를 진행하기 전에 아래 코드를 보면서 최대한 이해해보세요!\n",
        "\n",
        "# Function\n",
        "class Function_A(nn.Module):\n",
        "    def __init__(self, name):\n",
        "        super().__init__()\n",
        "        self.name = name\n",
        "        self.W = Parameter(torch.rand(1))\n",
        "\n",
        "    def forward(self, x):\n",
        "        return x + self.W\n",
        "\n",
        "class Function_B(nn.Module):\n",
        "    def __init__(self, name):\n",
        "        super().__init__()\n",
        "        self.name = name\n",
        "        self.W = Parameter(torch.rand(1))\n",
        "\n",
        "    def forward(self, x):\n",
        "        return x - self.W\n",
        "\n",
        "class Function_C(nn.Module):\n",
        "    def __init__(self, name):\n",
        "        super().__init__()\n",
        "        self.name = name\n",
        "        self.W = Parameter(torch.rand(1))\n",
        "\n",
        "    def forward(self, x):\n",
        "        return x * self.W\n",
        "\n",
        "class Function_D(nn.Module):\n",
        "    def __init__(self, name):\n",
        "        super().__init__()\n",
        "        self.name = name\n",
        "        self.W = Parameter(torch.rand(1))\n",
        "\n",
        "    def forward(self, x):\n",
        "        return x / self.W\n",
        "\n",
        "\n",
        "# Layer\n",
        "class Layer_AB(nn.Module):\n",
        "    def __init__(self):\n",
        "        super().__init__()\n",
        "\n",
        "        self.a = Function_A('plus')\n",
        "        self.b = Function_B('substract')\n",
        "\n",
        "    def forward(self, x):\n",
        "        x = self.a(x)\n",
        "        x = self.b(x)\n",
        "\n",
        "        return x\n",
        "\n",
        "class Layer_CD(nn.Module):\n",
        "    def __init__(self):\n",
        "        super().__init__()\n",
        "\n",
        "        self.c = Function_C('multiply')\n",
        "        self.d = Function_D('divide')\n",
        "\n",
        "    def forward(self, x):\n",
        "        x = self.c(x)\n",
        "        x = self.d(x)\n",
        "\n",
        "        return x\n",
        "\n",
        "\n",
        "# Model\n",
        "class Model(nn.Module):\n",
        "    def __init__(self):\n",
        "        super().__init__()\n",
        "\n",
        "        self.ab = Layer_AB()\n",
        "        self.cd = Layer_CD()\n",
        "\n",
        "    def forward(self, x):\n",
        "        x = self.ab(x)\n",
        "        x = self.cd(x)\n",
        "\n",
        "        return x\n",
        "\n",
        "\n",
        "model = Model()"
      ],
      "execution_count": null,
      "outputs": []
    },
    {
      "cell_type": "code",
      "metadata": {
        "colab": {
          "base_uri": "https://localhost:8080/"
        },
        "id": "I-3cdt8TR3_v",
        "outputId": "8c1c7207-d010-434d-a296-cb5b5241e58e"
      },
      "source": [
        "def print_module(module):\n",
        "    print(module)\n",
        "    print(\"-\" * 30)\n",
        "\n",
        "# 🦆 apply는 apply가 적용된 module을 return 해줘요!\n",
        "returned_module = model.apply(print_module)"
      ],
      "execution_count": null,
      "outputs": [
        {
          "output_type": "stream",
          "text": [
            "Function_A()\n",
            "------------------------------\n",
            "Function_B()\n",
            "------------------------------\n",
            "Layer_AB(\n",
            "  (a): Function_A()\n",
            "  (b): Function_B()\n",
            ")\n",
            "------------------------------\n",
            "Function_C()\n",
            "------------------------------\n",
            "Function_D()\n",
            "------------------------------\n",
            "Layer_CD(\n",
            "  (c): Function_C()\n",
            "  (d): Function_D()\n",
            ")\n",
            "------------------------------\n",
            "Model(\n",
            "  (ab): Layer_AB(\n",
            "    (a): Function_A()\n",
            "    (b): Function_B()\n",
            "  )\n",
            "  (cd): Layer_CD(\n",
            "    (c): Function_C()\n",
            "    (d): Function_D()\n",
            "  )\n",
            ")\n",
            "------------------------------\n"
          ],
          "name": "stdout"
        }
      ]
    },
    {
      "cell_type": "markdown",
      "metadata": {
        "id": "4oFU67qIS-KA"
      },
      "source": [
        "``` python\n",
        "🦆\n",
        "아하! apply는 Postorder Traversal 방식으로 module들에 함수를 적용하네요!\n",
        "이제 이해가 된 것 같아요!\n",
        "```\n",
        "\n",
        "- [4 Types of Tree Traversal Algorithms - Towards Data Science](https://towardsdatascience.com/4-types-of-tree-traversal-algorithms-d56328450846)"
      ]
    },
    {
      "cell_type": "markdown",
      "metadata": {
        "id": "RX9s5bAEZR81"
      },
      "source": [
        "##### 💡 부덕이 모델 apply - 가중치 초기화\n",
        "\n",
        "``` python\n",
        "🦆\n",
        "가중치 초기화(Weight Initialization)이라는 용어가 낯설지만\n",
        "역시 Parameter의 값을 초기화하는게 맞았어요!\n",
        "\n",
        "제가 만든 모델에 총 4개의 Parameter가 있는데 모든 값을 1로 초기화해봐요!\n",
        "```\n",
        "\n",
        "🎁 **힌트** 🎁\n",
        "- [How to initialize weights in PyTorch? - Stack Overflow](https://stackoverflow.com/questions/49433936/how-to-initialize-weights-in-pytorch)"
      ]
    },
    {
      "cell_type": "code",
      "metadata": {
        "id": "FJHv20B8ZR9E"
      },
      "source": [
        "import torch\n",
        "from torch import nn\n",
        "from torch.nn.parameter import Parameter\n",
        "\n",
        "\n",
        "# 아래 코드는 수정하실 필요가 없습니다!\n",
        "# 실행만 시켜주시고 다음 셀로 넘어가주세요!\n",
        "\n",
        "# Function\n",
        "class Function_A(nn.Module):\n",
        "    def __init__(self, name):\n",
        "        super().__init__()\n",
        "        self.name = name\n",
        "        self.W = Parameter(torch.rand(1))\n",
        "\n",
        "    def forward(self, x):\n",
        "        return x + self.W\n",
        "\n",
        "class Function_B(nn.Module):\n",
        "    def __init__(self, name):\n",
        "        super().__init__()\n",
        "        self.name = name\n",
        "        self.W = Parameter(torch.rand(1))\n",
        "\n",
        "    def forward(self, x):\n",
        "        return x - self.W\n",
        "\n",
        "class Function_C(nn.Module):\n",
        "    def __init__(self, name):\n",
        "        super().__init__()\n",
        "        self.name = name\n",
        "        self.W = Parameter(torch.rand(1))\n",
        "\n",
        "    def forward(self, x):\n",
        "        return x * self.W\n",
        "\n",
        "class Function_D(nn.Module):\n",
        "    def __init__(self, name):\n",
        "        super().__init__()\n",
        "        self.name = name\n",
        "        self.W = Parameter(torch.rand(1))\n",
        "\n",
        "    def forward(self, x):\n",
        "        return x / self.W\n",
        "\n",
        "\n",
        "# Layer\n",
        "class Layer_AB(nn.Module):\n",
        "    def __init__(self):\n",
        "        super().__init__()\n",
        "\n",
        "        self.a = Function_A('plus')\n",
        "        self.b = Function_B('substract')\n",
        "\n",
        "    def forward(self, x):\n",
        "        x = self.a(x)\n",
        "        x = self.b(x)\n",
        "\n",
        "        return x\n",
        "\n",
        "class Layer_CD(nn.Module):\n",
        "    def __init__(self):\n",
        "        super().__init__()\n",
        "\n",
        "        self.c = Function_C('multiply')\n",
        "        self.d = Function_D('divide')\n",
        "\n",
        "    def forward(self, x):\n",
        "        x = self.c(x)\n",
        "        x = self.d(x)\n",
        "\n",
        "        return x\n",
        "\n",
        "\n",
        "# Model\n",
        "class Model(nn.Module):\n",
        "    def __init__(self):\n",
        "        super().__init__()\n",
        "\n",
        "        self.ab = Layer_AB()\n",
        "        self.cd = Layer_CD()\n",
        "\n",
        "    def forward(self, x):\n",
        "        x = self.ab(x)\n",
        "        x = self.cd(x)\n",
        "\n",
        "        return x"
      ],
      "execution_count": null,
      "outputs": []
    },
    {
      "cell_type": "code",
      "metadata": {
        "colab": {
          "base_uri": "https://localhost:8080/"
        },
        "id": "_jifkSJbZR9F",
        "outputId": "a4d69755-4ab5-4dee-8694-361a6bbfc3c0"
      },
      "source": [
        "model = Model()\n",
        "\n",
        "# TODO : apply를 이용해 모든 Parameter 값을 1로 만들어보세요!\n",
        "def weight_initialization(module):\n",
        "    module_name = module.__class__.__name__\n",
        "\n",
        "\n",
        "# 🦆 apply는 apply가 적용된 module을 return 해줘요!\n",
        "returned_module = model.apply(weight_initialization)\n",
        "\n",
        "\n",
        "# 아래 코드는 수정하실 필요가 없습니다!\n",
        "x = torch.rand(1)\n",
        "\n",
        "output = model(x)\n",
        "\n",
        "if torch.isclose(output, x):\n",
        "    print(\"🎉🎉🎉 성공!!! 🎉🎉🎉\")\n",
        "else:\n",
        "    print(\"🦆 다시 도전해봐요!\")"
      ],
      "execution_count": null,
      "outputs": [
        {
          "output_type": "stream",
          "text": [
            "🦆 다시 도전해봐요!\n"
          ],
          "name": "stdout"
        }
      ]
    },
    {
      "cell_type": "markdown",
      "metadata": {
        "id": "tXUDj5guCimd"
      },
      "source": [
        "``` python\n",
        "🦆\n",
        "Pretrained 모델을 가져다가 사용할 때 원하는 Parameter에다가\n",
        "backward hook를 추가하는 것도 가능할 것 같아요!\n",
        "```"
      ]
    },
    {
      "cell_type": "markdown",
      "metadata": {
        "id": "g_Aa_VhGg5ds"
      },
      "source": [
        "##### 💡 <font color='yellow'><b>[ Optional ]</b></font> 🔥 부덕이 모델 apply - repr 수정하기 🔥\n",
        "\n",
        "``` python\n",
        "🦆\n",
        "현재 모델을 출력해보면 다음과 같이 나와요!\n",
        "\n",
        "❌ 실제 출력 결과\n",
        "Model(\n",
        "  (ab): Layer_AB(\n",
        "    (a): Function_A()\n",
        "    (b): Function_B()\n",
        "  )\n",
        "  (cd): Layer_CD(\n",
        "    (c): Function_C()\n",
        "    (d): Function_D()\n",
        "  )\n",
        ")\n",
        "\n",
        "이걸 다음처럼 출력되게 만들고 싶어요!\n",
        "\n",
        "✅ 부덕이가 원하는 이상적인 출력\n",
        "Model(\n",
        "  (ab): Layer_AB(\n",
        "    (a): Function_A(name=plus)\n",
        "    (b): Function_B(name=substract)\n",
        "  )\n",
        "  (cd): Layer_CD(\n",
        "    (c): Function_C(name=multiply)\n",
        "    (d): Function_D(name=divide)\n",
        "  )\n",
        ")\n",
        "\n",
        "apply를 이용해서 repr 출력 메세지를 수정해봐요!\n",
        "```\n",
        "\n",
        "🎁 **힌트** 🎁\n",
        "- [Any elegant way to add a method to an existing object in python? - Stack Overflow](https://stackoverflow.com/questions/30294458/any-elegant-way-to-add-a-method-to-an-existing-object-in-python/30294947)"
      ]
    },
    {
      "cell_type": "code",
      "metadata": {
        "cellView": "form",
        "id": "UR1C9k7-g-my"
      },
      "source": [
        "#@title 부덕이 모델\n",
        "import torch\n",
        "from torch import nn\n",
        "from torch.nn.parameter import Parameter\n",
        "\n",
        "\n",
        "# 아래 코드는 수정하실 필요가 없습니다!\n",
        "# 실행만 시켜주시고 다음 셀로 넘어가주세요!\n",
        "\n",
        "# Function\n",
        "class Function_A(nn.Module):\n",
        "    def __init__(self, name):\n",
        "        super().__init__()\n",
        "        self.name = name\n",
        "        self.W = Parameter(torch.rand(1))\n",
        "\n",
        "    def forward(self, x):\n",
        "        return x + self.W\n",
        "\n",
        "class Function_B(nn.Module):\n",
        "    def __init__(self, name):\n",
        "        super().__init__()\n",
        "        self.name = name\n",
        "        self.W = Parameter(torch.rand(1))\n",
        "\n",
        "    def forward(self, x):\n",
        "        return x - self.W\n",
        "\n",
        "class Function_C(nn.Module):\n",
        "    def __init__(self, name):\n",
        "        super().__init__()\n",
        "        self.name = name\n",
        "        self.W = Parameter(torch.rand(1))\n",
        "\n",
        "    def forward(self, x):\n",
        "        return x * self.W\n",
        "\n",
        "class Function_D(nn.Module):\n",
        "    def __init__(self, name):\n",
        "        super().__init__()\n",
        "        self.name = name\n",
        "        self.W = Parameter(torch.rand(1))\n",
        "\n",
        "    def forward(self, x):\n",
        "        return x / self.W\n",
        "\n",
        "\n",
        "# Layer\n",
        "class Layer_AB(nn.Module):\n",
        "    def __init__(self):\n",
        "        super().__init__()\n",
        "\n",
        "        self.a = Function_A('plus')\n",
        "        self.b = Function_B('substract')\n",
        "\n",
        "    def forward(self, x):\n",
        "        x = self.a(x)\n",
        "        x = self.b(x)\n",
        "\n",
        "        return x\n",
        "\n",
        "class Layer_CD(nn.Module):\n",
        "    def __init__(self):\n",
        "        super().__init__()\n",
        "\n",
        "        self.c = Function_C('multiply')\n",
        "        self.d = Function_D('divide')\n",
        "\n",
        "    def forward(self, x):\n",
        "        x = self.c(x)\n",
        "        x = self.d(x)\n",
        "\n",
        "        return x\n",
        "\n",
        "\n",
        "# Model\n",
        "class Model(nn.Module):\n",
        "    def __init__(self):\n",
        "        super().__init__()\n",
        "\n",
        "        self.ab = Layer_AB()\n",
        "        self.cd = Layer_CD()\n",
        "\n",
        "    def forward(self, x):\n",
        "        x = self.ab(x)\n",
        "        x = self.cd(x)\n",
        "\n",
        "        return x\n"
      ],
      "execution_count": null,
      "outputs": []
    },
    {
      "cell_type": "code",
      "metadata": {
        "colab": {
          "base_uri": "https://localhost:8080/"
        },
        "id": "OOq-Hv_ruX-y",
        "outputId": "7f537218-e8db-4e80-d63b-b9cdfb953404"
      },
      "source": [
        "model = Model()\n",
        "\n",
        "# TODO : apply를 이용해서 부덕이가 원하는대로 repr 출력을 수정해주세요!\n",
        "from functools import partial\n",
        "\n",
        "def function_repr(self):\n",
        "    return f'name={self.name}'\n",
        "\n",
        "def add_repr(module):\n",
        "    module_name = module.__class__.__name__\n",
        "\n",
        "\n",
        "\n",
        "# 🦆 apply는 apply가 적용된 module을 return 해줘요!\n",
        "returned_module = model.apply(add_repr)\n",
        "\n",
        "\n",
        "# 아래 코드는 수정하실 필요가 없습니다!\n",
        "model_repr = repr(model)\n",
        "\n",
        "print(\"모델 출력 결과\")\n",
        "print(\"-\" * 30)\n",
        "print(model_repr)\n",
        "print(\"-\" * 30)\n",
        "\n",
        "answer = \"Model(\\n  (ab): Layer_AB(\\n    (a): Function_A(name=plus)\\n    (b): Function_B(name=substract)\\n  )\\n  (cd): Layer_CD(\\n    (c): Function_C(name=multiply)\\n    (d): Function_D(name=divide)\\n  )\\n)\"\n",
        "\n",
        "if model_repr == answer:\n",
        "    print(\"🎉🎉🎉 성공!!! 🎉🎉🎉\")\n",
        "    print(\"🦆 너무 고마워요 꽉꽉!\")\n",
        "else:\n",
        "    print(\"🦆 다시 도전해봐요!\")\n"
      ],
      "execution_count": null,
      "outputs": [
        {
          "output_type": "stream",
          "text": [
            "모델 출력 결과\n",
            "------------------------------\n",
            "Model(\n",
            "  (ab): Layer_AB(\n",
            "    (a): Function_A()\n",
            "    (b): Function_B()\n",
            "  )\n",
            "  (cd): Layer_CD(\n",
            "    (c): Function_C()\n",
            "    (d): Function_D()\n",
            "  )\n",
            ")\n",
            "------------------------------\n",
            "🦆 다시 도전해봐요!\n"
          ],
          "name": "stdout"
        }
      ]
    },
    {
      "cell_type": "markdown",
      "metadata": {
        "id": "RYMJgAEQZR9G"
      },
      "source": [
        "``` python\n",
        "🦆\n",
        "언제든지 원하는 method를 모델에 원하는 module에 추가할 수 있다니!\n",
        "무언가 응용할 수 있는 곳이 많을 것 같아요!\n",
        "```"
      ]
    },
    {
      "cell_type": "markdown",
      "metadata": {
        "id": "dim6OGlSD4Hk"
      },
      "source": [
        "##### 💡 <font color='yellow'><b>[ Optional ]</b></font> 🔥🔥🔥 부덕이 모델 apply - Function 수정하기 (흑마법편) 🔥🔥🔥\n",
        "\n",
        "``` python\n",
        "🦆\n",
        "친구가 제 모델의 코드를 보더니 문제를 하나 내줬어요!\n",
        "\n",
        "현재 4개의 Function A, B, C, D가 있어요!\n",
        "\n",
        "- A : x + W\n",
        "- B : x - W\n",
        "- C : x * W\n",
        "- D : x / W\n",
        "\n",
        "이걸 다음처럼 linear transformation처럼 동작하도록 바꿔보래요!\n",
        "\n",
        "- A : x @ W + b\n",
        "- B : x @ W + b\n",
        "- C : x @ W + b\n",
        "- D : x @ W + b\n",
        "\n",
        "W는 이미 각 Function에 생성된 Parameter이고\n",
        "b는 새롭게 만들어야 하는 Parameter에요!\n",
        "\n",
        "연산 수식이 동일할 필요는 없지만 계산 결과는 같아야 한다고 하더라구요!\n",
        "직접 \"nn.Linear\" 모델을 이용해서 제대로 만들었는지 검증한대요!\n",
        "\n",
        "결과 비교를 위해서 W과 b는 모두 1로 값을 초기화한다고 해요!\n",
        "\n",
        "아! 이제 tensor에 담긴 값은 scalar가 아니라\n",
        "2*2크기의 matrix라는 점에 주의하라고 하더라구요!\n",
        "저는 절대로 풀 수 없을거라고 약올리고 갔는데 왠지 모르게 분해요!💢\n",
        "```\n",
        "\n",
        "🎁 **힌트** 🎁\n",
        "- forward hook"
      ]
    },
    {
      "cell_type": "code",
      "metadata": {
        "id": "POOWtst-zqip",
        "cellView": "form"
      },
      "source": [
        "#@title Test 코드\n",
        "\n",
        "# 아래 코드는 수정하실 필요가 없습니다!\n",
        "def tester(model, friend_model):\n",
        "    x = torch.rand(2, 2, requires_grad=True)\n",
        "\n",
        "    # 우리가 생성한 모델\n",
        "    output = model(x)\n",
        "    output = output.sum()\n",
        "    output.backward()\n",
        "\n",
        "    our_grad = x.grad.clone()\n",
        "    grads = [(name, param.grad) for name, param in model.named_parameters()]\n",
        "\n",
        "    x.grad = None\n",
        "\n",
        "    # 친구가 생성한 모델\n",
        "    friend_output = friend_model(x)\n",
        "    friend_output = friend_output.sum()\n",
        "    friend_output.backward()\n",
        "\n",
        "    friend_grad = x.grad.clone()\n",
        "    friend_grads = [(name, param.grad) for name, param in friend_model.named_parameters()]\n",
        "\n",
        "    # 총 결과\n",
        "    total_result = 0\n",
        "\n",
        "    # Parameter 갯수 비교\n",
        "    if len(grads) == len(friend_grads):\n",
        "        print(\"\\x1b[32m[PASS]\\x1b[0m 두 모델이 같은 Parameter 갯수를 가지네요!\")\n",
        "        total_result += 1\n",
        "    else:\n",
        "        print(\"\\x1b[31m[FAIL]\\x1b[0m 두 모델이 다른 Parameter 갯수를 가지네요!\")\n",
        "        print(f\"🦆 우리 모델 Parameter 갯수 : {len(grads)} 🐦 친구 모델 Parameter 갯수 : {len(friend_grads)}\")\n",
        "        return\n",
        "\n",
        "    print(\"-\" * 50)\n",
        "\n",
        "    # Parameter 이름 체크\n",
        "    params = []\n",
        "    for grad in grads:\n",
        "        param = ''.join(grad[0].split('.')[1:])\n",
        "        params.append(param)\n",
        "\n",
        "    if 'ab' in params:\n",
        "        print(\"\\x1b[32m[PASS]\\x1b[0m Function_A에 Parameter b를 만드셨네요!\")\n",
        "        total_result += 1\n",
        "    else:\n",
        "        print(\"\\x1b[31m[FAIL]\\x1b[0m Function_A에 Parameter b가 없어요!\")\n",
        "        return\n",
        "    print(\"-\" * 50)\n",
        "\n",
        "    if 'bb' in params:\n",
        "        print(\"\\x1b[32m[PASS]\\x1b[0m Function_B에 Parameter b를 만드셨네요!\")\n",
        "        total_result += 1\n",
        "    else:\n",
        "        print(\"\\x1b[31m[FAIL]\\x1b[0m Function_B에 Parameter b가 없어요!\")\n",
        "        return\n",
        "    print(\"-\" * 50)\n",
        "\n",
        "    if 'cb' in params:\n",
        "        print(\"\\x1b[32m[PASS]\\x1b[0m Function_C에 Parameter b를 만드셨네요!\")\n",
        "        total_result += 1\n",
        "    else:\n",
        "        print(\"\\x1b[31m[FAIL]\\x1b[0m Function_C에 Parameter b가 없어요!\")\n",
        "        return\n",
        "    print(\"-\" * 50)\n",
        "\n",
        "    if 'db' in params:\n",
        "        print(\"\\x1b[32m[PASS]\\x1b[0m Function_D에 Parameter b를 만드셨네요!\")\n",
        "        total_result += 1\n",
        "    else:\n",
        "        print(\"\\x1b[31m[FAIL]\\x1b[0m Function_D에 Parameter b가 없어요!\")\n",
        "        return\n",
        "    print(\"-\" * 50)\n",
        "\n",
        "    # Parameter 초기화 체크\n",
        "    if torch.all(torch.stack([torch.all(param == 1) for param in model.parameters()])):\n",
        "        print(\"\\x1b[32m[PASS]\\x1b[0m Parameter W, b를 모두 1로 초기화시키셨네요!\")\n",
        "        total_result += 1\n",
        "    else:\n",
        "        print(\"\\x1b[31m[FAIL]\\x1b[0m Parameter W, b를 모두 1로 초기화시키세요!\")\n",
        "        return\n",
        "    print(\"-\" * 50)\n",
        "\n",
        "    # 모델 출력값 체크\n",
        "    if torch.isclose(output, friend_output):\n",
        "        print(\"\\x1b[32m[PASS]\\x1b[0m 두 모델이 동일한 출력값을 가지네요!\")\n",
        "        total_result += 1\n",
        "    else:\n",
        "        print(\"\\x1b[31m[FAIL]\\x1b[0m 두 모델이 다른 출력값을 가지네요!\")\n",
        "        print(f\"🦆 우리 모델 출력값 : {output:.2f} 🐦 친구 모델 출력값 : {friend_output:.2f}\")\n",
        "    print(\"-\" * 50)\n",
        "\n",
        "    # 입력값 x gradient 체크\n",
        "    if torch.all(torch.isclose(our_grad, friend_grad)):\n",
        "        print(\"\\x1b[32m[PASS]\\x1b[0m 입력에 사용된 x가 동일한 Gradient 값을 가지네요!\")\n",
        "        total_result += 1\n",
        "    else:\n",
        "        print(\"\\x1b[31m[FAIL]\\x1b[0m 입력에 사용된 x가 다른 Gradient 값을 가지네요!\")\n",
        "        print(f\"🦆 우리 모델 x grad 값\\n{our_grad}\\n🐦 친구 모델 x grad 값\\n{friend_grad}\")\n",
        "    print(\"-\" * 50)\n",
        "\n",
        "    # Function A gradient 체크\n",
        "    if torch.all(torch.isclose(grads[0][1], friend_grads[0][1])):\n",
        "        print(\"\\x1b[32m[PASS]\\x1b[0m Function_A Parameter W가 동일한 Gradient 값을 가지네요!\")\n",
        "        total_result += 1\n",
        "    else:\n",
        "        print(\"\\x1b[31m[FAIL]\\x1b[0m Parameter W가 다른 Gradient 값을 가지네요!\")\n",
        "        print(f\"🦆 우리 모델 Function_A Parameter W grad 값\\n{grads[0][1]}\\n🐦 친구 모델 nn.Linear Parameter W grad 값\\n{friend_grads[0][1]}\")\n",
        "    print(\"-\" * 50)\n",
        "\n",
        "    if torch.all(torch.isclose(grads[1][1], friend_grads[1][1])):\n",
        "        print(\"\\x1b[32m[PASS]\\x1b[0m Function_A Parameter b가 동일한 Gradient 값을 가지네요!\")\n",
        "        total_result += 1\n",
        "    else:\n",
        "        print(\"\\x1b[31m[FAIL]\\x1b[0m Parameter b가 다른 Gradient 값을 가지네요!\")\n",
        "        print(f\"🦆 우리 모델 Function_A Parameter b grad 값\\n{grads[1][1]}\\n🐦 친구 모델 nn.Linear Parameter b grad 값\\n{friend_grads[1][1]}\")\n",
        "    print(\"-\" * 50)\n",
        "\n",
        "    # Function B gradient 체크\n",
        "    if torch.all(torch.isclose(grads[2][1], friend_grads[2][1])):\n",
        "        print(\"\\x1b[32m[PASS]\\x1b[0m Function_B Parameter W가 동일한 Gradient 값을 가지네요!\")\n",
        "        total_result += 1\n",
        "    else:\n",
        "        print(\"\\x1b[31m[FAIL]\\x1b[0m Parameter W가 다른 Gradient 값을 가지네요!\")\n",
        "        print(f\"🦆 우리 모델 Function_B Parameter W grad 값\\n{grads[2][1]}\\n🐦 친구 모델 nn.Linear Parameter W grad 값\\n{friend_grads[2][1]}\")\n",
        "    print(\"-\" * 50)\n",
        "\n",
        "    if torch.all(torch.isclose(grads[3][1], friend_grads[3][1])):\n",
        "        print(\"\\x1b[32m[PASS]\\x1b[0m Function_B Parameter b가 동일한 Gradient 값을 가지네요!\")\n",
        "        total_result += 1\n",
        "    else:\n",
        "        print(\"\\x1b[31m[FAIL]\\x1b[0m Parameter b가 다른 Gradient 값을 가지네요!\")\n",
        "        print(f\"🦆 우리 모델 Function_B Parameter b grad 값\\n{grads[3][1]}\\n🐦 친구 모델 nn.Linear Parameter b grad 값\\n{friend_grads[3][1]}\")\n",
        "    print(\"-\" * 50)\n",
        "\n",
        "    # Function C gradient 체크\n",
        "    if torch.all(torch.isclose(grads[4][1], friend_grads[4][1])):\n",
        "        print(\"\\x1b[32m[PASS]\\x1b[0m Function_C Parameter W가 동일한 Gradient 값을 가지네요!\")\n",
        "        total_result += 1\n",
        "    else:\n",
        "        print(\"\\x1b[31m[FAIL]\\x1b[0m Parameter W가 다른 Gradient 값을 가지네요!\")\n",
        "        print(f\"🦆 우리 모델 Function_C Parameter W grad 값\\n{grads[4][1]}\\n🐦 친구 모델 nn.Linear Parameter W grad 값\\n{friend_grads[4][1]}\")\n",
        "    print(\"-\" * 50)\n",
        "\n",
        "    if torch.all(torch.isclose(grads[5][1], friend_grads[5][1])):\n",
        "        print(\"\\x1b[32m[PASS]\\x1b[0m Function_C Parameter b가 동일한 Gradient 값을 가지네요!\")\n",
        "        total_result += 1\n",
        "    else:\n",
        "        print(\"\\x1b[31m[FAIL]\\x1b[0m Parameter b가 다른 Gradient 값을 가지네요!\")\n",
        "        print(f\"🦆 우리 모델 Function_C Parameter b grad 값\\n{grads[5][1]}\\n🐦 친구 모델 nn.Linear Parameter b grad 값\\n{friend_grads[5][1]}\")\n",
        "    print(\"-\" * 50)\n",
        "\n",
        "    # Function D gradient 체크\n",
        "    if torch.all(torch.isclose(grads[6][1], friend_grads[6][1])):\n",
        "        print(\"\\x1b[32m[PASS]\\x1b[0m Function_D Parameter W가 동일한 Gradient 값을 가지네요!\")\n",
        "        total_result += 1\n",
        "    else:\n",
        "        print(\"\\x1b[31m[FAIL]\\x1b[0m Parameter W가 다른 Gradient 값을 가지네요!\")\n",
        "        print(f\"🦆 우리 모델 Function_D Parameter W grad 값\\n{grads[6][1]}\\n🐦 친구 모델 nn.Linear Parameter W grad 값\\n{friend_grads[6][1]}\")\n",
        "    print(\"-\" * 50)\n",
        "\n",
        "    if torch.all(torch.isclose(grads[7][1], friend_grads[7][1])):\n",
        "        print(\"\\x1b[32m[PASS]\\x1b[0m Function_D Parameter b가 동일한 Gradient 값을 가지네요!\")\n",
        "        total_result += 1\n",
        "    else:\n",
        "        print(\"\\x1b[31m[FAIL]\\x1b[0m Parameter b가 다른 Gradient 값을 가지네요!\")\n",
        "        print(f\"🦆 우리 모델 Function_D Parameter b grad 값\\n{grads[7][1]}\\n🐦 친구 모델 nn.Linear Parameter b grad 값\\n{friend_grads[7][1]}\")\n",
        "    print(\"-\" * 50)\n",
        "\n",
        "\n",
        "    if total_result == 16:\n",
        "        print(f\"\\x1b[32m[ALL PASS {total_result}/16]\\x1b[0m 🎉🎉🎉 성공!!! 🎉🎉🎉\")\n",
        "    else:\n",
        "        print(f\"\\x1b[31m[FAIL {total_result}/16]\\x1b[0m 🦆 다시 도전해봐요!\")"
      ],
      "execution_count": null,
      "outputs": []
    },
    {
      "cell_type": "code",
      "metadata": {
        "id": "9fvtuqHDD4H2",
        "cellView": "form"
      },
      "source": [
        "#@title 부덕이 모델\n",
        "import torch\n",
        "from torch import nn\n",
        "from torch.nn.parameter import Parameter\n",
        "\n",
        "\n",
        "# 아래 코드는 수정하실 필요가 없습니다!\n",
        "# 실행만 시켜주시고 다음 셀로 넘어가주세요!\n",
        "\n",
        "# Function\n",
        "class Function_A(nn.Module):\n",
        "    def __init__(self, name):\n",
        "        super().__init__()\n",
        "        self.name = name\n",
        "        self.W = Parameter(torch.rand(2, 2))\n",
        "\n",
        "    def forward(self, x):\n",
        "        return x + self.W\n",
        "\n",
        "class Function_B(nn.Module):\n",
        "    def __init__(self, name):\n",
        "        super().__init__()\n",
        "        self.name = name\n",
        "        self.W = Parameter(torch.rand(2, 2))\n",
        "\n",
        "    def forward(self, x):\n",
        "        return x - self.W\n",
        "\n",
        "class Function_C(nn.Module):\n",
        "    def __init__(self, name):\n",
        "        super().__init__()\n",
        "        self.name = name\n",
        "        self.W = Parameter(torch.rand(2, 2))\n",
        "\n",
        "    def forward(self, x):\n",
        "        return x * self.W\n",
        "\n",
        "class Function_D(nn.Module):\n",
        "    def __init__(self, name):\n",
        "        super().__init__()\n",
        "        self.name = name\n",
        "        self.W = Parameter(torch.rand(2, 2))\n",
        "\n",
        "    def forward(self, x):\n",
        "        return x / self.W\n",
        "\n",
        "\n",
        "# Layer\n",
        "class Layer_AB(nn.Module):\n",
        "    def __init__(self):\n",
        "        super().__init__()\n",
        "\n",
        "        self.a = Function_A('plus')\n",
        "        self.b = Function_B('substract')\n",
        "\n",
        "    def forward(self, x):\n",
        "        x = self.a(x)\n",
        "        x = self.b(x)\n",
        "\n",
        "        return x\n",
        "\n",
        "class Layer_CD(nn.Module):\n",
        "    def __init__(self):\n",
        "        super().__init__()\n",
        "\n",
        "        self.c = Function_C('multiply')\n",
        "        self.d = Function_D('divide')\n",
        "\n",
        "    def forward(self, x):\n",
        "        x = self.c(x)\n",
        "        x = self.d(x)\n",
        "\n",
        "        return x\n",
        "\n",
        "\n",
        "# Model\n",
        "class Model(nn.Module):\n",
        "    def __init__(self):\n",
        "        super().__init__()\n",
        "\n",
        "        self.ab = Layer_AB()\n",
        "        self.cd = Layer_CD()\n",
        "\n",
        "    def forward(self, x):\n",
        "        x = self.ab(x)\n",
        "        x = self.cd(x)\n",
        "\n",
        "        return x\n"
      ],
      "execution_count": null,
      "outputs": []
    },
    {
      "cell_type": "code",
      "metadata": {
        "colab": {
          "base_uri": "https://localhost:8080/"
        },
        "id": "hE_Tl4H_kSp3",
        "outputId": "23682b1e-3e63-4421-8f83-3baceaa30178"
      },
      "source": [
        "model = Model()\n",
        "\n",
        "\n",
        "# TODO : apply를 이용해 Parameter b를 추가해보세요!\n",
        "def add_bias(module):\n",
        "    module_name = module.__class__.__name__\n",
        "\n",
        "\n",
        "# TODO : apply를 이용해 추가된 b도 값을 1로 초기화해주세요!\n",
        "def weight_initialization(module):\n",
        "    module_name = module.__class__.__name__\n",
        "\n",
        "    if module_name.split('_')[0] == \"Function\":\n",
        "        module.W.data.fill_(1.)\n",
        "\n",
        "\n",
        "# TODO : apply를 이용해 모든 Function을 linear transformation으로 바꿔보세요!\n",
        "#        X @ W + b\n",
        "def linear_transformation(module):\n",
        "    module_name = module.__class__.__name__\n",
        "\n",
        "    if module_name == \"Function_A\":\n",
        "        pass\n",
        "\n",
        "\n",
        "returned_module = model.apply(add_bias)\n",
        "returned_module = model.apply(weight_initialization)\n",
        "returned_module = model.apply(linear_transformation)\n",
        "\n",
        "\n",
        "\n",
        "# 🦆 친구가 비교를 위해서 작성해놓은 코드에요!\n",
        "class FriendLinearModel(nn.Module):\n",
        "    def __init__(self):\n",
        "        super().__init__() \n",
        "        self.linear = nn.Sequential(nn.Linear(2, 2),\n",
        "                                    nn.Linear(2, 2),\n",
        "                                    nn.Linear(2, 2),\n",
        "                                    nn.Linear(2, 2))\n",
        "\n",
        "    def forward(self, x):\n",
        "        return self.linear(x)\n",
        "\n",
        "def friends_init_weights(m):\n",
        "    if type(m) == nn.Linear:\n",
        "        m.weight.data.fill_(1.0)\n",
        "        m.bias.data.fill_(1.0)\n",
        "\n",
        "friend_model = FriendLinearModel()\n",
        "friend_model.apply(friends_init_weights)\n",
        "\n",
        "\n",
        "# 🦆 체크해보세요!\n",
        "grads = tester(model, friend_model)"
      ],
      "execution_count": null,
      "outputs": [
        {
          "output_type": "stream",
          "text": [
            "\u001b[31m[FAIL]\u001b[0m 두 모델이 다른 Parameter 갯수를 가지네요!\n",
            "🦆 우리 모델 Parameter 갯수 : 4 🐦 친구 모델 Parameter 갯수 : 8\n"
          ],
          "name": "stdout"
        }
      ]
    },
    {
      "cell_type": "markdown",
      "metadata": {
        "id": "t_Ka8OvED4H4"
      },
      "source": [
        "```python\n",
        "🐦\n",
        "아.. 아니 이걸 해내다니!!!!!\n",
        "```\n",
        "``` python\n",
        "🦆\n",
        "마음 먹으면 이쯤이야!\n",
        "\n",
        "휴 정말 어려웠어요! 그런데 정말 놀랐어요!\n",
        "이미 만들어진 모델을 코드를 전혀 건들이지 않고 새로운 모델로 탈바꿈시키다니!\n",
        "심지어 PyTorch의 \"nn.Linear\"모델과 완벽히 동일하게 동작하고 있어요!\n",
        "forward, backward 모두 말이죠!\n",
        "\n",
        "apply를 써야지만 할 수 있는 것은 아니었지만 apply를 사용해서 하니까\n",
        "함수가 깔끔하게 정리되어서 가독성이 증가한 느낌이에요!\n",
        "\n",
        "그런데 이걸 대체 어디다 쓰는거죠?\n",
        "```\n",
        "```python\n",
        "🐦\n",
        "반가워요! 제가 바로 부덕이 친구 부앵이에요!\n",
        "\n",
        "이 과제를 푸는데 큰 도움을 주었다고 들었어요!\n",
        "역시 부덕이가 이걸 혼자 해낼리가 없죠!\n",
        "\n",
        "앞으로 PyTorch를 사용하면서 Pretrained된 모델을 많이 사용하시게 될텐데\n",
        "모델 자체에 버그가 있거나, 혹은 수정해서 써야만 하는 등의 사항들이 발생할 수 있어요.\n",
        "이런 경우 오늘 여기에서 연습하신 모델을 수정하는 훈련이 큰 도움이 될 거예요!\n",
        "\n",
        "솔직히 풀 줄은 몰랐는데 정말 놀랐어요! 찬사를 보냅니다!\n",
        "```"
      ]
    },
    {
      "cell_type": "markdown",
      "metadata": {
        "id": "aI-eQLReB_b0"
      },
      "source": [
        "### 🎉🎉🎉 nn.Module 완료! 🎉🎉🎉\n",
        "\n",
        "```python\n",
        "🦆\n",
        "여기까지 오다니 정말 믿기지 않아요!\n",
        "PyTorch에 대해서 아무것도 몰랐던 제가 이제는 원하는 모델을 만들 수 있게 되었어요!\n",
        "아직 배울 것이 많다는 것은 알고 있지만 그래도 너무 기뻐요!\n",
        "```\n",
        "\n",
        "Custom 모델을 만들기 위해 \n",
        "적지 않은 분량이었음에도 무사히 마무리 지으신 것을 정말 축하드립니다! 🎉<br>\n",
        "이번 챕터는 Documentation에 비할 바 없이 높은 난이도를 가지고 있었습니다.<br>\n",
        "하지만 모두 이겨내시고 여기까지 오셨군요! 이건 정말 대단한 일입니다.\n",
        "\n",
        "많이 지치셨을 겁니다! 하지만 안심하세요! 여기까지 온 이상 다 끝난것과 같습니다<br>\n",
        "Github과 관련된 내용이 나오지만 쉬어가는 코너에 가깝습니다.<br>\n",
        "시간도 얼마 안걸리고 내용도 짧으니 이제는 긴장을 푸셔도 좋습니다!<br>"
      ]
    },
    {
      "cell_type": "markdown",
      "metadata": {
        "id": "gsjw07-c6Vgf"
      },
      "source": [
        "## 🚀 <font color='yellow'><b>[ Optional ]</b></font> Custom 모델 제작을 위한 Github 참조\n",
        "\n",
        "```\n",
        "💡 다른 사람들은 어떻게 custom 모델을 만들고 있을까요?\n",
        "   우리는 Github을 방문하여 그 답을 알아보는 시간을 가질 것입니다.\n",
        "```\n",
        "\n",
        "# 🌍🐣\n",
        "Custom 모델을 제작하기 위해 필요한 준비를 마쳤습니다!<br>\n",
        "비록 쉽지 않은 여정이었지만 여러분은 해냈고 이제 여행을 떠날 준비가 되었습니다.<br>\n",
        "지구를 떠날 시간입니다.\n",
        "\n",
        "# ⭐🐤\n",
        "세상에는 다양하고 복잡한 모델들이 있습니다. 여기에서 배운 지식들로는 차마 다 이해하지 못할 거대하고 복잡한 현란한 모델들이 우주의 별만큼 많지는 않지만 아무튼 많습니다. 여기서 배운 지식은 많은 지식은 아니지만 이제 스스로 서서 그 모델들을 마주할 정도는 됩니다. 부족한 부분이 있다면 채워가면서 어려워서 물러서고 싶다면 버티면서 이제 나아갈 시간입니다. 빛나는 별을 향해 말이죠! \n",
        "\n",
        "# 🚀\n",
        "그럼 이제 별들을 창조한 외계의 존재들을 만나러 가볼까요?\n",
        "\n",
        "- 🛸 Github 모델 찾기\n",
        "- 🛸 Github 모델 라이센스 체크\n",
        "- 🛸 Github Repository 탐색\n",
        "- 🛸 Github 모델 인용"
      ]
    },
    {
      "cell_type": "markdown",
      "metadata": {
        "id": "7hmoOk31nohg"
      },
      "source": [
        "### 🛸 Github 모델 찾기\n",
        "> 원하는 Github 모델을 찾는 몇 가지 방법에 대해서 가볍게 살펴보는 시간입니다.\n",
        "\n",
        "- 📖 <font color='gold' ><b>[ 읽기 ]</b></font> 구글 고급 검색 (Google Advanced Search)\n",
        "- 📖 <font color='gold' ><b>[ 읽기 ]</b></font> 깃헙 고급 검색 (Github Advanced Search)\n",
        "- 📖 <font color='gold' ><b>[ 읽기 ]</b></font> 모델 큐레이션 사이트"
      ]
    },
    {
      "cell_type": "markdown",
      "metadata": {
        "id": "OhQbpvUgaT45"
      },
      "source": [
        "#### 📖 <font color='gold' ><b>[ 읽기 ]</b></font> 구글 고급 검색 (Google Advanced Search)\n",
        "``` python\n",
        "🦆\n",
        "이번 장을 오시자마자 떠올리셨을 것 같아요!\n",
        "현 시대의 필수 검색 도구 구글(Google)이죠!\n",
        "\n",
        "하지만 구글이 단지 입력한 단어만 검색하는게 아니라\n",
        "다양한 검색 옵션이 있다는 것을 알고 계신가요?\n",
        "\n",
        "구글 검색도 하나의 프로그램이에요!\n",
        "잘 만들어진 프로그램에 옵션이 없을리가 없죠!\n",
        "여러분들이 사용하는 구글 검색창은\n",
        "쉘로 따지자면 명령어를 입력받는 입력칸인 셈이에요!\n",
        "\n",
        "하지만 저희는 일반적으로 단어만 검색하고 끝나기에\n",
        "구글 검색 프로그램이 어떤 옵션이 있는지 잘 몰라요!\n",
        "이럴 때 누구나 쉽게 사용할 수 있는게 바로\n",
        "구글 고급 검색(Google Advanced Search)이에요!\n",
        "\n",
        "아래 링크를 타고 들어가서 한번 사용해보세요!\n",
        "원하는 항목을 기입하면 이를 구글 검색창에 입력할 수 있는\n",
        "적합한 Query로 바꾸어서 검색을 대신 해줘요!\n",
        "```\n",
        "\n",
        "- [Google Advanced Search](https://www.google.com/advanced_search)"
      ]
    },
    {
      "cell_type": "markdown",
      "metadata": {
        "id": "k0IQvtE8aUEY"
      },
      "source": [
        "#### 📖 <font color='gold' ><b>[ 읽기 ]</b></font> 깃헙 고급 검색 (Github Advanced Search)\n",
        "``` python\n",
        "🦆\n",
        "Github도 고급 검색이 가능하다는 사실을 아시나요?\n",
        "구글처럼 여러 옵션을 제공하고 있으니 한번 살펴봐요!\n",
        "```\n",
        "\n",
        "- [Github Advanced Search](https://github.com/search/advanced)"
      ]
    },
    {
      "cell_type": "markdown",
      "metadata": {
        "id": "Bb_DEzPpaRc9"
      },
      "source": [
        "#### 📖 <font color='gold' ><b>[ 읽기 ]</b></font> 모델 큐레이션 사이트\n",
        "``` python\n",
        "🦆\n",
        "특정 모델을 찾는 것이 아니라 전반적인 모델의 트렌드를 살펴보고자 하면\n",
        "큐레이션 사이트를 방문하는 것도 하나의 방법이에요!\n",
        "```\n",
        "\n",
        "- [Browse State-of-the-Art - Papers With Code](https://paperswithcode.com/sota)\n",
        "- [labml.ai Annotated PyTorch Paper Implementations - labml.ai](https://nn.labml.ai/)\n",
        "- [awesome-deeplearning-resources - endymecy](https://endymecy.github.io/awesome-deeplearning-resources/awesome_projects.html)"
      ]
    },
    {
      "cell_type": "markdown",
      "metadata": {
        "id": "aowwiHAz3I2c"
      },
      "source": [
        "### 🛸 Github 모델 라이센스 체크\n",
        "> Github 모델을 찾으면 먼저 라이센스를 확인해야 합니다. 원작자가 이 모델을 자유롭게 쓸 수 있게 허용해줬는지, 아니면 코드를 가져다 쓰는데 제약을 걸어두었는지 체크해야 후에 생길 법적 문제를 방지할 수 있습니다. \n",
        "\n",
        "- 📖 <font color='gold' ><b>[ 읽기 ]</b></font> 오픈소스 라이센스 종류\n",
        "- 📖 <font color='gold' ><b>[ 읽기 ]</b></font> Github 모델 라이센스 체크\n",
        "- 📖 <font color='gold' ><b>[ 읽기 ]</b></font> 라이센스가 표시되지 않은 모델을 사용해도 될까?"
      ]
    },
    {
      "cell_type": "markdown",
      "metadata": {
        "id": "EGO21TZ0N_Iu"
      },
      "source": [
        "#### 📖 <font color='gold' ><b>[ 읽기 ]</b></font> 오픈소스 라이센스 종류\n",
        "\n",
        "``` python\n",
        "🦆\n",
        "Github에서 찾은 모델의 라이센스를 확인하기 전에\n",
        "오픈소스 라이센스에 먼저 어떤 종류들이 있는지 아는게 중요해요!\n",
        "\n",
        "아래 사이트에 잘 정리되어 있으니까 함께봐요!\n",
        "```\n",
        "\n",
        "- [Choosing the right license - Github Docs](https://docs.github.com/en/github/creating-cloning-and-archiving-repositories/creating-a-repository-on-github/licensing-a-repository#choosing-the-right-license)\n",
        "- [Choose an open source license - Choose AI License](https://choosealicense.com/)\n",
        "- [오픈소스를 사용하고 준비하는 개발자를 위한 가이드 - if(kakao) dev 2018](https://tv.kakao.com/channel/3150758/cliplink/391717603)"
      ]
    },
    {
      "cell_type": "markdown",
      "metadata": {
        "id": "q2IFscSgPqj0"
      },
      "source": [
        "#### 📖 <font color='gold' ><b>[ 읽기 ]</b></font> Github 모델 라이센스 체크\n",
        "\n",
        "``` python\n",
        "🦆\n",
        "Hugging Face는 자연어 처리에서 정말 유명한 라이브러리죠!\n",
        "transformers 모델의 라이센스를 같이 살펴볼까요?\n",
        "```\n",
        "\n",
        "- [transformers - Hugging Face Github](https://github.com/huggingface/transformers)\n"
      ]
    },
    {
      "cell_type": "markdown",
      "metadata": {
        "id": "0oOO5qzH2vXq"
      },
      "source": [
        "![](https://github.com/IllgamhoDuck/PyTorch/blob/main/document_image/hugging%20face%20license.png?raw=true)\n",
        "![](https://github.com/IllgamhoDuck/PyTorch/blob/main/document_image/apache%20license%202.0.png?raw=true)"
      ]
    },
    {
      "cell_type": "markdown",
      "metadata": {
        "id": "tApDeubq27rZ"
      },
      "source": [
        "``` python\n",
        "🦆\n",
        "Apache License 2.0을 따르고 있네요!\n",
        "상업적으로 이용이 가능한 자유로운 라이센스에요!\n",
        "하지만 소스 코드를 가져다가 사용하면 license와 copyright을 명시해줘야하고\n",
        "가져다가 사용한 소스코드를 수정했으면 이것 또한 명시해줘야 해요!\n",
        "\n",
        "제약 사항은 있지만 hugging face를 이용해서 상업적 제품을 만들어도\n",
        "코드를 공개하지 않아도 되기 때문에 안심하고 제품을 만드는데 이용하셔도 되요!\n",
        "\n",
        "마침 라이센스 이야기가 나오고 있어서 그런데 위에서처럼\n",
        "Github의 제품들의 스크린샷을 찍는 것은 과연 합법일까요? 불법일까요?\n",
        "\n",
        "궁금하신 분은 아래 screenshot관련 링크를 찾아보세요!\n",
        "```\n",
        "\n",
        "**✨ 유용한 자료 ✨**\n",
        "- [Apache License 2.0 - OLIS](https://www.olis.or.kr/license/Detailselect.do?lId=1002&mapCode=010002)\n",
        "- [Commons:Screenshots - Wikimedia Commons](https://commons.wikimedia.org/wiki/Commons:Screenshots)"
      ]
    },
    {
      "cell_type": "markdown",
      "metadata": {
        "id": "D1Jje0IwRejE"
      },
      "source": [
        "#### 📖 <font color='gold' ><b>[ 읽기 ]</b></font> 라이센스가 표시되지 않은 모델을 사용해도 될까?\n",
        "\n",
        "``` python\n",
        "🦆\n",
        "Github에 올라온 다양한 모델을 보다보면 라이센스 표시가 없을 때가 있어요!\n",
        "이런 모델의 경우 사용해도 될까요 안될까요?\n",
        "\n",
        "아래 문서를 보면서 같이 알아봐요!\n",
        "```\n",
        "\n",
        "- [No License - Choose AI License](https://choosealicense.com/no-permission/)"
      ]
    },
    {
      "cell_type": "markdown",
      "metadata": {
        "id": "C5EzHAPj3LW8"
      },
      "source": [
        "### 🛸 Github Repository 탐색\n",
        "> Github은 Repository를 탐색할 수 있는 기능을 제공해줍니다. 이를 활용하는 방법을 가볍게 알아보는 시간을 가집니다.\n",
        "\n",
        "- 📖 <font color='gold' ><b>[ 읽기 ]</b></font> Repository 속에 숨어 있는 모델 찾기\n",
        "- 📖 <font color='gold' ><b>[ 읽기 ]</b></font> transformers.py 내부 목차 확인"
      ]
    },
    {
      "cell_type": "markdown",
      "metadata": {
        "id": "rSyB0wutN_Oi"
      },
      "source": [
        "#### 📖 <font color='gold' ><b>[ 읽기 ]</b></font> Repository 속에 숨어 있는 모델 찾기\n",
        "\n",
        "``` python\n",
        "🦆\n",
        "PyTorch 공식 Github 코드 베이스에서 Transformer 모델 코드를 찾으려고 하는데\n",
        "PyTorch 공식 Github 메인 페이지에 들어서자마자 그 방대한 양의 코드에 벌써 현기증이 나네요!\n",
        "\n",
        "옆에서 보다 못한 친구가 Github이 제공해주는 검색 기능을 사용하라고 말해주었어요! \n",
        "```\n",
        "\n",
        "- [PyTorch - Github](https://github.com/pytorch/pytorch)"
      ]
    },
    {
      "cell_type": "markdown",
      "metadata": {
        "id": "K4TqNcE3PZbi"
      },
      "source": [
        "``` python\n",
        "🦆\n",
        "Github 검색하는 곳을 찾았어요!\n",
        "```\n",
        "\n",
        "![](https://github.com/IllgamhoDuck/PyTorch/blob/main/document_image/github%20-%20pytorch.png?raw=true)"
      ]
    },
    {
      "cell_type": "markdown",
      "metadata": {
        "id": "og22SSY0QHxY"
      },
      "source": [
        "``` python\n",
        "🦆\n",
        "transformer를 입력하니까 3가지 종류의 검색이 나오네요!\n",
        "\n",
        "- In this repository\n",
        "- In this organization\n",
        "- All Github\n",
        "\n",
        "저희가 원하는 것은 Repository 내부 검색이니까 맨 위에 것을 눌렀어요!\n",
        "```\n",
        "\n",
        "![](https://github.com/IllgamhoDuck/PyTorch/blob/main/document_image/github%20-%20pytorch%20-%20search%20bar.png?raw=true)"
      ]
    },
    {
      "cell_type": "markdown",
      "metadata": {
        "id": "upJpvsqvQna2"
      },
      "source": [
        "``` python\n",
        "🦆\n",
        "PyTorch 공식 코드에서 transformer 검색 결과가 뜨네요!\n",
        "하지만 제가 원하는 것은 c++ 코드로 이루어진 transformer 모델이 아니라\n",
        "python으로 이루어진 transformer 모델이에요!\n",
        "\n",
        "스크롤을 조금 내려볼까요?\n",
        "```\n",
        "\n",
        "![](https://github.com/IllgamhoDuck/PyTorch/blob/main/document_image/github%20-%20pytorch%20-%20transformer.png?raw=true)"
      ]
    },
    {
      "cell_type": "markdown",
      "metadata": {
        "id": "FnRVVIycQ8Cj"
      },
      "source": [
        "``` python\n",
        "🦆\n",
        "transformer.py! 찾았어요! 이제 클릭해서 들어가면 될 것 같아요!\n",
        "\n",
        "이렇게 편하다니! 검색창이 정말 좋네요!\n",
        "```\n",
        "\n",
        "![](https://github.com/IllgamhoDuck/PyTorch/blob/main/document_image/github%20-%20pytorch%20-%20transformer%20found.png?raw=true)"
      ]
    },
    {
      "cell_type": "markdown",
      "metadata": {
        "id": "E5k7RfnzRRo9"
      },
      "source": [
        "``` python\n",
        "🦆\n",
        "class Transformer! 제가 정확히 원하던 모델이에요!\n",
        "\n",
        "경로를 보니까 pytorch/torch/nn/modules/transformer.py 네요!\n",
        "만약 직접 찾으려고 했다면 꽤 헤맸을 것 같아요!\n",
        "```\n",
        "\n",
        "![](https://github.com/IllgamhoDuck/PyTorch/blob/main/document_image/transformers.png?raw=true)"
      ]
    },
    {
      "cell_type": "markdown",
      "metadata": {
        "id": "pSIGoFyWRoJ2"
      },
      "source": [
        "#### 📖 <font color='gold' ><b>[ 읽기 ]</b></font> transformers.py 내부 목차 확인\n",
        "\n",
        "``` python\n",
        "🦆\n",
        "transformer.py에 어떤 class와 function이 있는지 확인을 하고 싶을 때\n",
        "일일이 스크롤을 내리면서 확인하기에는 번거롭겠죠?\n",
        "\n",
        "transformers.py 내부의 목차는 어디에서 확인할까요?\n",
        "```\n",
        "\n",
        "- [transformer.py - Github](https://github.com/pytorch/pytorch/blob/35307b131df9d24bfa96103d6061cf14c797ee32/torch/nn/modules/transformer.py)"
      ]
    },
    {
      "cell_type": "markdown",
      "metadata": {
        "id": "gq6zcLvVRpXB"
      },
      "source": [
        "``` python\n",
        "🦆\n",
        "빨간색 박스의 Jump to를 이용하면 좋아요!\n",
        "```\n",
        "\n",
        "![](https://github.com/IllgamhoDuck/PyTorch/blob/main/document_image/transformer%20-%20jump%20to.png?raw=true)"
      ]
    },
    {
      "cell_type": "markdown",
      "metadata": {
        "id": "ZziNxuyzSNKE"
      },
      "source": [
        "``` python\n",
        "🦆\n",
        "각 class와 function이 순서대로 나와있는 것이 보이시죠?\n",
        "복잡한 코드를 스크롤과 함께 탐험하지 않더라도 목차를 볼 수 있어요!\n",
        "```\n",
        "\n",
        "![](https://github.com/IllgamhoDuck/PyTorch/blob/main/document_image/transformers%20-%20insider%20search.png?raw=true)"
      ]
    },
    {
      "cell_type": "markdown",
      "metadata": {
        "id": "u7iF0gyR3dZa"
      },
      "source": [
        "### 🛸 Github 모델 인용\n",
        "> Github에서 레퍼런스(Reference) 모델을 성공적으로 찾은 이후 pip install, 복사 붙여넣기, 혹은 git clone 등 자신만의 방법으로 모델 코드를 가져왔을 것입니다. 일반적으로 우리는 링크를 남기거나 그냥 넘기는 경우가 있습니다. 하지만 원칙적으로 정확한 인용은 원작자에 대한 예의이기 때문에 인용(cite)을 정확하게 하는 방법을 가볍게 알아보는 시간을 가집니다.\n",
        "\n",
        "- 📖 <font color='gold' ><b>[ 읽기 ]</b></font> Citation이 제공될 경우\n",
        "- 📖 <font color='gold' ><b>[ 읽기 ]</b></font> Citation이 제공되지 않을 경우"
      ]
    },
    {
      "cell_type": "markdown",
      "metadata": {
        "id": "HxAcbyy-axop"
      },
      "source": [
        "#### 📖 <font color='gold' ><b>[ 읽기 ]</b></font> Citation이 제공될 경우\n",
        "\n",
        "``` python\n",
        "🦆\n",
        "PyTorch나 Hugging Face와 같이 유명하고 공식적인\n",
        "Github 프로젝트들은 보통 Citation을 제공해줘요!\n",
        "\n",
        "하지만 Reference 모델이 속해있는\n",
        "각 Github 페이지별로 Citation을 제공하지는 않아요!\n",
        "\n",
        "그래서 여기서는 Github 모델 인용을 Github 모델이 속해있는\n",
        "Repository 인용으로 대신하는 것에 주의해주세요!\n",
        "```\n",
        "```python\n",
        "🐦 부앵이에요! Github Repository Citation 예시에요!\n",
        "```\n",
        "- [PyTorch/CITATION - Github](https://github.com/pytorch/pytorch/blob/master/CITATION)\n",
        "- [Huggingface/Transformers/citation - Github](https://github.com/huggingface/transformers#citation)\n",
        "\n",
        "```python\n",
        "🐦 대부분은 BibTex 형식을 따르기 때문에 아래에서 변환해서 사용하세요!\n",
        "```\n",
        "- [BibTeX Online Converter](https://bibtex.online/)"
      ]
    },
    {
      "cell_type": "markdown",
      "metadata": {
        "id": "PY5Rm509gNHe"
      },
      "source": [
        "#### 📖 <font color='gold' ><b>[ 읽기 ]</b></font> Citation이 제공되지 않을 경우\n",
        "\n",
        "``` python\n",
        "🦆\n",
        "직접 인용문을 만들어내는 것은 언제나 까다로운 일이죠!\n",
        "인용 방법도 제각각이고 그 방법에 맞추는 것도 번거로워요!\n",
        "그래서 일반적으로 다들 대충 인용하고 넘기는 경우가 많아요!\n",
        "\n",
        "하지만 적어도 여기서는 제대로 인용하는 방법에 대해서 알아봐요!\n",
        "```\n",
        "```python\n",
        "🐦 다시 부앵이에요! Citation을 직접 작성하려면 아래 글을 추천드려요!\n",
        "```\n",
        "\n",
        "- [How to Cite a GitHub Repository - Wiki How](https://www.wikihow.com/Cite-a-GitHub-Repository)\n",
        "\n",
        "```python\n",
        "🐦 자동 완성 Citation을 원한다면 다음 사이트에서 하시면 되요!\n",
        "```\n",
        "- [Free Harvard Citation Generator - Cite This For Me](https://www.citethisforme.com/citation-generator/harvard)"
      ]
    },
    {
      "cell_type": "markdown",
      "metadata": {
        "id": "AjV4kPz449Qf"
      },
      "source": [
        "### 🎉🎉🎉 Github 완료! 🎉🎉🎉\n",
        "\n",
        "```python\n",
        "🦆\n",
        "마침내 끝에 다다렀군요! 이제는 헤어질 시간이에요!\n",
        "함께 공부한 것을 잊지 못할거예요!\n",
        "\n",
        "그럼 부스트캠프의 여정 끝나면 지구에서 다시 만나요!\n",
        "저는 이만 지구로 돌아가볼게요!\n",
        "```\n",
        "```python\n",
        "🐦 저도 가볼게요! 안녕!\n",
        "```"
      ]
    },
    {
      "cell_type": "markdown",
      "metadata": {
        "id": "Ixzc0txuqmDb"
      },
      "source": [
        "## 🎉🎊🎉 축하드려요! 끝까지 해내셨군요! 🎉🎊🎉\n",
        "> 이번 과제에는 custom 모델에 대한 다양하면서도 결코 적지 않은 내용이 담겨져 있었습니다! 이제 여러분은 custom 모델을 만들기 위해서 무엇이 필요한지 알고 부족한 것이 있다면 스스로 찾아내 채워낼 수 있으며 스스로 원하는 모델을 구축해나갈 수 있는 지식을 얻었습니다! 여기까지 오는 과정이 결코 쉽지만은 않았겠지만 분명 가치가 있었기를 바랍니다. 행운을 빕니다."
      ]
    },
    {
      "cell_type": "code",
      "metadata": {
        "cellView": "form",
        "id": "v_fiPQLq700o"
      },
      "source": [
        "#@title 부덕이가 축하의 춤을 춘대요!\n",
        "from IPython.display import Image\n",
        "Image(url='https://post-phinf.pstatic.net/MjAxODEyMzFfMTAw/MDAxNTQ2MjE0OTg5NjAz.EHOabmOFRb9Sd4H1C8xJWAjDd-AalUHZ0mGRQc8nLJgg.QaKd2fe0gct3mQ-Ex-8qqSS1RVXjoC_-NLXo80sAQNsg.GIF/mug_obj_201812310909504083.gif?type=w1080')"
      ],
      "execution_count": null,
      "outputs": []
    },
    {
      "cell_type": "code",
      "metadata": {
        "cellView": "form",
        "id": "Eo7wLf2p7x_q"
      },
      "source": [
        "#@title 브레이크댄스!\n",
        "from IPython.display import Image\n",
        "Image(url='https://www.wetrend.co.kr/data/editor2/wit_board/2102/07/1612656261_3c92e94dc4e55df68f76b46053008df8')"
      ],
      "execution_count": null,
      "outputs": []
    },
    {
      "cell_type": "code",
      "metadata": {
        "cellView": "form",
        "id": "_9eeUgvl7M3O"
      },
      "source": [
        "#@title 여기서 멈출 수 없지! 춤춰 친구들!\n",
        "from IPython.display import Image\n",
        "Image(url='https://i.pinimg.com/originals/29/04/24/29042493fb118029b9014e4cb800c7ee.gif')"
      ],
      "execution_count": null,
      "outputs": []
    }
  ]
}