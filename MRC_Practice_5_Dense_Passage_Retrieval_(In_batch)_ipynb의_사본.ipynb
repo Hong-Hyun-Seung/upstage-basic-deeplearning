{
  "cells": [
    {
      "cell_type": "markdown",
      "metadata": {
        "id": "view-in-github",
        "colab_type": "text"
      },
      "source": [
        "<a href=\"https://colab.research.google.com/github/Hong-Hyun-Seung/upstage-basic-deeplearning/blob/main/MRC_Practice_5_Dense_Passage_Retrieval_(In_batch)_ipynb%EC%9D%98_%EC%82%AC%EB%B3%B8.ipynb\" target=\"_parent\"><img src=\"https://colab.research.google.com/assets/colab-badge.svg\" alt=\"Open In Colab\"/></a>"
      ]
    },
    {
      "cell_type": "markdown",
      "metadata": {
        "id": "WjDdziEN_VCt"
      },
      "source": [
        "# 5강) BERT를 활용한 Dense Passage Retrieval 실습"
      ]
    },
    {
      "cell_type": "markdown",
      "metadata": {
        "id": "1NWluWk3_VCu"
      },
      "source": [
        "### Requirements"
      ]
    },
    {
      "cell_type": "code",
      "execution_count": 1,
      "metadata": {
        "colab": {
          "base_uri": "https://localhost:8080/"
        },
        "id": "eGqFS4EEBF_Z",
        "outputId": "d8426976-9415-4c48-a5e5-527ca97b6b1e"
      },
      "outputs": [
        {
          "output_type": "stream",
          "name": "stdout",
          "text": [
            "Collecting datasets\n",
            "  Downloading datasets-1.16.1-py3-none-any.whl (298 kB)\n",
            "\u001b[K     |████████████████████████████████| 298 kB 4.1 MB/s \n",
            "\u001b[?25hRequirement already satisfied: dill in /usr/local/lib/python3.7/dist-packages (from datasets) (0.3.4)\n",
            "Collecting xxhash\n",
            "  Downloading xxhash-2.0.2-cp37-cp37m-manylinux2010_x86_64.whl (243 kB)\n",
            "\u001b[K     |████████████████████████████████| 243 kB 35.9 MB/s \n",
            "\u001b[?25hRequirement already satisfied: multiprocess in /usr/local/lib/python3.7/dist-packages (from datasets) (0.70.12.2)\n",
            "Collecting aiohttp\n",
            "  Downloading aiohttp-3.8.1-cp37-cp37m-manylinux_2_5_x86_64.manylinux1_x86_64.manylinux_2_12_x86_64.manylinux2010_x86_64.whl (1.1 MB)\n",
            "\u001b[K     |████████████████████████████████| 1.1 MB 39.4 MB/s \n",
            "\u001b[?25hRequirement already satisfied: numpy>=1.17 in /usr/local/lib/python3.7/dist-packages (from datasets) (1.19.5)\n",
            "Requirement already satisfied: requests>=2.19.0 in /usr/local/lib/python3.7/dist-packages (from datasets) (2.23.0)\n",
            "Requirement already satisfied: pandas in /usr/local/lib/python3.7/dist-packages (from datasets) (1.1.5)\n",
            "Requirement already satisfied: tqdm>=4.62.1 in /usr/local/lib/python3.7/dist-packages (from datasets) (4.62.3)\n",
            "Requirement already satisfied: packaging in /usr/local/lib/python3.7/dist-packages (from datasets) (21.3)\n",
            "Requirement already satisfied: importlib-metadata in /usr/local/lib/python3.7/dist-packages (from datasets) (4.8.2)\n",
            "Collecting fsspec[http]>=2021.05.0\n",
            "  Downloading fsspec-2021.11.1-py3-none-any.whl (132 kB)\n",
            "\u001b[K     |████████████████████████████████| 132 kB 49.5 MB/s \n",
            "\u001b[?25hCollecting huggingface-hub<1.0.0,>=0.1.0\n",
            "  Downloading huggingface_hub-0.2.1-py3-none-any.whl (61 kB)\n",
            "\u001b[K     |████████████████████████████████| 61 kB 504 kB/s \n",
            "\u001b[?25hRequirement already satisfied: pyarrow!=4.0.0,>=3.0.0 in /usr/local/lib/python3.7/dist-packages (from datasets) (3.0.0)\n",
            "Requirement already satisfied: filelock in /usr/local/lib/python3.7/dist-packages (from huggingface-hub<1.0.0,>=0.1.0->datasets) (3.4.0)\n",
            "Requirement already satisfied: pyyaml in /usr/local/lib/python3.7/dist-packages (from huggingface-hub<1.0.0,>=0.1.0->datasets) (3.13)\n",
            "Requirement already satisfied: typing-extensions>=3.7.4.3 in /usr/local/lib/python3.7/dist-packages (from huggingface-hub<1.0.0,>=0.1.0->datasets) (3.10.0.2)\n",
            "Requirement already satisfied: pyparsing!=3.0.5,>=2.0.2 in /usr/local/lib/python3.7/dist-packages (from packaging->datasets) (3.0.6)\n",
            "Requirement already satisfied: chardet<4,>=3.0.2 in /usr/local/lib/python3.7/dist-packages (from requests>=2.19.0->datasets) (3.0.4)\n",
            "Requirement already satisfied: idna<3,>=2.5 in /usr/local/lib/python3.7/dist-packages (from requests>=2.19.0->datasets) (2.10)\n",
            "Requirement already satisfied: certifi>=2017.4.17 in /usr/local/lib/python3.7/dist-packages (from requests>=2.19.0->datasets) (2021.10.8)\n",
            "Requirement already satisfied: urllib3!=1.25.0,!=1.25.1,<1.26,>=1.21.1 in /usr/local/lib/python3.7/dist-packages (from requests>=2.19.0->datasets) (1.24.3)\n",
            "Collecting frozenlist>=1.1.1\n",
            "  Downloading frozenlist-1.2.0-cp37-cp37m-manylinux_2_5_x86_64.manylinux1_x86_64.manylinux_2_12_x86_64.manylinux2010_x86_64.whl (192 kB)\n",
            "\u001b[K     |████████████████████████████████| 192 kB 50.4 MB/s \n",
            "\u001b[?25hCollecting multidict<7.0,>=4.5\n",
            "  Downloading multidict-5.2.0-cp37-cp37m-manylinux_2_5_x86_64.manylinux1_x86_64.manylinux_2_12_x86_64.manylinux2010_x86_64.whl (160 kB)\n",
            "\u001b[K     |████████████████████████████████| 160 kB 48.2 MB/s \n",
            "\u001b[?25hCollecting async-timeout<5.0,>=4.0.0a3\n",
            "  Downloading async_timeout-4.0.1-py3-none-any.whl (5.7 kB)\n",
            "Collecting yarl<2.0,>=1.0\n",
            "  Downloading yarl-1.7.2-cp37-cp37m-manylinux_2_5_x86_64.manylinux1_x86_64.manylinux_2_12_x86_64.manylinux2010_x86_64.whl (271 kB)\n",
            "\u001b[K     |████████████████████████████████| 271 kB 45.9 MB/s \n",
            "\u001b[?25hRequirement already satisfied: charset-normalizer<3.0,>=2.0 in /usr/local/lib/python3.7/dist-packages (from aiohttp->datasets) (2.0.8)\n",
            "Collecting aiosignal>=1.1.2\n",
            "  Downloading aiosignal-1.2.0-py3-none-any.whl (8.2 kB)\n",
            "Collecting asynctest==0.13.0\n",
            "  Downloading asynctest-0.13.0-py3-none-any.whl (26 kB)\n",
            "Requirement already satisfied: attrs>=17.3.0 in /usr/local/lib/python3.7/dist-packages (from aiohttp->datasets) (21.2.0)\n",
            "Requirement already satisfied: zipp>=0.5 in /usr/local/lib/python3.7/dist-packages (from importlib-metadata->datasets) (3.6.0)\n",
            "Requirement already satisfied: python-dateutil>=2.7.3 in /usr/local/lib/python3.7/dist-packages (from pandas->datasets) (2.8.2)\n",
            "Requirement already satisfied: pytz>=2017.2 in /usr/local/lib/python3.7/dist-packages (from pandas->datasets) (2018.9)\n",
            "Requirement already satisfied: six>=1.5 in /usr/local/lib/python3.7/dist-packages (from python-dateutil>=2.7.3->pandas->datasets) (1.15.0)\n",
            "Installing collected packages: multidict, frozenlist, yarl, asynctest, async-timeout, aiosignal, fsspec, aiohttp, xxhash, huggingface-hub, datasets\n",
            "Successfully installed aiohttp-3.8.1 aiosignal-1.2.0 async-timeout-4.0.1 asynctest-0.13.0 datasets-1.16.1 frozenlist-1.2.0 fsspec-2021.11.1 huggingface-hub-0.2.1 multidict-5.2.0 xxhash-2.0.2 yarl-1.7.2\n",
            "Collecting transformers\n",
            "  Downloading transformers-4.13.0-py3-none-any.whl (3.3 MB)\n",
            "\u001b[K     |████████████████████████████████| 3.3 MB 5.2 MB/s \n",
            "\u001b[?25hRequirement already satisfied: huggingface-hub<1.0,>=0.1.0 in /usr/local/lib/python3.7/dist-packages (from transformers) (0.2.1)\n",
            "Requirement already satisfied: tqdm>=4.27 in /usr/local/lib/python3.7/dist-packages (from transformers) (4.62.3)\n",
            "Requirement already satisfied: numpy>=1.17 in /usr/local/lib/python3.7/dist-packages (from transformers) (1.19.5)\n",
            "Requirement already satisfied: filelock in /usr/local/lib/python3.7/dist-packages (from transformers) (3.4.0)\n",
            "Requirement already satisfied: packaging>=20.0 in /usr/local/lib/python3.7/dist-packages (from transformers) (21.3)\n",
            "Collecting pyyaml>=5.1\n",
            "  Downloading PyYAML-6.0-cp37-cp37m-manylinux_2_5_x86_64.manylinux1_x86_64.manylinux_2_12_x86_64.manylinux2010_x86_64.whl (596 kB)\n",
            "\u001b[K     |████████████████████████████████| 596 kB 48.6 MB/s \n",
            "\u001b[?25hRequirement already satisfied: importlib-metadata in /usr/local/lib/python3.7/dist-packages (from transformers) (4.8.2)\n",
            "Requirement already satisfied: requests in /usr/local/lib/python3.7/dist-packages (from transformers) (2.23.0)\n",
            "Collecting tokenizers<0.11,>=0.10.1\n",
            "  Downloading tokenizers-0.10.3-cp37-cp37m-manylinux_2_5_x86_64.manylinux1_x86_64.manylinux_2_12_x86_64.manylinux2010_x86_64.whl (3.3 MB)\n",
            "\u001b[K     |████████████████████████████████| 3.3 MB 39.0 MB/s \n",
            "\u001b[?25hCollecting sacremoses\n",
            "  Downloading sacremoses-0.0.46-py3-none-any.whl (895 kB)\n",
            "\u001b[K     |████████████████████████████████| 895 kB 39.3 MB/s \n",
            "\u001b[?25hRequirement already satisfied: regex!=2019.12.17 in /usr/local/lib/python3.7/dist-packages (from transformers) (2019.12.20)\n",
            "Requirement already satisfied: typing-extensions>=3.7.4.3 in /usr/local/lib/python3.7/dist-packages (from huggingface-hub<1.0,>=0.1.0->transformers) (3.10.0.2)\n",
            "Requirement already satisfied: pyparsing!=3.0.5,>=2.0.2 in /usr/local/lib/python3.7/dist-packages (from packaging>=20.0->transformers) (3.0.6)\n",
            "Requirement already satisfied: zipp>=0.5 in /usr/local/lib/python3.7/dist-packages (from importlib-metadata->transformers) (3.6.0)\n",
            "Requirement already satisfied: idna<3,>=2.5 in /usr/local/lib/python3.7/dist-packages (from requests->transformers) (2.10)\n",
            "Requirement already satisfied: chardet<4,>=3.0.2 in /usr/local/lib/python3.7/dist-packages (from requests->transformers) (3.0.4)\n",
            "Requirement already satisfied: urllib3!=1.25.0,!=1.25.1,<1.26,>=1.21.1 in /usr/local/lib/python3.7/dist-packages (from requests->transformers) (1.24.3)\n",
            "Requirement already satisfied: certifi>=2017.4.17 in /usr/local/lib/python3.7/dist-packages (from requests->transformers) (2021.10.8)\n",
            "Requirement already satisfied: joblib in /usr/local/lib/python3.7/dist-packages (from sacremoses->transformers) (1.1.0)\n",
            "Requirement already satisfied: six in /usr/local/lib/python3.7/dist-packages (from sacremoses->transformers) (1.15.0)\n",
            "Requirement already satisfied: click in /usr/local/lib/python3.7/dist-packages (from sacremoses->transformers) (7.1.2)\n",
            "Installing collected packages: pyyaml, tokenizers, sacremoses, transformers\n",
            "  Attempting uninstall: pyyaml\n",
            "    Found existing installation: PyYAML 3.13\n",
            "    Uninstalling PyYAML-3.13:\n",
            "      Successfully uninstalled PyYAML-3.13\n",
            "Successfully installed pyyaml-6.0 sacremoses-0.0.46 tokenizers-0.10.3 transformers-4.13.0\n"
          ]
        }
      ],
      "source": [
        "!pip install datasets\n",
        "!pip install transformers"
      ]
    },
    {
      "cell_type": "markdown",
      "metadata": {
        "id": "CYUkp06Y_VCv"
      },
      "source": [
        "## 데이터셋 로딩\n"
      ]
    },
    {
      "cell_type": "markdown",
      "metadata": {
        "id": "KMrZa4uql_nx"
      },
      "source": [
        "KorQuAD(MRC용 한국어 데이터셋) train 데이터셋을 학습 데이터로 활용"
      ]
    },
    {
      "cell_type": "code",
      "execution_count": 2,
      "metadata": {
        "colab": {
          "base_uri": "https://localhost:8080/",
          "height": 298,
          "referenced_widgets": [
            "584f213d2c9f4714a834491bf6b5f333",
            "056eac91148b436888efdf82a7eb3df3",
            "c2adf9670fb74ff28ebee5bda1ebd314",
            "db573239a82b439987e17ecdb1d76a26",
            "1399e95feb854416b5a37c6aa3c52865",
            "9d404e29e8174afc83f28f80606e7421",
            "12e430240c61498eaf56e12c7276fac5",
            "0ec7e87ccdf44f1e91d806cd8f7a1107",
            "2866f8e13704459c9752872d75653dc1",
            "932d5fa169104a0082155eeb542a178b",
            "86a236b159b94c38ab6b9a4e0d8cc558",
            "918aae0fe94e46f2a42396dcb64204a9",
            "68124d27f5fd4d7a8310eea78d44cdc5",
            "8dcb3d76ceaf42189ade49899128a23e",
            "3f011303a9244752bd125fd81bbacdf2",
            "e0db9f2683d14f5fa638f7749cbcbb72",
            "26ddc8e7c6974998a9aa75a18dd9012b",
            "70e09f2f5593404fa38a857e12ffbebe",
            "01e7c6d8a5454f64931e28af1fcc3564",
            "bbea933081ea4f1d83d49240790b6427",
            "9f9002960adf4cce963675ddef859032",
            "8be06b89f5e24c6fa3fddaca0fc47bed",
            "b2a695c56d2a4bdcb1bf6f83c6d29a6c",
            "c5c9a4c0eed84cb09efe6459b25c8ce1",
            "7fdc082f577c489ebda7fa2cf7d94f5f",
            "48b6806c6e994485bbb1b3f1a06388cc",
            "8295f404418f4ae6ba18695b3e64e265",
            "1ee8ace667a647828499b8ba8f24f342",
            "7fc0f4a82add48208b788ee1505df24c",
            "2e2110a234064cce9586fc26732d1fff",
            "29b6ddc88cd14b5a983ef32267e3c21f",
            "25990e77395b4eea97961d4752684298",
            "eca9b51d22e647cf8c8e1bd5fc13de0c",
            "a1b0de451e664ab5ba96807e170fe93d",
            "3934fda485cb497f8483dbb6e16bc778",
            "e41194fb65d74d0ebd93773b854d8ef3",
            "071a6dad453e4807a191648f292bdecc",
            "ea78078e132e4fde8f7d4b1ad762024e",
            "3d8750b666f84fa6bb2d05df52fc8d9d",
            "f19d01b9698341b4afe9301e3fb026ca",
            "ca87cd85e3ed4ae2a2cc2f5288829ee4",
            "a7e099159e494b27be8dabcfe62837ac",
            "10c6fba04c48476591d1ec6e492ddbf3",
            "163cd28df5de4f34bd9ff03e4c4eae42",
            "44a6fd9b8b5e4f87adda3f7a45924a3f",
            "535d0357adc14481be5f0a032a81eb2c",
            "1e53815b937746d59c7e907005c2e89d",
            "ba4a2966f4a442f1a0171765da1eb0fc",
            "b64efe191cd24400b11bf39ea05f4c25",
            "01c787daf4f94793ad910b5e65f6cf16",
            "4b9efd369d494eff8eba32c0baefaf37",
            "c7817ca780d04718bfe18a6639269ecd",
            "d22293ae82f144649874914b34ca963d",
            "e96859a1fa6242d3aaa5e0eeb18a2e77",
            "5bb8c13c87684fa39ddb83a4717b7eb5",
            "75116243551547f980c20fa6d0fbe8aa",
            "27be8d38b8bf4259b706c761afbb395b",
            "74402a06b8624c7caf04d2ae8eef39da",
            "7174dc60fba44081bd23eded1eee07f6",
            "1cb1ebfce68b4e269298a20bc6ef1509",
            "f87db11ee1aa4dc99ae50f8950d3aa9c",
            "0362b523eaa741fc9dafa8eb6b758bf8",
            "da771dbd6e404d31ac90e9591102d1d5",
            "c680f6fcda9547288a7c914e40380cca",
            "0d8e98f67e3849bba3e7b4bf4c4af837",
            "74cb6f879dda47c3bd477101414a2b8f",
            "8bfa759846b14a4a92346a4d8ed450e6",
            "1c0d6a630c4049538339f71e7bed094a",
            "1ba7af048e7149078a2b722900482b66",
            "8183c90a577847cdb49df246bc68df91",
            "53248574f05543098942bbc5110e2f90",
            "defe2e586bff4533b225be092d6c290b",
            "9e101ea9d1d94c578cc1b5553315e9e1",
            "8543b4c7771c4fab9a5f5c7f7895bc37",
            "6d5e31189ed4400986cb8bcd09196fa8",
            "1a0041e9ceef4b6fa1c74e78110b28a6",
            "c823ef02bc2d4b768b4a00646db600b0",
            "6b961e09499b4527be589d2975d3f4b1",
            "82fc2e0262564d57b246ae7d4637b6aa",
            "06d8fc02eead40dd90716731959fd2d4",
            "3022f0ba24b14d80b608dea0a08dc73b",
            "02ffb5a0e1064aa8b1d024697b29c347",
            "9fd1c7bf815647b9834d0ee68fce08de",
            "50712c3056ef456e97e54094b036afcb",
            "fccacabb4a9b43d19ddb75851f537bc9",
            "5acbc006fdfb47f0bce8d62e732bcafe",
            "7019309ce8bb4da7aeec5998d2626cfd",
            "27336ede18824384bb249cad7c4c1e09",
            "5677286d98e34afc8943ea28d5165343",
            "9d9227a5148e452584606ee40dbb606e",
            "74448d03c8ce4fb4b9c04386be0fd8fb",
            "1c1f575916fe4603ac74599b46a33381",
            "4b87c3cf8a8f4d35b376b1a6bb0cdb9f",
            "995dd2b8dd6e451bbc783568602b16c2",
            "c6ee68ecd8824cc99ad4d830d05ffdf9",
            "5afcc0badac947f2816c407f3298f948",
            "3345e16f5f074aca941d92aa28f3e2a9",
            "fd4dcec5aa52481baf87c479ee8f5c39",
            "2dd48f7065d647f9ab28ff844fadf91b"
          ]
        },
        "id": "4IUxepuj_VCv",
        "outputId": "bd28df12-8d80-4c88-e7aa-3a6c4c5c84d6"
      },
      "outputs": [
        {
          "output_type": "display_data",
          "data": {
            "application/vnd.jupyter.widget-view+json": {
              "model_id": "584f213d2c9f4714a834491bf6b5f333",
              "version_minor": 0,
              "version_major": 2
            },
            "text/plain": [
              "Downloading:   0%|          | 0.00/1.78k [00:00<?, ?B/s]"
            ]
          },
          "metadata": {}
        },
        {
          "output_type": "display_data",
          "data": {
            "application/vnd.jupyter.widget-view+json": {
              "model_id": "918aae0fe94e46f2a42396dcb64204a9",
              "version_minor": 0,
              "version_major": 2
            },
            "text/plain": [
              "Downloading:   0%|          | 0.00/1.02k [00:00<?, ?B/s]"
            ]
          },
          "metadata": {}
        },
        {
          "output_type": "stream",
          "name": "stdout",
          "text": [
            "Downloading and preparing dataset squad_kor_v1/squad_kor_v1 (download: 40.44 MiB, generated: 87.40 MiB, post-processed: Unknown size, total: 127.84 MiB) to /root/.cache/huggingface/datasets/squad_kor_v1/squad_kor_v1/1.0.0/18d4f44736b8ee85671f63cb84965bfb583fa0a4ff2df3c2e10eee9693796725...\n"
          ]
        },
        {
          "output_type": "display_data",
          "data": {
            "application/vnd.jupyter.widget-view+json": {
              "model_id": "b2a695c56d2a4bdcb1bf6f83c6d29a6c",
              "version_minor": 0,
              "version_major": 2
            },
            "text/plain": [
              "  0%|          | 0/2 [00:00<?, ?it/s]"
            ]
          },
          "metadata": {}
        },
        {
          "output_type": "display_data",
          "data": {
            "application/vnd.jupyter.widget-view+json": {
              "model_id": "a1b0de451e664ab5ba96807e170fe93d",
              "version_minor": 0,
              "version_major": 2
            },
            "text/plain": [
              "Downloading:   0%|          | 0.00/7.57M [00:00<?, ?B/s]"
            ]
          },
          "metadata": {}
        },
        {
          "output_type": "display_data",
          "data": {
            "application/vnd.jupyter.widget-view+json": {
              "model_id": "44a6fd9b8b5e4f87adda3f7a45924a3f",
              "version_minor": 0,
              "version_major": 2
            },
            "text/plain": [
              "Downloading:   0%|          | 0.00/770k [00:00<?, ?B/s]"
            ]
          },
          "metadata": {}
        },
        {
          "output_type": "display_data",
          "data": {
            "application/vnd.jupyter.widget-view+json": {
              "model_id": "75116243551547f980c20fa6d0fbe8aa",
              "version_minor": 0,
              "version_major": 2
            },
            "text/plain": [
              "  0%|          | 0/2 [00:00<?, ?it/s]"
            ]
          },
          "metadata": {}
        },
        {
          "output_type": "display_data",
          "data": {
            "application/vnd.jupyter.widget-view+json": {
              "model_id": "8bfa759846b14a4a92346a4d8ed450e6",
              "version_minor": 0,
              "version_major": 2
            },
            "text/plain": [
              "0 examples [00:00, ? examples/s]"
            ]
          },
          "metadata": {}
        },
        {
          "output_type": "display_data",
          "data": {
            "application/vnd.jupyter.widget-view+json": {
              "model_id": "6b961e09499b4527be589d2975d3f4b1",
              "version_minor": 0,
              "version_major": 2
            },
            "text/plain": [
              "0 examples [00:00, ? examples/s]"
            ]
          },
          "metadata": {}
        },
        {
          "output_type": "stream",
          "name": "stdout",
          "text": [
            "Dataset squad_kor_v1 downloaded and prepared to /root/.cache/huggingface/datasets/squad_kor_v1/squad_kor_v1/1.0.0/18d4f44736b8ee85671f63cb84965bfb583fa0a4ff2df3c2e10eee9693796725. Subsequent calls will reuse this data.\n"
          ]
        },
        {
          "output_type": "display_data",
          "data": {
            "application/vnd.jupyter.widget-view+json": {
              "model_id": "5677286d98e34afc8943ea28d5165343",
              "version_minor": 0,
              "version_major": 2
            },
            "text/plain": [
              "  0%|          | 0/2 [00:00<?, ?it/s]"
            ]
          },
          "metadata": {}
        }
      ],
      "source": [
        "from datasets import load_dataset\n",
        "\n",
        "dataset = load_dataset(\"squad_kor_v1\")"
      ]
    },
    {
      "cell_type": "markdown",
      "metadata": {
        "id": "lJtECqpB_VCx"
      },
      "source": [
        "## 토크나이저 준비 - Huggingface 제공 tokenizer 이용"
      ]
    },
    {
      "cell_type": "markdown",
      "metadata": {
        "id": "X0Fu2WaqpUB8"
      },
      "source": [
        "BERT를 encoder로 사용하므로, hugginface에서 제공하는 \"bert-base-multilingual-cased\" tokenizer를 활용"
      ]
    },
    {
      "cell_type": "code",
      "execution_count": 3,
      "metadata": {
        "id": "AoB8BHGDmVIK",
        "colab": {
          "base_uri": "https://localhost:8080/",
          "height": 145,
          "referenced_widgets": [
            "b8a23780df8142069b10802a5dbdf1e1",
            "5723b1ebef5f4970b92d512ac4fcbd0b",
            "bf4437935aae4769bba4f1d96047ed5a",
            "2d8f90be77dc4475afe084a067b1f9f5",
            "bdf7a141fba84c8280d8e90efbc19f26",
            "db2834f4bb2b460f99e2ec637c5e1641",
            "72234a893d3a4322b9f2ae716f97573e",
            "cd81b19e29994d308a636c57159b2d11",
            "661605db005d4f82b33864e1ab805b4b",
            "a4fbe82beb194fedb95012f238a86cdf",
            "dbad97cb0d934c61bfcb1cf45976a875",
            "ce698ea411d1433185086c2330281aa3",
            "2ea72d8e866242b495ad6abaea2ae30f",
            "592305c04b0c438aa142aa755ed05e06",
            "5965c139c04e4e07b969c292eb18bd1e",
            "1219f1b2a2a1455094cdea860e1fd884",
            "49f5ef801f5b48d88c1bd79a245137cf",
            "779c43e4fed54398b67c965e8ba91917",
            "ab0323f4e46043b4b203da7ebc136078",
            "cdc0f45e9459481c947d000bb9a2e7ca",
            "f084b6a9423448779fc906048ccc7478",
            "502a9c0a2ca946fab1a18e8223ed00b3",
            "157447b25abe48168ddae0c46664115b",
            "00251b24c6304b4883f398efbd07b36a",
            "202354398e10489aa26295a158b4c392",
            "8481d14862c14928b8a5ed9c3c70f192",
            "c755875fb79f4765999ca19f4fd67279",
            "8870e6b1cd1d4eff8539c68827115214",
            "0de0897a04cb4c2caf3b37b05c90c59d",
            "1b20bad85da644869e6525099b4af55c",
            "107f5c3584214dfdb932e7e930538d56",
            "80e7e0f2b2334f90a8c5f22e2da97955",
            "edcc38c098ce4398995e17c34bdf0285",
            "79c766ee76094ea787fbcc5dcbdbd4a1",
            "dbef25ff0b1e409a8d1ec60a34d5766b",
            "e661b48cd43445a69d1f5ecaccc5e18c",
            "743c8c7e94314d1484667cf6870757b3",
            "ccd5adca8f9a4acf9d7af08c5eb0b8b8",
            "54714bc07dc64b719f0831c21e760a70",
            "661a90dce3d54251a4bf3d422eebca0f",
            "7f851eafe779462ea188cf4c6b9c6d94",
            "f79700637d024a438c7e715ef59dc213",
            "a56af9a745d943a08fc38e98bab44a26",
            "c74e631551734a1e921b127aee925784"
          ]
        },
        "outputId": "76ced646-e98f-4dff-935f-b11a0b04c484"
      },
      "outputs": [
        {
          "output_type": "display_data",
          "data": {
            "application/vnd.jupyter.widget-view+json": {
              "model_id": "b8a23780df8142069b10802a5dbdf1e1",
              "version_minor": 0,
              "version_major": 2
            },
            "text/plain": [
              "Downloading:   0%|          | 0.00/29.0 [00:00<?, ?B/s]"
            ]
          },
          "metadata": {}
        },
        {
          "output_type": "display_data",
          "data": {
            "application/vnd.jupyter.widget-view+json": {
              "model_id": "ce698ea411d1433185086c2330281aa3",
              "version_minor": 0,
              "version_major": 2
            },
            "text/plain": [
              "Downloading:   0%|          | 0.00/625 [00:00<?, ?B/s]"
            ]
          },
          "metadata": {}
        },
        {
          "output_type": "display_data",
          "data": {
            "application/vnd.jupyter.widget-view+json": {
              "model_id": "157447b25abe48168ddae0c46664115b",
              "version_minor": 0,
              "version_major": 2
            },
            "text/plain": [
              "Downloading:   0%|          | 0.00/972k [00:00<?, ?B/s]"
            ]
          },
          "metadata": {}
        },
        {
          "output_type": "display_data",
          "data": {
            "application/vnd.jupyter.widget-view+json": {
              "model_id": "79c766ee76094ea787fbcc5dcbdbd4a1",
              "version_minor": 0,
              "version_major": 2
            },
            "text/plain": [
              "Downloading:   0%|          | 0.00/1.87M [00:00<?, ?B/s]"
            ]
          },
          "metadata": {}
        }
      ],
      "source": [
        "from transformers import AutoTokenizer\n",
        "import numpy as np\n",
        "\n",
        "model_checkpoint = \"bert-base-multilingual-cased\"\n",
        "\n",
        "tokenizer = AutoTokenizer.from_pretrained(model_checkpoint)\n"
      ]
    },
    {
      "cell_type": "code",
      "execution_count": 4,
      "metadata": {
        "colab": {
          "base_uri": "https://localhost:8080/"
        },
        "id": "WPxRvMjdvh4y",
        "outputId": "2b47694a-1b41-4826-d3a0-59e6ecd490ae"
      },
      "outputs": [
        {
          "output_type": "execute_result",
          "data": {
            "text/plain": [
              "PreTrainedTokenizerFast(name_or_path='bert-base-multilingual-cased', vocab_size=119547, model_max_len=512, is_fast=True, padding_side='right', special_tokens={'unk_token': '[UNK]', 'sep_token': '[SEP]', 'pad_token': '[PAD]', 'cls_token': '[CLS]', 'mask_token': '[MASK]'})"
            ]
          },
          "metadata": {},
          "execution_count": 4
        }
      ],
      "source": [
        "tokenizer"
      ]
    },
    {
      "cell_type": "code",
      "source": [
        "dataset['train'][0]"
      ],
      "metadata": {
        "colab": {
          "base_uri": "https://localhost:8080/"
        },
        "id": "BO0Z2j9GSwEN",
        "outputId": "e3bab872-22e9-4b0d-e951-10f3379441e8"
      },
      "execution_count": 6,
      "outputs": [
        {
          "output_type": "execute_result",
          "data": {
            "text/plain": [
              "{'answers': {'answer_start': [54], 'text': ['교향곡']},\n",
              " 'context': '1839년 바그너는 괴테의 파우스트을 처음 읽고 그 내용에 마음이 끌려 이를 소재로 해서 하나의 교향곡을 쓰려는 뜻을 갖는다. 이 시기 바그너는 1838년에 빛 독촉으로 산전수전을 다 걲은 상황이라 좌절과 실망에 가득했으며 메피스토펠레스를 만나는 파우스트의 심경에 공감했다고 한다. 또한 파리에서 아브네크의 지휘로 파리 음악원 관현악단이 연주하는 베토벤의 교향곡 9번을 듣고 깊은 감명을 받았는데, 이것이 이듬해 1월에 파우스트의 서곡으로 쓰여진 이 작품에 조금이라도 영향을 끼쳤으리라는 것은 의심할 여지가 없다. 여기의 라단조 조성의 경우에도 그의 전기에 적혀 있는 것처럼 단순한 정신적 피로나 실의가 반영된 것이 아니라 베토벤의 합창교향곡 조성의 영향을 받은 것을 볼 수 있다. 그렇게 교향곡 작곡을 1839년부터 40년에 걸쳐 파리에서 착수했으나 1악장을 쓴 뒤에 중단했다. 또한 작품의 완성과 동시에 그는 이 서곡(1악장)을 파리 음악원의 연주회에서 연주할 파트보까지 준비하였으나, 실제로는 이루어지지는 않았다. 결국 초연은 4년 반이 지난 후에 드레스덴에서 연주되었고 재연도 이루어졌지만, 이후에 그대로 방치되고 말았다. 그 사이에 그는 리엔치와 방황하는 네덜란드인을 완성하고 탄호이저에도 착수하는 등 분주한 시간을 보냈는데, 그런 바쁜 생활이 이 곡을 잊게 한 것이 아닌가 하는 의견도 있다.',\n",
              " 'id': '6566495-0-0',\n",
              " 'question': '바그너는 괴테의 파우스트를 읽고 무엇을 쓰고자 했는가?',\n",
              " 'title': '파우스트_서곡'}"
            ]
          },
          "metadata": {},
          "execution_count": 6
        }
      ]
    },
    {
      "cell_type": "code",
      "execution_count": 5,
      "metadata": {
        "colab": {
          "base_uri": "https://localhost:8080/",
          "height": 254
        },
        "id": "0U7sn3jsu44O",
        "outputId": "23527037-7074-455d-df9b-d7c617864821"
      },
      "outputs": [
        {
          "output_type": "execute_result",
          "data": {
            "application/vnd.google.colaboratory.intrinsic+json": {
              "type": "string"
            },
            "text/plain": [
              "'[CLS] 1839년 바그너는 괴테의 파우스트을 처음 읽고 그 내용에 마음이 끌려 이를 소재로 해서 하나의 교향곡을 쓰려는 뜻을 갖는다. 이 시기 바그너는 1838년에 빛 독촉으로 산전수전을 다 [UNK] 상황이라 좌절과 실망에 가득했으며 메피스토펠레스를 만나는 파우스트의 심경에 공감했다고 한다. 또한 파리에서 아브네크의 지휘로 파리 음악원 관현악단이 연주하는 베토벤의 교향곡 9번을 듣고 깊은 감명을 받았는데, 이것이 이듬해 1월에 파우스트의 서곡으로 쓰여진 이 작품에 조금이라도 영향을 끼쳤으리라는 것은 의심할 여지가 없다. 여기의 라단조 조성의 경우에도 그의 전기에 적혀 있는 것처럼 단순한 정신적 피로나 실의가 반영된 것이 아니라 베토벤의 합창교향곡 조성의 영향을 받은 것을 볼 수 있다. 그렇게 교향곡 작곡을 1839년부터 40년에 걸쳐 파리에서 착수했으나 1악장을 쓴 뒤에 중단했다. 또한 작품의 완성과 동시에 그는 이 서곡 ( 1악장 ) 을 파리 음악원의 연주회에서 연주할 파트보까지 준비하였으나, 실제로는 이루어지지는 않았다. 결국 초연은 4년 반이 지난 후에 드레스덴에서 연주되었고 재연도 이루어졌지만, 이후에 그대로 방치되고 말았다. 그 사이에 그는 리엔치와 방황하는 네덜란드인을 완성하고 탄호이저에도 착수하는 등 분주한 시간을 보냈는데, 그런 바쁜 생활이 이 곡을 잊게 한 것이 아닌가 하는 의견도 있다. [SEP] [PAD] [PAD] [PAD] [PAD] [PAD] [PAD] [PAD] [PAD] [PAD] [PAD] [PAD] [PAD] [PAD] [PAD] [PAD] [PAD] [PAD] [PAD] [PAD] [PAD] [PAD] [PAD] [PAD] [PAD] [PAD] [PAD] [PAD] [PAD] [PAD] [PAD] [PAD] [PAD] [PAD] [PAD] [PAD] [PAD] [PAD] [PAD] [PAD] [PAD] [PAD] [PAD] [PAD] [PAD] [PAD] [PAD] [PAD] [PAD] [PAD] [PAD] [PAD] [PAD] [PAD] [PAD] [PAD] [PAD] [PAD] [PAD] [PAD] [PAD] [PAD] [PAD] [PAD] [PAD] [PAD] [PAD] [PAD] [PAD] [PAD] [PAD] [PAD] [PAD] [PAD] [PAD] [PAD] [PAD] [PAD] [PAD] [PAD] [PAD] [PAD] [PAD] [PAD] [PAD] [PAD] [PAD] [PAD] [PAD] [PAD] [PAD] [PAD] [PAD] [PAD] [PAD] [PAD] [PAD] [PAD] [PAD] [PAD] [PAD] [PAD] [PAD] [PAD] [PAD] [PAD] [PAD]'"
            ]
          },
          "metadata": {},
          "execution_count": 5
        }
      ],
      "source": [
        "tokenized_input = tokenizer(dataset['train'][0]['context'], padding=\"max_length\", truncation=True)\n",
        "tokenizer.decode(tokenized_input['input_ids'])"
      ]
    },
    {
      "cell_type": "markdown",
      "metadata": {
        "id": "zpoTleVJjp5x"
      },
      "source": [
        "## Dense encoder (BERT) 학습 시키기"
      ]
    },
    {
      "cell_type": "markdown",
      "metadata": {
        "id": "_nrxmtmfkRVb"
      },
      "source": [
        "HuggingFace BERT를 활용하여 question encoder, passage encoder 학습"
      ]
    },
    {
      "cell_type": "code",
      "execution_count": 7,
      "metadata": {
        "id": "6b215ZfJ_EOc"
      },
      "outputs": [],
      "source": [
        "from tqdm import tqdm, trange\n",
        "import argparse\n",
        "import random\n",
        "import torch\n",
        "import torch.nn.functional as F\n",
        "from transformers import BertModel, BertPreTrainedModel, AdamW, TrainingArguments, get_linear_schedule_with_warmup\n",
        "\n",
        "torch.manual_seed(2021)\n",
        "torch.cuda.manual_seed(2021)\n",
        "np.random.seed(2021)\n",
        "random.seed(2021)"
      ]
    },
    {
      "cell_type": "markdown",
      "metadata": {
        "id": "N-bKwkxTpoje"
      },
      "source": [
        "1) Training Dataset 준비하기 (question, passage pairs)\n",
        "\n",
        "---\n",
        "\n"
      ]
    },
    {
      "cell_type": "code",
      "execution_count": 8,
      "metadata": {
        "id": "E_FQ1kcazxge"
      },
      "outputs": [],
      "source": [
        "# Use subset (128 example) of original training dataset \n",
        "sample_idx = np.random.choice(range(len(dataset['train'])), 128)\n",
        "training_dataset = dataset['train'][sample_idx]"
      ]
    },
    {
      "cell_type": "code",
      "execution_count": 9,
      "metadata": {
        "id": "NJZWx1b-613e"
      },
      "outputs": [],
      "source": [
        "from torch.utils.data import (DataLoader, RandomSampler, TensorDataset)\n",
        "\n",
        "q_seqs = tokenizer(training_dataset['question'], padding=\"max_length\", truncation=True, return_tensors='pt')\n",
        "p_seqs = tokenizer(training_dataset['context'], padding=\"max_length\", truncation=True, return_tensors='pt')\n"
      ]
    },
    {
      "cell_type": "code",
      "execution_count": 10,
      "metadata": {
        "id": "bAplp66Pkayy"
      },
      "outputs": [],
      "source": [
        "train_dataset = TensorDataset(p_seqs['input_ids'], p_seqs['attention_mask'], p_seqs['token_type_ids'], \n",
        "                        q_seqs['input_ids'], q_seqs['attention_mask'], q_seqs['token_type_ids'])"
      ]
    },
    {
      "cell_type": "markdown",
      "source": [
        "Dataset을 학습하기 위해서 tensordataset 으로 변경 해준다 + question 데이터와 context 데이터를 합쳐준다(학습할때 용이하기 위해서) \n",
        "=> input_ids, attention_mask, token_type_ids를 가져온다"
      ],
      "metadata": {
        "id": "BOQbsa9HUkQ6"
      }
    },
    {
      "cell_type": "markdown",
      "metadata": {
        "id": "JwMvVH1e3h99"
      },
      "source": [
        "2) BERT encoder 학습시키기"
      ]
    },
    {
      "cell_type": "markdown",
      "metadata": {
        "id": "vW7Oc7Zd9kkm"
      },
      "source": [
        "BertEncoder 모델 정의 후, question encoder, passage encoder에 pre-trained weight 불러오기"
      ]
    },
    {
      "cell_type": "code",
      "execution_count": 14,
      "metadata": {
        "id": "oKKkTlh_l5VL"
      },
      "outputs": [],
      "source": [
        "class BertEncoder(BertPreTrainedModel):\n",
        "  def __init__(self, config):\n",
        "    super(BertEncoder, self).__init__(config)\n",
        "\n",
        "    self.bert = BertModel(config)\n",
        "    self.init_weights()\n",
        "      \n",
        "  def forward(self, input_ids, \n",
        "              attention_mask=None, token_type_ids=None): \n",
        "  \n",
        "      outputs = self.bert(input_ids,\n",
        "                          attention_mask=attention_mask,\n",
        "                          token_type_ids=token_type_ids)\n",
        "      \n",
        "      pooled_output = outputs[1] #output은 cls 토큰에만 해당되는 임배딩이다\n",
        "\n",
        "      return pooled_output\n"
      ]
    },
    {
      "cell_type": "markdown",
      "source": [
        "![image.png](data:image/png;base64,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)"
      ],
      "metadata": {
        "id": "ap5Gy_CzVZkk"
      }
    },
    {
      "cell_type": "code",
      "execution_count": 12,
      "metadata": {
        "colab": {
          "base_uri": "https://localhost:8080/",
          "height": 178,
          "referenced_widgets": [
            "bda3b462a5204fa6b7c9718fb3a38fd8",
            "3c604746bfd64fb4882a0dbbec6dbd39",
            "f5137991997341a4a6c1856c1b11940b",
            "311bdca3415644b98971d2a37f569689",
            "12445704d1fa464f9789351e650ac88f",
            "14f2f93440764f20adc9a6928b689f1e",
            "20ce3545fca24462b7b51d7227ce6d37",
            "e27d3a4ef7204635971af5ac0740a8fc",
            "9484d405e5c3413a9bdce492fbafdcfb",
            "0cb76510808a49239f536b0423cc171b",
            "788b70dddb3b46e68042f0b90fd73294"
          ]
        },
        "id": "wnO1b30SomBP",
        "outputId": "2d7e705a-0411-4645-a7b2-f28f8553c9bf"
      },
      "outputs": [
        {
          "output_type": "display_data",
          "data": {
            "application/vnd.jupyter.widget-view+json": {
              "model_id": "bda3b462a5204fa6b7c9718fb3a38fd8",
              "version_minor": 0,
              "version_major": 2
            },
            "text/plain": [
              "Downloading:   0%|          | 0.00/681M [00:00<?, ?B/s]"
            ]
          },
          "metadata": {}
        },
        {
          "output_type": "stream",
          "name": "stderr",
          "text": [
            "Some weights of the model checkpoint at bert-base-multilingual-cased were not used when initializing BertEncoder: ['cls.predictions.transform.LayerNorm.bias', 'cls.predictions.decoder.weight', 'cls.predictions.transform.dense.weight', 'cls.predictions.bias', 'cls.predictions.transform.dense.bias', 'cls.seq_relationship.bias', 'cls.predictions.transform.LayerNorm.weight', 'cls.seq_relationship.weight']\n",
            "- This IS expected if you are initializing BertEncoder from the checkpoint of a model trained on another task or with another architecture (e.g. initializing a BertForSequenceClassification model from a BertForPreTraining model).\n",
            "- This IS NOT expected if you are initializing BertEncoder from the checkpoint of a model that you expect to be exactly identical (initializing a BertForSequenceClassification model from a BertForSequenceClassification model).\n",
            "Some weights of the model checkpoint at bert-base-multilingual-cased were not used when initializing BertEncoder: ['cls.predictions.transform.LayerNorm.bias', 'cls.predictions.decoder.weight', 'cls.predictions.transform.dense.weight', 'cls.predictions.bias', 'cls.predictions.transform.dense.bias', 'cls.seq_relationship.bias', 'cls.predictions.transform.LayerNorm.weight', 'cls.seq_relationship.weight']\n",
            "- This IS expected if you are initializing BertEncoder from the checkpoint of a model trained on another task or with another architecture (e.g. initializing a BertForSequenceClassification model from a BertForPreTraining model).\n",
            "- This IS NOT expected if you are initializing BertEncoder from the checkpoint of a model that you expect to be exactly identical (initializing a BertForSequenceClassification model from a BertForSequenceClassification model).\n"
          ]
        }
      ],
      "source": [
        "# load pre-trained model on cuda (if available)\n",
        "p_encoder = BertEncoder.from_pretrained(model_checkpoint)\n",
        "q_encoder = BertEncoder.from_pretrained(model_checkpoint)\n",
        "\n",
        "if torch.cuda.is_available():\n",
        "  p_encoder.cuda()\n",
        "  q_encoder.cuda()"
      ]
    },
    {
      "cell_type": "markdown",
      "metadata": {
        "id": "f3Dgo8U997HD"
      },
      "source": [
        "Train function 정의 후, 두개의 encoder fine-tuning 하기 (In-batch negative 활용) \n"
      ]
    },
    {
      "cell_type": "code",
      "execution_count": 15,
      "metadata": {
        "id": "VAb7NpUc8YRo",
        "colab": {
          "base_uri": "https://localhost:8080/",
          "height": 136
        },
        "outputId": "7a930182-3d84-4dc4-83a6-8e1622aa8a5f"
      },
      "outputs": [
        {
          "output_type": "error",
          "ename": "IndentationError",
          "evalue": "ignored",
          "traceback": [
            "\u001b[0;36m  File \u001b[0;32m\"<ipython-input-15-4a6df53ac1e5>\"\u001b[0;36m, line \u001b[0;32m8\u001b[0m\n\u001b[0;31m    t_total = len(train_dataloader) // args.gradient_accumulation_steps * args.num_train_epochs\u001b[0m\n\u001b[0m    ^\u001b[0m\n\u001b[0;31mIndentationError\u001b[0m\u001b[0;31m:\u001b[0m unexpected indent\n"
          ]
        }
      ],
      "source": [
        "def train(args, dataset, p_model, q_model):\n",
        "  \n",
        "  # Dataloader\n",
        "  train_sampler = RandomSampler(dataset)\n",
        "  train_dataloader = DataLoader(dataset, sampler=train_sampler, batch_size=args.per_device_train_batch_size)\n",
        "\n",
        "tt\n",
        "  t_total = len(train_dataloader) // args.gradient_accumulation_steps * args.num_train_epochs\n",
        "  scheduler = get_linear_schedule_with_warmup(optimizer, num_warmup_steps=args.warmup_steps, num_training_steps=t_total)\n",
        "\n",
        "  # Start training!\n",
        "  global_step = 0\n",
        "  \n",
        "  p_model.zero_grad()\n",
        "  q_model.zero_grad()\n",
        "  torch.cuda.empty_cache()\n",
        "  \n",
        "  train_iterator = trange(int(args.num_train_epochs), desc=\"Epoch\")\n",
        "\n",
        "  for _ in train_iterator:\n",
        "    epoch_iterator = tqdm(train_dataloader, desc=\"Iteration\")\n",
        "\n",
        "    for step, batch in enumerate(epoch_iterator):\n",
        "      q_encoder.train()\n",
        "      p_encoder.train()\n",
        "      \n",
        "      if torch.cuda.is_available():\n",
        "        batch = tuple(t.cuda() for t in batch)\n",
        "\n",
        "      p_inputs = {'input_ids': batch[0],\n",
        "                  'attention_mask': batch[1],\n",
        "                  'token_type_ids': batch[2]\n",
        "                  }\n",
        "      \n",
        "      q_inputs = {'input_ids': batch[3],\n",
        "                  'attention_mask': batch[4],\n",
        "                  'token_type_ids': batch[5]}\n",
        "      \n",
        "      p_outputs = p_model(**p_inputs)  # (batch_size, emb_dim)\n",
        "      q_outputs = q_model(**q_inputs)  # (batch_size, emb_dim)\n",
        "\n",
        "\n",
        "      # Calculate similarity score & loss\n",
        "      sim_scores = torch.matmul(q_outputs, torch.transpose(p_outputs, 0, 1))  # (batch_size, emb_dim) x (emb_dim, batch_size) = (batch_size, batch_size)\n",
        "\n",
        "      # target: position of positive samples = diagonal element \n",
        "      targets = torch.arange(0, args.per_device_train_batch_size).long()\n",
        "      if torch.cuda.is_available():\n",
        "        targets = targets.to('cuda')\n",
        "\n",
        "      sim_scores = F.log_softmax(sim_scores, dim=1)\n",
        "\n",
        "      loss = F.nll_loss(sim_scores, targets)\n",
        "      print(loss)\n",
        "\n",
        "      loss.backward()\n",
        "      optimizer.step()\n",
        "      scheduler.step()\n",
        "      q_model.zero_grad()\n",
        "      p_model.zero_grad()\n",
        "      global_step += 1\n",
        "      \n",
        "      torch.cuda.empty_cache()\n",
        "\n",
        "\n",
        "    \n",
        "  return p_model, q_model\n",
        "\n",
        "\n"
      ]
    },
    {
      "cell_type": "code",
      "execution_count": null,
      "metadata": {
        "id": "ICSJoJrUDGZ5"
      },
      "outputs": [],
      "source": [
        "args = TrainingArguments(\n",
        "    output_dir=\"dense_retireval\",\n",
        "    evaluation_strategy=\"epoch\",\n",
        "    learning_rate=2e-5,\n",
        "    per_device_train_batch_size=4,\n",
        "    per_device_eval_batch_size=4,\n",
        "    num_train_epochs=2,\n",
        "    weight_decay=0.01\n",
        ")\n"
      ]
    },
    {
      "cell_type": "code",
      "execution_count": null,
      "metadata": {
        "colab": {
          "base_uri": "https://localhost:8080/"
        },
        "id": "E8a7ww3WgsaZ",
        "outputId": "8f98f6cf-8a44-4e4a-928b-836a1b27a772"
      },
      "outputs": [
        {
          "name": "stderr",
          "output_type": "stream",
          "text": [
            "Epoch:   0%|          | 0/2 [00:00<?, ?it/s]\n",
            "Iteration:   0%|          | 0/32 [00:00<?, ?it/s]\u001b[A"
          ]
        },
        {
          "name": "stdout",
          "output_type": "stream",
          "text": [
            "tensor(32.2463, device='cuda:0', grad_fn=<NllLossBackward>)\n"
          ]
        },
        {
          "name": "stderr",
          "output_type": "stream",
          "text": [
            "\n",
            "Iteration:   3%|▎         | 1/32 [00:01<00:33,  1.07s/it]\u001b[A"
          ]
        },
        {
          "name": "stdout",
          "output_type": "stream",
          "text": [
            "tensor(7.5171, device='cuda:0', grad_fn=<NllLossBackward>)\n"
          ]
        },
        {
          "name": "stderr",
          "output_type": "stream",
          "text": [
            "\n",
            "Iteration:   6%|▋         | 2/32 [00:02<00:32,  1.08s/it]\u001b[A"
          ]
        },
        {
          "name": "stdout",
          "output_type": "stream",
          "text": [
            "tensor(11.6010, device='cuda:0', grad_fn=<NllLossBackward>)\n"
          ]
        },
        {
          "name": "stderr",
          "output_type": "stream",
          "text": [
            "\n",
            "Iteration:   9%|▉         | 3/32 [00:03<00:31,  1.08s/it]\u001b[A"
          ]
        },
        {
          "name": "stdout",
          "output_type": "stream",
          "text": [
            "tensor(3.4258, device='cuda:0', grad_fn=<NllLossBackward>)\n"
          ]
        },
        {
          "name": "stderr",
          "output_type": "stream",
          "text": [
            "\n",
            "Iteration:  12%|█▎        | 4/32 [00:04<00:30,  1.08s/it]\u001b[A"
          ]
        },
        {
          "name": "stdout",
          "output_type": "stream",
          "text": [
            "tensor(2.3988, device='cuda:0', grad_fn=<NllLossBackward>)\n"
          ]
        },
        {
          "name": "stderr",
          "output_type": "stream",
          "text": [
            "\n",
            "Iteration:  16%|█▌        | 5/32 [00:05<00:29,  1.08s/it]\u001b[A"
          ]
        },
        {
          "name": "stdout",
          "output_type": "stream",
          "text": [
            "tensor(1.5510, device='cuda:0', grad_fn=<NllLossBackward>)\n"
          ]
        },
        {
          "name": "stderr",
          "output_type": "stream",
          "text": [
            "\n",
            "Iteration:  19%|█▉        | 6/32 [00:06<00:28,  1.08s/it]\u001b[A"
          ]
        },
        {
          "name": "stdout",
          "output_type": "stream",
          "text": [
            "tensor(3.1626, device='cuda:0', grad_fn=<NllLossBackward>)\n"
          ]
        },
        {
          "name": "stderr",
          "output_type": "stream",
          "text": [
            "\n",
            "Iteration:  22%|██▏       | 7/32 [00:07<00:27,  1.08s/it]\u001b[A"
          ]
        },
        {
          "name": "stdout",
          "output_type": "stream",
          "text": [
            "tensor(1.9077, device='cuda:0', grad_fn=<NllLossBackward>)\n"
          ]
        },
        {
          "name": "stderr",
          "output_type": "stream",
          "text": [
            "\n",
            "Iteration:  25%|██▌       | 8/32 [00:08<00:26,  1.09s/it]\u001b[A"
          ]
        },
        {
          "name": "stdout",
          "output_type": "stream",
          "text": [
            "tensor(2.8511, device='cuda:0', grad_fn=<NllLossBackward>)\n"
          ]
        },
        {
          "name": "stderr",
          "output_type": "stream",
          "text": [
            "\n",
            "Iteration:  28%|██▊       | 9/32 [00:09<00:25,  1.09s/it]\u001b[A"
          ]
        },
        {
          "name": "stdout",
          "output_type": "stream",
          "text": [
            "tensor(2.2383, device='cuda:0', grad_fn=<NllLossBackward>)\n"
          ]
        },
        {
          "name": "stderr",
          "output_type": "stream",
          "text": [
            "\n",
            "Iteration:  31%|███▏      | 10/32 [00:10<00:24,  1.09s/it]\u001b[A"
          ]
        },
        {
          "name": "stdout",
          "output_type": "stream",
          "text": [
            "tensor(1.5784, device='cuda:0', grad_fn=<NllLossBackward>)\n"
          ]
        },
        {
          "name": "stderr",
          "output_type": "stream",
          "text": [
            "\n",
            "Iteration:  34%|███▍      | 11/32 [00:11<00:22,  1.09s/it]\u001b[A"
          ]
        },
        {
          "name": "stdout",
          "output_type": "stream",
          "text": [
            "tensor(1.4731, device='cuda:0', grad_fn=<NllLossBackward>)\n"
          ]
        },
        {
          "name": "stderr",
          "output_type": "stream",
          "text": [
            "\n",
            "Iteration:  38%|███▊      | 12/32 [00:13<00:21,  1.09s/it]\u001b[A"
          ]
        },
        {
          "name": "stdout",
          "output_type": "stream",
          "text": [
            "tensor(1.3120, device='cuda:0', grad_fn=<NllLossBackward>)\n"
          ]
        },
        {
          "name": "stderr",
          "output_type": "stream",
          "text": [
            "\n",
            "Iteration:  41%|████      | 13/32 [00:14<00:20,  1.09s/it]\u001b[A"
          ]
        },
        {
          "name": "stdout",
          "output_type": "stream",
          "text": [
            "tensor(1.7495, device='cuda:0', grad_fn=<NllLossBackward>)\n"
          ]
        },
        {
          "name": "stderr",
          "output_type": "stream",
          "text": [
            "\n",
            "Iteration:  44%|████▍     | 14/32 [00:15<00:19,  1.10s/it]\u001b[A"
          ]
        },
        {
          "name": "stdout",
          "output_type": "stream",
          "text": [
            "tensor(2.0397, device='cuda:0', grad_fn=<NllLossBackward>)\n"
          ]
        },
        {
          "name": "stderr",
          "output_type": "stream",
          "text": [
            "\n",
            "Iteration:  47%|████▋     | 15/32 [00:16<00:18,  1.10s/it]\u001b[A"
          ]
        },
        {
          "name": "stdout",
          "output_type": "stream",
          "text": [
            "tensor(2.2702, device='cuda:0', grad_fn=<NllLossBackward>)\n"
          ]
        },
        {
          "name": "stderr",
          "output_type": "stream",
          "text": [
            "\n",
            "Iteration:  50%|█████     | 16/32 [00:17<00:17,  1.11s/it]\u001b[A"
          ]
        },
        {
          "name": "stdout",
          "output_type": "stream",
          "text": [
            "tensor(1.6097, device='cuda:0', grad_fn=<NllLossBackward>)\n"
          ]
        },
        {
          "name": "stderr",
          "output_type": "stream",
          "text": [
            "\n",
            "Iteration:  53%|█████▎    | 17/32 [00:18<00:16,  1.11s/it]\u001b[A"
          ]
        },
        {
          "name": "stdout",
          "output_type": "stream",
          "text": [
            "tensor(1.3690, device='cuda:0', grad_fn=<NllLossBackward>)\n"
          ]
        },
        {
          "name": "stderr",
          "output_type": "stream",
          "text": [
            "\n",
            "Iteration:  56%|█████▋    | 18/32 [00:19<00:15,  1.11s/it]\u001b[A"
          ]
        },
        {
          "name": "stdout",
          "output_type": "stream",
          "text": [
            "tensor(1.4093, device='cuda:0', grad_fn=<NllLossBackward>)\n"
          ]
        },
        {
          "name": "stderr",
          "output_type": "stream",
          "text": [
            "\n",
            "Iteration:  59%|█████▉    | 19/32 [00:20<00:14,  1.11s/it]\u001b[A"
          ]
        },
        {
          "name": "stdout",
          "output_type": "stream",
          "text": [
            "tensor(1.4360, device='cuda:0', grad_fn=<NllLossBackward>)\n"
          ]
        },
        {
          "name": "stderr",
          "output_type": "stream",
          "text": [
            "\n",
            "Iteration:  62%|██████▎   | 20/32 [00:21<00:13,  1.11s/it]\u001b[A"
          ]
        },
        {
          "name": "stdout",
          "output_type": "stream",
          "text": [
            "tensor(2.0589, device='cuda:0', grad_fn=<NllLossBackward>)\n"
          ]
        },
        {
          "name": "stderr",
          "output_type": "stream",
          "text": [
            "\n",
            "Iteration:  66%|██████▌   | 21/32 [00:23<00:12,  1.11s/it]\u001b[A"
          ]
        },
        {
          "name": "stdout",
          "output_type": "stream",
          "text": [
            "tensor(1.7093, device='cuda:0', grad_fn=<NllLossBackward>)\n"
          ]
        },
        {
          "name": "stderr",
          "output_type": "stream",
          "text": [
            "\n",
            "Iteration:  69%|██████▉   | 22/32 [00:24<00:11,  1.12s/it]\u001b[A"
          ]
        },
        {
          "name": "stdout",
          "output_type": "stream",
          "text": [
            "tensor(2.0336, device='cuda:0', grad_fn=<NllLossBackward>)\n"
          ]
        },
        {
          "name": "stderr",
          "output_type": "stream",
          "text": [
            "\n",
            "Iteration:  72%|███████▏  | 23/32 [00:25<00:10,  1.13s/it]\u001b[A"
          ]
        },
        {
          "name": "stdout",
          "output_type": "stream",
          "text": [
            "tensor(1.3478, device='cuda:0', grad_fn=<NllLossBackward>)\n"
          ]
        },
        {
          "name": "stderr",
          "output_type": "stream",
          "text": [
            "\n",
            "Iteration:  75%|███████▌  | 24/32 [00:26<00:09,  1.13s/it]\u001b[A"
          ]
        },
        {
          "name": "stdout",
          "output_type": "stream",
          "text": [
            "tensor(1.1512, device='cuda:0', grad_fn=<NllLossBackward>)\n"
          ]
        },
        {
          "name": "stderr",
          "output_type": "stream",
          "text": [
            "\n",
            "Iteration:  78%|███████▊  | 25/32 [00:27<00:07,  1.14s/it]\u001b[A"
          ]
        },
        {
          "name": "stdout",
          "output_type": "stream",
          "text": [
            "tensor(2.0699, device='cuda:0', grad_fn=<NllLossBackward>)\n"
          ]
        },
        {
          "name": "stderr",
          "output_type": "stream",
          "text": [
            "\n",
            "Iteration:  81%|████████▏ | 26/32 [00:28<00:06,  1.15s/it]\u001b[A"
          ]
        },
        {
          "name": "stdout",
          "output_type": "stream",
          "text": [
            "tensor(1.3971, device='cuda:0', grad_fn=<NllLossBackward>)\n"
          ]
        },
        {
          "name": "stderr",
          "output_type": "stream",
          "text": [
            "\n",
            "Iteration:  84%|████████▍ | 27/32 [00:29<00:05,  1.15s/it]\u001b[A"
          ]
        },
        {
          "name": "stdout",
          "output_type": "stream",
          "text": [
            "tensor(1.8141, device='cuda:0', grad_fn=<NllLossBackward>)\n"
          ]
        },
        {
          "name": "stderr",
          "output_type": "stream",
          "text": [
            "\n",
            "Iteration:  88%|████████▊ | 28/32 [00:31<00:04,  1.16s/it]\u001b[A"
          ]
        },
        {
          "name": "stdout",
          "output_type": "stream",
          "text": [
            "tensor(1.5161, device='cuda:0', grad_fn=<NllLossBackward>)\n"
          ]
        },
        {
          "name": "stderr",
          "output_type": "stream",
          "text": [
            "\n",
            "Iteration:  91%|█████████ | 29/32 [00:32<00:03,  1.16s/it]\u001b[A"
          ]
        },
        {
          "name": "stdout",
          "output_type": "stream",
          "text": [
            "tensor(1.3845, device='cuda:0', grad_fn=<NllLossBackward>)\n"
          ]
        },
        {
          "name": "stderr",
          "output_type": "stream",
          "text": [
            "\n",
            "Iteration:  94%|█████████▍| 30/32 [00:33<00:02,  1.16s/it]\u001b[A"
          ]
        },
        {
          "name": "stdout",
          "output_type": "stream",
          "text": [
            "tensor(2.3735, device='cuda:0', grad_fn=<NllLossBackward>)\n"
          ]
        },
        {
          "name": "stderr",
          "output_type": "stream",
          "text": [
            "\n",
            "Iteration:  97%|█████████▋| 31/32 [00:34<00:01,  1.17s/it]\u001b[A"
          ]
        },
        {
          "name": "stdout",
          "output_type": "stream",
          "text": [
            "tensor(1.5397, device='cuda:0', grad_fn=<NllLossBackward>)\n"
          ]
        },
        {
          "name": "stderr",
          "output_type": "stream",
          "text": [
            "\n",
            "Iteration: 100%|██████████| 32/32 [00:35<00:00,  1.12s/it]\n",
            "Epoch:  50%|█████     | 1/2 [00:35<00:35, 35.85s/it]\n",
            "Iteration:   0%|          | 0/32 [00:00<?, ?it/s]\u001b[A"
          ]
        },
        {
          "name": "stdout",
          "output_type": "stream",
          "text": [
            "tensor(1.4117, device='cuda:0', grad_fn=<NllLossBackward>)\n"
          ]
        },
        {
          "name": "stderr",
          "output_type": "stream",
          "text": [
            "\n",
            "Iteration:   3%|▎         | 1/32 [00:01<00:36,  1.18s/it]\u001b[A"
          ]
        },
        {
          "name": "stdout",
          "output_type": "stream",
          "text": [
            "tensor(1.4532, device='cuda:0', grad_fn=<NllLossBackward>)\n"
          ]
        },
        {
          "name": "stderr",
          "output_type": "stream",
          "text": [
            "\n",
            "Iteration:   6%|▋         | 2/32 [00:02<00:35,  1.17s/it]\u001b[A"
          ]
        },
        {
          "name": "stdout",
          "output_type": "stream",
          "text": [
            "tensor(1.4826, device='cuda:0', grad_fn=<NllLossBackward>)\n"
          ]
        },
        {
          "name": "stderr",
          "output_type": "stream",
          "text": [
            "\n",
            "Iteration:   9%|▉         | 3/32 [00:03<00:34,  1.18s/it]\u001b[A"
          ]
        },
        {
          "name": "stdout",
          "output_type": "stream",
          "text": [
            "tensor(2.6323, device='cuda:0', grad_fn=<NllLossBackward>)\n"
          ]
        },
        {
          "name": "stderr",
          "output_type": "stream",
          "text": [
            "\n",
            "Iteration:  12%|█▎        | 4/32 [00:04<00:32,  1.17s/it]\u001b[A"
          ]
        },
        {
          "name": "stdout",
          "output_type": "stream",
          "text": [
            "tensor(1.3588, device='cuda:0', grad_fn=<NllLossBackward>)\n"
          ]
        },
        {
          "name": "stderr",
          "output_type": "stream",
          "text": [
            "\n",
            "Iteration:  16%|█▌        | 5/32 [00:05<00:31,  1.17s/it]\u001b[A"
          ]
        },
        {
          "name": "stdout",
          "output_type": "stream",
          "text": [
            "tensor(0.7726, device='cuda:0', grad_fn=<NllLossBackward>)\n"
          ]
        },
        {
          "name": "stderr",
          "output_type": "stream",
          "text": [
            "\n",
            "Iteration:  19%|█▉        | 6/32 [00:07<00:30,  1.17s/it]\u001b[A"
          ]
        },
        {
          "name": "stdout",
          "output_type": "stream",
          "text": [
            "tensor(1.0932, device='cuda:0', grad_fn=<NllLossBackward>)\n"
          ]
        },
        {
          "name": "stderr",
          "output_type": "stream",
          "text": [
            "\n",
            "Iteration:  22%|██▏       | 7/32 [00:08<00:29,  1.16s/it]\u001b[A"
          ]
        },
        {
          "name": "stdout",
          "output_type": "stream",
          "text": [
            "tensor(1.9153, device='cuda:0', grad_fn=<NllLossBackward>)\n"
          ]
        },
        {
          "name": "stderr",
          "output_type": "stream",
          "text": [
            "\n",
            "Iteration:  25%|██▌       | 8/32 [00:09<00:27,  1.16s/it]\u001b[A"
          ]
        },
        {
          "name": "stdout",
          "output_type": "stream",
          "text": [
            "tensor(1.3555, device='cuda:0', grad_fn=<NllLossBackward>)\n"
          ]
        },
        {
          "name": "stderr",
          "output_type": "stream",
          "text": [
            "\n",
            "Iteration:  28%|██▊       | 9/32 [00:10<00:26,  1.16s/it]\u001b[A"
          ]
        },
        {
          "name": "stdout",
          "output_type": "stream",
          "text": [
            "tensor(1.7998, device='cuda:0', grad_fn=<NllLossBackward>)\n"
          ]
        },
        {
          "name": "stderr",
          "output_type": "stream",
          "text": [
            "\n",
            "Iteration:  31%|███▏      | 10/32 [00:11<00:25,  1.15s/it]\u001b[A"
          ]
        },
        {
          "name": "stdout",
          "output_type": "stream",
          "text": [
            "tensor(1.5003, device='cuda:0', grad_fn=<NllLossBackward>)\n"
          ]
        },
        {
          "name": "stderr",
          "output_type": "stream",
          "text": [
            "\n",
            "Iteration:  34%|███▍      | 11/32 [00:12<00:24,  1.14s/it]\u001b[A"
          ]
        },
        {
          "name": "stdout",
          "output_type": "stream",
          "text": [
            "tensor(1.5269, device='cuda:0', grad_fn=<NllLossBackward>)\n"
          ]
        },
        {
          "name": "stderr",
          "output_type": "stream",
          "text": [
            "\n",
            "Iteration:  38%|███▊      | 12/32 [00:13<00:22,  1.14s/it]\u001b[A"
          ]
        },
        {
          "name": "stdout",
          "output_type": "stream",
          "text": [
            "tensor(1.3826, device='cuda:0', grad_fn=<NllLossBackward>)\n"
          ]
        },
        {
          "name": "stderr",
          "output_type": "stream",
          "text": [
            "\n",
            "Iteration:  41%|████      | 13/32 [00:15<00:21,  1.14s/it]\u001b[A"
          ]
        },
        {
          "name": "stdout",
          "output_type": "stream",
          "text": [
            "tensor(1.5955, device='cuda:0', grad_fn=<NllLossBackward>)\n"
          ]
        },
        {
          "name": "stderr",
          "output_type": "stream",
          "text": [
            "\n",
            "Iteration:  44%|████▍     | 14/32 [00:16<00:20,  1.14s/it]\u001b[A"
          ]
        },
        {
          "name": "stdout",
          "output_type": "stream",
          "text": [
            "tensor(1.5773, device='cuda:0', grad_fn=<NllLossBackward>)\n"
          ]
        },
        {
          "name": "stderr",
          "output_type": "stream",
          "text": [
            "\n",
            "Iteration:  47%|████▋     | 15/32 [00:17<00:19,  1.13s/it]\u001b[A"
          ]
        },
        {
          "name": "stdout",
          "output_type": "stream",
          "text": [
            "tensor(1.4181, device='cuda:0', grad_fn=<NllLossBackward>)\n"
          ]
        },
        {
          "name": "stderr",
          "output_type": "stream",
          "text": [
            "\n",
            "Iteration:  50%|█████     | 16/32 [00:18<00:18,  1.13s/it]\u001b[A"
          ]
        },
        {
          "name": "stdout",
          "output_type": "stream",
          "text": [
            "tensor(1.5239, device='cuda:0', grad_fn=<NllLossBackward>)\n"
          ]
        },
        {
          "name": "stderr",
          "output_type": "stream",
          "text": [
            "\n",
            "Iteration:  53%|█████▎    | 17/32 [00:19<00:16,  1.12s/it]\u001b[A"
          ]
        },
        {
          "name": "stdout",
          "output_type": "stream",
          "text": [
            "tensor(1.4001, device='cuda:0', grad_fn=<NllLossBackward>)\n"
          ]
        },
        {
          "name": "stderr",
          "output_type": "stream",
          "text": [
            "\n",
            "Iteration:  56%|█████▋    | 18/32 [00:20<00:15,  1.12s/it]\u001b[A"
          ]
        },
        {
          "name": "stdout",
          "output_type": "stream",
          "text": [
            "tensor(1.5998, device='cuda:0', grad_fn=<NllLossBackward>)\n"
          ]
        },
        {
          "name": "stderr",
          "output_type": "stream",
          "text": [
            "\n",
            "Iteration:  59%|█████▉    | 19/32 [00:21<00:14,  1.12s/it]\u001b[A"
          ]
        },
        {
          "name": "stdout",
          "output_type": "stream",
          "text": [
            "tensor(1.7401, device='cuda:0', grad_fn=<NllLossBackward>)\n"
          ]
        },
        {
          "name": "stderr",
          "output_type": "stream",
          "text": [
            "\n",
            "Iteration:  62%|██████▎   | 20/32 [00:22<00:13,  1.12s/it]\u001b[A"
          ]
        },
        {
          "name": "stdout",
          "output_type": "stream",
          "text": [
            "tensor(1.4382, device='cuda:0', grad_fn=<NllLossBackward>)\n"
          ]
        },
        {
          "name": "stderr",
          "output_type": "stream",
          "text": [
            "\n",
            "Iteration:  66%|██████▌   | 21/32 [00:23<00:12,  1.11s/it]\u001b[A"
          ]
        },
        {
          "name": "stdout",
          "output_type": "stream",
          "text": [
            "tensor(1.5681, device='cuda:0', grad_fn=<NllLossBackward>)\n"
          ]
        },
        {
          "name": "stderr",
          "output_type": "stream",
          "text": [
            "\n",
            "Iteration:  69%|██████▉   | 22/32 [00:25<00:11,  1.11s/it]\u001b[A"
          ]
        },
        {
          "name": "stdout",
          "output_type": "stream",
          "text": [
            "tensor(1.5597, device='cuda:0', grad_fn=<NllLossBackward>)\n"
          ]
        },
        {
          "name": "stderr",
          "output_type": "stream",
          "text": [
            "\n",
            "Iteration:  72%|███████▏  | 23/32 [00:26<00:09,  1.11s/it]\u001b[A"
          ]
        },
        {
          "name": "stdout",
          "output_type": "stream",
          "text": [
            "tensor(1.3345, device='cuda:0', grad_fn=<NllLossBackward>)\n"
          ]
        },
        {
          "name": "stderr",
          "output_type": "stream",
          "text": [
            "\n",
            "Iteration:  75%|███████▌  | 24/32 [00:27<00:08,  1.11s/it]\u001b[A"
          ]
        },
        {
          "name": "stdout",
          "output_type": "stream",
          "text": [
            "tensor(1.2730, device='cuda:0', grad_fn=<NllLossBackward>)\n"
          ]
        },
        {
          "name": "stderr",
          "output_type": "stream",
          "text": [
            "\n",
            "Iteration:  78%|███████▊  | 25/32 [00:28<00:07,  1.11s/it]\u001b[A"
          ]
        },
        {
          "name": "stdout",
          "output_type": "stream",
          "text": [
            "tensor(1.7631, device='cuda:0', grad_fn=<NllLossBackward>)\n"
          ]
        },
        {
          "name": "stderr",
          "output_type": "stream",
          "text": [
            "\n",
            "Iteration:  81%|████████▏ | 26/32 [00:29<00:06,  1.11s/it]\u001b[A"
          ]
        },
        {
          "name": "stdout",
          "output_type": "stream",
          "text": [
            "tensor(1.8818, device='cuda:0', grad_fn=<NllLossBackward>)\n"
          ]
        },
        {
          "name": "stderr",
          "output_type": "stream",
          "text": [
            "\n",
            "Iteration:  84%|████████▍ | 27/32 [00:30<00:05,  1.10s/it]\u001b[A"
          ]
        },
        {
          "name": "stdout",
          "output_type": "stream",
          "text": [
            "tensor(2.7091, device='cuda:0', grad_fn=<NllLossBackward>)\n"
          ]
        },
        {
          "name": "stderr",
          "output_type": "stream",
          "text": [
            "\n",
            "Iteration:  88%|████████▊ | 28/32 [00:31<00:04,  1.10s/it]\u001b[A"
          ]
        },
        {
          "name": "stdout",
          "output_type": "stream",
          "text": [
            "tensor(1.5078, device='cuda:0', grad_fn=<NllLossBackward>)\n"
          ]
        },
        {
          "name": "stderr",
          "output_type": "stream",
          "text": [
            "\n",
            "Iteration:  91%|█████████ | 29/32 [00:32<00:03,  1.11s/it]\u001b[A"
          ]
        },
        {
          "name": "stdout",
          "output_type": "stream",
          "text": [
            "tensor(1.3712, device='cuda:0', grad_fn=<NllLossBackward>)\n"
          ]
        },
        {
          "name": "stderr",
          "output_type": "stream",
          "text": [
            "\n",
            "Iteration:  94%|█████████▍| 30/32 [00:33<00:02,  1.11s/it]\u001b[A"
          ]
        },
        {
          "name": "stdout",
          "output_type": "stream",
          "text": [
            "tensor(1.4023, device='cuda:0', grad_fn=<NllLossBackward>)\n"
          ]
        },
        {
          "name": "stderr",
          "output_type": "stream",
          "text": [
            "\n",
            "Iteration:  97%|█████████▋| 31/32 [00:35<00:01,  1.11s/it]\u001b[A"
          ]
        },
        {
          "name": "stdout",
          "output_type": "stream",
          "text": [
            "tensor(1.5262, device='cuda:0', grad_fn=<NllLossBackward>)\n"
          ]
        },
        {
          "name": "stderr",
          "output_type": "stream",
          "text": [
            "\n",
            "Iteration: 100%|██████████| 32/32 [00:36<00:00,  1.13s/it]\n",
            "Epoch: 100%|██████████| 2/2 [01:11<00:00, 35.99s/it]\n"
          ]
        }
      ],
      "source": [
        "p_encoder, q_encoder = train(args, train_dataset, p_encoder, q_encoder)"
      ]
    },
    {
      "cell_type": "markdown",
      "metadata": {
        "id": "BGOw-k7Ln85t"
      },
      "source": [
        "## Dense Embedding을 활용하여 passage retrieval 실습해보기"
      ]
    },
    {
      "cell_type": "code",
      "execution_count": null,
      "metadata": {
        "colab": {
          "base_uri": "https://localhost:8080/"
        },
        "id": "NouB9uBcTaws",
        "outputId": "f2446b6c-3008-4350-be54-140b194a1a07"
      },
      "outputs": [
        {
          "name": "stdout",
          "output_type": "stream",
          "text": [
            "유아인에게 타고난 배우라고 말한 드라마 밀회의 감독은?\n",
            "화보 촬영을 위해 미국에 있을 때, 김희애의 연락을 통해 JTBC 드라마 《밀회》의 캐스팅을 제안받았다. 당시 영화 《베테랑》에 이미 캐스팅된 상태였으나, 유아인은 류승완 감독과 제작사의 양해를 얻어 《밀회》에 출연한다. 천재 피아니스트 ‘이선재’ 역할을 위해 피아니스트들의 영상을 보고 곡의 스피드와 건반 위치 등을 외워 실제 타건을 하며 촬영했다. 피아노 울림판을 수건으로 막고 타건을 하면, 그 후 대역 피아니스트의 소리를 덧입히는 방식이었다. 《밀회》는 작품성을 인정받고 숱한 화제를 낳으며 당시 종편으로서는 높은 시청률을 기록했다. 유아인은 섬세한 연기력을 선보여 순수함으로 시청자들을 매료시켰다는 호평을 얻었고, 특히 피아노 연주에 있어서 클래식 종사자들에게 인정을 받았다. 연출을 맡은 안판석 감독은 유아인에 대해 “느낌으로만 연기를 하는 게 아니고 감성을 지적으로 통제해 가면서 연기한다. 그 나이에”라며 “타고난 배우”라고 말했다. 유아인은 《밀회》를 통해 예술적인 면모를 구체화할 수 있어서 만족감을 느꼈다고 밝혔으며, 종영 후 자신의 페이스북 계정에 긴 소감글을 남겼다. 특히 ‘이선재’ 캐릭터를 배우 유아인이 가진 소년성의 엑기스로 생각하며, 2015년 10월 부산국제영화제 오픈토크에서는 본인이 가장 좋아하는 캐릭터로 꼽았다. \n",
            "\n",
            "\n"
          ]
        }
      ],
      "source": [
        "\n",
        "valid_corpus = list(set([example['context'] for example in dataset['validation']]))[:10]\n",
        "sample_idx = random.choice(range(len(dataset['validation'])))\n",
        "query = dataset['validation'][sample_idx]['question']\n",
        "ground_truth = dataset['validation'][sample_idx]['context']\n",
        "\n",
        "if not ground_truth in valid_corpus:\n",
        "  valid_corpus.append(ground_truth)\n",
        "\n",
        "print(query)\n",
        "print(ground_truth, '\\n\\n')\n",
        "\n",
        "# valid_corpus"
      ]
    },
    {
      "cell_type": "markdown",
      "metadata": {
        "id": "05D8GzFrJhHO"
      },
      "source": [
        "앞서 학습한 passage encoder, question encoder을 이용해 dense embedding 생성"
      ]
    },
    {
      "cell_type": "code",
      "execution_count": null,
      "metadata": {
        "id": "ba-hH3NQOEWJ"
      },
      "outputs": [],
      "source": [
        "def to_cuda(batch):\n",
        "  return tuple(t.cuda() for t in batch)"
      ]
    },
    {
      "cell_type": "code",
      "execution_count": null,
      "metadata": {
        "colab": {
          "base_uri": "https://localhost:8080/"
        },
        "id": "YufA_ayPJBRg",
        "outputId": "fa600009-393a-4f93-871e-bff93675d05e"
      },
      "outputs": [
        {
          "name": "stdout",
          "output_type": "stream",
          "text": [
            "torch.Size([11, 768]) torch.Size([1, 768])\n"
          ]
        }
      ],
      "source": [
        "with torch.no_grad():\n",
        "  p_encoder.eval()\n",
        "  q_encoder.eval()\n",
        "\n",
        "  q_seqs_val = tokenizer([query], padding=\"max_length\", truncation=True, return_tensors='pt').to('cuda')\n",
        "  q_emb = q_encoder(**q_seqs_val).to('cpu')  #(num_query, emb_dim)\n",
        "\n",
        "  p_embs = []\n",
        "  for p in valid_corpus:\n",
        "    p = tokenizer(p, padding=\"max_length\", truncation=True, return_tensors='pt').to('cuda')\n",
        "    p_emb = p_encoder(**p).to('cpu').numpy()\n",
        "    p_embs.append(p_emb)\n",
        "\n",
        "p_embs = torch.Tensor(p_embs).squeeze()  # (num_passage, emb_dim)\n",
        "\n",
        "print(p_embs.size(), q_emb.size())"
      ]
    },
    {
      "cell_type": "markdown",
      "metadata": {
        "id": "pOHHak7WS1ko"
      },
      "source": [
        "생성된 embedding에 dot product를 수행 => Document들의 similarity ranking을 구함"
      ]
    },
    {
      "cell_type": "code",
      "execution_count": null,
      "metadata": {
        "colab": {
          "base_uri": "https://localhost:8080/"
        },
        "id": "xn5Cx5JkKZJB",
        "outputId": "eb232f4f-bdae-474d-b630-a13d0b563364"
      },
      "outputs": [
        {
          "name": "stdout",
          "output_type": "stream",
          "text": [
            "torch.Size([1, 11])\n",
            "tensor([[22.0175, 22.0863, 21.9051, 21.7622, 22.2768, 22.1047, 21.9458, 22.1937,\n",
            "         22.1052, 22.4834, 22.4642]])\n",
            "tensor([ 9, 10,  4,  7,  8,  5,  1,  0,  6,  2,  3])\n"
          ]
        }
      ],
      "source": [
        "dot_prod_scores = torch.matmul(q_emb, torch.transpose(p_embs, 0, 1))\n",
        "print(dot_prod_scores.size())\n",
        "\n",
        "rank = torch.argsort(dot_prod_scores, dim=1, descending=True).squeeze()\n",
        "print(dot_prod_scores)\n",
        "print(rank)"
      ]
    },
    {
      "cell_type": "markdown",
      "metadata": {
        "id": "Oq2Oiv8MKVS6"
      },
      "source": [
        "Top-5개의 passage를 retrieve 하고 ground truth와 비교하기"
      ]
    },
    {
      "cell_type": "code",
      "execution_count": null,
      "metadata": {
        "colab": {
          "base_uri": "https://localhost:8080/"
        },
        "id": "WaStRXYdJ-wI",
        "outputId": "bbf42d40-dfae-49ff-bf12-139452b5849f"
      },
      "outputs": [
        {
          "name": "stdout",
          "output_type": "stream",
          "text": [
            "[Search query]\n",
            " 유아인에게 타고난 배우라고 말한 드라마 밀회의 감독은? \n",
            "\n",
            "[Ground truth passage]\n",
            "화보 촬영을 위해 미국에 있을 때, 김희애의 연락을 통해 JTBC 드라마 《밀회》의 캐스팅을 제안받았다. 당시 영화 《베테랑》에 이미 캐스팅된 상태였으나, 유아인은 류승완 감독과 제작사의 양해를 얻어 《밀회》에 출연한다. 천재 피아니스트 ‘이선재’ 역할을 위해 피아니스트들의 영상을 보고 곡의 스피드와 건반 위치 등을 외워 실제 타건을 하며 촬영했다. 피아노 울림판을 수건으로 막고 타건을 하면, 그 후 대역 피아니스트의 소리를 덧입히는 방식이었다. 《밀회》는 작품성을 인정받고 숱한 화제를 낳으며 당시 종편으로서는 높은 시청률을 기록했다. 유아인은 섬세한 연기력을 선보여 순수함으로 시청자들을 매료시켰다는 호평을 얻었고, 특히 피아노 연주에 있어서 클래식 종사자들에게 인정을 받았다. 연출을 맡은 안판석 감독은 유아인에 대해 “느낌으로만 연기를 하는 게 아니고 감성을 지적으로 통제해 가면서 연기한다. 그 나이에”라며 “타고난 배우”라고 말했다. 유아인은 《밀회》를 통해 예술적인 면모를 구체화할 수 있어서 만족감을 느꼈다고 밝혔으며, 종영 후 자신의 페이스북 계정에 긴 소감글을 남겼다. 특히 ‘이선재’ 캐릭터를 배우 유아인이 가진 소년성의 엑기스로 생각하며, 2015년 10월 부산국제영화제 오픈토크에서는 본인이 가장 좋아하는 캐릭터로 꼽았다. \n",
            "\n",
            "Top-1 passage with score 22.4834\n",
            "2010년 4월에는 유럽발 재정위기가 발생하면서 또 한 번 세계경제는 대침체에 빠졌다. 또한 2011년 8월에는 S&P에 의해 미국의 국가신용등급이 강등되면서 세계 경제는 또 한 번의 충격에 빠졌다. 이에 중국, 일본과 맺은 통화스와프를 확대하고 균형재정을 선언하는 등 위기극복에 나섰다. 그 결과 한국은 2012년 8월 무디스, 피치, S&P등 3대 신용평가사로부터 사상 최고의 국가신용등급을 받았고, 특히 피치로부터 받은 국가신용등급은 사상 처음으로 중국과 일본을 앞섰다. 가장 논란이 된 것은 4대강 살리기 사업으로 반대 진영은 경제효과 의문, 녹조 등 환경파괴, 부실공사, 공기업, 부실재정, 유지보수비용, 기업의 입찰담합 등을 주장하며 대대적인 비난에 나섰다. 그러나 2015년에 대법원은 한강, 낙동강, 금강 영산강에서 진행된 4대강 사업 모두 적법 판결을 내렸다. 또한 2015년에는 4대강 보의 물을 가뭄지역에 공급하는 사업이 추진되기도 하였다. 대북 정책에 있어서는 금강산 관광객 피격 사망 사건, 천안함·연평도 포격 사건 및 북핵 문제 등과 같은 북한의 도발에 대해 금강산 관광 중단, 5.24조치 실시 등 강력한 대북경제제재를 취하며 국제사회에 공조 하여 대북압박에 나섰다. 또한 다른 한편으로 북한이 대북지원을 요구하며 수차례 집요하게 남북 정상회담 개최를 요구해 왔지만 원칙 있는 대북 정책을 위해 이를 거부했다.\n",
            "Top-2 passage with score 22.4642\n",
            "화보 촬영을 위해 미국에 있을 때, 김희애의 연락을 통해 JTBC 드라마 《밀회》의 캐스팅을 제안받았다. 당시 영화 《베테랑》에 이미 캐스팅된 상태였으나, 유아인은 류승완 감독과 제작사의 양해를 얻어 《밀회》에 출연한다. 천재 피아니스트 ‘이선재’ 역할을 위해 피아니스트들의 영상을 보고 곡의 스피드와 건반 위치 등을 외워 실제 타건을 하며 촬영했다. 피아노 울림판을 수건으로 막고 타건을 하면, 그 후 대역 피아니스트의 소리를 덧입히는 방식이었다. 《밀회》는 작품성을 인정받고 숱한 화제를 낳으며 당시 종편으로서는 높은 시청률을 기록했다. 유아인은 섬세한 연기력을 선보여 순수함으로 시청자들을 매료시켰다는 호평을 얻었고, 특히 피아노 연주에 있어서 클래식 종사자들에게 인정을 받았다. 연출을 맡은 안판석 감독은 유아인에 대해 “느낌으로만 연기를 하는 게 아니고 감성을 지적으로 통제해 가면서 연기한다. 그 나이에”라며 “타고난 배우”라고 말했다. 유아인은 《밀회》를 통해 예술적인 면모를 구체화할 수 있어서 만족감을 느꼈다고 밝혔으며, 종영 후 자신의 페이스북 계정에 긴 소감글을 남겼다. 특히 ‘이선재’ 캐릭터를 배우 유아인이 가진 소년성의 엑기스로 생각하며, 2015년 10월 부산국제영화제 오픈토크에서는 본인이 가장 좋아하는 캐릭터로 꼽았다.\n",
            "Top-3 passage with score 22.2768\n",
            "일본 제국의 패망 이후, 일본 안에서도 천황이 전범으로 재판을 받아야 하며 쇼와 천황이 물러나야 한다는 여론이 진보계 지식인들 사이에서 퍼지기 시작했다. 1946년 12월 도쿄 대학 총장 난바라 시게루는 의회에 출석해 천황제의 폐지를 주장했으며 시인인 미요시 다쓰지는 국민을 퇴폐로부터 헤어나오게 하기 위해서는 전쟁의 최고 책임자인 쇼와 천황이 물러나는 것이 최선이라는 글을 발표했다. 시데하라 기주로 내각에서 문부대신을 지낸 철학자 아베 요시시게는 “국민에게 복종을 강요하는 천황 스스로가 책임이 없다고 하는 것은 모순”이라고 비판했으며, 쇼와 천황의 측근이었던 기도 고이치도 샌프란시스코 강화조약의 체결을 앞두고 “황실의 안녕을 위해 쇼와 천황이 물러나는 게 좋을 것 같다”는 말을 했다.\n",
            "Top-4 passage with score 22.1937\n",
            "이어 10월 15일 부산대학교 학생들에 의해 민주선언문이 배포되고, 다음 날인 10월 16일에는 다른 대학교의 학생들과 시민들이 가담하여 대규모 독재타도, 반정부시위가 시작됐다. 10월 16일과 10월 17일 부산에서는 김영삼에 대한 정치탄압 중단과 유신정권 타도 등을 외쳤고 10월 18일과 10월 19일에는 경상남도 마산시 및 창원시 지역으로 시위가 확산되었다. 10월 16일 오후 김영삼은 상도동 자택에서 부산에서 걸려온 전화를 받고 부마 사태 소식을 접하였다. 김영삼의 제명은 부마 항쟁을 촉발했고, 이는 유신 정권 종식의 계기가 되었다. 한편 유신 후반기에 그는 '닭의 모가지를 비틀어도 새벽은 반드시 온다.'고 했는데, 10.26 사태 이후 그의 이 발언이 널리 회자화되기도 했다.\n",
            "Top-5 passage with score 22.1052\n",
            "1991년 변호사를 개업했고, 얼마 되지 않아 인천 산곡동 경남아파트 주민집단소송 사건을 수임하였다. 건설사가 아파트의 간격을 기준보다 가깝게 지어 햇볕이 들지 않아 정상적 생활이 불가능한 상황이 발생하였다. 건설사와 보상 협의를 시도했으나 결렬되었고, 구청에도 요청했으나 소용이 없었다. 이에 주민들은 서울 남부지법에 공동으로 민사소송을 제기하게 된다. 당시 헌법35조에 명시된 환경권은 그저 조문일 뿐 형사·민사상 판례는 전무하였다. 이에 오세훈 변호사는 같은 대륙법계 국가인 옆나라 일본의 건축기본법과 판례를 연구해 변론자료로 사용하였고, 한국감정원의 감정촉탁의뢰, 그리고 서울대 건축공학과 김광우 교수를 감정인으로 선임하여 과학적인 피해보상액을 산정하였다. 결국 2년 6개월에 걸친 법정싸움 끝에 1심에서 재판부는 주민들의 손을 들어 주고 건설사가 주민들에게 총 13억원을 배상하라는 판결을 내렸다. 이에 건설사는 대표변호사로 오성환 전 대법관을 수임하여 서울 고등법원에 항소하였으나, 2년 후 서울고등법원 항소심에서도 주민들의 손을 들어주었다. 이는 헌법 조문상으로만 존재했던 환경권이 실질적 권리로 인정받은 대한민국 최초의 사건이었고, 법원은 구체적인 일조권 침해의 기준을 마련하게 되었다. 당시 건축법시행령 제86조 제2호 (나) 목에 의하면 연속하여 일조를 확보하는 기준을 건축조례에 위임한다고 되어 있었지만, 당시 지방자치단체에는 관련 조례가 전무하였다. 그리하여 일조권을 침해받아도 행정기관으로부터 '법적 하자가 없다'고 반문하면 아무것도 할 수 없었지만, 이 판결을 계기로 '동지일을 기준으로 9시부터 15시까지 6시간동안 일조시간이 2시간 이상 연속으로 확보되어야 한다'는 구체적인 기준이 마련됨에 따라 피해보상을 받을 수 있는 길이 열리게 되었다. 이러한 경험을 바탕으로 한국토지공법학회 학술저널에 '일조권에 대한 사법적 검토'라는 제목의 학술논문을 게재하였다. 본격적으로 오세훈은 환경 변호사로 이름을 알리기 시작했다. 1997년 서울시 구로구 재건축현장에서 고층 아파트에 가려 주변 단독주택 거주자들의 일조권이 침해당한 사건이 발생하였을 때도 1심에선 이미 패소한 상황에서 오세훈 변호사는 2심에서 공사중지 판결을 이끌어냈다.\n"
          ]
        }
      ],
      "source": [
        "k = 5\n",
        "print(\"[Search query]\\n\", query, \"\\n\")\n",
        "print(\"[Ground truth passage]\")\n",
        "print(ground_truth, \"\\n\")\n",
        "\n",
        "for i in range(k):\n",
        "  print(\"Top-%d passage with score %.4f\" % (i+1, dot_prod_scores.squeeze()[rank[i]]))\n",
        "  print(valid_corpus[rank[i]])"
      ]
    },
    {
      "cell_type": "code",
      "execution_count": null,
      "metadata": {
        "id": "lBaKYpdoXDcW"
      },
      "outputs": [],
      "source": [
        ""
      ]
    }
  ],
  "metadata": {
    "accelerator": "GPU",
    "colab": {
      "collapsed_sections": [],
      "name": "MRC Practice 5 - Dense Passage Retrieval (In-batch).ipynb의 사본",
      "provenance": [],
      "include_colab_link": true
    },
    "kernelspec": {
      "display_name": "Python 3 (ipykernel)",
      "language": "python",
      "name": "python3"
    },
    "language_info": {
      "codemirror_mode": {
        "name": "ipython",
        "version": 3
      },
      "file_extension": ".py",
      "mimetype": "text/x-python",
      "name": "python",
      "nbconvert_exporter": "python",
      "pygments_lexer": "ipython3",
      "version": "3.8.0"
    },
    "widgets": {
      "application/vnd.jupyter.widget-state+json": {
        "584f213d2c9f4714a834491bf6b5f333": {
          "model_module": "@jupyter-widgets/controls",
          "model_name": "HBoxModel",
          "model_module_version": "1.5.0",
          "state": {
            "_view_name": "HBoxView",
            "_dom_classes": [],
            "_model_name": "HBoxModel",
            "_view_module": "@jupyter-widgets/controls",
            "_model_module_version": "1.5.0",
            "_view_count": null,
            "_view_module_version": "1.5.0",
            "box_style": "",
            "layout": "IPY_MODEL_056eac91148b436888efdf82a7eb3df3",
            "_model_module": "@jupyter-widgets/controls",
            "children": [
              "IPY_MODEL_c2adf9670fb74ff28ebee5bda1ebd314",
              "IPY_MODEL_db573239a82b439987e17ecdb1d76a26",
              "IPY_MODEL_1399e95feb854416b5a37c6aa3c52865"
            ]
          }
        },
        "056eac91148b436888efdf82a7eb3df3": {
          "model_module": "@jupyter-widgets/base",
          "model_name": "LayoutModel",
          "model_module_version": "1.2.0",
          "state": {
            "_view_name": "LayoutView",
            "grid_template_rows": null,
            "right": null,
            "justify_content": null,
            "_view_module": "@jupyter-widgets/base",
            "overflow": null,
            "_model_module_version": "1.2.0",
            "_view_count": null,
            "flex_flow": null,
            "width": null,
            "min_width": null,
            "border": null,
            "align_items": null,
            "bottom": null,
            "_model_module": "@jupyter-widgets/base",
            "top": null,
            "grid_column": null,
            "overflow_y": null,
            "overflow_x": null,
            "grid_auto_flow": null,
            "grid_area": null,
            "grid_template_columns": null,
            "flex": null,
            "_model_name": "LayoutModel",
            "justify_items": null,
            "grid_row": null,
            "max_height": null,
            "align_content": null,
            "visibility": null,
            "align_self": null,
            "height": null,
            "min_height": null,
            "padding": null,
            "grid_auto_rows": null,
            "grid_gap": null,
            "max_width": null,
            "order": null,
            "_view_module_version": "1.2.0",
            "grid_template_areas": null,
            "object_position": null,
            "object_fit": null,
            "grid_auto_columns": null,
            "margin": null,
            "display": null,
            "left": null
          }
        },
        "c2adf9670fb74ff28ebee5bda1ebd314": {
          "model_module": "@jupyter-widgets/controls",
          "model_name": "HTMLModel",
          "model_module_version": "1.5.0",
          "state": {
            "_view_name": "HTMLView",
            "style": "IPY_MODEL_9d404e29e8174afc83f28f80606e7421",
            "_dom_classes": [],
            "description": "",
            "_model_name": "HTMLModel",
            "placeholder": "​",
            "_view_module": "@jupyter-widgets/controls",
            "_model_module_version": "1.5.0",
            "value": "Downloading: ",
            "_view_count": null,
            "_view_module_version": "1.5.0",
            "description_tooltip": null,
            "_model_module": "@jupyter-widgets/controls",
            "layout": "IPY_MODEL_12e430240c61498eaf56e12c7276fac5"
          }
        },
        "db573239a82b439987e17ecdb1d76a26": {
          "model_module": "@jupyter-widgets/controls",
          "model_name": "FloatProgressModel",
          "model_module_version": "1.5.0",
          "state": {
            "_view_name": "ProgressView",
            "style": "IPY_MODEL_0ec7e87ccdf44f1e91d806cd8f7a1107",
            "_dom_classes": [],
            "description": "",
            "_model_name": "FloatProgressModel",
            "bar_style": "success",
            "max": 1781,
            "_view_module": "@jupyter-widgets/controls",
            "_model_module_version": "1.5.0",
            "value": 1781,
            "_view_count": null,
            "_view_module_version": "1.5.0",
            "orientation": "horizontal",
            "min": 0,
            "description_tooltip": null,
            "_model_module": "@jupyter-widgets/controls",
            "layout": "IPY_MODEL_2866f8e13704459c9752872d75653dc1"
          }
        },
        "1399e95feb854416b5a37c6aa3c52865": {
          "model_module": "@jupyter-widgets/controls",
          "model_name": "HTMLModel",
          "model_module_version": "1.5.0",
          "state": {
            "_view_name": "HTMLView",
            "style": "IPY_MODEL_932d5fa169104a0082155eeb542a178b",
            "_dom_classes": [],
            "description": "",
            "_model_name": "HTMLModel",
            "placeholder": "​",
            "_view_module": "@jupyter-widgets/controls",
            "_model_module_version": "1.5.0",
            "value": " 4.76k/? [00:00&lt;00:00, 117kB/s]",
            "_view_count": null,
            "_view_module_version": "1.5.0",
            "description_tooltip": null,
            "_model_module": "@jupyter-widgets/controls",
            "layout": "IPY_MODEL_86a236b159b94c38ab6b9a4e0d8cc558"
          }
        },
        "9d404e29e8174afc83f28f80606e7421": {
          "model_module": "@jupyter-widgets/controls",
          "model_name": "DescriptionStyleModel",
          "model_module_version": "1.5.0",
          "state": {
            "_view_name": "StyleView",
            "_model_name": "DescriptionStyleModel",
            "description_width": "",
            "_view_module": "@jupyter-widgets/base",
            "_model_module_version": "1.5.0",
            "_view_count": null,
            "_view_module_version": "1.2.0",
            "_model_module": "@jupyter-widgets/controls"
          }
        },
        "12e430240c61498eaf56e12c7276fac5": {
          "model_module": "@jupyter-widgets/base",
          "model_name": "LayoutModel",
          "model_module_version": "1.2.0",
          "state": {
            "_view_name": "LayoutView",
            "grid_template_rows": null,
            "right": null,
            "justify_content": null,
            "_view_module": "@jupyter-widgets/base",
            "overflow": null,
            "_model_module_version": "1.2.0",
            "_view_count": null,
            "flex_flow": null,
            "width": null,
            "min_width": null,
            "border": null,
            "align_items": null,
            "bottom": null,
            "_model_module": "@jupyter-widgets/base",
            "top": null,
            "grid_column": null,
            "overflow_y": null,
            "overflow_x": null,
            "grid_auto_flow": null,
            "grid_area": null,
            "grid_template_columns": null,
            "flex": null,
            "_model_name": "LayoutModel",
            "justify_items": null,
            "grid_row": null,
            "max_height": null,
            "align_content": null,
            "visibility": null,
            "align_self": null,
            "height": null,
            "min_height": null,
            "padding": null,
            "grid_auto_rows": null,
            "grid_gap": null,
            "max_width": null,
            "order": null,
            "_view_module_version": "1.2.0",
            "grid_template_areas": null,
            "object_position": null,
            "object_fit": null,
            "grid_auto_columns": null,
            "margin": null,
            "display": null,
            "left": null
          }
        },
        "0ec7e87ccdf44f1e91d806cd8f7a1107": {
          "model_module": "@jupyter-widgets/controls",
          "model_name": "ProgressStyleModel",
          "model_module_version": "1.5.0",
          "state": {
            "_view_name": "StyleView",
            "_model_name": "ProgressStyleModel",
            "description_width": "",
            "_view_module": "@jupyter-widgets/base",
            "_model_module_version": "1.5.0",
            "_view_count": null,
            "_view_module_version": "1.2.0",
            "bar_color": null,
            "_model_module": "@jupyter-widgets/controls"
          }
        },
        "2866f8e13704459c9752872d75653dc1": {
          "model_module": "@jupyter-widgets/base",
          "model_name": "LayoutModel",
          "model_module_version": "1.2.0",
          "state": {
            "_view_name": "LayoutView",
            "grid_template_rows": null,
            "right": null,
            "justify_content": null,
            "_view_module": "@jupyter-widgets/base",
            "overflow": null,
            "_model_module_version": "1.2.0",
            "_view_count": null,
            "flex_flow": null,
            "width": null,
            "min_width": null,
            "border": null,
            "align_items": null,
            "bottom": null,
            "_model_module": "@jupyter-widgets/base",
            "top": null,
            "grid_column": null,
            "overflow_y": null,
            "overflow_x": null,
            "grid_auto_flow": null,
            "grid_area": null,
            "grid_template_columns": null,
            "flex": null,
            "_model_name": "LayoutModel",
            "justify_items": null,
            "grid_row": null,
            "max_height": null,
            "align_content": null,
            "visibility": null,
            "align_self": null,
            "height": null,
            "min_height": null,
            "padding": null,
            "grid_auto_rows": null,
            "grid_gap": null,
            "max_width": null,
            "order": null,
            "_view_module_version": "1.2.0",
            "grid_template_areas": null,
            "object_position": null,
            "object_fit": null,
            "grid_auto_columns": null,
            "margin": null,
            "display": null,
            "left": null
          }
        },
        "932d5fa169104a0082155eeb542a178b": {
          "model_module": "@jupyter-widgets/controls",
          "model_name": "DescriptionStyleModel",
          "model_module_version": "1.5.0",
          "state": {
            "_view_name": "StyleView",
            "_model_name": "DescriptionStyleModel",
            "description_width": "",
            "_view_module": "@jupyter-widgets/base",
            "_model_module_version": "1.5.0",
            "_view_count": null,
            "_view_module_version": "1.2.0",
            "_model_module": "@jupyter-widgets/controls"
          }
        },
        "86a236b159b94c38ab6b9a4e0d8cc558": {
          "model_module": "@jupyter-widgets/base",
          "model_name": "LayoutModel",
          "model_module_version": "1.2.0",
          "state": {
            "_view_name": "LayoutView",
            "grid_template_rows": null,
            "right": null,
            "justify_content": null,
            "_view_module": "@jupyter-widgets/base",
            "overflow": null,
            "_model_module_version": "1.2.0",
            "_view_count": null,
            "flex_flow": null,
            "width": null,
            "min_width": null,
            "border": null,
            "align_items": null,
            "bottom": null,
            "_model_module": "@jupyter-widgets/base",
            "top": null,
            "grid_column": null,
            "overflow_y": null,
            "overflow_x": null,
            "grid_auto_flow": null,
            "grid_area": null,
            "grid_template_columns": null,
            "flex": null,
            "_model_name": "LayoutModel",
            "justify_items": null,
            "grid_row": null,
            "max_height": null,
            "align_content": null,
            "visibility": null,
            "align_self": null,
            "height": null,
            "min_height": null,
            "padding": null,
            "grid_auto_rows": null,
            "grid_gap": null,
            "max_width": null,
            "order": null,
            "_view_module_version": "1.2.0",
            "grid_template_areas": null,
            "object_position": null,
            "object_fit": null,
            "grid_auto_columns": null,
            "margin": null,
            "display": null,
            "left": null
          }
        },
        "918aae0fe94e46f2a42396dcb64204a9": {
          "model_module": "@jupyter-widgets/controls",
          "model_name": "HBoxModel",
          "model_module_version": "1.5.0",
          "state": {
            "_view_name": "HBoxView",
            "_dom_classes": [],
            "_model_name": "HBoxModel",
            "_view_module": "@jupyter-widgets/controls",
            "_model_module_version": "1.5.0",
            "_view_count": null,
            "_view_module_version": "1.5.0",
            "box_style": "",
            "layout": "IPY_MODEL_68124d27f5fd4d7a8310eea78d44cdc5",
            "_model_module": "@jupyter-widgets/controls",
            "children": [
              "IPY_MODEL_8dcb3d76ceaf42189ade49899128a23e",
              "IPY_MODEL_3f011303a9244752bd125fd81bbacdf2",
              "IPY_MODEL_e0db9f2683d14f5fa638f7749cbcbb72"
            ]
          }
        },
        "68124d27f5fd4d7a8310eea78d44cdc5": {
          "model_module": "@jupyter-widgets/base",
          "model_name": "LayoutModel",
          "model_module_version": "1.2.0",
          "state": {
            "_view_name": "LayoutView",
            "grid_template_rows": null,
            "right": null,
            "justify_content": null,
            "_view_module": "@jupyter-widgets/base",
            "overflow": null,
            "_model_module_version": "1.2.0",
            "_view_count": null,
            "flex_flow": null,
            "width": null,
            "min_width": null,
            "border": null,
            "align_items": null,
            "bottom": null,
            "_model_module": "@jupyter-widgets/base",
            "top": null,
            "grid_column": null,
            "overflow_y": null,
            "overflow_x": null,
            "grid_auto_flow": null,
            "grid_area": null,
            "grid_template_columns": null,
            "flex": null,
            "_model_name": "LayoutModel",
            "justify_items": null,
            "grid_row": null,
            "max_height": null,
            "align_content": null,
            "visibility": null,
            "align_self": null,
            "height": null,
            "min_height": null,
            "padding": null,
            "grid_auto_rows": null,
            "grid_gap": null,
            "max_width": null,
            "order": null,
            "_view_module_version": "1.2.0",
            "grid_template_areas": null,
            "object_position": null,
            "object_fit": null,
            "grid_auto_columns": null,
            "margin": null,
            "display": null,
            "left": null
          }
        },
        "8dcb3d76ceaf42189ade49899128a23e": {
          "model_module": "@jupyter-widgets/controls",
          "model_name": "HTMLModel",
          "model_module_version": "1.5.0",
          "state": {
            "_view_name": "HTMLView",
            "style": "IPY_MODEL_26ddc8e7c6974998a9aa75a18dd9012b",
            "_dom_classes": [],
            "description": "",
            "_model_name": "HTMLModel",
            "placeholder": "​",
            "_view_module": "@jupyter-widgets/controls",
            "_model_module_version": "1.5.0",
            "value": "Downloading: ",
            "_view_count": null,
            "_view_module_version": "1.5.0",
            "description_tooltip": null,
            "_model_module": "@jupyter-widgets/controls",
            "layout": "IPY_MODEL_70e09f2f5593404fa38a857e12ffbebe"
          }
        },
        "3f011303a9244752bd125fd81bbacdf2": {
          "model_module": "@jupyter-widgets/controls",
          "model_name": "FloatProgressModel",
          "model_module_version": "1.5.0",
          "state": {
            "_view_name": "ProgressView",
            "style": "IPY_MODEL_01e7c6d8a5454f64931e28af1fcc3564",
            "_dom_classes": [],
            "description": "",
            "_model_name": "FloatProgressModel",
            "bar_style": "success",
            "max": 1017,
            "_view_module": "@jupyter-widgets/controls",
            "_model_module_version": "1.5.0",
            "value": 1017,
            "_view_count": null,
            "_view_module_version": "1.5.0",
            "orientation": "horizontal",
            "min": 0,
            "description_tooltip": null,
            "_model_module": "@jupyter-widgets/controls",
            "layout": "IPY_MODEL_bbea933081ea4f1d83d49240790b6427"
          }
        },
        "e0db9f2683d14f5fa638f7749cbcbb72": {
          "model_module": "@jupyter-widgets/controls",
          "model_name": "HTMLModel",
          "model_module_version": "1.5.0",
          "state": {
            "_view_name": "HTMLView",
            "style": "IPY_MODEL_9f9002960adf4cce963675ddef859032",
            "_dom_classes": [],
            "description": "",
            "_model_name": "HTMLModel",
            "placeholder": "​",
            "_view_module": "@jupyter-widgets/controls",
            "_model_module_version": "1.5.0",
            "value": " 2.39k/? [00:00&lt;00:00, 59.9kB/s]",
            "_view_count": null,
            "_view_module_version": "1.5.0",
            "description_tooltip": null,
            "_model_module": "@jupyter-widgets/controls",
            "layout": "IPY_MODEL_8be06b89f5e24c6fa3fddaca0fc47bed"
          }
        },
        "26ddc8e7c6974998a9aa75a18dd9012b": {
          "model_module": "@jupyter-widgets/controls",
          "model_name": "DescriptionStyleModel",
          "model_module_version": "1.5.0",
          "state": {
            "_view_name": "StyleView",
            "_model_name": "DescriptionStyleModel",
            "description_width": "",
            "_view_module": "@jupyter-widgets/base",
            "_model_module_version": "1.5.0",
            "_view_count": null,
            "_view_module_version": "1.2.0",
            "_model_module": "@jupyter-widgets/controls"
          }
        },
        "70e09f2f5593404fa38a857e12ffbebe": {
          "model_module": "@jupyter-widgets/base",
          "model_name": "LayoutModel",
          "model_module_version": "1.2.0",
          "state": {
            "_view_name": "LayoutView",
            "grid_template_rows": null,
            "right": null,
            "justify_content": null,
            "_view_module": "@jupyter-widgets/base",
            "overflow": null,
            "_model_module_version": "1.2.0",
            "_view_count": null,
            "flex_flow": null,
            "width": null,
            "min_width": null,
            "border": null,
            "align_items": null,
            "bottom": null,
            "_model_module": "@jupyter-widgets/base",
            "top": null,
            "grid_column": null,
            "overflow_y": null,
            "overflow_x": null,
            "grid_auto_flow": null,
            "grid_area": null,
            "grid_template_columns": null,
            "flex": null,
            "_model_name": "LayoutModel",
            "justify_items": null,
            "grid_row": null,
            "max_height": null,
            "align_content": null,
            "visibility": null,
            "align_self": null,
            "height": null,
            "min_height": null,
            "padding": null,
            "grid_auto_rows": null,
            "grid_gap": null,
            "max_width": null,
            "order": null,
            "_view_module_version": "1.2.0",
            "grid_template_areas": null,
            "object_position": null,
            "object_fit": null,
            "grid_auto_columns": null,
            "margin": null,
            "display": null,
            "left": null
          }
        },
        "01e7c6d8a5454f64931e28af1fcc3564": {
          "model_module": "@jupyter-widgets/controls",
          "model_name": "ProgressStyleModel",
          "model_module_version": "1.5.0",
          "state": {
            "_view_name": "StyleView",
            "_model_name": "ProgressStyleModel",
            "description_width": "",
            "_view_module": "@jupyter-widgets/base",
            "_model_module_version": "1.5.0",
            "_view_count": null,
            "_view_module_version": "1.2.0",
            "bar_color": null,
            "_model_module": "@jupyter-widgets/controls"
          }
        },
        "bbea933081ea4f1d83d49240790b6427": {
          "model_module": "@jupyter-widgets/base",
          "model_name": "LayoutModel",
          "model_module_version": "1.2.0",
          "state": {
            "_view_name": "LayoutView",
            "grid_template_rows": null,
            "right": null,
            "justify_content": null,
            "_view_module": "@jupyter-widgets/base",
            "overflow": null,
            "_model_module_version": "1.2.0",
            "_view_count": null,
            "flex_flow": null,
            "width": null,
            "min_width": null,
            "border": null,
            "align_items": null,
            "bottom": null,
            "_model_module": "@jupyter-widgets/base",
            "top": null,
            "grid_column": null,
            "overflow_y": null,
            "overflow_x": null,
            "grid_auto_flow": null,
            "grid_area": null,
            "grid_template_columns": null,
            "flex": null,
            "_model_name": "LayoutModel",
            "justify_items": null,
            "grid_row": null,
            "max_height": null,
            "align_content": null,
            "visibility": null,
            "align_self": null,
            "height": null,
            "min_height": null,
            "padding": null,
            "grid_auto_rows": null,
            "grid_gap": null,
            "max_width": null,
            "order": null,
            "_view_module_version": "1.2.0",
            "grid_template_areas": null,
            "object_position": null,
            "object_fit": null,
            "grid_auto_columns": null,
            "margin": null,
            "display": null,
            "left": null
          }
        },
        "9f9002960adf4cce963675ddef859032": {
          "model_module": "@jupyter-widgets/controls",
          "model_name": "DescriptionStyleModel",
          "model_module_version": "1.5.0",
          "state": {
            "_view_name": "StyleView",
            "_model_name": "DescriptionStyleModel",
            "description_width": "",
            "_view_module": "@jupyter-widgets/base",
            "_model_module_version": "1.5.0",
            "_view_count": null,
            "_view_module_version": "1.2.0",
            "_model_module": "@jupyter-widgets/controls"
          }
        },
        "8be06b89f5e24c6fa3fddaca0fc47bed": {
          "model_module": "@jupyter-widgets/base",
          "model_name": "LayoutModel",
          "model_module_version": "1.2.0",
          "state": {
            "_view_name": "LayoutView",
            "grid_template_rows": null,
            "right": null,
            "justify_content": null,
            "_view_module": "@jupyter-widgets/base",
            "overflow": null,
            "_model_module_version": "1.2.0",
            "_view_count": null,
            "flex_flow": null,
            "width": null,
            "min_width": null,
            "border": null,
            "align_items": null,
            "bottom": null,
            "_model_module": "@jupyter-widgets/base",
            "top": null,
            "grid_column": null,
            "overflow_y": null,
            "overflow_x": null,
            "grid_auto_flow": null,
            "grid_area": null,
            "grid_template_columns": null,
            "flex": null,
            "_model_name": "LayoutModel",
            "justify_items": null,
            "grid_row": null,
            "max_height": null,
            "align_content": null,
            "visibility": null,
            "align_self": null,
            "height": null,
            "min_height": null,
            "padding": null,
            "grid_auto_rows": null,
            "grid_gap": null,
            "max_width": null,
            "order": null,
            "_view_module_version": "1.2.0",
            "grid_template_areas": null,
            "object_position": null,
            "object_fit": null,
            "grid_auto_columns": null,
            "margin": null,
            "display": null,
            "left": null
          }
        },
        "b2a695c56d2a4bdcb1bf6f83c6d29a6c": {
          "model_module": "@jupyter-widgets/controls",
          "model_name": "HBoxModel",
          "model_module_version": "1.5.0",
          "state": {
            "_view_name": "HBoxView",
            "_dom_classes": [],
            "_model_name": "HBoxModel",
            "_view_module": "@jupyter-widgets/controls",
            "_model_module_version": "1.5.0",
            "_view_count": null,
            "_view_module_version": "1.5.0",
            "box_style": "",
            "layout": "IPY_MODEL_c5c9a4c0eed84cb09efe6459b25c8ce1",
            "_model_module": "@jupyter-widgets/controls",
            "children": [
              "IPY_MODEL_7fdc082f577c489ebda7fa2cf7d94f5f",
              "IPY_MODEL_48b6806c6e994485bbb1b3f1a06388cc",
              "IPY_MODEL_8295f404418f4ae6ba18695b3e64e265"
            ]
          }
        },
        "c5c9a4c0eed84cb09efe6459b25c8ce1": {
          "model_module": "@jupyter-widgets/base",
          "model_name": "LayoutModel",
          "model_module_version": "1.2.0",
          "state": {
            "_view_name": "LayoutView",
            "grid_template_rows": null,
            "right": null,
            "justify_content": null,
            "_view_module": "@jupyter-widgets/base",
            "overflow": null,
            "_model_module_version": "1.2.0",
            "_view_count": null,
            "flex_flow": null,
            "width": null,
            "min_width": null,
            "border": null,
            "align_items": null,
            "bottom": null,
            "_model_module": "@jupyter-widgets/base",
            "top": null,
            "grid_column": null,
            "overflow_y": null,
            "overflow_x": null,
            "grid_auto_flow": null,
            "grid_area": null,
            "grid_template_columns": null,
            "flex": null,
            "_model_name": "LayoutModel",
            "justify_items": null,
            "grid_row": null,
            "max_height": null,
            "align_content": null,
            "visibility": null,
            "align_self": null,
            "height": null,
            "min_height": null,
            "padding": null,
            "grid_auto_rows": null,
            "grid_gap": null,
            "max_width": null,
            "order": null,
            "_view_module_version": "1.2.0",
            "grid_template_areas": null,
            "object_position": null,
            "object_fit": null,
            "grid_auto_columns": null,
            "margin": null,
            "display": null,
            "left": null
          }
        },
        "7fdc082f577c489ebda7fa2cf7d94f5f": {
          "model_module": "@jupyter-widgets/controls",
          "model_name": "HTMLModel",
          "model_module_version": "1.5.0",
          "state": {
            "_view_name": "HTMLView",
            "style": "IPY_MODEL_1ee8ace667a647828499b8ba8f24f342",
            "_dom_classes": [],
            "description": "",
            "_model_name": "HTMLModel",
            "placeholder": "​",
            "_view_module": "@jupyter-widgets/controls",
            "_model_module_version": "1.5.0",
            "value": "100%",
            "_view_count": null,
            "_view_module_version": "1.5.0",
            "description_tooltip": null,
            "_model_module": "@jupyter-widgets/controls",
            "layout": "IPY_MODEL_7fc0f4a82add48208b788ee1505df24c"
          }
        },
        "48b6806c6e994485bbb1b3f1a06388cc": {
          "model_module": "@jupyter-widgets/controls",
          "model_name": "FloatProgressModel",
          "model_module_version": "1.5.0",
          "state": {
            "_view_name": "ProgressView",
            "style": "IPY_MODEL_2e2110a234064cce9586fc26732d1fff",
            "_dom_classes": [],
            "description": "",
            "_model_name": "FloatProgressModel",
            "bar_style": "success",
            "max": 2,
            "_view_module": "@jupyter-widgets/controls",
            "_model_module_version": "1.5.0",
            "value": 2,
            "_view_count": null,
            "_view_module_version": "1.5.0",
            "orientation": "horizontal",
            "min": 0,
            "description_tooltip": null,
            "_model_module": "@jupyter-widgets/controls",
            "layout": "IPY_MODEL_29b6ddc88cd14b5a983ef32267e3c21f"
          }
        },
        "8295f404418f4ae6ba18695b3e64e265": {
          "model_module": "@jupyter-widgets/controls",
          "model_name": "HTMLModel",
          "model_module_version": "1.5.0",
          "state": {
            "_view_name": "HTMLView",
            "style": "IPY_MODEL_25990e77395b4eea97961d4752684298",
            "_dom_classes": [],
            "description": "",
            "_model_name": "HTMLModel",
            "placeholder": "​",
            "_view_module": "@jupyter-widgets/controls",
            "_model_module_version": "1.5.0",
            "value": " 2/2 [00:01&lt;00:00,  1.87it/s]",
            "_view_count": null,
            "_view_module_version": "1.5.0",
            "description_tooltip": null,
            "_model_module": "@jupyter-widgets/controls",
            "layout": "IPY_MODEL_eca9b51d22e647cf8c8e1bd5fc13de0c"
          }
        },
        "1ee8ace667a647828499b8ba8f24f342": {
          "model_module": "@jupyter-widgets/controls",
          "model_name": "DescriptionStyleModel",
          "model_module_version": "1.5.0",
          "state": {
            "_view_name": "StyleView",
            "_model_name": "DescriptionStyleModel",
            "description_width": "",
            "_view_module": "@jupyter-widgets/base",
            "_model_module_version": "1.5.0",
            "_view_count": null,
            "_view_module_version": "1.2.0",
            "_model_module": "@jupyter-widgets/controls"
          }
        },
        "7fc0f4a82add48208b788ee1505df24c": {
          "model_module": "@jupyter-widgets/base",
          "model_name": "LayoutModel",
          "model_module_version": "1.2.0",
          "state": {
            "_view_name": "LayoutView",
            "grid_template_rows": null,
            "right": null,
            "justify_content": null,
            "_view_module": "@jupyter-widgets/base",
            "overflow": null,
            "_model_module_version": "1.2.0",
            "_view_count": null,
            "flex_flow": null,
            "width": null,
            "min_width": null,
            "border": null,
            "align_items": null,
            "bottom": null,
            "_model_module": "@jupyter-widgets/base",
            "top": null,
            "grid_column": null,
            "overflow_y": null,
            "overflow_x": null,
            "grid_auto_flow": null,
            "grid_area": null,
            "grid_template_columns": null,
            "flex": null,
            "_model_name": "LayoutModel",
            "justify_items": null,
            "grid_row": null,
            "max_height": null,
            "align_content": null,
            "visibility": null,
            "align_self": null,
            "height": null,
            "min_height": null,
            "padding": null,
            "grid_auto_rows": null,
            "grid_gap": null,
            "max_width": null,
            "order": null,
            "_view_module_version": "1.2.0",
            "grid_template_areas": null,
            "object_position": null,
            "object_fit": null,
            "grid_auto_columns": null,
            "margin": null,
            "display": null,
            "left": null
          }
        },
        "2e2110a234064cce9586fc26732d1fff": {
          "model_module": "@jupyter-widgets/controls",
          "model_name": "ProgressStyleModel",
          "model_module_version": "1.5.0",
          "state": {
            "_view_name": "StyleView",
            "_model_name": "ProgressStyleModel",
            "description_width": "",
            "_view_module": "@jupyter-widgets/base",
            "_model_module_version": "1.5.0",
            "_view_count": null,
            "_view_module_version": "1.2.0",
            "bar_color": null,
            "_model_module": "@jupyter-widgets/controls"
          }
        },
        "29b6ddc88cd14b5a983ef32267e3c21f": {
          "model_module": "@jupyter-widgets/base",
          "model_name": "LayoutModel",
          "model_module_version": "1.2.0",
          "state": {
            "_view_name": "LayoutView",
            "grid_template_rows": null,
            "right": null,
            "justify_content": null,
            "_view_module": "@jupyter-widgets/base",
            "overflow": null,
            "_model_module_version": "1.2.0",
            "_view_count": null,
            "flex_flow": null,
            "width": null,
            "min_width": null,
            "border": null,
            "align_items": null,
            "bottom": null,
            "_model_module": "@jupyter-widgets/base",
            "top": null,
            "grid_column": null,
            "overflow_y": null,
            "overflow_x": null,
            "grid_auto_flow": null,
            "grid_area": null,
            "grid_template_columns": null,
            "flex": null,
            "_model_name": "LayoutModel",
            "justify_items": null,
            "grid_row": null,
            "max_height": null,
            "align_content": null,
            "visibility": null,
            "align_self": null,
            "height": null,
            "min_height": null,
            "padding": null,
            "grid_auto_rows": null,
            "grid_gap": null,
            "max_width": null,
            "order": null,
            "_view_module_version": "1.2.0",
            "grid_template_areas": null,
            "object_position": null,
            "object_fit": null,
            "grid_auto_columns": null,
            "margin": null,
            "display": null,
            "left": null
          }
        },
        "25990e77395b4eea97961d4752684298": {
          "model_module": "@jupyter-widgets/controls",
          "model_name": "DescriptionStyleModel",
          "model_module_version": "1.5.0",
          "state": {
            "_view_name": "StyleView",
            "_model_name": "DescriptionStyleModel",
            "description_width": "",
            "_view_module": "@jupyter-widgets/base",
            "_model_module_version": "1.5.0",
            "_view_count": null,
            "_view_module_version": "1.2.0",
            "_model_module": "@jupyter-widgets/controls"
          }
        },
        "eca9b51d22e647cf8c8e1bd5fc13de0c": {
          "model_module": "@jupyter-widgets/base",
          "model_name": "LayoutModel",
          "model_module_version": "1.2.0",
          "state": {
            "_view_name": "LayoutView",
            "grid_template_rows": null,
            "right": null,
            "justify_content": null,
            "_view_module": "@jupyter-widgets/base",
            "overflow": null,
            "_model_module_version": "1.2.0",
            "_view_count": null,
            "flex_flow": null,
            "width": null,
            "min_width": null,
            "border": null,
            "align_items": null,
            "bottom": null,
            "_model_module": "@jupyter-widgets/base",
            "top": null,
            "grid_column": null,
            "overflow_y": null,
            "overflow_x": null,
            "grid_auto_flow": null,
            "grid_area": null,
            "grid_template_columns": null,
            "flex": null,
            "_model_name": "LayoutModel",
            "justify_items": null,
            "grid_row": null,
            "max_height": null,
            "align_content": null,
            "visibility": null,
            "align_self": null,
            "height": null,
            "min_height": null,
            "padding": null,
            "grid_auto_rows": null,
            "grid_gap": null,
            "max_width": null,
            "order": null,
            "_view_module_version": "1.2.0",
            "grid_template_areas": null,
            "object_position": null,
            "object_fit": null,
            "grid_auto_columns": null,
            "margin": null,
            "display": null,
            "left": null
          }
        },
        "a1b0de451e664ab5ba96807e170fe93d": {
          "model_module": "@jupyter-widgets/controls",
          "model_name": "HBoxModel",
          "model_module_version": "1.5.0",
          "state": {
            "_view_name": "HBoxView",
            "_dom_classes": [],
            "_model_name": "HBoxModel",
            "_view_module": "@jupyter-widgets/controls",
            "_model_module_version": "1.5.0",
            "_view_count": null,
            "_view_module_version": "1.5.0",
            "box_style": "",
            "layout": "IPY_MODEL_3934fda485cb497f8483dbb6e16bc778",
            "_model_module": "@jupyter-widgets/controls",
            "children": [
              "IPY_MODEL_e41194fb65d74d0ebd93773b854d8ef3",
              "IPY_MODEL_071a6dad453e4807a191648f292bdecc",
              "IPY_MODEL_ea78078e132e4fde8f7d4b1ad762024e"
            ]
          }
        },
        "3934fda485cb497f8483dbb6e16bc778": {
          "model_module": "@jupyter-widgets/base",
          "model_name": "LayoutModel",
          "model_module_version": "1.2.0",
          "state": {
            "_view_name": "LayoutView",
            "grid_template_rows": null,
            "right": null,
            "justify_content": null,
            "_view_module": "@jupyter-widgets/base",
            "overflow": null,
            "_model_module_version": "1.2.0",
            "_view_count": null,
            "flex_flow": null,
            "width": null,
            "min_width": null,
            "border": null,
            "align_items": null,
            "bottom": null,
            "_model_module": "@jupyter-widgets/base",
            "top": null,
            "grid_column": null,
            "overflow_y": null,
            "overflow_x": null,
            "grid_auto_flow": null,
            "grid_area": null,
            "grid_template_columns": null,
            "flex": null,
            "_model_name": "LayoutModel",
            "justify_items": null,
            "grid_row": null,
            "max_height": null,
            "align_content": null,
            "visibility": null,
            "align_self": null,
            "height": null,
            "min_height": null,
            "padding": null,
            "grid_auto_rows": null,
            "grid_gap": null,
            "max_width": null,
            "order": null,
            "_view_module_version": "1.2.0",
            "grid_template_areas": null,
            "object_position": null,
            "object_fit": null,
            "grid_auto_columns": null,
            "margin": null,
            "display": null,
            "left": null
          }
        },
        "e41194fb65d74d0ebd93773b854d8ef3": {
          "model_module": "@jupyter-widgets/controls",
          "model_name": "HTMLModel",
          "model_module_version": "1.5.0",
          "state": {
            "_view_name": "HTMLView",
            "style": "IPY_MODEL_3d8750b666f84fa6bb2d05df52fc8d9d",
            "_dom_classes": [],
            "description": "",
            "_model_name": "HTMLModel",
            "placeholder": "​",
            "_view_module": "@jupyter-widgets/controls",
            "_model_module_version": "1.5.0",
            "value": "Downloading: ",
            "_view_count": null,
            "_view_module_version": "1.5.0",
            "description_tooltip": null,
            "_model_module": "@jupyter-widgets/controls",
            "layout": "IPY_MODEL_f19d01b9698341b4afe9301e3fb026ca"
          }
        },
        "071a6dad453e4807a191648f292bdecc": {
          "model_module": "@jupyter-widgets/controls",
          "model_name": "FloatProgressModel",
          "model_module_version": "1.5.0",
          "state": {
            "_view_name": "ProgressView",
            "style": "IPY_MODEL_ca87cd85e3ed4ae2a2cc2f5288829ee4",
            "_dom_classes": [],
            "description": "",
            "_model_name": "FloatProgressModel",
            "bar_style": "success",
            "max": 7568316,
            "_view_module": "@jupyter-widgets/controls",
            "_model_module_version": "1.5.0",
            "value": 7568316,
            "_view_count": null,
            "_view_module_version": "1.5.0",
            "orientation": "horizontal",
            "min": 0,
            "description_tooltip": null,
            "_model_module": "@jupyter-widgets/controls",
            "layout": "IPY_MODEL_a7e099159e494b27be8dabcfe62837ac"
          }
        },
        "ea78078e132e4fde8f7d4b1ad762024e": {
          "model_module": "@jupyter-widgets/controls",
          "model_name": "HTMLModel",
          "model_module_version": "1.5.0",
          "state": {
            "_view_name": "HTMLView",
            "style": "IPY_MODEL_10c6fba04c48476591d1ec6e492ddbf3",
            "_dom_classes": [],
            "description": "",
            "_model_name": "HTMLModel",
            "placeholder": "​",
            "_view_module": "@jupyter-widgets/controls",
            "_model_module_version": "1.5.0",
            "value": " 38.5M/? [00:00&lt;00:00, 62.4MB/s]",
            "_view_count": null,
            "_view_module_version": "1.5.0",
            "description_tooltip": null,
            "_model_module": "@jupyter-widgets/controls",
            "layout": "IPY_MODEL_163cd28df5de4f34bd9ff03e4c4eae42"
          }
        },
        "3d8750b666f84fa6bb2d05df52fc8d9d": {
          "model_module": "@jupyter-widgets/controls",
          "model_name": "DescriptionStyleModel",
          "model_module_version": "1.5.0",
          "state": {
            "_view_name": "StyleView",
            "_model_name": "DescriptionStyleModel",
            "description_width": "",
            "_view_module": "@jupyter-widgets/base",
            "_model_module_version": "1.5.0",
            "_view_count": null,
            "_view_module_version": "1.2.0",
            "_model_module": "@jupyter-widgets/controls"
          }
        },
        "f19d01b9698341b4afe9301e3fb026ca": {
          "model_module": "@jupyter-widgets/base",
          "model_name": "LayoutModel",
          "model_module_version": "1.2.0",
          "state": {
            "_view_name": "LayoutView",
            "grid_template_rows": null,
            "right": null,
            "justify_content": null,
            "_view_module": "@jupyter-widgets/base",
            "overflow": null,
            "_model_module_version": "1.2.0",
            "_view_count": null,
            "flex_flow": null,
            "width": null,
            "min_width": null,
            "border": null,
            "align_items": null,
            "bottom": null,
            "_model_module": "@jupyter-widgets/base",
            "top": null,
            "grid_column": null,
            "overflow_y": null,
            "overflow_x": null,
            "grid_auto_flow": null,
            "grid_area": null,
            "grid_template_columns": null,
            "flex": null,
            "_model_name": "LayoutModel",
            "justify_items": null,
            "grid_row": null,
            "max_height": null,
            "align_content": null,
            "visibility": null,
            "align_self": null,
            "height": null,
            "min_height": null,
            "padding": null,
            "grid_auto_rows": null,
            "grid_gap": null,
            "max_width": null,
            "order": null,
            "_view_module_version": "1.2.0",
            "grid_template_areas": null,
            "object_position": null,
            "object_fit": null,
            "grid_auto_columns": null,
            "margin": null,
            "display": null,
            "left": null
          }
        },
        "ca87cd85e3ed4ae2a2cc2f5288829ee4": {
          "model_module": "@jupyter-widgets/controls",
          "model_name": "ProgressStyleModel",
          "model_module_version": "1.5.0",
          "state": {
            "_view_name": "StyleView",
            "_model_name": "ProgressStyleModel",
            "description_width": "",
            "_view_module": "@jupyter-widgets/base",
            "_model_module_version": "1.5.0",
            "_view_count": null,
            "_view_module_version": "1.2.0",
            "bar_color": null,
            "_model_module": "@jupyter-widgets/controls"
          }
        },
        "a7e099159e494b27be8dabcfe62837ac": {
          "model_module": "@jupyter-widgets/base",
          "model_name": "LayoutModel",
          "model_module_version": "1.2.0",
          "state": {
            "_view_name": "LayoutView",
            "grid_template_rows": null,
            "right": null,
            "justify_content": null,
            "_view_module": "@jupyter-widgets/base",
            "overflow": null,
            "_model_module_version": "1.2.0",
            "_view_count": null,
            "flex_flow": null,
            "width": null,
            "min_width": null,
            "border": null,
            "align_items": null,
            "bottom": null,
            "_model_module": "@jupyter-widgets/base",
            "top": null,
            "grid_column": null,
            "overflow_y": null,
            "overflow_x": null,
            "grid_auto_flow": null,
            "grid_area": null,
            "grid_template_columns": null,
            "flex": null,
            "_model_name": "LayoutModel",
            "justify_items": null,
            "grid_row": null,
            "max_height": null,
            "align_content": null,
            "visibility": null,
            "align_self": null,
            "height": null,
            "min_height": null,
            "padding": null,
            "grid_auto_rows": null,
            "grid_gap": null,
            "max_width": null,
            "order": null,
            "_view_module_version": "1.2.0",
            "grid_template_areas": null,
            "object_position": null,
            "object_fit": null,
            "grid_auto_columns": null,
            "margin": null,
            "display": null,
            "left": null
          }
        },
        "10c6fba04c48476591d1ec6e492ddbf3": {
          "model_module": "@jupyter-widgets/controls",
          "model_name": "DescriptionStyleModel",
          "model_module_version": "1.5.0",
          "state": {
            "_view_name": "StyleView",
            "_model_name": "DescriptionStyleModel",
            "description_width": "",
            "_view_module": "@jupyter-widgets/base",
            "_model_module_version": "1.5.0",
            "_view_count": null,
            "_view_module_version": "1.2.0",
            "_model_module": "@jupyter-widgets/controls"
          }
        },
        "163cd28df5de4f34bd9ff03e4c4eae42": {
          "model_module": "@jupyter-widgets/base",
          "model_name": "LayoutModel",
          "model_module_version": "1.2.0",
          "state": {
            "_view_name": "LayoutView",
            "grid_template_rows": null,
            "right": null,
            "justify_content": null,
            "_view_module": "@jupyter-widgets/base",
            "overflow": null,
            "_model_module_version": "1.2.0",
            "_view_count": null,
            "flex_flow": null,
            "width": null,
            "min_width": null,
            "border": null,
            "align_items": null,
            "bottom": null,
            "_model_module": "@jupyter-widgets/base",
            "top": null,
            "grid_column": null,
            "overflow_y": null,
            "overflow_x": null,
            "grid_auto_flow": null,
            "grid_area": null,
            "grid_template_columns": null,
            "flex": null,
            "_model_name": "LayoutModel",
            "justify_items": null,
            "grid_row": null,
            "max_height": null,
            "align_content": null,
            "visibility": null,
            "align_self": null,
            "height": null,
            "min_height": null,
            "padding": null,
            "grid_auto_rows": null,
            "grid_gap": null,
            "max_width": null,
            "order": null,
            "_view_module_version": "1.2.0",
            "grid_template_areas": null,
            "object_position": null,
            "object_fit": null,
            "grid_auto_columns": null,
            "margin": null,
            "display": null,
            "left": null
          }
        },
        "44a6fd9b8b5e4f87adda3f7a45924a3f": {
          "model_module": "@jupyter-widgets/controls",
          "model_name": "HBoxModel",
          "model_module_version": "1.5.0",
          "state": {
            "_view_name": "HBoxView",
            "_dom_classes": [],
            "_model_name": "HBoxModel",
            "_view_module": "@jupyter-widgets/controls",
            "_model_module_version": "1.5.0",
            "_view_count": null,
            "_view_module_version": "1.5.0",
            "box_style": "",
            "layout": "IPY_MODEL_535d0357adc14481be5f0a032a81eb2c",
            "_model_module": "@jupyter-widgets/controls",
            "children": [
              "IPY_MODEL_1e53815b937746d59c7e907005c2e89d",
              "IPY_MODEL_ba4a2966f4a442f1a0171765da1eb0fc",
              "IPY_MODEL_b64efe191cd24400b11bf39ea05f4c25"
            ]
          }
        },
        "535d0357adc14481be5f0a032a81eb2c": {
          "model_module": "@jupyter-widgets/base",
          "model_name": "LayoutModel",
          "model_module_version": "1.2.0",
          "state": {
            "_view_name": "LayoutView",
            "grid_template_rows": null,
            "right": null,
            "justify_content": null,
            "_view_module": "@jupyter-widgets/base",
            "overflow": null,
            "_model_module_version": "1.2.0",
            "_view_count": null,
            "flex_flow": null,
            "width": null,
            "min_width": null,
            "border": null,
            "align_items": null,
            "bottom": null,
            "_model_module": "@jupyter-widgets/base",
            "top": null,
            "grid_column": null,
            "overflow_y": null,
            "overflow_x": null,
            "grid_auto_flow": null,
            "grid_area": null,
            "grid_template_columns": null,
            "flex": null,
            "_model_name": "LayoutModel",
            "justify_items": null,
            "grid_row": null,
            "max_height": null,
            "align_content": null,
            "visibility": null,
            "align_self": null,
            "height": null,
            "min_height": null,
            "padding": null,
            "grid_auto_rows": null,
            "grid_gap": null,
            "max_width": null,
            "order": null,
            "_view_module_version": "1.2.0",
            "grid_template_areas": null,
            "object_position": null,
            "object_fit": null,
            "grid_auto_columns": null,
            "margin": null,
            "display": null,
            "left": null
          }
        },
        "1e53815b937746d59c7e907005c2e89d": {
          "model_module": "@jupyter-widgets/controls",
          "model_name": "HTMLModel",
          "model_module_version": "1.5.0",
          "state": {
            "_view_name": "HTMLView",
            "style": "IPY_MODEL_01c787daf4f94793ad910b5e65f6cf16",
            "_dom_classes": [],
            "description": "",
            "_model_name": "HTMLModel",
            "placeholder": "​",
            "_view_module": "@jupyter-widgets/controls",
            "_model_module_version": "1.5.0",
            "value": "Downloading: ",
            "_view_count": null,
            "_view_module_version": "1.5.0",
            "description_tooltip": null,
            "_model_module": "@jupyter-widgets/controls",
            "layout": "IPY_MODEL_4b9efd369d494eff8eba32c0baefaf37"
          }
        },
        "ba4a2966f4a442f1a0171765da1eb0fc": {
          "model_module": "@jupyter-widgets/controls",
          "model_name": "FloatProgressModel",
          "model_module_version": "1.5.0",
          "state": {
            "_view_name": "ProgressView",
            "style": "IPY_MODEL_c7817ca780d04718bfe18a6639269ecd",
            "_dom_classes": [],
            "description": "",
            "_model_name": "FloatProgressModel",
            "bar_style": "success",
            "max": 770480,
            "_view_module": "@jupyter-widgets/controls",
            "_model_module_version": "1.5.0",
            "value": 770480,
            "_view_count": null,
            "_view_module_version": "1.5.0",
            "orientation": "horizontal",
            "min": 0,
            "description_tooltip": null,
            "_model_module": "@jupyter-widgets/controls",
            "layout": "IPY_MODEL_d22293ae82f144649874914b34ca963d"
          }
        },
        "b64efe191cd24400b11bf39ea05f4c25": {
          "model_module": "@jupyter-widgets/controls",
          "model_name": "HTMLModel",
          "model_module_version": "1.5.0",
          "state": {
            "_view_name": "HTMLView",
            "style": "IPY_MODEL_e96859a1fa6242d3aaa5e0eeb18a2e77",
            "_dom_classes": [],
            "description": "",
            "_model_name": "HTMLModel",
            "placeholder": "​",
            "_view_module": "@jupyter-widgets/controls",
            "_model_module_version": "1.5.0",
            "value": " 3.88M/? [00:00&lt;00:00, 14.9MB/s]",
            "_view_count": null,
            "_view_module_version": "1.5.0",
            "description_tooltip": null,
            "_model_module": "@jupyter-widgets/controls",
            "layout": "IPY_MODEL_5bb8c13c87684fa39ddb83a4717b7eb5"
          }
        },
        "01c787daf4f94793ad910b5e65f6cf16": {
          "model_module": "@jupyter-widgets/controls",
          "model_name": "DescriptionStyleModel",
          "model_module_version": "1.5.0",
          "state": {
            "_view_name": "StyleView",
            "_model_name": "DescriptionStyleModel",
            "description_width": "",
            "_view_module": "@jupyter-widgets/base",
            "_model_module_version": "1.5.0",
            "_view_count": null,
            "_view_module_version": "1.2.0",
            "_model_module": "@jupyter-widgets/controls"
          }
        },
        "4b9efd369d494eff8eba32c0baefaf37": {
          "model_module": "@jupyter-widgets/base",
          "model_name": "LayoutModel",
          "model_module_version": "1.2.0",
          "state": {
            "_view_name": "LayoutView",
            "grid_template_rows": null,
            "right": null,
            "justify_content": null,
            "_view_module": "@jupyter-widgets/base",
            "overflow": null,
            "_model_module_version": "1.2.0",
            "_view_count": null,
            "flex_flow": null,
            "width": null,
            "min_width": null,
            "border": null,
            "align_items": null,
            "bottom": null,
            "_model_module": "@jupyter-widgets/base",
            "top": null,
            "grid_column": null,
            "overflow_y": null,
            "overflow_x": null,
            "grid_auto_flow": null,
            "grid_area": null,
            "grid_template_columns": null,
            "flex": null,
            "_model_name": "LayoutModel",
            "justify_items": null,
            "grid_row": null,
            "max_height": null,
            "align_content": null,
            "visibility": null,
            "align_self": null,
            "height": null,
            "min_height": null,
            "padding": null,
            "grid_auto_rows": null,
            "grid_gap": null,
            "max_width": null,
            "order": null,
            "_view_module_version": "1.2.0",
            "grid_template_areas": null,
            "object_position": null,
            "object_fit": null,
            "grid_auto_columns": null,
            "margin": null,
            "display": null,
            "left": null
          }
        },
        "c7817ca780d04718bfe18a6639269ecd": {
          "model_module": "@jupyter-widgets/controls",
          "model_name": "ProgressStyleModel",
          "model_module_version": "1.5.0",
          "state": {
            "_view_name": "StyleView",
            "_model_name": "ProgressStyleModel",
            "description_width": "",
            "_view_module": "@jupyter-widgets/base",
            "_model_module_version": "1.5.0",
            "_view_count": null,
            "_view_module_version": "1.2.0",
            "bar_color": null,
            "_model_module": "@jupyter-widgets/controls"
          }
        },
        "d22293ae82f144649874914b34ca963d": {
          "model_module": "@jupyter-widgets/base",
          "model_name": "LayoutModel",
          "model_module_version": "1.2.0",
          "state": {
            "_view_name": "LayoutView",
            "grid_template_rows": null,
            "right": null,
            "justify_content": null,
            "_view_module": "@jupyter-widgets/base",
            "overflow": null,
            "_model_module_version": "1.2.0",
            "_view_count": null,
            "flex_flow": null,
            "width": null,
            "min_width": null,
            "border": null,
            "align_items": null,
            "bottom": null,
            "_model_module": "@jupyter-widgets/base",
            "top": null,
            "grid_column": null,
            "overflow_y": null,
            "overflow_x": null,
            "grid_auto_flow": null,
            "grid_area": null,
            "grid_template_columns": null,
            "flex": null,
            "_model_name": "LayoutModel",
            "justify_items": null,
            "grid_row": null,
            "max_height": null,
            "align_content": null,
            "visibility": null,
            "align_self": null,
            "height": null,
            "min_height": null,
            "padding": null,
            "grid_auto_rows": null,
            "grid_gap": null,
            "max_width": null,
            "order": null,
            "_view_module_version": "1.2.0",
            "grid_template_areas": null,
            "object_position": null,
            "object_fit": null,
            "grid_auto_columns": null,
            "margin": null,
            "display": null,
            "left": null
          }
        },
        "e96859a1fa6242d3aaa5e0eeb18a2e77": {
          "model_module": "@jupyter-widgets/controls",
          "model_name": "DescriptionStyleModel",
          "model_module_version": "1.5.0",
          "state": {
            "_view_name": "StyleView",
            "_model_name": "DescriptionStyleModel",
            "description_width": "",
            "_view_module": "@jupyter-widgets/base",
            "_model_module_version": "1.5.0",
            "_view_count": null,
            "_view_module_version": "1.2.0",
            "_model_module": "@jupyter-widgets/controls"
          }
        },
        "5bb8c13c87684fa39ddb83a4717b7eb5": {
          "model_module": "@jupyter-widgets/base",
          "model_name": "LayoutModel",
          "model_module_version": "1.2.0",
          "state": {
            "_view_name": "LayoutView",
            "grid_template_rows": null,
            "right": null,
            "justify_content": null,
            "_view_module": "@jupyter-widgets/base",
            "overflow": null,
            "_model_module_version": "1.2.0",
            "_view_count": null,
            "flex_flow": null,
            "width": null,
            "min_width": null,
            "border": null,
            "align_items": null,
            "bottom": null,
            "_model_module": "@jupyter-widgets/base",
            "top": null,
            "grid_column": null,
            "overflow_y": null,
            "overflow_x": null,
            "grid_auto_flow": null,
            "grid_area": null,
            "grid_template_columns": null,
            "flex": null,
            "_model_name": "LayoutModel",
            "justify_items": null,
            "grid_row": null,
            "max_height": null,
            "align_content": null,
            "visibility": null,
            "align_self": null,
            "height": null,
            "min_height": null,
            "padding": null,
            "grid_auto_rows": null,
            "grid_gap": null,
            "max_width": null,
            "order": null,
            "_view_module_version": "1.2.0",
            "grid_template_areas": null,
            "object_position": null,
            "object_fit": null,
            "grid_auto_columns": null,
            "margin": null,
            "display": null,
            "left": null
          }
        },
        "75116243551547f980c20fa6d0fbe8aa": {
          "model_module": "@jupyter-widgets/controls",
          "model_name": "HBoxModel",
          "model_module_version": "1.5.0",
          "state": {
            "_view_name": "HBoxView",
            "_dom_classes": [],
            "_model_name": "HBoxModel",
            "_view_module": "@jupyter-widgets/controls",
            "_model_module_version": "1.5.0",
            "_view_count": null,
            "_view_module_version": "1.5.0",
            "box_style": "",
            "layout": "IPY_MODEL_27be8d38b8bf4259b706c761afbb395b",
            "_model_module": "@jupyter-widgets/controls",
            "children": [
              "IPY_MODEL_74402a06b8624c7caf04d2ae8eef39da",
              "IPY_MODEL_7174dc60fba44081bd23eded1eee07f6",
              "IPY_MODEL_1cb1ebfce68b4e269298a20bc6ef1509"
            ]
          }
        },
        "27be8d38b8bf4259b706c761afbb395b": {
          "model_module": "@jupyter-widgets/base",
          "model_name": "LayoutModel",
          "model_module_version": "1.2.0",
          "state": {
            "_view_name": "LayoutView",
            "grid_template_rows": null,
            "right": null,
            "justify_content": null,
            "_view_module": "@jupyter-widgets/base",
            "overflow": null,
            "_model_module_version": "1.2.0",
            "_view_count": null,
            "flex_flow": null,
            "width": null,
            "min_width": null,
            "border": null,
            "align_items": null,
            "bottom": null,
            "_model_module": "@jupyter-widgets/base",
            "top": null,
            "grid_column": null,
            "overflow_y": null,
            "overflow_x": null,
            "grid_auto_flow": null,
            "grid_area": null,
            "grid_template_columns": null,
            "flex": null,
            "_model_name": "LayoutModel",
            "justify_items": null,
            "grid_row": null,
            "max_height": null,
            "align_content": null,
            "visibility": null,
            "align_self": null,
            "height": null,
            "min_height": null,
            "padding": null,
            "grid_auto_rows": null,
            "grid_gap": null,
            "max_width": null,
            "order": null,
            "_view_module_version": "1.2.0",
            "grid_template_areas": null,
            "object_position": null,
            "object_fit": null,
            "grid_auto_columns": null,
            "margin": null,
            "display": null,
            "left": null
          }
        },
        "74402a06b8624c7caf04d2ae8eef39da": {
          "model_module": "@jupyter-widgets/controls",
          "model_name": "HTMLModel",
          "model_module_version": "1.5.0",
          "state": {
            "_view_name": "HTMLView",
            "style": "IPY_MODEL_f87db11ee1aa4dc99ae50f8950d3aa9c",
            "_dom_classes": [],
            "description": "",
            "_model_name": "HTMLModel",
            "placeholder": "​",
            "_view_module": "@jupyter-widgets/controls",
            "_model_module_version": "1.5.0",
            "value": "100%",
            "_view_count": null,
            "_view_module_version": "1.5.0",
            "description_tooltip": null,
            "_model_module": "@jupyter-widgets/controls",
            "layout": "IPY_MODEL_0362b523eaa741fc9dafa8eb6b758bf8"
          }
        },
        "7174dc60fba44081bd23eded1eee07f6": {
          "model_module": "@jupyter-widgets/controls",
          "model_name": "FloatProgressModel",
          "model_module_version": "1.5.0",
          "state": {
            "_view_name": "ProgressView",
            "style": "IPY_MODEL_da771dbd6e404d31ac90e9591102d1d5",
            "_dom_classes": [],
            "description": "",
            "_model_name": "FloatProgressModel",
            "bar_style": "success",
            "max": 2,
            "_view_module": "@jupyter-widgets/controls",
            "_model_module_version": "1.5.0",
            "value": 2,
            "_view_count": null,
            "_view_module_version": "1.5.0",
            "orientation": "horizontal",
            "min": 0,
            "description_tooltip": null,
            "_model_module": "@jupyter-widgets/controls",
            "layout": "IPY_MODEL_c680f6fcda9547288a7c914e40380cca"
          }
        },
        "1cb1ebfce68b4e269298a20bc6ef1509": {
          "model_module": "@jupyter-widgets/controls",
          "model_name": "HTMLModel",
          "model_module_version": "1.5.0",
          "state": {
            "_view_name": "HTMLView",
            "style": "IPY_MODEL_0d8e98f67e3849bba3e7b4bf4c4af837",
            "_dom_classes": [],
            "description": "",
            "_model_name": "HTMLModel",
            "placeholder": "​",
            "_view_module": "@jupyter-widgets/controls",
            "_model_module_version": "1.5.0",
            "value": " 2/2 [00:00&lt;00:00, 51.27it/s]",
            "_view_count": null,
            "_view_module_version": "1.5.0",
            "description_tooltip": null,
            "_model_module": "@jupyter-widgets/controls",
            "layout": "IPY_MODEL_74cb6f879dda47c3bd477101414a2b8f"
          }
        },
        "f87db11ee1aa4dc99ae50f8950d3aa9c": {
          "model_module": "@jupyter-widgets/controls",
          "model_name": "DescriptionStyleModel",
          "model_module_version": "1.5.0",
          "state": {
            "_view_name": "StyleView",
            "_model_name": "DescriptionStyleModel",
            "description_width": "",
            "_view_module": "@jupyter-widgets/base",
            "_model_module_version": "1.5.0",
            "_view_count": null,
            "_view_module_version": "1.2.0",
            "_model_module": "@jupyter-widgets/controls"
          }
        },
        "0362b523eaa741fc9dafa8eb6b758bf8": {
          "model_module": "@jupyter-widgets/base",
          "model_name": "LayoutModel",
          "model_module_version": "1.2.0",
          "state": {
            "_view_name": "LayoutView",
            "grid_template_rows": null,
            "right": null,
            "justify_content": null,
            "_view_module": "@jupyter-widgets/base",
            "overflow": null,
            "_model_module_version": "1.2.0",
            "_view_count": null,
            "flex_flow": null,
            "width": null,
            "min_width": null,
            "border": null,
            "align_items": null,
            "bottom": null,
            "_model_module": "@jupyter-widgets/base",
            "top": null,
            "grid_column": null,
            "overflow_y": null,
            "overflow_x": null,
            "grid_auto_flow": null,
            "grid_area": null,
            "grid_template_columns": null,
            "flex": null,
            "_model_name": "LayoutModel",
            "justify_items": null,
            "grid_row": null,
            "max_height": null,
            "align_content": null,
            "visibility": null,
            "align_self": null,
            "height": null,
            "min_height": null,
            "padding": null,
            "grid_auto_rows": null,
            "grid_gap": null,
            "max_width": null,
            "order": null,
            "_view_module_version": "1.2.0",
            "grid_template_areas": null,
            "object_position": null,
            "object_fit": null,
            "grid_auto_columns": null,
            "margin": null,
            "display": null,
            "left": null
          }
        },
        "da771dbd6e404d31ac90e9591102d1d5": {
          "model_module": "@jupyter-widgets/controls",
          "model_name": "ProgressStyleModel",
          "model_module_version": "1.5.0",
          "state": {
            "_view_name": "StyleView",
            "_model_name": "ProgressStyleModel",
            "description_width": "",
            "_view_module": "@jupyter-widgets/base",
            "_model_module_version": "1.5.0",
            "_view_count": null,
            "_view_module_version": "1.2.0",
            "bar_color": null,
            "_model_module": "@jupyter-widgets/controls"
          }
        },
        "c680f6fcda9547288a7c914e40380cca": {
          "model_module": "@jupyter-widgets/base",
          "model_name": "LayoutModel",
          "model_module_version": "1.2.0",
          "state": {
            "_view_name": "LayoutView",
            "grid_template_rows": null,
            "right": null,
            "justify_content": null,
            "_view_module": "@jupyter-widgets/base",
            "overflow": null,
            "_model_module_version": "1.2.0",
            "_view_count": null,
            "flex_flow": null,
            "width": null,
            "min_width": null,
            "border": null,
            "align_items": null,
            "bottom": null,
            "_model_module": "@jupyter-widgets/base",
            "top": null,
            "grid_column": null,
            "overflow_y": null,
            "overflow_x": null,
            "grid_auto_flow": null,
            "grid_area": null,
            "grid_template_columns": null,
            "flex": null,
            "_model_name": "LayoutModel",
            "justify_items": null,
            "grid_row": null,
            "max_height": null,
            "align_content": null,
            "visibility": null,
            "align_self": null,
            "height": null,
            "min_height": null,
            "padding": null,
            "grid_auto_rows": null,
            "grid_gap": null,
            "max_width": null,
            "order": null,
            "_view_module_version": "1.2.0",
            "grid_template_areas": null,
            "object_position": null,
            "object_fit": null,
            "grid_auto_columns": null,
            "margin": null,
            "display": null,
            "left": null
          }
        },
        "0d8e98f67e3849bba3e7b4bf4c4af837": {
          "model_module": "@jupyter-widgets/controls",
          "model_name": "DescriptionStyleModel",
          "model_module_version": "1.5.0",
          "state": {
            "_view_name": "StyleView",
            "_model_name": "DescriptionStyleModel",
            "description_width": "",
            "_view_module": "@jupyter-widgets/base",
            "_model_module_version": "1.5.0",
            "_view_count": null,
            "_view_module_version": "1.2.0",
            "_model_module": "@jupyter-widgets/controls"
          }
        },
        "74cb6f879dda47c3bd477101414a2b8f": {
          "model_module": "@jupyter-widgets/base",
          "model_name": "LayoutModel",
          "model_module_version": "1.2.0",
          "state": {
            "_view_name": "LayoutView",
            "grid_template_rows": null,
            "right": null,
            "justify_content": null,
            "_view_module": "@jupyter-widgets/base",
            "overflow": null,
            "_model_module_version": "1.2.0",
            "_view_count": null,
            "flex_flow": null,
            "width": null,
            "min_width": null,
            "border": null,
            "align_items": null,
            "bottom": null,
            "_model_module": "@jupyter-widgets/base",
            "top": null,
            "grid_column": null,
            "overflow_y": null,
            "overflow_x": null,
            "grid_auto_flow": null,
            "grid_area": null,
            "grid_template_columns": null,
            "flex": null,
            "_model_name": "LayoutModel",
            "justify_items": null,
            "grid_row": null,
            "max_height": null,
            "align_content": null,
            "visibility": null,
            "align_self": null,
            "height": null,
            "min_height": null,
            "padding": null,
            "grid_auto_rows": null,
            "grid_gap": null,
            "max_width": null,
            "order": null,
            "_view_module_version": "1.2.0",
            "grid_template_areas": null,
            "object_position": null,
            "object_fit": null,
            "grid_auto_columns": null,
            "margin": null,
            "display": null,
            "left": null
          }
        },
        "8bfa759846b14a4a92346a4d8ed450e6": {
          "model_module": "@jupyter-widgets/controls",
          "model_name": "HBoxModel",
          "model_module_version": "1.5.0",
          "state": {
            "_view_name": "HBoxView",
            "_dom_classes": [],
            "_model_name": "HBoxModel",
            "_view_module": "@jupyter-widgets/controls",
            "_model_module_version": "1.5.0",
            "_view_count": null,
            "_view_module_version": "1.5.0",
            "box_style": "",
            "layout": "IPY_MODEL_1c0d6a630c4049538339f71e7bed094a",
            "_model_module": "@jupyter-widgets/controls",
            "children": [
              "IPY_MODEL_1ba7af048e7149078a2b722900482b66",
              "IPY_MODEL_8183c90a577847cdb49df246bc68df91",
              "IPY_MODEL_53248574f05543098942bbc5110e2f90"
            ]
          }
        },
        "1c0d6a630c4049538339f71e7bed094a": {
          "model_module": "@jupyter-widgets/base",
          "model_name": "LayoutModel",
          "model_module_version": "1.2.0",
          "state": {
            "_view_name": "LayoutView",
            "grid_template_rows": null,
            "right": null,
            "justify_content": null,
            "_view_module": "@jupyter-widgets/base",
            "overflow": null,
            "_model_module_version": "1.2.0",
            "_view_count": null,
            "flex_flow": null,
            "width": null,
            "min_width": null,
            "border": null,
            "align_items": null,
            "bottom": null,
            "_model_module": "@jupyter-widgets/base",
            "top": null,
            "grid_column": null,
            "overflow_y": null,
            "overflow_x": null,
            "grid_auto_flow": null,
            "grid_area": null,
            "grid_template_columns": null,
            "flex": null,
            "_model_name": "LayoutModel",
            "justify_items": null,
            "grid_row": null,
            "max_height": null,
            "align_content": null,
            "visibility": null,
            "align_self": null,
            "height": null,
            "min_height": null,
            "padding": null,
            "grid_auto_rows": null,
            "grid_gap": null,
            "max_width": null,
            "order": null,
            "_view_module_version": "1.2.0",
            "grid_template_areas": null,
            "object_position": null,
            "object_fit": null,
            "grid_auto_columns": null,
            "margin": null,
            "display": null,
            "left": null
          }
        },
        "1ba7af048e7149078a2b722900482b66": {
          "model_module": "@jupyter-widgets/controls",
          "model_name": "HTMLModel",
          "model_module_version": "1.5.0",
          "state": {
            "_view_name": "HTMLView",
            "style": "IPY_MODEL_defe2e586bff4533b225be092d6c290b",
            "_dom_classes": [],
            "description": "",
            "_model_name": "HTMLModel",
            "placeholder": "​",
            "_view_module": "@jupyter-widgets/controls",
            "_model_module_version": "1.5.0",
            "value": "",
            "_view_count": null,
            "_view_module_version": "1.5.0",
            "description_tooltip": null,
            "_model_module": "@jupyter-widgets/controls",
            "layout": "IPY_MODEL_9e101ea9d1d94c578cc1b5553315e9e1"
          }
        },
        "8183c90a577847cdb49df246bc68df91": {
          "model_module": "@jupyter-widgets/controls",
          "model_name": "FloatProgressModel",
          "model_module_version": "1.5.0",
          "state": {
            "_view_name": "ProgressView",
            "style": "IPY_MODEL_8543b4c7771c4fab9a5f5c7f7895bc37",
            "_dom_classes": [],
            "description": "",
            "_model_name": "FloatProgressModel",
            "bar_style": "info",
            "max": 1,
            "_view_module": "@jupyter-widgets/controls",
            "_model_module_version": "1.5.0",
            "value": 1,
            "_view_count": null,
            "_view_module_version": "1.5.0",
            "orientation": "horizontal",
            "min": 0,
            "description_tooltip": null,
            "_model_module": "@jupyter-widgets/controls",
            "layout": "IPY_MODEL_6d5e31189ed4400986cb8bcd09196fa8"
          }
        },
        "53248574f05543098942bbc5110e2f90": {
          "model_module": "@jupyter-widgets/controls",
          "model_name": "HTMLModel",
          "model_module_version": "1.5.0",
          "state": {
            "_view_name": "HTMLView",
            "style": "IPY_MODEL_1a0041e9ceef4b6fa1c74e78110b28a6",
            "_dom_classes": [],
            "description": "",
            "_model_name": "HTMLModel",
            "placeholder": "​",
            "_view_module": "@jupyter-widgets/controls",
            "_model_module_version": "1.5.0",
            "value": " 59192/0 [00:06&lt;00:00, 12956.69 examples/s]",
            "_view_count": null,
            "_view_module_version": "1.5.0",
            "description_tooltip": null,
            "_model_module": "@jupyter-widgets/controls",
            "layout": "IPY_MODEL_c823ef02bc2d4b768b4a00646db600b0"
          }
        },
        "defe2e586bff4533b225be092d6c290b": {
          "model_module": "@jupyter-widgets/controls",
          "model_name": "DescriptionStyleModel",
          "model_module_version": "1.5.0",
          "state": {
            "_view_name": "StyleView",
            "_model_name": "DescriptionStyleModel",
            "description_width": "",
            "_view_module": "@jupyter-widgets/base",
            "_model_module_version": "1.5.0",
            "_view_count": null,
            "_view_module_version": "1.2.0",
            "_model_module": "@jupyter-widgets/controls"
          }
        },
        "9e101ea9d1d94c578cc1b5553315e9e1": {
          "model_module": "@jupyter-widgets/base",
          "model_name": "LayoutModel",
          "model_module_version": "1.2.0",
          "state": {
            "_view_name": "LayoutView",
            "grid_template_rows": null,
            "right": null,
            "justify_content": null,
            "_view_module": "@jupyter-widgets/base",
            "overflow": null,
            "_model_module_version": "1.2.0",
            "_view_count": null,
            "flex_flow": null,
            "width": null,
            "min_width": null,
            "border": null,
            "align_items": null,
            "bottom": null,
            "_model_module": "@jupyter-widgets/base",
            "top": null,
            "grid_column": null,
            "overflow_y": null,
            "overflow_x": null,
            "grid_auto_flow": null,
            "grid_area": null,
            "grid_template_columns": null,
            "flex": null,
            "_model_name": "LayoutModel",
            "justify_items": null,
            "grid_row": null,
            "max_height": null,
            "align_content": null,
            "visibility": null,
            "align_self": null,
            "height": null,
            "min_height": null,
            "padding": null,
            "grid_auto_rows": null,
            "grid_gap": null,
            "max_width": null,
            "order": null,
            "_view_module_version": "1.2.0",
            "grid_template_areas": null,
            "object_position": null,
            "object_fit": null,
            "grid_auto_columns": null,
            "margin": null,
            "display": null,
            "left": null
          }
        },
        "8543b4c7771c4fab9a5f5c7f7895bc37": {
          "model_module": "@jupyter-widgets/controls",
          "model_name": "ProgressStyleModel",
          "model_module_version": "1.5.0",
          "state": {
            "_view_name": "StyleView",
            "_model_name": "ProgressStyleModel",
            "description_width": "",
            "_view_module": "@jupyter-widgets/base",
            "_model_module_version": "1.5.0",
            "_view_count": null,
            "_view_module_version": "1.2.0",
            "bar_color": null,
            "_model_module": "@jupyter-widgets/controls"
          }
        },
        "6d5e31189ed4400986cb8bcd09196fa8": {
          "model_module": "@jupyter-widgets/base",
          "model_name": "LayoutModel",
          "model_module_version": "1.2.0",
          "state": {
            "_view_name": "LayoutView",
            "grid_template_rows": null,
            "right": null,
            "justify_content": null,
            "_view_module": "@jupyter-widgets/base",
            "overflow": null,
            "_model_module_version": "1.2.0",
            "_view_count": null,
            "flex_flow": null,
            "width": "20px",
            "min_width": null,
            "border": null,
            "align_items": null,
            "bottom": null,
            "_model_module": "@jupyter-widgets/base",
            "top": null,
            "grid_column": null,
            "overflow_y": null,
            "overflow_x": null,
            "grid_auto_flow": null,
            "grid_area": null,
            "grid_template_columns": null,
            "flex": null,
            "_model_name": "LayoutModel",
            "justify_items": null,
            "grid_row": null,
            "max_height": null,
            "align_content": null,
            "visibility": null,
            "align_self": null,
            "height": null,
            "min_height": null,
            "padding": null,
            "grid_auto_rows": null,
            "grid_gap": null,
            "max_width": null,
            "order": null,
            "_view_module_version": "1.2.0",
            "grid_template_areas": null,
            "object_position": null,
            "object_fit": null,
            "grid_auto_columns": null,
            "margin": null,
            "display": null,
            "left": null
          }
        },
        "1a0041e9ceef4b6fa1c74e78110b28a6": {
          "model_module": "@jupyter-widgets/controls",
          "model_name": "DescriptionStyleModel",
          "model_module_version": "1.5.0",
          "state": {
            "_view_name": "StyleView",
            "_model_name": "DescriptionStyleModel",
            "description_width": "",
            "_view_module": "@jupyter-widgets/base",
            "_model_module_version": "1.5.0",
            "_view_count": null,
            "_view_module_version": "1.2.0",
            "_model_module": "@jupyter-widgets/controls"
          }
        },
        "c823ef02bc2d4b768b4a00646db600b0": {
          "model_module": "@jupyter-widgets/base",
          "model_name": "LayoutModel",
          "model_module_version": "1.2.0",
          "state": {
            "_view_name": "LayoutView",
            "grid_template_rows": null,
            "right": null,
            "justify_content": null,
            "_view_module": "@jupyter-widgets/base",
            "overflow": null,
            "_model_module_version": "1.2.0",
            "_view_count": null,
            "flex_flow": null,
            "width": null,
            "min_width": null,
            "border": null,
            "align_items": null,
            "bottom": null,
            "_model_module": "@jupyter-widgets/base",
            "top": null,
            "grid_column": null,
            "overflow_y": null,
            "overflow_x": null,
            "grid_auto_flow": null,
            "grid_area": null,
            "grid_template_columns": null,
            "flex": null,
            "_model_name": "LayoutModel",
            "justify_items": null,
            "grid_row": null,
            "max_height": null,
            "align_content": null,
            "visibility": null,
            "align_self": null,
            "height": null,
            "min_height": null,
            "padding": null,
            "grid_auto_rows": null,
            "grid_gap": null,
            "max_width": null,
            "order": null,
            "_view_module_version": "1.2.0",
            "grid_template_areas": null,
            "object_position": null,
            "object_fit": null,
            "grid_auto_columns": null,
            "margin": null,
            "display": null,
            "left": null
          }
        },
        "6b961e09499b4527be589d2975d3f4b1": {
          "model_module": "@jupyter-widgets/controls",
          "model_name": "HBoxModel",
          "model_module_version": "1.5.0",
          "state": {
            "_view_name": "HBoxView",
            "_dom_classes": [],
            "_model_name": "HBoxModel",
            "_view_module": "@jupyter-widgets/controls",
            "_model_module_version": "1.5.0",
            "_view_count": null,
            "_view_module_version": "1.5.0",
            "box_style": "",
            "layout": "IPY_MODEL_82fc2e0262564d57b246ae7d4637b6aa",
            "_model_module": "@jupyter-widgets/controls",
            "children": [
              "IPY_MODEL_06d8fc02eead40dd90716731959fd2d4",
              "IPY_MODEL_3022f0ba24b14d80b608dea0a08dc73b",
              "IPY_MODEL_02ffb5a0e1064aa8b1d024697b29c347"
            ]
          }
        },
        "82fc2e0262564d57b246ae7d4637b6aa": {
          "model_module": "@jupyter-widgets/base",
          "model_name": "LayoutModel",
          "model_module_version": "1.2.0",
          "state": {
            "_view_name": "LayoutView",
            "grid_template_rows": null,
            "right": null,
            "justify_content": null,
            "_view_module": "@jupyter-widgets/base",
            "overflow": null,
            "_model_module_version": "1.2.0",
            "_view_count": null,
            "flex_flow": null,
            "width": null,
            "min_width": null,
            "border": null,
            "align_items": null,
            "bottom": null,
            "_model_module": "@jupyter-widgets/base",
            "top": null,
            "grid_column": null,
            "overflow_y": null,
            "overflow_x": null,
            "grid_auto_flow": null,
            "grid_area": null,
            "grid_template_columns": null,
            "flex": null,
            "_model_name": "LayoutModel",
            "justify_items": null,
            "grid_row": null,
            "max_height": null,
            "align_content": null,
            "visibility": null,
            "align_self": null,
            "height": null,
            "min_height": null,
            "padding": null,
            "grid_auto_rows": null,
            "grid_gap": null,
            "max_width": null,
            "order": null,
            "_view_module_version": "1.2.0",
            "grid_template_areas": null,
            "object_position": null,
            "object_fit": null,
            "grid_auto_columns": null,
            "margin": null,
            "display": null,
            "left": null
          }
        },
        "06d8fc02eead40dd90716731959fd2d4": {
          "model_module": "@jupyter-widgets/controls",
          "model_name": "HTMLModel",
          "model_module_version": "1.5.0",
          "state": {
            "_view_name": "HTMLView",
            "style": "IPY_MODEL_9fd1c7bf815647b9834d0ee68fce08de",
            "_dom_classes": [],
            "description": "",
            "_model_name": "HTMLModel",
            "placeholder": "​",
            "_view_module": "@jupyter-widgets/controls",
            "_model_module_version": "1.5.0",
            "value": "",
            "_view_count": null,
            "_view_module_version": "1.5.0",
            "description_tooltip": null,
            "_model_module": "@jupyter-widgets/controls",
            "layout": "IPY_MODEL_50712c3056ef456e97e54094b036afcb"
          }
        },
        "3022f0ba24b14d80b608dea0a08dc73b": {
          "model_module": "@jupyter-widgets/controls",
          "model_name": "FloatProgressModel",
          "model_module_version": "1.5.0",
          "state": {
            "_view_name": "ProgressView",
            "style": "IPY_MODEL_fccacabb4a9b43d19ddb75851f537bc9",
            "_dom_classes": [],
            "description": "",
            "_model_name": "FloatProgressModel",
            "bar_style": "info",
            "max": 1,
            "_view_module": "@jupyter-widgets/controls",
            "_model_module_version": "1.5.0",
            "value": 1,
            "_view_count": null,
            "_view_module_version": "1.5.0",
            "orientation": "horizontal",
            "min": 0,
            "description_tooltip": null,
            "_model_module": "@jupyter-widgets/controls",
            "layout": "IPY_MODEL_5acbc006fdfb47f0bce8d62e732bcafe"
          }
        },
        "02ffb5a0e1064aa8b1d024697b29c347": {
          "model_module": "@jupyter-widgets/controls",
          "model_name": "HTMLModel",
          "model_module_version": "1.5.0",
          "state": {
            "_view_name": "HTMLView",
            "style": "IPY_MODEL_7019309ce8bb4da7aeec5998d2626cfd",
            "_dom_classes": [],
            "description": "",
            "_model_name": "HTMLModel",
            "placeholder": "​",
            "_view_module": "@jupyter-widgets/controls",
            "_model_module_version": "1.5.0",
            "value": " 5243/0 [00:00&lt;00:00, 11024.90 examples/s]",
            "_view_count": null,
            "_view_module_version": "1.5.0",
            "description_tooltip": null,
            "_model_module": "@jupyter-widgets/controls",
            "layout": "IPY_MODEL_27336ede18824384bb249cad7c4c1e09"
          }
        },
        "9fd1c7bf815647b9834d0ee68fce08de": {
          "model_module": "@jupyter-widgets/controls",
          "model_name": "DescriptionStyleModel",
          "model_module_version": "1.5.0",
          "state": {
            "_view_name": "StyleView",
            "_model_name": "DescriptionStyleModel",
            "description_width": "",
            "_view_module": "@jupyter-widgets/base",
            "_model_module_version": "1.5.0",
            "_view_count": null,
            "_view_module_version": "1.2.0",
            "_model_module": "@jupyter-widgets/controls"
          }
        },
        "50712c3056ef456e97e54094b036afcb": {
          "model_module": "@jupyter-widgets/base",
          "model_name": "LayoutModel",
          "model_module_version": "1.2.0",
          "state": {
            "_view_name": "LayoutView",
            "grid_template_rows": null,
            "right": null,
            "justify_content": null,
            "_view_module": "@jupyter-widgets/base",
            "overflow": null,
            "_model_module_version": "1.2.0",
            "_view_count": null,
            "flex_flow": null,
            "width": null,
            "min_width": null,
            "border": null,
            "align_items": null,
            "bottom": null,
            "_model_module": "@jupyter-widgets/base",
            "top": null,
            "grid_column": null,
            "overflow_y": null,
            "overflow_x": null,
            "grid_auto_flow": null,
            "grid_area": null,
            "grid_template_columns": null,
            "flex": null,
            "_model_name": "LayoutModel",
            "justify_items": null,
            "grid_row": null,
            "max_height": null,
            "align_content": null,
            "visibility": null,
            "align_self": null,
            "height": null,
            "min_height": null,
            "padding": null,
            "grid_auto_rows": null,
            "grid_gap": null,
            "max_width": null,
            "order": null,
            "_view_module_version": "1.2.0",
            "grid_template_areas": null,
            "object_position": null,
            "object_fit": null,
            "grid_auto_columns": null,
            "margin": null,
            "display": null,
            "left": null
          }
        },
        "fccacabb4a9b43d19ddb75851f537bc9": {
          "model_module": "@jupyter-widgets/controls",
          "model_name": "ProgressStyleModel",
          "model_module_version": "1.5.0",
          "state": {
            "_view_name": "StyleView",
            "_model_name": "ProgressStyleModel",
            "description_width": "",
            "_view_module": "@jupyter-widgets/base",
            "_model_module_version": "1.5.0",
            "_view_count": null,
            "_view_module_version": "1.2.0",
            "bar_color": null,
            "_model_module": "@jupyter-widgets/controls"
          }
        },
        "5acbc006fdfb47f0bce8d62e732bcafe": {
          "model_module": "@jupyter-widgets/base",
          "model_name": "LayoutModel",
          "model_module_version": "1.2.0",
          "state": {
            "_view_name": "LayoutView",
            "grid_template_rows": null,
            "right": null,
            "justify_content": null,
            "_view_module": "@jupyter-widgets/base",
            "overflow": null,
            "_model_module_version": "1.2.0",
            "_view_count": null,
            "flex_flow": null,
            "width": "20px",
            "min_width": null,
            "border": null,
            "align_items": null,
            "bottom": null,
            "_model_module": "@jupyter-widgets/base",
            "top": null,
            "grid_column": null,
            "overflow_y": null,
            "overflow_x": null,
            "grid_auto_flow": null,
            "grid_area": null,
            "grid_template_columns": null,
            "flex": null,
            "_model_name": "LayoutModel",
            "justify_items": null,
            "grid_row": null,
            "max_height": null,
            "align_content": null,
            "visibility": null,
            "align_self": null,
            "height": null,
            "min_height": null,
            "padding": null,
            "grid_auto_rows": null,
            "grid_gap": null,
            "max_width": null,
            "order": null,
            "_view_module_version": "1.2.0",
            "grid_template_areas": null,
            "object_position": null,
            "object_fit": null,
            "grid_auto_columns": null,
            "margin": null,
            "display": null,
            "left": null
          }
        },
        "7019309ce8bb4da7aeec5998d2626cfd": {
          "model_module": "@jupyter-widgets/controls",
          "model_name": "DescriptionStyleModel",
          "model_module_version": "1.5.0",
          "state": {
            "_view_name": "StyleView",
            "_model_name": "DescriptionStyleModel",
            "description_width": "",
            "_view_module": "@jupyter-widgets/base",
            "_model_module_version": "1.5.0",
            "_view_count": null,
            "_view_module_version": "1.2.0",
            "_model_module": "@jupyter-widgets/controls"
          }
        },
        "27336ede18824384bb249cad7c4c1e09": {
          "model_module": "@jupyter-widgets/base",
          "model_name": "LayoutModel",
          "model_module_version": "1.2.0",
          "state": {
            "_view_name": "LayoutView",
            "grid_template_rows": null,
            "right": null,
            "justify_content": null,
            "_view_module": "@jupyter-widgets/base",
            "overflow": null,
            "_model_module_version": "1.2.0",
            "_view_count": null,
            "flex_flow": null,
            "width": null,
            "min_width": null,
            "border": null,
            "align_items": null,
            "bottom": null,
            "_model_module": "@jupyter-widgets/base",
            "top": null,
            "grid_column": null,
            "overflow_y": null,
            "overflow_x": null,
            "grid_auto_flow": null,
            "grid_area": null,
            "grid_template_columns": null,
            "flex": null,
            "_model_name": "LayoutModel",
            "justify_items": null,
            "grid_row": null,
            "max_height": null,
            "align_content": null,
            "visibility": null,
            "align_self": null,
            "height": null,
            "min_height": null,
            "padding": null,
            "grid_auto_rows": null,
            "grid_gap": null,
            "max_width": null,
            "order": null,
            "_view_module_version": "1.2.0",
            "grid_template_areas": null,
            "object_position": null,
            "object_fit": null,
            "grid_auto_columns": null,
            "margin": null,
            "display": null,
            "left": null
          }
        },
        "5677286d98e34afc8943ea28d5165343": {
          "model_module": "@jupyter-widgets/controls",
          "model_name": "HBoxModel",
          "model_module_version": "1.5.0",
          "state": {
            "_view_name": "HBoxView",
            "_dom_classes": [],
            "_model_name": "HBoxModel",
            "_view_module": "@jupyter-widgets/controls",
            "_model_module_version": "1.5.0",
            "_view_count": null,
            "_view_module_version": "1.5.0",
            "box_style": "",
            "layout": "IPY_MODEL_9d9227a5148e452584606ee40dbb606e",
            "_model_module": "@jupyter-widgets/controls",
            "children": [
              "IPY_MODEL_74448d03c8ce4fb4b9c04386be0fd8fb",
              "IPY_MODEL_1c1f575916fe4603ac74599b46a33381",
              "IPY_MODEL_4b87c3cf8a8f4d35b376b1a6bb0cdb9f"
            ]
          }
        },
        "9d9227a5148e452584606ee40dbb606e": {
          "model_module": "@jupyter-widgets/base",
          "model_name": "LayoutModel",
          "model_module_version": "1.2.0",
          "state": {
            "_view_name": "LayoutView",
            "grid_template_rows": null,
            "right": null,
            "justify_content": null,
            "_view_module": "@jupyter-widgets/base",
            "overflow": null,
            "_model_module_version": "1.2.0",
            "_view_count": null,
            "flex_flow": null,
            "width": null,
            "min_width": null,
            "border": null,
            "align_items": null,
            "bottom": null,
            "_model_module": "@jupyter-widgets/base",
            "top": null,
            "grid_column": null,
            "overflow_y": null,
            "overflow_x": null,
            "grid_auto_flow": null,
            "grid_area": null,
            "grid_template_columns": null,
            "flex": null,
            "_model_name": "LayoutModel",
            "justify_items": null,
            "grid_row": null,
            "max_height": null,
            "align_content": null,
            "visibility": null,
            "align_self": null,
            "height": null,
            "min_height": null,
            "padding": null,
            "grid_auto_rows": null,
            "grid_gap": null,
            "max_width": null,
            "order": null,
            "_view_module_version": "1.2.0",
            "grid_template_areas": null,
            "object_position": null,
            "object_fit": null,
            "grid_auto_columns": null,
            "margin": null,
            "display": null,
            "left": null
          }
        },
        "74448d03c8ce4fb4b9c04386be0fd8fb": {
          "model_module": "@jupyter-widgets/controls",
          "model_name": "HTMLModel",
          "model_module_version": "1.5.0",
          "state": {
            "_view_name": "HTMLView",
            "style": "IPY_MODEL_995dd2b8dd6e451bbc783568602b16c2",
            "_dom_classes": [],
            "description": "",
            "_model_name": "HTMLModel",
            "placeholder": "​",
            "_view_module": "@jupyter-widgets/controls",
            "_model_module_version": "1.5.0",
            "value": "100%",
            "_view_count": null,
            "_view_module_version": "1.5.0",
            "description_tooltip": null,
            "_model_module": "@jupyter-widgets/controls",
            "layout": "IPY_MODEL_c6ee68ecd8824cc99ad4d830d05ffdf9"
          }
        },
        "1c1f575916fe4603ac74599b46a33381": {
          "model_module": "@jupyter-widgets/controls",
          "model_name": "FloatProgressModel",
          "model_module_version": "1.5.0",
          "state": {
            "_view_name": "ProgressView",
            "style": "IPY_MODEL_5afcc0badac947f2816c407f3298f948",
            "_dom_classes": [],
            "description": "",
            "_model_name": "FloatProgressModel",
            "bar_style": "success",
            "max": 2,
            "_view_module": "@jupyter-widgets/controls",
            "_model_module_version": "1.5.0",
            "value": 2,
            "_view_count": null,
            "_view_module_version": "1.5.0",
            "orientation": "horizontal",
            "min": 0,
            "description_tooltip": null,
            "_model_module": "@jupyter-widgets/controls",
            "layout": "IPY_MODEL_3345e16f5f074aca941d92aa28f3e2a9"
          }
        },
        "4b87c3cf8a8f4d35b376b1a6bb0cdb9f": {
          "model_module": "@jupyter-widgets/controls",
          "model_name": "HTMLModel",
          "model_module_version": "1.5.0",
          "state": {
            "_view_name": "HTMLView",
            "style": "IPY_MODEL_fd4dcec5aa52481baf87c479ee8f5c39",
            "_dom_classes": [],
            "description": "",
            "_model_name": "HTMLModel",
            "placeholder": "​",
            "_view_module": "@jupyter-widgets/controls",
            "_model_module_version": "1.5.0",
            "value": " 2/2 [00:00&lt;00:00, 35.59it/s]",
            "_view_count": null,
            "_view_module_version": "1.5.0",
            "description_tooltip": null,
            "_model_module": "@jupyter-widgets/controls",
            "layout": "IPY_MODEL_2dd48f7065d647f9ab28ff844fadf91b"
          }
        },
        "995dd2b8dd6e451bbc783568602b16c2": {
          "model_module": "@jupyter-widgets/controls",
          "model_name": "DescriptionStyleModel",
          "model_module_version": "1.5.0",
          "state": {
            "_view_name": "StyleView",
            "_model_name": "DescriptionStyleModel",
            "description_width": "",
            "_view_module": "@jupyter-widgets/base",
            "_model_module_version": "1.5.0",
            "_view_count": null,
            "_view_module_version": "1.2.0",
            "_model_module": "@jupyter-widgets/controls"
          }
        },
        "c6ee68ecd8824cc99ad4d830d05ffdf9": {
          "model_module": "@jupyter-widgets/base",
          "model_name": "LayoutModel",
          "model_module_version": "1.2.0",
          "state": {
            "_view_name": "LayoutView",
            "grid_template_rows": null,
            "right": null,
            "justify_content": null,
            "_view_module": "@jupyter-widgets/base",
            "overflow": null,
            "_model_module_version": "1.2.0",
            "_view_count": null,
            "flex_flow": null,
            "width": null,
            "min_width": null,
            "border": null,
            "align_items": null,
            "bottom": null,
            "_model_module": "@jupyter-widgets/base",
            "top": null,
            "grid_column": null,
            "overflow_y": null,
            "overflow_x": null,
            "grid_auto_flow": null,
            "grid_area": null,
            "grid_template_columns": null,
            "flex": null,
            "_model_name": "LayoutModel",
            "justify_items": null,
            "grid_row": null,
            "max_height": null,
            "align_content": null,
            "visibility": null,
            "align_self": null,
            "height": null,
            "min_height": null,
            "padding": null,
            "grid_auto_rows": null,
            "grid_gap": null,
            "max_width": null,
            "order": null,
            "_view_module_version": "1.2.0",
            "grid_template_areas": null,
            "object_position": null,
            "object_fit": null,
            "grid_auto_columns": null,
            "margin": null,
            "display": null,
            "left": null
          }
        },
        "5afcc0badac947f2816c407f3298f948": {
          "model_module": "@jupyter-widgets/controls",
          "model_name": "ProgressStyleModel",
          "model_module_version": "1.5.0",
          "state": {
            "_view_name": "StyleView",
            "_model_name": "ProgressStyleModel",
            "description_width": "",
            "_view_module": "@jupyter-widgets/base",
            "_model_module_version": "1.5.0",
            "_view_count": null,
            "_view_module_version": "1.2.0",
            "bar_color": null,
            "_model_module": "@jupyter-widgets/controls"
          }
        },
        "3345e16f5f074aca941d92aa28f3e2a9": {
          "model_module": "@jupyter-widgets/base",
          "model_name": "LayoutModel",
          "model_module_version": "1.2.0",
          "state": {
            "_view_name": "LayoutView",
            "grid_template_rows": null,
            "right": null,
            "justify_content": null,
            "_view_module": "@jupyter-widgets/base",
            "overflow": null,
            "_model_module_version": "1.2.0",
            "_view_count": null,
            "flex_flow": null,
            "width": null,
            "min_width": null,
            "border": null,
            "align_items": null,
            "bottom": null,
            "_model_module": "@jupyter-widgets/base",
            "top": null,
            "grid_column": null,
            "overflow_y": null,
            "overflow_x": null,
            "grid_auto_flow": null,
            "grid_area": null,
            "grid_template_columns": null,
            "flex": null,
            "_model_name": "LayoutModel",
            "justify_items": null,
            "grid_row": null,
            "max_height": null,
            "align_content": null,
            "visibility": null,
            "align_self": null,
            "height": null,
            "min_height": null,
            "padding": null,
            "grid_auto_rows": null,
            "grid_gap": null,
            "max_width": null,
            "order": null,
            "_view_module_version": "1.2.0",
            "grid_template_areas": null,
            "object_position": null,
            "object_fit": null,
            "grid_auto_columns": null,
            "margin": null,
            "display": null,
            "left": null
          }
        },
        "fd4dcec5aa52481baf87c479ee8f5c39": {
          "model_module": "@jupyter-widgets/controls",
          "model_name": "DescriptionStyleModel",
          "model_module_version": "1.5.0",
          "state": {
            "_view_name": "StyleView",
            "_model_name": "DescriptionStyleModel",
            "description_width": "",
            "_view_module": "@jupyter-widgets/base",
            "_model_module_version": "1.5.0",
            "_view_count": null,
            "_view_module_version": "1.2.0",
            "_model_module": "@jupyter-widgets/controls"
          }
        },
        "2dd48f7065d647f9ab28ff844fadf91b": {
          "model_module": "@jupyter-widgets/base",
          "model_name": "LayoutModel",
          "model_module_version": "1.2.0",
          "state": {
            "_view_name": "LayoutView",
            "grid_template_rows": null,
            "right": null,
            "justify_content": null,
            "_view_module": "@jupyter-widgets/base",
            "overflow": null,
            "_model_module_version": "1.2.0",
            "_view_count": null,
            "flex_flow": null,
            "width": null,
            "min_width": null,
            "border": null,
            "align_items": null,
            "bottom": null,
            "_model_module": "@jupyter-widgets/base",
            "top": null,
            "grid_column": null,
            "overflow_y": null,
            "overflow_x": null,
            "grid_auto_flow": null,
            "grid_area": null,
            "grid_template_columns": null,
            "flex": null,
            "_model_name": "LayoutModel",
            "justify_items": null,
            "grid_row": null,
            "max_height": null,
            "align_content": null,
            "visibility": null,
            "align_self": null,
            "height": null,
            "min_height": null,
            "padding": null,
            "grid_auto_rows": null,
            "grid_gap": null,
            "max_width": null,
            "order": null,
            "_view_module_version": "1.2.0",
            "grid_template_areas": null,
            "object_position": null,
            "object_fit": null,
            "grid_auto_columns": null,
            "margin": null,
            "display": null,
            "left": null
          }
        },
        "b8a23780df8142069b10802a5dbdf1e1": {
          "model_module": "@jupyter-widgets/controls",
          "model_name": "HBoxModel",
          "model_module_version": "1.5.0",
          "state": {
            "_view_name": "HBoxView",
            "_dom_classes": [],
            "_model_name": "HBoxModel",
            "_view_module": "@jupyter-widgets/controls",
            "_model_module_version": "1.5.0",
            "_view_count": null,
            "_view_module_version": "1.5.0",
            "box_style": "",
            "layout": "IPY_MODEL_5723b1ebef5f4970b92d512ac4fcbd0b",
            "_model_module": "@jupyter-widgets/controls",
            "children": [
              "IPY_MODEL_bf4437935aae4769bba4f1d96047ed5a",
              "IPY_MODEL_2d8f90be77dc4475afe084a067b1f9f5",
              "IPY_MODEL_bdf7a141fba84c8280d8e90efbc19f26"
            ]
          }
        },
        "5723b1ebef5f4970b92d512ac4fcbd0b": {
          "model_module": "@jupyter-widgets/base",
          "model_name": "LayoutModel",
          "model_module_version": "1.2.0",
          "state": {
            "_view_name": "LayoutView",
            "grid_template_rows": null,
            "right": null,
            "justify_content": null,
            "_view_module": "@jupyter-widgets/base",
            "overflow": null,
            "_model_module_version": "1.2.0",
            "_view_count": null,
            "flex_flow": null,
            "width": null,
            "min_width": null,
            "border": null,
            "align_items": null,
            "bottom": null,
            "_model_module": "@jupyter-widgets/base",
            "top": null,
            "grid_column": null,
            "overflow_y": null,
            "overflow_x": null,
            "grid_auto_flow": null,
            "grid_area": null,
            "grid_template_columns": null,
            "flex": null,
            "_model_name": "LayoutModel",
            "justify_items": null,
            "grid_row": null,
            "max_height": null,
            "align_content": null,
            "visibility": null,
            "align_self": null,
            "height": null,
            "min_height": null,
            "padding": null,
            "grid_auto_rows": null,
            "grid_gap": null,
            "max_width": null,
            "order": null,
            "_view_module_version": "1.2.0",
            "grid_template_areas": null,
            "object_position": null,
            "object_fit": null,
            "grid_auto_columns": null,
            "margin": null,
            "display": null,
            "left": null
          }
        },
        "bf4437935aae4769bba4f1d96047ed5a": {
          "model_module": "@jupyter-widgets/controls",
          "model_name": "HTMLModel",
          "model_module_version": "1.5.0",
          "state": {
            "_view_name": "HTMLView",
            "style": "IPY_MODEL_db2834f4bb2b460f99e2ec637c5e1641",
            "_dom_classes": [],
            "description": "",
            "_model_name": "HTMLModel",
            "placeholder": "​",
            "_view_module": "@jupyter-widgets/controls",
            "_model_module_version": "1.5.0",
            "value": "Downloading: 100%",
            "_view_count": null,
            "_view_module_version": "1.5.0",
            "description_tooltip": null,
            "_model_module": "@jupyter-widgets/controls",
            "layout": "IPY_MODEL_72234a893d3a4322b9f2ae716f97573e"
          }
        },
        "2d8f90be77dc4475afe084a067b1f9f5": {
          "model_module": "@jupyter-widgets/controls",
          "model_name": "FloatProgressModel",
          "model_module_version": "1.5.0",
          "state": {
            "_view_name": "ProgressView",
            "style": "IPY_MODEL_cd81b19e29994d308a636c57159b2d11",
            "_dom_classes": [],
            "description": "",
            "_model_name": "FloatProgressModel",
            "bar_style": "success",
            "max": 29,
            "_view_module": "@jupyter-widgets/controls",
            "_model_module_version": "1.5.0",
            "value": 29,
            "_view_count": null,
            "_view_module_version": "1.5.0",
            "orientation": "horizontal",
            "min": 0,
            "description_tooltip": null,
            "_model_module": "@jupyter-widgets/controls",
            "layout": "IPY_MODEL_661605db005d4f82b33864e1ab805b4b"
          }
        },
        "bdf7a141fba84c8280d8e90efbc19f26": {
          "model_module": "@jupyter-widgets/controls",
          "model_name": "HTMLModel",
          "model_module_version": "1.5.0",
          "state": {
            "_view_name": "HTMLView",
            "style": "IPY_MODEL_a4fbe82beb194fedb95012f238a86cdf",
            "_dom_classes": [],
            "description": "",
            "_model_name": "HTMLModel",
            "placeholder": "​",
            "_view_module": "@jupyter-widgets/controls",
            "_model_module_version": "1.5.0",
            "value": " 29.0/29.0 [00:00&lt;00:00, 724B/s]",
            "_view_count": null,
            "_view_module_version": "1.5.0",
            "description_tooltip": null,
            "_model_module": "@jupyter-widgets/controls",
            "layout": "IPY_MODEL_dbad97cb0d934c61bfcb1cf45976a875"
          }
        },
        "db2834f4bb2b460f99e2ec637c5e1641": {
          "model_module": "@jupyter-widgets/controls",
          "model_name": "DescriptionStyleModel",
          "model_module_version": "1.5.0",
          "state": {
            "_view_name": "StyleView",
            "_model_name": "DescriptionStyleModel",
            "description_width": "",
            "_view_module": "@jupyter-widgets/base",
            "_model_module_version": "1.5.0",
            "_view_count": null,
            "_view_module_version": "1.2.0",
            "_model_module": "@jupyter-widgets/controls"
          }
        },
        "72234a893d3a4322b9f2ae716f97573e": {
          "model_module": "@jupyter-widgets/base",
          "model_name": "LayoutModel",
          "model_module_version": "1.2.0",
          "state": {
            "_view_name": "LayoutView",
            "grid_template_rows": null,
            "right": null,
            "justify_content": null,
            "_view_module": "@jupyter-widgets/base",
            "overflow": null,
            "_model_module_version": "1.2.0",
            "_view_count": null,
            "flex_flow": null,
            "width": null,
            "min_width": null,
            "border": null,
            "align_items": null,
            "bottom": null,
            "_model_module": "@jupyter-widgets/base",
            "top": null,
            "grid_column": null,
            "overflow_y": null,
            "overflow_x": null,
            "grid_auto_flow": null,
            "grid_area": null,
            "grid_template_columns": null,
            "flex": null,
            "_model_name": "LayoutModel",
            "justify_items": null,
            "grid_row": null,
            "max_height": null,
            "align_content": null,
            "visibility": null,
            "align_self": null,
            "height": null,
            "min_height": null,
            "padding": null,
            "grid_auto_rows": null,
            "grid_gap": null,
            "max_width": null,
            "order": null,
            "_view_module_version": "1.2.0",
            "grid_template_areas": null,
            "object_position": null,
            "object_fit": null,
            "grid_auto_columns": null,
            "margin": null,
            "display": null,
            "left": null
          }
        },
        "cd81b19e29994d308a636c57159b2d11": {
          "model_module": "@jupyter-widgets/controls",
          "model_name": "ProgressStyleModel",
          "model_module_version": "1.5.0",
          "state": {
            "_view_name": "StyleView",
            "_model_name": "ProgressStyleModel",
            "description_width": "",
            "_view_module": "@jupyter-widgets/base",
            "_model_module_version": "1.5.0",
            "_view_count": null,
            "_view_module_version": "1.2.0",
            "bar_color": null,
            "_model_module": "@jupyter-widgets/controls"
          }
        },
        "661605db005d4f82b33864e1ab805b4b": {
          "model_module": "@jupyter-widgets/base",
          "model_name": "LayoutModel",
          "model_module_version": "1.2.0",
          "state": {
            "_view_name": "LayoutView",
            "grid_template_rows": null,
            "right": null,
            "justify_content": null,
            "_view_module": "@jupyter-widgets/base",
            "overflow": null,
            "_model_module_version": "1.2.0",
            "_view_count": null,
            "flex_flow": null,
            "width": null,
            "min_width": null,
            "border": null,
            "align_items": null,
            "bottom": null,
            "_model_module": "@jupyter-widgets/base",
            "top": null,
            "grid_column": null,
            "overflow_y": null,
            "overflow_x": null,
            "grid_auto_flow": null,
            "grid_area": null,
            "grid_template_columns": null,
            "flex": null,
            "_model_name": "LayoutModel",
            "justify_items": null,
            "grid_row": null,
            "max_height": null,
            "align_content": null,
            "visibility": null,
            "align_self": null,
            "height": null,
            "min_height": null,
            "padding": null,
            "grid_auto_rows": null,
            "grid_gap": null,
            "max_width": null,
            "order": null,
            "_view_module_version": "1.2.0",
            "grid_template_areas": null,
            "object_position": null,
            "object_fit": null,
            "grid_auto_columns": null,
            "margin": null,
            "display": null,
            "left": null
          }
        },
        "a4fbe82beb194fedb95012f238a86cdf": {
          "model_module": "@jupyter-widgets/controls",
          "model_name": "DescriptionStyleModel",
          "model_module_version": "1.5.0",
          "state": {
            "_view_name": "StyleView",
            "_model_name": "DescriptionStyleModel",
            "description_width": "",
            "_view_module": "@jupyter-widgets/base",
            "_model_module_version": "1.5.0",
            "_view_count": null,
            "_view_module_version": "1.2.0",
            "_model_module": "@jupyter-widgets/controls"
          }
        },
        "dbad97cb0d934c61bfcb1cf45976a875": {
          "model_module": "@jupyter-widgets/base",
          "model_name": "LayoutModel",
          "model_module_version": "1.2.0",
          "state": {
            "_view_name": "LayoutView",
            "grid_template_rows": null,
            "right": null,
            "justify_content": null,
            "_view_module": "@jupyter-widgets/base",
            "overflow": null,
            "_model_module_version": "1.2.0",
            "_view_count": null,
            "flex_flow": null,
            "width": null,
            "min_width": null,
            "border": null,
            "align_items": null,
            "bottom": null,
            "_model_module": "@jupyter-widgets/base",
            "top": null,
            "grid_column": null,
            "overflow_y": null,
            "overflow_x": null,
            "grid_auto_flow": null,
            "grid_area": null,
            "grid_template_columns": null,
            "flex": null,
            "_model_name": "LayoutModel",
            "justify_items": null,
            "grid_row": null,
            "max_height": null,
            "align_content": null,
            "visibility": null,
            "align_self": null,
            "height": null,
            "min_height": null,
            "padding": null,
            "grid_auto_rows": null,
            "grid_gap": null,
            "max_width": null,
            "order": null,
            "_view_module_version": "1.2.0",
            "grid_template_areas": null,
            "object_position": null,
            "object_fit": null,
            "grid_auto_columns": null,
            "margin": null,
            "display": null,
            "left": null
          }
        },
        "ce698ea411d1433185086c2330281aa3": {
          "model_module": "@jupyter-widgets/controls",
          "model_name": "HBoxModel",
          "model_module_version": "1.5.0",
          "state": {
            "_view_name": "HBoxView",
            "_dom_classes": [],
            "_model_name": "HBoxModel",
            "_view_module": "@jupyter-widgets/controls",
            "_model_module_version": "1.5.0",
            "_view_count": null,
            "_view_module_version": "1.5.0",
            "box_style": "",
            "layout": "IPY_MODEL_2ea72d8e866242b495ad6abaea2ae30f",
            "_model_module": "@jupyter-widgets/controls",
            "children": [
              "IPY_MODEL_592305c04b0c438aa142aa755ed05e06",
              "IPY_MODEL_5965c139c04e4e07b969c292eb18bd1e",
              "IPY_MODEL_1219f1b2a2a1455094cdea860e1fd884"
            ]
          }
        },
        "2ea72d8e866242b495ad6abaea2ae30f": {
          "model_module": "@jupyter-widgets/base",
          "model_name": "LayoutModel",
          "model_module_version": "1.2.0",
          "state": {
            "_view_name": "LayoutView",
            "grid_template_rows": null,
            "right": null,
            "justify_content": null,
            "_view_module": "@jupyter-widgets/base",
            "overflow": null,
            "_model_module_version": "1.2.0",
            "_view_count": null,
            "flex_flow": null,
            "width": null,
            "min_width": null,
            "border": null,
            "align_items": null,
            "bottom": null,
            "_model_module": "@jupyter-widgets/base",
            "top": null,
            "grid_column": null,
            "overflow_y": null,
            "overflow_x": null,
            "grid_auto_flow": null,
            "grid_area": null,
            "grid_template_columns": null,
            "flex": null,
            "_model_name": "LayoutModel",
            "justify_items": null,
            "grid_row": null,
            "max_height": null,
            "align_content": null,
            "visibility": null,
            "align_self": null,
            "height": null,
            "min_height": null,
            "padding": null,
            "grid_auto_rows": null,
            "grid_gap": null,
            "max_width": null,
            "order": null,
            "_view_module_version": "1.2.0",
            "grid_template_areas": null,
            "object_position": null,
            "object_fit": null,
            "grid_auto_columns": null,
            "margin": null,
            "display": null,
            "left": null
          }
        },
        "592305c04b0c438aa142aa755ed05e06": {
          "model_module": "@jupyter-widgets/controls",
          "model_name": "HTMLModel",
          "model_module_version": "1.5.0",
          "state": {
            "_view_name": "HTMLView",
            "style": "IPY_MODEL_49f5ef801f5b48d88c1bd79a245137cf",
            "_dom_classes": [],
            "description": "",
            "_model_name": "HTMLModel",
            "placeholder": "​",
            "_view_module": "@jupyter-widgets/controls",
            "_model_module_version": "1.5.0",
            "value": "Downloading: 100%",
            "_view_count": null,
            "_view_module_version": "1.5.0",
            "description_tooltip": null,
            "_model_module": "@jupyter-widgets/controls",
            "layout": "IPY_MODEL_779c43e4fed54398b67c965e8ba91917"
          }
        },
        "5965c139c04e4e07b969c292eb18bd1e": {
          "model_module": "@jupyter-widgets/controls",
          "model_name": "FloatProgressModel",
          "model_module_version": "1.5.0",
          "state": {
            "_view_name": "ProgressView",
            "style": "IPY_MODEL_ab0323f4e46043b4b203da7ebc136078",
            "_dom_classes": [],
            "description": "",
            "_model_name": "FloatProgressModel",
            "bar_style": "success",
            "max": 625,
            "_view_module": "@jupyter-widgets/controls",
            "_model_module_version": "1.5.0",
            "value": 625,
            "_view_count": null,
            "_view_module_version": "1.5.0",
            "orientation": "horizontal",
            "min": 0,
            "description_tooltip": null,
            "_model_module": "@jupyter-widgets/controls",
            "layout": "IPY_MODEL_cdc0f45e9459481c947d000bb9a2e7ca"
          }
        },
        "1219f1b2a2a1455094cdea860e1fd884": {
          "model_module": "@jupyter-widgets/controls",
          "model_name": "HTMLModel",
          "model_module_version": "1.5.0",
          "state": {
            "_view_name": "HTMLView",
            "style": "IPY_MODEL_f084b6a9423448779fc906048ccc7478",
            "_dom_classes": [],
            "description": "",
            "_model_name": "HTMLModel",
            "placeholder": "​",
            "_view_module": "@jupyter-widgets/controls",
            "_model_module_version": "1.5.0",
            "value": " 625/625 [00:00&lt;00:00, 16.4kB/s]",
            "_view_count": null,
            "_view_module_version": "1.5.0",
            "description_tooltip": null,
            "_model_module": "@jupyter-widgets/controls",
            "layout": "IPY_MODEL_502a9c0a2ca946fab1a18e8223ed00b3"
          }
        },
        "49f5ef801f5b48d88c1bd79a245137cf": {
          "model_module": "@jupyter-widgets/controls",
          "model_name": "DescriptionStyleModel",
          "model_module_version": "1.5.0",
          "state": {
            "_view_name": "StyleView",
            "_model_name": "DescriptionStyleModel",
            "description_width": "",
            "_view_module": "@jupyter-widgets/base",
            "_model_module_version": "1.5.0",
            "_view_count": null,
            "_view_module_version": "1.2.0",
            "_model_module": "@jupyter-widgets/controls"
          }
        },
        "779c43e4fed54398b67c965e8ba91917": {
          "model_module": "@jupyter-widgets/base",
          "model_name": "LayoutModel",
          "model_module_version": "1.2.0",
          "state": {
            "_view_name": "LayoutView",
            "grid_template_rows": null,
            "right": null,
            "justify_content": null,
            "_view_module": "@jupyter-widgets/base",
            "overflow": null,
            "_model_module_version": "1.2.0",
            "_view_count": null,
            "flex_flow": null,
            "width": null,
            "min_width": null,
            "border": null,
            "align_items": null,
            "bottom": null,
            "_model_module": "@jupyter-widgets/base",
            "top": null,
            "grid_column": null,
            "overflow_y": null,
            "overflow_x": null,
            "grid_auto_flow": null,
            "grid_area": null,
            "grid_template_columns": null,
            "flex": null,
            "_model_name": "LayoutModel",
            "justify_items": null,
            "grid_row": null,
            "max_height": null,
            "align_content": null,
            "visibility": null,
            "align_self": null,
            "height": null,
            "min_height": null,
            "padding": null,
            "grid_auto_rows": null,
            "grid_gap": null,
            "max_width": null,
            "order": null,
            "_view_module_version": "1.2.0",
            "grid_template_areas": null,
            "object_position": null,
            "object_fit": null,
            "grid_auto_columns": null,
            "margin": null,
            "display": null,
            "left": null
          }
        },
        "ab0323f4e46043b4b203da7ebc136078": {
          "model_module": "@jupyter-widgets/controls",
          "model_name": "ProgressStyleModel",
          "model_module_version": "1.5.0",
          "state": {
            "_view_name": "StyleView",
            "_model_name": "ProgressStyleModel",
            "description_width": "",
            "_view_module": "@jupyter-widgets/base",
            "_model_module_version": "1.5.0",
            "_view_count": null,
            "_view_module_version": "1.2.0",
            "bar_color": null,
            "_model_module": "@jupyter-widgets/controls"
          }
        },
        "cdc0f45e9459481c947d000bb9a2e7ca": {
          "model_module": "@jupyter-widgets/base",
          "model_name": "LayoutModel",
          "model_module_version": "1.2.0",
          "state": {
            "_view_name": "LayoutView",
            "grid_template_rows": null,
            "right": null,
            "justify_content": null,
            "_view_module": "@jupyter-widgets/base",
            "overflow": null,
            "_model_module_version": "1.2.0",
            "_view_count": null,
            "flex_flow": null,
            "width": null,
            "min_width": null,
            "border": null,
            "align_items": null,
            "bottom": null,
            "_model_module": "@jupyter-widgets/base",
            "top": null,
            "grid_column": null,
            "overflow_y": null,
            "overflow_x": null,
            "grid_auto_flow": null,
            "grid_area": null,
            "grid_template_columns": null,
            "flex": null,
            "_model_name": "LayoutModel",
            "justify_items": null,
            "grid_row": null,
            "max_height": null,
            "align_content": null,
            "visibility": null,
            "align_self": null,
            "height": null,
            "min_height": null,
            "padding": null,
            "grid_auto_rows": null,
            "grid_gap": null,
            "max_width": null,
            "order": null,
            "_view_module_version": "1.2.0",
            "grid_template_areas": null,
            "object_position": null,
            "object_fit": null,
            "grid_auto_columns": null,
            "margin": null,
            "display": null,
            "left": null
          }
        },
        "f084b6a9423448779fc906048ccc7478": {
          "model_module": "@jupyter-widgets/controls",
          "model_name": "DescriptionStyleModel",
          "model_module_version": "1.5.0",
          "state": {
            "_view_name": "StyleView",
            "_model_name": "DescriptionStyleModel",
            "description_width": "",
            "_view_module": "@jupyter-widgets/base",
            "_model_module_version": "1.5.0",
            "_view_count": null,
            "_view_module_version": "1.2.0",
            "_model_module": "@jupyter-widgets/controls"
          }
        },
        "502a9c0a2ca946fab1a18e8223ed00b3": {
          "model_module": "@jupyter-widgets/base",
          "model_name": "LayoutModel",
          "model_module_version": "1.2.0",
          "state": {
            "_view_name": "LayoutView",
            "grid_template_rows": null,
            "right": null,
            "justify_content": null,
            "_view_module": "@jupyter-widgets/base",
            "overflow": null,
            "_model_module_version": "1.2.0",
            "_view_count": null,
            "flex_flow": null,
            "width": null,
            "min_width": null,
            "border": null,
            "align_items": null,
            "bottom": null,
            "_model_module": "@jupyter-widgets/base",
            "top": null,
            "grid_column": null,
            "overflow_y": null,
            "overflow_x": null,
            "grid_auto_flow": null,
            "grid_area": null,
            "grid_template_columns": null,
            "flex": null,
            "_model_name": "LayoutModel",
            "justify_items": null,
            "grid_row": null,
            "max_height": null,
            "align_content": null,
            "visibility": null,
            "align_self": null,
            "height": null,
            "min_height": null,
            "padding": null,
            "grid_auto_rows": null,
            "grid_gap": null,
            "max_width": null,
            "order": null,
            "_view_module_version": "1.2.0",
            "grid_template_areas": null,
            "object_position": null,
            "object_fit": null,
            "grid_auto_columns": null,
            "margin": null,
            "display": null,
            "left": null
          }
        },
        "157447b25abe48168ddae0c46664115b": {
          "model_module": "@jupyter-widgets/controls",
          "model_name": "HBoxModel",
          "model_module_version": "1.5.0",
          "state": {
            "_view_name": "HBoxView",
            "_dom_classes": [],
            "_model_name": "HBoxModel",
            "_view_module": "@jupyter-widgets/controls",
            "_model_module_version": "1.5.0",
            "_view_count": null,
            "_view_module_version": "1.5.0",
            "box_style": "",
            "layout": "IPY_MODEL_00251b24c6304b4883f398efbd07b36a",
            "_model_module": "@jupyter-widgets/controls",
            "children": [
              "IPY_MODEL_202354398e10489aa26295a158b4c392",
              "IPY_MODEL_8481d14862c14928b8a5ed9c3c70f192",
              "IPY_MODEL_c755875fb79f4765999ca19f4fd67279"
            ]
          }
        },
        "00251b24c6304b4883f398efbd07b36a": {
          "model_module": "@jupyter-widgets/base",
          "model_name": "LayoutModel",
          "model_module_version": "1.2.0",
          "state": {
            "_view_name": "LayoutView",
            "grid_template_rows": null,
            "right": null,
            "justify_content": null,
            "_view_module": "@jupyter-widgets/base",
            "overflow": null,
            "_model_module_version": "1.2.0",
            "_view_count": null,
            "flex_flow": null,
            "width": null,
            "min_width": null,
            "border": null,
            "align_items": null,
            "bottom": null,
            "_model_module": "@jupyter-widgets/base",
            "top": null,
            "grid_column": null,
            "overflow_y": null,
            "overflow_x": null,
            "grid_auto_flow": null,
            "grid_area": null,
            "grid_template_columns": null,
            "flex": null,
            "_model_name": "LayoutModel",
            "justify_items": null,
            "grid_row": null,
            "max_height": null,
            "align_content": null,
            "visibility": null,
            "align_self": null,
            "height": null,
            "min_height": null,
            "padding": null,
            "grid_auto_rows": null,
            "grid_gap": null,
            "max_width": null,
            "order": null,
            "_view_module_version": "1.2.0",
            "grid_template_areas": null,
            "object_position": null,
            "object_fit": null,
            "grid_auto_columns": null,
            "margin": null,
            "display": null,
            "left": null
          }
        },
        "202354398e10489aa26295a158b4c392": {
          "model_module": "@jupyter-widgets/controls",
          "model_name": "HTMLModel",
          "model_module_version": "1.5.0",
          "state": {
            "_view_name": "HTMLView",
            "style": "IPY_MODEL_8870e6b1cd1d4eff8539c68827115214",
            "_dom_classes": [],
            "description": "",
            "_model_name": "HTMLModel",
            "placeholder": "​",
            "_view_module": "@jupyter-widgets/controls",
            "_model_module_version": "1.5.0",
            "value": "Downloading: 100%",
            "_view_count": null,
            "_view_module_version": "1.5.0",
            "description_tooltip": null,
            "_model_module": "@jupyter-widgets/controls",
            "layout": "IPY_MODEL_0de0897a04cb4c2caf3b37b05c90c59d"
          }
        },
        "8481d14862c14928b8a5ed9c3c70f192": {
          "model_module": "@jupyter-widgets/controls",
          "model_name": "FloatProgressModel",
          "model_module_version": "1.5.0",
          "state": {
            "_view_name": "ProgressView",
            "style": "IPY_MODEL_1b20bad85da644869e6525099b4af55c",
            "_dom_classes": [],
            "description": "",
            "_model_name": "FloatProgressModel",
            "bar_style": "success",
            "max": 995526,
            "_view_module": "@jupyter-widgets/controls",
            "_model_module_version": "1.5.0",
            "value": 995526,
            "_view_count": null,
            "_view_module_version": "1.5.0",
            "orientation": "horizontal",
            "min": 0,
            "description_tooltip": null,
            "_model_module": "@jupyter-widgets/controls",
            "layout": "IPY_MODEL_107f5c3584214dfdb932e7e930538d56"
          }
        },
        "c755875fb79f4765999ca19f4fd67279": {
          "model_module": "@jupyter-widgets/controls",
          "model_name": "HTMLModel",
          "model_module_version": "1.5.0",
          "state": {
            "_view_name": "HTMLView",
            "style": "IPY_MODEL_80e7e0f2b2334f90a8c5f22e2da97955",
            "_dom_classes": [],
            "description": "",
            "_model_name": "HTMLModel",
            "placeholder": "​",
            "_view_module": "@jupyter-widgets/controls",
            "_model_module_version": "1.5.0",
            "value": " 972k/972k [00:00&lt;00:00, 1.00MB/s]",
            "_view_count": null,
            "_view_module_version": "1.5.0",
            "description_tooltip": null,
            "_model_module": "@jupyter-widgets/controls",
            "layout": "IPY_MODEL_edcc38c098ce4398995e17c34bdf0285"
          }
        },
        "8870e6b1cd1d4eff8539c68827115214": {
          "model_module": "@jupyter-widgets/controls",
          "model_name": "DescriptionStyleModel",
          "model_module_version": "1.5.0",
          "state": {
            "_view_name": "StyleView",
            "_model_name": "DescriptionStyleModel",
            "description_width": "",
            "_view_module": "@jupyter-widgets/base",
            "_model_module_version": "1.5.0",
            "_view_count": null,
            "_view_module_version": "1.2.0",
            "_model_module": "@jupyter-widgets/controls"
          }
        },
        "0de0897a04cb4c2caf3b37b05c90c59d": {
          "model_module": "@jupyter-widgets/base",
          "model_name": "LayoutModel",
          "model_module_version": "1.2.0",
          "state": {
            "_view_name": "LayoutView",
            "grid_template_rows": null,
            "right": null,
            "justify_content": null,
            "_view_module": "@jupyter-widgets/base",
            "overflow": null,
            "_model_module_version": "1.2.0",
            "_view_count": null,
            "flex_flow": null,
            "width": null,
            "min_width": null,
            "border": null,
            "align_items": null,
            "bottom": null,
            "_model_module": "@jupyter-widgets/base",
            "top": null,
            "grid_column": null,
            "overflow_y": null,
            "overflow_x": null,
            "grid_auto_flow": null,
            "grid_area": null,
            "grid_template_columns": null,
            "flex": null,
            "_model_name": "LayoutModel",
            "justify_items": null,
            "grid_row": null,
            "max_height": null,
            "align_content": null,
            "visibility": null,
            "align_self": null,
            "height": null,
            "min_height": null,
            "padding": null,
            "grid_auto_rows": null,
            "grid_gap": null,
            "max_width": null,
            "order": null,
            "_view_module_version": "1.2.0",
            "grid_template_areas": null,
            "object_position": null,
            "object_fit": null,
            "grid_auto_columns": null,
            "margin": null,
            "display": null,
            "left": null
          }
        },
        "1b20bad85da644869e6525099b4af55c": {
          "model_module": "@jupyter-widgets/controls",
          "model_name": "ProgressStyleModel",
          "model_module_version": "1.5.0",
          "state": {
            "_view_name": "StyleView",
            "_model_name": "ProgressStyleModel",
            "description_width": "",
            "_view_module": "@jupyter-widgets/base",
            "_model_module_version": "1.5.0",
            "_view_count": null,
            "_view_module_version": "1.2.0",
            "bar_color": null,
            "_model_module": "@jupyter-widgets/controls"
          }
        },
        "107f5c3584214dfdb932e7e930538d56": {
          "model_module": "@jupyter-widgets/base",
          "model_name": "LayoutModel",
          "model_module_version": "1.2.0",
          "state": {
            "_view_name": "LayoutView",
            "grid_template_rows": null,
            "right": null,
            "justify_content": null,
            "_view_module": "@jupyter-widgets/base",
            "overflow": null,
            "_model_module_version": "1.2.0",
            "_view_count": null,
            "flex_flow": null,
            "width": null,
            "min_width": null,
            "border": null,
            "align_items": null,
            "bottom": null,
            "_model_module": "@jupyter-widgets/base",
            "top": null,
            "grid_column": null,
            "overflow_y": null,
            "overflow_x": null,
            "grid_auto_flow": null,
            "grid_area": null,
            "grid_template_columns": null,
            "flex": null,
            "_model_name": "LayoutModel",
            "justify_items": null,
            "grid_row": null,
            "max_height": null,
            "align_content": null,
            "visibility": null,
            "align_self": null,
            "height": null,
            "min_height": null,
            "padding": null,
            "grid_auto_rows": null,
            "grid_gap": null,
            "max_width": null,
            "order": null,
            "_view_module_version": "1.2.0",
            "grid_template_areas": null,
            "object_position": null,
            "object_fit": null,
            "grid_auto_columns": null,
            "margin": null,
            "display": null,
            "left": null
          }
        },
        "80e7e0f2b2334f90a8c5f22e2da97955": {
          "model_module": "@jupyter-widgets/controls",
          "model_name": "DescriptionStyleModel",
          "model_module_version": "1.5.0",
          "state": {
            "_view_name": "StyleView",
            "_model_name": "DescriptionStyleModel",
            "description_width": "",
            "_view_module": "@jupyter-widgets/base",
            "_model_module_version": "1.5.0",
            "_view_count": null,
            "_view_module_version": "1.2.0",
            "_model_module": "@jupyter-widgets/controls"
          }
        },
        "edcc38c098ce4398995e17c34bdf0285": {
          "model_module": "@jupyter-widgets/base",
          "model_name": "LayoutModel",
          "model_module_version": "1.2.0",
          "state": {
            "_view_name": "LayoutView",
            "grid_template_rows": null,
            "right": null,
            "justify_content": null,
            "_view_module": "@jupyter-widgets/base",
            "overflow": null,
            "_model_module_version": "1.2.0",
            "_view_count": null,
            "flex_flow": null,
            "width": null,
            "min_width": null,
            "border": null,
            "align_items": null,
            "bottom": null,
            "_model_module": "@jupyter-widgets/base",
            "top": null,
            "grid_column": null,
            "overflow_y": null,
            "overflow_x": null,
            "grid_auto_flow": null,
            "grid_area": null,
            "grid_template_columns": null,
            "flex": null,
            "_model_name": "LayoutModel",
            "justify_items": null,
            "grid_row": null,
            "max_height": null,
            "align_content": null,
            "visibility": null,
            "align_self": null,
            "height": null,
            "min_height": null,
            "padding": null,
            "grid_auto_rows": null,
            "grid_gap": null,
            "max_width": null,
            "order": null,
            "_view_module_version": "1.2.0",
            "grid_template_areas": null,
            "object_position": null,
            "object_fit": null,
            "grid_auto_columns": null,
            "margin": null,
            "display": null,
            "left": null
          }
        },
        "79c766ee76094ea787fbcc5dcbdbd4a1": {
          "model_module": "@jupyter-widgets/controls",
          "model_name": "HBoxModel",
          "model_module_version": "1.5.0",
          "state": {
            "_view_name": "HBoxView",
            "_dom_classes": [],
            "_model_name": "HBoxModel",
            "_view_module": "@jupyter-widgets/controls",
            "_model_module_version": "1.5.0",
            "_view_count": null,
            "_view_module_version": "1.5.0",
            "box_style": "",
            "layout": "IPY_MODEL_dbef25ff0b1e409a8d1ec60a34d5766b",
            "_model_module": "@jupyter-widgets/controls",
            "children": [
              "IPY_MODEL_e661b48cd43445a69d1f5ecaccc5e18c",
              "IPY_MODEL_743c8c7e94314d1484667cf6870757b3",
              "IPY_MODEL_ccd5adca8f9a4acf9d7af08c5eb0b8b8"
            ]
          }
        },
        "dbef25ff0b1e409a8d1ec60a34d5766b": {
          "model_module": "@jupyter-widgets/base",
          "model_name": "LayoutModel",
          "model_module_version": "1.2.0",
          "state": {
            "_view_name": "LayoutView",
            "grid_template_rows": null,
            "right": null,
            "justify_content": null,
            "_view_module": "@jupyter-widgets/base",
            "overflow": null,
            "_model_module_version": "1.2.0",
            "_view_count": null,
            "flex_flow": null,
            "width": null,
            "min_width": null,
            "border": null,
            "align_items": null,
            "bottom": null,
            "_model_module": "@jupyter-widgets/base",
            "top": null,
            "grid_column": null,
            "overflow_y": null,
            "overflow_x": null,
            "grid_auto_flow": null,
            "grid_area": null,
            "grid_template_columns": null,
            "flex": null,
            "_model_name": "LayoutModel",
            "justify_items": null,
            "grid_row": null,
            "max_height": null,
            "align_content": null,
            "visibility": null,
            "align_self": null,
            "height": null,
            "min_height": null,
            "padding": null,
            "grid_auto_rows": null,
            "grid_gap": null,
            "max_width": null,
            "order": null,
            "_view_module_version": "1.2.0",
            "grid_template_areas": null,
            "object_position": null,
            "object_fit": null,
            "grid_auto_columns": null,
            "margin": null,
            "display": null,
            "left": null
          }
        },
        "e661b48cd43445a69d1f5ecaccc5e18c": {
          "model_module": "@jupyter-widgets/controls",
          "model_name": "HTMLModel",
          "model_module_version": "1.5.0",
          "state": {
            "_view_name": "HTMLView",
            "style": "IPY_MODEL_54714bc07dc64b719f0831c21e760a70",
            "_dom_classes": [],
            "description": "",
            "_model_name": "HTMLModel",
            "placeholder": "​",
            "_view_module": "@jupyter-widgets/controls",
            "_model_module_version": "1.5.0",
            "value": "Downloading: 100%",
            "_view_count": null,
            "_view_module_version": "1.5.0",
            "description_tooltip": null,
            "_model_module": "@jupyter-widgets/controls",
            "layout": "IPY_MODEL_661a90dce3d54251a4bf3d422eebca0f"
          }
        },
        "743c8c7e94314d1484667cf6870757b3": {
          "model_module": "@jupyter-widgets/controls",
          "model_name": "FloatProgressModel",
          "model_module_version": "1.5.0",
          "state": {
            "_view_name": "ProgressView",
            "style": "IPY_MODEL_7f851eafe779462ea188cf4c6b9c6d94",
            "_dom_classes": [],
            "description": "",
            "_model_name": "FloatProgressModel",
            "bar_style": "success",
            "max": 1961828,
            "_view_module": "@jupyter-widgets/controls",
            "_model_module_version": "1.5.0",
            "value": 1961828,
            "_view_count": null,
            "_view_module_version": "1.5.0",
            "orientation": "horizontal",
            "min": 0,
            "description_tooltip": null,
            "_model_module": "@jupyter-widgets/controls",
            "layout": "IPY_MODEL_f79700637d024a438c7e715ef59dc213"
          }
        },
        "ccd5adca8f9a4acf9d7af08c5eb0b8b8": {
          "model_module": "@jupyter-widgets/controls",
          "model_name": "HTMLModel",
          "model_module_version": "1.5.0",
          "state": {
            "_view_name": "HTMLView",
            "style": "IPY_MODEL_a56af9a745d943a08fc38e98bab44a26",
            "_dom_classes": [],
            "description": "",
            "_model_name": "HTMLModel",
            "placeholder": "​",
            "_view_module": "@jupyter-widgets/controls",
            "_model_module_version": "1.5.0",
            "value": " 1.87M/1.87M [00:00&lt;00:00, 8.79MB/s]",
            "_view_count": null,
            "_view_module_version": "1.5.0",
            "description_tooltip": null,
            "_model_module": "@jupyter-widgets/controls",
            "layout": "IPY_MODEL_c74e631551734a1e921b127aee925784"
          }
        },
        "54714bc07dc64b719f0831c21e760a70": {
          "model_module": "@jupyter-widgets/controls",
          "model_name": "DescriptionStyleModel",
          "model_module_version": "1.5.0",
          "state": {
            "_view_name": "StyleView",
            "_model_name": "DescriptionStyleModel",
            "description_width": "",
            "_view_module": "@jupyter-widgets/base",
            "_model_module_version": "1.5.0",
            "_view_count": null,
            "_view_module_version": "1.2.0",
            "_model_module": "@jupyter-widgets/controls"
          }
        },
        "661a90dce3d54251a4bf3d422eebca0f": {
          "model_module": "@jupyter-widgets/base",
          "model_name": "LayoutModel",
          "model_module_version": "1.2.0",
          "state": {
            "_view_name": "LayoutView",
            "grid_template_rows": null,
            "right": null,
            "justify_content": null,
            "_view_module": "@jupyter-widgets/base",
            "overflow": null,
            "_model_module_version": "1.2.0",
            "_view_count": null,
            "flex_flow": null,
            "width": null,
            "min_width": null,
            "border": null,
            "align_items": null,
            "bottom": null,
            "_model_module": "@jupyter-widgets/base",
            "top": null,
            "grid_column": null,
            "overflow_y": null,
            "overflow_x": null,
            "grid_auto_flow": null,
            "grid_area": null,
            "grid_template_columns": null,
            "flex": null,
            "_model_name": "LayoutModel",
            "justify_items": null,
            "grid_row": null,
            "max_height": null,
            "align_content": null,
            "visibility": null,
            "align_self": null,
            "height": null,
            "min_height": null,
            "padding": null,
            "grid_auto_rows": null,
            "grid_gap": null,
            "max_width": null,
            "order": null,
            "_view_module_version": "1.2.0",
            "grid_template_areas": null,
            "object_position": null,
            "object_fit": null,
            "grid_auto_columns": null,
            "margin": null,
            "display": null,
            "left": null
          }
        },
        "7f851eafe779462ea188cf4c6b9c6d94": {
          "model_module": "@jupyter-widgets/controls",
          "model_name": "ProgressStyleModel",
          "model_module_version": "1.5.0",
          "state": {
            "_view_name": "StyleView",
            "_model_name": "ProgressStyleModel",
            "description_width": "",
            "_view_module": "@jupyter-widgets/base",
            "_model_module_version": "1.5.0",
            "_view_count": null,
            "_view_module_version": "1.2.0",
            "bar_color": null,
            "_model_module": "@jupyter-widgets/controls"
          }
        },
        "f79700637d024a438c7e715ef59dc213": {
          "model_module": "@jupyter-widgets/base",
          "model_name": "LayoutModel",
          "model_module_version": "1.2.0",
          "state": {
            "_view_name": "LayoutView",
            "grid_template_rows": null,
            "right": null,
            "justify_content": null,
            "_view_module": "@jupyter-widgets/base",
            "overflow": null,
            "_model_module_version": "1.2.0",
            "_view_count": null,
            "flex_flow": null,
            "width": null,
            "min_width": null,
            "border": null,
            "align_items": null,
            "bottom": null,
            "_model_module": "@jupyter-widgets/base",
            "top": null,
            "grid_column": null,
            "overflow_y": null,
            "overflow_x": null,
            "grid_auto_flow": null,
            "grid_area": null,
            "grid_template_columns": null,
            "flex": null,
            "_model_name": "LayoutModel",
            "justify_items": null,
            "grid_row": null,
            "max_height": null,
            "align_content": null,
            "visibility": null,
            "align_self": null,
            "height": null,
            "min_height": null,
            "padding": null,
            "grid_auto_rows": null,
            "grid_gap": null,
            "max_width": null,
            "order": null,
            "_view_module_version": "1.2.0",
            "grid_template_areas": null,
            "object_position": null,
            "object_fit": null,
            "grid_auto_columns": null,
            "margin": null,
            "display": null,
            "left": null
          }
        },
        "a56af9a745d943a08fc38e98bab44a26": {
          "model_module": "@jupyter-widgets/controls",
          "model_name": "DescriptionStyleModel",
          "model_module_version": "1.5.0",
          "state": {
            "_view_name": "StyleView",
            "_model_name": "DescriptionStyleModel",
            "description_width": "",
            "_view_module": "@jupyter-widgets/base",
            "_model_module_version": "1.5.0",
            "_view_count": null,
            "_view_module_version": "1.2.0",
            "_model_module": "@jupyter-widgets/controls"
          }
        },
        "c74e631551734a1e921b127aee925784": {
          "model_module": "@jupyter-widgets/base",
          "model_name": "LayoutModel",
          "model_module_version": "1.2.0",
          "state": {
            "_view_name": "LayoutView",
            "grid_template_rows": null,
            "right": null,
            "justify_content": null,
            "_view_module": "@jupyter-widgets/base",
            "overflow": null,
            "_model_module_version": "1.2.0",
            "_view_count": null,
            "flex_flow": null,
            "width": null,
            "min_width": null,
            "border": null,
            "align_items": null,
            "bottom": null,
            "_model_module": "@jupyter-widgets/base",
            "top": null,
            "grid_column": null,
            "overflow_y": null,
            "overflow_x": null,
            "grid_auto_flow": null,
            "grid_area": null,
            "grid_template_columns": null,
            "flex": null,
            "_model_name": "LayoutModel",
            "justify_items": null,
            "grid_row": null,
            "max_height": null,
            "align_content": null,
            "visibility": null,
            "align_self": null,
            "height": null,
            "min_height": null,
            "padding": null,
            "grid_auto_rows": null,
            "grid_gap": null,
            "max_width": null,
            "order": null,
            "_view_module_version": "1.2.0",
            "grid_template_areas": null,
            "object_position": null,
            "object_fit": null,
            "grid_auto_columns": null,
            "margin": null,
            "display": null,
            "left": null
          }
        },
        "bda3b462a5204fa6b7c9718fb3a38fd8": {
          "model_module": "@jupyter-widgets/controls",
          "model_name": "HBoxModel",
          "model_module_version": "1.5.0",
          "state": {
            "_view_name": "HBoxView",
            "_dom_classes": [],
            "_model_name": "HBoxModel",
            "_view_module": "@jupyter-widgets/controls",
            "_model_module_version": "1.5.0",
            "_view_count": null,
            "_view_module_version": "1.5.0",
            "box_style": "",
            "layout": "IPY_MODEL_3c604746bfd64fb4882a0dbbec6dbd39",
            "_model_module": "@jupyter-widgets/controls",
            "children": [
              "IPY_MODEL_f5137991997341a4a6c1856c1b11940b",
              "IPY_MODEL_311bdca3415644b98971d2a37f569689",
              "IPY_MODEL_12445704d1fa464f9789351e650ac88f"
            ]
          }
        },
        "3c604746bfd64fb4882a0dbbec6dbd39": {
          "model_module": "@jupyter-widgets/base",
          "model_name": "LayoutModel",
          "model_module_version": "1.2.0",
          "state": {
            "_view_name": "LayoutView",
            "grid_template_rows": null,
            "right": null,
            "justify_content": null,
            "_view_module": "@jupyter-widgets/base",
            "overflow": null,
            "_model_module_version": "1.2.0",
            "_view_count": null,
            "flex_flow": null,
            "width": null,
            "min_width": null,
            "border": null,
            "align_items": null,
            "bottom": null,
            "_model_module": "@jupyter-widgets/base",
            "top": null,
            "grid_column": null,
            "overflow_y": null,
            "overflow_x": null,
            "grid_auto_flow": null,
            "grid_area": null,
            "grid_template_columns": null,
            "flex": null,
            "_model_name": "LayoutModel",
            "justify_items": null,
            "grid_row": null,
            "max_height": null,
            "align_content": null,
            "visibility": null,
            "align_self": null,
            "height": null,
            "min_height": null,
            "padding": null,
            "grid_auto_rows": null,
            "grid_gap": null,
            "max_width": null,
            "order": null,
            "_view_module_version": "1.2.0",
            "grid_template_areas": null,
            "object_position": null,
            "object_fit": null,
            "grid_auto_columns": null,
            "margin": null,
            "display": null,
            "left": null
          }
        },
        "f5137991997341a4a6c1856c1b11940b": {
          "model_module": "@jupyter-widgets/controls",
          "model_name": "HTMLModel",
          "model_module_version": "1.5.0",
          "state": {
            "_view_name": "HTMLView",
            "style": "IPY_MODEL_14f2f93440764f20adc9a6928b689f1e",
            "_dom_classes": [],
            "description": "",
            "_model_name": "HTMLModel",
            "placeholder": "​",
            "_view_module": "@jupyter-widgets/controls",
            "_model_module_version": "1.5.0",
            "value": "Downloading: 100%",
            "_view_count": null,
            "_view_module_version": "1.5.0",
            "description_tooltip": null,
            "_model_module": "@jupyter-widgets/controls",
            "layout": "IPY_MODEL_20ce3545fca24462b7b51d7227ce6d37"
          }
        },
        "311bdca3415644b98971d2a37f569689": {
          "model_module": "@jupyter-widgets/controls",
          "model_name": "FloatProgressModel",
          "model_module_version": "1.5.0",
          "state": {
            "_view_name": "ProgressView",
            "style": "IPY_MODEL_e27d3a4ef7204635971af5ac0740a8fc",
            "_dom_classes": [],
            "description": "",
            "_model_name": "FloatProgressModel",
            "bar_style": "success",
            "max": 714314041,
            "_view_module": "@jupyter-widgets/controls",
            "_model_module_version": "1.5.0",
            "value": 714314041,
            "_view_count": null,
            "_view_module_version": "1.5.0",
            "orientation": "horizontal",
            "min": 0,
            "description_tooltip": null,
            "_model_module": "@jupyter-widgets/controls",
            "layout": "IPY_MODEL_9484d405e5c3413a9bdce492fbafdcfb"
          }
        },
        "12445704d1fa464f9789351e650ac88f": {
          "model_module": "@jupyter-widgets/controls",
          "model_name": "HTMLModel",
          "model_module_version": "1.5.0",
          "state": {
            "_view_name": "HTMLView",
            "style": "IPY_MODEL_0cb76510808a49239f536b0423cc171b",
            "_dom_classes": [],
            "description": "",
            "_model_name": "HTMLModel",
            "placeholder": "​",
            "_view_module": "@jupyter-widgets/controls",
            "_model_module_version": "1.5.0",
            "value": " 681M/681M [00:21&lt;00:00, 35.0MB/s]",
            "_view_count": null,
            "_view_module_version": "1.5.0",
            "description_tooltip": null,
            "_model_module": "@jupyter-widgets/controls",
            "layout": "IPY_MODEL_788b70dddb3b46e68042f0b90fd73294"
          }
        },
        "14f2f93440764f20adc9a6928b689f1e": {
          "model_module": "@jupyter-widgets/controls",
          "model_name": "DescriptionStyleModel",
          "model_module_version": "1.5.0",
          "state": {
            "_view_name": "StyleView",
            "_model_name": "DescriptionStyleModel",
            "description_width": "",
            "_view_module": "@jupyter-widgets/base",
            "_model_module_version": "1.5.0",
            "_view_count": null,
            "_view_module_version": "1.2.0",
            "_model_module": "@jupyter-widgets/controls"
          }
        },
        "20ce3545fca24462b7b51d7227ce6d37": {
          "model_module": "@jupyter-widgets/base",
          "model_name": "LayoutModel",
          "model_module_version": "1.2.0",
          "state": {
            "_view_name": "LayoutView",
            "grid_template_rows": null,
            "right": null,
            "justify_content": null,
            "_view_module": "@jupyter-widgets/base",
            "overflow": null,
            "_model_module_version": "1.2.0",
            "_view_count": null,
            "flex_flow": null,
            "width": null,
            "min_width": null,
            "border": null,
            "align_items": null,
            "bottom": null,
            "_model_module": "@jupyter-widgets/base",
            "top": null,
            "grid_column": null,
            "overflow_y": null,
            "overflow_x": null,
            "grid_auto_flow": null,
            "grid_area": null,
            "grid_template_columns": null,
            "flex": null,
            "_model_name": "LayoutModel",
            "justify_items": null,
            "grid_row": null,
            "max_height": null,
            "align_content": null,
            "visibility": null,
            "align_self": null,
            "height": null,
            "min_height": null,
            "padding": null,
            "grid_auto_rows": null,
            "grid_gap": null,
            "max_width": null,
            "order": null,
            "_view_module_version": "1.2.0",
            "grid_template_areas": null,
            "object_position": null,
            "object_fit": null,
            "grid_auto_columns": null,
            "margin": null,
            "display": null,
            "left": null
          }
        },
        "e27d3a4ef7204635971af5ac0740a8fc": {
          "model_module": "@jupyter-widgets/controls",
          "model_name": "ProgressStyleModel",
          "model_module_version": "1.5.0",
          "state": {
            "_view_name": "StyleView",
            "_model_name": "ProgressStyleModel",
            "description_width": "",
            "_view_module": "@jupyter-widgets/base",
            "_model_module_version": "1.5.0",
            "_view_count": null,
            "_view_module_version": "1.2.0",
            "bar_color": null,
            "_model_module": "@jupyter-widgets/controls"
          }
        },
        "9484d405e5c3413a9bdce492fbafdcfb": {
          "model_module": "@jupyter-widgets/base",
          "model_name": "LayoutModel",
          "model_module_version": "1.2.0",
          "state": {
            "_view_name": "LayoutView",
            "grid_template_rows": null,
            "right": null,
            "justify_content": null,
            "_view_module": "@jupyter-widgets/base",
            "overflow": null,
            "_model_module_version": "1.2.0",
            "_view_count": null,
            "flex_flow": null,
            "width": null,
            "min_width": null,
            "border": null,
            "align_items": null,
            "bottom": null,
            "_model_module": "@jupyter-widgets/base",
            "top": null,
            "grid_column": null,
            "overflow_y": null,
            "overflow_x": null,
            "grid_auto_flow": null,
            "grid_area": null,
            "grid_template_columns": null,
            "flex": null,
            "_model_name": "LayoutModel",
            "justify_items": null,
            "grid_row": null,
            "max_height": null,
            "align_content": null,
            "visibility": null,
            "align_self": null,
            "height": null,
            "min_height": null,
            "padding": null,
            "grid_auto_rows": null,
            "grid_gap": null,
            "max_width": null,
            "order": null,
            "_view_module_version": "1.2.0",
            "grid_template_areas": null,
            "object_position": null,
            "object_fit": null,
            "grid_auto_columns": null,
            "margin": null,
            "display": null,
            "left": null
          }
        },
        "0cb76510808a49239f536b0423cc171b": {
          "model_module": "@jupyter-widgets/controls",
          "model_name": "DescriptionStyleModel",
          "model_module_version": "1.5.0",
          "state": {
            "_view_name": "StyleView",
            "_model_name": "DescriptionStyleModel",
            "description_width": "",
            "_view_module": "@jupyter-widgets/base",
            "_model_module_version": "1.5.0",
            "_view_count": null,
            "_view_module_version": "1.2.0",
            "_model_module": "@jupyter-widgets/controls"
          }
        },
        "788b70dddb3b46e68042f0b90fd73294": {
          "model_module": "@jupyter-widgets/base",
          "model_name": "LayoutModel",
          "model_module_version": "1.2.0",
          "state": {
            "_view_name": "LayoutView",
            "grid_template_rows": null,
            "right": null,
            "justify_content": null,
            "_view_module": "@jupyter-widgets/base",
            "overflow": null,
            "_model_module_version": "1.2.0",
            "_view_count": null,
            "flex_flow": null,
            "width": null,
            "min_width": null,
            "border": null,
            "align_items": null,
            "bottom": null,
            "_model_module": "@jupyter-widgets/base",
            "top": null,
            "grid_column": null,
            "overflow_y": null,
            "overflow_x": null,
            "grid_auto_flow": null,
            "grid_area": null,
            "grid_template_columns": null,
            "flex": null,
            "_model_name": "LayoutModel",
            "justify_items": null,
            "grid_row": null,
            "max_height": null,
            "align_content": null,
            "visibility": null,
            "align_self": null,
            "height": null,
            "min_height": null,
            "padding": null,
            "grid_auto_rows": null,
            "grid_gap": null,
            "max_width": null,
            "order": null,
            "_view_module_version": "1.2.0",
            "grid_template_areas": null,
            "object_position": null,
            "object_fit": null,
            "grid_auto_columns": null,
            "margin": null,
            "display": null,
            "left": null
          }
        }
      }
    }
  },
  "nbformat": 4,
  "nbformat_minor": 0
}