{
  "nbformat": 4,
  "nbformat_minor": 0,
  "metadata": {
    "accelerator": "GPU",
    "colab": {
      "name": "MRC Practice 5 - Dense Passage Retrieval (In-batch).ipynb의 사본",
      "provenance": [],
      "collapsed_sections": [],
      "include_colab_link": true
    },
    "kernelspec": {
      "display_name": "Python 3 (ipykernel)",
      "language": "python",
      "name": "python3"
    },
    "language_info": {
      "codemirror_mode": {
        "name": "ipython",
        "version": 3
      },
      "file_extension": ".py",
      "mimetype": "text/x-python",
      "name": "python",
      "nbconvert_exporter": "python",
      "pygments_lexer": "ipython3",
      "version": "3.8.0"
    },
    "widgets": {
      "application/vnd.jupyter.widget-state+json": {
        "76af038bac6a422397656c74eaf78cbb": {
          "model_module": "@jupyter-widgets/controls",
          "model_name": "HBoxModel",
          "model_module_version": "1.5.0",
          "state": {
            "_view_name": "HBoxView",
            "_dom_classes": [],
            "_model_name": "HBoxModel",
            "_view_module": "@jupyter-widgets/controls",
            "_model_module_version": "1.5.0",
            "_view_count": null,
            "_view_module_version": "1.5.0",
            "box_style": "",
            "layout": "IPY_MODEL_7f4094b17012421a969188b08ef77f64",
            "_model_module": "@jupyter-widgets/controls",
            "children": [
              "IPY_MODEL_d894275ab12444a680226fd535a842a6",
              "IPY_MODEL_921e5308693a4d759a6f303bf1a06c85",
              "IPY_MODEL_0181cce5c76b411ab2b9063639ce694e"
            ]
          }
        },
        "7f4094b17012421a969188b08ef77f64": {
          "model_module": "@jupyter-widgets/base",
          "model_name": "LayoutModel",
          "model_module_version": "1.2.0",
          "state": {
            "_view_name": "LayoutView",
            "grid_template_rows": null,
            "right": null,
            "justify_content": null,
            "_view_module": "@jupyter-widgets/base",
            "overflow": null,
            "_model_module_version": "1.2.0",
            "_view_count": null,
            "flex_flow": null,
            "width": null,
            "min_width": null,
            "border": null,
            "align_items": null,
            "bottom": null,
            "_model_module": "@jupyter-widgets/base",
            "top": null,
            "grid_column": null,
            "overflow_y": null,
            "overflow_x": null,
            "grid_auto_flow": null,
            "grid_area": null,
            "grid_template_columns": null,
            "flex": null,
            "_model_name": "LayoutModel",
            "justify_items": null,
            "grid_row": null,
            "max_height": null,
            "align_content": null,
            "visibility": null,
            "align_self": null,
            "height": null,
            "min_height": null,
            "padding": null,
            "grid_auto_rows": null,
            "grid_gap": null,
            "max_width": null,
            "order": null,
            "_view_module_version": "1.2.0",
            "grid_template_areas": null,
            "object_position": null,
            "object_fit": null,
            "grid_auto_columns": null,
            "margin": null,
            "display": null,
            "left": null
          }
        },
        "d894275ab12444a680226fd535a842a6": {
          "model_module": "@jupyter-widgets/controls",
          "model_name": "HTMLModel",
          "model_module_version": "1.5.0",
          "state": {
            "_view_name": "HTMLView",
            "style": "IPY_MODEL_b9506f673e924667ba14f59f1081618f",
            "_dom_classes": [],
            "description": "",
            "_model_name": "HTMLModel",
            "placeholder": "​",
            "_view_module": "@jupyter-widgets/controls",
            "_model_module_version": "1.5.0",
            "value": "Downloading: ",
            "_view_count": null,
            "_view_module_version": "1.5.0",
            "description_tooltip": null,
            "_model_module": "@jupyter-widgets/controls",
            "layout": "IPY_MODEL_349bf139f0d4491a922aa7306de963c8"
          }
        },
        "921e5308693a4d759a6f303bf1a06c85": {
          "model_module": "@jupyter-widgets/controls",
          "model_name": "FloatProgressModel",
          "model_module_version": "1.5.0",
          "state": {
            "_view_name": "ProgressView",
            "style": "IPY_MODEL_7fe9ca70e56042069d92be8a413c5f31",
            "_dom_classes": [],
            "description": "",
            "_model_name": "FloatProgressModel",
            "bar_style": "success",
            "max": 1781,
            "_view_module": "@jupyter-widgets/controls",
            "_model_module_version": "1.5.0",
            "value": 1781,
            "_view_count": null,
            "_view_module_version": "1.5.0",
            "orientation": "horizontal",
            "min": 0,
            "description_tooltip": null,
            "_model_module": "@jupyter-widgets/controls",
            "layout": "IPY_MODEL_19bb51c8abb9493abd38413266290993"
          }
        },
        "0181cce5c76b411ab2b9063639ce694e": {
          "model_module": "@jupyter-widgets/controls",
          "model_name": "HTMLModel",
          "model_module_version": "1.5.0",
          "state": {
            "_view_name": "HTMLView",
            "style": "IPY_MODEL_8fa8ab695b3b4816b5220c5f1103bb7d",
            "_dom_classes": [],
            "description": "",
            "_model_name": "HTMLModel",
            "placeholder": "​",
            "_view_module": "@jupyter-widgets/controls",
            "_model_module_version": "1.5.0",
            "value": " 4.76k/? [00:00&lt;00:00, 95.3kB/s]",
            "_view_count": null,
            "_view_module_version": "1.5.0",
            "description_tooltip": null,
            "_model_module": "@jupyter-widgets/controls",
            "layout": "IPY_MODEL_82a80d4534cc4942a10b8e703c0ecc9b"
          }
        },
        "b9506f673e924667ba14f59f1081618f": {
          "model_module": "@jupyter-widgets/controls",
          "model_name": "DescriptionStyleModel",
          "model_module_version": "1.5.0",
          "state": {
            "_view_name": "StyleView",
            "_model_name": "DescriptionStyleModel",
            "description_width": "",
            "_view_module": "@jupyter-widgets/base",
            "_model_module_version": "1.5.0",
            "_view_count": null,
            "_view_module_version": "1.2.0",
            "_model_module": "@jupyter-widgets/controls"
          }
        },
        "349bf139f0d4491a922aa7306de963c8": {
          "model_module": "@jupyter-widgets/base",
          "model_name": "LayoutModel",
          "model_module_version": "1.2.0",
          "state": {
            "_view_name": "LayoutView",
            "grid_template_rows": null,
            "right": null,
            "justify_content": null,
            "_view_module": "@jupyter-widgets/base",
            "overflow": null,
            "_model_module_version": "1.2.0",
            "_view_count": null,
            "flex_flow": null,
            "width": null,
            "min_width": null,
            "border": null,
            "align_items": null,
            "bottom": null,
            "_model_module": "@jupyter-widgets/base",
            "top": null,
            "grid_column": null,
            "overflow_y": null,
            "overflow_x": null,
            "grid_auto_flow": null,
            "grid_area": null,
            "grid_template_columns": null,
            "flex": null,
            "_model_name": "LayoutModel",
            "justify_items": null,
            "grid_row": null,
            "max_height": null,
            "align_content": null,
            "visibility": null,
            "align_self": null,
            "height": null,
            "min_height": null,
            "padding": null,
            "grid_auto_rows": null,
            "grid_gap": null,
            "max_width": null,
            "order": null,
            "_view_module_version": "1.2.0",
            "grid_template_areas": null,
            "object_position": null,
            "object_fit": null,
            "grid_auto_columns": null,
            "margin": null,
            "display": null,
            "left": null
          }
        },
        "7fe9ca70e56042069d92be8a413c5f31": {
          "model_module": "@jupyter-widgets/controls",
          "model_name": "ProgressStyleModel",
          "model_module_version": "1.5.0",
          "state": {
            "_view_name": "StyleView",
            "_model_name": "ProgressStyleModel",
            "description_width": "",
            "_view_module": "@jupyter-widgets/base",
            "_model_module_version": "1.5.0",
            "_view_count": null,
            "_view_module_version": "1.2.0",
            "bar_color": null,
            "_model_module": "@jupyter-widgets/controls"
          }
        },
        "19bb51c8abb9493abd38413266290993": {
          "model_module": "@jupyter-widgets/base",
          "model_name": "LayoutModel",
          "model_module_version": "1.2.0",
          "state": {
            "_view_name": "LayoutView",
            "grid_template_rows": null,
            "right": null,
            "justify_content": null,
            "_view_module": "@jupyter-widgets/base",
            "overflow": null,
            "_model_module_version": "1.2.0",
            "_view_count": null,
            "flex_flow": null,
            "width": null,
            "min_width": null,
            "border": null,
            "align_items": null,
            "bottom": null,
            "_model_module": "@jupyter-widgets/base",
            "top": null,
            "grid_column": null,
            "overflow_y": null,
            "overflow_x": null,
            "grid_auto_flow": null,
            "grid_area": null,
            "grid_template_columns": null,
            "flex": null,
            "_model_name": "LayoutModel",
            "justify_items": null,
            "grid_row": null,
            "max_height": null,
            "align_content": null,
            "visibility": null,
            "align_self": null,
            "height": null,
            "min_height": null,
            "padding": null,
            "grid_auto_rows": null,
            "grid_gap": null,
            "max_width": null,
            "order": null,
            "_view_module_version": "1.2.0",
            "grid_template_areas": null,
            "object_position": null,
            "object_fit": null,
            "grid_auto_columns": null,
            "margin": null,
            "display": null,
            "left": null
          }
        },
        "8fa8ab695b3b4816b5220c5f1103bb7d": {
          "model_module": "@jupyter-widgets/controls",
          "model_name": "DescriptionStyleModel",
          "model_module_version": "1.5.0",
          "state": {
            "_view_name": "StyleView",
            "_model_name": "DescriptionStyleModel",
            "description_width": "",
            "_view_module": "@jupyter-widgets/base",
            "_model_module_version": "1.5.0",
            "_view_count": null,
            "_view_module_version": "1.2.0",
            "_model_module": "@jupyter-widgets/controls"
          }
        },
        "82a80d4534cc4942a10b8e703c0ecc9b": {
          "model_module": "@jupyter-widgets/base",
          "model_name": "LayoutModel",
          "model_module_version": "1.2.0",
          "state": {
            "_view_name": "LayoutView",
            "grid_template_rows": null,
            "right": null,
            "justify_content": null,
            "_view_module": "@jupyter-widgets/base",
            "overflow": null,
            "_model_module_version": "1.2.0",
            "_view_count": null,
            "flex_flow": null,
            "width": null,
            "min_width": null,
            "border": null,
            "align_items": null,
            "bottom": null,
            "_model_module": "@jupyter-widgets/base",
            "top": null,
            "grid_column": null,
            "overflow_y": null,
            "overflow_x": null,
            "grid_auto_flow": null,
            "grid_area": null,
            "grid_template_columns": null,
            "flex": null,
            "_model_name": "LayoutModel",
            "justify_items": null,
            "grid_row": null,
            "max_height": null,
            "align_content": null,
            "visibility": null,
            "align_self": null,
            "height": null,
            "min_height": null,
            "padding": null,
            "grid_auto_rows": null,
            "grid_gap": null,
            "max_width": null,
            "order": null,
            "_view_module_version": "1.2.0",
            "grid_template_areas": null,
            "object_position": null,
            "object_fit": null,
            "grid_auto_columns": null,
            "margin": null,
            "display": null,
            "left": null
          }
        },
        "d09b45ae0f484194bb6249a4526271c4": {
          "model_module": "@jupyter-widgets/controls",
          "model_name": "HBoxModel",
          "model_module_version": "1.5.0",
          "state": {
            "_view_name": "HBoxView",
            "_dom_classes": [],
            "_model_name": "HBoxModel",
            "_view_module": "@jupyter-widgets/controls",
            "_model_module_version": "1.5.0",
            "_view_count": null,
            "_view_module_version": "1.5.0",
            "box_style": "",
            "layout": "IPY_MODEL_b790939808d64a97987dd28d9beed394",
            "_model_module": "@jupyter-widgets/controls",
            "children": [
              "IPY_MODEL_df4e2c6952754c6aa5a795426eee6150",
              "IPY_MODEL_db284091a792467ea33d2bc33689e169",
              "IPY_MODEL_945fe37efe87412d95153dc026877a79"
            ]
          }
        },
        "b790939808d64a97987dd28d9beed394": {
          "model_module": "@jupyter-widgets/base",
          "model_name": "LayoutModel",
          "model_module_version": "1.2.0",
          "state": {
            "_view_name": "LayoutView",
            "grid_template_rows": null,
            "right": null,
            "justify_content": null,
            "_view_module": "@jupyter-widgets/base",
            "overflow": null,
            "_model_module_version": "1.2.0",
            "_view_count": null,
            "flex_flow": null,
            "width": null,
            "min_width": null,
            "border": null,
            "align_items": null,
            "bottom": null,
            "_model_module": "@jupyter-widgets/base",
            "top": null,
            "grid_column": null,
            "overflow_y": null,
            "overflow_x": null,
            "grid_auto_flow": null,
            "grid_area": null,
            "grid_template_columns": null,
            "flex": null,
            "_model_name": "LayoutModel",
            "justify_items": null,
            "grid_row": null,
            "max_height": null,
            "align_content": null,
            "visibility": null,
            "align_self": null,
            "height": null,
            "min_height": null,
            "padding": null,
            "grid_auto_rows": null,
            "grid_gap": null,
            "max_width": null,
            "order": null,
            "_view_module_version": "1.2.0",
            "grid_template_areas": null,
            "object_position": null,
            "object_fit": null,
            "grid_auto_columns": null,
            "margin": null,
            "display": null,
            "left": null
          }
        },
        "df4e2c6952754c6aa5a795426eee6150": {
          "model_module": "@jupyter-widgets/controls",
          "model_name": "HTMLModel",
          "model_module_version": "1.5.0",
          "state": {
            "_view_name": "HTMLView",
            "style": "IPY_MODEL_8ff0af6624684744a3e173c81e59ea12",
            "_dom_classes": [],
            "description": "",
            "_model_name": "HTMLModel",
            "placeholder": "​",
            "_view_module": "@jupyter-widgets/controls",
            "_model_module_version": "1.5.0",
            "value": "Downloading: ",
            "_view_count": null,
            "_view_module_version": "1.5.0",
            "description_tooltip": null,
            "_model_module": "@jupyter-widgets/controls",
            "layout": "IPY_MODEL_ab2f1cdc73424a45b781c815ff6e62ea"
          }
        },
        "db284091a792467ea33d2bc33689e169": {
          "model_module": "@jupyter-widgets/controls",
          "model_name": "FloatProgressModel",
          "model_module_version": "1.5.0",
          "state": {
            "_view_name": "ProgressView",
            "style": "IPY_MODEL_8831c82ea83c421284de06afa4f9b6e6",
            "_dom_classes": [],
            "description": "",
            "_model_name": "FloatProgressModel",
            "bar_style": "success",
            "max": 1017,
            "_view_module": "@jupyter-widgets/controls",
            "_model_module_version": "1.5.0",
            "value": 1017,
            "_view_count": null,
            "_view_module_version": "1.5.0",
            "orientation": "horizontal",
            "min": 0,
            "description_tooltip": null,
            "_model_module": "@jupyter-widgets/controls",
            "layout": "IPY_MODEL_0300c074a6ff4ce0ab53473116dbcf6e"
          }
        },
        "945fe37efe87412d95153dc026877a79": {
          "model_module": "@jupyter-widgets/controls",
          "model_name": "HTMLModel",
          "model_module_version": "1.5.0",
          "state": {
            "_view_name": "HTMLView",
            "style": "IPY_MODEL_a57076330b0f478ca1e3375734faafbe",
            "_dom_classes": [],
            "description": "",
            "_model_name": "HTMLModel",
            "placeholder": "​",
            "_view_module": "@jupyter-widgets/controls",
            "_model_module_version": "1.5.0",
            "value": " 2.39k/? [00:00&lt;00:00, 55.6kB/s]",
            "_view_count": null,
            "_view_module_version": "1.5.0",
            "description_tooltip": null,
            "_model_module": "@jupyter-widgets/controls",
            "layout": "IPY_MODEL_4b037fd808c64efcbc82cf133f125267"
          }
        },
        "8ff0af6624684744a3e173c81e59ea12": {
          "model_module": "@jupyter-widgets/controls",
          "model_name": "DescriptionStyleModel",
          "model_module_version": "1.5.0",
          "state": {
            "_view_name": "StyleView",
            "_model_name": "DescriptionStyleModel",
            "description_width": "",
            "_view_module": "@jupyter-widgets/base",
            "_model_module_version": "1.5.0",
            "_view_count": null,
            "_view_module_version": "1.2.0",
            "_model_module": "@jupyter-widgets/controls"
          }
        },
        "ab2f1cdc73424a45b781c815ff6e62ea": {
          "model_module": "@jupyter-widgets/base",
          "model_name": "LayoutModel",
          "model_module_version": "1.2.0",
          "state": {
            "_view_name": "LayoutView",
            "grid_template_rows": null,
            "right": null,
            "justify_content": null,
            "_view_module": "@jupyter-widgets/base",
            "overflow": null,
            "_model_module_version": "1.2.0",
            "_view_count": null,
            "flex_flow": null,
            "width": null,
            "min_width": null,
            "border": null,
            "align_items": null,
            "bottom": null,
            "_model_module": "@jupyter-widgets/base",
            "top": null,
            "grid_column": null,
            "overflow_y": null,
            "overflow_x": null,
            "grid_auto_flow": null,
            "grid_area": null,
            "grid_template_columns": null,
            "flex": null,
            "_model_name": "LayoutModel",
            "justify_items": null,
            "grid_row": null,
            "max_height": null,
            "align_content": null,
            "visibility": null,
            "align_self": null,
            "height": null,
            "min_height": null,
            "padding": null,
            "grid_auto_rows": null,
            "grid_gap": null,
            "max_width": null,
            "order": null,
            "_view_module_version": "1.2.0",
            "grid_template_areas": null,
            "object_position": null,
            "object_fit": null,
            "grid_auto_columns": null,
            "margin": null,
            "display": null,
            "left": null
          }
        },
        "8831c82ea83c421284de06afa4f9b6e6": {
          "model_module": "@jupyter-widgets/controls",
          "model_name": "ProgressStyleModel",
          "model_module_version": "1.5.0",
          "state": {
            "_view_name": "StyleView",
            "_model_name": "ProgressStyleModel",
            "description_width": "",
            "_view_module": "@jupyter-widgets/base",
            "_model_module_version": "1.5.0",
            "_view_count": null,
            "_view_module_version": "1.2.0",
            "bar_color": null,
            "_model_module": "@jupyter-widgets/controls"
          }
        },
        "0300c074a6ff4ce0ab53473116dbcf6e": {
          "model_module": "@jupyter-widgets/base",
          "model_name": "LayoutModel",
          "model_module_version": "1.2.0",
          "state": {
            "_view_name": "LayoutView",
            "grid_template_rows": null,
            "right": null,
            "justify_content": null,
            "_view_module": "@jupyter-widgets/base",
            "overflow": null,
            "_model_module_version": "1.2.0",
            "_view_count": null,
            "flex_flow": null,
            "width": null,
            "min_width": null,
            "border": null,
            "align_items": null,
            "bottom": null,
            "_model_module": "@jupyter-widgets/base",
            "top": null,
            "grid_column": null,
            "overflow_y": null,
            "overflow_x": null,
            "grid_auto_flow": null,
            "grid_area": null,
            "grid_template_columns": null,
            "flex": null,
            "_model_name": "LayoutModel",
            "justify_items": null,
            "grid_row": null,
            "max_height": null,
            "align_content": null,
            "visibility": null,
            "align_self": null,
            "height": null,
            "min_height": null,
            "padding": null,
            "grid_auto_rows": null,
            "grid_gap": null,
            "max_width": null,
            "order": null,
            "_view_module_version": "1.2.0",
            "grid_template_areas": null,
            "object_position": null,
            "object_fit": null,
            "grid_auto_columns": null,
            "margin": null,
            "display": null,
            "left": null
          }
        },
        "a57076330b0f478ca1e3375734faafbe": {
          "model_module": "@jupyter-widgets/controls",
          "model_name": "DescriptionStyleModel",
          "model_module_version": "1.5.0",
          "state": {
            "_view_name": "StyleView",
            "_model_name": "DescriptionStyleModel",
            "description_width": "",
            "_view_module": "@jupyter-widgets/base",
            "_model_module_version": "1.5.0",
            "_view_count": null,
            "_view_module_version": "1.2.0",
            "_model_module": "@jupyter-widgets/controls"
          }
        },
        "4b037fd808c64efcbc82cf133f125267": {
          "model_module": "@jupyter-widgets/base",
          "model_name": "LayoutModel",
          "model_module_version": "1.2.0",
          "state": {
            "_view_name": "LayoutView",
            "grid_template_rows": null,
            "right": null,
            "justify_content": null,
            "_view_module": "@jupyter-widgets/base",
            "overflow": null,
            "_model_module_version": "1.2.0",
            "_view_count": null,
            "flex_flow": null,
            "width": null,
            "min_width": null,
            "border": null,
            "align_items": null,
            "bottom": null,
            "_model_module": "@jupyter-widgets/base",
            "top": null,
            "grid_column": null,
            "overflow_y": null,
            "overflow_x": null,
            "grid_auto_flow": null,
            "grid_area": null,
            "grid_template_columns": null,
            "flex": null,
            "_model_name": "LayoutModel",
            "justify_items": null,
            "grid_row": null,
            "max_height": null,
            "align_content": null,
            "visibility": null,
            "align_self": null,
            "height": null,
            "min_height": null,
            "padding": null,
            "grid_auto_rows": null,
            "grid_gap": null,
            "max_width": null,
            "order": null,
            "_view_module_version": "1.2.0",
            "grid_template_areas": null,
            "object_position": null,
            "object_fit": null,
            "grid_auto_columns": null,
            "margin": null,
            "display": null,
            "left": null
          }
        },
        "1971d9b844dc4e999a101a8dccd622e7": {
          "model_module": "@jupyter-widgets/controls",
          "model_name": "HBoxModel",
          "model_module_version": "1.5.0",
          "state": {
            "_view_name": "HBoxView",
            "_dom_classes": [],
            "_model_name": "HBoxModel",
            "_view_module": "@jupyter-widgets/controls",
            "_model_module_version": "1.5.0",
            "_view_count": null,
            "_view_module_version": "1.5.0",
            "box_style": "",
            "layout": "IPY_MODEL_e72319e673404d79a917c687459ccfe6",
            "_model_module": "@jupyter-widgets/controls",
            "children": [
              "IPY_MODEL_4a262460398445e589a6ea49e11515ee",
              "IPY_MODEL_9c4581a90f394795a009fd59f58388a5",
              "IPY_MODEL_907c908efc4a45c5a53defb00a864fc3"
            ]
          }
        },
        "e72319e673404d79a917c687459ccfe6": {
          "model_module": "@jupyter-widgets/base",
          "model_name": "LayoutModel",
          "model_module_version": "1.2.0",
          "state": {
            "_view_name": "LayoutView",
            "grid_template_rows": null,
            "right": null,
            "justify_content": null,
            "_view_module": "@jupyter-widgets/base",
            "overflow": null,
            "_model_module_version": "1.2.0",
            "_view_count": null,
            "flex_flow": null,
            "width": null,
            "min_width": null,
            "border": null,
            "align_items": null,
            "bottom": null,
            "_model_module": "@jupyter-widgets/base",
            "top": null,
            "grid_column": null,
            "overflow_y": null,
            "overflow_x": null,
            "grid_auto_flow": null,
            "grid_area": null,
            "grid_template_columns": null,
            "flex": null,
            "_model_name": "LayoutModel",
            "justify_items": null,
            "grid_row": null,
            "max_height": null,
            "align_content": null,
            "visibility": null,
            "align_self": null,
            "height": null,
            "min_height": null,
            "padding": null,
            "grid_auto_rows": null,
            "grid_gap": null,
            "max_width": null,
            "order": null,
            "_view_module_version": "1.2.0",
            "grid_template_areas": null,
            "object_position": null,
            "object_fit": null,
            "grid_auto_columns": null,
            "margin": null,
            "display": null,
            "left": null
          }
        },
        "4a262460398445e589a6ea49e11515ee": {
          "model_module": "@jupyter-widgets/controls",
          "model_name": "HTMLModel",
          "model_module_version": "1.5.0",
          "state": {
            "_view_name": "HTMLView",
            "style": "IPY_MODEL_f272674b95a74b9799f18df7522b36b8",
            "_dom_classes": [],
            "description": "",
            "_model_name": "HTMLModel",
            "placeholder": "​",
            "_view_module": "@jupyter-widgets/controls",
            "_model_module_version": "1.5.0",
            "value": "100%",
            "_view_count": null,
            "_view_module_version": "1.5.0",
            "description_tooltip": null,
            "_model_module": "@jupyter-widgets/controls",
            "layout": "IPY_MODEL_974a68028939441b8b8d42f12158c2d7"
          }
        },
        "9c4581a90f394795a009fd59f58388a5": {
          "model_module": "@jupyter-widgets/controls",
          "model_name": "FloatProgressModel",
          "model_module_version": "1.5.0",
          "state": {
            "_view_name": "ProgressView",
            "style": "IPY_MODEL_fd12a6c67d714973807a5639c8a0f697",
            "_dom_classes": [],
            "description": "",
            "_model_name": "FloatProgressModel",
            "bar_style": "success",
            "max": 2,
            "_view_module": "@jupyter-widgets/controls",
            "_model_module_version": "1.5.0",
            "value": 2,
            "_view_count": null,
            "_view_module_version": "1.5.0",
            "orientation": "horizontal",
            "min": 0,
            "description_tooltip": null,
            "_model_module": "@jupyter-widgets/controls",
            "layout": "IPY_MODEL_c42052662e0e4308bcbc0bd7bc6f082a"
          }
        },
        "907c908efc4a45c5a53defb00a864fc3": {
          "model_module": "@jupyter-widgets/controls",
          "model_name": "HTMLModel",
          "model_module_version": "1.5.0",
          "state": {
            "_view_name": "HTMLView",
            "style": "IPY_MODEL_0efa6c14615f47548139c74b4e3863a0",
            "_dom_classes": [],
            "description": "",
            "_model_name": "HTMLModel",
            "placeholder": "​",
            "_view_module": "@jupyter-widgets/controls",
            "_model_module_version": "1.5.0",
            "value": " 2/2 [00:02&lt;00:00,  1.12it/s]",
            "_view_count": null,
            "_view_module_version": "1.5.0",
            "description_tooltip": null,
            "_model_module": "@jupyter-widgets/controls",
            "layout": "IPY_MODEL_275df5c677be4ba7b28d43dbf31396ec"
          }
        },
        "f272674b95a74b9799f18df7522b36b8": {
          "model_module": "@jupyter-widgets/controls",
          "model_name": "DescriptionStyleModel",
          "model_module_version": "1.5.0",
          "state": {
            "_view_name": "StyleView",
            "_model_name": "DescriptionStyleModel",
            "description_width": "",
            "_view_module": "@jupyter-widgets/base",
            "_model_module_version": "1.5.0",
            "_view_count": null,
            "_view_module_version": "1.2.0",
            "_model_module": "@jupyter-widgets/controls"
          }
        },
        "974a68028939441b8b8d42f12158c2d7": {
          "model_module": "@jupyter-widgets/base",
          "model_name": "LayoutModel",
          "model_module_version": "1.2.0",
          "state": {
            "_view_name": "LayoutView",
            "grid_template_rows": null,
            "right": null,
            "justify_content": null,
            "_view_module": "@jupyter-widgets/base",
            "overflow": null,
            "_model_module_version": "1.2.0",
            "_view_count": null,
            "flex_flow": null,
            "width": null,
            "min_width": null,
            "border": null,
            "align_items": null,
            "bottom": null,
            "_model_module": "@jupyter-widgets/base",
            "top": null,
            "grid_column": null,
            "overflow_y": null,
            "overflow_x": null,
            "grid_auto_flow": null,
            "grid_area": null,
            "grid_template_columns": null,
            "flex": null,
            "_model_name": "LayoutModel",
            "justify_items": null,
            "grid_row": null,
            "max_height": null,
            "align_content": null,
            "visibility": null,
            "align_self": null,
            "height": null,
            "min_height": null,
            "padding": null,
            "grid_auto_rows": null,
            "grid_gap": null,
            "max_width": null,
            "order": null,
            "_view_module_version": "1.2.0",
            "grid_template_areas": null,
            "object_position": null,
            "object_fit": null,
            "grid_auto_columns": null,
            "margin": null,
            "display": null,
            "left": null
          }
        },
        "fd12a6c67d714973807a5639c8a0f697": {
          "model_module": "@jupyter-widgets/controls",
          "model_name": "ProgressStyleModel",
          "model_module_version": "1.5.0",
          "state": {
            "_view_name": "StyleView",
            "_model_name": "ProgressStyleModel",
            "description_width": "",
            "_view_module": "@jupyter-widgets/base",
            "_model_module_version": "1.5.0",
            "_view_count": null,
            "_view_module_version": "1.2.0",
            "bar_color": null,
            "_model_module": "@jupyter-widgets/controls"
          }
        },
        "c42052662e0e4308bcbc0bd7bc6f082a": {
          "model_module": "@jupyter-widgets/base",
          "model_name": "LayoutModel",
          "model_module_version": "1.2.0",
          "state": {
            "_view_name": "LayoutView",
            "grid_template_rows": null,
            "right": null,
            "justify_content": null,
            "_view_module": "@jupyter-widgets/base",
            "overflow": null,
            "_model_module_version": "1.2.0",
            "_view_count": null,
            "flex_flow": null,
            "width": null,
            "min_width": null,
            "border": null,
            "align_items": null,
            "bottom": null,
            "_model_module": "@jupyter-widgets/base",
            "top": null,
            "grid_column": null,
            "overflow_y": null,
            "overflow_x": null,
            "grid_auto_flow": null,
            "grid_area": null,
            "grid_template_columns": null,
            "flex": null,
            "_model_name": "LayoutModel",
            "justify_items": null,
            "grid_row": null,
            "max_height": null,
            "align_content": null,
            "visibility": null,
            "align_self": null,
            "height": null,
            "min_height": null,
            "padding": null,
            "grid_auto_rows": null,
            "grid_gap": null,
            "max_width": null,
            "order": null,
            "_view_module_version": "1.2.0",
            "grid_template_areas": null,
            "object_position": null,
            "object_fit": null,
            "grid_auto_columns": null,
            "margin": null,
            "display": null,
            "left": null
          }
        },
        "0efa6c14615f47548139c74b4e3863a0": {
          "model_module": "@jupyter-widgets/controls",
          "model_name": "DescriptionStyleModel",
          "model_module_version": "1.5.0",
          "state": {
            "_view_name": "StyleView",
            "_model_name": "DescriptionStyleModel",
            "description_width": "",
            "_view_module": "@jupyter-widgets/base",
            "_model_module_version": "1.5.0",
            "_view_count": null,
            "_view_module_version": "1.2.0",
            "_model_module": "@jupyter-widgets/controls"
          }
        },
        "275df5c677be4ba7b28d43dbf31396ec": {
          "model_module": "@jupyter-widgets/base",
          "model_name": "LayoutModel",
          "model_module_version": "1.2.0",
          "state": {
            "_view_name": "LayoutView",
            "grid_template_rows": null,
            "right": null,
            "justify_content": null,
            "_view_module": "@jupyter-widgets/base",
            "overflow": null,
            "_model_module_version": "1.2.0",
            "_view_count": null,
            "flex_flow": null,
            "width": null,
            "min_width": null,
            "border": null,
            "align_items": null,
            "bottom": null,
            "_model_module": "@jupyter-widgets/base",
            "top": null,
            "grid_column": null,
            "overflow_y": null,
            "overflow_x": null,
            "grid_auto_flow": null,
            "grid_area": null,
            "grid_template_columns": null,
            "flex": null,
            "_model_name": "LayoutModel",
            "justify_items": null,
            "grid_row": null,
            "max_height": null,
            "align_content": null,
            "visibility": null,
            "align_self": null,
            "height": null,
            "min_height": null,
            "padding": null,
            "grid_auto_rows": null,
            "grid_gap": null,
            "max_width": null,
            "order": null,
            "_view_module_version": "1.2.0",
            "grid_template_areas": null,
            "object_position": null,
            "object_fit": null,
            "grid_auto_columns": null,
            "margin": null,
            "display": null,
            "left": null
          }
        },
        "a2c965f4f6d0464ea4b242c6c7e4e622": {
          "model_module": "@jupyter-widgets/controls",
          "model_name": "HBoxModel",
          "model_module_version": "1.5.0",
          "state": {
            "_view_name": "HBoxView",
            "_dom_classes": [],
            "_model_name": "HBoxModel",
            "_view_module": "@jupyter-widgets/controls",
            "_model_module_version": "1.5.0",
            "_view_count": null,
            "_view_module_version": "1.5.0",
            "box_style": "",
            "layout": "IPY_MODEL_c8216ca112d9487fa87b7bc29d6733f8",
            "_model_module": "@jupyter-widgets/controls",
            "children": [
              "IPY_MODEL_0023ca88c2f34052931a9af5504659c2",
              "IPY_MODEL_e34e0821c28a4870a7fe4cbfe62f8dbe",
              "IPY_MODEL_23a7d28c676a4f228016f2e1f7ca5649"
            ]
          }
        },
        "c8216ca112d9487fa87b7bc29d6733f8": {
          "model_module": "@jupyter-widgets/base",
          "model_name": "LayoutModel",
          "model_module_version": "1.2.0",
          "state": {
            "_view_name": "LayoutView",
            "grid_template_rows": null,
            "right": null,
            "justify_content": null,
            "_view_module": "@jupyter-widgets/base",
            "overflow": null,
            "_model_module_version": "1.2.0",
            "_view_count": null,
            "flex_flow": null,
            "width": null,
            "min_width": null,
            "border": null,
            "align_items": null,
            "bottom": null,
            "_model_module": "@jupyter-widgets/base",
            "top": null,
            "grid_column": null,
            "overflow_y": null,
            "overflow_x": null,
            "grid_auto_flow": null,
            "grid_area": null,
            "grid_template_columns": null,
            "flex": null,
            "_model_name": "LayoutModel",
            "justify_items": null,
            "grid_row": null,
            "max_height": null,
            "align_content": null,
            "visibility": null,
            "align_self": null,
            "height": null,
            "min_height": null,
            "padding": null,
            "grid_auto_rows": null,
            "grid_gap": null,
            "max_width": null,
            "order": null,
            "_view_module_version": "1.2.0",
            "grid_template_areas": null,
            "object_position": null,
            "object_fit": null,
            "grid_auto_columns": null,
            "margin": null,
            "display": null,
            "left": null
          }
        },
        "0023ca88c2f34052931a9af5504659c2": {
          "model_module": "@jupyter-widgets/controls",
          "model_name": "HTMLModel",
          "model_module_version": "1.5.0",
          "state": {
            "_view_name": "HTMLView",
            "style": "IPY_MODEL_d0c52a2f2c1d445a9c1dfcd202fff369",
            "_dom_classes": [],
            "description": "",
            "_model_name": "HTMLModel",
            "placeholder": "​",
            "_view_module": "@jupyter-widgets/controls",
            "_model_module_version": "1.5.0",
            "value": "Downloading: ",
            "_view_count": null,
            "_view_module_version": "1.5.0",
            "description_tooltip": null,
            "_model_module": "@jupyter-widgets/controls",
            "layout": "IPY_MODEL_2ef29eca57d84de3b499893243e8194d"
          }
        },
        "e34e0821c28a4870a7fe4cbfe62f8dbe": {
          "model_module": "@jupyter-widgets/controls",
          "model_name": "FloatProgressModel",
          "model_module_version": "1.5.0",
          "state": {
            "_view_name": "ProgressView",
            "style": "IPY_MODEL_d1016e0c9e7243dc9677873dc08ff72d",
            "_dom_classes": [],
            "description": "",
            "_model_name": "FloatProgressModel",
            "bar_style": "success",
            "max": 7568316,
            "_view_module": "@jupyter-widgets/controls",
            "_model_module_version": "1.5.0",
            "value": 7568316,
            "_view_count": null,
            "_view_module_version": "1.5.0",
            "orientation": "horizontal",
            "min": 0,
            "description_tooltip": null,
            "_model_module": "@jupyter-widgets/controls",
            "layout": "IPY_MODEL_3f59a53bce6a4004a57476a05db9cc5c"
          }
        },
        "23a7d28c676a4f228016f2e1f7ca5649": {
          "model_module": "@jupyter-widgets/controls",
          "model_name": "HTMLModel",
          "model_module_version": "1.5.0",
          "state": {
            "_view_name": "HTMLView",
            "style": "IPY_MODEL_a22ae95c1aca40b5960af971d6324737",
            "_dom_classes": [],
            "description": "",
            "_model_name": "HTMLModel",
            "placeholder": "​",
            "_view_module": "@jupyter-widgets/controls",
            "_model_module_version": "1.5.0",
            "value": " 38.5M/? [00:00&lt;00:00, 66.1MB/s]",
            "_view_count": null,
            "_view_module_version": "1.5.0",
            "description_tooltip": null,
            "_model_module": "@jupyter-widgets/controls",
            "layout": "IPY_MODEL_bcc33e5c1d794e4fba4e5a428a0db5aa"
          }
        },
        "d0c52a2f2c1d445a9c1dfcd202fff369": {
          "model_module": "@jupyter-widgets/controls",
          "model_name": "DescriptionStyleModel",
          "model_module_version": "1.5.0",
          "state": {
            "_view_name": "StyleView",
            "_model_name": "DescriptionStyleModel",
            "description_width": "",
            "_view_module": "@jupyter-widgets/base",
            "_model_module_version": "1.5.0",
            "_view_count": null,
            "_view_module_version": "1.2.0",
            "_model_module": "@jupyter-widgets/controls"
          }
        },
        "2ef29eca57d84de3b499893243e8194d": {
          "model_module": "@jupyter-widgets/base",
          "model_name": "LayoutModel",
          "model_module_version": "1.2.0",
          "state": {
            "_view_name": "LayoutView",
            "grid_template_rows": null,
            "right": null,
            "justify_content": null,
            "_view_module": "@jupyter-widgets/base",
            "overflow": null,
            "_model_module_version": "1.2.0",
            "_view_count": null,
            "flex_flow": null,
            "width": null,
            "min_width": null,
            "border": null,
            "align_items": null,
            "bottom": null,
            "_model_module": "@jupyter-widgets/base",
            "top": null,
            "grid_column": null,
            "overflow_y": null,
            "overflow_x": null,
            "grid_auto_flow": null,
            "grid_area": null,
            "grid_template_columns": null,
            "flex": null,
            "_model_name": "LayoutModel",
            "justify_items": null,
            "grid_row": null,
            "max_height": null,
            "align_content": null,
            "visibility": null,
            "align_self": null,
            "height": null,
            "min_height": null,
            "padding": null,
            "grid_auto_rows": null,
            "grid_gap": null,
            "max_width": null,
            "order": null,
            "_view_module_version": "1.2.0",
            "grid_template_areas": null,
            "object_position": null,
            "object_fit": null,
            "grid_auto_columns": null,
            "margin": null,
            "display": null,
            "left": null
          }
        },
        "d1016e0c9e7243dc9677873dc08ff72d": {
          "model_module": "@jupyter-widgets/controls",
          "model_name": "ProgressStyleModel",
          "model_module_version": "1.5.0",
          "state": {
            "_view_name": "StyleView",
            "_model_name": "ProgressStyleModel",
            "description_width": "",
            "_view_module": "@jupyter-widgets/base",
            "_model_module_version": "1.5.0",
            "_view_count": null,
            "_view_module_version": "1.2.0",
            "bar_color": null,
            "_model_module": "@jupyter-widgets/controls"
          }
        },
        "3f59a53bce6a4004a57476a05db9cc5c": {
          "model_module": "@jupyter-widgets/base",
          "model_name": "LayoutModel",
          "model_module_version": "1.2.0",
          "state": {
            "_view_name": "LayoutView",
            "grid_template_rows": null,
            "right": null,
            "justify_content": null,
            "_view_module": "@jupyter-widgets/base",
            "overflow": null,
            "_model_module_version": "1.2.0",
            "_view_count": null,
            "flex_flow": null,
            "width": null,
            "min_width": null,
            "border": null,
            "align_items": null,
            "bottom": null,
            "_model_module": "@jupyter-widgets/base",
            "top": null,
            "grid_column": null,
            "overflow_y": null,
            "overflow_x": null,
            "grid_auto_flow": null,
            "grid_area": null,
            "grid_template_columns": null,
            "flex": null,
            "_model_name": "LayoutModel",
            "justify_items": null,
            "grid_row": null,
            "max_height": null,
            "align_content": null,
            "visibility": null,
            "align_self": null,
            "height": null,
            "min_height": null,
            "padding": null,
            "grid_auto_rows": null,
            "grid_gap": null,
            "max_width": null,
            "order": null,
            "_view_module_version": "1.2.0",
            "grid_template_areas": null,
            "object_position": null,
            "object_fit": null,
            "grid_auto_columns": null,
            "margin": null,
            "display": null,
            "left": null
          }
        },
        "a22ae95c1aca40b5960af971d6324737": {
          "model_module": "@jupyter-widgets/controls",
          "model_name": "DescriptionStyleModel",
          "model_module_version": "1.5.0",
          "state": {
            "_view_name": "StyleView",
            "_model_name": "DescriptionStyleModel",
            "description_width": "",
            "_view_module": "@jupyter-widgets/base",
            "_model_module_version": "1.5.0",
            "_view_count": null,
            "_view_module_version": "1.2.0",
            "_model_module": "@jupyter-widgets/controls"
          }
        },
        "bcc33e5c1d794e4fba4e5a428a0db5aa": {
          "model_module": "@jupyter-widgets/base",
          "model_name": "LayoutModel",
          "model_module_version": "1.2.0",
          "state": {
            "_view_name": "LayoutView",
            "grid_template_rows": null,
            "right": null,
            "justify_content": null,
            "_view_module": "@jupyter-widgets/base",
            "overflow": null,
            "_model_module_version": "1.2.0",
            "_view_count": null,
            "flex_flow": null,
            "width": null,
            "min_width": null,
            "border": null,
            "align_items": null,
            "bottom": null,
            "_model_module": "@jupyter-widgets/base",
            "top": null,
            "grid_column": null,
            "overflow_y": null,
            "overflow_x": null,
            "grid_auto_flow": null,
            "grid_area": null,
            "grid_template_columns": null,
            "flex": null,
            "_model_name": "LayoutModel",
            "justify_items": null,
            "grid_row": null,
            "max_height": null,
            "align_content": null,
            "visibility": null,
            "align_self": null,
            "height": null,
            "min_height": null,
            "padding": null,
            "grid_auto_rows": null,
            "grid_gap": null,
            "max_width": null,
            "order": null,
            "_view_module_version": "1.2.0",
            "grid_template_areas": null,
            "object_position": null,
            "object_fit": null,
            "grid_auto_columns": null,
            "margin": null,
            "display": null,
            "left": null
          }
        },
        "21880363375f4e54adb40180dccf6151": {
          "model_module": "@jupyter-widgets/controls",
          "model_name": "HBoxModel",
          "model_module_version": "1.5.0",
          "state": {
            "_view_name": "HBoxView",
            "_dom_classes": [],
            "_model_name": "HBoxModel",
            "_view_module": "@jupyter-widgets/controls",
            "_model_module_version": "1.5.0",
            "_view_count": null,
            "_view_module_version": "1.5.0",
            "box_style": "",
            "layout": "IPY_MODEL_64369d2196964e89b5f0974527148e5f",
            "_model_module": "@jupyter-widgets/controls",
            "children": [
              "IPY_MODEL_4333e88349564d309b57630e059b1398",
              "IPY_MODEL_fe2b64852bb543b7b3f5f37dba13da65",
              "IPY_MODEL_3f8746905ebf42ddbe2b6bd5fd4223be"
            ]
          }
        },
        "64369d2196964e89b5f0974527148e5f": {
          "model_module": "@jupyter-widgets/base",
          "model_name": "LayoutModel",
          "model_module_version": "1.2.0",
          "state": {
            "_view_name": "LayoutView",
            "grid_template_rows": null,
            "right": null,
            "justify_content": null,
            "_view_module": "@jupyter-widgets/base",
            "overflow": null,
            "_model_module_version": "1.2.0",
            "_view_count": null,
            "flex_flow": null,
            "width": null,
            "min_width": null,
            "border": null,
            "align_items": null,
            "bottom": null,
            "_model_module": "@jupyter-widgets/base",
            "top": null,
            "grid_column": null,
            "overflow_y": null,
            "overflow_x": null,
            "grid_auto_flow": null,
            "grid_area": null,
            "grid_template_columns": null,
            "flex": null,
            "_model_name": "LayoutModel",
            "justify_items": null,
            "grid_row": null,
            "max_height": null,
            "align_content": null,
            "visibility": null,
            "align_self": null,
            "height": null,
            "min_height": null,
            "padding": null,
            "grid_auto_rows": null,
            "grid_gap": null,
            "max_width": null,
            "order": null,
            "_view_module_version": "1.2.0",
            "grid_template_areas": null,
            "object_position": null,
            "object_fit": null,
            "grid_auto_columns": null,
            "margin": null,
            "display": null,
            "left": null
          }
        },
        "4333e88349564d309b57630e059b1398": {
          "model_module": "@jupyter-widgets/controls",
          "model_name": "HTMLModel",
          "model_module_version": "1.5.0",
          "state": {
            "_view_name": "HTMLView",
            "style": "IPY_MODEL_9cac7c5035f245cdaf21ed74c01b76ed",
            "_dom_classes": [],
            "description": "",
            "_model_name": "HTMLModel",
            "placeholder": "​",
            "_view_module": "@jupyter-widgets/controls",
            "_model_module_version": "1.5.0",
            "value": "Downloading: ",
            "_view_count": null,
            "_view_module_version": "1.5.0",
            "description_tooltip": null,
            "_model_module": "@jupyter-widgets/controls",
            "layout": "IPY_MODEL_469419c3d50245f7ac2565ff69f37a48"
          }
        },
        "fe2b64852bb543b7b3f5f37dba13da65": {
          "model_module": "@jupyter-widgets/controls",
          "model_name": "FloatProgressModel",
          "model_module_version": "1.5.0",
          "state": {
            "_view_name": "ProgressView",
            "style": "IPY_MODEL_55408224055c45509532a33a60e886aa",
            "_dom_classes": [],
            "description": "",
            "_model_name": "FloatProgressModel",
            "bar_style": "success",
            "max": 770480,
            "_view_module": "@jupyter-widgets/controls",
            "_model_module_version": "1.5.0",
            "value": 770480,
            "_view_count": null,
            "_view_module_version": "1.5.0",
            "orientation": "horizontal",
            "min": 0,
            "description_tooltip": null,
            "_model_module": "@jupyter-widgets/controls",
            "layout": "IPY_MODEL_cca99835f8be49c7a0e2bc4724de633a"
          }
        },
        "3f8746905ebf42ddbe2b6bd5fd4223be": {
          "model_module": "@jupyter-widgets/controls",
          "model_name": "HTMLModel",
          "model_module_version": "1.5.0",
          "state": {
            "_view_name": "HTMLView",
            "style": "IPY_MODEL_edba08a7f7b943699dfed414131e4ec2",
            "_dom_classes": [],
            "description": "",
            "_model_name": "HTMLModel",
            "placeholder": "​",
            "_view_module": "@jupyter-widgets/controls",
            "_model_module_version": "1.5.0",
            "value": " 3.88M/? [00:00&lt;00:00, 15.5MB/s]",
            "_view_count": null,
            "_view_module_version": "1.5.0",
            "description_tooltip": null,
            "_model_module": "@jupyter-widgets/controls",
            "layout": "IPY_MODEL_be69d8e6a3e4474a86c442ae192b7728"
          }
        },
        "9cac7c5035f245cdaf21ed74c01b76ed": {
          "model_module": "@jupyter-widgets/controls",
          "model_name": "DescriptionStyleModel",
          "model_module_version": "1.5.0",
          "state": {
            "_view_name": "StyleView",
            "_model_name": "DescriptionStyleModel",
            "description_width": "",
            "_view_module": "@jupyter-widgets/base",
            "_model_module_version": "1.5.0",
            "_view_count": null,
            "_view_module_version": "1.2.0",
            "_model_module": "@jupyter-widgets/controls"
          }
        },
        "469419c3d50245f7ac2565ff69f37a48": {
          "model_module": "@jupyter-widgets/base",
          "model_name": "LayoutModel",
          "model_module_version": "1.2.0",
          "state": {
            "_view_name": "LayoutView",
            "grid_template_rows": null,
            "right": null,
            "justify_content": null,
            "_view_module": "@jupyter-widgets/base",
            "overflow": null,
            "_model_module_version": "1.2.0",
            "_view_count": null,
            "flex_flow": null,
            "width": null,
            "min_width": null,
            "border": null,
            "align_items": null,
            "bottom": null,
            "_model_module": "@jupyter-widgets/base",
            "top": null,
            "grid_column": null,
            "overflow_y": null,
            "overflow_x": null,
            "grid_auto_flow": null,
            "grid_area": null,
            "grid_template_columns": null,
            "flex": null,
            "_model_name": "LayoutModel",
            "justify_items": null,
            "grid_row": null,
            "max_height": null,
            "align_content": null,
            "visibility": null,
            "align_self": null,
            "height": null,
            "min_height": null,
            "padding": null,
            "grid_auto_rows": null,
            "grid_gap": null,
            "max_width": null,
            "order": null,
            "_view_module_version": "1.2.0",
            "grid_template_areas": null,
            "object_position": null,
            "object_fit": null,
            "grid_auto_columns": null,
            "margin": null,
            "display": null,
            "left": null
          }
        },
        "55408224055c45509532a33a60e886aa": {
          "model_module": "@jupyter-widgets/controls",
          "model_name": "ProgressStyleModel",
          "model_module_version": "1.5.0",
          "state": {
            "_view_name": "StyleView",
            "_model_name": "ProgressStyleModel",
            "description_width": "",
            "_view_module": "@jupyter-widgets/base",
            "_model_module_version": "1.5.0",
            "_view_count": null,
            "_view_module_version": "1.2.0",
            "bar_color": null,
            "_model_module": "@jupyter-widgets/controls"
          }
        },
        "cca99835f8be49c7a0e2bc4724de633a": {
          "model_module": "@jupyter-widgets/base",
          "model_name": "LayoutModel",
          "model_module_version": "1.2.0",
          "state": {
            "_view_name": "LayoutView",
            "grid_template_rows": null,
            "right": null,
            "justify_content": null,
            "_view_module": "@jupyter-widgets/base",
            "overflow": null,
            "_model_module_version": "1.2.0",
            "_view_count": null,
            "flex_flow": null,
            "width": null,
            "min_width": null,
            "border": null,
            "align_items": null,
            "bottom": null,
            "_model_module": "@jupyter-widgets/base",
            "top": null,
            "grid_column": null,
            "overflow_y": null,
            "overflow_x": null,
            "grid_auto_flow": null,
            "grid_area": null,
            "grid_template_columns": null,
            "flex": null,
            "_model_name": "LayoutModel",
            "justify_items": null,
            "grid_row": null,
            "max_height": null,
            "align_content": null,
            "visibility": null,
            "align_self": null,
            "height": null,
            "min_height": null,
            "padding": null,
            "grid_auto_rows": null,
            "grid_gap": null,
            "max_width": null,
            "order": null,
            "_view_module_version": "1.2.0",
            "grid_template_areas": null,
            "object_position": null,
            "object_fit": null,
            "grid_auto_columns": null,
            "margin": null,
            "display": null,
            "left": null
          }
        },
        "edba08a7f7b943699dfed414131e4ec2": {
          "model_module": "@jupyter-widgets/controls",
          "model_name": "DescriptionStyleModel",
          "model_module_version": "1.5.0",
          "state": {
            "_view_name": "StyleView",
            "_model_name": "DescriptionStyleModel",
            "description_width": "",
            "_view_module": "@jupyter-widgets/base",
            "_model_module_version": "1.5.0",
            "_view_count": null,
            "_view_module_version": "1.2.0",
            "_model_module": "@jupyter-widgets/controls"
          }
        },
        "be69d8e6a3e4474a86c442ae192b7728": {
          "model_module": "@jupyter-widgets/base",
          "model_name": "LayoutModel",
          "model_module_version": "1.2.0",
          "state": {
            "_view_name": "LayoutView",
            "grid_template_rows": null,
            "right": null,
            "justify_content": null,
            "_view_module": "@jupyter-widgets/base",
            "overflow": null,
            "_model_module_version": "1.2.0",
            "_view_count": null,
            "flex_flow": null,
            "width": null,
            "min_width": null,
            "border": null,
            "align_items": null,
            "bottom": null,
            "_model_module": "@jupyter-widgets/base",
            "top": null,
            "grid_column": null,
            "overflow_y": null,
            "overflow_x": null,
            "grid_auto_flow": null,
            "grid_area": null,
            "grid_template_columns": null,
            "flex": null,
            "_model_name": "LayoutModel",
            "justify_items": null,
            "grid_row": null,
            "max_height": null,
            "align_content": null,
            "visibility": null,
            "align_self": null,
            "height": null,
            "min_height": null,
            "padding": null,
            "grid_auto_rows": null,
            "grid_gap": null,
            "max_width": null,
            "order": null,
            "_view_module_version": "1.2.0",
            "grid_template_areas": null,
            "object_position": null,
            "object_fit": null,
            "grid_auto_columns": null,
            "margin": null,
            "display": null,
            "left": null
          }
        },
        "888815d0d1794ea59711884529e63af8": {
          "model_module": "@jupyter-widgets/controls",
          "model_name": "HBoxModel",
          "model_module_version": "1.5.0",
          "state": {
            "_view_name": "HBoxView",
            "_dom_classes": [],
            "_model_name": "HBoxModel",
            "_view_module": "@jupyter-widgets/controls",
            "_model_module_version": "1.5.0",
            "_view_count": null,
            "_view_module_version": "1.5.0",
            "box_style": "",
            "layout": "IPY_MODEL_cc2804a96aa44436a139d4404e4931d5",
            "_model_module": "@jupyter-widgets/controls",
            "children": [
              "IPY_MODEL_5e89ce449c764045a9b82423a9d3afbb",
              "IPY_MODEL_79ff5662fb6244af9801f91f0a1c499b",
              "IPY_MODEL_7c701f507e8144639adfd1e984b1ea49"
            ]
          }
        },
        "cc2804a96aa44436a139d4404e4931d5": {
          "model_module": "@jupyter-widgets/base",
          "model_name": "LayoutModel",
          "model_module_version": "1.2.0",
          "state": {
            "_view_name": "LayoutView",
            "grid_template_rows": null,
            "right": null,
            "justify_content": null,
            "_view_module": "@jupyter-widgets/base",
            "overflow": null,
            "_model_module_version": "1.2.0",
            "_view_count": null,
            "flex_flow": null,
            "width": null,
            "min_width": null,
            "border": null,
            "align_items": null,
            "bottom": null,
            "_model_module": "@jupyter-widgets/base",
            "top": null,
            "grid_column": null,
            "overflow_y": null,
            "overflow_x": null,
            "grid_auto_flow": null,
            "grid_area": null,
            "grid_template_columns": null,
            "flex": null,
            "_model_name": "LayoutModel",
            "justify_items": null,
            "grid_row": null,
            "max_height": null,
            "align_content": null,
            "visibility": null,
            "align_self": null,
            "height": null,
            "min_height": null,
            "padding": null,
            "grid_auto_rows": null,
            "grid_gap": null,
            "max_width": null,
            "order": null,
            "_view_module_version": "1.2.0",
            "grid_template_areas": null,
            "object_position": null,
            "object_fit": null,
            "grid_auto_columns": null,
            "margin": null,
            "display": null,
            "left": null
          }
        },
        "5e89ce449c764045a9b82423a9d3afbb": {
          "model_module": "@jupyter-widgets/controls",
          "model_name": "HTMLModel",
          "model_module_version": "1.5.0",
          "state": {
            "_view_name": "HTMLView",
            "style": "IPY_MODEL_3d81f875e50b45fcb21b758bda23bbfc",
            "_dom_classes": [],
            "description": "",
            "_model_name": "HTMLModel",
            "placeholder": "​",
            "_view_module": "@jupyter-widgets/controls",
            "_model_module_version": "1.5.0",
            "value": "100%",
            "_view_count": null,
            "_view_module_version": "1.5.0",
            "description_tooltip": null,
            "_model_module": "@jupyter-widgets/controls",
            "layout": "IPY_MODEL_434c18176f0843c0a73dda0b7e236f2a"
          }
        },
        "79ff5662fb6244af9801f91f0a1c499b": {
          "model_module": "@jupyter-widgets/controls",
          "model_name": "FloatProgressModel",
          "model_module_version": "1.5.0",
          "state": {
            "_view_name": "ProgressView",
            "style": "IPY_MODEL_5f0f3fe5185d4eb28fa36863e16f367c",
            "_dom_classes": [],
            "description": "",
            "_model_name": "FloatProgressModel",
            "bar_style": "success",
            "max": 2,
            "_view_module": "@jupyter-widgets/controls",
            "_model_module_version": "1.5.0",
            "value": 2,
            "_view_count": null,
            "_view_module_version": "1.5.0",
            "orientation": "horizontal",
            "min": 0,
            "description_tooltip": null,
            "_model_module": "@jupyter-widgets/controls",
            "layout": "IPY_MODEL_892926cef46a4def9317a602d0310c6e"
          }
        },
        "7c701f507e8144639adfd1e984b1ea49": {
          "model_module": "@jupyter-widgets/controls",
          "model_name": "HTMLModel",
          "model_module_version": "1.5.0",
          "state": {
            "_view_name": "HTMLView",
            "style": "IPY_MODEL_bcf5d53d7a6f4edab6109c4de2f4c119",
            "_dom_classes": [],
            "description": "",
            "_model_name": "HTMLModel",
            "placeholder": "​",
            "_view_module": "@jupyter-widgets/controls",
            "_model_module_version": "1.5.0",
            "value": " 2/2 [00:00&lt;00:00, 35.61it/s]",
            "_view_count": null,
            "_view_module_version": "1.5.0",
            "description_tooltip": null,
            "_model_module": "@jupyter-widgets/controls",
            "layout": "IPY_MODEL_f08a643f575c4c45bbff575a0dcbd79b"
          }
        },
        "3d81f875e50b45fcb21b758bda23bbfc": {
          "model_module": "@jupyter-widgets/controls",
          "model_name": "DescriptionStyleModel",
          "model_module_version": "1.5.0",
          "state": {
            "_view_name": "StyleView",
            "_model_name": "DescriptionStyleModel",
            "description_width": "",
            "_view_module": "@jupyter-widgets/base",
            "_model_module_version": "1.5.0",
            "_view_count": null,
            "_view_module_version": "1.2.0",
            "_model_module": "@jupyter-widgets/controls"
          }
        },
        "434c18176f0843c0a73dda0b7e236f2a": {
          "model_module": "@jupyter-widgets/base",
          "model_name": "LayoutModel",
          "model_module_version": "1.2.0",
          "state": {
            "_view_name": "LayoutView",
            "grid_template_rows": null,
            "right": null,
            "justify_content": null,
            "_view_module": "@jupyter-widgets/base",
            "overflow": null,
            "_model_module_version": "1.2.0",
            "_view_count": null,
            "flex_flow": null,
            "width": null,
            "min_width": null,
            "border": null,
            "align_items": null,
            "bottom": null,
            "_model_module": "@jupyter-widgets/base",
            "top": null,
            "grid_column": null,
            "overflow_y": null,
            "overflow_x": null,
            "grid_auto_flow": null,
            "grid_area": null,
            "grid_template_columns": null,
            "flex": null,
            "_model_name": "LayoutModel",
            "justify_items": null,
            "grid_row": null,
            "max_height": null,
            "align_content": null,
            "visibility": null,
            "align_self": null,
            "height": null,
            "min_height": null,
            "padding": null,
            "grid_auto_rows": null,
            "grid_gap": null,
            "max_width": null,
            "order": null,
            "_view_module_version": "1.2.0",
            "grid_template_areas": null,
            "object_position": null,
            "object_fit": null,
            "grid_auto_columns": null,
            "margin": null,
            "display": null,
            "left": null
          }
        },
        "5f0f3fe5185d4eb28fa36863e16f367c": {
          "model_module": "@jupyter-widgets/controls",
          "model_name": "ProgressStyleModel",
          "model_module_version": "1.5.0",
          "state": {
            "_view_name": "StyleView",
            "_model_name": "ProgressStyleModel",
            "description_width": "",
            "_view_module": "@jupyter-widgets/base",
            "_model_module_version": "1.5.0",
            "_view_count": null,
            "_view_module_version": "1.2.0",
            "bar_color": null,
            "_model_module": "@jupyter-widgets/controls"
          }
        },
        "892926cef46a4def9317a602d0310c6e": {
          "model_module": "@jupyter-widgets/base",
          "model_name": "LayoutModel",
          "model_module_version": "1.2.0",
          "state": {
            "_view_name": "LayoutView",
            "grid_template_rows": null,
            "right": null,
            "justify_content": null,
            "_view_module": "@jupyter-widgets/base",
            "overflow": null,
            "_model_module_version": "1.2.0",
            "_view_count": null,
            "flex_flow": null,
            "width": null,
            "min_width": null,
            "border": null,
            "align_items": null,
            "bottom": null,
            "_model_module": "@jupyter-widgets/base",
            "top": null,
            "grid_column": null,
            "overflow_y": null,
            "overflow_x": null,
            "grid_auto_flow": null,
            "grid_area": null,
            "grid_template_columns": null,
            "flex": null,
            "_model_name": "LayoutModel",
            "justify_items": null,
            "grid_row": null,
            "max_height": null,
            "align_content": null,
            "visibility": null,
            "align_self": null,
            "height": null,
            "min_height": null,
            "padding": null,
            "grid_auto_rows": null,
            "grid_gap": null,
            "max_width": null,
            "order": null,
            "_view_module_version": "1.2.0",
            "grid_template_areas": null,
            "object_position": null,
            "object_fit": null,
            "grid_auto_columns": null,
            "margin": null,
            "display": null,
            "left": null
          }
        },
        "bcf5d53d7a6f4edab6109c4de2f4c119": {
          "model_module": "@jupyter-widgets/controls",
          "model_name": "DescriptionStyleModel",
          "model_module_version": "1.5.0",
          "state": {
            "_view_name": "StyleView",
            "_model_name": "DescriptionStyleModel",
            "description_width": "",
            "_view_module": "@jupyter-widgets/base",
            "_model_module_version": "1.5.0",
            "_view_count": null,
            "_view_module_version": "1.2.0",
            "_model_module": "@jupyter-widgets/controls"
          }
        },
        "f08a643f575c4c45bbff575a0dcbd79b": {
          "model_module": "@jupyter-widgets/base",
          "model_name": "LayoutModel",
          "model_module_version": "1.2.0",
          "state": {
            "_view_name": "LayoutView",
            "grid_template_rows": null,
            "right": null,
            "justify_content": null,
            "_view_module": "@jupyter-widgets/base",
            "overflow": null,
            "_model_module_version": "1.2.0",
            "_view_count": null,
            "flex_flow": null,
            "width": null,
            "min_width": null,
            "border": null,
            "align_items": null,
            "bottom": null,
            "_model_module": "@jupyter-widgets/base",
            "top": null,
            "grid_column": null,
            "overflow_y": null,
            "overflow_x": null,
            "grid_auto_flow": null,
            "grid_area": null,
            "grid_template_columns": null,
            "flex": null,
            "_model_name": "LayoutModel",
            "justify_items": null,
            "grid_row": null,
            "max_height": null,
            "align_content": null,
            "visibility": null,
            "align_self": null,
            "height": null,
            "min_height": null,
            "padding": null,
            "grid_auto_rows": null,
            "grid_gap": null,
            "max_width": null,
            "order": null,
            "_view_module_version": "1.2.0",
            "grid_template_areas": null,
            "object_position": null,
            "object_fit": null,
            "grid_auto_columns": null,
            "margin": null,
            "display": null,
            "left": null
          }
        },
        "175ac8e88302447ea5b89094c19d17ae": {
          "model_module": "@jupyter-widgets/controls",
          "model_name": "HBoxModel",
          "model_module_version": "1.5.0",
          "state": {
            "_view_name": "HBoxView",
            "_dom_classes": [],
            "_model_name": "HBoxModel",
            "_view_module": "@jupyter-widgets/controls",
            "_model_module_version": "1.5.0",
            "_view_count": null,
            "_view_module_version": "1.5.0",
            "box_style": "",
            "layout": "IPY_MODEL_e2aa02d3dd964de8ba3616425100dffe",
            "_model_module": "@jupyter-widgets/controls",
            "children": [
              "IPY_MODEL_122a865c105c4f10b3e04d1f6f8326fb",
              "IPY_MODEL_5b1eda0960ca42a4b4e7e4776d00e04b",
              "IPY_MODEL_27bd4985385b4546bc747fcde4e8e975"
            ]
          }
        },
        "e2aa02d3dd964de8ba3616425100dffe": {
          "model_module": "@jupyter-widgets/base",
          "model_name": "LayoutModel",
          "model_module_version": "1.2.0",
          "state": {
            "_view_name": "LayoutView",
            "grid_template_rows": null,
            "right": null,
            "justify_content": null,
            "_view_module": "@jupyter-widgets/base",
            "overflow": null,
            "_model_module_version": "1.2.0",
            "_view_count": null,
            "flex_flow": null,
            "width": null,
            "min_width": null,
            "border": null,
            "align_items": null,
            "bottom": null,
            "_model_module": "@jupyter-widgets/base",
            "top": null,
            "grid_column": null,
            "overflow_y": null,
            "overflow_x": null,
            "grid_auto_flow": null,
            "grid_area": null,
            "grid_template_columns": null,
            "flex": null,
            "_model_name": "LayoutModel",
            "justify_items": null,
            "grid_row": null,
            "max_height": null,
            "align_content": null,
            "visibility": null,
            "align_self": null,
            "height": null,
            "min_height": null,
            "padding": null,
            "grid_auto_rows": null,
            "grid_gap": null,
            "max_width": null,
            "order": null,
            "_view_module_version": "1.2.0",
            "grid_template_areas": null,
            "object_position": null,
            "object_fit": null,
            "grid_auto_columns": null,
            "margin": null,
            "display": null,
            "left": null
          }
        },
        "122a865c105c4f10b3e04d1f6f8326fb": {
          "model_module": "@jupyter-widgets/controls",
          "model_name": "HTMLModel",
          "model_module_version": "1.5.0",
          "state": {
            "_view_name": "HTMLView",
            "style": "IPY_MODEL_34861ac5194845eeb122fd637d1ee964",
            "_dom_classes": [],
            "description": "",
            "_model_name": "HTMLModel",
            "placeholder": "​",
            "_view_module": "@jupyter-widgets/controls",
            "_model_module_version": "1.5.0",
            "value": "",
            "_view_count": null,
            "_view_module_version": "1.5.0",
            "description_tooltip": null,
            "_model_module": "@jupyter-widgets/controls",
            "layout": "IPY_MODEL_d5ad8605b180418bb792bf5e37abd9ae"
          }
        },
        "5b1eda0960ca42a4b4e7e4776d00e04b": {
          "model_module": "@jupyter-widgets/controls",
          "model_name": "FloatProgressModel",
          "model_module_version": "1.5.0",
          "state": {
            "_view_name": "ProgressView",
            "style": "IPY_MODEL_3bb50398a1a742ae9644dde037856779",
            "_dom_classes": [],
            "description": "",
            "_model_name": "FloatProgressModel",
            "bar_style": "info",
            "max": 1,
            "_view_module": "@jupyter-widgets/controls",
            "_model_module_version": "1.5.0",
            "value": 1,
            "_view_count": null,
            "_view_module_version": "1.5.0",
            "orientation": "horizontal",
            "min": 0,
            "description_tooltip": null,
            "_model_module": "@jupyter-widgets/controls",
            "layout": "IPY_MODEL_504a4789486c41389b10ccedc4f485bd"
          }
        },
        "27bd4985385b4546bc747fcde4e8e975": {
          "model_module": "@jupyter-widgets/controls",
          "model_name": "HTMLModel",
          "model_module_version": "1.5.0",
          "state": {
            "_view_name": "HTMLView",
            "style": "IPY_MODEL_509b2b597ad7417c8f251155936d5dcf",
            "_dom_classes": [],
            "description": "",
            "_model_name": "HTMLModel",
            "placeholder": "​",
            "_view_module": "@jupyter-widgets/controls",
            "_model_module_version": "1.5.0",
            "value": " 59729/0 [00:06&lt;00:00, 13727.28 examples/s]",
            "_view_count": null,
            "_view_module_version": "1.5.0",
            "description_tooltip": null,
            "_model_module": "@jupyter-widgets/controls",
            "layout": "IPY_MODEL_dd56e785a7b545e7893fba04dc37596e"
          }
        },
        "34861ac5194845eeb122fd637d1ee964": {
          "model_module": "@jupyter-widgets/controls",
          "model_name": "DescriptionStyleModel",
          "model_module_version": "1.5.0",
          "state": {
            "_view_name": "StyleView",
            "_model_name": "DescriptionStyleModel",
            "description_width": "",
            "_view_module": "@jupyter-widgets/base",
            "_model_module_version": "1.5.0",
            "_view_count": null,
            "_view_module_version": "1.2.0",
            "_model_module": "@jupyter-widgets/controls"
          }
        },
        "d5ad8605b180418bb792bf5e37abd9ae": {
          "model_module": "@jupyter-widgets/base",
          "model_name": "LayoutModel",
          "model_module_version": "1.2.0",
          "state": {
            "_view_name": "LayoutView",
            "grid_template_rows": null,
            "right": null,
            "justify_content": null,
            "_view_module": "@jupyter-widgets/base",
            "overflow": null,
            "_model_module_version": "1.2.0",
            "_view_count": null,
            "flex_flow": null,
            "width": null,
            "min_width": null,
            "border": null,
            "align_items": null,
            "bottom": null,
            "_model_module": "@jupyter-widgets/base",
            "top": null,
            "grid_column": null,
            "overflow_y": null,
            "overflow_x": null,
            "grid_auto_flow": null,
            "grid_area": null,
            "grid_template_columns": null,
            "flex": null,
            "_model_name": "LayoutModel",
            "justify_items": null,
            "grid_row": null,
            "max_height": null,
            "align_content": null,
            "visibility": null,
            "align_self": null,
            "height": null,
            "min_height": null,
            "padding": null,
            "grid_auto_rows": null,
            "grid_gap": null,
            "max_width": null,
            "order": null,
            "_view_module_version": "1.2.0",
            "grid_template_areas": null,
            "object_position": null,
            "object_fit": null,
            "grid_auto_columns": null,
            "margin": null,
            "display": null,
            "left": null
          }
        },
        "3bb50398a1a742ae9644dde037856779": {
          "model_module": "@jupyter-widgets/controls",
          "model_name": "ProgressStyleModel",
          "model_module_version": "1.5.0",
          "state": {
            "_view_name": "StyleView",
            "_model_name": "ProgressStyleModel",
            "description_width": "",
            "_view_module": "@jupyter-widgets/base",
            "_model_module_version": "1.5.0",
            "_view_count": null,
            "_view_module_version": "1.2.0",
            "bar_color": null,
            "_model_module": "@jupyter-widgets/controls"
          }
        },
        "504a4789486c41389b10ccedc4f485bd": {
          "model_module": "@jupyter-widgets/base",
          "model_name": "LayoutModel",
          "model_module_version": "1.2.0",
          "state": {
            "_view_name": "LayoutView",
            "grid_template_rows": null,
            "right": null,
            "justify_content": null,
            "_view_module": "@jupyter-widgets/base",
            "overflow": null,
            "_model_module_version": "1.2.0",
            "_view_count": null,
            "flex_flow": null,
            "width": "20px",
            "min_width": null,
            "border": null,
            "align_items": null,
            "bottom": null,
            "_model_module": "@jupyter-widgets/base",
            "top": null,
            "grid_column": null,
            "overflow_y": null,
            "overflow_x": null,
            "grid_auto_flow": null,
            "grid_area": null,
            "grid_template_columns": null,
            "flex": null,
            "_model_name": "LayoutModel",
            "justify_items": null,
            "grid_row": null,
            "max_height": null,
            "align_content": null,
            "visibility": null,
            "align_self": null,
            "height": null,
            "min_height": null,
            "padding": null,
            "grid_auto_rows": null,
            "grid_gap": null,
            "max_width": null,
            "order": null,
            "_view_module_version": "1.2.0",
            "grid_template_areas": null,
            "object_position": null,
            "object_fit": null,
            "grid_auto_columns": null,
            "margin": null,
            "display": null,
            "left": null
          }
        },
        "509b2b597ad7417c8f251155936d5dcf": {
          "model_module": "@jupyter-widgets/controls",
          "model_name": "DescriptionStyleModel",
          "model_module_version": "1.5.0",
          "state": {
            "_view_name": "StyleView",
            "_model_name": "DescriptionStyleModel",
            "description_width": "",
            "_view_module": "@jupyter-widgets/base",
            "_model_module_version": "1.5.0",
            "_view_count": null,
            "_view_module_version": "1.2.0",
            "_model_module": "@jupyter-widgets/controls"
          }
        },
        "dd56e785a7b545e7893fba04dc37596e": {
          "model_module": "@jupyter-widgets/base",
          "model_name": "LayoutModel",
          "model_module_version": "1.2.0",
          "state": {
            "_view_name": "LayoutView",
            "grid_template_rows": null,
            "right": null,
            "justify_content": null,
            "_view_module": "@jupyter-widgets/base",
            "overflow": null,
            "_model_module_version": "1.2.0",
            "_view_count": null,
            "flex_flow": null,
            "width": null,
            "min_width": null,
            "border": null,
            "align_items": null,
            "bottom": null,
            "_model_module": "@jupyter-widgets/base",
            "top": null,
            "grid_column": null,
            "overflow_y": null,
            "overflow_x": null,
            "grid_auto_flow": null,
            "grid_area": null,
            "grid_template_columns": null,
            "flex": null,
            "_model_name": "LayoutModel",
            "justify_items": null,
            "grid_row": null,
            "max_height": null,
            "align_content": null,
            "visibility": null,
            "align_self": null,
            "height": null,
            "min_height": null,
            "padding": null,
            "grid_auto_rows": null,
            "grid_gap": null,
            "max_width": null,
            "order": null,
            "_view_module_version": "1.2.0",
            "grid_template_areas": null,
            "object_position": null,
            "object_fit": null,
            "grid_auto_columns": null,
            "margin": null,
            "display": null,
            "left": null
          }
        },
        "ad4347b17fbc4a3b8e25923759e41ad3": {
          "model_module": "@jupyter-widgets/controls",
          "model_name": "HBoxModel",
          "model_module_version": "1.5.0",
          "state": {
            "_view_name": "HBoxView",
            "_dom_classes": [],
            "_model_name": "HBoxModel",
            "_view_module": "@jupyter-widgets/controls",
            "_model_module_version": "1.5.0",
            "_view_count": null,
            "_view_module_version": "1.5.0",
            "box_style": "",
            "layout": "IPY_MODEL_870e34e838dc4b8482076161e8456196",
            "_model_module": "@jupyter-widgets/controls",
            "children": [
              "IPY_MODEL_c5c424aefcb04229b369772112660d98",
              "IPY_MODEL_ed6c416fb78d43c3b01da60b51d82e76",
              "IPY_MODEL_c8a2381188fe4a40b3ef61d18a11157f"
            ]
          }
        },
        "870e34e838dc4b8482076161e8456196": {
          "model_module": "@jupyter-widgets/base",
          "model_name": "LayoutModel",
          "model_module_version": "1.2.0",
          "state": {
            "_view_name": "LayoutView",
            "grid_template_rows": null,
            "right": null,
            "justify_content": null,
            "_view_module": "@jupyter-widgets/base",
            "overflow": null,
            "_model_module_version": "1.2.0",
            "_view_count": null,
            "flex_flow": null,
            "width": null,
            "min_width": null,
            "border": null,
            "align_items": null,
            "bottom": null,
            "_model_module": "@jupyter-widgets/base",
            "top": null,
            "grid_column": null,
            "overflow_y": null,
            "overflow_x": null,
            "grid_auto_flow": null,
            "grid_area": null,
            "grid_template_columns": null,
            "flex": null,
            "_model_name": "LayoutModel",
            "justify_items": null,
            "grid_row": null,
            "max_height": null,
            "align_content": null,
            "visibility": null,
            "align_self": null,
            "height": null,
            "min_height": null,
            "padding": null,
            "grid_auto_rows": null,
            "grid_gap": null,
            "max_width": null,
            "order": null,
            "_view_module_version": "1.2.0",
            "grid_template_areas": null,
            "object_position": null,
            "object_fit": null,
            "grid_auto_columns": null,
            "margin": null,
            "display": null,
            "left": null
          }
        },
        "c5c424aefcb04229b369772112660d98": {
          "model_module": "@jupyter-widgets/controls",
          "model_name": "HTMLModel",
          "model_module_version": "1.5.0",
          "state": {
            "_view_name": "HTMLView",
            "style": "IPY_MODEL_99a5a2d12fb94d33ac2acf6f3f86ebd3",
            "_dom_classes": [],
            "description": "",
            "_model_name": "HTMLModel",
            "placeholder": "​",
            "_view_module": "@jupyter-widgets/controls",
            "_model_module_version": "1.5.0",
            "value": "",
            "_view_count": null,
            "_view_module_version": "1.5.0",
            "description_tooltip": null,
            "_model_module": "@jupyter-widgets/controls",
            "layout": "IPY_MODEL_bb038482790443a9985bc829be332577"
          }
        },
        "ed6c416fb78d43c3b01da60b51d82e76": {
          "model_module": "@jupyter-widgets/controls",
          "model_name": "FloatProgressModel",
          "model_module_version": "1.5.0",
          "state": {
            "_view_name": "ProgressView",
            "style": "IPY_MODEL_74567ba6c9094941ba68f9c336b68f16",
            "_dom_classes": [],
            "description": "",
            "_model_name": "FloatProgressModel",
            "bar_style": "info",
            "max": 1,
            "_view_module": "@jupyter-widgets/controls",
            "_model_module_version": "1.5.0",
            "value": 1,
            "_view_count": null,
            "_view_module_version": "1.5.0",
            "orientation": "horizontal",
            "min": 0,
            "description_tooltip": null,
            "_model_module": "@jupyter-widgets/controls",
            "layout": "IPY_MODEL_1a129b677a3c4dd1ad2ad53cb90effed"
          }
        },
        "c8a2381188fe4a40b3ef61d18a11157f": {
          "model_module": "@jupyter-widgets/controls",
          "model_name": "HTMLModel",
          "model_module_version": "1.5.0",
          "state": {
            "_view_name": "HTMLView",
            "style": "IPY_MODEL_e73b6f633fac4cb2a9a9b0ba6072b753",
            "_dom_classes": [],
            "description": "",
            "_model_name": "HTMLModel",
            "placeholder": "​",
            "_view_module": "@jupyter-widgets/controls",
            "_model_module_version": "1.5.0",
            "value": " 5201/0 [00:00&lt;00:00, 8242.59 examples/s]",
            "_view_count": null,
            "_view_module_version": "1.5.0",
            "description_tooltip": null,
            "_model_module": "@jupyter-widgets/controls",
            "layout": "IPY_MODEL_6f21d4d10ba74079b171d0cf008e02d6"
          }
        },
        "99a5a2d12fb94d33ac2acf6f3f86ebd3": {
          "model_module": "@jupyter-widgets/controls",
          "model_name": "DescriptionStyleModel",
          "model_module_version": "1.5.0",
          "state": {
            "_view_name": "StyleView",
            "_model_name": "DescriptionStyleModel",
            "description_width": "",
            "_view_module": "@jupyter-widgets/base",
            "_model_module_version": "1.5.0",
            "_view_count": null,
            "_view_module_version": "1.2.0",
            "_model_module": "@jupyter-widgets/controls"
          }
        },
        "bb038482790443a9985bc829be332577": {
          "model_module": "@jupyter-widgets/base",
          "model_name": "LayoutModel",
          "model_module_version": "1.2.0",
          "state": {
            "_view_name": "LayoutView",
            "grid_template_rows": null,
            "right": null,
            "justify_content": null,
            "_view_module": "@jupyter-widgets/base",
            "overflow": null,
            "_model_module_version": "1.2.0",
            "_view_count": null,
            "flex_flow": null,
            "width": null,
            "min_width": null,
            "border": null,
            "align_items": null,
            "bottom": null,
            "_model_module": "@jupyter-widgets/base",
            "top": null,
            "grid_column": null,
            "overflow_y": null,
            "overflow_x": null,
            "grid_auto_flow": null,
            "grid_area": null,
            "grid_template_columns": null,
            "flex": null,
            "_model_name": "LayoutModel",
            "justify_items": null,
            "grid_row": null,
            "max_height": null,
            "align_content": null,
            "visibility": null,
            "align_self": null,
            "height": null,
            "min_height": null,
            "padding": null,
            "grid_auto_rows": null,
            "grid_gap": null,
            "max_width": null,
            "order": null,
            "_view_module_version": "1.2.0",
            "grid_template_areas": null,
            "object_position": null,
            "object_fit": null,
            "grid_auto_columns": null,
            "margin": null,
            "display": null,
            "left": null
          }
        },
        "74567ba6c9094941ba68f9c336b68f16": {
          "model_module": "@jupyter-widgets/controls",
          "model_name": "ProgressStyleModel",
          "model_module_version": "1.5.0",
          "state": {
            "_view_name": "StyleView",
            "_model_name": "ProgressStyleModel",
            "description_width": "",
            "_view_module": "@jupyter-widgets/base",
            "_model_module_version": "1.5.0",
            "_view_count": null,
            "_view_module_version": "1.2.0",
            "bar_color": null,
            "_model_module": "@jupyter-widgets/controls"
          }
        },
        "1a129b677a3c4dd1ad2ad53cb90effed": {
          "model_module": "@jupyter-widgets/base",
          "model_name": "LayoutModel",
          "model_module_version": "1.2.0",
          "state": {
            "_view_name": "LayoutView",
            "grid_template_rows": null,
            "right": null,
            "justify_content": null,
            "_view_module": "@jupyter-widgets/base",
            "overflow": null,
            "_model_module_version": "1.2.0",
            "_view_count": null,
            "flex_flow": null,
            "width": "20px",
            "min_width": null,
            "border": null,
            "align_items": null,
            "bottom": null,
            "_model_module": "@jupyter-widgets/base",
            "top": null,
            "grid_column": null,
            "overflow_y": null,
            "overflow_x": null,
            "grid_auto_flow": null,
            "grid_area": null,
            "grid_template_columns": null,
            "flex": null,
            "_model_name": "LayoutModel",
            "justify_items": null,
            "grid_row": null,
            "max_height": null,
            "align_content": null,
            "visibility": null,
            "align_self": null,
            "height": null,
            "min_height": null,
            "padding": null,
            "grid_auto_rows": null,
            "grid_gap": null,
            "max_width": null,
            "order": null,
            "_view_module_version": "1.2.0",
            "grid_template_areas": null,
            "object_position": null,
            "object_fit": null,
            "grid_auto_columns": null,
            "margin": null,
            "display": null,
            "left": null
          }
        },
        "e73b6f633fac4cb2a9a9b0ba6072b753": {
          "model_module": "@jupyter-widgets/controls",
          "model_name": "DescriptionStyleModel",
          "model_module_version": "1.5.0",
          "state": {
            "_view_name": "StyleView",
            "_model_name": "DescriptionStyleModel",
            "description_width": "",
            "_view_module": "@jupyter-widgets/base",
            "_model_module_version": "1.5.0",
            "_view_count": null,
            "_view_module_version": "1.2.0",
            "_model_module": "@jupyter-widgets/controls"
          }
        },
        "6f21d4d10ba74079b171d0cf008e02d6": {
          "model_module": "@jupyter-widgets/base",
          "model_name": "LayoutModel",
          "model_module_version": "1.2.0",
          "state": {
            "_view_name": "LayoutView",
            "grid_template_rows": null,
            "right": null,
            "justify_content": null,
            "_view_module": "@jupyter-widgets/base",
            "overflow": null,
            "_model_module_version": "1.2.0",
            "_view_count": null,
            "flex_flow": null,
            "width": null,
            "min_width": null,
            "border": null,
            "align_items": null,
            "bottom": null,
            "_model_module": "@jupyter-widgets/base",
            "top": null,
            "grid_column": null,
            "overflow_y": null,
            "overflow_x": null,
            "grid_auto_flow": null,
            "grid_area": null,
            "grid_template_columns": null,
            "flex": null,
            "_model_name": "LayoutModel",
            "justify_items": null,
            "grid_row": null,
            "max_height": null,
            "align_content": null,
            "visibility": null,
            "align_self": null,
            "height": null,
            "min_height": null,
            "padding": null,
            "grid_auto_rows": null,
            "grid_gap": null,
            "max_width": null,
            "order": null,
            "_view_module_version": "1.2.0",
            "grid_template_areas": null,
            "object_position": null,
            "object_fit": null,
            "grid_auto_columns": null,
            "margin": null,
            "display": null,
            "left": null
          }
        },
        "8f7962ac70ee49ac8ad0314438c11564": {
          "model_module": "@jupyter-widgets/controls",
          "model_name": "HBoxModel",
          "model_module_version": "1.5.0",
          "state": {
            "_view_name": "HBoxView",
            "_dom_classes": [],
            "_model_name": "HBoxModel",
            "_view_module": "@jupyter-widgets/controls",
            "_model_module_version": "1.5.0",
            "_view_count": null,
            "_view_module_version": "1.5.0",
            "box_style": "",
            "layout": "IPY_MODEL_49d9d4620c7347168882423d210cec46",
            "_model_module": "@jupyter-widgets/controls",
            "children": [
              "IPY_MODEL_a539145076054616aa7be44ca7950d86",
              "IPY_MODEL_d5d3c1a3f8b7490786326a90c2f38451",
              "IPY_MODEL_2dc40f5ae7d2432cb269468aad398555"
            ]
          }
        },
        "49d9d4620c7347168882423d210cec46": {
          "model_module": "@jupyter-widgets/base",
          "model_name": "LayoutModel",
          "model_module_version": "1.2.0",
          "state": {
            "_view_name": "LayoutView",
            "grid_template_rows": null,
            "right": null,
            "justify_content": null,
            "_view_module": "@jupyter-widgets/base",
            "overflow": null,
            "_model_module_version": "1.2.0",
            "_view_count": null,
            "flex_flow": null,
            "width": null,
            "min_width": null,
            "border": null,
            "align_items": null,
            "bottom": null,
            "_model_module": "@jupyter-widgets/base",
            "top": null,
            "grid_column": null,
            "overflow_y": null,
            "overflow_x": null,
            "grid_auto_flow": null,
            "grid_area": null,
            "grid_template_columns": null,
            "flex": null,
            "_model_name": "LayoutModel",
            "justify_items": null,
            "grid_row": null,
            "max_height": null,
            "align_content": null,
            "visibility": null,
            "align_self": null,
            "height": null,
            "min_height": null,
            "padding": null,
            "grid_auto_rows": null,
            "grid_gap": null,
            "max_width": null,
            "order": null,
            "_view_module_version": "1.2.0",
            "grid_template_areas": null,
            "object_position": null,
            "object_fit": null,
            "grid_auto_columns": null,
            "margin": null,
            "display": null,
            "left": null
          }
        },
        "a539145076054616aa7be44ca7950d86": {
          "model_module": "@jupyter-widgets/controls",
          "model_name": "HTMLModel",
          "model_module_version": "1.5.0",
          "state": {
            "_view_name": "HTMLView",
            "style": "IPY_MODEL_62f36abcbe3043bdb5b2cf21328df9dd",
            "_dom_classes": [],
            "description": "",
            "_model_name": "HTMLModel",
            "placeholder": "​",
            "_view_module": "@jupyter-widgets/controls",
            "_model_module_version": "1.5.0",
            "value": "100%",
            "_view_count": null,
            "_view_module_version": "1.5.0",
            "description_tooltip": null,
            "_model_module": "@jupyter-widgets/controls",
            "layout": "IPY_MODEL_71182385269340fe86859496f7100276"
          }
        },
        "d5d3c1a3f8b7490786326a90c2f38451": {
          "model_module": "@jupyter-widgets/controls",
          "model_name": "FloatProgressModel",
          "model_module_version": "1.5.0",
          "state": {
            "_view_name": "ProgressView",
            "style": "IPY_MODEL_5d0d3ef12d8e4973b21551612c9505d9",
            "_dom_classes": [],
            "description": "",
            "_model_name": "FloatProgressModel",
            "bar_style": "success",
            "max": 2,
            "_view_module": "@jupyter-widgets/controls",
            "_model_module_version": "1.5.0",
            "value": 2,
            "_view_count": null,
            "_view_module_version": "1.5.0",
            "orientation": "horizontal",
            "min": 0,
            "description_tooltip": null,
            "_model_module": "@jupyter-widgets/controls",
            "layout": "IPY_MODEL_6c7ac8b05da94d938b0209b6e99a6a9f"
          }
        },
        "2dc40f5ae7d2432cb269468aad398555": {
          "model_module": "@jupyter-widgets/controls",
          "model_name": "HTMLModel",
          "model_module_version": "1.5.0",
          "state": {
            "_view_name": "HTMLView",
            "style": "IPY_MODEL_59a4cffa5b44492e8a1c2319a66bee20",
            "_dom_classes": [],
            "description": "",
            "_model_name": "HTMLModel",
            "placeholder": "​",
            "_view_module": "@jupyter-widgets/controls",
            "_model_module_version": "1.5.0",
            "value": " 2/2 [00:00&lt;00:00,  2.38it/s]",
            "_view_count": null,
            "_view_module_version": "1.5.0",
            "description_tooltip": null,
            "_model_module": "@jupyter-widgets/controls",
            "layout": "IPY_MODEL_50e758e1dbab47658225bc0c81fde794"
          }
        },
        "62f36abcbe3043bdb5b2cf21328df9dd": {
          "model_module": "@jupyter-widgets/controls",
          "model_name": "DescriptionStyleModel",
          "model_module_version": "1.5.0",
          "state": {
            "_view_name": "StyleView",
            "_model_name": "DescriptionStyleModel",
            "description_width": "",
            "_view_module": "@jupyter-widgets/base",
            "_model_module_version": "1.5.0",
            "_view_count": null,
            "_view_module_version": "1.2.0",
            "_model_module": "@jupyter-widgets/controls"
          }
        },
        "71182385269340fe86859496f7100276": {
          "model_module": "@jupyter-widgets/base",
          "model_name": "LayoutModel",
          "model_module_version": "1.2.0",
          "state": {
            "_view_name": "LayoutView",
            "grid_template_rows": null,
            "right": null,
            "justify_content": null,
            "_view_module": "@jupyter-widgets/base",
            "overflow": null,
            "_model_module_version": "1.2.0",
            "_view_count": null,
            "flex_flow": null,
            "width": null,
            "min_width": null,
            "border": null,
            "align_items": null,
            "bottom": null,
            "_model_module": "@jupyter-widgets/base",
            "top": null,
            "grid_column": null,
            "overflow_y": null,
            "overflow_x": null,
            "grid_auto_flow": null,
            "grid_area": null,
            "grid_template_columns": null,
            "flex": null,
            "_model_name": "LayoutModel",
            "justify_items": null,
            "grid_row": null,
            "max_height": null,
            "align_content": null,
            "visibility": null,
            "align_self": null,
            "height": null,
            "min_height": null,
            "padding": null,
            "grid_auto_rows": null,
            "grid_gap": null,
            "max_width": null,
            "order": null,
            "_view_module_version": "1.2.0",
            "grid_template_areas": null,
            "object_position": null,
            "object_fit": null,
            "grid_auto_columns": null,
            "margin": null,
            "display": null,
            "left": null
          }
        },
        "5d0d3ef12d8e4973b21551612c9505d9": {
          "model_module": "@jupyter-widgets/controls",
          "model_name": "ProgressStyleModel",
          "model_module_version": "1.5.0",
          "state": {
            "_view_name": "StyleView",
            "_model_name": "ProgressStyleModel",
            "description_width": "",
            "_view_module": "@jupyter-widgets/base",
            "_model_module_version": "1.5.0",
            "_view_count": null,
            "_view_module_version": "1.2.0",
            "bar_color": null,
            "_model_module": "@jupyter-widgets/controls"
          }
        },
        "6c7ac8b05da94d938b0209b6e99a6a9f": {
          "model_module": "@jupyter-widgets/base",
          "model_name": "LayoutModel",
          "model_module_version": "1.2.0",
          "state": {
            "_view_name": "LayoutView",
            "grid_template_rows": null,
            "right": null,
            "justify_content": null,
            "_view_module": "@jupyter-widgets/base",
            "overflow": null,
            "_model_module_version": "1.2.0",
            "_view_count": null,
            "flex_flow": null,
            "width": null,
            "min_width": null,
            "border": null,
            "align_items": null,
            "bottom": null,
            "_model_module": "@jupyter-widgets/base",
            "top": null,
            "grid_column": null,
            "overflow_y": null,
            "overflow_x": null,
            "grid_auto_flow": null,
            "grid_area": null,
            "grid_template_columns": null,
            "flex": null,
            "_model_name": "LayoutModel",
            "justify_items": null,
            "grid_row": null,
            "max_height": null,
            "align_content": null,
            "visibility": null,
            "align_self": null,
            "height": null,
            "min_height": null,
            "padding": null,
            "grid_auto_rows": null,
            "grid_gap": null,
            "max_width": null,
            "order": null,
            "_view_module_version": "1.2.0",
            "grid_template_areas": null,
            "object_position": null,
            "object_fit": null,
            "grid_auto_columns": null,
            "margin": null,
            "display": null,
            "left": null
          }
        },
        "59a4cffa5b44492e8a1c2319a66bee20": {
          "model_module": "@jupyter-widgets/controls",
          "model_name": "DescriptionStyleModel",
          "model_module_version": "1.5.0",
          "state": {
            "_view_name": "StyleView",
            "_model_name": "DescriptionStyleModel",
            "description_width": "",
            "_view_module": "@jupyter-widgets/base",
            "_model_module_version": "1.5.0",
            "_view_count": null,
            "_view_module_version": "1.2.0",
            "_model_module": "@jupyter-widgets/controls"
          }
        },
        "50e758e1dbab47658225bc0c81fde794": {
          "model_module": "@jupyter-widgets/base",
          "model_name": "LayoutModel",
          "model_module_version": "1.2.0",
          "state": {
            "_view_name": "LayoutView",
            "grid_template_rows": null,
            "right": null,
            "justify_content": null,
            "_view_module": "@jupyter-widgets/base",
            "overflow": null,
            "_model_module_version": "1.2.0",
            "_view_count": null,
            "flex_flow": null,
            "width": null,
            "min_width": null,
            "border": null,
            "align_items": null,
            "bottom": null,
            "_model_module": "@jupyter-widgets/base",
            "top": null,
            "grid_column": null,
            "overflow_y": null,
            "overflow_x": null,
            "grid_auto_flow": null,
            "grid_area": null,
            "grid_template_columns": null,
            "flex": null,
            "_model_name": "LayoutModel",
            "justify_items": null,
            "grid_row": null,
            "max_height": null,
            "align_content": null,
            "visibility": null,
            "align_self": null,
            "height": null,
            "min_height": null,
            "padding": null,
            "grid_auto_rows": null,
            "grid_gap": null,
            "max_width": null,
            "order": null,
            "_view_module_version": "1.2.0",
            "grid_template_areas": null,
            "object_position": null,
            "object_fit": null,
            "grid_auto_columns": null,
            "margin": null,
            "display": null,
            "left": null
          }
        },
        "d9b08027a92e43478456b9dd1c5fd6d7": {
          "model_module": "@jupyter-widgets/controls",
          "model_name": "HBoxModel",
          "model_module_version": "1.5.0",
          "state": {
            "_view_name": "HBoxView",
            "_dom_classes": [],
            "_model_name": "HBoxModel",
            "_view_module": "@jupyter-widgets/controls",
            "_model_module_version": "1.5.0",
            "_view_count": null,
            "_view_module_version": "1.5.0",
            "box_style": "",
            "layout": "IPY_MODEL_9b2e603e913b4ccea820c986a11e7640",
            "_model_module": "@jupyter-widgets/controls",
            "children": [
              "IPY_MODEL_4f1c4c92ec2845fc8f390e781bbbbb5e",
              "IPY_MODEL_e6932d0e19834158a74e44cf8b1e2fca",
              "IPY_MODEL_22b9aa38569a4eefadd7347250defc74"
            ]
          }
        },
        "9b2e603e913b4ccea820c986a11e7640": {
          "model_module": "@jupyter-widgets/base",
          "model_name": "LayoutModel",
          "model_module_version": "1.2.0",
          "state": {
            "_view_name": "LayoutView",
            "grid_template_rows": null,
            "right": null,
            "justify_content": null,
            "_view_module": "@jupyter-widgets/base",
            "overflow": null,
            "_model_module_version": "1.2.0",
            "_view_count": null,
            "flex_flow": null,
            "width": null,
            "min_width": null,
            "border": null,
            "align_items": null,
            "bottom": null,
            "_model_module": "@jupyter-widgets/base",
            "top": null,
            "grid_column": null,
            "overflow_y": null,
            "overflow_x": null,
            "grid_auto_flow": null,
            "grid_area": null,
            "grid_template_columns": null,
            "flex": null,
            "_model_name": "LayoutModel",
            "justify_items": null,
            "grid_row": null,
            "max_height": null,
            "align_content": null,
            "visibility": null,
            "align_self": null,
            "height": null,
            "min_height": null,
            "padding": null,
            "grid_auto_rows": null,
            "grid_gap": null,
            "max_width": null,
            "order": null,
            "_view_module_version": "1.2.0",
            "grid_template_areas": null,
            "object_position": null,
            "object_fit": null,
            "grid_auto_columns": null,
            "margin": null,
            "display": null,
            "left": null
          }
        },
        "4f1c4c92ec2845fc8f390e781bbbbb5e": {
          "model_module": "@jupyter-widgets/controls",
          "model_name": "HTMLModel",
          "model_module_version": "1.5.0",
          "state": {
            "_view_name": "HTMLView",
            "style": "IPY_MODEL_b63d614678a247e4abdfc7e945d7c568",
            "_dom_classes": [],
            "description": "",
            "_model_name": "HTMLModel",
            "placeholder": "​",
            "_view_module": "@jupyter-widgets/controls",
            "_model_module_version": "1.5.0",
            "value": "Downloading: 100%",
            "_view_count": null,
            "_view_module_version": "1.5.0",
            "description_tooltip": null,
            "_model_module": "@jupyter-widgets/controls",
            "layout": "IPY_MODEL_7671dd9c14624b20a965144685df6500"
          }
        },
        "e6932d0e19834158a74e44cf8b1e2fca": {
          "model_module": "@jupyter-widgets/controls",
          "model_name": "FloatProgressModel",
          "model_module_version": "1.5.0",
          "state": {
            "_view_name": "ProgressView",
            "style": "IPY_MODEL_51f49aeede124c11bd0e35708e69449c",
            "_dom_classes": [],
            "description": "",
            "_model_name": "FloatProgressModel",
            "bar_style": "success",
            "max": 29,
            "_view_module": "@jupyter-widgets/controls",
            "_model_module_version": "1.5.0",
            "value": 29,
            "_view_count": null,
            "_view_module_version": "1.5.0",
            "orientation": "horizontal",
            "min": 0,
            "description_tooltip": null,
            "_model_module": "@jupyter-widgets/controls",
            "layout": "IPY_MODEL_4a3fd30f106648f19397a1e047a0e6e6"
          }
        },
        "22b9aa38569a4eefadd7347250defc74": {
          "model_module": "@jupyter-widgets/controls",
          "model_name": "HTMLModel",
          "model_module_version": "1.5.0",
          "state": {
            "_view_name": "HTMLView",
            "style": "IPY_MODEL_f5246b8e384244519c025640fdfb2dbb",
            "_dom_classes": [],
            "description": "",
            "_model_name": "HTMLModel",
            "placeholder": "​",
            "_view_module": "@jupyter-widgets/controls",
            "_model_module_version": "1.5.0",
            "value": " 29.0/29.0 [00:00&lt;00:00, 729B/s]",
            "_view_count": null,
            "_view_module_version": "1.5.0",
            "description_tooltip": null,
            "_model_module": "@jupyter-widgets/controls",
            "layout": "IPY_MODEL_ba252c38f4c544aeb92af45e22018703"
          }
        },
        "b63d614678a247e4abdfc7e945d7c568": {
          "model_module": "@jupyter-widgets/controls",
          "model_name": "DescriptionStyleModel",
          "model_module_version": "1.5.0",
          "state": {
            "_view_name": "StyleView",
            "_model_name": "DescriptionStyleModel",
            "description_width": "",
            "_view_module": "@jupyter-widgets/base",
            "_model_module_version": "1.5.0",
            "_view_count": null,
            "_view_module_version": "1.2.0",
            "_model_module": "@jupyter-widgets/controls"
          }
        },
        "7671dd9c14624b20a965144685df6500": {
          "model_module": "@jupyter-widgets/base",
          "model_name": "LayoutModel",
          "model_module_version": "1.2.0",
          "state": {
            "_view_name": "LayoutView",
            "grid_template_rows": null,
            "right": null,
            "justify_content": null,
            "_view_module": "@jupyter-widgets/base",
            "overflow": null,
            "_model_module_version": "1.2.0",
            "_view_count": null,
            "flex_flow": null,
            "width": null,
            "min_width": null,
            "border": null,
            "align_items": null,
            "bottom": null,
            "_model_module": "@jupyter-widgets/base",
            "top": null,
            "grid_column": null,
            "overflow_y": null,
            "overflow_x": null,
            "grid_auto_flow": null,
            "grid_area": null,
            "grid_template_columns": null,
            "flex": null,
            "_model_name": "LayoutModel",
            "justify_items": null,
            "grid_row": null,
            "max_height": null,
            "align_content": null,
            "visibility": null,
            "align_self": null,
            "height": null,
            "min_height": null,
            "padding": null,
            "grid_auto_rows": null,
            "grid_gap": null,
            "max_width": null,
            "order": null,
            "_view_module_version": "1.2.0",
            "grid_template_areas": null,
            "object_position": null,
            "object_fit": null,
            "grid_auto_columns": null,
            "margin": null,
            "display": null,
            "left": null
          }
        },
        "51f49aeede124c11bd0e35708e69449c": {
          "model_module": "@jupyter-widgets/controls",
          "model_name": "ProgressStyleModel",
          "model_module_version": "1.5.0",
          "state": {
            "_view_name": "StyleView",
            "_model_name": "ProgressStyleModel",
            "description_width": "",
            "_view_module": "@jupyter-widgets/base",
            "_model_module_version": "1.5.0",
            "_view_count": null,
            "_view_module_version": "1.2.0",
            "bar_color": null,
            "_model_module": "@jupyter-widgets/controls"
          }
        },
        "4a3fd30f106648f19397a1e047a0e6e6": {
          "model_module": "@jupyter-widgets/base",
          "model_name": "LayoutModel",
          "model_module_version": "1.2.0",
          "state": {
            "_view_name": "LayoutView",
            "grid_template_rows": null,
            "right": null,
            "justify_content": null,
            "_view_module": "@jupyter-widgets/base",
            "overflow": null,
            "_model_module_version": "1.2.0",
            "_view_count": null,
            "flex_flow": null,
            "width": null,
            "min_width": null,
            "border": null,
            "align_items": null,
            "bottom": null,
            "_model_module": "@jupyter-widgets/base",
            "top": null,
            "grid_column": null,
            "overflow_y": null,
            "overflow_x": null,
            "grid_auto_flow": null,
            "grid_area": null,
            "grid_template_columns": null,
            "flex": null,
            "_model_name": "LayoutModel",
            "justify_items": null,
            "grid_row": null,
            "max_height": null,
            "align_content": null,
            "visibility": null,
            "align_self": null,
            "height": null,
            "min_height": null,
            "padding": null,
            "grid_auto_rows": null,
            "grid_gap": null,
            "max_width": null,
            "order": null,
            "_view_module_version": "1.2.0",
            "grid_template_areas": null,
            "object_position": null,
            "object_fit": null,
            "grid_auto_columns": null,
            "margin": null,
            "display": null,
            "left": null
          }
        },
        "f5246b8e384244519c025640fdfb2dbb": {
          "model_module": "@jupyter-widgets/controls",
          "model_name": "DescriptionStyleModel",
          "model_module_version": "1.5.0",
          "state": {
            "_view_name": "StyleView",
            "_model_name": "DescriptionStyleModel",
            "description_width": "",
            "_view_module": "@jupyter-widgets/base",
            "_model_module_version": "1.5.0",
            "_view_count": null,
            "_view_module_version": "1.2.0",
            "_model_module": "@jupyter-widgets/controls"
          }
        },
        "ba252c38f4c544aeb92af45e22018703": {
          "model_module": "@jupyter-widgets/base",
          "model_name": "LayoutModel",
          "model_module_version": "1.2.0",
          "state": {
            "_view_name": "LayoutView",
            "grid_template_rows": null,
            "right": null,
            "justify_content": null,
            "_view_module": "@jupyter-widgets/base",
            "overflow": null,
            "_model_module_version": "1.2.0",
            "_view_count": null,
            "flex_flow": null,
            "width": null,
            "min_width": null,
            "border": null,
            "align_items": null,
            "bottom": null,
            "_model_module": "@jupyter-widgets/base",
            "top": null,
            "grid_column": null,
            "overflow_y": null,
            "overflow_x": null,
            "grid_auto_flow": null,
            "grid_area": null,
            "grid_template_columns": null,
            "flex": null,
            "_model_name": "LayoutModel",
            "justify_items": null,
            "grid_row": null,
            "max_height": null,
            "align_content": null,
            "visibility": null,
            "align_self": null,
            "height": null,
            "min_height": null,
            "padding": null,
            "grid_auto_rows": null,
            "grid_gap": null,
            "max_width": null,
            "order": null,
            "_view_module_version": "1.2.0",
            "grid_template_areas": null,
            "object_position": null,
            "object_fit": null,
            "grid_auto_columns": null,
            "margin": null,
            "display": null,
            "left": null
          }
        },
        "bdd54c9ae6dd4fd8ac5006d639b97b4c": {
          "model_module": "@jupyter-widgets/controls",
          "model_name": "HBoxModel",
          "model_module_version": "1.5.0",
          "state": {
            "_view_name": "HBoxView",
            "_dom_classes": [],
            "_model_name": "HBoxModel",
            "_view_module": "@jupyter-widgets/controls",
            "_model_module_version": "1.5.0",
            "_view_count": null,
            "_view_module_version": "1.5.0",
            "box_style": "",
            "layout": "IPY_MODEL_431b11a018c04890bed79c68fe125980",
            "_model_module": "@jupyter-widgets/controls",
            "children": [
              "IPY_MODEL_b9403220b32746478396824dd6061246",
              "IPY_MODEL_b82e3d0747554cbf82e3f17cd5749e9d",
              "IPY_MODEL_0da726abb1ba4b49a00f06d20f1afbba"
            ]
          }
        },
        "431b11a018c04890bed79c68fe125980": {
          "model_module": "@jupyter-widgets/base",
          "model_name": "LayoutModel",
          "model_module_version": "1.2.0",
          "state": {
            "_view_name": "LayoutView",
            "grid_template_rows": null,
            "right": null,
            "justify_content": null,
            "_view_module": "@jupyter-widgets/base",
            "overflow": null,
            "_model_module_version": "1.2.0",
            "_view_count": null,
            "flex_flow": null,
            "width": null,
            "min_width": null,
            "border": null,
            "align_items": null,
            "bottom": null,
            "_model_module": "@jupyter-widgets/base",
            "top": null,
            "grid_column": null,
            "overflow_y": null,
            "overflow_x": null,
            "grid_auto_flow": null,
            "grid_area": null,
            "grid_template_columns": null,
            "flex": null,
            "_model_name": "LayoutModel",
            "justify_items": null,
            "grid_row": null,
            "max_height": null,
            "align_content": null,
            "visibility": null,
            "align_self": null,
            "height": null,
            "min_height": null,
            "padding": null,
            "grid_auto_rows": null,
            "grid_gap": null,
            "max_width": null,
            "order": null,
            "_view_module_version": "1.2.0",
            "grid_template_areas": null,
            "object_position": null,
            "object_fit": null,
            "grid_auto_columns": null,
            "margin": null,
            "display": null,
            "left": null
          }
        },
        "b9403220b32746478396824dd6061246": {
          "model_module": "@jupyter-widgets/controls",
          "model_name": "HTMLModel",
          "model_module_version": "1.5.0",
          "state": {
            "_view_name": "HTMLView",
            "style": "IPY_MODEL_198635819a8a458187ecd5e8b5d6a886",
            "_dom_classes": [],
            "description": "",
            "_model_name": "HTMLModel",
            "placeholder": "​",
            "_view_module": "@jupyter-widgets/controls",
            "_model_module_version": "1.5.0",
            "value": "Downloading: 100%",
            "_view_count": null,
            "_view_module_version": "1.5.0",
            "description_tooltip": null,
            "_model_module": "@jupyter-widgets/controls",
            "layout": "IPY_MODEL_9c705e7d24794d4cb23a441d27f0dcfc"
          }
        },
        "b82e3d0747554cbf82e3f17cd5749e9d": {
          "model_module": "@jupyter-widgets/controls",
          "model_name": "FloatProgressModel",
          "model_module_version": "1.5.0",
          "state": {
            "_view_name": "ProgressView",
            "style": "IPY_MODEL_590d05543aba49b9bffffb28d9b056e6",
            "_dom_classes": [],
            "description": "",
            "_model_name": "FloatProgressModel",
            "bar_style": "success",
            "max": 625,
            "_view_module": "@jupyter-widgets/controls",
            "_model_module_version": "1.5.0",
            "value": 625,
            "_view_count": null,
            "_view_module_version": "1.5.0",
            "orientation": "horizontal",
            "min": 0,
            "description_tooltip": null,
            "_model_module": "@jupyter-widgets/controls",
            "layout": "IPY_MODEL_7c059fae36a44b0cada0f392a965aa87"
          }
        },
        "0da726abb1ba4b49a00f06d20f1afbba": {
          "model_module": "@jupyter-widgets/controls",
          "model_name": "HTMLModel",
          "model_module_version": "1.5.0",
          "state": {
            "_view_name": "HTMLView",
            "style": "IPY_MODEL_44b868e2b53b41c58175478efbd6fc03",
            "_dom_classes": [],
            "description": "",
            "_model_name": "HTMLModel",
            "placeholder": "​",
            "_view_module": "@jupyter-widgets/controls",
            "_model_module_version": "1.5.0",
            "value": " 625/625 [00:00&lt;00:00, 16.4kB/s]",
            "_view_count": null,
            "_view_module_version": "1.5.0",
            "description_tooltip": null,
            "_model_module": "@jupyter-widgets/controls",
            "layout": "IPY_MODEL_df851e2e5aea4942a9cf5fc1963b0fec"
          }
        },
        "198635819a8a458187ecd5e8b5d6a886": {
          "model_module": "@jupyter-widgets/controls",
          "model_name": "DescriptionStyleModel",
          "model_module_version": "1.5.0",
          "state": {
            "_view_name": "StyleView",
            "_model_name": "DescriptionStyleModel",
            "description_width": "",
            "_view_module": "@jupyter-widgets/base",
            "_model_module_version": "1.5.0",
            "_view_count": null,
            "_view_module_version": "1.2.0",
            "_model_module": "@jupyter-widgets/controls"
          }
        },
        "9c705e7d24794d4cb23a441d27f0dcfc": {
          "model_module": "@jupyter-widgets/base",
          "model_name": "LayoutModel",
          "model_module_version": "1.2.0",
          "state": {
            "_view_name": "LayoutView",
            "grid_template_rows": null,
            "right": null,
            "justify_content": null,
            "_view_module": "@jupyter-widgets/base",
            "overflow": null,
            "_model_module_version": "1.2.0",
            "_view_count": null,
            "flex_flow": null,
            "width": null,
            "min_width": null,
            "border": null,
            "align_items": null,
            "bottom": null,
            "_model_module": "@jupyter-widgets/base",
            "top": null,
            "grid_column": null,
            "overflow_y": null,
            "overflow_x": null,
            "grid_auto_flow": null,
            "grid_area": null,
            "grid_template_columns": null,
            "flex": null,
            "_model_name": "LayoutModel",
            "justify_items": null,
            "grid_row": null,
            "max_height": null,
            "align_content": null,
            "visibility": null,
            "align_self": null,
            "height": null,
            "min_height": null,
            "padding": null,
            "grid_auto_rows": null,
            "grid_gap": null,
            "max_width": null,
            "order": null,
            "_view_module_version": "1.2.0",
            "grid_template_areas": null,
            "object_position": null,
            "object_fit": null,
            "grid_auto_columns": null,
            "margin": null,
            "display": null,
            "left": null
          }
        },
        "590d05543aba49b9bffffb28d9b056e6": {
          "model_module": "@jupyter-widgets/controls",
          "model_name": "ProgressStyleModel",
          "model_module_version": "1.5.0",
          "state": {
            "_view_name": "StyleView",
            "_model_name": "ProgressStyleModel",
            "description_width": "",
            "_view_module": "@jupyter-widgets/base",
            "_model_module_version": "1.5.0",
            "_view_count": null,
            "_view_module_version": "1.2.0",
            "bar_color": null,
            "_model_module": "@jupyter-widgets/controls"
          }
        },
        "7c059fae36a44b0cada0f392a965aa87": {
          "model_module": "@jupyter-widgets/base",
          "model_name": "LayoutModel",
          "model_module_version": "1.2.0",
          "state": {
            "_view_name": "LayoutView",
            "grid_template_rows": null,
            "right": null,
            "justify_content": null,
            "_view_module": "@jupyter-widgets/base",
            "overflow": null,
            "_model_module_version": "1.2.0",
            "_view_count": null,
            "flex_flow": null,
            "width": null,
            "min_width": null,
            "border": null,
            "align_items": null,
            "bottom": null,
            "_model_module": "@jupyter-widgets/base",
            "top": null,
            "grid_column": null,
            "overflow_y": null,
            "overflow_x": null,
            "grid_auto_flow": null,
            "grid_area": null,
            "grid_template_columns": null,
            "flex": null,
            "_model_name": "LayoutModel",
            "justify_items": null,
            "grid_row": null,
            "max_height": null,
            "align_content": null,
            "visibility": null,
            "align_self": null,
            "height": null,
            "min_height": null,
            "padding": null,
            "grid_auto_rows": null,
            "grid_gap": null,
            "max_width": null,
            "order": null,
            "_view_module_version": "1.2.0",
            "grid_template_areas": null,
            "object_position": null,
            "object_fit": null,
            "grid_auto_columns": null,
            "margin": null,
            "display": null,
            "left": null
          }
        },
        "44b868e2b53b41c58175478efbd6fc03": {
          "model_module": "@jupyter-widgets/controls",
          "model_name": "DescriptionStyleModel",
          "model_module_version": "1.5.0",
          "state": {
            "_view_name": "StyleView",
            "_model_name": "DescriptionStyleModel",
            "description_width": "",
            "_view_module": "@jupyter-widgets/base",
            "_model_module_version": "1.5.0",
            "_view_count": null,
            "_view_module_version": "1.2.0",
            "_model_module": "@jupyter-widgets/controls"
          }
        },
        "df851e2e5aea4942a9cf5fc1963b0fec": {
          "model_module": "@jupyter-widgets/base",
          "model_name": "LayoutModel",
          "model_module_version": "1.2.0",
          "state": {
            "_view_name": "LayoutView",
            "grid_template_rows": null,
            "right": null,
            "justify_content": null,
            "_view_module": "@jupyter-widgets/base",
            "overflow": null,
            "_model_module_version": "1.2.0",
            "_view_count": null,
            "flex_flow": null,
            "width": null,
            "min_width": null,
            "border": null,
            "align_items": null,
            "bottom": null,
            "_model_module": "@jupyter-widgets/base",
            "top": null,
            "grid_column": null,
            "overflow_y": null,
            "overflow_x": null,
            "grid_auto_flow": null,
            "grid_area": null,
            "grid_template_columns": null,
            "flex": null,
            "_model_name": "LayoutModel",
            "justify_items": null,
            "grid_row": null,
            "max_height": null,
            "align_content": null,
            "visibility": null,
            "align_self": null,
            "height": null,
            "min_height": null,
            "padding": null,
            "grid_auto_rows": null,
            "grid_gap": null,
            "max_width": null,
            "order": null,
            "_view_module_version": "1.2.0",
            "grid_template_areas": null,
            "object_position": null,
            "object_fit": null,
            "grid_auto_columns": null,
            "margin": null,
            "display": null,
            "left": null
          }
        },
        "c65520c56320438f9ea6095525511494": {
          "model_module": "@jupyter-widgets/controls",
          "model_name": "HBoxModel",
          "model_module_version": "1.5.0",
          "state": {
            "_view_name": "HBoxView",
            "_dom_classes": [],
            "_model_name": "HBoxModel",
            "_view_module": "@jupyter-widgets/controls",
            "_model_module_version": "1.5.0",
            "_view_count": null,
            "_view_module_version": "1.5.0",
            "box_style": "",
            "layout": "IPY_MODEL_8fb39b1624bf44c98c74353f071f286c",
            "_model_module": "@jupyter-widgets/controls",
            "children": [
              "IPY_MODEL_0bfc05e483744cccbb4017f32f66dfab",
              "IPY_MODEL_40dd843eb9d44a7ca35aa5e6abc992cb",
              "IPY_MODEL_bae75c12370c44e1a30c44c3015f07bf"
            ]
          }
        },
        "8fb39b1624bf44c98c74353f071f286c": {
          "model_module": "@jupyter-widgets/base",
          "model_name": "LayoutModel",
          "model_module_version": "1.2.0",
          "state": {
            "_view_name": "LayoutView",
            "grid_template_rows": null,
            "right": null,
            "justify_content": null,
            "_view_module": "@jupyter-widgets/base",
            "overflow": null,
            "_model_module_version": "1.2.0",
            "_view_count": null,
            "flex_flow": null,
            "width": null,
            "min_width": null,
            "border": null,
            "align_items": null,
            "bottom": null,
            "_model_module": "@jupyter-widgets/base",
            "top": null,
            "grid_column": null,
            "overflow_y": null,
            "overflow_x": null,
            "grid_auto_flow": null,
            "grid_area": null,
            "grid_template_columns": null,
            "flex": null,
            "_model_name": "LayoutModel",
            "justify_items": null,
            "grid_row": null,
            "max_height": null,
            "align_content": null,
            "visibility": null,
            "align_self": null,
            "height": null,
            "min_height": null,
            "padding": null,
            "grid_auto_rows": null,
            "grid_gap": null,
            "max_width": null,
            "order": null,
            "_view_module_version": "1.2.0",
            "grid_template_areas": null,
            "object_position": null,
            "object_fit": null,
            "grid_auto_columns": null,
            "margin": null,
            "display": null,
            "left": null
          }
        },
        "0bfc05e483744cccbb4017f32f66dfab": {
          "model_module": "@jupyter-widgets/controls",
          "model_name": "HTMLModel",
          "model_module_version": "1.5.0",
          "state": {
            "_view_name": "HTMLView",
            "style": "IPY_MODEL_ea4f0e90a8e54431a42b98811cebccf2",
            "_dom_classes": [],
            "description": "",
            "_model_name": "HTMLModel",
            "placeholder": "​",
            "_view_module": "@jupyter-widgets/controls",
            "_model_module_version": "1.5.0",
            "value": "Downloading: 100%",
            "_view_count": null,
            "_view_module_version": "1.5.0",
            "description_tooltip": null,
            "_model_module": "@jupyter-widgets/controls",
            "layout": "IPY_MODEL_b4184df3fc4d4a49b9c7e204ef84be93"
          }
        },
        "40dd843eb9d44a7ca35aa5e6abc992cb": {
          "model_module": "@jupyter-widgets/controls",
          "model_name": "FloatProgressModel",
          "model_module_version": "1.5.0",
          "state": {
            "_view_name": "ProgressView",
            "style": "IPY_MODEL_2aadedeb35564e2f9d8cb23ae7134cc9",
            "_dom_classes": [],
            "description": "",
            "_model_name": "FloatProgressModel",
            "bar_style": "success",
            "max": 995526,
            "_view_module": "@jupyter-widgets/controls",
            "_model_module_version": "1.5.0",
            "value": 995526,
            "_view_count": null,
            "_view_module_version": "1.5.0",
            "orientation": "horizontal",
            "min": 0,
            "description_tooltip": null,
            "_model_module": "@jupyter-widgets/controls",
            "layout": "IPY_MODEL_c2d33d37204d47aa89adb8beb339578b"
          }
        },
        "bae75c12370c44e1a30c44c3015f07bf": {
          "model_module": "@jupyter-widgets/controls",
          "model_name": "HTMLModel",
          "model_module_version": "1.5.0",
          "state": {
            "_view_name": "HTMLView",
            "style": "IPY_MODEL_6da1e765b052441f9415601fd1ad25e2",
            "_dom_classes": [],
            "description": "",
            "_model_name": "HTMLModel",
            "placeholder": "​",
            "_view_module": "@jupyter-widgets/controls",
            "_model_module_version": "1.5.0",
            "value": " 972k/972k [00:00&lt;00:00, 918kB/s]",
            "_view_count": null,
            "_view_module_version": "1.5.0",
            "description_tooltip": null,
            "_model_module": "@jupyter-widgets/controls",
            "layout": "IPY_MODEL_fe1b92b8ba904604be6b359317ed6e12"
          }
        },
        "ea4f0e90a8e54431a42b98811cebccf2": {
          "model_module": "@jupyter-widgets/controls",
          "model_name": "DescriptionStyleModel",
          "model_module_version": "1.5.0",
          "state": {
            "_view_name": "StyleView",
            "_model_name": "DescriptionStyleModel",
            "description_width": "",
            "_view_module": "@jupyter-widgets/base",
            "_model_module_version": "1.5.0",
            "_view_count": null,
            "_view_module_version": "1.2.0",
            "_model_module": "@jupyter-widgets/controls"
          }
        },
        "b4184df3fc4d4a49b9c7e204ef84be93": {
          "model_module": "@jupyter-widgets/base",
          "model_name": "LayoutModel",
          "model_module_version": "1.2.0",
          "state": {
            "_view_name": "LayoutView",
            "grid_template_rows": null,
            "right": null,
            "justify_content": null,
            "_view_module": "@jupyter-widgets/base",
            "overflow": null,
            "_model_module_version": "1.2.0",
            "_view_count": null,
            "flex_flow": null,
            "width": null,
            "min_width": null,
            "border": null,
            "align_items": null,
            "bottom": null,
            "_model_module": "@jupyter-widgets/base",
            "top": null,
            "grid_column": null,
            "overflow_y": null,
            "overflow_x": null,
            "grid_auto_flow": null,
            "grid_area": null,
            "grid_template_columns": null,
            "flex": null,
            "_model_name": "LayoutModel",
            "justify_items": null,
            "grid_row": null,
            "max_height": null,
            "align_content": null,
            "visibility": null,
            "align_self": null,
            "height": null,
            "min_height": null,
            "padding": null,
            "grid_auto_rows": null,
            "grid_gap": null,
            "max_width": null,
            "order": null,
            "_view_module_version": "1.2.0",
            "grid_template_areas": null,
            "object_position": null,
            "object_fit": null,
            "grid_auto_columns": null,
            "margin": null,
            "display": null,
            "left": null
          }
        },
        "2aadedeb35564e2f9d8cb23ae7134cc9": {
          "model_module": "@jupyter-widgets/controls",
          "model_name": "ProgressStyleModel",
          "model_module_version": "1.5.0",
          "state": {
            "_view_name": "StyleView",
            "_model_name": "ProgressStyleModel",
            "description_width": "",
            "_view_module": "@jupyter-widgets/base",
            "_model_module_version": "1.5.0",
            "_view_count": null,
            "_view_module_version": "1.2.0",
            "bar_color": null,
            "_model_module": "@jupyter-widgets/controls"
          }
        },
        "c2d33d37204d47aa89adb8beb339578b": {
          "model_module": "@jupyter-widgets/base",
          "model_name": "LayoutModel",
          "model_module_version": "1.2.0",
          "state": {
            "_view_name": "LayoutView",
            "grid_template_rows": null,
            "right": null,
            "justify_content": null,
            "_view_module": "@jupyter-widgets/base",
            "overflow": null,
            "_model_module_version": "1.2.0",
            "_view_count": null,
            "flex_flow": null,
            "width": null,
            "min_width": null,
            "border": null,
            "align_items": null,
            "bottom": null,
            "_model_module": "@jupyter-widgets/base",
            "top": null,
            "grid_column": null,
            "overflow_y": null,
            "overflow_x": null,
            "grid_auto_flow": null,
            "grid_area": null,
            "grid_template_columns": null,
            "flex": null,
            "_model_name": "LayoutModel",
            "justify_items": null,
            "grid_row": null,
            "max_height": null,
            "align_content": null,
            "visibility": null,
            "align_self": null,
            "height": null,
            "min_height": null,
            "padding": null,
            "grid_auto_rows": null,
            "grid_gap": null,
            "max_width": null,
            "order": null,
            "_view_module_version": "1.2.0",
            "grid_template_areas": null,
            "object_position": null,
            "object_fit": null,
            "grid_auto_columns": null,
            "margin": null,
            "display": null,
            "left": null
          }
        },
        "6da1e765b052441f9415601fd1ad25e2": {
          "model_module": "@jupyter-widgets/controls",
          "model_name": "DescriptionStyleModel",
          "model_module_version": "1.5.0",
          "state": {
            "_view_name": "StyleView",
            "_model_name": "DescriptionStyleModel",
            "description_width": "",
            "_view_module": "@jupyter-widgets/base",
            "_model_module_version": "1.5.0",
            "_view_count": null,
            "_view_module_version": "1.2.0",
            "_model_module": "@jupyter-widgets/controls"
          }
        },
        "fe1b92b8ba904604be6b359317ed6e12": {
          "model_module": "@jupyter-widgets/base",
          "model_name": "LayoutModel",
          "model_module_version": "1.2.0",
          "state": {
            "_view_name": "LayoutView",
            "grid_template_rows": null,
            "right": null,
            "justify_content": null,
            "_view_module": "@jupyter-widgets/base",
            "overflow": null,
            "_model_module_version": "1.2.0",
            "_view_count": null,
            "flex_flow": null,
            "width": null,
            "min_width": null,
            "border": null,
            "align_items": null,
            "bottom": null,
            "_model_module": "@jupyter-widgets/base",
            "top": null,
            "grid_column": null,
            "overflow_y": null,
            "overflow_x": null,
            "grid_auto_flow": null,
            "grid_area": null,
            "grid_template_columns": null,
            "flex": null,
            "_model_name": "LayoutModel",
            "justify_items": null,
            "grid_row": null,
            "max_height": null,
            "align_content": null,
            "visibility": null,
            "align_self": null,
            "height": null,
            "min_height": null,
            "padding": null,
            "grid_auto_rows": null,
            "grid_gap": null,
            "max_width": null,
            "order": null,
            "_view_module_version": "1.2.0",
            "grid_template_areas": null,
            "object_position": null,
            "object_fit": null,
            "grid_auto_columns": null,
            "margin": null,
            "display": null,
            "left": null
          }
        },
        "504f05eb6a7946a9a91764c1e973eb1c": {
          "model_module": "@jupyter-widgets/controls",
          "model_name": "HBoxModel",
          "model_module_version": "1.5.0",
          "state": {
            "_view_name": "HBoxView",
            "_dom_classes": [],
            "_model_name": "HBoxModel",
            "_view_module": "@jupyter-widgets/controls",
            "_model_module_version": "1.5.0",
            "_view_count": null,
            "_view_module_version": "1.5.0",
            "box_style": "",
            "layout": "IPY_MODEL_219f1a42e9994b6f825be31c2ed4ba19",
            "_model_module": "@jupyter-widgets/controls",
            "children": [
              "IPY_MODEL_e8e4a3003cca48c8967dab21e5ff4e85",
              "IPY_MODEL_75cdd78d293444b1851b2e7bb8056f57",
              "IPY_MODEL_de0437e611d04fa0b51519d663793ba4"
            ]
          }
        },
        "219f1a42e9994b6f825be31c2ed4ba19": {
          "model_module": "@jupyter-widgets/base",
          "model_name": "LayoutModel",
          "model_module_version": "1.2.0",
          "state": {
            "_view_name": "LayoutView",
            "grid_template_rows": null,
            "right": null,
            "justify_content": null,
            "_view_module": "@jupyter-widgets/base",
            "overflow": null,
            "_model_module_version": "1.2.0",
            "_view_count": null,
            "flex_flow": null,
            "width": null,
            "min_width": null,
            "border": null,
            "align_items": null,
            "bottom": null,
            "_model_module": "@jupyter-widgets/base",
            "top": null,
            "grid_column": null,
            "overflow_y": null,
            "overflow_x": null,
            "grid_auto_flow": null,
            "grid_area": null,
            "grid_template_columns": null,
            "flex": null,
            "_model_name": "LayoutModel",
            "justify_items": null,
            "grid_row": null,
            "max_height": null,
            "align_content": null,
            "visibility": null,
            "align_self": null,
            "height": null,
            "min_height": null,
            "padding": null,
            "grid_auto_rows": null,
            "grid_gap": null,
            "max_width": null,
            "order": null,
            "_view_module_version": "1.2.0",
            "grid_template_areas": null,
            "object_position": null,
            "object_fit": null,
            "grid_auto_columns": null,
            "margin": null,
            "display": null,
            "left": null
          }
        },
        "e8e4a3003cca48c8967dab21e5ff4e85": {
          "model_module": "@jupyter-widgets/controls",
          "model_name": "HTMLModel",
          "model_module_version": "1.5.0",
          "state": {
            "_view_name": "HTMLView",
            "style": "IPY_MODEL_587372fe04ef49e8b59a0b551d76c01a",
            "_dom_classes": [],
            "description": "",
            "_model_name": "HTMLModel",
            "placeholder": "​",
            "_view_module": "@jupyter-widgets/controls",
            "_model_module_version": "1.5.0",
            "value": "Downloading: 100%",
            "_view_count": null,
            "_view_module_version": "1.5.0",
            "description_tooltip": null,
            "_model_module": "@jupyter-widgets/controls",
            "layout": "IPY_MODEL_5878fa1ccc114bab866c6ced4acd17f4"
          }
        },
        "75cdd78d293444b1851b2e7bb8056f57": {
          "model_module": "@jupyter-widgets/controls",
          "model_name": "FloatProgressModel",
          "model_module_version": "1.5.0",
          "state": {
            "_view_name": "ProgressView",
            "style": "IPY_MODEL_38bd8cc61c5649d0bf0ce4e07e0441d0",
            "_dom_classes": [],
            "description": "",
            "_model_name": "FloatProgressModel",
            "bar_style": "success",
            "max": 1961828,
            "_view_module": "@jupyter-widgets/controls",
            "_model_module_version": "1.5.0",
            "value": 1961828,
            "_view_count": null,
            "_view_module_version": "1.5.0",
            "orientation": "horizontal",
            "min": 0,
            "description_tooltip": null,
            "_model_module": "@jupyter-widgets/controls",
            "layout": "IPY_MODEL_61640e4efdee4fd3ad8bc1158e66a029"
          }
        },
        "de0437e611d04fa0b51519d663793ba4": {
          "model_module": "@jupyter-widgets/controls",
          "model_name": "HTMLModel",
          "model_module_version": "1.5.0",
          "state": {
            "_view_name": "HTMLView",
            "style": "IPY_MODEL_7620da904342472fa80964420a0bd6ba",
            "_dom_classes": [],
            "description": "",
            "_model_name": "HTMLModel",
            "placeholder": "​",
            "_view_module": "@jupyter-widgets/controls",
            "_model_module_version": "1.5.0",
            "value": " 1.87M/1.87M [00:00&lt;00:00, 7.68MB/s]",
            "_view_count": null,
            "_view_module_version": "1.5.0",
            "description_tooltip": null,
            "_model_module": "@jupyter-widgets/controls",
            "layout": "IPY_MODEL_4140844c39af4466b54ee09eddc3044d"
          }
        },
        "587372fe04ef49e8b59a0b551d76c01a": {
          "model_module": "@jupyter-widgets/controls",
          "model_name": "DescriptionStyleModel",
          "model_module_version": "1.5.0",
          "state": {
            "_view_name": "StyleView",
            "_model_name": "DescriptionStyleModel",
            "description_width": "",
            "_view_module": "@jupyter-widgets/base",
            "_model_module_version": "1.5.0",
            "_view_count": null,
            "_view_module_version": "1.2.0",
            "_model_module": "@jupyter-widgets/controls"
          }
        },
        "5878fa1ccc114bab866c6ced4acd17f4": {
          "model_module": "@jupyter-widgets/base",
          "model_name": "LayoutModel",
          "model_module_version": "1.2.0",
          "state": {
            "_view_name": "LayoutView",
            "grid_template_rows": null,
            "right": null,
            "justify_content": null,
            "_view_module": "@jupyter-widgets/base",
            "overflow": null,
            "_model_module_version": "1.2.0",
            "_view_count": null,
            "flex_flow": null,
            "width": null,
            "min_width": null,
            "border": null,
            "align_items": null,
            "bottom": null,
            "_model_module": "@jupyter-widgets/base",
            "top": null,
            "grid_column": null,
            "overflow_y": null,
            "overflow_x": null,
            "grid_auto_flow": null,
            "grid_area": null,
            "grid_template_columns": null,
            "flex": null,
            "_model_name": "LayoutModel",
            "justify_items": null,
            "grid_row": null,
            "max_height": null,
            "align_content": null,
            "visibility": null,
            "align_self": null,
            "height": null,
            "min_height": null,
            "padding": null,
            "grid_auto_rows": null,
            "grid_gap": null,
            "max_width": null,
            "order": null,
            "_view_module_version": "1.2.0",
            "grid_template_areas": null,
            "object_position": null,
            "object_fit": null,
            "grid_auto_columns": null,
            "margin": null,
            "display": null,
            "left": null
          }
        },
        "38bd8cc61c5649d0bf0ce4e07e0441d0": {
          "model_module": "@jupyter-widgets/controls",
          "model_name": "ProgressStyleModel",
          "model_module_version": "1.5.0",
          "state": {
            "_view_name": "StyleView",
            "_model_name": "ProgressStyleModel",
            "description_width": "",
            "_view_module": "@jupyter-widgets/base",
            "_model_module_version": "1.5.0",
            "_view_count": null,
            "_view_module_version": "1.2.0",
            "bar_color": null,
            "_model_module": "@jupyter-widgets/controls"
          }
        },
        "61640e4efdee4fd3ad8bc1158e66a029": {
          "model_module": "@jupyter-widgets/base",
          "model_name": "LayoutModel",
          "model_module_version": "1.2.0",
          "state": {
            "_view_name": "LayoutView",
            "grid_template_rows": null,
            "right": null,
            "justify_content": null,
            "_view_module": "@jupyter-widgets/base",
            "overflow": null,
            "_model_module_version": "1.2.0",
            "_view_count": null,
            "flex_flow": null,
            "width": null,
            "min_width": null,
            "border": null,
            "align_items": null,
            "bottom": null,
            "_model_module": "@jupyter-widgets/base",
            "top": null,
            "grid_column": null,
            "overflow_y": null,
            "overflow_x": null,
            "grid_auto_flow": null,
            "grid_area": null,
            "grid_template_columns": null,
            "flex": null,
            "_model_name": "LayoutModel",
            "justify_items": null,
            "grid_row": null,
            "max_height": null,
            "align_content": null,
            "visibility": null,
            "align_self": null,
            "height": null,
            "min_height": null,
            "padding": null,
            "grid_auto_rows": null,
            "grid_gap": null,
            "max_width": null,
            "order": null,
            "_view_module_version": "1.2.0",
            "grid_template_areas": null,
            "object_position": null,
            "object_fit": null,
            "grid_auto_columns": null,
            "margin": null,
            "display": null,
            "left": null
          }
        },
        "7620da904342472fa80964420a0bd6ba": {
          "model_module": "@jupyter-widgets/controls",
          "model_name": "DescriptionStyleModel",
          "model_module_version": "1.5.0",
          "state": {
            "_view_name": "StyleView",
            "_model_name": "DescriptionStyleModel",
            "description_width": "",
            "_view_module": "@jupyter-widgets/base",
            "_model_module_version": "1.5.0",
            "_view_count": null,
            "_view_module_version": "1.2.0",
            "_model_module": "@jupyter-widgets/controls"
          }
        },
        "4140844c39af4466b54ee09eddc3044d": {
          "model_module": "@jupyter-widgets/base",
          "model_name": "LayoutModel",
          "model_module_version": "1.2.0",
          "state": {
            "_view_name": "LayoutView",
            "grid_template_rows": null,
            "right": null,
            "justify_content": null,
            "_view_module": "@jupyter-widgets/base",
            "overflow": null,
            "_model_module_version": "1.2.0",
            "_view_count": null,
            "flex_flow": null,
            "width": null,
            "min_width": null,
            "border": null,
            "align_items": null,
            "bottom": null,
            "_model_module": "@jupyter-widgets/base",
            "top": null,
            "grid_column": null,
            "overflow_y": null,
            "overflow_x": null,
            "grid_auto_flow": null,
            "grid_area": null,
            "grid_template_columns": null,
            "flex": null,
            "_model_name": "LayoutModel",
            "justify_items": null,
            "grid_row": null,
            "max_height": null,
            "align_content": null,
            "visibility": null,
            "align_self": null,
            "height": null,
            "min_height": null,
            "padding": null,
            "grid_auto_rows": null,
            "grid_gap": null,
            "max_width": null,
            "order": null,
            "_view_module_version": "1.2.0",
            "grid_template_areas": null,
            "object_position": null,
            "object_fit": null,
            "grid_auto_columns": null,
            "margin": null,
            "display": null,
            "left": null
          }
        }
      }
    }
  },
  "cells": [
    {
      "cell_type": "markdown",
      "metadata": {
        "id": "view-in-github",
        "colab_type": "text"
      },
      "source": [
        "<a href=\"https://colab.research.google.com/github/Hong-Hyun-Seung/upstage-basic-deeplearning/blob/main/MRC_Practice_5_Dense_Passage_Retrieval_(In_batch)_ipynb%EC%9D%98_%EC%82%AC%EB%B3%B8.ipynb\" target=\"_parent\"><img src=\"https://colab.research.google.com/assets/colab-badge.svg\" alt=\"Open In Colab\"/></a>"
      ]
    },
    {
      "cell_type": "markdown",
      "metadata": {
        "id": "WjDdziEN_VCt"
      },
      "source": [
        "# 5강) BERT를 활용한 Dense Passage Retrieval 실습"
      ]
    },
    {
      "cell_type": "markdown",
      "metadata": {
        "id": "1NWluWk3_VCu"
      },
      "source": [
        "### Requirements"
      ]
    },
    {
      "cell_type": "code",
      "metadata": {
        "colab": {
          "base_uri": "https://localhost:8080/"
        },
        "id": "eGqFS4EEBF_Z",
        "outputId": "3fc35337-50e3-48ca-f394-f1fd8d1697f6"
      },
      "source": [
        "!pip install datasets\n",
        "!pip install transformers"
      ],
      "execution_count": 1,
      "outputs": [
        {
          "output_type": "stream",
          "name": "stdout",
          "text": [
            "Collecting datasets\n",
            "  Downloading datasets-1.14.0-py3-none-any.whl (290 kB)\n",
            "\u001b[K     |████████████████████████████████| 290 kB 5.3 MB/s \n",
            "\u001b[?25hRequirement already satisfied: pandas in /usr/local/lib/python3.7/dist-packages (from datasets) (1.1.5)\n",
            "Requirement already satisfied: requests>=2.19.0 in /usr/local/lib/python3.7/dist-packages (from datasets) (2.23.0)\n",
            "Requirement already satisfied: numpy>=1.17 in /usr/local/lib/python3.7/dist-packages (from datasets) (1.19.5)\n",
            "Requirement already satisfied: pyarrow!=4.0.0,>=1.0.0 in /usr/local/lib/python3.7/dist-packages (from datasets) (3.0.0)\n",
            "Collecting huggingface-hub<0.1.0,>=0.0.19\n",
            "  Downloading huggingface_hub-0.0.19-py3-none-any.whl (56 kB)\n",
            "\u001b[K     |████████████████████████████████| 56 kB 4.9 MB/s \n",
            "\u001b[?25hRequirement already satisfied: dill in /usr/local/lib/python3.7/dist-packages (from datasets) (0.3.4)\n",
            "Collecting xxhash\n",
            "  Downloading xxhash-2.0.2-cp37-cp37m-manylinux2010_x86_64.whl (243 kB)\n",
            "\u001b[K     |████████████████████████████████| 243 kB 39.8 MB/s \n",
            "\u001b[?25hRequirement already satisfied: multiprocess in /usr/local/lib/python3.7/dist-packages (from datasets) (0.70.12.2)\n",
            "Requirement already satisfied: tqdm>=4.62.1 in /usr/local/lib/python3.7/dist-packages (from datasets) (4.62.3)\n",
            "Collecting fsspec[http]>=2021.05.0\n",
            "  Downloading fsspec-2021.10.1-py3-none-any.whl (125 kB)\n",
            "\u001b[K     |████████████████████████████████| 125 kB 47.1 MB/s \n",
            "\u001b[?25hCollecting aiohttp\n",
            "  Downloading aiohttp-3.7.4.post0-cp37-cp37m-manylinux2014_x86_64.whl (1.3 MB)\n",
            "\u001b[K     |████████████████████████████████| 1.3 MB 32.3 MB/s \n",
            "\u001b[?25hRequirement already satisfied: importlib-metadata in /usr/local/lib/python3.7/dist-packages (from datasets) (4.8.1)\n",
            "Requirement already satisfied: packaging in /usr/local/lib/python3.7/dist-packages (from datasets) (21.0)\n",
            "Requirement already satisfied: filelock in /usr/local/lib/python3.7/dist-packages (from huggingface-hub<0.1.0,>=0.0.19->datasets) (3.3.0)\n",
            "Requirement already satisfied: typing-extensions in /usr/local/lib/python3.7/dist-packages (from huggingface-hub<0.1.0,>=0.0.19->datasets) (3.7.4.3)\n",
            "Requirement already satisfied: pyyaml in /usr/local/lib/python3.7/dist-packages (from huggingface-hub<0.1.0,>=0.0.19->datasets) (3.13)\n",
            "Requirement already satisfied: pyparsing>=2.0.2 in /usr/local/lib/python3.7/dist-packages (from packaging->datasets) (2.4.7)\n",
            "Requirement already satisfied: urllib3!=1.25.0,!=1.25.1,<1.26,>=1.21.1 in /usr/local/lib/python3.7/dist-packages (from requests>=2.19.0->datasets) (1.24.3)\n",
            "Requirement already satisfied: certifi>=2017.4.17 in /usr/local/lib/python3.7/dist-packages (from requests>=2.19.0->datasets) (2021.5.30)\n",
            "Requirement already satisfied: chardet<4,>=3.0.2 in /usr/local/lib/python3.7/dist-packages (from requests>=2.19.0->datasets) (3.0.4)\n",
            "Requirement already satisfied: idna<3,>=2.5 in /usr/local/lib/python3.7/dist-packages (from requests>=2.19.0->datasets) (2.10)\n",
            "Collecting multidict<7.0,>=4.5\n",
            "  Downloading multidict-5.2.0-cp37-cp37m-manylinux_2_5_x86_64.manylinux1_x86_64.manylinux_2_12_x86_64.manylinux2010_x86_64.whl (160 kB)\n",
            "\u001b[K     |████████████████████████████████| 160 kB 47.7 MB/s \n",
            "\u001b[?25hRequirement already satisfied: attrs>=17.3.0 in /usr/local/lib/python3.7/dist-packages (from aiohttp->datasets) (21.2.0)\n",
            "Collecting yarl<2.0,>=1.0\n",
            "  Downloading yarl-1.7.0-cp37-cp37m-manylinux_2_5_x86_64.manylinux1_x86_64.manylinux_2_12_x86_64.manylinux2010_x86_64.whl (271 kB)\n",
            "\u001b[K     |████████████████████████████████| 271 kB 50.5 MB/s \n",
            "\u001b[?25hCollecting async-timeout<4.0,>=3.0\n",
            "  Downloading async_timeout-3.0.1-py3-none-any.whl (8.2 kB)\n",
            "Requirement already satisfied: zipp>=0.5 in /usr/local/lib/python3.7/dist-packages (from importlib-metadata->datasets) (3.6.0)\n",
            "Requirement already satisfied: pytz>=2017.2 in /usr/local/lib/python3.7/dist-packages (from pandas->datasets) (2018.9)\n",
            "Requirement already satisfied: python-dateutil>=2.7.3 in /usr/local/lib/python3.7/dist-packages (from pandas->datasets) (2.8.2)\n",
            "Requirement already satisfied: six>=1.5 in /usr/local/lib/python3.7/dist-packages (from python-dateutil>=2.7.3->pandas->datasets) (1.15.0)\n",
            "Installing collected packages: multidict, yarl, async-timeout, fsspec, aiohttp, xxhash, huggingface-hub, datasets\n",
            "Successfully installed aiohttp-3.7.4.post0 async-timeout-3.0.1 datasets-1.14.0 fsspec-2021.10.1 huggingface-hub-0.0.19 multidict-5.2.0 xxhash-2.0.2 yarl-1.7.0\n",
            "Collecting transformers\n",
            "  Downloading transformers-4.12.2-py3-none-any.whl (3.1 MB)\n",
            "\u001b[K     |████████████████████████████████| 3.1 MB 5.3 MB/s \n",
            "\u001b[?25hCollecting pyyaml>=5.1\n",
            "  Downloading PyYAML-6.0-cp37-cp37m-manylinux_2_5_x86_64.manylinux1_x86_64.manylinux_2_12_x86_64.manylinux2010_x86_64.whl (596 kB)\n",
            "\u001b[K     |████████████████████████████████| 596 kB 41.9 MB/s \n",
            "\u001b[?25hRequirement already satisfied: importlib-metadata in /usr/local/lib/python3.7/dist-packages (from transformers) (4.8.1)\n",
            "Collecting tokenizers<0.11,>=0.10.1\n",
            "  Downloading tokenizers-0.10.3-cp37-cp37m-manylinux_2_5_x86_64.manylinux1_x86_64.manylinux_2_12_x86_64.manylinux2010_x86_64.whl (3.3 MB)\n",
            "\u001b[K     |████████████████████████████████| 3.3 MB 47.2 MB/s \n",
            "\u001b[?25hCollecting sacremoses\n",
            "  Downloading sacremoses-0.0.46-py3-none-any.whl (895 kB)\n",
            "\u001b[K     |████████████████████████████████| 895 kB 41.7 MB/s \n",
            "\u001b[?25hRequirement already satisfied: packaging>=20.0 in /usr/local/lib/python3.7/dist-packages (from transformers) (21.0)\n",
            "Requirement already satisfied: regex!=2019.12.17 in /usr/local/lib/python3.7/dist-packages (from transformers) (2019.12.20)\n",
            "Requirement already satisfied: tqdm>=4.27 in /usr/local/lib/python3.7/dist-packages (from transformers) (4.62.3)\n",
            "Requirement already satisfied: huggingface-hub>=0.0.17 in /usr/local/lib/python3.7/dist-packages (from transformers) (0.0.19)\n",
            "Requirement already satisfied: filelock in /usr/local/lib/python3.7/dist-packages (from transformers) (3.3.0)\n",
            "Requirement already satisfied: requests in /usr/local/lib/python3.7/dist-packages (from transformers) (2.23.0)\n",
            "Requirement already satisfied: numpy>=1.17 in /usr/local/lib/python3.7/dist-packages (from transformers) (1.19.5)\n",
            "Requirement already satisfied: typing-extensions in /usr/local/lib/python3.7/dist-packages (from huggingface-hub>=0.0.17->transformers) (3.7.4.3)\n",
            "Requirement already satisfied: pyparsing>=2.0.2 in /usr/local/lib/python3.7/dist-packages (from packaging>=20.0->transformers) (2.4.7)\n",
            "Requirement already satisfied: zipp>=0.5 in /usr/local/lib/python3.7/dist-packages (from importlib-metadata->transformers) (3.6.0)\n",
            "Requirement already satisfied: idna<3,>=2.5 in /usr/local/lib/python3.7/dist-packages (from requests->transformers) (2.10)\n",
            "Requirement already satisfied: urllib3!=1.25.0,!=1.25.1,<1.26,>=1.21.1 in /usr/local/lib/python3.7/dist-packages (from requests->transformers) (1.24.3)\n",
            "Requirement already satisfied: certifi>=2017.4.17 in /usr/local/lib/python3.7/dist-packages (from requests->transformers) (2021.5.30)\n",
            "Requirement already satisfied: chardet<4,>=3.0.2 in /usr/local/lib/python3.7/dist-packages (from requests->transformers) (3.0.4)\n",
            "Requirement already satisfied: joblib in /usr/local/lib/python3.7/dist-packages (from sacremoses->transformers) (1.0.1)\n",
            "Requirement already satisfied: six in /usr/local/lib/python3.7/dist-packages (from sacremoses->transformers) (1.15.0)\n",
            "Requirement already satisfied: click in /usr/local/lib/python3.7/dist-packages (from sacremoses->transformers) (7.1.2)\n",
            "Installing collected packages: pyyaml, tokenizers, sacremoses, transformers\n",
            "  Attempting uninstall: pyyaml\n",
            "    Found existing installation: PyYAML 3.13\n",
            "    Uninstalling PyYAML-3.13:\n",
            "      Successfully uninstalled PyYAML-3.13\n",
            "Successfully installed pyyaml-6.0 sacremoses-0.0.46 tokenizers-0.10.3 transformers-4.12.2\n"
          ]
        }
      ]
    },
    {
      "cell_type": "markdown",
      "metadata": {
        "id": "CYUkp06Y_VCv"
      },
      "source": [
        "## 데이터셋 로딩\n"
      ]
    },
    {
      "cell_type": "markdown",
      "metadata": {
        "id": "KMrZa4uql_nx"
      },
      "source": [
        "KorQuAD train 데이터셋을 학습 데이터로 활용"
      ]
    },
    {
      "cell_type": "code",
      "metadata": {
        "colab": {
          "base_uri": "https://localhost:8080/",
          "height": 296,
          "referenced_widgets": [
            "76af038bac6a422397656c74eaf78cbb",
            "7f4094b17012421a969188b08ef77f64",
            "d894275ab12444a680226fd535a842a6",
            "921e5308693a4d759a6f303bf1a06c85",
            "0181cce5c76b411ab2b9063639ce694e",
            "b9506f673e924667ba14f59f1081618f",
            "349bf139f0d4491a922aa7306de963c8",
            "7fe9ca70e56042069d92be8a413c5f31",
            "19bb51c8abb9493abd38413266290993",
            "8fa8ab695b3b4816b5220c5f1103bb7d",
            "82a80d4534cc4942a10b8e703c0ecc9b",
            "d09b45ae0f484194bb6249a4526271c4",
            "b790939808d64a97987dd28d9beed394",
            "df4e2c6952754c6aa5a795426eee6150",
            "db284091a792467ea33d2bc33689e169",
            "945fe37efe87412d95153dc026877a79",
            "8ff0af6624684744a3e173c81e59ea12",
            "ab2f1cdc73424a45b781c815ff6e62ea",
            "8831c82ea83c421284de06afa4f9b6e6",
            "0300c074a6ff4ce0ab53473116dbcf6e",
            "a57076330b0f478ca1e3375734faafbe",
            "4b037fd808c64efcbc82cf133f125267",
            "1971d9b844dc4e999a101a8dccd622e7",
            "e72319e673404d79a917c687459ccfe6",
            "4a262460398445e589a6ea49e11515ee",
            "9c4581a90f394795a009fd59f58388a5",
            "907c908efc4a45c5a53defb00a864fc3",
            "f272674b95a74b9799f18df7522b36b8",
            "974a68028939441b8b8d42f12158c2d7",
            "fd12a6c67d714973807a5639c8a0f697",
            "c42052662e0e4308bcbc0bd7bc6f082a",
            "0efa6c14615f47548139c74b4e3863a0",
            "275df5c677be4ba7b28d43dbf31396ec",
            "a2c965f4f6d0464ea4b242c6c7e4e622",
            "c8216ca112d9487fa87b7bc29d6733f8",
            "0023ca88c2f34052931a9af5504659c2",
            "e34e0821c28a4870a7fe4cbfe62f8dbe",
            "23a7d28c676a4f228016f2e1f7ca5649",
            "d0c52a2f2c1d445a9c1dfcd202fff369",
            "2ef29eca57d84de3b499893243e8194d",
            "d1016e0c9e7243dc9677873dc08ff72d",
            "3f59a53bce6a4004a57476a05db9cc5c",
            "a22ae95c1aca40b5960af971d6324737",
            "bcc33e5c1d794e4fba4e5a428a0db5aa",
            "21880363375f4e54adb40180dccf6151",
            "64369d2196964e89b5f0974527148e5f",
            "4333e88349564d309b57630e059b1398",
            "fe2b64852bb543b7b3f5f37dba13da65",
            "3f8746905ebf42ddbe2b6bd5fd4223be",
            "9cac7c5035f245cdaf21ed74c01b76ed",
            "469419c3d50245f7ac2565ff69f37a48",
            "55408224055c45509532a33a60e886aa",
            "cca99835f8be49c7a0e2bc4724de633a",
            "edba08a7f7b943699dfed414131e4ec2",
            "be69d8e6a3e4474a86c442ae192b7728",
            "888815d0d1794ea59711884529e63af8",
            "cc2804a96aa44436a139d4404e4931d5",
            "5e89ce449c764045a9b82423a9d3afbb",
            "79ff5662fb6244af9801f91f0a1c499b",
            "7c701f507e8144639adfd1e984b1ea49",
            "3d81f875e50b45fcb21b758bda23bbfc",
            "434c18176f0843c0a73dda0b7e236f2a",
            "5f0f3fe5185d4eb28fa36863e16f367c",
            "892926cef46a4def9317a602d0310c6e",
            "bcf5d53d7a6f4edab6109c4de2f4c119",
            "f08a643f575c4c45bbff575a0dcbd79b",
            "175ac8e88302447ea5b89094c19d17ae",
            "e2aa02d3dd964de8ba3616425100dffe",
            "122a865c105c4f10b3e04d1f6f8326fb",
            "5b1eda0960ca42a4b4e7e4776d00e04b",
            "27bd4985385b4546bc747fcde4e8e975",
            "34861ac5194845eeb122fd637d1ee964",
            "d5ad8605b180418bb792bf5e37abd9ae",
            "3bb50398a1a742ae9644dde037856779",
            "504a4789486c41389b10ccedc4f485bd",
            "509b2b597ad7417c8f251155936d5dcf",
            "dd56e785a7b545e7893fba04dc37596e",
            "ad4347b17fbc4a3b8e25923759e41ad3",
            "870e34e838dc4b8482076161e8456196",
            "c5c424aefcb04229b369772112660d98",
            "ed6c416fb78d43c3b01da60b51d82e76",
            "c8a2381188fe4a40b3ef61d18a11157f",
            "99a5a2d12fb94d33ac2acf6f3f86ebd3",
            "bb038482790443a9985bc829be332577",
            "74567ba6c9094941ba68f9c336b68f16",
            "1a129b677a3c4dd1ad2ad53cb90effed",
            "e73b6f633fac4cb2a9a9b0ba6072b753",
            "6f21d4d10ba74079b171d0cf008e02d6",
            "8f7962ac70ee49ac8ad0314438c11564",
            "49d9d4620c7347168882423d210cec46",
            "a539145076054616aa7be44ca7950d86",
            "d5d3c1a3f8b7490786326a90c2f38451",
            "2dc40f5ae7d2432cb269468aad398555",
            "62f36abcbe3043bdb5b2cf21328df9dd",
            "71182385269340fe86859496f7100276",
            "5d0d3ef12d8e4973b21551612c9505d9",
            "6c7ac8b05da94d938b0209b6e99a6a9f",
            "59a4cffa5b44492e8a1c2319a66bee20",
            "50e758e1dbab47658225bc0c81fde794"
          ]
        },
        "id": "4IUxepuj_VCv",
        "outputId": "ede3d25c-0023-4ee4-ed2f-d84b15087eea"
      },
      "source": [
        "from datasets import load_dataset\n",
        "\n",
        "dataset = load_dataset(\"squad_kor_v1\")"
      ],
      "execution_count": 2,
      "outputs": [
        {
          "output_type": "display_data",
          "data": {
            "application/vnd.jupyter.widget-view+json": {
              "model_id": "76af038bac6a422397656c74eaf78cbb",
              "version_minor": 0,
              "version_major": 2
            },
            "text/plain": [
              "Downloading:   0%|          | 0.00/1.78k [00:00<?, ?B/s]"
            ]
          },
          "metadata": {}
        },
        {
          "output_type": "display_data",
          "data": {
            "application/vnd.jupyter.widget-view+json": {
              "model_id": "d09b45ae0f484194bb6249a4526271c4",
              "version_minor": 0,
              "version_major": 2
            },
            "text/plain": [
              "Downloading:   0%|          | 0.00/1.02k [00:00<?, ?B/s]"
            ]
          },
          "metadata": {}
        },
        {
          "output_type": "stream",
          "name": "stdout",
          "text": [
            "Downloading and preparing dataset squad_kor_v1/squad_kor_v1 (download: 40.44 MiB, generated: 87.40 MiB, post-processed: Unknown size, total: 127.84 MiB) to /root/.cache/huggingface/datasets/squad_kor_v1/squad_kor_v1/1.0.0/18d4f44736b8ee85671f63cb84965bfb583fa0a4ff2df3c2e10eee9693796725...\n"
          ]
        },
        {
          "output_type": "display_data",
          "data": {
            "application/vnd.jupyter.widget-view+json": {
              "model_id": "1971d9b844dc4e999a101a8dccd622e7",
              "version_minor": 0,
              "version_major": 2
            },
            "text/plain": [
              "  0%|          | 0/2 [00:00<?, ?it/s]"
            ]
          },
          "metadata": {}
        },
        {
          "output_type": "display_data",
          "data": {
            "application/vnd.jupyter.widget-view+json": {
              "model_id": "a2c965f4f6d0464ea4b242c6c7e4e622",
              "version_minor": 0,
              "version_major": 2
            },
            "text/plain": [
              "Downloading:   0%|          | 0.00/7.57M [00:00<?, ?B/s]"
            ]
          },
          "metadata": {}
        },
        {
          "output_type": "display_data",
          "data": {
            "application/vnd.jupyter.widget-view+json": {
              "model_id": "21880363375f4e54adb40180dccf6151",
              "version_minor": 0,
              "version_major": 2
            },
            "text/plain": [
              "Downloading:   0%|          | 0.00/770k [00:00<?, ?B/s]"
            ]
          },
          "metadata": {}
        },
        {
          "output_type": "display_data",
          "data": {
            "application/vnd.jupyter.widget-view+json": {
              "model_id": "888815d0d1794ea59711884529e63af8",
              "version_minor": 0,
              "version_major": 2
            },
            "text/plain": [
              "  0%|          | 0/2 [00:00<?, ?it/s]"
            ]
          },
          "metadata": {}
        },
        {
          "output_type": "display_data",
          "data": {
            "application/vnd.jupyter.widget-view+json": {
              "model_id": "175ac8e88302447ea5b89094c19d17ae",
              "version_minor": 0,
              "version_major": 2
            },
            "text/plain": [
              "0 examples [00:00, ? examples/s]"
            ]
          },
          "metadata": {}
        },
        {
          "output_type": "display_data",
          "data": {
            "application/vnd.jupyter.widget-view+json": {
              "model_id": "ad4347b17fbc4a3b8e25923759e41ad3",
              "version_minor": 0,
              "version_major": 2
            },
            "text/plain": [
              "0 examples [00:00, ? examples/s]"
            ]
          },
          "metadata": {}
        },
        {
          "output_type": "stream",
          "name": "stdout",
          "text": [
            "Dataset squad_kor_v1 downloaded and prepared to /root/.cache/huggingface/datasets/squad_kor_v1/squad_kor_v1/1.0.0/18d4f44736b8ee85671f63cb84965bfb583fa0a4ff2df3c2e10eee9693796725. Subsequent calls will reuse this data.\n"
          ]
        },
        {
          "output_type": "display_data",
          "data": {
            "application/vnd.jupyter.widget-view+json": {
              "model_id": "8f7962ac70ee49ac8ad0314438c11564",
              "version_minor": 0,
              "version_major": 2
            },
            "text/plain": [
              "  0%|          | 0/2 [00:00<?, ?it/s]"
            ]
          },
          "metadata": {}
        }
      ]
    },
    {
      "cell_type": "markdown",
      "metadata": {
        "id": "lJtECqpB_VCx"
      },
      "source": [
        "## 토크나이저 준비 - Huggingface 제공 tokenizer 이용"
      ]
    },
    {
      "cell_type": "markdown",
      "metadata": {
        "id": "X0Fu2WaqpUB8"
      },
      "source": [
        "BERT를 encoder로 사용하므로, hugginface에서 제공하는 \"bert-base-multilingual-cased\" tokenizer를 활용"
      ]
    },
    {
      "cell_type": "code",
      "metadata": {
        "id": "AoB8BHGDmVIK",
        "colab": {
          "base_uri": "https://localhost:8080/",
          "height": 145,
          "referenced_widgets": [
            "d9b08027a92e43478456b9dd1c5fd6d7",
            "9b2e603e913b4ccea820c986a11e7640",
            "4f1c4c92ec2845fc8f390e781bbbbb5e",
            "e6932d0e19834158a74e44cf8b1e2fca",
            "22b9aa38569a4eefadd7347250defc74",
            "b63d614678a247e4abdfc7e945d7c568",
            "7671dd9c14624b20a965144685df6500",
            "51f49aeede124c11bd0e35708e69449c",
            "4a3fd30f106648f19397a1e047a0e6e6",
            "f5246b8e384244519c025640fdfb2dbb",
            "ba252c38f4c544aeb92af45e22018703",
            "bdd54c9ae6dd4fd8ac5006d639b97b4c",
            "431b11a018c04890bed79c68fe125980",
            "b9403220b32746478396824dd6061246",
            "b82e3d0747554cbf82e3f17cd5749e9d",
            "0da726abb1ba4b49a00f06d20f1afbba",
            "198635819a8a458187ecd5e8b5d6a886",
            "9c705e7d24794d4cb23a441d27f0dcfc",
            "590d05543aba49b9bffffb28d9b056e6",
            "7c059fae36a44b0cada0f392a965aa87",
            "44b868e2b53b41c58175478efbd6fc03",
            "df851e2e5aea4942a9cf5fc1963b0fec",
            "c65520c56320438f9ea6095525511494",
            "8fb39b1624bf44c98c74353f071f286c",
            "0bfc05e483744cccbb4017f32f66dfab",
            "40dd843eb9d44a7ca35aa5e6abc992cb",
            "bae75c12370c44e1a30c44c3015f07bf",
            "ea4f0e90a8e54431a42b98811cebccf2",
            "b4184df3fc4d4a49b9c7e204ef84be93",
            "2aadedeb35564e2f9d8cb23ae7134cc9",
            "c2d33d37204d47aa89adb8beb339578b",
            "6da1e765b052441f9415601fd1ad25e2",
            "fe1b92b8ba904604be6b359317ed6e12",
            "504f05eb6a7946a9a91764c1e973eb1c",
            "219f1a42e9994b6f825be31c2ed4ba19",
            "e8e4a3003cca48c8967dab21e5ff4e85",
            "75cdd78d293444b1851b2e7bb8056f57",
            "de0437e611d04fa0b51519d663793ba4",
            "587372fe04ef49e8b59a0b551d76c01a",
            "5878fa1ccc114bab866c6ced4acd17f4",
            "38bd8cc61c5649d0bf0ce4e07e0441d0",
            "61640e4efdee4fd3ad8bc1158e66a029",
            "7620da904342472fa80964420a0bd6ba",
            "4140844c39af4466b54ee09eddc3044d"
          ]
        },
        "outputId": "5f52e7c0-ce86-40e1-aaed-7062145a0fdd"
      },
      "source": [
        "from transformers import AutoTokenizer\n",
        "import numpy as np\n",
        "\n",
        "model_checkpoint = \"bert-base-multilingual-cased\"\n",
        "\n",
        "tokenizer = AutoTokenizer.from_pretrained(model_checkpoint)\n"
      ],
      "execution_count": 3,
      "outputs": [
        {
          "output_type": "display_data",
          "data": {
            "application/vnd.jupyter.widget-view+json": {
              "model_id": "d9b08027a92e43478456b9dd1c5fd6d7",
              "version_minor": 0,
              "version_major": 2
            },
            "text/plain": [
              "Downloading:   0%|          | 0.00/29.0 [00:00<?, ?B/s]"
            ]
          },
          "metadata": {}
        },
        {
          "output_type": "display_data",
          "data": {
            "application/vnd.jupyter.widget-view+json": {
              "model_id": "bdd54c9ae6dd4fd8ac5006d639b97b4c",
              "version_minor": 0,
              "version_major": 2
            },
            "text/plain": [
              "Downloading:   0%|          | 0.00/625 [00:00<?, ?B/s]"
            ]
          },
          "metadata": {}
        },
        {
          "output_type": "display_data",
          "data": {
            "application/vnd.jupyter.widget-view+json": {
              "model_id": "c65520c56320438f9ea6095525511494",
              "version_minor": 0,
              "version_major": 2
            },
            "text/plain": [
              "Downloading:   0%|          | 0.00/972k [00:00<?, ?B/s]"
            ]
          },
          "metadata": {}
        },
        {
          "output_type": "display_data",
          "data": {
            "application/vnd.jupyter.widget-view+json": {
              "model_id": "504f05eb6a7946a9a91764c1e973eb1c",
              "version_minor": 0,
              "version_major": 2
            },
            "text/plain": [
              "Downloading:   0%|          | 0.00/1.87M [00:00<?, ?B/s]"
            ]
          },
          "metadata": {}
        }
      ]
    },
    {
      "cell_type": "code",
      "metadata": {
        "colab": {
          "base_uri": "https://localhost:8080/"
        },
        "id": "WPxRvMjdvh4y",
        "outputId": "0c121f0b-4c30-4fdd-ae1d-3cd324b55ef0"
      },
      "source": [
        "tokenizer"
      ],
      "execution_count": 4,
      "outputs": [
        {
          "output_type": "execute_result",
          "data": {
            "text/plain": [
              "PreTrainedTokenizerFast(name_or_path='bert-base-multilingual-cased', vocab_size=119547, model_max_len=512, is_fast=True, padding_side='right', special_tokens={'unk_token': '[UNK]', 'sep_token': '[SEP]', 'pad_token': '[PAD]', 'cls_token': '[CLS]', 'mask_token': '[MASK]'})"
            ]
          },
          "metadata": {},
          "execution_count": 4
        }
      ]
    },
    {
      "cell_type": "code",
      "metadata": {
        "colab": {
          "base_uri": "https://localhost:8080/",
          "height": 283
        },
        "id": "0U7sn3jsu44O",
        "outputId": "d9d6734e-d127-4e40-f1be-b56ec7f8a532"
      },
      "source": [
        "tokenized_input = tokenizer(dataset['train'][0]['context'], padding=\"max_length\", truncation=True)\n",
        "tokenizer.decode(tokenized_input['input_ids'])"
      ],
      "execution_count": 5,
      "outputs": [
        {
          "output_type": "execute_result",
          "data": {
            "application/vnd.google.colaboratory.intrinsic+json": {
              "type": "string"
            },
            "text/plain": [
              "'[CLS] 1839년 바그너는 괴테의 파우스트을 처음 읽고 그 내용에 마음이 끌려 이를 소재로 해서 하나의 교향곡을 쓰려는 뜻을 갖는다. 이 시기 바그너는 1838년에 빛 독촉으로 산전수전을 다 [UNK] 상황이라 좌절과 실망에 가득했으며 메피스토펠레스를 만나는 파우스트의 심경에 공감했다고 한다. 또한 파리에서 아브네크의 지휘로 파리 음악원 관현악단이 연주하는 베토벤의 교향곡 9번을 듣고 깊은 감명을 받았는데, 이것이 이듬해 1월에 파우스트의 서곡으로 쓰여진 이 작품에 조금이라도 영향을 끼쳤으리라는 것은 의심할 여지가 없다. 여기의 라단조 조성의 경우에도 그의 전기에 적혀 있는 것처럼 단순한 정신적 피로나 실의가 반영된 것이 아니라 베토벤의 합창교향곡 조성의 영향을 받은 것을 볼 수 있다. 그렇게 교향곡 작곡을 1839년부터 40년에 걸쳐 파리에서 착수했으나 1악장을 쓴 뒤에 중단했다. 또한 작품의 완성과 동시에 그는 이 서곡 ( 1악장 ) 을 파리 음악원의 연주회에서 연주할 파트보까지 준비하였으나, 실제로는 이루어지지는 않았다. 결국 초연은 4년 반이 지난 후에 드레스덴에서 연주되었고 재연도 이루어졌지만, 이후에 그대로 방치되고 말았다. 그 사이에 그는 리엔치와 방황하는 네덜란드인을 완성하고 탄호이저에도 착수하는 등 분주한 시간을 보냈는데, 그런 바쁜 생활이 이 곡을 잊게 한 것이 아닌가 하는 의견도 있다. [SEP] [PAD] [PAD] [PAD] [PAD] [PAD] [PAD] [PAD] [PAD] [PAD] [PAD] [PAD] [PAD] [PAD] [PAD] [PAD] [PAD] [PAD] [PAD] [PAD] [PAD] [PAD] [PAD] [PAD] [PAD] [PAD] [PAD] [PAD] [PAD] [PAD] [PAD] [PAD] [PAD] [PAD] [PAD] [PAD] [PAD] [PAD] [PAD] [PAD] [PAD] [PAD] [PAD] [PAD] [PAD] [PAD] [PAD] [PAD] [PAD] [PAD] [PAD] [PAD] [PAD] [PAD] [PAD] [PAD] [PAD] [PAD] [PAD] [PAD] [PAD] [PAD] [PAD] [PAD] [PAD] [PAD] [PAD] [PAD] [PAD] [PAD] [PAD] [PAD] [PAD] [PAD] [PAD] [PAD] [PAD] [PAD] [PAD] [PAD] [PAD] [PAD] [PAD] [PAD] [PAD] [PAD] [PAD] [PAD] [PAD] [PAD] [PAD] [PAD] [PAD] [PAD] [PAD] [PAD] [PAD] [PAD] [PAD] [PAD] [PAD] [PAD] [PAD] [PAD] [PAD] [PAD] [PAD]'"
            ]
          },
          "metadata": {},
          "execution_count": 5
        }
      ]
    },
    {
      "cell_type": "markdown",
      "metadata": {
        "id": "zpoTleVJjp5x"
      },
      "source": [
        "## Dense encoder (BERT) 학습 시키기"
      ]
    },
    {
      "cell_type": "markdown",
      "metadata": {
        "id": "_nrxmtmfkRVb"
      },
      "source": [
        "HuggingFace BERT를 활용하여 question encoder, passage encoder 학습"
      ]
    },
    {
      "cell_type": "code",
      "metadata": {
        "id": "6b215ZfJ_EOc"
      },
      "source": [
        "from tqdm import tqdm, trange\n",
        "import argparse\n",
        "import random\n",
        "import torch\n",
        "import torch.nn.functional as F\n",
        "from transformers import BertModel, BertPreTrainedModel, AdamW, TrainingArguments, get_linear_schedule_with_warmup\n",
        "\n",
        "torch.manual_seed(2021)\n",
        "torch.cuda.manual_seed(2021)\n",
        "np.random.seed(2021)\n",
        "random.seed(2021)"
      ],
      "execution_count": 6,
      "outputs": []
    },
    {
      "cell_type": "markdown",
      "metadata": {
        "id": "N-bKwkxTpoje"
      },
      "source": [
        "1) Training Dataset 준비하기 (question, passage pairs)\n",
        "\n",
        "---\n",
        "\n"
      ]
    },
    {
      "cell_type": "code",
      "metadata": {
        "id": "E_FQ1kcazxge",
        "colab": {
          "base_uri": "https://localhost:8080/"
        },
        "outputId": "611306c6-57dc-4114-fe03-934b249dba17"
      },
      "source": [
        "# Use subset (128 example) of original training dataset \n",
        "sample_idx = np.random.choice(range(len(dataset['train'])), 128)\n",
        "print(f\"sample_idx is {sample_idx}\")\n",
        "training_dataset = dataset['train'][sample_idx]"
      ],
      "execution_count": 7,
      "outputs": [
        {
          "output_type": "stream",
          "name": "stdout",
          "text": [
            "sample_idx is [25716 27989  6201 17536  2669 20318 22486 30764 22015 25406 16347 21149\n",
            " 32277 51549 47256 23948 23030 49350 35942 36934  4641 47717 34567 41217\n",
            " 38254 38369 46460 30437 24986 32450 35760 11747 36927 34353 27280 14002\n",
            " 39734 53627 26036 30557 51832 30001  3494 53063 36181 41030  8361 44565\n",
            " 17654 31769 38794 34468  6509  8042 44051 44217 42066 34522 27535 33320\n",
            " 49130 38860  6965 42507 49555 54177 42830 34833 54617 27826 25607 33013\n",
            " 37363 23067 18668 45175  8639 53171 23305 15972 48617  9575 35353 43463\n",
            "   999  4692  3227   765 48795 13587 42655 18738 34030   345 48539 59317\n",
            " 23666 49146 11040 16788 57823  8791 55683 48865 54804 49298 53107 59494\n",
            "  2630  8561 36186 38581 16618 53566 31965 37295 32219  3719 55261 49697\n",
            "  3493 32991 31470 13758 24672 38516 35375 57373]\n"
          ]
        }
      ]
    },
    {
      "cell_type": "markdown",
      "metadata": {
        "id": "r6W0caOjvk85"
      },
      "source": [
        "![image.png](data:image/png;base64,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)"
      ]
    },
    {
      "cell_type": "code",
      "metadata": {
        "id": "NJZWx1b-613e"
      },
      "source": [
        "from torch.utils.data import (DataLoader, RandomSampler, TensorDataset)\n",
        "\n",
        "q_seqs = tokenizer(training_dataset['question'], padding=\"max_length\", truncation=True, return_tensors='pt')\n",
        "p_seqs = tokenizer(training_dataset['context'], padding=\"max_length\", truncation=True, return_tensors='pt')\n"
      ],
      "execution_count": 8,
      "outputs": []
    },
    {
      "cell_type": "code",
      "metadata": {
        "id": "bAplp66Pkayy"
      },
      "source": [
        "train_dataset = TensorDataset(p_seqs['input_ids'], p_seqs['attention_mask'], p_seqs['token_type_ids'], \n",
        "                        q_seqs['input_ids'], q_seqs['attention_mask'], q_seqs['token_type_ids'])"
      ],
      "execution_count": 9,
      "outputs": []
    },
    {
      "cell_type": "markdown",
      "metadata": {
        "id": "JwMvVH1e3h99"
      },
      "source": [
        "2) BERT encoder 학습시키기"
      ]
    },
    {
      "cell_type": "markdown",
      "metadata": {
        "id": "vW7Oc7Zd9kkm"
      },
      "source": [
        "BertEncoder 모델 정의 후, question encoder, passage encoder에 pre-trained weight 불러오기"
      ]
    },
    {
      "cell_type": "code",
      "metadata": {
        "id": "oKKkTlh_l5VL"
      },
      "source": [
        "class BertEncoder(BertPreTrainedModel):\n",
        "  def __init__(self, config):\n",
        "    super(BertEncoder, self).__init__(config)\n",
        "\n",
        "    self.bert = BertModel(config)\n",
        "    self.init_weights()\n",
        "      \n",
        "  def forward(self, input_ids, \n",
        "              attention_mask=None, token_type_ids=None): \n",
        "  \n",
        "      outputs = self.bert(input_ids,\n",
        "                          attention_mask=attention_mask,\n",
        "                          token_type_ids=token_type_ids)\n",
        "      \n",
        "      pooled_output = outputs[1]\n",
        "\n",
        "      return pooled_output\n"
      ],
      "execution_count": null,
      "outputs": []
    },
    {
      "cell_type": "markdown",
      "metadata": {
        "id": "TwFZ3-rWNoHt"
      },
      "source": [
        "https://huggingface.co/transformers/main_classes/model.html#transformers.PreTrainedModel"
      ]
    },
    {
      "cell_type": "code",
      "metadata": {
        "colab": {
          "base_uri": "https://localhost:8080/"
        },
        "id": "wnO1b30SomBP",
        "outputId": "998e38f2-0564-4956-bd43-878798158805"
      },
      "source": [
        "# load pre-trained model on cuda (if available)\n",
        "p_encoder = BertEncoder.from_pretrained(model_checkpoint)\n",
        "q_encoder = BertEncoder.from_pretrained(model_checkpoint)\n",
        "\n",
        "if torch.cuda.is_available():\n",
        "  p_encoder.cuda()\n",
        "  q_encoder.cuda()"
      ],
      "execution_count": null,
      "outputs": [
        {
          "name": "stderr",
          "output_type": "stream",
          "text": [
            "Some weights of the model checkpoint at bert-base-multilingual-cased were not used when initializing BertEncoder: ['cls.predictions.bias', 'cls.predictions.transform.dense.weight', 'cls.predictions.transform.dense.bias', 'cls.predictions.decoder.weight', 'cls.seq_relationship.weight', 'cls.seq_relationship.bias', 'cls.predictions.transform.LayerNorm.weight', 'cls.predictions.transform.LayerNorm.bias']\n",
            "- This IS expected if you are initializing BertEncoder from the checkpoint of a model trained on another task or with another architecture (e.g. initializing a BertForSequenceClassification model from a BertForPreTraining model).\n",
            "- This IS NOT expected if you are initializing BertEncoder from the checkpoint of a model that you expect to be exactly identical (initializing a BertForSequenceClassification model from a BertForSequenceClassification model).\n",
            "Some weights of the model checkpoint at bert-base-multilingual-cased were not used when initializing BertEncoder: ['cls.predictions.bias', 'cls.predictions.transform.dense.weight', 'cls.predictions.transform.dense.bias', 'cls.predictions.decoder.weight', 'cls.seq_relationship.weight', 'cls.seq_relationship.bias', 'cls.predictions.transform.LayerNorm.weight', 'cls.predictions.transform.LayerNorm.bias']\n",
            "- This IS expected if you are initializing BertEncoder from the checkpoint of a model trained on another task or with another architecture (e.g. initializing a BertForSequenceClassification model from a BertForPreTraining model).\n",
            "- This IS NOT expected if you are initializing BertEncoder from the checkpoint of a model that you expect to be exactly identical (initializing a BertForSequenceClassification model from a BertForSequenceClassification model).\n"
          ]
        }
      ]
    },
    {
      "cell_type": "markdown",
      "metadata": {
        "id": "f3Dgo8U997HD"
      },
      "source": [
        "Train function 정의 후, 두개의 encoder fine-tuning 하기 (In-batch negative 활용) \n"
      ]
    },
    {
      "cell_type": "code",
      "metadata": {
        "id": "VAb7NpUc8YRo"
      },
      "source": [
        "def train(args, dataset, p_model, q_model):\n",
        "  \n",
        "  # Dataloader\n",
        "  train_sampler = RandomSampler(dataset)\n",
        "  train_dataloader = DataLoader(dataset, sampler=train_sampler, batch_size=args.per_device_train_batch_size)\n",
        "\n",
        "tt\n",
        "  t_total = len(train_dataloader) // args.gradient_accumulation_steps * args.num_train_epochs\n",
        "  scheduler = get_linear_schedule_with_warmup(optimizer, num_warmup_steps=args.warmup_steps, num_training_steps=t_total)\n",
        "\n",
        "  # Start training!\n",
        "  global_step = 0\n",
        "  \n",
        "  p_model.zero_grad()\n",
        "  q_model.zero_grad()\n",
        "  torch.cuda.empty_cache()\n",
        "  \n",
        "  train_iterator = trange(int(args.num_train_epochs), desc=\"Epoch\")\n",
        "\n",
        "  for _ in train_iterator:\n",
        "    epoch_iterator = tqdm(train_dataloader, desc=\"Iteration\")\n",
        "\n",
        "    for step, batch in enumerate(epoch_iterator):\n",
        "      q_encoder.train()\n",
        "      p_encoder.train()\n",
        "      \n",
        "      if torch.cuda.is_available():\n",
        "        batch = tuple(t.cuda() for t in batch)\n",
        "\n",
        "      p_inputs = {'input_ids': batch[0],\n",
        "                  'attention_mask': batch[1],\n",
        "                  'token_type_ids': batch[2]\n",
        "                  }\n",
        "      \n",
        "      q_inputs = {'input_ids': batch[3],\n",
        "                  'attention_mask': batch[4],\n",
        "                  'token_type_ids': batch[5]}\n",
        "      \n",
        "      p_outputs = p_model(**p_inputs)  # (batch_size, emb_dim)\n",
        "      q_outputs = q_model(**q_inputs)  # (batch_size, emb_dim)\n",
        "\n",
        "\n",
        "      # Calculate similarity score & loss\n",
        "      sim_scores = torch.matmul(q_outputs, torch.transpose(p_outputs, 0, 1))  # (batch_size, emb_dim) x (emb_dim, batch_size) = (batch_size, batch_size)\n",
        "\n",
        "      # target: position of positive samples = diagonal element \n",
        "      targets = torch.arange(0, args.per_device_train_batch_size).long()\n",
        "      if torch.cuda.is_available():\n",
        "        targets = targets.to('cuda')\n",
        "\n",
        "      sim_scores = F.log_softmax(sim_scores, dim=1)\n",
        "\n",
        "      loss = F.nll_loss(sim_scores, targets)\n",
        "      print(loss)\n",
        "\n",
        "      loss.backward()\n",
        "      optimizer.step()\n",
        "      scheduler.step()\n",
        "      q_model.zero_grad()\n",
        "      p_model.zero_grad()\n",
        "      global_step += 1\n",
        "      \n",
        "      torch.cuda.empty_cache()\n",
        "\n",
        "\n",
        "    \n",
        "  return p_model, q_model\n",
        "\n",
        "\n"
      ],
      "execution_count": null,
      "outputs": []
    },
    {
      "cell_type": "code",
      "metadata": {
        "id": "ICSJoJrUDGZ5"
      },
      "source": [
        "args = TrainingArguments(\n",
        "    output_dir=\"dense_retireval\",\n",
        "    evaluation_strategy=\"epoch\",\n",
        "    learning_rate=2e-5,\n",
        "    per_device_train_batch_size=4,\n",
        "    per_device_eval_batch_size=4,\n",
        "    num_train_epochs=2,\n",
        "    weight_decay=0.01\n",
        ")\n"
      ],
      "execution_count": null,
      "outputs": []
    },
    {
      "cell_type": "code",
      "metadata": {
        "colab": {
          "base_uri": "https://localhost:8080/"
        },
        "id": "E8a7ww3WgsaZ",
        "outputId": "8f98f6cf-8a44-4e4a-928b-836a1b27a772"
      },
      "source": [
        "p_encoder, q_encoder = train(args, train_dataset, p_encoder, q_encoder)"
      ],
      "execution_count": null,
      "outputs": [
        {
          "name": "stderr",
          "output_type": "stream",
          "text": [
            "Epoch:   0%|          | 0/2 [00:00<?, ?it/s]\n",
            "Iteration:   0%|          | 0/32 [00:00<?, ?it/s]\u001b[A"
          ]
        },
        {
          "name": "stdout",
          "output_type": "stream",
          "text": [
            "tensor(32.2463, device='cuda:0', grad_fn=<NllLossBackward>)\n"
          ]
        },
        {
          "name": "stderr",
          "output_type": "stream",
          "text": [
            "\n",
            "Iteration:   3%|▎         | 1/32 [00:01<00:33,  1.07s/it]\u001b[A"
          ]
        },
        {
          "name": "stdout",
          "output_type": "stream",
          "text": [
            "tensor(7.5171, device='cuda:0', grad_fn=<NllLossBackward>)\n"
          ]
        },
        {
          "name": "stderr",
          "output_type": "stream",
          "text": [
            "\n",
            "Iteration:   6%|▋         | 2/32 [00:02<00:32,  1.08s/it]\u001b[A"
          ]
        },
        {
          "name": "stdout",
          "output_type": "stream",
          "text": [
            "tensor(11.6010, device='cuda:0', grad_fn=<NllLossBackward>)\n"
          ]
        },
        {
          "name": "stderr",
          "output_type": "stream",
          "text": [
            "\n",
            "Iteration:   9%|▉         | 3/32 [00:03<00:31,  1.08s/it]\u001b[A"
          ]
        },
        {
          "name": "stdout",
          "output_type": "stream",
          "text": [
            "tensor(3.4258, device='cuda:0', grad_fn=<NllLossBackward>)\n"
          ]
        },
        {
          "name": "stderr",
          "output_type": "stream",
          "text": [
            "\n",
            "Iteration:  12%|█▎        | 4/32 [00:04<00:30,  1.08s/it]\u001b[A"
          ]
        },
        {
          "name": "stdout",
          "output_type": "stream",
          "text": [
            "tensor(2.3988, device='cuda:0', grad_fn=<NllLossBackward>)\n"
          ]
        },
        {
          "name": "stderr",
          "output_type": "stream",
          "text": [
            "\n",
            "Iteration:  16%|█▌        | 5/32 [00:05<00:29,  1.08s/it]\u001b[A"
          ]
        },
        {
          "name": "stdout",
          "output_type": "stream",
          "text": [
            "tensor(1.5510, device='cuda:0', grad_fn=<NllLossBackward>)\n"
          ]
        },
        {
          "name": "stderr",
          "output_type": "stream",
          "text": [
            "\n",
            "Iteration:  19%|█▉        | 6/32 [00:06<00:28,  1.08s/it]\u001b[A"
          ]
        },
        {
          "name": "stdout",
          "output_type": "stream",
          "text": [
            "tensor(3.1626, device='cuda:0', grad_fn=<NllLossBackward>)\n"
          ]
        },
        {
          "name": "stderr",
          "output_type": "stream",
          "text": [
            "\n",
            "Iteration:  22%|██▏       | 7/32 [00:07<00:27,  1.08s/it]\u001b[A"
          ]
        },
        {
          "name": "stdout",
          "output_type": "stream",
          "text": [
            "tensor(1.9077, device='cuda:0', grad_fn=<NllLossBackward>)\n"
          ]
        },
        {
          "name": "stderr",
          "output_type": "stream",
          "text": [
            "\n",
            "Iteration:  25%|██▌       | 8/32 [00:08<00:26,  1.09s/it]\u001b[A"
          ]
        },
        {
          "name": "stdout",
          "output_type": "stream",
          "text": [
            "tensor(2.8511, device='cuda:0', grad_fn=<NllLossBackward>)\n"
          ]
        },
        {
          "name": "stderr",
          "output_type": "stream",
          "text": [
            "\n",
            "Iteration:  28%|██▊       | 9/32 [00:09<00:25,  1.09s/it]\u001b[A"
          ]
        },
        {
          "name": "stdout",
          "output_type": "stream",
          "text": [
            "tensor(2.2383, device='cuda:0', grad_fn=<NllLossBackward>)\n"
          ]
        },
        {
          "name": "stderr",
          "output_type": "stream",
          "text": [
            "\n",
            "Iteration:  31%|███▏      | 10/32 [00:10<00:24,  1.09s/it]\u001b[A"
          ]
        },
        {
          "name": "stdout",
          "output_type": "stream",
          "text": [
            "tensor(1.5784, device='cuda:0', grad_fn=<NllLossBackward>)\n"
          ]
        },
        {
          "name": "stderr",
          "output_type": "stream",
          "text": [
            "\n",
            "Iteration:  34%|███▍      | 11/32 [00:11<00:22,  1.09s/it]\u001b[A"
          ]
        },
        {
          "name": "stdout",
          "output_type": "stream",
          "text": [
            "tensor(1.4731, device='cuda:0', grad_fn=<NllLossBackward>)\n"
          ]
        },
        {
          "name": "stderr",
          "output_type": "stream",
          "text": [
            "\n",
            "Iteration:  38%|███▊      | 12/32 [00:13<00:21,  1.09s/it]\u001b[A"
          ]
        },
        {
          "name": "stdout",
          "output_type": "stream",
          "text": [
            "tensor(1.3120, device='cuda:0', grad_fn=<NllLossBackward>)\n"
          ]
        },
        {
          "name": "stderr",
          "output_type": "stream",
          "text": [
            "\n",
            "Iteration:  41%|████      | 13/32 [00:14<00:20,  1.09s/it]\u001b[A"
          ]
        },
        {
          "name": "stdout",
          "output_type": "stream",
          "text": [
            "tensor(1.7495, device='cuda:0', grad_fn=<NllLossBackward>)\n"
          ]
        },
        {
          "name": "stderr",
          "output_type": "stream",
          "text": [
            "\n",
            "Iteration:  44%|████▍     | 14/32 [00:15<00:19,  1.10s/it]\u001b[A"
          ]
        },
        {
          "name": "stdout",
          "output_type": "stream",
          "text": [
            "tensor(2.0397, device='cuda:0', grad_fn=<NllLossBackward>)\n"
          ]
        },
        {
          "name": "stderr",
          "output_type": "stream",
          "text": [
            "\n",
            "Iteration:  47%|████▋     | 15/32 [00:16<00:18,  1.10s/it]\u001b[A"
          ]
        },
        {
          "name": "stdout",
          "output_type": "stream",
          "text": [
            "tensor(2.2702, device='cuda:0', grad_fn=<NllLossBackward>)\n"
          ]
        },
        {
          "name": "stderr",
          "output_type": "stream",
          "text": [
            "\n",
            "Iteration:  50%|█████     | 16/32 [00:17<00:17,  1.11s/it]\u001b[A"
          ]
        },
        {
          "name": "stdout",
          "output_type": "stream",
          "text": [
            "tensor(1.6097, device='cuda:0', grad_fn=<NllLossBackward>)\n"
          ]
        },
        {
          "name": "stderr",
          "output_type": "stream",
          "text": [
            "\n",
            "Iteration:  53%|█████▎    | 17/32 [00:18<00:16,  1.11s/it]\u001b[A"
          ]
        },
        {
          "name": "stdout",
          "output_type": "stream",
          "text": [
            "tensor(1.3690, device='cuda:0', grad_fn=<NllLossBackward>)\n"
          ]
        },
        {
          "name": "stderr",
          "output_type": "stream",
          "text": [
            "\n",
            "Iteration:  56%|█████▋    | 18/32 [00:19<00:15,  1.11s/it]\u001b[A"
          ]
        },
        {
          "name": "stdout",
          "output_type": "stream",
          "text": [
            "tensor(1.4093, device='cuda:0', grad_fn=<NllLossBackward>)\n"
          ]
        },
        {
          "name": "stderr",
          "output_type": "stream",
          "text": [
            "\n",
            "Iteration:  59%|█████▉    | 19/32 [00:20<00:14,  1.11s/it]\u001b[A"
          ]
        },
        {
          "name": "stdout",
          "output_type": "stream",
          "text": [
            "tensor(1.4360, device='cuda:0', grad_fn=<NllLossBackward>)\n"
          ]
        },
        {
          "name": "stderr",
          "output_type": "stream",
          "text": [
            "\n",
            "Iteration:  62%|██████▎   | 20/32 [00:21<00:13,  1.11s/it]\u001b[A"
          ]
        },
        {
          "name": "stdout",
          "output_type": "stream",
          "text": [
            "tensor(2.0589, device='cuda:0', grad_fn=<NllLossBackward>)\n"
          ]
        },
        {
          "name": "stderr",
          "output_type": "stream",
          "text": [
            "\n",
            "Iteration:  66%|██████▌   | 21/32 [00:23<00:12,  1.11s/it]\u001b[A"
          ]
        },
        {
          "name": "stdout",
          "output_type": "stream",
          "text": [
            "tensor(1.7093, device='cuda:0', grad_fn=<NllLossBackward>)\n"
          ]
        },
        {
          "name": "stderr",
          "output_type": "stream",
          "text": [
            "\n",
            "Iteration:  69%|██████▉   | 22/32 [00:24<00:11,  1.12s/it]\u001b[A"
          ]
        },
        {
          "name": "stdout",
          "output_type": "stream",
          "text": [
            "tensor(2.0336, device='cuda:0', grad_fn=<NllLossBackward>)\n"
          ]
        },
        {
          "name": "stderr",
          "output_type": "stream",
          "text": [
            "\n",
            "Iteration:  72%|███████▏  | 23/32 [00:25<00:10,  1.13s/it]\u001b[A"
          ]
        },
        {
          "name": "stdout",
          "output_type": "stream",
          "text": [
            "tensor(1.3478, device='cuda:0', grad_fn=<NllLossBackward>)\n"
          ]
        },
        {
          "name": "stderr",
          "output_type": "stream",
          "text": [
            "\n",
            "Iteration:  75%|███████▌  | 24/32 [00:26<00:09,  1.13s/it]\u001b[A"
          ]
        },
        {
          "name": "stdout",
          "output_type": "stream",
          "text": [
            "tensor(1.1512, device='cuda:0', grad_fn=<NllLossBackward>)\n"
          ]
        },
        {
          "name": "stderr",
          "output_type": "stream",
          "text": [
            "\n",
            "Iteration:  78%|███████▊  | 25/32 [00:27<00:07,  1.14s/it]\u001b[A"
          ]
        },
        {
          "name": "stdout",
          "output_type": "stream",
          "text": [
            "tensor(2.0699, device='cuda:0', grad_fn=<NllLossBackward>)\n"
          ]
        },
        {
          "name": "stderr",
          "output_type": "stream",
          "text": [
            "\n",
            "Iteration:  81%|████████▏ | 26/32 [00:28<00:06,  1.15s/it]\u001b[A"
          ]
        },
        {
          "name": "stdout",
          "output_type": "stream",
          "text": [
            "tensor(1.3971, device='cuda:0', grad_fn=<NllLossBackward>)\n"
          ]
        },
        {
          "name": "stderr",
          "output_type": "stream",
          "text": [
            "\n",
            "Iteration:  84%|████████▍ | 27/32 [00:29<00:05,  1.15s/it]\u001b[A"
          ]
        },
        {
          "name": "stdout",
          "output_type": "stream",
          "text": [
            "tensor(1.8141, device='cuda:0', grad_fn=<NllLossBackward>)\n"
          ]
        },
        {
          "name": "stderr",
          "output_type": "stream",
          "text": [
            "\n",
            "Iteration:  88%|████████▊ | 28/32 [00:31<00:04,  1.16s/it]\u001b[A"
          ]
        },
        {
          "name": "stdout",
          "output_type": "stream",
          "text": [
            "tensor(1.5161, device='cuda:0', grad_fn=<NllLossBackward>)\n"
          ]
        },
        {
          "name": "stderr",
          "output_type": "stream",
          "text": [
            "\n",
            "Iteration:  91%|█████████ | 29/32 [00:32<00:03,  1.16s/it]\u001b[A"
          ]
        },
        {
          "name": "stdout",
          "output_type": "stream",
          "text": [
            "tensor(1.3845, device='cuda:0', grad_fn=<NllLossBackward>)\n"
          ]
        },
        {
          "name": "stderr",
          "output_type": "stream",
          "text": [
            "\n",
            "Iteration:  94%|█████████▍| 30/32 [00:33<00:02,  1.16s/it]\u001b[A"
          ]
        },
        {
          "name": "stdout",
          "output_type": "stream",
          "text": [
            "tensor(2.3735, device='cuda:0', grad_fn=<NllLossBackward>)\n"
          ]
        },
        {
          "name": "stderr",
          "output_type": "stream",
          "text": [
            "\n",
            "Iteration:  97%|█████████▋| 31/32 [00:34<00:01,  1.17s/it]\u001b[A"
          ]
        },
        {
          "name": "stdout",
          "output_type": "stream",
          "text": [
            "tensor(1.5397, device='cuda:0', grad_fn=<NllLossBackward>)\n"
          ]
        },
        {
          "name": "stderr",
          "output_type": "stream",
          "text": [
            "\n",
            "Iteration: 100%|██████████| 32/32 [00:35<00:00,  1.12s/it]\n",
            "Epoch:  50%|█████     | 1/2 [00:35<00:35, 35.85s/it]\n",
            "Iteration:   0%|          | 0/32 [00:00<?, ?it/s]\u001b[A"
          ]
        },
        {
          "name": "stdout",
          "output_type": "stream",
          "text": [
            "tensor(1.4117, device='cuda:0', grad_fn=<NllLossBackward>)\n"
          ]
        },
        {
          "name": "stderr",
          "output_type": "stream",
          "text": [
            "\n",
            "Iteration:   3%|▎         | 1/32 [00:01<00:36,  1.18s/it]\u001b[A"
          ]
        },
        {
          "name": "stdout",
          "output_type": "stream",
          "text": [
            "tensor(1.4532, device='cuda:0', grad_fn=<NllLossBackward>)\n"
          ]
        },
        {
          "name": "stderr",
          "output_type": "stream",
          "text": [
            "\n",
            "Iteration:   6%|▋         | 2/32 [00:02<00:35,  1.17s/it]\u001b[A"
          ]
        },
        {
          "name": "stdout",
          "output_type": "stream",
          "text": [
            "tensor(1.4826, device='cuda:0', grad_fn=<NllLossBackward>)\n"
          ]
        },
        {
          "name": "stderr",
          "output_type": "stream",
          "text": [
            "\n",
            "Iteration:   9%|▉         | 3/32 [00:03<00:34,  1.18s/it]\u001b[A"
          ]
        },
        {
          "name": "stdout",
          "output_type": "stream",
          "text": [
            "tensor(2.6323, device='cuda:0', grad_fn=<NllLossBackward>)\n"
          ]
        },
        {
          "name": "stderr",
          "output_type": "stream",
          "text": [
            "\n",
            "Iteration:  12%|█▎        | 4/32 [00:04<00:32,  1.17s/it]\u001b[A"
          ]
        },
        {
          "name": "stdout",
          "output_type": "stream",
          "text": [
            "tensor(1.3588, device='cuda:0', grad_fn=<NllLossBackward>)\n"
          ]
        },
        {
          "name": "stderr",
          "output_type": "stream",
          "text": [
            "\n",
            "Iteration:  16%|█▌        | 5/32 [00:05<00:31,  1.17s/it]\u001b[A"
          ]
        },
        {
          "name": "stdout",
          "output_type": "stream",
          "text": [
            "tensor(0.7726, device='cuda:0', grad_fn=<NllLossBackward>)\n"
          ]
        },
        {
          "name": "stderr",
          "output_type": "stream",
          "text": [
            "\n",
            "Iteration:  19%|█▉        | 6/32 [00:07<00:30,  1.17s/it]\u001b[A"
          ]
        },
        {
          "name": "stdout",
          "output_type": "stream",
          "text": [
            "tensor(1.0932, device='cuda:0', grad_fn=<NllLossBackward>)\n"
          ]
        },
        {
          "name": "stderr",
          "output_type": "stream",
          "text": [
            "\n",
            "Iteration:  22%|██▏       | 7/32 [00:08<00:29,  1.16s/it]\u001b[A"
          ]
        },
        {
          "name": "stdout",
          "output_type": "stream",
          "text": [
            "tensor(1.9153, device='cuda:0', grad_fn=<NllLossBackward>)\n"
          ]
        },
        {
          "name": "stderr",
          "output_type": "stream",
          "text": [
            "\n",
            "Iteration:  25%|██▌       | 8/32 [00:09<00:27,  1.16s/it]\u001b[A"
          ]
        },
        {
          "name": "stdout",
          "output_type": "stream",
          "text": [
            "tensor(1.3555, device='cuda:0', grad_fn=<NllLossBackward>)\n"
          ]
        },
        {
          "name": "stderr",
          "output_type": "stream",
          "text": [
            "\n",
            "Iteration:  28%|██▊       | 9/32 [00:10<00:26,  1.16s/it]\u001b[A"
          ]
        },
        {
          "name": "stdout",
          "output_type": "stream",
          "text": [
            "tensor(1.7998, device='cuda:0', grad_fn=<NllLossBackward>)\n"
          ]
        },
        {
          "name": "stderr",
          "output_type": "stream",
          "text": [
            "\n",
            "Iteration:  31%|███▏      | 10/32 [00:11<00:25,  1.15s/it]\u001b[A"
          ]
        },
        {
          "name": "stdout",
          "output_type": "stream",
          "text": [
            "tensor(1.5003, device='cuda:0', grad_fn=<NllLossBackward>)\n"
          ]
        },
        {
          "name": "stderr",
          "output_type": "stream",
          "text": [
            "\n",
            "Iteration:  34%|███▍      | 11/32 [00:12<00:24,  1.14s/it]\u001b[A"
          ]
        },
        {
          "name": "stdout",
          "output_type": "stream",
          "text": [
            "tensor(1.5269, device='cuda:0', grad_fn=<NllLossBackward>)\n"
          ]
        },
        {
          "name": "stderr",
          "output_type": "stream",
          "text": [
            "\n",
            "Iteration:  38%|███▊      | 12/32 [00:13<00:22,  1.14s/it]\u001b[A"
          ]
        },
        {
          "name": "stdout",
          "output_type": "stream",
          "text": [
            "tensor(1.3826, device='cuda:0', grad_fn=<NllLossBackward>)\n"
          ]
        },
        {
          "name": "stderr",
          "output_type": "stream",
          "text": [
            "\n",
            "Iteration:  41%|████      | 13/32 [00:15<00:21,  1.14s/it]\u001b[A"
          ]
        },
        {
          "name": "stdout",
          "output_type": "stream",
          "text": [
            "tensor(1.5955, device='cuda:0', grad_fn=<NllLossBackward>)\n"
          ]
        },
        {
          "name": "stderr",
          "output_type": "stream",
          "text": [
            "\n",
            "Iteration:  44%|████▍     | 14/32 [00:16<00:20,  1.14s/it]\u001b[A"
          ]
        },
        {
          "name": "stdout",
          "output_type": "stream",
          "text": [
            "tensor(1.5773, device='cuda:0', grad_fn=<NllLossBackward>)\n"
          ]
        },
        {
          "name": "stderr",
          "output_type": "stream",
          "text": [
            "\n",
            "Iteration:  47%|████▋     | 15/32 [00:17<00:19,  1.13s/it]\u001b[A"
          ]
        },
        {
          "name": "stdout",
          "output_type": "stream",
          "text": [
            "tensor(1.4181, device='cuda:0', grad_fn=<NllLossBackward>)\n"
          ]
        },
        {
          "name": "stderr",
          "output_type": "stream",
          "text": [
            "\n",
            "Iteration:  50%|█████     | 16/32 [00:18<00:18,  1.13s/it]\u001b[A"
          ]
        },
        {
          "name": "stdout",
          "output_type": "stream",
          "text": [
            "tensor(1.5239, device='cuda:0', grad_fn=<NllLossBackward>)\n"
          ]
        },
        {
          "name": "stderr",
          "output_type": "stream",
          "text": [
            "\n",
            "Iteration:  53%|█████▎    | 17/32 [00:19<00:16,  1.12s/it]\u001b[A"
          ]
        },
        {
          "name": "stdout",
          "output_type": "stream",
          "text": [
            "tensor(1.4001, device='cuda:0', grad_fn=<NllLossBackward>)\n"
          ]
        },
        {
          "name": "stderr",
          "output_type": "stream",
          "text": [
            "\n",
            "Iteration:  56%|█████▋    | 18/32 [00:20<00:15,  1.12s/it]\u001b[A"
          ]
        },
        {
          "name": "stdout",
          "output_type": "stream",
          "text": [
            "tensor(1.5998, device='cuda:0', grad_fn=<NllLossBackward>)\n"
          ]
        },
        {
          "name": "stderr",
          "output_type": "stream",
          "text": [
            "\n",
            "Iteration:  59%|█████▉    | 19/32 [00:21<00:14,  1.12s/it]\u001b[A"
          ]
        },
        {
          "name": "stdout",
          "output_type": "stream",
          "text": [
            "tensor(1.7401, device='cuda:0', grad_fn=<NllLossBackward>)\n"
          ]
        },
        {
          "name": "stderr",
          "output_type": "stream",
          "text": [
            "\n",
            "Iteration:  62%|██████▎   | 20/32 [00:22<00:13,  1.12s/it]\u001b[A"
          ]
        },
        {
          "name": "stdout",
          "output_type": "stream",
          "text": [
            "tensor(1.4382, device='cuda:0', grad_fn=<NllLossBackward>)\n"
          ]
        },
        {
          "name": "stderr",
          "output_type": "stream",
          "text": [
            "\n",
            "Iteration:  66%|██████▌   | 21/32 [00:23<00:12,  1.11s/it]\u001b[A"
          ]
        },
        {
          "name": "stdout",
          "output_type": "stream",
          "text": [
            "tensor(1.5681, device='cuda:0', grad_fn=<NllLossBackward>)\n"
          ]
        },
        {
          "name": "stderr",
          "output_type": "stream",
          "text": [
            "\n",
            "Iteration:  69%|██████▉   | 22/32 [00:25<00:11,  1.11s/it]\u001b[A"
          ]
        },
        {
          "name": "stdout",
          "output_type": "stream",
          "text": [
            "tensor(1.5597, device='cuda:0', grad_fn=<NllLossBackward>)\n"
          ]
        },
        {
          "name": "stderr",
          "output_type": "stream",
          "text": [
            "\n",
            "Iteration:  72%|███████▏  | 23/32 [00:26<00:09,  1.11s/it]\u001b[A"
          ]
        },
        {
          "name": "stdout",
          "output_type": "stream",
          "text": [
            "tensor(1.3345, device='cuda:0', grad_fn=<NllLossBackward>)\n"
          ]
        },
        {
          "name": "stderr",
          "output_type": "stream",
          "text": [
            "\n",
            "Iteration:  75%|███████▌  | 24/32 [00:27<00:08,  1.11s/it]\u001b[A"
          ]
        },
        {
          "name": "stdout",
          "output_type": "stream",
          "text": [
            "tensor(1.2730, device='cuda:0', grad_fn=<NllLossBackward>)\n"
          ]
        },
        {
          "name": "stderr",
          "output_type": "stream",
          "text": [
            "\n",
            "Iteration:  78%|███████▊  | 25/32 [00:28<00:07,  1.11s/it]\u001b[A"
          ]
        },
        {
          "name": "stdout",
          "output_type": "stream",
          "text": [
            "tensor(1.7631, device='cuda:0', grad_fn=<NllLossBackward>)\n"
          ]
        },
        {
          "name": "stderr",
          "output_type": "stream",
          "text": [
            "\n",
            "Iteration:  81%|████████▏ | 26/32 [00:29<00:06,  1.11s/it]\u001b[A"
          ]
        },
        {
          "name": "stdout",
          "output_type": "stream",
          "text": [
            "tensor(1.8818, device='cuda:0', grad_fn=<NllLossBackward>)\n"
          ]
        },
        {
          "name": "stderr",
          "output_type": "stream",
          "text": [
            "\n",
            "Iteration:  84%|████████▍ | 27/32 [00:30<00:05,  1.10s/it]\u001b[A"
          ]
        },
        {
          "name": "stdout",
          "output_type": "stream",
          "text": [
            "tensor(2.7091, device='cuda:0', grad_fn=<NllLossBackward>)\n"
          ]
        },
        {
          "name": "stderr",
          "output_type": "stream",
          "text": [
            "\n",
            "Iteration:  88%|████████▊ | 28/32 [00:31<00:04,  1.10s/it]\u001b[A"
          ]
        },
        {
          "name": "stdout",
          "output_type": "stream",
          "text": [
            "tensor(1.5078, device='cuda:0', grad_fn=<NllLossBackward>)\n"
          ]
        },
        {
          "name": "stderr",
          "output_type": "stream",
          "text": [
            "\n",
            "Iteration:  91%|█████████ | 29/32 [00:32<00:03,  1.11s/it]\u001b[A"
          ]
        },
        {
          "name": "stdout",
          "output_type": "stream",
          "text": [
            "tensor(1.3712, device='cuda:0', grad_fn=<NllLossBackward>)\n"
          ]
        },
        {
          "name": "stderr",
          "output_type": "stream",
          "text": [
            "\n",
            "Iteration:  94%|█████████▍| 30/32 [00:33<00:02,  1.11s/it]\u001b[A"
          ]
        },
        {
          "name": "stdout",
          "output_type": "stream",
          "text": [
            "tensor(1.4023, device='cuda:0', grad_fn=<NllLossBackward>)\n"
          ]
        },
        {
          "name": "stderr",
          "output_type": "stream",
          "text": [
            "\n",
            "Iteration:  97%|█████████▋| 31/32 [00:35<00:01,  1.11s/it]\u001b[A"
          ]
        },
        {
          "name": "stdout",
          "output_type": "stream",
          "text": [
            "tensor(1.5262, device='cuda:0', grad_fn=<NllLossBackward>)\n"
          ]
        },
        {
          "name": "stderr",
          "output_type": "stream",
          "text": [
            "\n",
            "Iteration: 100%|██████████| 32/32 [00:36<00:00,  1.13s/it]\n",
            "Epoch: 100%|██████████| 2/2 [01:11<00:00, 35.99s/it]\n"
          ]
        }
      ]
    },
    {
      "cell_type": "markdown",
      "metadata": {
        "id": "BGOw-k7Ln85t"
      },
      "source": [
        "## Dense Embedding을 활용하여 passage retrieval 실습해보기"
      ]
    },
    {
      "cell_type": "code",
      "metadata": {
        "colab": {
          "base_uri": "https://localhost:8080/"
        },
        "id": "NouB9uBcTaws",
        "outputId": "f2446b6c-3008-4350-be54-140b194a1a07"
      },
      "source": [
        "\n",
        "valid_corpus = list(set([example['context'] for example in dataset['validation']]))[:10]\n",
        "sample_idx = random.choice(range(len(dataset['validation'])))\n",
        "query = dataset['validation'][sample_idx]['question']\n",
        "ground_truth = dataset['validation'][sample_idx]['context']\n",
        "\n",
        "if not ground_truth in valid_corpus:\n",
        "  valid_corpus.append(ground_truth)\n",
        "\n",
        "print(query)\n",
        "print(ground_truth, '\\n\\n')\n",
        "\n",
        "# valid_corpus"
      ],
      "execution_count": null,
      "outputs": [
        {
          "name": "stdout",
          "output_type": "stream",
          "text": [
            "유아인에게 타고난 배우라고 말한 드라마 밀회의 감독은?\n",
            "화보 촬영을 위해 미국에 있을 때, 김희애의 연락을 통해 JTBC 드라마 《밀회》의 캐스팅을 제안받았다. 당시 영화 《베테랑》에 이미 캐스팅된 상태였으나, 유아인은 류승완 감독과 제작사의 양해를 얻어 《밀회》에 출연한다. 천재 피아니스트 ‘이선재’ 역할을 위해 피아니스트들의 영상을 보고 곡의 스피드와 건반 위치 등을 외워 실제 타건을 하며 촬영했다. 피아노 울림판을 수건으로 막고 타건을 하면, 그 후 대역 피아니스트의 소리를 덧입히는 방식이었다. 《밀회》는 작품성을 인정받고 숱한 화제를 낳으며 당시 종편으로서는 높은 시청률을 기록했다. 유아인은 섬세한 연기력을 선보여 순수함으로 시청자들을 매료시켰다는 호평을 얻었고, 특히 피아노 연주에 있어서 클래식 종사자들에게 인정을 받았다. 연출을 맡은 안판석 감독은 유아인에 대해 “느낌으로만 연기를 하는 게 아니고 감성을 지적으로 통제해 가면서 연기한다. 그 나이에”라며 “타고난 배우”라고 말했다. 유아인은 《밀회》를 통해 예술적인 면모를 구체화할 수 있어서 만족감을 느꼈다고 밝혔으며, 종영 후 자신의 페이스북 계정에 긴 소감글을 남겼다. 특히 ‘이선재’ 캐릭터를 배우 유아인이 가진 소년성의 엑기스로 생각하며, 2015년 10월 부산국제영화제 오픈토크에서는 본인이 가장 좋아하는 캐릭터로 꼽았다. \n",
            "\n",
            "\n"
          ]
        }
      ]
    },
    {
      "cell_type": "markdown",
      "metadata": {
        "id": "05D8GzFrJhHO"
      },
      "source": [
        "앞서 학습한 passage encoder, question encoder을 이용해 dense embedding 생성"
      ]
    },
    {
      "cell_type": "code",
      "metadata": {
        "id": "ba-hH3NQOEWJ"
      },
      "source": [
        "def to_cuda(batch):\n",
        "  return tuple(t.cuda() for t in batch)"
      ],
      "execution_count": null,
      "outputs": []
    },
    {
      "cell_type": "code",
      "metadata": {
        "colab": {
          "base_uri": "https://localhost:8080/"
        },
        "id": "YufA_ayPJBRg",
        "outputId": "fa600009-393a-4f93-871e-bff93675d05e"
      },
      "source": [
        "with torch.no_grad():\n",
        "  p_encoder.eval()\n",
        "  q_encoder.eval()\n",
        "\n",
        "  q_seqs_val = tokenizer([query], padding=\"max_length\", truncation=True, return_tensors='pt').to('cuda')\n",
        "  q_emb = q_encoder(**q_seqs_val).to('cpu')  #(num_query, emb_dim)\n",
        "\n",
        "  p_embs = []\n",
        "  for p in valid_corpus:\n",
        "    p = tokenizer(p, padding=\"max_length\", truncation=True, return_tensors='pt').to('cuda')\n",
        "    p_emb = p_encoder(**p).to('cpu').numpy()\n",
        "    p_embs.append(p_emb)\n",
        "\n",
        "p_embs = torch.Tensor(p_embs).squeeze()  # (num_passage, emb_dim)\n",
        "\n",
        "print(p_embs.size(), q_emb.size())"
      ],
      "execution_count": null,
      "outputs": [
        {
          "name": "stdout",
          "output_type": "stream",
          "text": [
            "torch.Size([11, 768]) torch.Size([1, 768])\n"
          ]
        }
      ]
    },
    {
      "cell_type": "markdown",
      "metadata": {
        "id": "_Ddf3xxmOKD-"
      },
      "source": [
        "11->이건, passage embedding matrix크기(10+1(question))\n",
        "1 ->이건 question 개수\n",
        "768 -> 이건 embedding size"
      ]
    },
    {
      "cell_type": "markdown",
      "metadata": {
        "id": "pOHHak7WS1ko"
      },
      "source": [
        "생성된 embedding에 dot product를 수행 => Document들의 similarity ranking을 구함"
      ]
    },
    {
      "cell_type": "code",
      "metadata": {
        "colab": {
          "base_uri": "https://localhost:8080/"
        },
        "id": "xn5Cx5JkKZJB",
        "outputId": "eb232f4f-bdae-474d-b630-a13d0b563364"
      },
      "source": [
        "dot_prod_scores = torch.matmul(q_emb, torch.transpose(p_embs, 0, 1))\n",
        "print(dot_prod_scores.size())\n",
        "\n",
        "rank = torch.argsort(dot_prod_scores, dim=1, descending=True).squeeze()\n",
        "print(dot_prod_scores)\n",
        "print(rank)"
      ],
      "execution_count": null,
      "outputs": [
        {
          "name": "stdout",
          "output_type": "stream",
          "text": [
            "torch.Size([1, 11])\n",
            "tensor([[22.0175, 22.0863, 21.9051, 21.7622, 22.2768, 22.1047, 21.9458, 22.1937,\n",
            "         22.1052, 22.4834, 22.4642]])\n",
            "tensor([ 9, 10,  4,  7,  8,  5,  1,  0,  6,  2,  3])\n"
          ]
        }
      ]
    },
    {
      "cell_type": "markdown",
      "metadata": {
        "id": "CIISAY-aOuZG"
      },
      "source": [
        "torch.Size([1,11]) 은 11개 문서에 대한 유사도점수를 각각 dimension이 담고 있다<br>\n",
        "argsort로 rank를 매긴다\n"
      ]
    },
    {
      "cell_type": "markdown",
      "metadata": {
        "id": "Oq2Oiv8MKVS6"
      },
      "source": [
        "Top-5개의 passage를 retrieve 하고 ground truth와 비교하기"
      ]
    },
    {
      "cell_type": "code",
      "metadata": {
        "colab": {
          "base_uri": "https://localhost:8080/"
        },
        "id": "WaStRXYdJ-wI",
        "outputId": "bbf42d40-dfae-49ff-bf12-139452b5849f"
      },
      "source": [
        "k = 5\n",
        "print(\"[Search query]\\n\", query, \"\\n\")\n",
        "print(\"[Ground truth passage]\")\n",
        "print(ground_truth, \"\\n\")\n",
        "\n",
        "for i in range(k):\n",
        "  print(\"Top-%d passage with score %.4f\" % (i+1, dot_prod_scores.squeeze()[rank[i]]))\n",
        "  print(valid_corpus[rank[i]])"
      ],
      "execution_count": null,
      "outputs": [
        {
          "name": "stdout",
          "output_type": "stream",
          "text": [
            "[Search query]\n",
            " 유아인에게 타고난 배우라고 말한 드라마 밀회의 감독은? \n",
            "\n",
            "[Ground truth passage]\n",
            "화보 촬영을 위해 미국에 있을 때, 김희애의 연락을 통해 JTBC 드라마 《밀회》의 캐스팅을 제안받았다. 당시 영화 《베테랑》에 이미 캐스팅된 상태였으나, 유아인은 류승완 감독과 제작사의 양해를 얻어 《밀회》에 출연한다. 천재 피아니스트 ‘이선재’ 역할을 위해 피아니스트들의 영상을 보고 곡의 스피드와 건반 위치 등을 외워 실제 타건을 하며 촬영했다. 피아노 울림판을 수건으로 막고 타건을 하면, 그 후 대역 피아니스트의 소리를 덧입히는 방식이었다. 《밀회》는 작품성을 인정받고 숱한 화제를 낳으며 당시 종편으로서는 높은 시청률을 기록했다. 유아인은 섬세한 연기력을 선보여 순수함으로 시청자들을 매료시켰다는 호평을 얻었고, 특히 피아노 연주에 있어서 클래식 종사자들에게 인정을 받았다. 연출을 맡은 안판석 감독은 유아인에 대해 “느낌으로만 연기를 하는 게 아니고 감성을 지적으로 통제해 가면서 연기한다. 그 나이에”라며 “타고난 배우”라고 말했다. 유아인은 《밀회》를 통해 예술적인 면모를 구체화할 수 있어서 만족감을 느꼈다고 밝혔으며, 종영 후 자신의 페이스북 계정에 긴 소감글을 남겼다. 특히 ‘이선재’ 캐릭터를 배우 유아인이 가진 소년성의 엑기스로 생각하며, 2015년 10월 부산국제영화제 오픈토크에서는 본인이 가장 좋아하는 캐릭터로 꼽았다. \n",
            "\n",
            "Top-1 passage with score 22.4834\n",
            "2010년 4월에는 유럽발 재정위기가 발생하면서 또 한 번 세계경제는 대침체에 빠졌다. 또한 2011년 8월에는 S&P에 의해 미국의 국가신용등급이 강등되면서 세계 경제는 또 한 번의 충격에 빠졌다. 이에 중국, 일본과 맺은 통화스와프를 확대하고 균형재정을 선언하는 등 위기극복에 나섰다. 그 결과 한국은 2012년 8월 무디스, 피치, S&P등 3대 신용평가사로부터 사상 최고의 국가신용등급을 받았고, 특히 피치로부터 받은 국가신용등급은 사상 처음으로 중국과 일본을 앞섰다. 가장 논란이 된 것은 4대강 살리기 사업으로 반대 진영은 경제효과 의문, 녹조 등 환경파괴, 부실공사, 공기업, 부실재정, 유지보수비용, 기업의 입찰담합 등을 주장하며 대대적인 비난에 나섰다. 그러나 2015년에 대법원은 한강, 낙동강, 금강 영산강에서 진행된 4대강 사업 모두 적법 판결을 내렸다. 또한 2015년에는 4대강 보의 물을 가뭄지역에 공급하는 사업이 추진되기도 하였다. 대북 정책에 있어서는 금강산 관광객 피격 사망 사건, 천안함·연평도 포격 사건 및 북핵 문제 등과 같은 북한의 도발에 대해 금강산 관광 중단, 5.24조치 실시 등 강력한 대북경제제재를 취하며 국제사회에 공조 하여 대북압박에 나섰다. 또한 다른 한편으로 북한이 대북지원을 요구하며 수차례 집요하게 남북 정상회담 개최를 요구해 왔지만 원칙 있는 대북 정책을 위해 이를 거부했다.\n",
            "Top-2 passage with score 22.4642\n",
            "화보 촬영을 위해 미국에 있을 때, 김희애의 연락을 통해 JTBC 드라마 《밀회》의 캐스팅을 제안받았다. 당시 영화 《베테랑》에 이미 캐스팅된 상태였으나, 유아인은 류승완 감독과 제작사의 양해를 얻어 《밀회》에 출연한다. 천재 피아니스트 ‘이선재’ 역할을 위해 피아니스트들의 영상을 보고 곡의 스피드와 건반 위치 등을 외워 실제 타건을 하며 촬영했다. 피아노 울림판을 수건으로 막고 타건을 하면, 그 후 대역 피아니스트의 소리를 덧입히는 방식이었다. 《밀회》는 작품성을 인정받고 숱한 화제를 낳으며 당시 종편으로서는 높은 시청률을 기록했다. 유아인은 섬세한 연기력을 선보여 순수함으로 시청자들을 매료시켰다는 호평을 얻었고, 특히 피아노 연주에 있어서 클래식 종사자들에게 인정을 받았다. 연출을 맡은 안판석 감독은 유아인에 대해 “느낌으로만 연기를 하는 게 아니고 감성을 지적으로 통제해 가면서 연기한다. 그 나이에”라며 “타고난 배우”라고 말했다. 유아인은 《밀회》를 통해 예술적인 면모를 구체화할 수 있어서 만족감을 느꼈다고 밝혔으며, 종영 후 자신의 페이스북 계정에 긴 소감글을 남겼다. 특히 ‘이선재’ 캐릭터를 배우 유아인이 가진 소년성의 엑기스로 생각하며, 2015년 10월 부산국제영화제 오픈토크에서는 본인이 가장 좋아하는 캐릭터로 꼽았다.\n",
            "Top-3 passage with score 22.2768\n",
            "일본 제국의 패망 이후, 일본 안에서도 천황이 전범으로 재판을 받아야 하며 쇼와 천황이 물러나야 한다는 여론이 진보계 지식인들 사이에서 퍼지기 시작했다. 1946년 12월 도쿄 대학 총장 난바라 시게루는 의회에 출석해 천황제의 폐지를 주장했으며 시인인 미요시 다쓰지는 국민을 퇴폐로부터 헤어나오게 하기 위해서는 전쟁의 최고 책임자인 쇼와 천황이 물러나는 것이 최선이라는 글을 발표했다. 시데하라 기주로 내각에서 문부대신을 지낸 철학자 아베 요시시게는 “국민에게 복종을 강요하는 천황 스스로가 책임이 없다고 하는 것은 모순”이라고 비판했으며, 쇼와 천황의 측근이었던 기도 고이치도 샌프란시스코 강화조약의 체결을 앞두고 “황실의 안녕을 위해 쇼와 천황이 물러나는 게 좋을 것 같다”는 말을 했다.\n",
            "Top-4 passage with score 22.1937\n",
            "이어 10월 15일 부산대학교 학생들에 의해 민주선언문이 배포되고, 다음 날인 10월 16일에는 다른 대학교의 학생들과 시민들이 가담하여 대규모 독재타도, 반정부시위가 시작됐다. 10월 16일과 10월 17일 부산에서는 김영삼에 대한 정치탄압 중단과 유신정권 타도 등을 외쳤고 10월 18일과 10월 19일에는 경상남도 마산시 및 창원시 지역으로 시위가 확산되었다. 10월 16일 오후 김영삼은 상도동 자택에서 부산에서 걸려온 전화를 받고 부마 사태 소식을 접하였다. 김영삼의 제명은 부마 항쟁을 촉발했고, 이는 유신 정권 종식의 계기가 되었다. 한편 유신 후반기에 그는 '닭의 모가지를 비틀어도 새벽은 반드시 온다.'고 했는데, 10.26 사태 이후 그의 이 발언이 널리 회자화되기도 했다.\n",
            "Top-5 passage with score 22.1052\n",
            "1991년 변호사를 개업했고, 얼마 되지 않아 인천 산곡동 경남아파트 주민집단소송 사건을 수임하였다. 건설사가 아파트의 간격을 기준보다 가깝게 지어 햇볕이 들지 않아 정상적 생활이 불가능한 상황이 발생하였다. 건설사와 보상 협의를 시도했으나 결렬되었고, 구청에도 요청했으나 소용이 없었다. 이에 주민들은 서울 남부지법에 공동으로 민사소송을 제기하게 된다. 당시 헌법35조에 명시된 환경권은 그저 조문일 뿐 형사·민사상 판례는 전무하였다. 이에 오세훈 변호사는 같은 대륙법계 국가인 옆나라 일본의 건축기본법과 판례를 연구해 변론자료로 사용하였고, 한국감정원의 감정촉탁의뢰, 그리고 서울대 건축공학과 김광우 교수를 감정인으로 선임하여 과학적인 피해보상액을 산정하였다. 결국 2년 6개월에 걸친 법정싸움 끝에 1심에서 재판부는 주민들의 손을 들어 주고 건설사가 주민들에게 총 13억원을 배상하라는 판결을 내렸다. 이에 건설사는 대표변호사로 오성환 전 대법관을 수임하여 서울 고등법원에 항소하였으나, 2년 후 서울고등법원 항소심에서도 주민들의 손을 들어주었다. 이는 헌법 조문상으로만 존재했던 환경권이 실질적 권리로 인정받은 대한민국 최초의 사건이었고, 법원은 구체적인 일조권 침해의 기준을 마련하게 되었다. 당시 건축법시행령 제86조 제2호 (나) 목에 의하면 연속하여 일조를 확보하는 기준을 건축조례에 위임한다고 되어 있었지만, 당시 지방자치단체에는 관련 조례가 전무하였다. 그리하여 일조권을 침해받아도 행정기관으로부터 '법적 하자가 없다'고 반문하면 아무것도 할 수 없었지만, 이 판결을 계기로 '동지일을 기준으로 9시부터 15시까지 6시간동안 일조시간이 2시간 이상 연속으로 확보되어야 한다'는 구체적인 기준이 마련됨에 따라 피해보상을 받을 수 있는 길이 열리게 되었다. 이러한 경험을 바탕으로 한국토지공법학회 학술저널에 '일조권에 대한 사법적 검토'라는 제목의 학술논문을 게재하였다. 본격적으로 오세훈은 환경 변호사로 이름을 알리기 시작했다. 1997년 서울시 구로구 재건축현장에서 고층 아파트에 가려 주변 단독주택 거주자들의 일조권이 침해당한 사건이 발생하였을 때도 1심에선 이미 패소한 상황에서 오세훈 변호사는 2심에서 공사중지 판결을 이끌어냈다.\n"
          ]
        }
      ]
    }
  ]
}