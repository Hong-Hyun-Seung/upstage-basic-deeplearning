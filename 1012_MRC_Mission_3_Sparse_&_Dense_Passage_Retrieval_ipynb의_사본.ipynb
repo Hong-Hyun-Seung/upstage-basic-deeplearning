{
  "nbformat": 4,
  "nbformat_minor": 0,
  "metadata": {
    "accelerator": "GPU",
    "colab": {
      "name": "1012_MRC Mission 3 - Sparse & Dense Passage Retrieval.ipynb의 사본",
      "provenance": [],
      "collapsed_sections": [],
      "include_colab_link": true
    },
    "kernelspec": {
      "name": "python3",
      "display_name": "Python 3.9.6 64-bit ('mrc2': conda)"
    },
    "language_info": {
      "codemirror_mode": {
        "name": "ipython",
        "version": 3
      },
      "file_extension": ".py",
      "mimetype": "text/x-python",
      "name": "python",
      "nbconvert_exporter": "python",
      "pygments_lexer": "ipython3",
      "version": "3.9.6"
    },
    "toc": {
      "base_numbering": 1,
      "nav_menu": {},
      "number_sections": false,
      "sideBar": true,
      "skip_h1_title": false,
      "title_cell": "Table of Contents",
      "title_sidebar": "Contents",
      "toc_cell": false,
      "toc_position": {
        "height": "calc(100% - 180px)",
        "left": "10px",
        "top": "150px",
        "width": "439.071px"
      },
      "toc_section_display": true,
      "toc_window_display": false
    },
    "widgets": {
      "application/vnd.jupyter.widget-state+json": {
        "e4d15294b4ec4d83aafe823f281ff920": {
          "model_module": "@jupyter-widgets/controls",
          "model_name": "HBoxModel",
          "model_module_version": "1.5.0",
          "state": {
            "_view_name": "HBoxView",
            "_dom_classes": [],
            "_model_name": "HBoxModel",
            "_view_module": "@jupyter-widgets/controls",
            "_model_module_version": "1.5.0",
            "_view_count": null,
            "_view_module_version": "1.5.0",
            "box_style": "",
            "layout": "IPY_MODEL_4da7dc53d7f94d679f734e5f43c5f073",
            "_model_module": "@jupyter-widgets/controls",
            "children": [
              "IPY_MODEL_5122a7f81b6642059a1b3f50707525c1",
              "IPY_MODEL_35d43c98ecae4bad9e74bfc6beec1381"
            ]
          }
        },
        "4da7dc53d7f94d679f734e5f43c5f073": {
          "model_module": "@jupyter-widgets/base",
          "model_name": "LayoutModel",
          "model_module_version": "1.2.0",
          "state": {
            "_view_name": "LayoutView",
            "grid_template_rows": null,
            "right": null,
            "justify_content": null,
            "_view_module": "@jupyter-widgets/base",
            "overflow": null,
            "_model_module_version": "1.2.0",
            "_view_count": null,
            "flex_flow": null,
            "width": null,
            "min_width": null,
            "border": null,
            "align_items": null,
            "bottom": null,
            "_model_module": "@jupyter-widgets/base",
            "top": null,
            "grid_column": null,
            "overflow_y": null,
            "overflow_x": null,
            "grid_auto_flow": null,
            "grid_area": null,
            "grid_template_columns": null,
            "flex": null,
            "_model_name": "LayoutModel",
            "justify_items": null,
            "grid_row": null,
            "max_height": null,
            "align_content": null,
            "visibility": null,
            "align_self": null,
            "height": null,
            "min_height": null,
            "padding": null,
            "grid_auto_rows": null,
            "grid_gap": null,
            "max_width": null,
            "order": null,
            "_view_module_version": "1.2.0",
            "grid_template_areas": null,
            "object_position": null,
            "object_fit": null,
            "grid_auto_columns": null,
            "margin": null,
            "display": null,
            "left": null
          }
        },
        "5122a7f81b6642059a1b3f50707525c1": {
          "model_module": "@jupyter-widgets/controls",
          "model_name": "FloatProgressModel",
          "model_module_version": "1.5.0",
          "state": {
            "_view_name": "ProgressView",
            "style": "IPY_MODEL_02b8d43770dd432899f02974fb1941c1",
            "_dom_classes": [],
            "description": "Downloading: ",
            "_model_name": "FloatProgressModel",
            "bar_style": "success",
            "max": 1745,
            "_view_module": "@jupyter-widgets/controls",
            "_model_module_version": "1.5.0",
            "value": 1745,
            "_view_count": null,
            "_view_module_version": "1.5.0",
            "orientation": "horizontal",
            "min": 0,
            "description_tooltip": null,
            "_model_module": "@jupyter-widgets/controls",
            "layout": "IPY_MODEL_e1e0293e630f4a37b8c0af52d274f551"
          }
        },
        "35d43c98ecae4bad9e74bfc6beec1381": {
          "model_module": "@jupyter-widgets/controls",
          "model_name": "HTMLModel",
          "model_module_version": "1.5.0",
          "state": {
            "_view_name": "HTMLView",
            "style": "IPY_MODEL_e1a79cab9aa247229e1e78a91282768c",
            "_dom_classes": [],
            "description": "",
            "_model_name": "HTMLModel",
            "placeholder": "​",
            "_view_module": "@jupyter-widgets/controls",
            "_model_module_version": "1.5.0",
            "value": " 4.56k/? [00:02&lt;00:00, 1.65kB/s]",
            "_view_count": null,
            "_view_module_version": "1.5.0",
            "description_tooltip": null,
            "_model_module": "@jupyter-widgets/controls",
            "layout": "IPY_MODEL_503c173890614a55bdfe2f00c6e6d98b"
          }
        },
        "02b8d43770dd432899f02974fb1941c1": {
          "model_module": "@jupyter-widgets/controls",
          "model_name": "ProgressStyleModel",
          "model_module_version": "1.5.0",
          "state": {
            "_view_name": "StyleView",
            "_model_name": "ProgressStyleModel",
            "description_width": "initial",
            "_view_module": "@jupyter-widgets/base",
            "_model_module_version": "1.5.0",
            "_view_count": null,
            "_view_module_version": "1.2.0",
            "bar_color": null,
            "_model_module": "@jupyter-widgets/controls"
          }
        },
        "e1e0293e630f4a37b8c0af52d274f551": {
          "model_module": "@jupyter-widgets/base",
          "model_name": "LayoutModel",
          "model_module_version": "1.2.0",
          "state": {
            "_view_name": "LayoutView",
            "grid_template_rows": null,
            "right": null,
            "justify_content": null,
            "_view_module": "@jupyter-widgets/base",
            "overflow": null,
            "_model_module_version": "1.2.0",
            "_view_count": null,
            "flex_flow": null,
            "width": null,
            "min_width": null,
            "border": null,
            "align_items": null,
            "bottom": null,
            "_model_module": "@jupyter-widgets/base",
            "top": null,
            "grid_column": null,
            "overflow_y": null,
            "overflow_x": null,
            "grid_auto_flow": null,
            "grid_area": null,
            "grid_template_columns": null,
            "flex": null,
            "_model_name": "LayoutModel",
            "justify_items": null,
            "grid_row": null,
            "max_height": null,
            "align_content": null,
            "visibility": null,
            "align_self": null,
            "height": null,
            "min_height": null,
            "padding": null,
            "grid_auto_rows": null,
            "grid_gap": null,
            "max_width": null,
            "order": null,
            "_view_module_version": "1.2.0",
            "grid_template_areas": null,
            "object_position": null,
            "object_fit": null,
            "grid_auto_columns": null,
            "margin": null,
            "display": null,
            "left": null
          }
        },
        "e1a79cab9aa247229e1e78a91282768c": {
          "model_module": "@jupyter-widgets/controls",
          "model_name": "DescriptionStyleModel",
          "model_module_version": "1.5.0",
          "state": {
            "_view_name": "StyleView",
            "_model_name": "DescriptionStyleModel",
            "description_width": "",
            "_view_module": "@jupyter-widgets/base",
            "_model_module_version": "1.5.0",
            "_view_count": null,
            "_view_module_version": "1.2.0",
            "_model_module": "@jupyter-widgets/controls"
          }
        },
        "503c173890614a55bdfe2f00c6e6d98b": {
          "model_module": "@jupyter-widgets/base",
          "model_name": "LayoutModel",
          "model_module_version": "1.2.0",
          "state": {
            "_view_name": "LayoutView",
            "grid_template_rows": null,
            "right": null,
            "justify_content": null,
            "_view_module": "@jupyter-widgets/base",
            "overflow": null,
            "_model_module_version": "1.2.0",
            "_view_count": null,
            "flex_flow": null,
            "width": null,
            "min_width": null,
            "border": null,
            "align_items": null,
            "bottom": null,
            "_model_module": "@jupyter-widgets/base",
            "top": null,
            "grid_column": null,
            "overflow_y": null,
            "overflow_x": null,
            "grid_auto_flow": null,
            "grid_area": null,
            "grid_template_columns": null,
            "flex": null,
            "_model_name": "LayoutModel",
            "justify_items": null,
            "grid_row": null,
            "max_height": null,
            "align_content": null,
            "visibility": null,
            "align_self": null,
            "height": null,
            "min_height": null,
            "padding": null,
            "grid_auto_rows": null,
            "grid_gap": null,
            "max_width": null,
            "order": null,
            "_view_module_version": "1.2.0",
            "grid_template_areas": null,
            "object_position": null,
            "object_fit": null,
            "grid_auto_columns": null,
            "margin": null,
            "display": null,
            "left": null
          }
        },
        "cbd60cede7b14aa49d2065872ff8a331": {
          "model_module": "@jupyter-widgets/controls",
          "model_name": "HBoxModel",
          "model_module_version": "1.5.0",
          "state": {
            "_view_name": "HBoxView",
            "_dom_classes": [],
            "_model_name": "HBoxModel",
            "_view_module": "@jupyter-widgets/controls",
            "_model_module_version": "1.5.0",
            "_view_count": null,
            "_view_module_version": "1.5.0",
            "box_style": "",
            "layout": "IPY_MODEL_2596783f97c24e4ca2266442e3b49d26",
            "_model_module": "@jupyter-widgets/controls",
            "children": [
              "IPY_MODEL_e6850f8cd05948be8a9cbac0db7a5fb5",
              "IPY_MODEL_d724b4185c2c4d5a849a15264ba45886"
            ]
          }
        },
        "2596783f97c24e4ca2266442e3b49d26": {
          "model_module": "@jupyter-widgets/base",
          "model_name": "LayoutModel",
          "model_module_version": "1.2.0",
          "state": {
            "_view_name": "LayoutView",
            "grid_template_rows": null,
            "right": null,
            "justify_content": null,
            "_view_module": "@jupyter-widgets/base",
            "overflow": null,
            "_model_module_version": "1.2.0",
            "_view_count": null,
            "flex_flow": null,
            "width": null,
            "min_width": null,
            "border": null,
            "align_items": null,
            "bottom": null,
            "_model_module": "@jupyter-widgets/base",
            "top": null,
            "grid_column": null,
            "overflow_y": null,
            "overflow_x": null,
            "grid_auto_flow": null,
            "grid_area": null,
            "grid_template_columns": null,
            "flex": null,
            "_model_name": "LayoutModel",
            "justify_items": null,
            "grid_row": null,
            "max_height": null,
            "align_content": null,
            "visibility": null,
            "align_self": null,
            "height": null,
            "min_height": null,
            "padding": null,
            "grid_auto_rows": null,
            "grid_gap": null,
            "max_width": null,
            "order": null,
            "_view_module_version": "1.2.0",
            "grid_template_areas": null,
            "object_position": null,
            "object_fit": null,
            "grid_auto_columns": null,
            "margin": null,
            "display": null,
            "left": null
          }
        },
        "e6850f8cd05948be8a9cbac0db7a5fb5": {
          "model_module": "@jupyter-widgets/controls",
          "model_name": "FloatProgressModel",
          "model_module_version": "1.5.0",
          "state": {
            "_view_name": "ProgressView",
            "style": "IPY_MODEL_399ca860522b42b38eeca2fe91735130",
            "_dom_classes": [],
            "description": "Downloading: ",
            "_model_name": "FloatProgressModel",
            "bar_style": "success",
            "max": 962,
            "_view_module": "@jupyter-widgets/controls",
            "_model_module_version": "1.5.0",
            "value": 962,
            "_view_count": null,
            "_view_module_version": "1.5.0",
            "orientation": "horizontal",
            "min": 0,
            "description_tooltip": null,
            "_model_module": "@jupyter-widgets/controls",
            "layout": "IPY_MODEL_5645e80511464be493d2883211c0538c"
          }
        },
        "d724b4185c2c4d5a849a15264ba45886": {
          "model_module": "@jupyter-widgets/controls",
          "model_name": "HTMLModel",
          "model_module_version": "1.5.0",
          "state": {
            "_view_name": "HTMLView",
            "style": "IPY_MODEL_fd1fde50e5474f1c93a250f75d7a539f",
            "_dom_classes": [],
            "description": "",
            "_model_name": "HTMLModel",
            "placeholder": "​",
            "_view_module": "@jupyter-widgets/controls",
            "_model_module_version": "1.5.0",
            "value": " 2.24k/? [00:00&lt;00:00, 33.1kB/s]",
            "_view_count": null,
            "_view_module_version": "1.5.0",
            "description_tooltip": null,
            "_model_module": "@jupyter-widgets/controls",
            "layout": "IPY_MODEL_b4f4363e3a0d485f997352a4525d052a"
          }
        },
        "399ca860522b42b38eeca2fe91735130": {
          "model_module": "@jupyter-widgets/controls",
          "model_name": "ProgressStyleModel",
          "model_module_version": "1.5.0",
          "state": {
            "_view_name": "StyleView",
            "_model_name": "ProgressStyleModel",
            "description_width": "initial",
            "_view_module": "@jupyter-widgets/base",
            "_model_module_version": "1.5.0",
            "_view_count": null,
            "_view_module_version": "1.2.0",
            "bar_color": null,
            "_model_module": "@jupyter-widgets/controls"
          }
        },
        "5645e80511464be493d2883211c0538c": {
          "model_module": "@jupyter-widgets/base",
          "model_name": "LayoutModel",
          "model_module_version": "1.2.0",
          "state": {
            "_view_name": "LayoutView",
            "grid_template_rows": null,
            "right": null,
            "justify_content": null,
            "_view_module": "@jupyter-widgets/base",
            "overflow": null,
            "_model_module_version": "1.2.0",
            "_view_count": null,
            "flex_flow": null,
            "width": null,
            "min_width": null,
            "border": null,
            "align_items": null,
            "bottom": null,
            "_model_module": "@jupyter-widgets/base",
            "top": null,
            "grid_column": null,
            "overflow_y": null,
            "overflow_x": null,
            "grid_auto_flow": null,
            "grid_area": null,
            "grid_template_columns": null,
            "flex": null,
            "_model_name": "LayoutModel",
            "justify_items": null,
            "grid_row": null,
            "max_height": null,
            "align_content": null,
            "visibility": null,
            "align_self": null,
            "height": null,
            "min_height": null,
            "padding": null,
            "grid_auto_rows": null,
            "grid_gap": null,
            "max_width": null,
            "order": null,
            "_view_module_version": "1.2.0",
            "grid_template_areas": null,
            "object_position": null,
            "object_fit": null,
            "grid_auto_columns": null,
            "margin": null,
            "display": null,
            "left": null
          }
        },
        "fd1fde50e5474f1c93a250f75d7a539f": {
          "model_module": "@jupyter-widgets/controls",
          "model_name": "DescriptionStyleModel",
          "model_module_version": "1.5.0",
          "state": {
            "_view_name": "StyleView",
            "_model_name": "DescriptionStyleModel",
            "description_width": "",
            "_view_module": "@jupyter-widgets/base",
            "_model_module_version": "1.5.0",
            "_view_count": null,
            "_view_module_version": "1.2.0",
            "_model_module": "@jupyter-widgets/controls"
          }
        },
        "b4f4363e3a0d485f997352a4525d052a": {
          "model_module": "@jupyter-widgets/base",
          "model_name": "LayoutModel",
          "model_module_version": "1.2.0",
          "state": {
            "_view_name": "LayoutView",
            "grid_template_rows": null,
            "right": null,
            "justify_content": null,
            "_view_module": "@jupyter-widgets/base",
            "overflow": null,
            "_model_module_version": "1.2.0",
            "_view_count": null,
            "flex_flow": null,
            "width": null,
            "min_width": null,
            "border": null,
            "align_items": null,
            "bottom": null,
            "_model_module": "@jupyter-widgets/base",
            "top": null,
            "grid_column": null,
            "overflow_y": null,
            "overflow_x": null,
            "grid_auto_flow": null,
            "grid_area": null,
            "grid_template_columns": null,
            "flex": null,
            "_model_name": "LayoutModel",
            "justify_items": null,
            "grid_row": null,
            "max_height": null,
            "align_content": null,
            "visibility": null,
            "align_self": null,
            "height": null,
            "min_height": null,
            "padding": null,
            "grid_auto_rows": null,
            "grid_gap": null,
            "max_width": null,
            "order": null,
            "_view_module_version": "1.2.0",
            "grid_template_areas": null,
            "object_position": null,
            "object_fit": null,
            "grid_auto_columns": null,
            "margin": null,
            "display": null,
            "left": null
          }
        },
        "435a3c1270284d2ea7b9871eb42d8b60": {
          "model_module": "@jupyter-widgets/controls",
          "model_name": "HBoxModel",
          "model_module_version": "1.5.0",
          "state": {
            "_view_name": "HBoxView",
            "_dom_classes": [],
            "_model_name": "HBoxModel",
            "_view_module": "@jupyter-widgets/controls",
            "_model_module_version": "1.5.0",
            "_view_count": null,
            "_view_module_version": "1.5.0",
            "box_style": "",
            "layout": "IPY_MODEL_edf4bd7b90f148f6975beadd05ff842a",
            "_model_module": "@jupyter-widgets/controls",
            "children": [
              "IPY_MODEL_436aa42e02af46928bf22b5e4eb6322a",
              "IPY_MODEL_022f34431a014884a0aca162c8154c25"
            ]
          }
        },
        "edf4bd7b90f148f6975beadd05ff842a": {
          "model_module": "@jupyter-widgets/base",
          "model_name": "LayoutModel",
          "model_module_version": "1.2.0",
          "state": {
            "_view_name": "LayoutView",
            "grid_template_rows": null,
            "right": null,
            "justify_content": null,
            "_view_module": "@jupyter-widgets/base",
            "overflow": null,
            "_model_module_version": "1.2.0",
            "_view_count": null,
            "flex_flow": null,
            "width": null,
            "min_width": null,
            "border": null,
            "align_items": null,
            "bottom": null,
            "_model_module": "@jupyter-widgets/base",
            "top": null,
            "grid_column": null,
            "overflow_y": null,
            "overflow_x": null,
            "grid_auto_flow": null,
            "grid_area": null,
            "grid_template_columns": null,
            "flex": null,
            "_model_name": "LayoutModel",
            "justify_items": null,
            "grid_row": null,
            "max_height": null,
            "align_content": null,
            "visibility": null,
            "align_self": null,
            "height": null,
            "min_height": null,
            "padding": null,
            "grid_auto_rows": null,
            "grid_gap": null,
            "max_width": null,
            "order": null,
            "_view_module_version": "1.2.0",
            "grid_template_areas": null,
            "object_position": null,
            "object_fit": null,
            "grid_auto_columns": null,
            "margin": null,
            "display": null,
            "left": null
          }
        },
        "436aa42e02af46928bf22b5e4eb6322a": {
          "model_module": "@jupyter-widgets/controls",
          "model_name": "FloatProgressModel",
          "model_module_version": "1.5.0",
          "state": {
            "_view_name": "ProgressView",
            "style": "IPY_MODEL_5326cdc21eb54955857a009a71cd751a",
            "_dom_classes": [],
            "description": "Downloading: ",
            "_model_name": "FloatProgressModel",
            "bar_style": "success",
            "max": 7568316,
            "_view_module": "@jupyter-widgets/controls",
            "_model_module_version": "1.5.0",
            "value": 7568316,
            "_view_count": null,
            "_view_module_version": "1.5.0",
            "orientation": "horizontal",
            "min": 0,
            "description_tooltip": null,
            "_model_module": "@jupyter-widgets/controls",
            "layout": "IPY_MODEL_29d7ee3d212a45feb053354cb838212a"
          }
        },
        "022f34431a014884a0aca162c8154c25": {
          "model_module": "@jupyter-widgets/controls",
          "model_name": "HTMLModel",
          "model_module_version": "1.5.0",
          "state": {
            "_view_name": "HTMLView",
            "style": "IPY_MODEL_a92e4d4e5ceb4cb1979b86f57b44dfd1",
            "_dom_classes": [],
            "description": "",
            "_model_name": "HTMLModel",
            "placeholder": "​",
            "_view_module": "@jupyter-widgets/controls",
            "_model_module_version": "1.5.0",
            "value": " 38.5M/? [00:01&lt;00:00, 29.3MB/s]",
            "_view_count": null,
            "_view_module_version": "1.5.0",
            "description_tooltip": null,
            "_model_module": "@jupyter-widgets/controls",
            "layout": "IPY_MODEL_8393adc34c674703bc87f9e1cfc529d1"
          }
        },
        "5326cdc21eb54955857a009a71cd751a": {
          "model_module": "@jupyter-widgets/controls",
          "model_name": "ProgressStyleModel",
          "model_module_version": "1.5.0",
          "state": {
            "_view_name": "StyleView",
            "_model_name": "ProgressStyleModel",
            "description_width": "initial",
            "_view_module": "@jupyter-widgets/base",
            "_model_module_version": "1.5.0",
            "_view_count": null,
            "_view_module_version": "1.2.0",
            "bar_color": null,
            "_model_module": "@jupyter-widgets/controls"
          }
        },
        "29d7ee3d212a45feb053354cb838212a": {
          "model_module": "@jupyter-widgets/base",
          "model_name": "LayoutModel",
          "model_module_version": "1.2.0",
          "state": {
            "_view_name": "LayoutView",
            "grid_template_rows": null,
            "right": null,
            "justify_content": null,
            "_view_module": "@jupyter-widgets/base",
            "overflow": null,
            "_model_module_version": "1.2.0",
            "_view_count": null,
            "flex_flow": null,
            "width": null,
            "min_width": null,
            "border": null,
            "align_items": null,
            "bottom": null,
            "_model_module": "@jupyter-widgets/base",
            "top": null,
            "grid_column": null,
            "overflow_y": null,
            "overflow_x": null,
            "grid_auto_flow": null,
            "grid_area": null,
            "grid_template_columns": null,
            "flex": null,
            "_model_name": "LayoutModel",
            "justify_items": null,
            "grid_row": null,
            "max_height": null,
            "align_content": null,
            "visibility": null,
            "align_self": null,
            "height": null,
            "min_height": null,
            "padding": null,
            "grid_auto_rows": null,
            "grid_gap": null,
            "max_width": null,
            "order": null,
            "_view_module_version": "1.2.0",
            "grid_template_areas": null,
            "object_position": null,
            "object_fit": null,
            "grid_auto_columns": null,
            "margin": null,
            "display": null,
            "left": null
          }
        },
        "a92e4d4e5ceb4cb1979b86f57b44dfd1": {
          "model_module": "@jupyter-widgets/controls",
          "model_name": "DescriptionStyleModel",
          "model_module_version": "1.5.0",
          "state": {
            "_view_name": "StyleView",
            "_model_name": "DescriptionStyleModel",
            "description_width": "",
            "_view_module": "@jupyter-widgets/base",
            "_model_module_version": "1.5.0",
            "_view_count": null,
            "_view_module_version": "1.2.0",
            "_model_module": "@jupyter-widgets/controls"
          }
        },
        "8393adc34c674703bc87f9e1cfc529d1": {
          "model_module": "@jupyter-widgets/base",
          "model_name": "LayoutModel",
          "model_module_version": "1.2.0",
          "state": {
            "_view_name": "LayoutView",
            "grid_template_rows": null,
            "right": null,
            "justify_content": null,
            "_view_module": "@jupyter-widgets/base",
            "overflow": null,
            "_model_module_version": "1.2.0",
            "_view_count": null,
            "flex_flow": null,
            "width": null,
            "min_width": null,
            "border": null,
            "align_items": null,
            "bottom": null,
            "_model_module": "@jupyter-widgets/base",
            "top": null,
            "grid_column": null,
            "overflow_y": null,
            "overflow_x": null,
            "grid_auto_flow": null,
            "grid_area": null,
            "grid_template_columns": null,
            "flex": null,
            "_model_name": "LayoutModel",
            "justify_items": null,
            "grid_row": null,
            "max_height": null,
            "align_content": null,
            "visibility": null,
            "align_self": null,
            "height": null,
            "min_height": null,
            "padding": null,
            "grid_auto_rows": null,
            "grid_gap": null,
            "max_width": null,
            "order": null,
            "_view_module_version": "1.2.0",
            "grid_template_areas": null,
            "object_position": null,
            "object_fit": null,
            "grid_auto_columns": null,
            "margin": null,
            "display": null,
            "left": null
          }
        },
        "9027c67eebdd45ff889117c3f655c852": {
          "model_module": "@jupyter-widgets/controls",
          "model_name": "HBoxModel",
          "model_module_version": "1.5.0",
          "state": {
            "_view_name": "HBoxView",
            "_dom_classes": [],
            "_model_name": "HBoxModel",
            "_view_module": "@jupyter-widgets/controls",
            "_model_module_version": "1.5.0",
            "_view_count": null,
            "_view_module_version": "1.5.0",
            "box_style": "",
            "layout": "IPY_MODEL_e816b8920865402abaae14a9d302ce35",
            "_model_module": "@jupyter-widgets/controls",
            "children": [
              "IPY_MODEL_ac8d2ec7f8084418843b8ab9c564430c",
              "IPY_MODEL_2489914dd86b4c3f8099f6260dabc2c4"
            ]
          }
        },
        "e816b8920865402abaae14a9d302ce35": {
          "model_module": "@jupyter-widgets/base",
          "model_name": "LayoutModel",
          "model_module_version": "1.2.0",
          "state": {
            "_view_name": "LayoutView",
            "grid_template_rows": null,
            "right": null,
            "justify_content": null,
            "_view_module": "@jupyter-widgets/base",
            "overflow": null,
            "_model_module_version": "1.2.0",
            "_view_count": null,
            "flex_flow": null,
            "width": null,
            "min_width": null,
            "border": null,
            "align_items": null,
            "bottom": null,
            "_model_module": "@jupyter-widgets/base",
            "top": null,
            "grid_column": null,
            "overflow_y": null,
            "overflow_x": null,
            "grid_auto_flow": null,
            "grid_area": null,
            "grid_template_columns": null,
            "flex": null,
            "_model_name": "LayoutModel",
            "justify_items": null,
            "grid_row": null,
            "max_height": null,
            "align_content": null,
            "visibility": null,
            "align_self": null,
            "height": null,
            "min_height": null,
            "padding": null,
            "grid_auto_rows": null,
            "grid_gap": null,
            "max_width": null,
            "order": null,
            "_view_module_version": "1.2.0",
            "grid_template_areas": null,
            "object_position": null,
            "object_fit": null,
            "grid_auto_columns": null,
            "margin": null,
            "display": null,
            "left": null
          }
        },
        "ac8d2ec7f8084418843b8ab9c564430c": {
          "model_module": "@jupyter-widgets/controls",
          "model_name": "FloatProgressModel",
          "model_module_version": "1.5.0",
          "state": {
            "_view_name": "ProgressView",
            "style": "IPY_MODEL_bbfd5ccacb2a404fb0c13f08a219eb5b",
            "_dom_classes": [],
            "description": "Downloading: ",
            "_model_name": "FloatProgressModel",
            "bar_style": "success",
            "max": 770480,
            "_view_module": "@jupyter-widgets/controls",
            "_model_module_version": "1.5.0",
            "value": 770480,
            "_view_count": null,
            "_view_module_version": "1.5.0",
            "orientation": "horizontal",
            "min": 0,
            "description_tooltip": null,
            "_model_module": "@jupyter-widgets/controls",
            "layout": "IPY_MODEL_3f5070fa8bbd4131baa5f70c263033d2"
          }
        },
        "2489914dd86b4c3f8099f6260dabc2c4": {
          "model_module": "@jupyter-widgets/controls",
          "model_name": "HTMLModel",
          "model_module_version": "1.5.0",
          "state": {
            "_view_name": "HTMLView",
            "style": "IPY_MODEL_d1eb61d448434d478edcf96045a2b60e",
            "_dom_classes": [],
            "description": "",
            "_model_name": "HTMLModel",
            "placeholder": "​",
            "_view_module": "@jupyter-widgets/controls",
            "_model_module_version": "1.5.0",
            "value": " 3.88M/? [00:00&lt;00:00, 9.62MB/s]",
            "_view_count": null,
            "_view_module_version": "1.5.0",
            "description_tooltip": null,
            "_model_module": "@jupyter-widgets/controls",
            "layout": "IPY_MODEL_b5d927fc391942babc6fa91cfe243d5d"
          }
        },
        "bbfd5ccacb2a404fb0c13f08a219eb5b": {
          "model_module": "@jupyter-widgets/controls",
          "model_name": "ProgressStyleModel",
          "model_module_version": "1.5.0",
          "state": {
            "_view_name": "StyleView",
            "_model_name": "ProgressStyleModel",
            "description_width": "initial",
            "_view_module": "@jupyter-widgets/base",
            "_model_module_version": "1.5.0",
            "_view_count": null,
            "_view_module_version": "1.2.0",
            "bar_color": null,
            "_model_module": "@jupyter-widgets/controls"
          }
        },
        "3f5070fa8bbd4131baa5f70c263033d2": {
          "model_module": "@jupyter-widgets/base",
          "model_name": "LayoutModel",
          "model_module_version": "1.2.0",
          "state": {
            "_view_name": "LayoutView",
            "grid_template_rows": null,
            "right": null,
            "justify_content": null,
            "_view_module": "@jupyter-widgets/base",
            "overflow": null,
            "_model_module_version": "1.2.0",
            "_view_count": null,
            "flex_flow": null,
            "width": null,
            "min_width": null,
            "border": null,
            "align_items": null,
            "bottom": null,
            "_model_module": "@jupyter-widgets/base",
            "top": null,
            "grid_column": null,
            "overflow_y": null,
            "overflow_x": null,
            "grid_auto_flow": null,
            "grid_area": null,
            "grid_template_columns": null,
            "flex": null,
            "_model_name": "LayoutModel",
            "justify_items": null,
            "grid_row": null,
            "max_height": null,
            "align_content": null,
            "visibility": null,
            "align_self": null,
            "height": null,
            "min_height": null,
            "padding": null,
            "grid_auto_rows": null,
            "grid_gap": null,
            "max_width": null,
            "order": null,
            "_view_module_version": "1.2.0",
            "grid_template_areas": null,
            "object_position": null,
            "object_fit": null,
            "grid_auto_columns": null,
            "margin": null,
            "display": null,
            "left": null
          }
        },
        "d1eb61d448434d478edcf96045a2b60e": {
          "model_module": "@jupyter-widgets/controls",
          "model_name": "DescriptionStyleModel",
          "model_module_version": "1.5.0",
          "state": {
            "_view_name": "StyleView",
            "_model_name": "DescriptionStyleModel",
            "description_width": "",
            "_view_module": "@jupyter-widgets/base",
            "_model_module_version": "1.5.0",
            "_view_count": null,
            "_view_module_version": "1.2.0",
            "_model_module": "@jupyter-widgets/controls"
          }
        },
        "b5d927fc391942babc6fa91cfe243d5d": {
          "model_module": "@jupyter-widgets/base",
          "model_name": "LayoutModel",
          "model_module_version": "1.2.0",
          "state": {
            "_view_name": "LayoutView",
            "grid_template_rows": null,
            "right": null,
            "justify_content": null,
            "_view_module": "@jupyter-widgets/base",
            "overflow": null,
            "_model_module_version": "1.2.0",
            "_view_count": null,
            "flex_flow": null,
            "width": null,
            "min_width": null,
            "border": null,
            "align_items": null,
            "bottom": null,
            "_model_module": "@jupyter-widgets/base",
            "top": null,
            "grid_column": null,
            "overflow_y": null,
            "overflow_x": null,
            "grid_auto_flow": null,
            "grid_area": null,
            "grid_template_columns": null,
            "flex": null,
            "_model_name": "LayoutModel",
            "justify_items": null,
            "grid_row": null,
            "max_height": null,
            "align_content": null,
            "visibility": null,
            "align_self": null,
            "height": null,
            "min_height": null,
            "padding": null,
            "grid_auto_rows": null,
            "grid_gap": null,
            "max_width": null,
            "order": null,
            "_view_module_version": "1.2.0",
            "grid_template_areas": null,
            "object_position": null,
            "object_fit": null,
            "grid_auto_columns": null,
            "margin": null,
            "display": null,
            "left": null
          }
        },
        "753bd873f054405f8c045282a6100daf": {
          "model_module": "@jupyter-widgets/controls",
          "model_name": "HBoxModel",
          "model_module_version": "1.5.0",
          "state": {
            "_view_name": "HBoxView",
            "_dom_classes": [],
            "_model_name": "HBoxModel",
            "_view_module": "@jupyter-widgets/controls",
            "_model_module_version": "1.5.0",
            "_view_count": null,
            "_view_module_version": "1.5.0",
            "box_style": "",
            "layout": "IPY_MODEL_13f04f854a424a68a78a0eaca39a9c18",
            "_model_module": "@jupyter-widgets/controls",
            "children": [
              "IPY_MODEL_4fa20df38a6842fa9063992a0eb0b3a8",
              "IPY_MODEL_a03f2d2b101a4b68b4e2b3759ceabe4b"
            ]
          }
        },
        "13f04f854a424a68a78a0eaca39a9c18": {
          "model_module": "@jupyter-widgets/base",
          "model_name": "LayoutModel",
          "model_module_version": "1.2.0",
          "state": {
            "_view_name": "LayoutView",
            "grid_template_rows": null,
            "right": null,
            "justify_content": null,
            "_view_module": "@jupyter-widgets/base",
            "overflow": null,
            "_model_module_version": "1.2.0",
            "_view_count": null,
            "flex_flow": null,
            "width": null,
            "min_width": null,
            "border": null,
            "align_items": null,
            "bottom": null,
            "_model_module": "@jupyter-widgets/base",
            "top": null,
            "grid_column": null,
            "overflow_y": null,
            "overflow_x": null,
            "grid_auto_flow": null,
            "grid_area": null,
            "grid_template_columns": null,
            "flex": null,
            "_model_name": "LayoutModel",
            "justify_items": null,
            "grid_row": null,
            "max_height": null,
            "align_content": null,
            "visibility": null,
            "align_self": null,
            "height": null,
            "min_height": null,
            "padding": null,
            "grid_auto_rows": null,
            "grid_gap": null,
            "max_width": null,
            "order": null,
            "_view_module_version": "1.2.0",
            "grid_template_areas": null,
            "object_position": null,
            "object_fit": null,
            "grid_auto_columns": null,
            "margin": null,
            "display": null,
            "left": null
          }
        },
        "4fa20df38a6842fa9063992a0eb0b3a8": {
          "model_module": "@jupyter-widgets/controls",
          "model_name": "FloatProgressModel",
          "model_module_version": "1.5.0",
          "state": {
            "_view_name": "ProgressView",
            "style": "IPY_MODEL_bbbcb21613cf459fb0409c22a4eb9987",
            "_dom_classes": [],
            "description": "",
            "_model_name": "FloatProgressModel",
            "bar_style": "info",
            "max": 1,
            "_view_module": "@jupyter-widgets/controls",
            "_model_module_version": "1.5.0",
            "value": 1,
            "_view_count": null,
            "_view_module_version": "1.5.0",
            "orientation": "horizontal",
            "min": 0,
            "description_tooltip": null,
            "_model_module": "@jupyter-widgets/controls",
            "layout": "IPY_MODEL_ff7933d861844fd280af22a97d2e7f97"
          }
        },
        "a03f2d2b101a4b68b4e2b3759ceabe4b": {
          "model_module": "@jupyter-widgets/controls",
          "model_name": "HTMLModel",
          "model_module_version": "1.5.0",
          "state": {
            "_view_name": "HTMLView",
            "style": "IPY_MODEL_d216e68aae8f457cb82aeea89e9c39c3",
            "_dom_classes": [],
            "description": "",
            "_model_name": "HTMLModel",
            "placeholder": "​",
            "_view_module": "@jupyter-widgets/controls",
            "_model_module_version": "1.5.0",
            "value": " 60407/0 [00:05&lt;00:00, 15801.15 examples/s]",
            "_view_count": null,
            "_view_module_version": "1.5.0",
            "description_tooltip": null,
            "_model_module": "@jupyter-widgets/controls",
            "layout": "IPY_MODEL_d1d3204e9fed45e581d3072a611099a4"
          }
        },
        "bbbcb21613cf459fb0409c22a4eb9987": {
          "model_module": "@jupyter-widgets/controls",
          "model_name": "ProgressStyleModel",
          "model_module_version": "1.5.0",
          "state": {
            "_view_name": "StyleView",
            "_model_name": "ProgressStyleModel",
            "description_width": "initial",
            "_view_module": "@jupyter-widgets/base",
            "_model_module_version": "1.5.0",
            "_view_count": null,
            "_view_module_version": "1.2.0",
            "bar_color": null,
            "_model_module": "@jupyter-widgets/controls"
          }
        },
        "ff7933d861844fd280af22a97d2e7f97": {
          "model_module": "@jupyter-widgets/base",
          "model_name": "LayoutModel",
          "model_module_version": "1.2.0",
          "state": {
            "_view_name": "LayoutView",
            "grid_template_rows": null,
            "right": null,
            "justify_content": null,
            "_view_module": "@jupyter-widgets/base",
            "overflow": null,
            "_model_module_version": "1.2.0",
            "_view_count": null,
            "flex_flow": null,
            "width": null,
            "min_width": null,
            "border": null,
            "align_items": null,
            "bottom": null,
            "_model_module": "@jupyter-widgets/base",
            "top": null,
            "grid_column": null,
            "overflow_y": null,
            "overflow_x": null,
            "grid_auto_flow": null,
            "grid_area": null,
            "grid_template_columns": null,
            "flex": null,
            "_model_name": "LayoutModel",
            "justify_items": null,
            "grid_row": null,
            "max_height": null,
            "align_content": null,
            "visibility": null,
            "align_self": null,
            "height": null,
            "min_height": null,
            "padding": null,
            "grid_auto_rows": null,
            "grid_gap": null,
            "max_width": null,
            "order": null,
            "_view_module_version": "1.2.0",
            "grid_template_areas": null,
            "object_position": null,
            "object_fit": null,
            "grid_auto_columns": null,
            "margin": null,
            "display": null,
            "left": null
          }
        },
        "d216e68aae8f457cb82aeea89e9c39c3": {
          "model_module": "@jupyter-widgets/controls",
          "model_name": "DescriptionStyleModel",
          "model_module_version": "1.5.0",
          "state": {
            "_view_name": "StyleView",
            "_model_name": "DescriptionStyleModel",
            "description_width": "",
            "_view_module": "@jupyter-widgets/base",
            "_model_module_version": "1.5.0",
            "_view_count": null,
            "_view_module_version": "1.2.0",
            "_model_module": "@jupyter-widgets/controls"
          }
        },
        "d1d3204e9fed45e581d3072a611099a4": {
          "model_module": "@jupyter-widgets/base",
          "model_name": "LayoutModel",
          "model_module_version": "1.2.0",
          "state": {
            "_view_name": "LayoutView",
            "grid_template_rows": null,
            "right": null,
            "justify_content": null,
            "_view_module": "@jupyter-widgets/base",
            "overflow": null,
            "_model_module_version": "1.2.0",
            "_view_count": null,
            "flex_flow": null,
            "width": null,
            "min_width": null,
            "border": null,
            "align_items": null,
            "bottom": null,
            "_model_module": "@jupyter-widgets/base",
            "top": null,
            "grid_column": null,
            "overflow_y": null,
            "overflow_x": null,
            "grid_auto_flow": null,
            "grid_area": null,
            "grid_template_columns": null,
            "flex": null,
            "_model_name": "LayoutModel",
            "justify_items": null,
            "grid_row": null,
            "max_height": null,
            "align_content": null,
            "visibility": null,
            "align_self": null,
            "height": null,
            "min_height": null,
            "padding": null,
            "grid_auto_rows": null,
            "grid_gap": null,
            "max_width": null,
            "order": null,
            "_view_module_version": "1.2.0",
            "grid_template_areas": null,
            "object_position": null,
            "object_fit": null,
            "grid_auto_columns": null,
            "margin": null,
            "display": null,
            "left": null
          }
        },
        "a7717c771d544c3188ac1499832bb693": {
          "model_module": "@jupyter-widgets/controls",
          "model_name": "HBoxModel",
          "model_module_version": "1.5.0",
          "state": {
            "_view_name": "HBoxView",
            "_dom_classes": [],
            "_model_name": "HBoxModel",
            "_view_module": "@jupyter-widgets/controls",
            "_model_module_version": "1.5.0",
            "_view_count": null,
            "_view_module_version": "1.5.0",
            "box_style": "",
            "layout": "IPY_MODEL_2859affcf7ca4f47b64c2e65aaa97677",
            "_model_module": "@jupyter-widgets/controls",
            "children": [
              "IPY_MODEL_08547cf87ce34b2f8875ae89a601a492",
              "IPY_MODEL_7e34afe0afd2488ba968c341c6b50ca5"
            ]
          }
        },
        "2859affcf7ca4f47b64c2e65aaa97677": {
          "model_module": "@jupyter-widgets/base",
          "model_name": "LayoutModel",
          "model_module_version": "1.2.0",
          "state": {
            "_view_name": "LayoutView",
            "grid_template_rows": null,
            "right": null,
            "justify_content": null,
            "_view_module": "@jupyter-widgets/base",
            "overflow": null,
            "_model_module_version": "1.2.0",
            "_view_count": null,
            "flex_flow": null,
            "width": null,
            "min_width": null,
            "border": null,
            "align_items": null,
            "bottom": null,
            "_model_module": "@jupyter-widgets/base",
            "top": null,
            "grid_column": null,
            "overflow_y": null,
            "overflow_x": null,
            "grid_auto_flow": null,
            "grid_area": null,
            "grid_template_columns": null,
            "flex": null,
            "_model_name": "LayoutModel",
            "justify_items": null,
            "grid_row": null,
            "max_height": null,
            "align_content": null,
            "visibility": null,
            "align_self": null,
            "height": null,
            "min_height": null,
            "padding": null,
            "grid_auto_rows": null,
            "grid_gap": null,
            "max_width": null,
            "order": null,
            "_view_module_version": "1.2.0",
            "grid_template_areas": null,
            "object_position": null,
            "object_fit": null,
            "grid_auto_columns": null,
            "margin": null,
            "display": null,
            "left": null
          }
        },
        "08547cf87ce34b2f8875ae89a601a492": {
          "model_module": "@jupyter-widgets/controls",
          "model_name": "FloatProgressModel",
          "model_module_version": "1.5.0",
          "state": {
            "_view_name": "ProgressView",
            "style": "IPY_MODEL_3b530fb8104743c8aaceb49a4414c091",
            "_dom_classes": [],
            "description": "",
            "_model_name": "FloatProgressModel",
            "bar_style": "info",
            "max": 1,
            "_view_module": "@jupyter-widgets/controls",
            "_model_module_version": "1.5.0",
            "value": 1,
            "_view_count": null,
            "_view_module_version": "1.5.0",
            "orientation": "horizontal",
            "min": 0,
            "description_tooltip": null,
            "_model_module": "@jupyter-widgets/controls",
            "layout": "IPY_MODEL_e8d8a0e938dd4c4db770c57362432994"
          }
        },
        "7e34afe0afd2488ba968c341c6b50ca5": {
          "model_module": "@jupyter-widgets/controls",
          "model_name": "HTMLModel",
          "model_module_version": "1.5.0",
          "state": {
            "_view_name": "HTMLView",
            "style": "IPY_MODEL_43b4a8ba88ea49ffb1df8b4109dae775",
            "_dom_classes": [],
            "description": "",
            "_model_name": "HTMLModel",
            "placeholder": "​",
            "_view_module": "@jupyter-widgets/controls",
            "_model_module_version": "1.5.0",
            "value": " 5774/0 [00:00&lt;00:00, 24.74 examples/s]",
            "_view_count": null,
            "_view_module_version": "1.5.0",
            "description_tooltip": null,
            "_model_module": "@jupyter-widgets/controls",
            "layout": "IPY_MODEL_aa48f71b03724f358a7600f50fb6c2a2"
          }
        },
        "3b530fb8104743c8aaceb49a4414c091": {
          "model_module": "@jupyter-widgets/controls",
          "model_name": "ProgressStyleModel",
          "model_module_version": "1.5.0",
          "state": {
            "_view_name": "StyleView",
            "_model_name": "ProgressStyleModel",
            "description_width": "initial",
            "_view_module": "@jupyter-widgets/base",
            "_model_module_version": "1.5.0",
            "_view_count": null,
            "_view_module_version": "1.2.0",
            "bar_color": null,
            "_model_module": "@jupyter-widgets/controls"
          }
        },
        "e8d8a0e938dd4c4db770c57362432994": {
          "model_module": "@jupyter-widgets/base",
          "model_name": "LayoutModel",
          "model_module_version": "1.2.0",
          "state": {
            "_view_name": "LayoutView",
            "grid_template_rows": null,
            "right": null,
            "justify_content": null,
            "_view_module": "@jupyter-widgets/base",
            "overflow": null,
            "_model_module_version": "1.2.0",
            "_view_count": null,
            "flex_flow": null,
            "width": null,
            "min_width": null,
            "border": null,
            "align_items": null,
            "bottom": null,
            "_model_module": "@jupyter-widgets/base",
            "top": null,
            "grid_column": null,
            "overflow_y": null,
            "overflow_x": null,
            "grid_auto_flow": null,
            "grid_area": null,
            "grid_template_columns": null,
            "flex": null,
            "_model_name": "LayoutModel",
            "justify_items": null,
            "grid_row": null,
            "max_height": null,
            "align_content": null,
            "visibility": null,
            "align_self": null,
            "height": null,
            "min_height": null,
            "padding": null,
            "grid_auto_rows": null,
            "grid_gap": null,
            "max_width": null,
            "order": null,
            "_view_module_version": "1.2.0",
            "grid_template_areas": null,
            "object_position": null,
            "object_fit": null,
            "grid_auto_columns": null,
            "margin": null,
            "display": null,
            "left": null
          }
        },
        "43b4a8ba88ea49ffb1df8b4109dae775": {
          "model_module": "@jupyter-widgets/controls",
          "model_name": "DescriptionStyleModel",
          "model_module_version": "1.5.0",
          "state": {
            "_view_name": "StyleView",
            "_model_name": "DescriptionStyleModel",
            "description_width": "",
            "_view_module": "@jupyter-widgets/base",
            "_model_module_version": "1.5.0",
            "_view_count": null,
            "_view_module_version": "1.2.0",
            "_model_module": "@jupyter-widgets/controls"
          }
        },
        "aa48f71b03724f358a7600f50fb6c2a2": {
          "model_module": "@jupyter-widgets/base",
          "model_name": "LayoutModel",
          "model_module_version": "1.2.0",
          "state": {
            "_view_name": "LayoutView",
            "grid_template_rows": null,
            "right": null,
            "justify_content": null,
            "_view_module": "@jupyter-widgets/base",
            "overflow": null,
            "_model_module_version": "1.2.0",
            "_view_count": null,
            "flex_flow": null,
            "width": null,
            "min_width": null,
            "border": null,
            "align_items": null,
            "bottom": null,
            "_model_module": "@jupyter-widgets/base",
            "top": null,
            "grid_column": null,
            "overflow_y": null,
            "overflow_x": null,
            "grid_auto_flow": null,
            "grid_area": null,
            "grid_template_columns": null,
            "flex": null,
            "_model_name": "LayoutModel",
            "justify_items": null,
            "grid_row": null,
            "max_height": null,
            "align_content": null,
            "visibility": null,
            "align_self": null,
            "height": null,
            "min_height": null,
            "padding": null,
            "grid_auto_rows": null,
            "grid_gap": null,
            "max_width": null,
            "order": null,
            "_view_module_version": "1.2.0",
            "grid_template_areas": null,
            "object_position": null,
            "object_fit": null,
            "grid_auto_columns": null,
            "margin": null,
            "display": null,
            "left": null
          }
        },
        "314a03e6919f41728d867111bcb8e1a5": {
          "model_module": "@jupyter-widgets/controls",
          "model_name": "HBoxModel",
          "model_module_version": "1.5.0",
          "state": {
            "_view_name": "HBoxView",
            "_dom_classes": [],
            "_model_name": "HBoxModel",
            "_view_module": "@jupyter-widgets/controls",
            "_model_module_version": "1.5.0",
            "_view_count": null,
            "_view_module_version": "1.5.0",
            "box_style": "",
            "layout": "IPY_MODEL_d91ceb1c6a904e98beebcafafc6afc6c",
            "_model_module": "@jupyter-widgets/controls",
            "children": [
              "IPY_MODEL_0aae50edc17f438d841dcbedde43bade",
              "IPY_MODEL_32d37a0594604637915c9f87eeeb70c6"
            ]
          }
        },
        "d91ceb1c6a904e98beebcafafc6afc6c": {
          "model_module": "@jupyter-widgets/base",
          "model_name": "LayoutModel",
          "model_module_version": "1.2.0",
          "state": {
            "_view_name": "LayoutView",
            "grid_template_rows": null,
            "right": null,
            "justify_content": null,
            "_view_module": "@jupyter-widgets/base",
            "overflow": null,
            "_model_module_version": "1.2.0",
            "_view_count": null,
            "flex_flow": null,
            "width": null,
            "min_width": null,
            "border": null,
            "align_items": null,
            "bottom": null,
            "_model_module": "@jupyter-widgets/base",
            "top": null,
            "grid_column": null,
            "overflow_y": null,
            "overflow_x": null,
            "grid_auto_flow": null,
            "grid_area": null,
            "grid_template_columns": null,
            "flex": null,
            "_model_name": "LayoutModel",
            "justify_items": null,
            "grid_row": null,
            "max_height": null,
            "align_content": null,
            "visibility": null,
            "align_self": null,
            "height": null,
            "min_height": null,
            "padding": null,
            "grid_auto_rows": null,
            "grid_gap": null,
            "max_width": null,
            "order": null,
            "_view_module_version": "1.2.0",
            "grid_template_areas": null,
            "object_position": null,
            "object_fit": null,
            "grid_auto_columns": null,
            "margin": null,
            "display": null,
            "left": null
          }
        },
        "0aae50edc17f438d841dcbedde43bade": {
          "model_module": "@jupyter-widgets/controls",
          "model_name": "FloatProgressModel",
          "model_module_version": "1.5.0",
          "state": {
            "_view_name": "ProgressView",
            "style": "IPY_MODEL_184b84413b7e443faf76d3dc16f6912e",
            "_dom_classes": [],
            "description": "Downloading: 100%",
            "_model_name": "FloatProgressModel",
            "bar_style": "success",
            "max": 425,
            "_view_module": "@jupyter-widgets/controls",
            "_model_module_version": "1.5.0",
            "value": 425,
            "_view_count": null,
            "_view_module_version": "1.5.0",
            "orientation": "horizontal",
            "min": 0,
            "description_tooltip": null,
            "_model_module": "@jupyter-widgets/controls",
            "layout": "IPY_MODEL_cc6b04bd30b64786a4cfaab1473dcdd5"
          }
        },
        "32d37a0594604637915c9f87eeeb70c6": {
          "model_module": "@jupyter-widgets/controls",
          "model_name": "HTMLModel",
          "model_module_version": "1.5.0",
          "state": {
            "_view_name": "HTMLView",
            "style": "IPY_MODEL_a361bddb6c784b1a9c94d36c620a26b4",
            "_dom_classes": [],
            "description": "",
            "_model_name": "HTMLModel",
            "placeholder": "​",
            "_view_module": "@jupyter-widgets/controls",
            "_model_module_version": "1.5.0",
            "value": " 425/425 [00:04&lt;00:00, 101B/s]",
            "_view_count": null,
            "_view_module_version": "1.5.0",
            "description_tooltip": null,
            "_model_module": "@jupyter-widgets/controls",
            "layout": "IPY_MODEL_92d190ff8b0d48af887e24285ad1bd40"
          }
        },
        "184b84413b7e443faf76d3dc16f6912e": {
          "model_module": "@jupyter-widgets/controls",
          "model_name": "ProgressStyleModel",
          "model_module_version": "1.5.0",
          "state": {
            "_view_name": "StyleView",
            "_model_name": "ProgressStyleModel",
            "description_width": "initial",
            "_view_module": "@jupyter-widgets/base",
            "_model_module_version": "1.5.0",
            "_view_count": null,
            "_view_module_version": "1.2.0",
            "bar_color": null,
            "_model_module": "@jupyter-widgets/controls"
          }
        },
        "cc6b04bd30b64786a4cfaab1473dcdd5": {
          "model_module": "@jupyter-widgets/base",
          "model_name": "LayoutModel",
          "model_module_version": "1.2.0",
          "state": {
            "_view_name": "LayoutView",
            "grid_template_rows": null,
            "right": null,
            "justify_content": null,
            "_view_module": "@jupyter-widgets/base",
            "overflow": null,
            "_model_module_version": "1.2.0",
            "_view_count": null,
            "flex_flow": null,
            "width": null,
            "min_width": null,
            "border": null,
            "align_items": null,
            "bottom": null,
            "_model_module": "@jupyter-widgets/base",
            "top": null,
            "grid_column": null,
            "overflow_y": null,
            "overflow_x": null,
            "grid_auto_flow": null,
            "grid_area": null,
            "grid_template_columns": null,
            "flex": null,
            "_model_name": "LayoutModel",
            "justify_items": null,
            "grid_row": null,
            "max_height": null,
            "align_content": null,
            "visibility": null,
            "align_self": null,
            "height": null,
            "min_height": null,
            "padding": null,
            "grid_auto_rows": null,
            "grid_gap": null,
            "max_width": null,
            "order": null,
            "_view_module_version": "1.2.0",
            "grid_template_areas": null,
            "object_position": null,
            "object_fit": null,
            "grid_auto_columns": null,
            "margin": null,
            "display": null,
            "left": null
          }
        },
        "a361bddb6c784b1a9c94d36c620a26b4": {
          "model_module": "@jupyter-widgets/controls",
          "model_name": "DescriptionStyleModel",
          "model_module_version": "1.5.0",
          "state": {
            "_view_name": "StyleView",
            "_model_name": "DescriptionStyleModel",
            "description_width": "",
            "_view_module": "@jupyter-widgets/base",
            "_model_module_version": "1.5.0",
            "_view_count": null,
            "_view_module_version": "1.2.0",
            "_model_module": "@jupyter-widgets/controls"
          }
        },
        "92d190ff8b0d48af887e24285ad1bd40": {
          "model_module": "@jupyter-widgets/base",
          "model_name": "LayoutModel",
          "model_module_version": "1.2.0",
          "state": {
            "_view_name": "LayoutView",
            "grid_template_rows": null,
            "right": null,
            "justify_content": null,
            "_view_module": "@jupyter-widgets/base",
            "overflow": null,
            "_model_module_version": "1.2.0",
            "_view_count": null,
            "flex_flow": null,
            "width": null,
            "min_width": null,
            "border": null,
            "align_items": null,
            "bottom": null,
            "_model_module": "@jupyter-widgets/base",
            "top": null,
            "grid_column": null,
            "overflow_y": null,
            "overflow_x": null,
            "grid_auto_flow": null,
            "grid_area": null,
            "grid_template_columns": null,
            "flex": null,
            "_model_name": "LayoutModel",
            "justify_items": null,
            "grid_row": null,
            "max_height": null,
            "align_content": null,
            "visibility": null,
            "align_self": null,
            "height": null,
            "min_height": null,
            "padding": null,
            "grid_auto_rows": null,
            "grid_gap": null,
            "max_width": null,
            "order": null,
            "_view_module_version": "1.2.0",
            "grid_template_areas": null,
            "object_position": null,
            "object_fit": null,
            "grid_auto_columns": null,
            "margin": null,
            "display": null,
            "left": null
          }
        },
        "faff7a593d25438ab28127136f343b6b": {
          "model_module": "@jupyter-widgets/controls",
          "model_name": "HBoxModel",
          "model_module_version": "1.5.0",
          "state": {
            "_view_name": "HBoxView",
            "_dom_classes": [],
            "_model_name": "HBoxModel",
            "_view_module": "@jupyter-widgets/controls",
            "_model_module_version": "1.5.0",
            "_view_count": null,
            "_view_module_version": "1.5.0",
            "box_style": "",
            "layout": "IPY_MODEL_f00ca1cf97d2402eb321c2eb1c3f66fe",
            "_model_module": "@jupyter-widgets/controls",
            "children": [
              "IPY_MODEL_f69634ddb2f34e20a0079a5322ea57d2",
              "IPY_MODEL_153cbe365a4b4d86b5b929b970c6c8d8"
            ]
          }
        },
        "f00ca1cf97d2402eb321c2eb1c3f66fe": {
          "model_module": "@jupyter-widgets/base",
          "model_name": "LayoutModel",
          "model_module_version": "1.2.0",
          "state": {
            "_view_name": "LayoutView",
            "grid_template_rows": null,
            "right": null,
            "justify_content": null,
            "_view_module": "@jupyter-widgets/base",
            "overflow": null,
            "_model_module_version": "1.2.0",
            "_view_count": null,
            "flex_flow": null,
            "width": null,
            "min_width": null,
            "border": null,
            "align_items": null,
            "bottom": null,
            "_model_module": "@jupyter-widgets/base",
            "top": null,
            "grid_column": null,
            "overflow_y": null,
            "overflow_x": null,
            "grid_auto_flow": null,
            "grid_area": null,
            "grid_template_columns": null,
            "flex": null,
            "_model_name": "LayoutModel",
            "justify_items": null,
            "grid_row": null,
            "max_height": null,
            "align_content": null,
            "visibility": null,
            "align_self": null,
            "height": null,
            "min_height": null,
            "padding": null,
            "grid_auto_rows": null,
            "grid_gap": null,
            "max_width": null,
            "order": null,
            "_view_module_version": "1.2.0",
            "grid_template_areas": null,
            "object_position": null,
            "object_fit": null,
            "grid_auto_columns": null,
            "margin": null,
            "display": null,
            "left": null
          }
        },
        "f69634ddb2f34e20a0079a5322ea57d2": {
          "model_module": "@jupyter-widgets/controls",
          "model_name": "FloatProgressModel",
          "model_module_version": "1.5.0",
          "state": {
            "_view_name": "ProgressView",
            "style": "IPY_MODEL_252992e5e2684ca7b611bf70a30d0d36",
            "_dom_classes": [],
            "description": "Downloading: 100%",
            "_model_name": "FloatProgressModel",
            "bar_style": "success",
            "max": 248477,
            "_view_module": "@jupyter-widgets/controls",
            "_model_module_version": "1.5.0",
            "value": 248477,
            "_view_count": null,
            "_view_module_version": "1.5.0",
            "orientation": "horizontal",
            "min": 0,
            "description_tooltip": null,
            "_model_module": "@jupyter-widgets/controls",
            "layout": "IPY_MODEL_2d634af570e2493fbcdc7ab2c9eae71d"
          }
        },
        "153cbe365a4b4d86b5b929b970c6c8d8": {
          "model_module": "@jupyter-widgets/controls",
          "model_name": "HTMLModel",
          "model_module_version": "1.5.0",
          "state": {
            "_view_name": "HTMLView",
            "style": "IPY_MODEL_2f0c8d15a30c49eb8a81fe8c99fb16a0",
            "_dom_classes": [],
            "description": "",
            "_model_name": "HTMLModel",
            "placeholder": "​",
            "_view_module": "@jupyter-widgets/controls",
            "_model_module_version": "1.5.0",
            "value": " 248k/248k [00:02&lt;00:00, 98.3kB/s]",
            "_view_count": null,
            "_view_module_version": "1.5.0",
            "description_tooltip": null,
            "_model_module": "@jupyter-widgets/controls",
            "layout": "IPY_MODEL_7ff587b1d55f4d33ad82a979303baae5"
          }
        },
        "252992e5e2684ca7b611bf70a30d0d36": {
          "model_module": "@jupyter-widgets/controls",
          "model_name": "ProgressStyleModel",
          "model_module_version": "1.5.0",
          "state": {
            "_view_name": "StyleView",
            "_model_name": "ProgressStyleModel",
            "description_width": "initial",
            "_view_module": "@jupyter-widgets/base",
            "_model_module_version": "1.5.0",
            "_view_count": null,
            "_view_module_version": "1.2.0",
            "bar_color": null,
            "_model_module": "@jupyter-widgets/controls"
          }
        },
        "2d634af570e2493fbcdc7ab2c9eae71d": {
          "model_module": "@jupyter-widgets/base",
          "model_name": "LayoutModel",
          "model_module_version": "1.2.0",
          "state": {
            "_view_name": "LayoutView",
            "grid_template_rows": null,
            "right": null,
            "justify_content": null,
            "_view_module": "@jupyter-widgets/base",
            "overflow": null,
            "_model_module_version": "1.2.0",
            "_view_count": null,
            "flex_flow": null,
            "width": null,
            "min_width": null,
            "border": null,
            "align_items": null,
            "bottom": null,
            "_model_module": "@jupyter-widgets/base",
            "top": null,
            "grid_column": null,
            "overflow_y": null,
            "overflow_x": null,
            "grid_auto_flow": null,
            "grid_area": null,
            "grid_template_columns": null,
            "flex": null,
            "_model_name": "LayoutModel",
            "justify_items": null,
            "grid_row": null,
            "max_height": null,
            "align_content": null,
            "visibility": null,
            "align_self": null,
            "height": null,
            "min_height": null,
            "padding": null,
            "grid_auto_rows": null,
            "grid_gap": null,
            "max_width": null,
            "order": null,
            "_view_module_version": "1.2.0",
            "grid_template_areas": null,
            "object_position": null,
            "object_fit": null,
            "grid_auto_columns": null,
            "margin": null,
            "display": null,
            "left": null
          }
        },
        "2f0c8d15a30c49eb8a81fe8c99fb16a0": {
          "model_module": "@jupyter-widgets/controls",
          "model_name": "DescriptionStyleModel",
          "model_module_version": "1.5.0",
          "state": {
            "_view_name": "StyleView",
            "_model_name": "DescriptionStyleModel",
            "description_width": "",
            "_view_module": "@jupyter-widgets/base",
            "_model_module_version": "1.5.0",
            "_view_count": null,
            "_view_module_version": "1.2.0",
            "_model_module": "@jupyter-widgets/controls"
          }
        },
        "7ff587b1d55f4d33ad82a979303baae5": {
          "model_module": "@jupyter-widgets/base",
          "model_name": "LayoutModel",
          "model_module_version": "1.2.0",
          "state": {
            "_view_name": "LayoutView",
            "grid_template_rows": null,
            "right": null,
            "justify_content": null,
            "_view_module": "@jupyter-widgets/base",
            "overflow": null,
            "_model_module_version": "1.2.0",
            "_view_count": null,
            "flex_flow": null,
            "width": null,
            "min_width": null,
            "border": null,
            "align_items": null,
            "bottom": null,
            "_model_module": "@jupyter-widgets/base",
            "top": null,
            "grid_column": null,
            "overflow_y": null,
            "overflow_x": null,
            "grid_auto_flow": null,
            "grid_area": null,
            "grid_template_columns": null,
            "flex": null,
            "_model_name": "LayoutModel",
            "justify_items": null,
            "grid_row": null,
            "max_height": null,
            "align_content": null,
            "visibility": null,
            "align_self": null,
            "height": null,
            "min_height": null,
            "padding": null,
            "grid_auto_rows": null,
            "grid_gap": null,
            "max_width": null,
            "order": null,
            "_view_module_version": "1.2.0",
            "grid_template_areas": null,
            "object_position": null,
            "object_fit": null,
            "grid_auto_columns": null,
            "margin": null,
            "display": null,
            "left": null
          }
        },
        "c2524e02d0944c26a50667472eccb5c5": {
          "model_module": "@jupyter-widgets/controls",
          "model_name": "HBoxModel",
          "model_module_version": "1.5.0",
          "state": {
            "_view_name": "HBoxView",
            "_dom_classes": [],
            "_model_name": "HBoxModel",
            "_view_module": "@jupyter-widgets/controls",
            "_model_module_version": "1.5.0",
            "_view_count": null,
            "_view_module_version": "1.5.0",
            "box_style": "",
            "layout": "IPY_MODEL_919f57b698cf4a329a3a82573d345927",
            "_model_module": "@jupyter-widgets/controls",
            "children": [
              "IPY_MODEL_3e902ec717804505a38c0c907d508e73",
              "IPY_MODEL_da958bd52bbd472f90ccf00ab38514e6"
            ]
          }
        },
        "919f57b698cf4a329a3a82573d345927": {
          "model_module": "@jupyter-widgets/base",
          "model_name": "LayoutModel",
          "model_module_version": "1.2.0",
          "state": {
            "_view_name": "LayoutView",
            "grid_template_rows": null,
            "right": null,
            "justify_content": null,
            "_view_module": "@jupyter-widgets/base",
            "overflow": null,
            "_model_module_version": "1.2.0",
            "_view_count": null,
            "flex_flow": null,
            "width": null,
            "min_width": null,
            "border": null,
            "align_items": null,
            "bottom": null,
            "_model_module": "@jupyter-widgets/base",
            "top": null,
            "grid_column": null,
            "overflow_y": null,
            "overflow_x": null,
            "grid_auto_flow": null,
            "grid_area": null,
            "grid_template_columns": null,
            "flex": null,
            "_model_name": "LayoutModel",
            "justify_items": null,
            "grid_row": null,
            "max_height": null,
            "align_content": null,
            "visibility": null,
            "align_self": null,
            "height": null,
            "min_height": null,
            "padding": null,
            "grid_auto_rows": null,
            "grid_gap": null,
            "max_width": null,
            "order": null,
            "_view_module_version": "1.2.0",
            "grid_template_areas": null,
            "object_position": null,
            "object_fit": null,
            "grid_auto_columns": null,
            "margin": null,
            "display": null,
            "left": null
          }
        },
        "3e902ec717804505a38c0c907d508e73": {
          "model_module": "@jupyter-widgets/controls",
          "model_name": "FloatProgressModel",
          "model_module_version": "1.5.0",
          "state": {
            "_view_name": "ProgressView",
            "style": "IPY_MODEL_56524b7ae72b45f8a4867f8dfd38d351",
            "_dom_classes": [],
            "description": "Downloading: 100%",
            "_model_name": "FloatProgressModel",
            "bar_style": "success",
            "max": 494860,
            "_view_module": "@jupyter-widgets/controls",
            "_model_module_version": "1.5.0",
            "value": 494860,
            "_view_count": null,
            "_view_module_version": "1.5.0",
            "orientation": "horizontal",
            "min": 0,
            "description_tooltip": null,
            "_model_module": "@jupyter-widgets/controls",
            "layout": "IPY_MODEL_e0e043e08aa24e61a5e61751a7785940"
          }
        },
        "da958bd52bbd472f90ccf00ab38514e6": {
          "model_module": "@jupyter-widgets/controls",
          "model_name": "HTMLModel",
          "model_module_version": "1.5.0",
          "state": {
            "_view_name": "HTMLView",
            "style": "IPY_MODEL_5dcb54f918cf4a6ea8eff778410a6493",
            "_dom_classes": [],
            "description": "",
            "_model_name": "HTMLModel",
            "placeholder": "​",
            "_view_module": "@jupyter-widgets/controls",
            "_model_module_version": "1.5.0",
            "value": " 495k/495k [00:01&lt;00:00, 351kB/s]",
            "_view_count": null,
            "_view_module_version": "1.5.0",
            "description_tooltip": null,
            "_model_module": "@jupyter-widgets/controls",
            "layout": "IPY_MODEL_2c8440e7b81b48a58b889996d9c74f3f"
          }
        },
        "56524b7ae72b45f8a4867f8dfd38d351": {
          "model_module": "@jupyter-widgets/controls",
          "model_name": "ProgressStyleModel",
          "model_module_version": "1.5.0",
          "state": {
            "_view_name": "StyleView",
            "_model_name": "ProgressStyleModel",
            "description_width": "initial",
            "_view_module": "@jupyter-widgets/base",
            "_model_module_version": "1.5.0",
            "_view_count": null,
            "_view_module_version": "1.2.0",
            "bar_color": null,
            "_model_module": "@jupyter-widgets/controls"
          }
        },
        "e0e043e08aa24e61a5e61751a7785940": {
          "model_module": "@jupyter-widgets/base",
          "model_name": "LayoutModel",
          "model_module_version": "1.2.0",
          "state": {
            "_view_name": "LayoutView",
            "grid_template_rows": null,
            "right": null,
            "justify_content": null,
            "_view_module": "@jupyter-widgets/base",
            "overflow": null,
            "_model_module_version": "1.2.0",
            "_view_count": null,
            "flex_flow": null,
            "width": null,
            "min_width": null,
            "border": null,
            "align_items": null,
            "bottom": null,
            "_model_module": "@jupyter-widgets/base",
            "top": null,
            "grid_column": null,
            "overflow_y": null,
            "overflow_x": null,
            "grid_auto_flow": null,
            "grid_area": null,
            "grid_template_columns": null,
            "flex": null,
            "_model_name": "LayoutModel",
            "justify_items": null,
            "grid_row": null,
            "max_height": null,
            "align_content": null,
            "visibility": null,
            "align_self": null,
            "height": null,
            "min_height": null,
            "padding": null,
            "grid_auto_rows": null,
            "grid_gap": null,
            "max_width": null,
            "order": null,
            "_view_module_version": "1.2.0",
            "grid_template_areas": null,
            "object_position": null,
            "object_fit": null,
            "grid_auto_columns": null,
            "margin": null,
            "display": null,
            "left": null
          }
        },
        "5dcb54f918cf4a6ea8eff778410a6493": {
          "model_module": "@jupyter-widgets/controls",
          "model_name": "DescriptionStyleModel",
          "model_module_version": "1.5.0",
          "state": {
            "_view_name": "StyleView",
            "_model_name": "DescriptionStyleModel",
            "description_width": "",
            "_view_module": "@jupyter-widgets/base",
            "_model_module_version": "1.5.0",
            "_view_count": null,
            "_view_module_version": "1.2.0",
            "_model_module": "@jupyter-widgets/controls"
          }
        },
        "2c8440e7b81b48a58b889996d9c74f3f": {
          "model_module": "@jupyter-widgets/base",
          "model_name": "LayoutModel",
          "model_module_version": "1.2.0",
          "state": {
            "_view_name": "LayoutView",
            "grid_template_rows": null,
            "right": null,
            "justify_content": null,
            "_view_module": "@jupyter-widgets/base",
            "overflow": null,
            "_model_module_version": "1.2.0",
            "_view_count": null,
            "flex_flow": null,
            "width": null,
            "min_width": null,
            "border": null,
            "align_items": null,
            "bottom": null,
            "_model_module": "@jupyter-widgets/base",
            "top": null,
            "grid_column": null,
            "overflow_y": null,
            "overflow_x": null,
            "grid_auto_flow": null,
            "grid_area": null,
            "grid_template_columns": null,
            "flex": null,
            "_model_name": "LayoutModel",
            "justify_items": null,
            "grid_row": null,
            "max_height": null,
            "align_content": null,
            "visibility": null,
            "align_self": null,
            "height": null,
            "min_height": null,
            "padding": null,
            "grid_auto_rows": null,
            "grid_gap": null,
            "max_width": null,
            "order": null,
            "_view_module_version": "1.2.0",
            "grid_template_areas": null,
            "object_position": null,
            "object_fit": null,
            "grid_auto_columns": null,
            "margin": null,
            "display": null,
            "left": null
          }
        },
        "186b8ce634bc43c280bec47ed412847b": {
          "model_module": "@jupyter-widgets/controls",
          "model_name": "HBoxModel",
          "model_module_version": "1.5.0",
          "state": {
            "_view_name": "HBoxView",
            "_dom_classes": [],
            "_model_name": "HBoxModel",
            "_view_module": "@jupyter-widgets/controls",
            "_model_module_version": "1.5.0",
            "_view_count": null,
            "_view_module_version": "1.5.0",
            "box_style": "",
            "layout": "IPY_MODEL_3274840560db4fd7b15c86e52ee2ff55",
            "_model_module": "@jupyter-widgets/controls",
            "children": [
              "IPY_MODEL_cb8f7ed54a194bb7bc86e51e2db7bb7c",
              "IPY_MODEL_13bfef20619844f88e6198de815c41ff"
            ]
          }
        },
        "3274840560db4fd7b15c86e52ee2ff55": {
          "model_module": "@jupyter-widgets/base",
          "model_name": "LayoutModel",
          "model_module_version": "1.2.0",
          "state": {
            "_view_name": "LayoutView",
            "grid_template_rows": null,
            "right": null,
            "justify_content": null,
            "_view_module": "@jupyter-widgets/base",
            "overflow": null,
            "_model_module_version": "1.2.0",
            "_view_count": null,
            "flex_flow": null,
            "width": null,
            "min_width": null,
            "border": null,
            "align_items": null,
            "bottom": null,
            "_model_module": "@jupyter-widgets/base",
            "top": null,
            "grid_column": null,
            "overflow_y": null,
            "overflow_x": null,
            "grid_auto_flow": null,
            "grid_area": null,
            "grid_template_columns": null,
            "flex": null,
            "_model_name": "LayoutModel",
            "justify_items": null,
            "grid_row": null,
            "max_height": null,
            "align_content": null,
            "visibility": null,
            "align_self": null,
            "height": null,
            "min_height": null,
            "padding": null,
            "grid_auto_rows": null,
            "grid_gap": null,
            "max_width": null,
            "order": null,
            "_view_module_version": "1.2.0",
            "grid_template_areas": null,
            "object_position": null,
            "object_fit": null,
            "grid_auto_columns": null,
            "margin": null,
            "display": null,
            "left": null
          }
        },
        "cb8f7ed54a194bb7bc86e51e2db7bb7c": {
          "model_module": "@jupyter-widgets/controls",
          "model_name": "FloatProgressModel",
          "model_module_version": "1.5.0",
          "state": {
            "_view_name": "ProgressView",
            "style": "IPY_MODEL_a18a419b8a254bbfab58da78312878db",
            "_dom_classes": [],
            "description": "Downloading: 100%",
            "_model_name": "FloatProgressModel",
            "bar_style": "success",
            "max": 125,
            "_view_module": "@jupyter-widgets/controls",
            "_model_module_version": "1.5.0",
            "value": 125,
            "_view_count": null,
            "_view_module_version": "1.5.0",
            "orientation": "horizontal",
            "min": 0,
            "description_tooltip": null,
            "_model_module": "@jupyter-widgets/controls",
            "layout": "IPY_MODEL_4008ab22705c410aa8872c96443f1af8"
          }
        },
        "13bfef20619844f88e6198de815c41ff": {
          "model_module": "@jupyter-widgets/controls",
          "model_name": "HTMLModel",
          "model_module_version": "1.5.0",
          "state": {
            "_view_name": "HTMLView",
            "style": "IPY_MODEL_f4d3040bc6384873ad7aeb88dba01549",
            "_dom_classes": [],
            "description": "",
            "_model_name": "HTMLModel",
            "placeholder": "​",
            "_view_module": "@jupyter-widgets/controls",
            "_model_module_version": "1.5.0",
            "value": " 125/125 [00:00&lt;00:00, 137B/s]",
            "_view_count": null,
            "_view_module_version": "1.5.0",
            "description_tooltip": null,
            "_model_module": "@jupyter-widgets/controls",
            "layout": "IPY_MODEL_ec0d5c053726448f984cd91f63e08448"
          }
        },
        "a18a419b8a254bbfab58da78312878db": {
          "model_module": "@jupyter-widgets/controls",
          "model_name": "ProgressStyleModel",
          "model_module_version": "1.5.0",
          "state": {
            "_view_name": "StyleView",
            "_model_name": "ProgressStyleModel",
            "description_width": "initial",
            "_view_module": "@jupyter-widgets/base",
            "_model_module_version": "1.5.0",
            "_view_count": null,
            "_view_module_version": "1.2.0",
            "bar_color": null,
            "_model_module": "@jupyter-widgets/controls"
          }
        },
        "4008ab22705c410aa8872c96443f1af8": {
          "model_module": "@jupyter-widgets/base",
          "model_name": "LayoutModel",
          "model_module_version": "1.2.0",
          "state": {
            "_view_name": "LayoutView",
            "grid_template_rows": null,
            "right": null,
            "justify_content": null,
            "_view_module": "@jupyter-widgets/base",
            "overflow": null,
            "_model_module_version": "1.2.0",
            "_view_count": null,
            "flex_flow": null,
            "width": null,
            "min_width": null,
            "border": null,
            "align_items": null,
            "bottom": null,
            "_model_module": "@jupyter-widgets/base",
            "top": null,
            "grid_column": null,
            "overflow_y": null,
            "overflow_x": null,
            "grid_auto_flow": null,
            "grid_area": null,
            "grid_template_columns": null,
            "flex": null,
            "_model_name": "LayoutModel",
            "justify_items": null,
            "grid_row": null,
            "max_height": null,
            "align_content": null,
            "visibility": null,
            "align_self": null,
            "height": null,
            "min_height": null,
            "padding": null,
            "grid_auto_rows": null,
            "grid_gap": null,
            "max_width": null,
            "order": null,
            "_view_module_version": "1.2.0",
            "grid_template_areas": null,
            "object_position": null,
            "object_fit": null,
            "grid_auto_columns": null,
            "margin": null,
            "display": null,
            "left": null
          }
        },
        "f4d3040bc6384873ad7aeb88dba01549": {
          "model_module": "@jupyter-widgets/controls",
          "model_name": "DescriptionStyleModel",
          "model_module_version": "1.5.0",
          "state": {
            "_view_name": "StyleView",
            "_model_name": "DescriptionStyleModel",
            "description_width": "",
            "_view_module": "@jupyter-widgets/base",
            "_model_module_version": "1.5.0",
            "_view_count": null,
            "_view_module_version": "1.2.0",
            "_model_module": "@jupyter-widgets/controls"
          }
        },
        "ec0d5c053726448f984cd91f63e08448": {
          "model_module": "@jupyter-widgets/base",
          "model_name": "LayoutModel",
          "model_module_version": "1.2.0",
          "state": {
            "_view_name": "LayoutView",
            "grid_template_rows": null,
            "right": null,
            "justify_content": null,
            "_view_module": "@jupyter-widgets/base",
            "overflow": null,
            "_model_module_version": "1.2.0",
            "_view_count": null,
            "flex_flow": null,
            "width": null,
            "min_width": null,
            "border": null,
            "align_items": null,
            "bottom": null,
            "_model_module": "@jupyter-widgets/base",
            "top": null,
            "grid_column": null,
            "overflow_y": null,
            "overflow_x": null,
            "grid_auto_flow": null,
            "grid_area": null,
            "grid_template_columns": null,
            "flex": null,
            "_model_name": "LayoutModel",
            "justify_items": null,
            "grid_row": null,
            "max_height": null,
            "align_content": null,
            "visibility": null,
            "align_self": null,
            "height": null,
            "min_height": null,
            "padding": null,
            "grid_auto_rows": null,
            "grid_gap": null,
            "max_width": null,
            "order": null,
            "_view_module_version": "1.2.0",
            "grid_template_areas": null,
            "object_position": null,
            "object_fit": null,
            "grid_auto_columns": null,
            "margin": null,
            "display": null,
            "left": null
          }
        },
        "b9d93c274b8846dbb72fc21d6764b3d8": {
          "model_module": "@jupyter-widgets/controls",
          "model_name": "HBoxModel",
          "model_module_version": "1.5.0",
          "state": {
            "_view_name": "HBoxView",
            "_dom_classes": [],
            "_model_name": "HBoxModel",
            "_view_module": "@jupyter-widgets/controls",
            "_model_module_version": "1.5.0",
            "_view_count": null,
            "_view_module_version": "1.5.0",
            "box_style": "",
            "layout": "IPY_MODEL_c52b255130e449beb985a93ea8f811d4",
            "_model_module": "@jupyter-widgets/controls",
            "children": [
              "IPY_MODEL_80db60a959594a85939b35f4e9ee3fb2",
              "IPY_MODEL_700ba666a0f94145ad5728c4ca9d54b1"
            ]
          }
        },
        "c52b255130e449beb985a93ea8f811d4": {
          "model_module": "@jupyter-widgets/base",
          "model_name": "LayoutModel",
          "model_module_version": "1.2.0",
          "state": {
            "_view_name": "LayoutView",
            "grid_template_rows": null,
            "right": null,
            "justify_content": null,
            "_view_module": "@jupyter-widgets/base",
            "overflow": null,
            "_model_module_version": "1.2.0",
            "_view_count": null,
            "flex_flow": null,
            "width": null,
            "min_width": null,
            "border": null,
            "align_items": null,
            "bottom": null,
            "_model_module": "@jupyter-widgets/base",
            "top": null,
            "grid_column": null,
            "overflow_y": null,
            "overflow_x": null,
            "grid_auto_flow": null,
            "grid_area": null,
            "grid_template_columns": null,
            "flex": null,
            "_model_name": "LayoutModel",
            "justify_items": null,
            "grid_row": null,
            "max_height": null,
            "align_content": null,
            "visibility": null,
            "align_self": null,
            "height": null,
            "min_height": null,
            "padding": null,
            "grid_auto_rows": null,
            "grid_gap": null,
            "max_width": null,
            "order": null,
            "_view_module_version": "1.2.0",
            "grid_template_areas": null,
            "object_position": null,
            "object_fit": null,
            "grid_auto_columns": null,
            "margin": null,
            "display": null,
            "left": null
          }
        },
        "80db60a959594a85939b35f4e9ee3fb2": {
          "model_module": "@jupyter-widgets/controls",
          "model_name": "FloatProgressModel",
          "model_module_version": "1.5.0",
          "state": {
            "_view_name": "ProgressView",
            "style": "IPY_MODEL_4e91ff1dd6d2419a86dfc80259dd71b4",
            "_dom_classes": [],
            "description": "Downloading: 100%",
            "_model_name": "FloatProgressModel",
            "bar_style": "success",
            "max": 289,
            "_view_module": "@jupyter-widgets/controls",
            "_model_module_version": "1.5.0",
            "value": 289,
            "_view_count": null,
            "_view_module_version": "1.5.0",
            "orientation": "horizontal",
            "min": 0,
            "description_tooltip": null,
            "_model_module": "@jupyter-widgets/controls",
            "layout": "IPY_MODEL_34675354e539450b85974ddbc405028d"
          }
        },
        "700ba666a0f94145ad5728c4ca9d54b1": {
          "model_module": "@jupyter-widgets/controls",
          "model_name": "HTMLModel",
          "model_module_version": "1.5.0",
          "state": {
            "_view_name": "HTMLView",
            "style": "IPY_MODEL_072b786d2869495197a285dffc0fd5c8",
            "_dom_classes": [],
            "description": "",
            "_model_name": "HTMLModel",
            "placeholder": "​",
            "_view_module": "@jupyter-widgets/controls",
            "_model_module_version": "1.5.0",
            "value": " 289/289 [00:00&lt;00:00, 1.57kB/s]",
            "_view_count": null,
            "_view_module_version": "1.5.0",
            "description_tooltip": null,
            "_model_module": "@jupyter-widgets/controls",
            "layout": "IPY_MODEL_12a6537263ba47ae8342793b21633edc"
          }
        },
        "4e91ff1dd6d2419a86dfc80259dd71b4": {
          "model_module": "@jupyter-widgets/controls",
          "model_name": "ProgressStyleModel",
          "model_module_version": "1.5.0",
          "state": {
            "_view_name": "StyleView",
            "_model_name": "ProgressStyleModel",
            "description_width": "initial",
            "_view_module": "@jupyter-widgets/base",
            "_model_module_version": "1.5.0",
            "_view_count": null,
            "_view_module_version": "1.2.0",
            "bar_color": null,
            "_model_module": "@jupyter-widgets/controls"
          }
        },
        "34675354e539450b85974ddbc405028d": {
          "model_module": "@jupyter-widgets/base",
          "model_name": "LayoutModel",
          "model_module_version": "1.2.0",
          "state": {
            "_view_name": "LayoutView",
            "grid_template_rows": null,
            "right": null,
            "justify_content": null,
            "_view_module": "@jupyter-widgets/base",
            "overflow": null,
            "_model_module_version": "1.2.0",
            "_view_count": null,
            "flex_flow": null,
            "width": null,
            "min_width": null,
            "border": null,
            "align_items": null,
            "bottom": null,
            "_model_module": "@jupyter-widgets/base",
            "top": null,
            "grid_column": null,
            "overflow_y": null,
            "overflow_x": null,
            "grid_auto_flow": null,
            "grid_area": null,
            "grid_template_columns": null,
            "flex": null,
            "_model_name": "LayoutModel",
            "justify_items": null,
            "grid_row": null,
            "max_height": null,
            "align_content": null,
            "visibility": null,
            "align_self": null,
            "height": null,
            "min_height": null,
            "padding": null,
            "grid_auto_rows": null,
            "grid_gap": null,
            "max_width": null,
            "order": null,
            "_view_module_version": "1.2.0",
            "grid_template_areas": null,
            "object_position": null,
            "object_fit": null,
            "grid_auto_columns": null,
            "margin": null,
            "display": null,
            "left": null
          }
        },
        "072b786d2869495197a285dffc0fd5c8": {
          "model_module": "@jupyter-widgets/controls",
          "model_name": "DescriptionStyleModel",
          "model_module_version": "1.5.0",
          "state": {
            "_view_name": "StyleView",
            "_model_name": "DescriptionStyleModel",
            "description_width": "",
            "_view_module": "@jupyter-widgets/base",
            "_model_module_version": "1.5.0",
            "_view_count": null,
            "_view_module_version": "1.2.0",
            "_model_module": "@jupyter-widgets/controls"
          }
        },
        "12a6537263ba47ae8342793b21633edc": {
          "model_module": "@jupyter-widgets/base",
          "model_name": "LayoutModel",
          "model_module_version": "1.2.0",
          "state": {
            "_view_name": "LayoutView",
            "grid_template_rows": null,
            "right": null,
            "justify_content": null,
            "_view_module": "@jupyter-widgets/base",
            "overflow": null,
            "_model_module_version": "1.2.0",
            "_view_count": null,
            "flex_flow": null,
            "width": null,
            "min_width": null,
            "border": null,
            "align_items": null,
            "bottom": null,
            "_model_module": "@jupyter-widgets/base",
            "top": null,
            "grid_column": null,
            "overflow_y": null,
            "overflow_x": null,
            "grid_auto_flow": null,
            "grid_area": null,
            "grid_template_columns": null,
            "flex": null,
            "_model_name": "LayoutModel",
            "justify_items": null,
            "grid_row": null,
            "max_height": null,
            "align_content": null,
            "visibility": null,
            "align_self": null,
            "height": null,
            "min_height": null,
            "padding": null,
            "grid_auto_rows": null,
            "grid_gap": null,
            "max_width": null,
            "order": null,
            "_view_module_version": "1.2.0",
            "grid_template_areas": null,
            "object_position": null,
            "object_fit": null,
            "grid_auto_columns": null,
            "margin": null,
            "display": null,
            "left": null
          }
        },
        "1b16d8e4c2d74aab9fdda9ae60c21441": {
          "model_module": "@jupyter-widgets/controls",
          "model_name": "HBoxModel",
          "model_module_version": "1.5.0",
          "state": {
            "_view_name": "HBoxView",
            "_dom_classes": [],
            "_model_name": "HBoxModel",
            "_view_module": "@jupyter-widgets/controls",
            "_model_module_version": "1.5.0",
            "_view_count": null,
            "_view_module_version": "1.5.0",
            "box_style": "",
            "layout": "IPY_MODEL_58ca9dbe05d149fcb73677736541c1ce",
            "_model_module": "@jupyter-widgets/controls",
            "children": [
              "IPY_MODEL_92cbaf4e42694aca93e327941b1c9422",
              "IPY_MODEL_e4c5ce6351014015aa41d8a43fdca7d8",
              "IPY_MODEL_9407250e75c14524be3fa222b02c4f74"
            ]
          }
        },
        "58ca9dbe05d149fcb73677736541c1ce": {
          "model_module": "@jupyter-widgets/base",
          "model_name": "LayoutModel",
          "model_module_version": "1.2.0",
          "state": {
            "_view_name": "LayoutView",
            "grid_template_rows": null,
            "right": null,
            "justify_content": null,
            "_view_module": "@jupyter-widgets/base",
            "overflow": null,
            "_model_module_version": "1.2.0",
            "_view_count": null,
            "flex_flow": null,
            "width": null,
            "min_width": null,
            "border": null,
            "align_items": null,
            "bottom": null,
            "_model_module": "@jupyter-widgets/base",
            "top": null,
            "grid_column": null,
            "overflow_y": null,
            "overflow_x": null,
            "grid_auto_flow": null,
            "grid_area": null,
            "grid_template_columns": null,
            "flex": null,
            "_model_name": "LayoutModel",
            "justify_items": null,
            "grid_row": null,
            "max_height": null,
            "align_content": null,
            "visibility": null,
            "align_self": null,
            "height": null,
            "min_height": null,
            "padding": null,
            "grid_auto_rows": null,
            "grid_gap": null,
            "max_width": null,
            "order": null,
            "_view_module_version": "1.2.0",
            "grid_template_areas": null,
            "object_position": null,
            "object_fit": null,
            "grid_auto_columns": null,
            "margin": null,
            "display": null,
            "left": null
          }
        },
        "92cbaf4e42694aca93e327941b1c9422": {
          "model_module": "@jupyter-widgets/controls",
          "model_name": "HTMLModel",
          "model_module_version": "1.5.0",
          "state": {
            "_view_name": "HTMLView",
            "style": "IPY_MODEL_e38d794604bb409bb4d41a5bfef5eb61",
            "_dom_classes": [],
            "description": "",
            "_model_name": "HTMLModel",
            "placeholder": "​",
            "_view_module": "@jupyter-widgets/controls",
            "_model_module_version": "1.5.0",
            "value": "100%",
            "_view_count": null,
            "_view_module_version": "1.5.0",
            "description_tooltip": null,
            "_model_module": "@jupyter-widgets/controls",
            "layout": "IPY_MODEL_0a78e445530c4d93a2ccce5bcda351da"
          }
        },
        "e4c5ce6351014015aa41d8a43fdca7d8": {
          "model_module": "@jupyter-widgets/controls",
          "model_name": "FloatProgressModel",
          "model_module_version": "1.5.0",
          "state": {
            "_view_name": "ProgressView",
            "style": "IPY_MODEL_3fe1fbff472c435c94c25c1736081373",
            "_dom_classes": [],
            "description": "",
            "_model_name": "FloatProgressModel",
            "bar_style": "success",
            "max": 2,
            "_view_module": "@jupyter-widgets/controls",
            "_model_module_version": "1.5.0",
            "value": 2,
            "_view_count": null,
            "_view_module_version": "1.5.0",
            "orientation": "horizontal",
            "min": 0,
            "description_tooltip": null,
            "_model_module": "@jupyter-widgets/controls",
            "layout": "IPY_MODEL_430873d31e5c4770afd48183c1a8f1de"
          }
        },
        "9407250e75c14524be3fa222b02c4f74": {
          "model_module": "@jupyter-widgets/controls",
          "model_name": "HTMLModel",
          "model_module_version": "1.5.0",
          "state": {
            "_view_name": "HTMLView",
            "style": "IPY_MODEL_3ad885d798e64e35ae6705412494a52e",
            "_dom_classes": [],
            "description": "",
            "_model_name": "HTMLModel",
            "placeholder": "​",
            "_view_module": "@jupyter-widgets/controls",
            "_model_module_version": "1.5.0",
            "value": " 2/2 [00:00&lt;00:00, 36.73it/s]",
            "_view_count": null,
            "_view_module_version": "1.5.0",
            "description_tooltip": null,
            "_model_module": "@jupyter-widgets/controls",
            "layout": "IPY_MODEL_be78ee5fbd55487fb3dd0da23adbc154"
          }
        },
        "e38d794604bb409bb4d41a5bfef5eb61": {
          "model_module": "@jupyter-widgets/controls",
          "model_name": "DescriptionStyleModel",
          "model_module_version": "1.5.0",
          "state": {
            "_view_name": "StyleView",
            "_model_name": "DescriptionStyleModel",
            "description_width": "",
            "_view_module": "@jupyter-widgets/base",
            "_model_module_version": "1.5.0",
            "_view_count": null,
            "_view_module_version": "1.2.0",
            "_model_module": "@jupyter-widgets/controls"
          }
        },
        "0a78e445530c4d93a2ccce5bcda351da": {
          "model_module": "@jupyter-widgets/base",
          "model_name": "LayoutModel",
          "model_module_version": "1.2.0",
          "state": {
            "_view_name": "LayoutView",
            "grid_template_rows": null,
            "right": null,
            "justify_content": null,
            "_view_module": "@jupyter-widgets/base",
            "overflow": null,
            "_model_module_version": "1.2.0",
            "_view_count": null,
            "flex_flow": null,
            "width": null,
            "min_width": null,
            "border": null,
            "align_items": null,
            "bottom": null,
            "_model_module": "@jupyter-widgets/base",
            "top": null,
            "grid_column": null,
            "overflow_y": null,
            "overflow_x": null,
            "grid_auto_flow": null,
            "grid_area": null,
            "grid_template_columns": null,
            "flex": null,
            "_model_name": "LayoutModel",
            "justify_items": null,
            "grid_row": null,
            "max_height": null,
            "align_content": null,
            "visibility": null,
            "align_self": null,
            "height": null,
            "min_height": null,
            "padding": null,
            "grid_auto_rows": null,
            "grid_gap": null,
            "max_width": null,
            "order": null,
            "_view_module_version": "1.2.0",
            "grid_template_areas": null,
            "object_position": null,
            "object_fit": null,
            "grid_auto_columns": null,
            "margin": null,
            "display": null,
            "left": null
          }
        },
        "3fe1fbff472c435c94c25c1736081373": {
          "model_module": "@jupyter-widgets/controls",
          "model_name": "ProgressStyleModel",
          "model_module_version": "1.5.0",
          "state": {
            "_view_name": "StyleView",
            "_model_name": "ProgressStyleModel",
            "description_width": "",
            "_view_module": "@jupyter-widgets/base",
            "_model_module_version": "1.5.0",
            "_view_count": null,
            "_view_module_version": "1.2.0",
            "bar_color": null,
            "_model_module": "@jupyter-widgets/controls"
          }
        },
        "430873d31e5c4770afd48183c1a8f1de": {
          "model_module": "@jupyter-widgets/base",
          "model_name": "LayoutModel",
          "model_module_version": "1.2.0",
          "state": {
            "_view_name": "LayoutView",
            "grid_template_rows": null,
            "right": null,
            "justify_content": null,
            "_view_module": "@jupyter-widgets/base",
            "overflow": null,
            "_model_module_version": "1.2.0",
            "_view_count": null,
            "flex_flow": null,
            "width": null,
            "min_width": null,
            "border": null,
            "align_items": null,
            "bottom": null,
            "_model_module": "@jupyter-widgets/base",
            "top": null,
            "grid_column": null,
            "overflow_y": null,
            "overflow_x": null,
            "grid_auto_flow": null,
            "grid_area": null,
            "grid_template_columns": null,
            "flex": null,
            "_model_name": "LayoutModel",
            "justify_items": null,
            "grid_row": null,
            "max_height": null,
            "align_content": null,
            "visibility": null,
            "align_self": null,
            "height": null,
            "min_height": null,
            "padding": null,
            "grid_auto_rows": null,
            "grid_gap": null,
            "max_width": null,
            "order": null,
            "_view_module_version": "1.2.0",
            "grid_template_areas": null,
            "object_position": null,
            "object_fit": null,
            "grid_auto_columns": null,
            "margin": null,
            "display": null,
            "left": null
          }
        },
        "3ad885d798e64e35ae6705412494a52e": {
          "model_module": "@jupyter-widgets/controls",
          "model_name": "DescriptionStyleModel",
          "model_module_version": "1.5.0",
          "state": {
            "_view_name": "StyleView",
            "_model_name": "DescriptionStyleModel",
            "description_width": "",
            "_view_module": "@jupyter-widgets/base",
            "_model_module_version": "1.5.0",
            "_view_count": null,
            "_view_module_version": "1.2.0",
            "_model_module": "@jupyter-widgets/controls"
          }
        },
        "be78ee5fbd55487fb3dd0da23adbc154": {
          "model_module": "@jupyter-widgets/base",
          "model_name": "LayoutModel",
          "model_module_version": "1.2.0",
          "state": {
            "_view_name": "LayoutView",
            "grid_template_rows": null,
            "right": null,
            "justify_content": null,
            "_view_module": "@jupyter-widgets/base",
            "overflow": null,
            "_model_module_version": "1.2.0",
            "_view_count": null,
            "flex_flow": null,
            "width": null,
            "min_width": null,
            "border": null,
            "align_items": null,
            "bottom": null,
            "_model_module": "@jupyter-widgets/base",
            "top": null,
            "grid_column": null,
            "overflow_y": null,
            "overflow_x": null,
            "grid_auto_flow": null,
            "grid_area": null,
            "grid_template_columns": null,
            "flex": null,
            "_model_name": "LayoutModel",
            "justify_items": null,
            "grid_row": null,
            "max_height": null,
            "align_content": null,
            "visibility": null,
            "align_self": null,
            "height": null,
            "min_height": null,
            "padding": null,
            "grid_auto_rows": null,
            "grid_gap": null,
            "max_width": null,
            "order": null,
            "_view_module_version": "1.2.0",
            "grid_template_areas": null,
            "object_position": null,
            "object_fit": null,
            "grid_auto_columns": null,
            "margin": null,
            "display": null,
            "left": null
          }
        }
      }
    },
    "interpreter": {
      "hash": "e6a65b5bf72b320117a5cfd505c5a1e2290f30898d5727c674807c535145cbf6"
    }
  },
  "cells": [
    {
      "cell_type": "markdown",
      "metadata": {
        "id": "view-in-github",
        "colab_type": "text"
      },
      "source": [
        "<a href=\"https://colab.research.google.com/github/Hong-Hyun-Seung/upstage-basic-deeplearning/blob/main/1012_MRC_Mission_3_Sparse_%26_Dense_Passage_Retrieval_ipynb%EC%9D%98_%EC%82%AC%EB%B3%B8.ipynb\" target=\"_parent\"><img src=\"https://colab.research.google.com/assets/colab-badge.svg\" alt=\"Open In Colab\"/></a>"
      ]
    },
    {
      "cell_type": "markdown",
      "metadata": {
        "id": "WjDdziEN_VCt"
      },
      "source": [
        "# Passage Retrieval 구현하기"
      ]
    },
    {
      "cell_type": "markdown",
      "metadata": {
        "id": "Jm9gQPjOWKki"
      },
      "source": [
        "이번 과제에서는 3강에서 배운 **Sparse Passage Retrieval** 과 4강에서 배운 **Dense Passage Retrieval (DPR)** 을 구현해봅니다. \n",
        "\n",
        "Passage Retrieval 을 다시 복습해보면,\n",
        "1. Query와 Passage 를 임베딩 시킨 후\n",
        "2. 임베딩된 벡터들에 각각 dot product를 수행하여 유사도를 구한 후에\n",
        "3. 유사도가 가장 높은 passage 들을 검색 대상으로 합니다.   \n",
        "\n",
        "이 때 임베딩 시키는 방법에서 Sparse 와 Dense 가 나누어진 점, 다들 기억하시죠?\n",
        "차근차근 구현해본 후, 전체 Wikipedia 에 대해서도 작업해봅시다."
      ]
    },
    {
      "cell_type": "markdown",
      "metadata": {
        "id": "2ug7dthenVCR"
      },
      "source": [
        "```\n",
        "🛠 Setup을 하는 부분입니다. 이전 과제에서 반복되는 부분이기 때문에 무지성 실행 하셔도 좋습니다.\n",
        "💻 실습 코드입니다. 따라가면서 코드를 이해해보세요.\n",
        "❓ 과제입니다. 주어진 질문과 요구사항에 맞춰서 직접 코드를 짜보세요.\n",
        "```"
      ]
    },
    {
      "cell_type": "markdown",
      "metadata": {
        "id": "HKIvUE3FcdK6"
      },
      "source": [
        "## 🛠 초기설정"
      ]
    },
    {
      "cell_type": "markdown",
      "metadata": {
        "id": "1NWluWk3_VCu"
      },
      "source": [
        "### 🛠 Requirements"
      ]
    },
    {
      "cell_type": "code",
      "metadata": {
        "id": "eGqFS4EEBF_Z",
        "outputId": "d931637e-9ff8-4d3e-ff04-ac5225d292f3",
        "colab": {
          "base_uri": "https://localhost:8080/"
        }
      },
      "source": [
        "!pip install tqdm==4.48.0 -q\n",
        "!pip install datasets==1.4.1 -q\n",
        "!pip install transformers==4.5.0 -q"
      ],
      "execution_count": 1,
      "outputs": [
        {
          "output_type": "stream",
          "name": "stdout",
          "text": [
            "\u001b[K     |████████████████████████████████| 67 kB 4.0 MB/s \n",
            "\u001b[K     |████████████████████████████████| 186 kB 14.8 MB/s \n",
            "\u001b[K     |████████████████████████████████| 125 kB 40.2 MB/s \n",
            "\u001b[K     |████████████████████████████████| 243 kB 23.9 MB/s \n",
            "\u001b[K     |████████████████████████████████| 2.1 MB 11.2 MB/s \n",
            "\u001b[K     |████████████████████████████████| 3.3 MB 42.0 MB/s \n",
            "\u001b[K     |████████████████████████████████| 895 kB 37.8 MB/s \n",
            "\u001b[?25h"
          ]
        }
      ]
    },
    {
      "cell_type": "markdown",
      "metadata": {
        "id": "xHf4ReA9dzyp"
      },
      "source": [
        "### 🛠 난수 고정 및 버전 확인"
      ]
    },
    {
      "cell_type": "code",
      "metadata": {
        "ExecuteTime": {
          "end_time": "2021-09-15T08:06:13.948236Z",
          "start_time": "2021-09-15T08:06:12.672812Z"
        },
        "id": "fNEhsdR6hM-6"
      },
      "source": [
        "import json\n",
        "import random\n",
        "import numpy as np\n",
        "import pandas as pd\n",
        "from tqdm import tqdm, trange\n",
        "from pprint import pprint\n",
        "\n",
        "from sklearn.feature_extraction.text import TfidfVectorizer\n",
        "\n",
        "import torch\n",
        "from torch.utils.data import DataLoader, TensorDataset\n",
        "import torch.nn.functional as F\n",
        "\n",
        "from datasets import load_dataset\n",
        "from transformers import (\n",
        "    AutoTokenizer,\n",
        "    BertModel, BertPreTrainedModel,\n",
        "    AdamW, get_linear_schedule_with_warmup,\n",
        "    TrainingArguments,\n",
        ")"
      ],
      "execution_count": 2,
      "outputs": []
    },
    {
      "cell_type": "code",
      "metadata": {
        "ExecuteTime": {
          "end_time": "2021-09-15T08:06:13.978267Z",
          "start_time": "2021-09-15T08:06:13.951238Z"
        },
        "id": "sSyEXp19d0L1"
      },
      "source": [
        "# 난수 고정\n",
        "def set_seed(random_seed):\n",
        "    torch.manual_seed(random_seed)\n",
        "    torch.cuda.manual_seed(random_seed)\n",
        "    torch.cuda.manual_seed_all(random_seed)  # if use multi-GPU\n",
        "    random.seed(random_seed)\n",
        "    np.random.seed(random_seed)\n",
        "    \n",
        "set_seed(42) # magic number :)"
      ],
      "execution_count": 3,
      "outputs": []
    },
    {
      "cell_type": "code",
      "metadata": {
        "ExecuteTime": {
          "end_time": "2021-09-15T08:06:14.023236Z",
          "start_time": "2021-09-15T08:06:13.979238Z"
        },
        "colab": {
          "base_uri": "https://localhost:8080/"
        },
        "id": "jsayd5Ite-KY",
        "outputId": "7288e457-9446-479a-ebb6-9e2c33d52af6"
      },
      "source": [
        "print (\"PyTorch version:[%s].\"% (torch.__version__))\n",
        "device = torch.device(\"cuda:0\" if torch.cuda.is_available() else \"cpu\")\n",
        "print (\"device:[%s].\"%(device))"
      ],
      "execution_count": 4,
      "outputs": [
        {
          "output_type": "stream",
          "name": "stdout",
          "text": [
            "PyTorch version:[1.9.0+cu111].\n",
            "device:[cuda:0].\n"
          ]
        }
      ]
    },
    {
      "cell_type": "markdown",
      "metadata": {
        "id": "CYUkp06Y_VCv"
      },
      "source": [
        "### 🛠 데이터셋 로딩\n"
      ]
    },
    {
      "cell_type": "markdown",
      "metadata": {
        "id": "KMrZa4uql_nx"
      },
      "source": [
        "KorQuAD 의 train 데이터를 학습 데이터로 활용"
      ]
    },
    {
      "cell_type": "code",
      "metadata": {
        "ExecuteTime": {
          "end_time": "2021-09-15T06:52:46.968793Z",
          "start_time": "2021-09-15T06:52:28.974382Z"
        },
        "colab": {
          "base_uri": "https://localhost:8080/",
          "height": 517,
          "referenced_widgets": [
            "e4d15294b4ec4d83aafe823f281ff920",
            "4da7dc53d7f94d679f734e5f43c5f073",
            "5122a7f81b6642059a1b3f50707525c1",
            "35d43c98ecae4bad9e74bfc6beec1381",
            "02b8d43770dd432899f02974fb1941c1",
            "e1e0293e630f4a37b8c0af52d274f551",
            "e1a79cab9aa247229e1e78a91282768c",
            "503c173890614a55bdfe2f00c6e6d98b",
            "cbd60cede7b14aa49d2065872ff8a331",
            "2596783f97c24e4ca2266442e3b49d26",
            "e6850f8cd05948be8a9cbac0db7a5fb5",
            "d724b4185c2c4d5a849a15264ba45886",
            "399ca860522b42b38eeca2fe91735130",
            "5645e80511464be493d2883211c0538c",
            "fd1fde50e5474f1c93a250f75d7a539f",
            "b4f4363e3a0d485f997352a4525d052a",
            "435a3c1270284d2ea7b9871eb42d8b60",
            "edf4bd7b90f148f6975beadd05ff842a",
            "436aa42e02af46928bf22b5e4eb6322a",
            "022f34431a014884a0aca162c8154c25",
            "5326cdc21eb54955857a009a71cd751a",
            "29d7ee3d212a45feb053354cb838212a",
            "a92e4d4e5ceb4cb1979b86f57b44dfd1",
            "8393adc34c674703bc87f9e1cfc529d1",
            "9027c67eebdd45ff889117c3f655c852",
            "e816b8920865402abaae14a9d302ce35",
            "ac8d2ec7f8084418843b8ab9c564430c",
            "2489914dd86b4c3f8099f6260dabc2c4",
            "bbfd5ccacb2a404fb0c13f08a219eb5b",
            "3f5070fa8bbd4131baa5f70c263033d2",
            "d1eb61d448434d478edcf96045a2b60e",
            "b5d927fc391942babc6fa91cfe243d5d",
            "753bd873f054405f8c045282a6100daf",
            "13f04f854a424a68a78a0eaca39a9c18",
            "4fa20df38a6842fa9063992a0eb0b3a8",
            "a03f2d2b101a4b68b4e2b3759ceabe4b",
            "bbbcb21613cf459fb0409c22a4eb9987",
            "ff7933d861844fd280af22a97d2e7f97",
            "d216e68aae8f457cb82aeea89e9c39c3",
            "d1d3204e9fed45e581d3072a611099a4",
            "a7717c771d544c3188ac1499832bb693",
            "2859affcf7ca4f47b64c2e65aaa97677",
            "08547cf87ce34b2f8875ae89a601a492",
            "7e34afe0afd2488ba968c341c6b50ca5",
            "3b530fb8104743c8aaceb49a4414c091",
            "e8d8a0e938dd4c4db770c57362432994",
            "43b4a8ba88ea49ffb1df8b4109dae775",
            "aa48f71b03724f358a7600f50fb6c2a2"
          ]
        },
        "id": "4IUxepuj_VCv",
        "outputId": "61d45061-70e8-40d5-fe96-ed1f167fd3e8"
      },
      "source": [
        "from datasets import load_dataset\n",
        "\n",
        "dataset = load_dataset(\"squad_kor_v1\")\n",
        "print(\"how dataset looks like\")\n",
        "print(dataset)\n",
        "print(\"how dataset[0] looks like\")\n",
        "print(dataset['train'][0])\n",
        "corpus = list(set([example[\"context\"] for example in dataset[\"train\"]]))\n",
        "print(f\"총 {len(corpus)}개의 지문이 있습니다.\")"
      ],
      "execution_count": 5,
      "outputs": [
        {
          "output_type": "display_data",
          "data": {
            "application/vnd.jupyter.widget-view+json": {
              "model_id": "e4d15294b4ec4d83aafe823f281ff920",
              "version_minor": 0,
              "version_major": 2
            },
            "text/plain": [
              "HBox(children=(FloatProgress(value=0.0, description='Downloading', max=1745.0, style=ProgressStyle(description…"
            ]
          },
          "metadata": {}
        },
        {
          "output_type": "stream",
          "name": "stdout",
          "text": [
            "\n"
          ]
        },
        {
          "output_type": "display_data",
          "data": {
            "application/vnd.jupyter.widget-view+json": {
              "model_id": "cbd60cede7b14aa49d2065872ff8a331",
              "version_minor": 0,
              "version_major": 2
            },
            "text/plain": [
              "HBox(children=(FloatProgress(value=0.0, description='Downloading', max=962.0, style=ProgressStyle(description_…"
            ]
          },
          "metadata": {}
        },
        {
          "output_type": "stream",
          "name": "stdout",
          "text": [
            "\n",
            "Downloading and preparing dataset squad_kor_v1/squad_kor_v1 (download: 40.44 MiB, generated: 87.40 MiB, post-processed: Unknown size, total: 127.84 MiB) to /root/.cache/huggingface/datasets/squad_kor_v1/squad_kor_v1/1.0.0/31982418accc53b059af090befa81e68880acc667ca5405d30ce6fa7910950a7...\n"
          ]
        },
        {
          "output_type": "display_data",
          "data": {
            "application/vnd.jupyter.widget-view+json": {
              "model_id": "435a3c1270284d2ea7b9871eb42d8b60",
              "version_minor": 0,
              "version_major": 2
            },
            "text/plain": [
              "HBox(children=(FloatProgress(value=0.0, description='Downloading', max=7568316.0, style=ProgressStyle(descript…"
            ]
          },
          "metadata": {}
        },
        {
          "output_type": "stream",
          "name": "stdout",
          "text": [
            "\n"
          ]
        },
        {
          "output_type": "display_data",
          "data": {
            "application/vnd.jupyter.widget-view+json": {
              "model_id": "9027c67eebdd45ff889117c3f655c852",
              "version_minor": 0,
              "version_major": 2
            },
            "text/plain": [
              "HBox(children=(FloatProgress(value=0.0, description='Downloading', max=770480.0, style=ProgressStyle(descripti…"
            ]
          },
          "metadata": {}
        },
        {
          "output_type": "stream",
          "name": "stdout",
          "text": [
            "\n"
          ]
        },
        {
          "output_type": "display_data",
          "data": {
            "application/vnd.jupyter.widget-view+json": {
              "model_id": "753bd873f054405f8c045282a6100daf",
              "version_minor": 0,
              "version_major": 2
            },
            "text/plain": [
              "HBox(children=(FloatProgress(value=1.0, bar_style='info', max=1.0), HTML(value='')))"
            ]
          },
          "metadata": {}
        },
        {
          "output_type": "display_data",
          "data": {
            "application/vnd.jupyter.widget-view+json": {
              "model_id": "a7717c771d544c3188ac1499832bb693",
              "version_minor": 0,
              "version_major": 2
            },
            "text/plain": [
              "HBox(children=(FloatProgress(value=1.0, bar_style='info', max=1.0), HTML(value='')))"
            ]
          },
          "metadata": {}
        },
        {
          "output_type": "stream",
          "name": "stdout",
          "text": [
            "Dataset squad_kor_v1 downloaded and prepared to /root/.cache/huggingface/datasets/squad_kor_v1/squad_kor_v1/1.0.0/31982418accc53b059af090befa81e68880acc667ca5405d30ce6fa7910950a7. Subsequent calls will reuse this data.\n",
            "how dataset looks like\n",
            "DatasetDict({\n",
            "    train: Dataset({\n",
            "        features: ['id', 'title', 'context', 'question', 'answers'],\n",
            "        num_rows: 60407\n",
            "    })\n",
            "    validation: Dataset({\n",
            "        features: ['id', 'title', 'context', 'question', 'answers'],\n",
            "        num_rows: 5774\n",
            "    })\n",
            "})\n",
            "how dataset[0] looks like\n",
            "{'answers': {'answer_start': [54], 'text': ['교향곡']}, 'context': '1839년 바그너는 괴테의 파우스트을 처음 읽고 그 내용에 마음이 끌려 이를 소재로 해서 하나의 교향곡을 쓰려는 뜻을 갖는다. 이 시기 바그너는 1838년에 빛 독촉으로 산전수전을 다 걲은 상황이라 좌절과 실망에 가득했으며 메피스토펠레스를 만나는 파우스트의 심경에 공감했다고 한다. 또한 파리에서 아브네크의 지휘로 파리 음악원 관현악단이 연주하는 베토벤의 교향곡 9번을 듣고 깊은 감명을 받았는데, 이것이 이듬해 1월에 파우스트의 서곡으로 쓰여진 이 작품에 조금이라도 영향을 끼쳤으리라는 것은 의심할 여지가 없다. 여기의 라단조 조성의 경우에도 그의 전기에 적혀 있는 것처럼 단순한 정신적 피로나 실의가 반영된 것이 아니라 베토벤의 합창교향곡 조성의 영향을 받은 것을 볼 수 있다. 그렇게 교향곡 작곡을 1839년부터 40년에 걸쳐 파리에서 착수했으나 1악장을 쓴 뒤에 중단했다. 또한 작품의 완성과 동시에 그는 이 서곡(1악장)을 파리 음악원의 연주회에서 연주할 파트보까지 준비하였으나, 실제로는 이루어지지는 않았다. 결국 초연은 4년 반이 지난 후에 드레스덴에서 연주되었고 재연도 이루어졌지만, 이후에 그대로 방치되고 말았다. 그 사이에 그는 리엔치와 방황하는 네덜란드인을 완성하고 탄호이저에도 착수하는 등 분주한 시간을 보냈는데, 그런 바쁜 생활이 이 곡을 잊게 한 것이 아닌가 하는 의견도 있다.', 'id': '6566495-0-0', 'question': '바그너는 괴테의 파우스트를 읽고 무엇을 쓰고자 했는가?', 'title': '파우스트_서곡'}\n",
            "총 9606개의 지문이 있습니다.\n"
          ]
        }
      ]
    },
    {
      "cell_type": "markdown",
      "metadata": {
        "id": "lJtECqpB_VCx"
      },
      "source": [
        "### 🛠 토크나이저 준비 - Huggingface 제공 tokenizer 이용"
      ]
    },
    {
      "cell_type": "markdown",
      "metadata": {
        "id": "X0Fu2WaqpUB8"
      },
      "source": [
        "BERT 를 encoder 로 사용하므로, KLUE에서 제공하는 `klue/bert-base` tokenizer 를 활용해봅시다. 다른 pretrained 모델을 사용하고 싶으시다면, `model_checkpoint`를 바꿔보세요 !"
      ]
    },
    {
      "cell_type": "code",
      "metadata": {
        "ExecuteTime": {
          "end_time": "2021-09-15T06:52:56.152836Z",
          "start_time": "2021-09-15T06:52:46.970795Z"
        },
        "id": "AoB8BHGDmVIK",
        "outputId": "038eac16-a4d7-4263-bd44-38b9f4b64a09",
        "colab": {
          "base_uri": "https://localhost:8080/",
          "height": 265,
          "referenced_widgets": [
            "314a03e6919f41728d867111bcb8e1a5",
            "d91ceb1c6a904e98beebcafafc6afc6c",
            "0aae50edc17f438d841dcbedde43bade",
            "32d37a0594604637915c9f87eeeb70c6",
            "184b84413b7e443faf76d3dc16f6912e",
            "cc6b04bd30b64786a4cfaab1473dcdd5",
            "a361bddb6c784b1a9c94d36c620a26b4",
            "92d190ff8b0d48af887e24285ad1bd40",
            "faff7a593d25438ab28127136f343b6b",
            "f00ca1cf97d2402eb321c2eb1c3f66fe",
            "f69634ddb2f34e20a0079a5322ea57d2",
            "153cbe365a4b4d86b5b929b970c6c8d8",
            "252992e5e2684ca7b611bf70a30d0d36",
            "2d634af570e2493fbcdc7ab2c9eae71d",
            "2f0c8d15a30c49eb8a81fe8c99fb16a0",
            "7ff587b1d55f4d33ad82a979303baae5",
            "c2524e02d0944c26a50667472eccb5c5",
            "919f57b698cf4a329a3a82573d345927",
            "3e902ec717804505a38c0c907d508e73",
            "da958bd52bbd472f90ccf00ab38514e6",
            "56524b7ae72b45f8a4867f8dfd38d351",
            "e0e043e08aa24e61a5e61751a7785940",
            "5dcb54f918cf4a6ea8eff778410a6493",
            "2c8440e7b81b48a58b889996d9c74f3f",
            "186b8ce634bc43c280bec47ed412847b",
            "3274840560db4fd7b15c86e52ee2ff55",
            "cb8f7ed54a194bb7bc86e51e2db7bb7c",
            "13bfef20619844f88e6198de815c41ff",
            "a18a419b8a254bbfab58da78312878db",
            "4008ab22705c410aa8872c96443f1af8",
            "f4d3040bc6384873ad7aeb88dba01549",
            "ec0d5c053726448f984cd91f63e08448",
            "b9d93c274b8846dbb72fc21d6764b3d8",
            "c52b255130e449beb985a93ea8f811d4",
            "80db60a959594a85939b35f4e9ee3fb2",
            "700ba666a0f94145ad5728c4ca9d54b1",
            "4e91ff1dd6d2419a86dfc80259dd71b4",
            "34675354e539450b85974ddbc405028d",
            "072b786d2869495197a285dffc0fd5c8",
            "12a6537263ba47ae8342793b21633edc"
          ]
        }
      },
      "source": [
        "from transformers import AutoTokenizer\n",
        "\n",
        "model_checkpoint = \"klue/bert-base\"\n",
        "tokenizer = AutoTokenizer.from_pretrained(model_checkpoint)"
      ],
      "execution_count": 6,
      "outputs": [
        {
          "output_type": "display_data",
          "data": {
            "application/vnd.jupyter.widget-view+json": {
              "model_id": "314a03e6919f41728d867111bcb8e1a5",
              "version_minor": 0,
              "version_major": 2
            },
            "text/plain": [
              "HBox(children=(FloatProgress(value=0.0, description='Downloading', max=425.0, style=ProgressStyle(description_…"
            ]
          },
          "metadata": {}
        },
        {
          "output_type": "stream",
          "name": "stdout",
          "text": [
            "\n"
          ]
        },
        {
          "output_type": "display_data",
          "data": {
            "application/vnd.jupyter.widget-view+json": {
              "model_id": "faff7a593d25438ab28127136f343b6b",
              "version_minor": 0,
              "version_major": 2
            },
            "text/plain": [
              "HBox(children=(FloatProgress(value=0.0, description='Downloading', max=248477.0, style=ProgressStyle(descripti…"
            ]
          },
          "metadata": {}
        },
        {
          "output_type": "stream",
          "name": "stdout",
          "text": [
            "\n"
          ]
        },
        {
          "output_type": "display_data",
          "data": {
            "application/vnd.jupyter.widget-view+json": {
              "model_id": "c2524e02d0944c26a50667472eccb5c5",
              "version_minor": 0,
              "version_major": 2
            },
            "text/plain": [
              "HBox(children=(FloatProgress(value=0.0, description='Downloading', max=494860.0, style=ProgressStyle(descripti…"
            ]
          },
          "metadata": {}
        },
        {
          "output_type": "stream",
          "name": "stdout",
          "text": [
            "\n"
          ]
        },
        {
          "output_type": "display_data",
          "data": {
            "application/vnd.jupyter.widget-view+json": {
              "model_id": "186b8ce634bc43c280bec47ed412847b",
              "version_minor": 0,
              "version_major": 2
            },
            "text/plain": [
              "HBox(children=(FloatProgress(value=0.0, description='Downloading', max=125.0, style=ProgressStyle(description_…"
            ]
          },
          "metadata": {}
        },
        {
          "output_type": "stream",
          "name": "stdout",
          "text": [
            "\n"
          ]
        },
        {
          "output_type": "display_data",
          "data": {
            "application/vnd.jupyter.widget-view+json": {
              "model_id": "b9d93c274b8846dbb72fc21d6764b3d8",
              "version_minor": 0,
              "version_major": 2
            },
            "text/plain": [
              "HBox(children=(FloatProgress(value=0.0, description='Downloading', max=289.0, style=ProgressStyle(description_…"
            ]
          },
          "metadata": {}
        },
        {
          "output_type": "stream",
          "name": "stdout",
          "text": [
            "\n"
          ]
        }
      ]
    },
    {
      "cell_type": "markdown",
      "metadata": {
        "id": "X48czRQwcxPu"
      },
      "source": [
        "불러온 Tokenzier가 잘 작동하는지 확인해봅시다."
      ]
    },
    {
      "cell_type": "code",
      "metadata": {
        "colab": {
          "base_uri": "https://localhost:8080/"
        },
        "id": "an1FiJ2hxbA_",
        "outputId": "b8bed56a-f731-4d37-d636-4ff65c5388c5"
      },
      "source": [
        "dataset[\"train\"]"
      ],
      "execution_count": 7,
      "outputs": [
        {
          "output_type": "execute_result",
          "data": {
            "text/plain": [
              "Dataset({\n",
              "    features: ['id', 'title', 'context', 'question', 'answers'],\n",
              "    num_rows: 60407\n",
              "})"
            ]
          },
          "metadata": {},
          "execution_count": 7
        }
      ]
    },
    {
      "cell_type": "code",
      "metadata": {
        "colab": {
          "base_uri": "https://localhost:8080/"
        },
        "id": "mB1e9cS3xTfv",
        "outputId": "f7ca2216-9a1c-486c-b80b-4f0b99cd5875"
      },
      "source": [
        "dataset[\"train\"][0]"
      ],
      "execution_count": 8,
      "outputs": [
        {
          "output_type": "execute_result",
          "data": {
            "text/plain": [
              "{'answers': {'answer_start': [54], 'text': ['교향곡']},\n",
              " 'context': '1839년 바그너는 괴테의 파우스트을 처음 읽고 그 내용에 마음이 끌려 이를 소재로 해서 하나의 교향곡을 쓰려는 뜻을 갖는다. 이 시기 바그너는 1838년에 빛 독촉으로 산전수전을 다 걲은 상황이라 좌절과 실망에 가득했으며 메피스토펠레스를 만나는 파우스트의 심경에 공감했다고 한다. 또한 파리에서 아브네크의 지휘로 파리 음악원 관현악단이 연주하는 베토벤의 교향곡 9번을 듣고 깊은 감명을 받았는데, 이것이 이듬해 1월에 파우스트의 서곡으로 쓰여진 이 작품에 조금이라도 영향을 끼쳤으리라는 것은 의심할 여지가 없다. 여기의 라단조 조성의 경우에도 그의 전기에 적혀 있는 것처럼 단순한 정신적 피로나 실의가 반영된 것이 아니라 베토벤의 합창교향곡 조성의 영향을 받은 것을 볼 수 있다. 그렇게 교향곡 작곡을 1839년부터 40년에 걸쳐 파리에서 착수했으나 1악장을 쓴 뒤에 중단했다. 또한 작품의 완성과 동시에 그는 이 서곡(1악장)을 파리 음악원의 연주회에서 연주할 파트보까지 준비하였으나, 실제로는 이루어지지는 않았다. 결국 초연은 4년 반이 지난 후에 드레스덴에서 연주되었고 재연도 이루어졌지만, 이후에 그대로 방치되고 말았다. 그 사이에 그는 리엔치와 방황하는 네덜란드인을 완성하고 탄호이저에도 착수하는 등 분주한 시간을 보냈는데, 그런 바쁜 생활이 이 곡을 잊게 한 것이 아닌가 하는 의견도 있다.',\n",
              " 'id': '6566495-0-0',\n",
              " 'question': '바그너는 괴테의 파우스트를 읽고 무엇을 쓰고자 했는가?',\n",
              " 'title': '파우스트_서곡'}"
            ]
          },
          "metadata": {},
          "execution_count": 8
        }
      ]
    },
    {
      "cell_type": "code",
      "metadata": {
        "ExecuteTime": {
          "end_time": "2021-09-15T06:52:56.182781Z",
          "start_time": "2021-09-15T06:52:56.153749Z"
        },
        "id": "0U7sn3jsu44O"
      },
      "source": [
        "tokenized_input = tokenizer(\n",
        "    dataset[\"train\"][0][\"context\"],\n",
        "    padding=\"max_length\",\n",
        "    truncation=True\n",
        ")\n",
        "#pprint(tokenizer.decode(tokenized_input[\"input_ids\"]))"
      ],
      "execution_count": 9,
      "outputs": []
    },
    {
      "cell_type": "code",
      "metadata": {
        "colab": {
          "base_uri": "https://localhost:8080/"
        },
        "id": "U87R4-skxtZO",
        "outputId": "bec653b2-1d7f-49ed-88ff-82634645fbee"
      },
      "source": [
        "tokenized_input"
      ],
      "execution_count": 10,
      "outputs": [
        {
          "output_type": "execute_result",
          "data": {
            "text/plain": [
              "{'input_ids': [2, 13934, 2236, 2440, 27982, 2259, 21310, 2079, 11994, 3791, 2069, 3790, 1508, 2088, 636, 3800, 2170, 3717, 2052, 9001, 8345, 4642, 2200, 3689, 3657, 2079, 19282, 2069, 1363, 2370, 2259, 936, 2069, 554, 2259, 2062, 18, 1504, 4342, 27982, 2259, 13934, 2196, 2440, 2170, 1195, 23260, 6233, 17370, 2113, 2165, 2069, 809, 1, 3706, 2052, 2181, 8642, 2145, 7334, 2170, 4983, 2371, 4007, 1065, 5917, 2386, 2559, 4443, 2138, 4026, 2259, 11994, 3791, 2079, 15864, 2170, 5487, 2371, 4683, 3605, 18, 3819, 5986, 27135, 1376, 2645, 2203, 2292, 2079, 5872, 2200, 5986, 4152, 2252, 22835, 16706, 2052, 5485, 2205, 2259, 17087, 2079, 19282, 29, 2517, 2069, 881, 2088, 652, 2073, 23404, 2069, 1122, 2886, 13964, 16, 3982, 2052, 9944, 21, 2429, 2170, 11994, 3791, 2079, 1258, 2465, 6233, 24294, 1504, 3967, 2170, 4027, 2052, 5121, 3979, 2069, 18274, 21575, 23548, 575, 2073, 5292, 2085, 7251, 2116, 1415, 2062, 18, 3776, 2079, 942, 2286, 2446, 4196, 2079, 3640, 6509, 636, 2079, 4450, 2170, 10329, 1513, 2259, 575, 7925, 4488, 2470, 4006, 2125, 7874, 2075, 1329, 2079, 2116, 4523, 2897, 575, 2052, 3614, 2181, 17087, 2079, 10044, 2120, 2482, 2465, 4196, 2079, 3979, 2069, 1122, 2073, 575, 2069, 1164, 1295, 1513, 2062, 18, 3914, 19282, 8067, 2069, 13934, 2236, 2440, 3797, 4064, 2440, 2170, 5314, 5986, 27135, 7615, 2371, 4381, 21, 2376, 2121, 2069, 1365, 873, 2170, 4967, 2371, 2062, 18, 3819, 3967, 2079, 4976, 2145, 4213, 2170, 636, 2259, 1504, 1258, 2465, 12, 21, 2376, 2121, 13, 1498, 5986, 4152, 2252, 2079, 16385, 27135, 5485, 2085, 6237, 2178, 2299, 2118, 3864, 2205, 2507, 4381, 16, 4539, 2259, 6268, 2118, 2259, 1380, 2886, 2062, 18, 3983, 16087, 2073, 24, 2440, 1121, 2052, 3625, 1943, 2170, 9605, 2906, 27135, 5485, 2496, 2359, 2088, 17807, 2119, 4046, 6028, 3683, 16, 3719, 2170, 4311, 8095, 2496, 2088, 1041, 2886, 2062, 18, 636, 3734, 2170, 636, 2259, 1028, 2614, 2225, 2522, 14231, 2205, 2259, 8445, 2179, 2069, 4976, 19521, 1763, 2016, 2052, 2190, 6509, 7615, 2205, 2259, 886, 12100, 2470, 3641, 2069, 5755, 13964, 16, 3637, 9064, 3799, 2052, 1504, 595, 2069, 1515, 2318, 1891, 575, 2052, 5215, 1889, 2259, 4192, 2119, 1513, 2062, 18, 3, 0, 0, 0, 0, 0, 0, 0, 0, 0, 0, 0, 0, 0, 0, 0, 0, 0, 0, 0, 0, 0, 0, 0, 0, 0, 0, 0, 0, 0, 0, 0, 0, 0, 0, 0, 0, 0, 0, 0, 0, 0, 0, 0, 0, 0, 0, 0, 0, 0, 0, 0, 0, 0, 0, 0, 0, 0, 0, 0, 0, 0, 0, 0, 0, 0, 0, 0, 0, 0, 0, 0, 0, 0, 0, 0, 0, 0, 0, 0, 0, 0, 0, 0, 0, 0, 0, 0, 0, 0, 0, 0, 0, 0, 0, 0, 0, 0, 0, 0, 0, 0, 0, 0, 0, 0, 0, 0, 0, 0, 0, 0, 0, 0, 0, 0, 0, 0, 0, 0, 0, 0, 0, 0, 0, 0, 0, 0, 0, 0, 0, 0, 0, 0, 0, 0, 0, 0, 0, 0, 0, 0, 0, 0, 0, 0, 0, 0, 0, 0, 0, 0], 'token_type_ids': [0, 0, 0, 0, 0, 0, 0, 0, 0, 0, 0, 0, 0, 0, 0, 0, 0, 0, 0, 0, 0, 0, 0, 0, 0, 0, 0, 0, 0, 0, 0, 0, 0, 0, 0, 0, 0, 0, 0, 0, 0, 0, 0, 0, 0, 0, 0, 0, 0, 0, 0, 0, 0, 0, 0, 0, 0, 0, 0, 0, 0, 0, 0, 0, 0, 0, 0, 0, 0, 0, 0, 0, 0, 0, 0, 0, 0, 0, 0, 0, 0, 0, 0, 0, 0, 0, 0, 0, 0, 0, 0, 0, 0, 0, 0, 0, 0, 0, 0, 0, 0, 0, 0, 0, 0, 0, 0, 0, 0, 0, 0, 0, 0, 0, 0, 0, 0, 0, 0, 0, 0, 0, 0, 0, 0, 0, 0, 0, 0, 0, 0, 0, 0, 0, 0, 0, 0, 0, 0, 0, 0, 0, 0, 0, 0, 0, 0, 0, 0, 0, 0, 0, 0, 0, 0, 0, 0, 0, 0, 0, 0, 0, 0, 0, 0, 0, 0, 0, 0, 0, 0, 0, 0, 0, 0, 0, 0, 0, 0, 0, 0, 0, 0, 0, 0, 0, 0, 0, 0, 0, 0, 0, 0, 0, 0, 0, 0, 0, 0, 0, 0, 0, 0, 0, 0, 0, 0, 0, 0, 0, 0, 0, 0, 0, 0, 0, 0, 0, 0, 0, 0, 0, 0, 0, 0, 0, 0, 0, 0, 0, 0, 0, 0, 0, 0, 0, 0, 0, 0, 0, 0, 0, 0, 0, 0, 0, 0, 0, 0, 0, 0, 0, 0, 0, 0, 0, 0, 0, 0, 0, 0, 0, 0, 0, 0, 0, 0, 0, 0, 0, 0, 0, 0, 0, 0, 0, 0, 0, 0, 0, 0, 0, 0, 0, 0, 0, 0, 0, 0, 0, 0, 0, 0, 0, 0, 0, 0, 0, 0, 0, 0, 0, 0, 0, 0, 0, 0, 0, 0, 0, 0, 0, 0, 0, 0, 0, 0, 0, 0, 0, 0, 0, 0, 0, 0, 0, 0, 0, 0, 0, 0, 0, 0, 0, 0, 0, 0, 0, 0, 0, 0, 0, 0, 0, 0, 0, 0, 0, 0, 0, 0, 0, 0, 0, 0, 0, 0, 0, 0, 0, 0, 0, 0, 0, 0, 0, 0, 0, 0, 0, 0, 0, 0, 0, 0, 0, 0, 0, 0, 0, 0, 0, 0, 0, 0, 0, 0, 0, 0, 0, 0, 0, 0, 0, 0, 0, 0, 0, 0, 0, 0, 0, 0, 0, 0, 0, 0, 0, 0, 0, 0, 0, 0, 0, 0, 0, 0, 0, 0, 0, 0, 0, 0, 0, 0, 0, 0, 0, 0, 0, 0, 0, 0, 0, 0, 0, 0, 0, 0, 0, 0, 0, 0, 0, 0, 0, 0, 0, 0, 0, 0, 0, 0, 0, 0, 0, 0, 0, 0, 0, 0, 0, 0, 0, 0, 0, 0, 0, 0, 0, 0, 0, 0, 0, 0, 0, 0, 0, 0, 0, 0, 0, 0, 0, 0, 0, 0, 0, 0, 0, 0, 0, 0, 0, 0, 0, 0, 0, 0, 0, 0, 0, 0, 0, 0, 0, 0, 0, 0, 0, 0, 0], 'attention_mask': [1, 1, 1, 1, 1, 1, 1, 1, 1, 1, 1, 1, 1, 1, 1, 1, 1, 1, 1, 1, 1, 1, 1, 1, 1, 1, 1, 1, 1, 1, 1, 1, 1, 1, 1, 1, 1, 1, 1, 1, 1, 1, 1, 1, 1, 1, 1, 1, 1, 1, 1, 1, 1, 1, 1, 1, 1, 1, 1, 1, 1, 1, 1, 1, 1, 1, 1, 1, 1, 1, 1, 1, 1, 1, 1, 1, 1, 1, 1, 1, 1, 1, 1, 1, 1, 1, 1, 1, 1, 1, 1, 1, 1, 1, 1, 1, 1, 1, 1, 1, 1, 1, 1, 1, 1, 1, 1, 1, 1, 1, 1, 1, 1, 1, 1, 1, 1, 1, 1, 1, 1, 1, 1, 1, 1, 1, 1, 1, 1, 1, 1, 1, 1, 1, 1, 1, 1, 1, 1, 1, 1, 1, 1, 1, 1, 1, 1, 1, 1, 1, 1, 1, 1, 1, 1, 1, 1, 1, 1, 1, 1, 1, 1, 1, 1, 1, 1, 1, 1, 1, 1, 1, 1, 1, 1, 1, 1, 1, 1, 1, 1, 1, 1, 1, 1, 1, 1, 1, 1, 1, 1, 1, 1, 1, 1, 1, 1, 1, 1, 1, 1, 1, 1, 1, 1, 1, 1, 1, 1, 1, 1, 1, 1, 1, 1, 1, 1, 1, 1, 1, 1, 1, 1, 1, 1, 1, 1, 1, 1, 1, 1, 1, 1, 1, 1, 1, 1, 1, 1, 1, 1, 1, 1, 1, 1, 1, 1, 1, 1, 1, 1, 1, 1, 1, 1, 1, 1, 1, 1, 1, 1, 1, 1, 1, 1, 1, 1, 1, 1, 1, 1, 1, 1, 1, 1, 1, 1, 1, 1, 1, 1, 1, 1, 1, 1, 1, 1, 1, 1, 1, 1, 1, 1, 1, 1, 1, 1, 1, 1, 1, 1, 1, 1, 1, 1, 1, 1, 1, 1, 1, 1, 1, 1, 1, 1, 1, 1, 1, 1, 1, 1, 1, 1, 1, 1, 1, 1, 1, 1, 1, 1, 1, 1, 1, 1, 1, 1, 1, 1, 1, 1, 1, 1, 1, 1, 1, 1, 1, 1, 1, 1, 1, 1, 1, 1, 1, 1, 1, 1, 1, 1, 0, 0, 0, 0, 0, 0, 0, 0, 0, 0, 0, 0, 0, 0, 0, 0, 0, 0, 0, 0, 0, 0, 0, 0, 0, 0, 0, 0, 0, 0, 0, 0, 0, 0, 0, 0, 0, 0, 0, 0, 0, 0, 0, 0, 0, 0, 0, 0, 0, 0, 0, 0, 0, 0, 0, 0, 0, 0, 0, 0, 0, 0, 0, 0, 0, 0, 0, 0, 0, 0, 0, 0, 0, 0, 0, 0, 0, 0, 0, 0, 0, 0, 0, 0, 0, 0, 0, 0, 0, 0, 0, 0, 0, 0, 0, 0, 0, 0, 0, 0, 0, 0, 0, 0, 0, 0, 0, 0, 0, 0, 0, 0, 0, 0, 0, 0, 0, 0, 0, 0, 0, 0, 0, 0, 0, 0, 0, 0, 0, 0, 0, 0, 0, 0, 0, 0, 0, 0, 0, 0, 0, 0, 0, 0, 0, 0, 0, 0, 0, 0, 0]}"
            ]
          },
          "metadata": {},
          "execution_count": 10
        }
      ]
    },
    {
      "cell_type": "code",
      "metadata": {
        "colab": {
          "base_uri": "https://localhost:8080/"
        },
        "id": "KyJqZWGfxyeW",
        "outputId": "efb492c8-eac4-4a81-e918-1a29f239bb36"
      },
      "source": [
        "pprint(tokenizer.decode(tokenized_input[\"input_ids\"]))"
      ],
      "execution_count": 11,
      "outputs": [
        {
          "output_type": "stream",
          "name": "stdout",
          "text": [
            "('[CLS] 1839년 바그너는 괴테의 파우스트을 처음 읽고 그 내용에 마음이 끌려 이를 소재로 해서 하나의 교향곡을 쓰려는 뜻을 갖는다. '\n",
            " '이 시기 바그너는 1838년에 빛 독촉으로 산전수전을 다 [UNK] 상황이라 좌절과 실망에 가득했으며 메피스토펠레스를 만나는 파우스트의 '\n",
            " '심경에 공감했다고 한다. 또한 파리에서 아브네크의 지휘로 파리 음악원 관현악단이 연주하는 베토벤의 교향곡 9번을 듣고 깊은 감명을 '\n",
            " '받았는데, 이것이 이듬해 1월에 파우스트의 서곡으로 쓰여진 이 작품에 조금이라도 영향을 끼쳤으리라는 것은 의심할 여지가 없다. 여기의 '\n",
            " '라단조 조성의 경우에도 그의 전기에 적혀 있는 것처럼 단순한 정신적 피로나 실의가 반영된 것이 아니라 베토벤의 합창교향곡 조성의 영향을 '\n",
            " '받은 것을 볼 수 있다. 그렇게 교향곡 작곡을 1839년부터 40년에 걸쳐 파리에서 착수했으나 1악장을 쓴 뒤에 중단했다. 또한 작품의 '\n",
            " '완성과 동시에 그는 이 서곡 ( 1악장 ) 을 파리 음악원의 연주회에서 연주할 파트보까지 준비하였으나, 실제로는 이루어지지는 않았다. '\n",
            " '결국 초연은 4년 반이 지난 후에 드레스덴에서 연주되었고 재연도 이루어졌지만, 이후에 그대로 방치되고 말았다. 그 사이에 그는 리엔치와 '\n",
            " '방황하는 네덜란드인을 완성하고 탄호이저에도 착수하는 등 분주한 시간을 보냈는데, 그런 바쁜 생활이 이 곡을 잊게 한 것이 아닌가 하는 '\n",
            " '의견도 있다. [SEP] [PAD] [PAD] [PAD] [PAD] [PAD] [PAD] [PAD] [PAD] [PAD] [PAD] '\n",
            " '[PAD] [PAD] [PAD] [PAD] [PAD] [PAD] [PAD] [PAD] [PAD] [PAD] [PAD] [PAD] '\n",
            " '[PAD] [PAD] [PAD] [PAD] [PAD] [PAD] [PAD] [PAD] [PAD] [PAD] [PAD] [PAD] '\n",
            " '[PAD] [PAD] [PAD] [PAD] [PAD] [PAD] [PAD] [PAD] [PAD] [PAD] [PAD] [PAD] '\n",
            " '[PAD] [PAD] [PAD] [PAD] [PAD] [PAD] [PAD] [PAD] [PAD] [PAD] [PAD] [PAD] '\n",
            " '[PAD] [PAD] [PAD] [PAD] [PAD] [PAD] [PAD] [PAD] [PAD] [PAD] [PAD] [PAD] '\n",
            " '[PAD] [PAD] [PAD] [PAD] [PAD] [PAD] [PAD] [PAD] [PAD] [PAD] [PAD] [PAD] '\n",
            " '[PAD] [PAD] [PAD] [PAD] [PAD] [PAD] [PAD] [PAD] [PAD] [PAD] [PAD] [PAD] '\n",
            " '[PAD] [PAD] [PAD] [PAD] [PAD] [PAD] [PAD] [PAD] [PAD] [PAD] [PAD] [PAD] '\n",
            " '[PAD] [PAD] [PAD] [PAD] [PAD] [PAD] [PAD] [PAD] [PAD] [PAD] [PAD] [PAD] '\n",
            " '[PAD] [PAD] [PAD] [PAD] [PAD] [PAD] [PAD] [PAD] [PAD] [PAD] [PAD] [PAD] '\n",
            " '[PAD] [PAD] [PAD] [PAD] [PAD] [PAD] [PAD] [PAD] [PAD] [PAD] [PAD] [PAD] '\n",
            " '[PAD] [PAD] [PAD] [PAD] [PAD] [PAD] [PAD] [PAD] [PAD]')\n"
          ]
        }
      ]
    },
    {
      "cell_type": "markdown",
      "metadata": {
        "id": "ZGPpy1Hpd_7m"
      },
      "source": [
        "## 💻 Ⅰ. Sparse Retriever 실습\n",
        "첫 번째로 TF-IDF 를 통해 임베딩 벡터를 만들어봅시다. 이 모듈은 직접 구현할 필요 없이 `sklearn.feature_extract.text` 에서 구현된 것을 사용합시다!\n",
        "\n",
        "더 간단하게 임베딩 벡터를 구할 수 있습니다.\n",
        "\n",
        "\n"
      ]
    },
    {
      "cell_type": "markdown",
      "metadata": {
        "id": "UCeRbHPvh8UB"
      },
      "source": [
        "### 💻 1. TF-IDF 학습하기\n",
        "TF-IDF 사용법은 sklearn 홈페이지에서 확인할 수 있습니다. 제공된 링크를 읽어보시면, 아래에 작성된 코드를 쉽게 이해하실 수 있을 거에요.\n",
        "\n",
        "\n",
        "*   [TF-IDF 공식 홈페이지](https://scikit-learn.org/stable/modules/generated/sklearn.feature_extraction.text.TfidfVectorizer.html)\n",
        "*   [TF-IDF 사용 예시](https://wikidocs.net/31698)"
      ]
    },
    {
      "cell_type": "code",
      "metadata": {
        "ExecuteTime": {
          "end_time": "2021-09-15T06:52:56.197781Z",
          "start_time": "2021-09-15T06:52:56.183749Z"
        },
        "colab": {
          "base_uri": "https://localhost:8080/"
        },
        "id": "WSQWisY2fUgV",
        "outputId": "9172adba-d761-43a6-dfc9-7ee436d40371"
      },
      "source": [
        "# Huggingface의 Tokenizer를 사용하셔도 좋고\n",
        "tokenizer_func = lambda x: tokenizer.tokenize(x)\n",
        "\n",
        "# 혹은 단순 띄어쓰기 기준으로 Tokenize 하셔도 좋습니다.\n",
        "# tokenizer_func = lambda x: x.split(' ')\n",
        "\n",
        "# 어떻게 Tokenize 되었는지 확인해봅시다.\n",
        "print(f\"{'-'*30} 기존 문장 {'-'*30}\")\n",
        "pprint(corpus[20])\n",
        "print(f\"\\n{'-'*30} Tokenize 된 문장 {'-'*30}\")\n",
        "pprint(\" \".join(tokenizer_func(corpus[20])))"
      ],
      "execution_count": 12,
      "outputs": [
        {
          "output_type": "stream",
          "name": "stdout",
          "text": [
            "------------------------------ 기존 문장 ------------------------------\n",
            "('2014년에는 6월 2일에 열린 캔자스시티 로열스와의 경기에 선발 등판하여 8이닝 동안 6피안타 1볼넷 무실점으로 완벽한 피칭을 하며 '\n",
            " '시즌 개막 후 12경기만에 10승을 달성한다. 벌리는 그 기간동안 겨우 1패에 2.10의 방어율을 기록하며 괴물같은 페이스로 자신의 첫 '\n",
            " '사이영상을 바라보는 듯 했다. 하지만, 점점 페이스가 하락하기 시작하며 사이영상경쟁에서 멀어지게 되었다. 9월 25일에는 시애틀 '\n",
            " '매리너스와의 홈경기에서 선발 등판하여 8이닝 3피안타 무실점으로 막으며 13승과 202이닝을 기록하게 되는데, 이로인해 벌리는 자신의 '\n",
            " '13년 연속 두자릿수 승-200이닝이라는 기록을 14년으로 연장한다. 이는 메이저 리그 역대 최고로 손꼽히는 제구력을 손보인 그레그 '\n",
            " '매덕스의 기록과 동률이다.')\n",
            "\n",
            "------------------------------ Tokenize 된 문장 ------------------------------\n",
            "('2014 ##년 ##에 ##는 6 ##월 2 ##일 ##에 열린 캔 ##자스 ##시티 로열 ##스 ##와 ##의 경기 ##에 선발 등판 '\n",
            " '##하여 8 ##이 ##닝 동안 6 ##피 ##안 ##타 1 ##볼 ##넷 무실점 ##으로 완벽 ##한 피칭 ##을 하 ##며 시즌 개막 '\n",
            " '후 12 ##경기 ##만 ##에 10 ##승 ##을 달성 ##한다 . 벌리 ##는 그 기간 ##동안 겨우 1 ##패 ##에 2 . 10 '\n",
            " '##의 방어 ##율 ##을 기록 ##하 ##며 괴물 ##같 ##은 페이스 ##로 자신 ##의 첫 사이 ##영상 ##을 바라보 ##는 듯 '\n",
            " '했 ##다 . 하지만 , 점점 페이스 ##가 하락 ##하기 시작 ##하 ##며 사이 ##영상 ##경 ##쟁 ##에서 멀 ##어지 ##게 '\n",
            " '되 ##었 ##다 . 9 ##월 25 ##일 ##에 ##는 시애틀 매 ##리 ##너스 ##와 ##의 홈경기 ##에서 선발 등판 ##하여 '\n",
            " '8 ##이 ##닝 3 ##피 ##안 ##타 무실점 ##으로 막 ##으며 13 ##승 ##과 202 ##이 ##닝 ##을 기록 ##하 '\n",
            " '##게 되 ##는데 , 이 ##로 ##인 ##해 벌리 ##는 자신 ##의 13 ##년 연속 두 ##자 ##릿 ##수 승 - 200 ##이 '\n",
            " '##닝 ##이 ##라는 기록 ##을 14 ##년 ##으로 연장 ##한다 . 이 ##는 메이저 리그 역대 최고 ##로 손꼽히 ##는 제 '\n",
            " '##구 ##력 ##을 손보 ##인 그레 ##그 매 ##덕 ##스 ##의 기록 ##과 동 ##률 ##이다 .')\n"
          ]
        }
      ]
    },
    {
      "cell_type": "markdown",
      "metadata": {
        "id": "5LZR8COph2g9"
      },
      "source": [
        "모듈을 활용해서 `fit` 해봅시다. 과정은 어렵지 않습니다."
      ]
    },
    {
      "cell_type": "code",
      "metadata": {
        "ExecuteTime": {
          "end_time": "2021-09-15T06:53:20.560497Z",
          "start_time": "2021-09-15T06:52:56.198781Z"
        },
        "colab": {
          "base_uri": "https://localhost:8080/"
        },
        "id": "OyQ290Cdd64F",
        "outputId": "94c1cbde-06eb-4034-ec22-afcd774c0e28"
      },
      "source": [
        "from sklearn.feature_extraction.text import TfidfVectorizer\n",
        "\n",
        "vectorizer = TfidfVectorizer(\n",
        "    tokenizer=tokenizer_func,\n",
        "    ngram_range=(1,2)\n",
        ")\n",
        "vectorizer.fit(corpus) #corpus = list(set([example[\"context\"] for example in dataset[\"train\"]]))\n",
        "sp_matrix = vectorizer.transform(corpus)"
      ],
      "execution_count": 13,
      "outputs": [
        {
          "output_type": "stream",
          "name": "stderr",
          "text": [
            "/usr/local/lib/python3.7/dist-packages/sklearn/feature_extraction/text.py:507: UserWarning: The parameter 'token_pattern' will not be used since 'tokenizer' is not None'\n",
            "  warnings.warn(\"The parameter 'token_pattern' will not be used\"\n",
            "Token indices sequence length is longer than the specified maximum sequence length for this model (853 > 512). Running this sequence through the model will result in indexing errors\n"
          ]
        }
      ]
    },
    {
      "cell_type": "markdown",
      "metadata": {
        "id": "g4sPODsJ76xm"
      },
      "source": [
        "`Vectorizer`로 임베딩을 시켜주면 (문서의 개수, 단어의 개수) 꼴의 행렬로 변환이 됩니다. 기본적으로 단어의 개수는 지정해주지 않으면 전체 단어의 개수만큼 차원이 지정됩니다. 사용되는 단어의 개수가 너무 많아서 지나치게 행렬이 희소해지면 사용이 불편하기 때문에, 필요하다면 벡터 임베딩 사이즈 또한 지정해줄 수 있습니다."
      ]
    },
    {
      "cell_type": "markdown",
      "metadata": {
        "id": "a4nh6x8o9KCP"
      },
      "source": [
        "참고로 결과물이 희소행렬이기 때문에 평소에 사용되는 `numpy.ndarray`가 아닙니다. Scipy 모듈의 csr_matrix를 이용하는데 이는 아래 링크를 참고해주세요\n",
        "+ [scipy.sparse.csr_matrix](https://docs.scipy.org/doc/scipy/reference/generated/scipy.sparse.csr_matrix.html)\n",
        "+ [Scipy sparse matrix handling](https://lovit.github.io/nlp/machine%20learning/2018/04/09/sparse_mtarix_handling/)"
      ]
    },
    {
      "cell_type": "code",
      "metadata": {
        "colab": {
          "base_uri": "https://localhost:8080/"
        },
        "id": "sBuC_c-e9PHF",
        "outputId": "283c7c6a-d1c6-4c0b-ac77-95a40b7dde9c"
      },
      "source": [
        "type(sp_matrix)"
      ],
      "execution_count": 14,
      "outputs": [
        {
          "output_type": "execute_result",
          "data": {
            "text/plain": [
              "scipy.sparse.csr.csr_matrix"
            ]
          },
          "metadata": {},
          "execution_count": 14
        }
      ]
    },
    {
      "cell_type": "code",
      "metadata": {
        "ExecuteTime": {
          "end_time": "2021-09-15T06:53:20.575499Z",
          "start_time": "2021-09-15T06:53:20.562498Z"
        },
        "colab": {
          "base_uri": "https://localhost:8080/"
        },
        "id": "PxHJP5HHfxFm",
        "outputId": "7d2f4598-7115-41c9-b080-4978af36e615"
      },
      "source": [
        "sp_matrix.shape # (num_passage, num_vocab)"
      ],
      "execution_count": 15,
      "outputs": [
        {
          "output_type": "execute_result",
          "data": {
            "text/plain": [
              "(9606, 684272)"
            ]
          },
          "metadata": {},
          "execution_count": 15
        }
      ]
    },
    {
      "cell_type": "code",
      "metadata": {
        "id": "VL-ytWl3HGis",
        "outputId": "51355fd0-dde8-4fd1-cf53-42f3fe5c81e1",
        "colab": {
          "base_uri": "https://localhost:8080/"
        }
      },
      "source": [
        "print(sp_matrix[0])"
      ],
      "execution_count": 16,
      "outputs": [
        {
          "output_type": "stream",
          "name": "stdout",
          "text": [
            "  (0, 683997)\t0.026278013230969986\n",
            "  (0, 683983)\t0.019056630710020225\n",
            "  (0, 678921)\t0.03767217999593446\n",
            "  (0, 678888)\t0.02545862504250149\n",
            "  (0, 676620)\t0.03671517304141237\n",
            "  (0, 676602)\t0.026671752877916587\n",
            "  (0, 667528)\t0.03890597654710617\n",
            "  (0, 667527)\t0.03527212766298383\n",
            "  (0, 661711)\t0.04064491511821984\n",
            "  (0, 661261)\t0.014225562255118201\n",
            "  (0, 653779)\t0.0320034993480133\n",
            "  (0, 653764)\t0.021159858626697472\n",
            "  (0, 647791)\t0.04064491511821984\n",
            "  (0, 647786)\t0.030170298735900554\n",
            "  (0, 646010)\t0.03767217999593446\n",
            "  (0, 645190)\t0.013400074404814381\n",
            "  (0, 643475)\t0.03671517304141237\n",
            "  (0, 643474)\t0.022910218643226638\n",
            "  (0, 635490)\t0.09518012925409103\n",
            "  (0, 635485)\t0.03333367636463755\n",
            "  (0, 635484)\t0.1167046380515783\n",
            "  (0, 635020)\t0.05962539168463901\n",
            "  (0, 635017)\t0.03890597654710617\n",
            "  (0, 635016)\t0.07186648284964156\n",
            "  (0, 635014)\t0.1400847590104183\n",
            "  :\t:\n",
            "  (0, 17033)\t0.01759168867116649\n",
            "  (0, 14884)\t0.07186648284964156\n",
            "  (0, 14875)\t0.05091725008500298\n",
            "  (0, 14858)\t0.03890597654710617\n",
            "  (0, 14857)\t0.03374243791912698\n",
            "  (0, 14855)\t0.05997554236050001\n",
            "  (0, 14026)\t0.03333367636463755\n",
            "  (0, 14002)\t0.025101022148920446\n",
            "  (0, 13363)\t0.07186648284964156\n",
            "  (0, 13331)\t0.04349119396467156\n",
            "  (0, 12117)\t0.06838860570741422\n",
            "  (0, 12048)\t0.03672344721646571\n",
            "  (0, 10618)\t0.03671517304141237\n",
            "  (0, 10599)\t0.01777421622681704\n",
            "  (0, 7974)\t0.03767217999593446\n",
            "  (0, 7967)\t0.03076970279684159\n",
            "  (0, 7277)\t0.03767217999593446\n",
            "  (0, 7175)\t0.0194209200555838\n",
            "  (0, 5877)\t0.03419430285370711\n",
            "  (0, 5865)\t0.026130110635799265\n",
            "  (0, 3458)\t0.05896525832061609\n",
            "  (0, 3369)\t0.029408359822496913\n",
            "  (0, 1611)\t0.03767217999593446\n",
            "  (0, 929)\t0.02102512240822778\n",
            "  (0, 96)\t0.02081740123373238\n"
          ]
        }
      ]
    },
    {
      "cell_type": "code",
      "metadata": {
        "id": "UTsplMLCHPPe",
        "outputId": "44328af4-e70d-4255-bbb3-8a2bca9350e2",
        "colab": {
          "base_uri": "https://localhost:8080/"
        }
      },
      "source": [
        "print(sp_matrix[1])"
      ],
      "execution_count": 17,
      "outputs": [
        {
          "output_type": "stream",
          "name": "stdout",
          "text": [
            "  (0, 677285)\t0.06702601514663435\n",
            "  (0, 677272)\t0.05390955260385394\n",
            "  (0, 677092)\t0.07723567805087188\n",
            "  (0, 677070)\t0.07723567805087188\n",
            "  (0, 677056)\t0.06976816845011471\n",
            "  (0, 677040)\t0.06334246457306571\n",
            "  (0, 677036)\t0.06976816845011471\n",
            "  (0, 677035)\t0.24758441992311445\n",
            "  (0, 675398)\t0.15447135610174376\n",
            "  (0, 675392)\t0.11145621852517569\n",
            "  (0, 674850)\t0.07723567805087188\n",
            "  (0, 674847)\t0.04737868963685373\n",
            "  (0, 672440)\t0.05186141128722409\n",
            "  (0, 672427)\t0.04302967252206568\n",
            "  (0, 659524)\t0.026744719076400195\n",
            "  (0, 659502)\t0.01588410029816924\n",
            "  (0, 652670)\t0.06593777216682536\n",
            "  (0, 652668)\t0.05769351163104244\n",
            "  (0, 646917)\t0.0608147898686694\n",
            "  (0, 646904)\t0.04677473068114254\n",
            "  (0, 638344)\t0.05979474575040329\n",
            "  (0, 638342)\t0.05544212495817617\n",
            "  (0, 628507)\t0.0608147898686694\n",
            "  (0, 628502)\t0.05204455868901918\n",
            "  (0, 624322)\t0.07723567805087188\n",
            "  :\t:\n",
            "  (0, 90235)\t0.020939431596460834\n",
            "  (0, 80877)\t0.06976816845011471\n",
            "  (0, 79104)\t0.012150699350078072\n",
            "  (0, 70858)\t0.033042998686601634\n",
            "  (0, 70728)\t0.03289884680352032\n",
            "  (0, 68640)\t0.06702601514663435\n",
            "  (0, 68584)\t0.07158672510884863\n",
            "  (0, 62336)\t0.13656459893885314\n",
            "  (0, 59986)\t0.10026149534003856\n",
            "  (0, 59136)\t0.0744396801552413\n",
            "  (0, 56316)\t0.03289917640070234\n",
            "  (0, 56148)\t0.011663803655906432\n",
            "  (0, 47906)\t0.07723567805087188\n",
            "  (0, 47862)\t0.04127262344883996\n",
            "  (0, 46608)\t0.06334246457306571\n",
            "  (0, 43059)\t0.011155150941253682\n",
            "  (0, 42991)\t0.056024495248559195\n",
            "  (0, 42982)\t0.04162591724758726\n",
            "  (0, 37982)\t0.01517114825164514\n",
            "  (0, 37798)\t0.009623209448602352\n",
            "  (0, 36310)\t0.03545260571123132\n",
            "  (0, 34035)\t0.02299048404596525\n",
            "  (0, 33085)\t0.02395581474152702\n",
            "  (0, 24793)\t0.07723567805087188\n",
            "  (0, 24297)\t0.00978540842759385\n"
          ]
        }
      ]
    },
    {
      "cell_type": "code",
      "metadata": {
        "id": "Cnrcs1UdBKXK"
      },
      "source": [
        "import pandas as pd\n",
        "temp = pd.DataFrame(sp_matrix)"
      ],
      "execution_count": 18,
      "outputs": []
    },
    {
      "cell_type": "code",
      "metadata": {
        "id": "M4On-UkCBg4r",
        "outputId": "30478879-817d-447b-9c8a-43d36817522e",
        "colab": {
          "base_uri": "https://localhost:8080/",
          "height": 417
        }
      },
      "source": [
        "temp"
      ],
      "execution_count": 19,
      "outputs": [
        {
          "output_type": "execute_result",
          "data": {
            "text/html": [
              "<div>\n",
              "<style scoped>\n",
              "    .dataframe tbody tr th:only-of-type {\n",
              "        vertical-align: middle;\n",
              "    }\n",
              "\n",
              "    .dataframe tbody tr th {\n",
              "        vertical-align: top;\n",
              "    }\n",
              "\n",
              "    .dataframe thead th {\n",
              "        text-align: right;\n",
              "    }\n",
              "</style>\n",
              "<table border=\"1\" class=\"dataframe\">\n",
              "  <thead>\n",
              "    <tr style=\"text-align: right;\">\n",
              "      <th></th>\n",
              "      <th>0</th>\n",
              "    </tr>\n",
              "  </thead>\n",
              "  <tbody>\n",
              "    <tr>\n",
              "      <th>0</th>\n",
              "      <td>(0, 683997)\\t0.026278013230969986\\n  (0, 683...</td>\n",
              "    </tr>\n",
              "    <tr>\n",
              "      <th>1</th>\n",
              "      <td>(0, 677285)\\t0.06702601514663435\\n  (0, 6772...</td>\n",
              "    </tr>\n",
              "    <tr>\n",
              "      <th>2</th>\n",
              "      <td>(0, 674378)\\t0.06539899776120427\\n  (0, 6743...</td>\n",
              "    </tr>\n",
              "    <tr>\n",
              "      <th>3</th>\n",
              "      <td>(0, 680180)\\t0.026574487809087128\\n  (0, 680...</td>\n",
              "    </tr>\n",
              "    <tr>\n",
              "      <th>4</th>\n",
              "      <td>(0, 677941)\\t0.06202924099375584\\n  (0, 6779...</td>\n",
              "    </tr>\n",
              "    <tr>\n",
              "      <th>...</th>\n",
              "      <td>...</td>\n",
              "    </tr>\n",
              "    <tr>\n",
              "      <th>9601</th>\n",
              "      <td>(0, 678039)\\t0.19137460270430967\\n  (0, 6780...</td>\n",
              "    </tr>\n",
              "    <tr>\n",
              "      <th>9602</th>\n",
              "      <td>(0, 673232)\\t0.061374989394494484\\n  (0, 673...</td>\n",
              "    </tr>\n",
              "    <tr>\n",
              "      <th>9603</th>\n",
              "      <td>(0, 680021)\\t0.04237061382458263\\n  (0, 6800...</td>\n",
              "    </tr>\n",
              "    <tr>\n",
              "      <th>9604</th>\n",
              "      <td>(0, 683138)\\t0.038523423223148556\\n  (0, 683...</td>\n",
              "    </tr>\n",
              "    <tr>\n",
              "      <th>9605</th>\n",
              "      <td>(0, 678686)\\t0.06587029352931308\\n  (0, 6786...</td>\n",
              "    </tr>\n",
              "  </tbody>\n",
              "</table>\n",
              "<p>9606 rows × 1 columns</p>\n",
              "</div>"
            ],
            "text/plain": [
              "                                                      0\n",
              "0       (0, 683997)\\t0.026278013230969986\\n  (0, 683...\n",
              "1       (0, 677285)\\t0.06702601514663435\\n  (0, 6772...\n",
              "2       (0, 674378)\\t0.06539899776120427\\n  (0, 6743...\n",
              "3       (0, 680180)\\t0.026574487809087128\\n  (0, 680...\n",
              "4       (0, 677941)\\t0.06202924099375584\\n  (0, 6779...\n",
              "...                                                 ...\n",
              "9601    (0, 678039)\\t0.19137460270430967\\n  (0, 6780...\n",
              "9602    (0, 673232)\\t0.061374989394494484\\n  (0, 673...\n",
              "9603    (0, 680021)\\t0.04237061382458263\\n  (0, 6800...\n",
              "9604    (0, 683138)\\t0.038523423223148556\\n  (0, 683...\n",
              "9605    (0, 678686)\\t0.06587029352931308\\n  (0, 6786...\n",
              "\n",
              "[9606 rows x 1 columns]"
            ]
          },
          "metadata": {},
          "execution_count": 19
        }
      ]
    },
    {
      "cell_type": "markdown",
      "metadata": {
        "id": "TxSvTRPFiH0Z"
      },
      "source": [
        "첫 번째 문장의 TF-IDF 벡터를 확인해볼까요?"
      ]
    },
    {
      "cell_type": "code",
      "metadata": {
        "ExecuteTime": {
          "end_time": "2021-09-15T06:53:21.609083Z",
          "start_time": "2021-09-15T06:53:20.577499Z"
        },
        "colab": {
          "base_uri": "https://localhost:8080/"
        },
        "id": "Nf0fNy11fzXY",
        "outputId": "f3f19275-4f13-4c69-dc60-e60cc49e9ff6"
      },
      "source": [
        "import pandas as pd\n",
        "\n",
        "df = pd.DataFrame(\n",
        "    sp_matrix[0].T.todense(),\n",
        "    index=vectorizer.get_feature_names(),\n",
        "    columns=[\"TF-IDF\"]\n",
        ")\n",
        "df = df.sort_values(\"TF-IDF\", ascending=False)\n",
        "print(df.head(10))"
      ],
      "execution_count": 20,
      "outputs": [
        {
          "output_type": "stream",
          "name": "stdout",
          "text": [
            "            TF-IDF\n",
            "##스 ##투스  0.202231\n",
            "아우구 ##스   0.201278\n",
            "아우구       0.184477\n",
            "로 ##물     0.183576\n",
            "##물 ##루스  0.183576\n",
            "##투스      0.173397\n",
            "칭호        0.140085\n",
            "##루스      0.117292\n",
            "카이사르      0.116705\n",
            "라는 칭호     0.110146\n"
          ]
        }
      ]
    },
    {
      "cell_type": "markdown",
      "metadata": {
        "id": "Yl0Ka-rBOR4a"
      },
      "source": [
        "![image.png](data:image/png;base64,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)"
      ]
    },
    {
      "cell_type": "markdown",
      "metadata": {
        "id": "IgjN_SF7iM_N"
      },
      "source": [
        "### 💻 2. Query 임베딩하기"
      ]
    },
    {
      "cell_type": "markdown",
      "metadata": {
        "id": "YEdiT1W78X5y"
      },
      "source": [
        "이제 Query 를 임베딩해봅시다. 아까 사용한 `vectorizer`를 이용하면 됩니다."
      ]
    },
    {
      "cell_type": "code",
      "metadata": {
        "ExecuteTime": {
          "end_time": "2021-09-15T06:53:21.624082Z",
          "start_time": "2021-09-15T06:53:21.611084Z"
        },
        "id": "sXSOfYisf5ad"
      },
      "source": [
        "sample_idx = random.choice(range(len(dataset[\"train\"])))\n",
        "\n",
        "query = dataset[\"train\"][sample_idx][\"question\"]\n",
        "ground_truth = dataset[\"train\"][sample_idx][\"context\"]"
      ],
      "execution_count": 21,
      "outputs": []
    },
    {
      "cell_type": "code",
      "metadata": {
        "ExecuteTime": {
          "end_time": "2021-09-15T06:53:21.654082Z",
          "start_time": "2021-09-15T06:53:21.626084Z"
        },
        "id": "dw0T5Drrf658"
      },
      "source": [
        "query_vec = vectorizer.transform([query])"
      ],
      "execution_count": 22,
      "outputs": []
    },
    {
      "cell_type": "markdown",
      "metadata": {
        "id": "MXpNKTYSia9D"
      },
      "source": [
        "### 💻 3. Dot Product 를 통해 유사도 구하기\n",
        "내적을 통해 주어진 Query 와 전체 Passage 사이의 유사도를 구해봅시다.\n",
        "그리고 값을 내림차순으로 나열하여 높은 점수를 가진 Passage 들을 확인해봅시다."
      ]
    },
    {
      "cell_type": "code",
      "metadata": {
        "ExecuteTime": {
          "end_time": "2021-09-15T06:54:25.265288Z",
          "start_time": "2021-09-15T06:54:25.046289Z"
        },
        "colab": {
          "base_uri": "https://localhost:8080/"
        },
        "id": "lLsck2Lyf_Vm",
        "outputId": "fc180910-9290-4c8d-fe05-ecd0e9dac56f"
      },
      "source": [
        "result = query_vec * sp_matrix.T\n",
        "result.shape"
      ],
      "execution_count": 23,
      "outputs": [
        {
          "output_type": "execute_result",
          "data": {
            "text/plain": [
              "(1, 9606)"
            ]
          },
          "metadata": {},
          "execution_count": 23
        }
      ]
    },
    {
      "cell_type": "code",
      "metadata": {
        "ExecuteTime": {
          "end_time": "2021-09-15T06:54:26.190604Z",
          "start_time": "2021-09-15T06:54:26.172592Z"
        },
        "id": "kLRrldUef8Cw"
      },
      "source": [
        "sorted_result = np.argsort(-result.data)\n",
        "doc_scores = result.data[sorted_result]\n",
        "doc_ids = result.indices[sorted_result]"
      ],
      "execution_count": 24,
      "outputs": []
    },
    {
      "cell_type": "code",
      "metadata": {
        "ExecuteTime": {
          "end_time": "2021-09-15T06:54:26.555129Z",
          "start_time": "2021-09-15T06:54:26.541098Z"
        },
        "colab": {
          "base_uri": "https://localhost:8080/"
        },
        "id": "kDYgaL3wgBC6",
        "outputId": "8a72cd2b-f05e-49c5-ba08-293b522dc6b6"
      },
      "source": [
        "k = 5\n",
        "doc_scores[:k], doc_ids[:k]"
      ],
      "execution_count": 25,
      "outputs": [
        {
          "output_type": "execute_result",
          "data": {
            "text/plain": [
              "(array([0.21208908, 0.07221365, 0.0677442 , 0.05575468, 0.05302485]),\n",
              " array([2635, 7032, 1100, 5063, 4063], dtype=int32))"
            ]
          },
          "metadata": {},
          "execution_count": 25
        }
      ]
    },
    {
      "cell_type": "markdown",
      "metadata": {
        "id": "Pin40NMV91-l"
      },
      "source": [
        "잘 뽑았는지 확인해봅시다."
      ]
    },
    {
      "cell_type": "code",
      "metadata": {
        "ExecuteTime": {
          "end_time": "2021-09-15T06:54:27.343209Z",
          "start_time": "2021-09-15T06:54:27.333696Z"
        },
        "colab": {
          "base_uri": "https://localhost:8080/"
        },
        "id": "8e-OSr2tgCGt",
        "outputId": "42d6230b-18f6-4845-b80f-ff33dcdef630"
      },
      "source": [
        "print(\"[Search query]\\n\", query, \"\\n\")\n",
        "\n",
        "print(\"[Ground truth passage]\")\n",
        "print(ground_truth, \"\\n\")\n",
        "\n",
        "for i in range(k):\n",
        "    print(f\"Top-{i + 1} passage with score {doc_scores[i]:.4f}\")\n",
        "    doc_id = doc_ids[i]\n",
        "    print(corpus[doc_id], \"\\n\")"
      ],
      "execution_count": 26,
      "outputs": [
        {
          "output_type": "stream",
          "name": "stdout",
          "text": [
            "[Search query]\n",
            " 구식 군인들의 월급인 쌀에 모래와 돌멩이가 들어가있던 사건을 말미암아 일어난 사태의 이름은? \n",
            "\n",
            "[Ground truth passage]\n",
            "1882년 6월 민영익의 귀국 권고로 일시 귀국했다가 다시 되돌아갔다. 7월 23일 한성부에서 구식 군인들의 월급으로 주는 쌀에 모래와 돌멩이 및 썩은 쌀을 주자 여기에 반발한 구식 군인들에 의해 임오군란이 일어났는데, 그는 임오군란 사태 당시 행동을 삼가고 사태의 추이를 예의주시하고 있었다. 그러다가 그해 10월 13일 박영효, 김옥균 일행이 수신사(修信使) 겸 사죄사(辭罪使)로 하는 사절단(使節團)이 파견되자, 그는 박영효와 김옥균 일행이 도쿄에 방문했을 때 사절단의 통역을 맡아보았다. 수신사는 3개월간 일본의 각 기관을 시찰하고 일본의 여·야당 정치 지도자들과 만나 면담하고 각국 사절과도 폭넓게 접촉하여 의견을 교환했다. 한학을 배워 중국어와 일본어의 기초 실력이 있었던 그는 사절단의 통역을 맡아 활약했으며, 박영효 등이 귀국할 때 일본 유학을 마치고 박영효 일행과 함께 귀국했다. \n",
            "\n",
            "Top-1 passage with score 0.2121\n",
            "1882년 6월 민영익의 귀국 권고로 일시 귀국했다가 다시 되돌아갔다. 7월 23일 한성부에서 구식 군인들의 월급으로 주는 쌀에 모래와 돌멩이 및 썩은 쌀을 주자 여기에 반발한 구식 군인들에 의해 임오군란이 일어났는데, 그는 임오군란 사태 당시 행동을 삼가고 사태의 추이를 예의주시하고 있었다. 그러다가 그해 10월 13일 박영효, 김옥균 일행이 수신사(修信使) 겸 사죄사(辭罪使)로 하는 사절단(使節團)이 파견되자, 그는 박영효와 김옥균 일행이 도쿄에 방문했을 때 사절단의 통역을 맡아보았다. 수신사는 3개월간 일본의 각 기관을 시찰하고 일본의 여·야당 정치 지도자들과 만나 면담하고 각국 사절과도 폭넓게 접촉하여 의견을 교환했다. 한학을 배워 중국어와 일본어의 기초 실력이 있었던 그는 사절단의 통역을 맡아 활약했으며, 박영효 등이 귀국할 때 일본 유학을 마치고 박영효 일행과 함께 귀국했다. \n",
            "\n",
            "Top-2 passage with score 0.0722\n",
            "당시 백신시장에 개인용 백신은 무료배포가 많았던 시기라 개인사용자들에 한해서 1989년 부터 도스용 백신 소프트웨어인 V3+ 네오라는 백신을 무료로 제공하였다. 이후 V3+ 네오는 시그니처 수의 증가로 인해 당시 가장 보편적인 저장매체인 3.5인치 디스켓 2장이 필요하는 등 실제 이용이 매우 어렵고 제한되게 되었다. 결국 한동안 무료백신에 크게 신경을 쓰지 않던 안연구소는 알약 등의 경쟁 무료 제품의 확산을 막기 위해 빛자루 제품을 유료에서 무료로 바꾸고 V3 라이트라는 무료 제품을 연이어 출시한다. V3+ 네오는 V3 라이트 출시 이후 단종되었다. 안철수는 사업에 대해서 잘 모르는 상태에서 시작했기 때문에 처음 4년 간은 많은 고생을 했다. 당시 안철수연구소의 월급날은 매월 25일이었는데 월초부터 직원들의 월급 걱정을 해야 하는 지경이었고 자신이 월급을 받지 않고 직원들의 월급을 줄 때도 있었다. \n",
            "\n",
            "Top-3 passage with score 0.0677\n",
            "사구(砂丘)는 바람에 의하여 모래가 이동하여 퇴적된 언덕이나 둑 모양의 모래 언덕이다. 내륙 사구는 고비 사막이나 사하라 사막과 같이 대륙 내부의 사막에 흔히 이루어진다. 사구는 한 장소에 고정되지 않고 독특한 모양을 유지하면서 바람이 부는 쪽으로 이동하는 경우가 많다. 사구 사이사이에는 기반암이나 자갈층이 드러난 경우도 있고, 넓은 지면이 모두 사구로 덮인 경우도 있다. 장애물이 바람에 가로놓여 있으면 바람그늘 쪽에는 풍속이 줄어들어 모래가 잘 쌓인다. 모래알이 장애물의 바람그늘 쪽에 쌓인 모래 위로 떨어지면 이동 속도가 줄어들어 모래가 계속 해서 집적하게 된다. 모래 더미가 원래의 장애물에 비하여 너무 크게 성장하면 다시 천천히 움직이면서 이동성 사구로 발전한다.한편, 해안 사구는 바닷물의 물결을 따라 바닷가에 밀려온 모래가 사빈으로 퇴적되었다가 다시 바다로부터 불어오는 바람에 실려가 사빈의 뒷쪽에 쌓여 생긴 것으로, 대개 해안선과 나란히 생긴다. 모래가 육지 쪽으로 너무 많이 날려가면 농경지가 묻히기 때문에, 이와 같은 해안의 주민들은 방풍림이나 방사림을 조성하여 모래의 이동을 막고 있다. \n",
            "\n",
            "Top-4 passage with score 0.0558\n",
            "그리고 이러한 만민공동회 활동과 관련하여, 독립협회에서 만민공동회에 사주하여 결의한 헌의 6조에 배치되는 활동이 자주 나타났고, 그에 따라 황실에서는 독립협회를 탄압하려고 했다. 이러한 독립협회의 활동이 일본이나 미국에 유리한 조건을 조성해 주었고, 오히려 황실에서 추진하는 광무개혁이 일본이나 미국이 추진하는 경제적 침탈에 불리하게 작용하자, 그들은 황실의 만민공동회 탄압 계획을 번번이 저지하였다. 그들은 또한 독립협회 활동의 폭력화로 말미암아 무정부상태가 되는 일도 바라지 않았다. 그들이 생각하는 최악의 사태는 무정부상태로 말미암아 고종이 제2의 아관파천을 하는 일이었다. 미국과 일본은 그것을 막기 위해 독립협회에 대한 탄압은 억제하면서, 박영효 세력을 저지하는 한편 무력 진압을 양해하였다. 그 결과 독립협회의 활동으로 말미암아 오히려 외세 의존성을 심화하게 된다. \n",
            "\n",
            "Top-5 passage with score 0.0530\n",
            "16개의 보 중에서 총 14개의 보를 2017년 11월 13일 수문을 개방했다. 이후 약 6개월이 지난 2018년 5월 4일 금강 세종보 상류는 수위가 낮아지면서 모래와 자갈로 이뤄진 작은 섬들이 드넓게 드러나기 시작했으며 좌안에는 모래가 30cm 이상 쌓이고 강물의 유속도 빨라지는 등 변화가 감지되었다. 현장 조사를 시행한 오준오 박사는 \"보 개방으로 실트층이 하류로 씻겨 내려가면서 자갈이 다시 드러났고, 모래가 쌓였다\"고 설명했다. 하지만 금강 하류의 백제보가 수문을 개방하지 않아 물빛이 세종보보다 탁했고 모래 대신 뻘만 가득하여 악취가 심한 등 이전과 차이가 없었다. 이는 낙동강도 마찬가지였다. 환경부 관계자는 \"보의 개방은 수질과 구조적 건강성, 생물학적 건강성 등 세 가지 측면에서 모두 긍정적 결과가 나타났다. 올해 말까지 개방한 보들에 대해 평가하고 처리 방안을 결정할 계획\"이라고 밝혔다. \n",
            "\n"
          ]
        }
      ]
    },
    {
      "cell_type": "markdown",
      "metadata": {
        "id": "DirOwPFOixwg"
      },
      "source": [
        "Ground Truth 와 동일한 Passage 가 잘 나왔나요? 제법 성능이 나쁘지 않은걸 확인할 수 있네요.   \n",
        "### ❓ 제시된 두 Tokenizer 를 모두 활용해서 결과를 비교해볼까요?\n",
        "위에서 제시된 Hugginface Tokenizer 와 단순 띄어쓰기로 구분된 Tokenizer 는 많은 차이를 불러올까요? 직접 코드로 구현해봅시다."
      ]
    },
    {
      "cell_type": "markdown",
      "metadata": {
        "id": "Hl9vDzADcnPu"
      },
      "source": [
        "### ❓ SparseRetrieval 코드를 class로 합쳐봅시다.\n",
        "Sparse Retrieval 을 잘 구현하셨나요? 하지만 코드가 너무 흩어져있어서 다시 재사용하기 많이 어렵겠네요. 이 코드들을 다른 사람들도 잘 활용할 수 있도록 모듈화를 진행해봅시다."
      ]
    },
    {
      "cell_type": "markdown",
      "metadata": {
        "id": "34DcdPHglRIr"
      },
      "source": [
        "❗ _Hint_   \n",
        "Scratch 부터 짜는게 많이 어려우신가요?\n",
        "\n",
        "만들어야하는 기능들의 파이프라인을 나열하고 하나씩 모듈화하는 습관을 들이는 것이 좋습니다. 순서대로 생각해볼까요?\n",
        "\n",
        "1. 데이터를 불러옵니다.\n",
        "2. TF-IDF 를 Fitting 한 후 Passage 를 Transform 합니다.\n",
        "3. Query 를 Fitting 한 TF-IDF 를 통해 Transform 합니다.\n",
        "4. Inner dot product 를 이용해 유사도를 구하고, 내림차순을 통해 유사한 Passage 를 Retrieval 합니다.\n",
        "\n",
        "위의 단계를 하나씩 함수로 구현한 후 class로 합치면 훨씬 쉬울 겁니다! 반드시 이 과정을 따르지 않으셔도 됩니다."
      ]
    },
    {
      "cell_type": "code",
      "metadata": {
        "id": "Jr-IgCXWGysH"
      },
      "source": [
        "# 화이팅\n",
        "\n",
        "class TfIdfRetrieval:\n",
        "\n",
        "    def __init__(self, tokenize_fn, data_path):\n",
        "\n",
        "        \"\"\"\n",
        "        1. 여기서 Data를 불러올까요.\n",
        "        \"\"\"\n",
        "\n",
        "        pass\n",
        "\n",
        "    def get_sparse_embedding(self):\n",
        "\n",
        "        \"\"\"\n",
        "        2. 여기서 주어진 전체 passage들에 대해 TF-IDF를 .fit 해줍시다.\n",
        "        \"\"\"\n",
        "\n",
        "        pass\n",
        "\n",
        "    def get_relevant_doc(self, query, k=1):\n",
        "\n",
        "        \"\"\"\n",
        "        여기서\n",
        "            3. Query를 받아서 TF-IDF에 Transform 시켜줍니다.\n",
        "            4. 전체 Passage에 대한 유사도를 구한 후 상위 k개의 Passage를 반환합니다.\n",
        "        \"\"\"\n",
        "        pass\n"
      ],
      "execution_count": 27,
      "outputs": []
    },
    {
      "cell_type": "code",
      "metadata": {
        "id": "N6lvjwZRwa5h"
      },
      "source": [
        "class TfIdfRetrieval:\n",
        "    def __init__(self,\n",
        "        tokenize_fn,\n",
        "        data_path = \"./data/wikipedia_documents.json\"\n",
        "    ):\n",
        "\n",
        "        self.data_path = data_path\n",
        "        with open(data_path, \"r\", encoding=\"utf-8\") as f:\n",
        "            wiki = json.load(f)\n",
        "        self.contexts = list(dict.fromkeys([v[\"text\"] for v in wiki.values()]))\n",
        "\n",
        "        self.tfidfv = TfidfVectorizer(\n",
        "            tokenizer=tokenize_fn,\n",
        "            ngram_range=(1, 2),\n",
        "            max_features=50000,\n",
        "        )\n",
        "\n",
        "    def get_sparse_embedding(self):\n",
        "        print(\"Build Embedding\")\n",
        "        self.passage_embedding = self.tfidfv.fit_transform(self.contexts)\n",
        "\n",
        "    def get_relevant_doc(self, query: str, k=1):\n",
        "        query_vec = self.tfidfv.transform([query])\n",
        "        result = query_vec * self.passage_embedding.T\n",
        "\n",
        "        sorted_result = np.argsort(-result.data)\n",
        "        doc_scores = result.data[sorted_result]\n",
        "        doc_ids = result.indices[sorted_result]\n",
        "        \n",
        "        return doc_scores.tolist()[:k], doc_ids.tolist()[:k]"
      ],
      "execution_count": 28,
      "outputs": []
    },
    {
      "cell_type": "markdown",
      "metadata": {
        "id": "l_2Vvx8BdzXw"
      },
      "source": [
        "잘 구현하셨나요? 여러분들이 만든 클래스를 아래와 같이 활용하는데 성공하셨다면 마무리된 것입니다.\n"
      ]
    },
    {
      "cell_type": "code",
      "metadata": {
        "ExecuteTime": {
          "end_time": "2021-09-15T06:54:39.464565Z",
          "start_time": "2021-09-15T06:54:38.837869Z"
        },
        "id": "-W8Tl7osdyf7",
        "outputId": "8a0014c3-be8e-494a-ee93-a9bcdb4d4e6d",
        "colab": {
          "base_uri": "https://localhost:8080/",
          "height": 362
        }
      },
      "source": [
        "tokenize_fn = lambda x: tokenizer.tokenize(x)\n",
        "retriever = TfIdfRetrieval(tokenize_fn=tokenize_fn, data_path=\"../data/wikipedia_documents.json\")\n",
        "\n",
        "retriever.get_sparse_embedding()\n",
        "query = \"미국의 대통령은 누구인가?\"\n",
        "doc_score, doc_indices = retriever.get_relevant_doc(query, k=3)"
      ],
      "execution_count": 29,
      "outputs": [
        {
          "output_type": "error",
          "ename": "FileNotFoundError",
          "evalue": "ignored",
          "traceback": [
            "\u001b[0;31m---------------------------------------------------------------------------\u001b[0m",
            "\u001b[0;31mFileNotFoundError\u001b[0m                         Traceback (most recent call last)",
            "\u001b[0;32m<ipython-input-29-2ad92a817fed>\u001b[0m in \u001b[0;36m<module>\u001b[0;34m()\u001b[0m\n\u001b[1;32m      1\u001b[0m \u001b[0mtokenize_fn\u001b[0m \u001b[0;34m=\u001b[0m \u001b[0;32mlambda\u001b[0m \u001b[0mx\u001b[0m\u001b[0;34m:\u001b[0m \u001b[0mtokenizer\u001b[0m\u001b[0;34m.\u001b[0m\u001b[0mtokenize\u001b[0m\u001b[0;34m(\u001b[0m\u001b[0mx\u001b[0m\u001b[0;34m)\u001b[0m\u001b[0;34m\u001b[0m\u001b[0;34m\u001b[0m\u001b[0m\n\u001b[0;32m----> 2\u001b[0;31m \u001b[0mretriever\u001b[0m \u001b[0;34m=\u001b[0m \u001b[0mTfIdfRetrieval\u001b[0m\u001b[0;34m(\u001b[0m\u001b[0mtokenize_fn\u001b[0m\u001b[0;34m=\u001b[0m\u001b[0mtokenize_fn\u001b[0m\u001b[0;34m,\u001b[0m \u001b[0mdata_path\u001b[0m\u001b[0;34m=\u001b[0m\u001b[0;34m\"../data/wikipedia_documents.json\"\u001b[0m\u001b[0;34m)\u001b[0m\u001b[0;34m\u001b[0m\u001b[0;34m\u001b[0m\u001b[0m\n\u001b[0m\u001b[1;32m      3\u001b[0m \u001b[0;34m\u001b[0m\u001b[0m\n\u001b[1;32m      4\u001b[0m \u001b[0mretriever\u001b[0m\u001b[0;34m.\u001b[0m\u001b[0mget_sparse_embedding\u001b[0m\u001b[0;34m(\u001b[0m\u001b[0;34m)\u001b[0m\u001b[0;34m\u001b[0m\u001b[0;34m\u001b[0m\u001b[0m\n\u001b[1;32m      5\u001b[0m \u001b[0mquery\u001b[0m \u001b[0;34m=\u001b[0m \u001b[0;34m\"미국의 대통령은 누구인가?\"\u001b[0m\u001b[0;34m\u001b[0m\u001b[0;34m\u001b[0m\u001b[0m\n",
            "\u001b[0;32m<ipython-input-28-4f10ed116689>\u001b[0m in \u001b[0;36m__init__\u001b[0;34m(self, tokenize_fn, data_path)\u001b[0m\n\u001b[1;32m      6\u001b[0m \u001b[0;34m\u001b[0m\u001b[0m\n\u001b[1;32m      7\u001b[0m         \u001b[0mself\u001b[0m\u001b[0;34m.\u001b[0m\u001b[0mdata_path\u001b[0m \u001b[0;34m=\u001b[0m \u001b[0mdata_path\u001b[0m\u001b[0;34m\u001b[0m\u001b[0;34m\u001b[0m\u001b[0m\n\u001b[0;32m----> 8\u001b[0;31m         \u001b[0;32mwith\u001b[0m \u001b[0mopen\u001b[0m\u001b[0;34m(\u001b[0m\u001b[0mdata_path\u001b[0m\u001b[0;34m,\u001b[0m \u001b[0;34m\"r\"\u001b[0m\u001b[0;34m,\u001b[0m \u001b[0mencoding\u001b[0m\u001b[0;34m=\u001b[0m\u001b[0;34m\"utf-8\"\u001b[0m\u001b[0;34m)\u001b[0m \u001b[0;32mas\u001b[0m \u001b[0mf\u001b[0m\u001b[0;34m:\u001b[0m\u001b[0;34m\u001b[0m\u001b[0;34m\u001b[0m\u001b[0m\n\u001b[0m\u001b[1;32m      9\u001b[0m             \u001b[0mwiki\u001b[0m \u001b[0;34m=\u001b[0m \u001b[0mjson\u001b[0m\u001b[0;34m.\u001b[0m\u001b[0mload\u001b[0m\u001b[0;34m(\u001b[0m\u001b[0mf\u001b[0m\u001b[0;34m)\u001b[0m\u001b[0;34m\u001b[0m\u001b[0;34m\u001b[0m\u001b[0m\n\u001b[1;32m     10\u001b[0m         \u001b[0mself\u001b[0m\u001b[0;34m.\u001b[0m\u001b[0mcontexts\u001b[0m \u001b[0;34m=\u001b[0m \u001b[0mlist\u001b[0m\u001b[0;34m(\u001b[0m\u001b[0mdict\u001b[0m\u001b[0;34m.\u001b[0m\u001b[0mfromkeys\u001b[0m\u001b[0;34m(\u001b[0m\u001b[0;34m[\u001b[0m\u001b[0mv\u001b[0m\u001b[0;34m[\u001b[0m\u001b[0;34m\"text\"\u001b[0m\u001b[0;34m]\u001b[0m \u001b[0;32mfor\u001b[0m \u001b[0mv\u001b[0m \u001b[0;32min\u001b[0m \u001b[0mwiki\u001b[0m\u001b[0;34m.\u001b[0m\u001b[0mvalues\u001b[0m\u001b[0;34m(\u001b[0m\u001b[0;34m)\u001b[0m\u001b[0;34m]\u001b[0m\u001b[0;34m)\u001b[0m\u001b[0;34m)\u001b[0m\u001b[0;34m\u001b[0m\u001b[0;34m\u001b[0m\u001b[0m\n",
            "\u001b[0;31mFileNotFoundError\u001b[0m: [Errno 2] No such file or directory: '../data/wikipedia_documents.json'"
          ]
        }
      ]
    },
    {
      "cell_type": "code",
      "metadata": {
        "id": "IXorfdV1hHGH"
      },
      "source": [
        "print(f\"[Search Query] {query}\")\n",
        "\n",
        "for i, idx in enumerate(doc_indices):\n",
        "    print(f\"Top-{i + 1}th Passage (Index {idx})\")\n",
        "    pprint(retriever.contexts[idx])"
      ],
      "execution_count": null,
      "outputs": []
    },
    {
      "cell_type": "markdown",
      "metadata": {
        "id": "SHOE4jZqhXRs"
      },
      "source": [
        "직접 만든 코드에 다음과 같은 추가 사항들을 고려해봅시다.   \n",
        "#### ➕추가 과제: 다양한 기능 추가하기\n",
        "+ 현재 코드가 **어떻게 동작하고 있는지** 궁금하지 않으신가요? 가령, 코드가 돌고는 있는데 대체 어떤 메소드를 수행 중인지, 아니면 시간이 얼마나 걸리는지 등 추가적인 정보를 Logger 에 기록하거나 Prompt 에 찍는 방향으로 더 추가해보세요 !\n",
        "+ 위에서 시간을 출력하는 코드를 짜보셨다면, 이제 fitting 시간이 적지 않음을 확인할 수 있었습니다. 그리고 passage 가 자주 변경되는 것이 아니라면, 같은 기법을 사용해서 **매번 fitting 을 하는 것은 아주 비효율적**입니다. 임베딩된 passage를 따로 **저장해두고 불러와서 사용하면** 더 효율적이지 않을까요? 이 임베딩들을 `.bin` 파일로 저장하고, 만약 `.bin` 파일이 있다면 TfidfVectorizer 가 fitting 하지 않고, 이 `.bin` 파일을 불러오는 방향으로 코드를 추가해봅시다.\n",
        "+ 예외 케이스가 있지 않을까요? **query가 `str` 1개가 아니라 2개 이상인 `List[str]`로 주어진 경우에는 어떻게 해야할까요?** 이 상황은 멀리 있지 않고 여러분들이 대회에서 inference 할 때도 필요한 코드입니다. 단순히 반복문을 돌릴 수 있지만, 우리는 행렬곱을 이용하고 있기 때문에 만약 query 가 여러 개면 이 행렬곱의 장점을 이용할 수 있을 것 같습니다.\n",
        "    + 한 개의 query(`str`) 에 대해 유사한 passage 를 구하는 함수와\n",
        "    + 여러 개의 query(`list`) 에 대해 유사한 passage 를 구하는 함수\n",
        "\n",
        "  두 가지를 만들어봅시다. 그리고 `retrieve` 라는 함수를 만들어서 query 가 한 개인지 다수인지 체크한 후 각각의 함수를 사용해서 유사한 passage 를 찾도록 수정해봅시다.\n",
        "+ 또 다른 예외케이스는 `TfidfVectorizer` 에서 생길 수 있습니다. 가령 Passage 에서 한 번도 보지 못한 단어로만 구성된 query 를 입력했다면, TF-IDF 의 특성상 이 단어는 0 으로만 임베딩될 것입니다. 전체 벡터가 0이 되면 어떻게 처리해야할까요? `assert` 를 활용해보세요!\n",
        "+ 이 메소드는 어떤 parameters를 받아오고 어떤 기능을 하는지 docstring을 추가해봅시다.\n",
        "\n",
        "\n",
        "요구사항이 너무 많나요? 원래 인생이 그렇습니다.\n",
        "\n",
        "_Sparse Retrieval 과제는 두 가지 (기존과 추가 과제) 모두 예시 코드가 금요일 (10/15)제공됩니다._"
      ]
    },
    {
      "cell_type": "markdown",
      "metadata": {
        "id": "zpoTleVJjp5x"
      },
      "source": [
        "## 💻 Ⅱ. Dense Retriever (BERT) 학습 시키기\n",
        "\n",
        "이번에는 BERT 를 불러오고 학습시키는 과정을 거쳐봅시다. 시작하기 전에 어떤 과정을 거쳐야할 지 생각해봅시다.\n",
        "1. 데이터셋 준비\n",
        "2. 모델 준비\n",
        "3. 학습하기 \n",
        "\n"
      ]
    },
    {
      "cell_type": "markdown",
      "metadata": {
        "id": "HmAIDfEbeENm"
      },
      "source": [
        "### 💻 1. 데이터셋 준비하기\n",
        "위에서 불러온 `datasets`를 이용해 데이터를 불러왔습니다. 하지만 이번 과제에서 passage encoder 가 학습되는 방식은 주어진 query/question에 적합한 passage 를 찾아오는 과정이 필요한데, 이 때 올바른 데이터만 이용해서 학습하는 것이 아니라, 올바르지 않은 passage 또한 학습해보는 과정을 거쳐야합니다. 이를 in-batch negative 라고 부르는데 관련된 내용은 기계독해 강의와 아래 논문을 참고해보세요.\n",
        "+ [Dense Passage Retrieval](https://arxiv.org/abs/2004.04906)"
      ]
    },
    {
      "cell_type": "markdown",
      "metadata": {
        "id": "N-bKwkxTpoje"
      },
      "source": [
        "#### 💻 Training Dataset 준비하기 (question, passage pairs)\n",
        "\n",
        "실습 시간을 단축시키기 위해 일부 데이터만 활용해봅시다.\n",
        "\n",
        "\n"
      ]
    },
    {
      "cell_type": "code",
      "metadata": {
        "ExecuteTime": {
          "end_time": "2021-09-15T06:56:49.543616Z",
          "start_time": "2021-09-15T06:56:49.543616Z"
        },
        "id": "E_FQ1kcazxge"
      },
      "source": [
        "sample_idx = np.random.choice(range(len(dataset[\"train\"])), 20)\n",
        "training_dataset = dataset[\"train\"][sample_idx]"
      ],
      "execution_count": null,
      "outputs": []
    },
    {
      "cell_type": "markdown",
      "metadata": {
        "id": "ALNnnBJTxeU4"
      },
      "source": [
        "#### 💻 Negative sampling 을 위한 negative sample 들을 샘플링\n",
        "\n",
        "주어진 query/question 에 해당하지 않는 지문들을 뽑아서 훈련데이터로 넣어줍시다. "
      ]
    },
    {
      "cell_type": "code",
      "metadata": {
        "ExecuteTime": {
          "end_time": "2021-09-15T06:56:49.545616Z",
          "start_time": "2021-09-15T06:56:49.545616Z"
        },
        "id": "LPomXJ1Afc6l"
      },
      "source": [
        "# In-batch Negatvie로 사용할 데이터 생성\n",
        "num_neg = 2\n",
        "\n",
        "corpus = np.array(corpus) # corpus = list(set([example[\"context\"] for example in dataset[\"train\"]]))\n",
        "p_with_neg = []\n",
        "\n",
        "for c in training_dataset[\"context\"]:\n",
        "    \n",
        "    while True:\n",
        "        neg_idxs = np.random.randint(len(corpus), size=num_neg)\n",
        "\n",
        "        if not c in corpus[neg_idxs]:\n",
        "            p_neg = corpus[neg_idxs]\n",
        "\n",
        "            p_with_neg.append(c)\n",
        "            p_with_neg.extend(p_neg)\n",
        "            break"
      ],
      "execution_count": null,
      "outputs": []
    },
    {
      "cell_type": "markdown",
      "metadata": {
        "id": "ir_hYkQ5fBro"
      },
      "source": [
        "주어진 질문에 알맞는 지문과 올바르지 않는 지문을 모두 살펴봅시다."
      ]
    },
    {
      "cell_type": "code",
      "metadata": {
        "ExecuteTime": {
          "end_time": "2021-09-15T06:56:49.546616Z",
          "start_time": "2021-09-15T06:56:49.546616Z"
        },
        "id": "wbGW7PRJ7Yv5",
        "colab": {
          "base_uri": "https://localhost:8080/"
        },
        "outputId": "7bc3b3ac-5f88-4c0f-fa07-76bf21d9b148"
      },
      "source": [
        "print(\"[Query Given]\")\n",
        "pprint(training_dataset[\"question\"][0])\n",
        "\n",
        "print(\"\\n[Positive context]\")\n",
        "pprint(p_with_neg[0])\n",
        "\n",
        "print(\"\\n[Negative context]\")\n",
        "pprint(p_with_neg[1])\n",
        "pprint(p_with_neg[2])"
      ],
      "execution_count": null,
      "outputs": [
        {
          "output_type": "stream",
          "name": "stdout",
          "text": [
            "[Query Given]\n",
            "'문제는 나랏법 자체보다는 법을 적용하고 옹호하는 데 있었다고 묘사한 사학자는?'\n",
            "\n",
            "[Positive context]\n",
            "('전원 공동체, 특히 그 중에서도 잉글랜드 동남부는 농노제의 작동과 지역 장원 재판소의 세금 징수를 불만스러워했다. 특히 재판소를 운영하는 '\n",
            " '영주들이 곧 원성을 사는 노동 조례나 왕실에서 제정한 법의 현장 집행자로 기능하는 경우가 잦았기 때문에 불만은 가중되었다. 촌락의 엘리트 '\n",
            " '계층 다수는 지방정부의 역할을 맡는 것을 거부했고, 재판소의 활동을 방해하기 시작했다. 재판소에 의해 몰수된 가축들은 그 주인들에 의해 '\n",
            " '‘해방’되었고, 법관들은 폭행을 당했다. 일부는 전통적인 법을 존중하나 런던에서 내려오는 증오받는 중앙 법률에서는 분리된, 독립적인 촌락 '\n",
            " '공동체의 탄생을 지지하기 시작했다. 사학자 미리 루빈은 이 상황을, “문제는 나랏법 그 자체라기보다, 그 법을 적용하고 옹호하는 데 '\n",
            " '있었다”고 묘사한다.')\n",
            "\n",
            "[Negative context]\n",
            "'9월 26일 바예지드는 전투 직전 라호보의 오스만 군 포로들을 프랑스인들이 죽인것에 대한 보복으로 3,000명에서 10,000명에 달하는 포로들을 죽일 것을 명한다. 그는 또 그가 압도적인 승리를 거두었음에도 불구하고 전투 초반에 많은 병사들을 잃은 것에 대하여 분노하였다. 그는 어린 포로들을 자신의 군대에 편입시켰다. 고향으로 돌아가는 와중에 많은 고생을 하지만 결국 돌아간 이들도 있었다. 지기스문트는 니콜라 고르잔스키와 실리의 헤르만의 도움으로 도망칠 수 있었다. 그는 베네치아 배를 타 흑해, 에게 해, 그리고 지중해를 통해 해로로 고향으로 돌아가는 길을 택했고 이 와중에 왈라키아인들의 믿을 수 없는 성품을 알아차린다. 샤를 6세에게 패배소식이 크리스마스에 알려졌다. 서유럽의 기사들은 곧 십자군에 대한 열정을 잃어버렸다. 싸움은 스페인과 지중해, 그리고 북유럽의 이교도에 대하여 계속되고 있었다. 그러나 이 전투 이후에 발칸 반도에 대한 오스만 투르크의 전진을 막기 위해 서유럽에서 구성된 원정은 더 이상 없었다. 르네상스시대가 다가올 때까지였다.'\n",
            "'가스라이팅(gaslighting)은 상황 조작을 통해 타인의 마음에 스스로에 대한 의심을 불러일으켜 현실감과 판단력을 잃게 만듦으로써 그 사람을 정신적으로 황폐화시키고 그 사람에게 지배력을 행사하여 결국 그 사람을 파국으로 몰아가는 것을 의미하는 심리학 용어이다. 주로 친밀한 관계에서 이루어진다. 하지만 정치계나 연예계에서도 구사될 수 있다. 가스라이팅 구사자들은 상황 조작을 통해 상대방의 자아를 흔들어서 자신의 영향력을 증폭시킨다. 이를 통해 상대방을 자유자재로 가지고 놀 수 있고 그 사람이 가진 재산 등을 탈취할 수도 있다. 가스라이팅 피해자는 자신에 대한 신뢰감을 잃어가게 되고 종국에는 자존감이 없어진다. 가해자들은 상대방의 공감능력을 이용해서 상대방을 통제한다. 동정심을 이용해서 타인을 조종하는 소시오패스가 예가 될 수 있다. 이런 심리술을 이론화한 로빈 스턴은 미국에서 20여 년간 심리상담가, 교사, 우드헐리더십연구원으로 일하면서 수많은 상담을 진행해온 리더십 강사 및 컨설턴트였다.'\n"
          ]
        }
      ]
    },
    {
      "cell_type": "markdown",
      "metadata": {
        "id": "6jW0gXtJ-_nf"
      },
      "source": [
        "처리한 데이터를 `torch`가 처리할 수 있게 `DataLoader`로 넘겨주는 작업을 해봅시다. 기본적으로 Huggingface Pretrained 모델이 `input_ids`, `attention_mask`, `token_type_ids`를 받아주니, 이 3가지를 넣어주도록 합시다."
      ]
    },
    {
      "cell_type": "code",
      "metadata": {
        "id": "jiacVxXFeBbK"
      },
      "source": [
        "from torch.utils.data import DataLoader, RandomSampler, TensorDataset\n",
        "\n",
        "q_seqs = tokenizer(\n",
        "    training_dataset[\"question\"],\n",
        "    padding=\"max_length\",\n",
        "    truncation=True,\n",
        "    return_tensors=\"pt\"\n",
        ")\n",
        "p_seqs = tokenizer(\n",
        "    p_with_neg,\n",
        "    padding=\"max_length\",\n",
        "    truncation=True,\n",
        "    return_tensors=\"pt\"\n",
        ")"
      ],
      "execution_count": null,
      "outputs": []
    },
    {
      "cell_type": "code",
      "metadata": {
        "colab": {
          "base_uri": "https://localhost:8080/"
        },
        "id": "dvzIayy79Mdy",
        "outputId": "02e08862-b73f-4bd3-c629-534c8ff88298"
      },
      "source": [
        "max_len = p_seqs[\"input_ids\"].size(-1)\n",
        "p_seqs[\"input_ids\"] = p_seqs[\"input_ids\"].view(-1, num_neg + 1, max_len)\n",
        "p_seqs[\"attention_mask\"] = p_seqs[\"attention_mask\"].view(-1, num_neg + 1, max_len)\n",
        "p_seqs[\"token_type_ids\"] = p_seqs[\"token_type_ids\"].view(-1, num_neg + 1, max_len)\n",
        "\n",
        "print(p_seqs[\"input_ids\"].size())  # (num_example, pos + neg, max_len)"
      ],
      "execution_count": null,
      "outputs": [
        {
          "output_type": "stream",
          "name": "stdout",
          "text": [
            "torch.Size([20, 3, 512])\n"
          ]
        }
      ]
    },
    {
      "cell_type": "code",
      "metadata": {
        "id": "bAplp66Pkayy"
      },
      "source": [
        "train_dataset = TensorDataset(\n",
        "    p_seqs[\"input_ids\"], p_seqs[\"attention_mask\"], p_seqs[\"token_type_ids\"], \n",
        "    q_seqs[\"input_ids\"], q_seqs[\"attention_mask\"], q_seqs[\"token_type_ids\"]\n",
        ")"
      ],
      "execution_count": null,
      "outputs": []
    },
    {
      "cell_type": "markdown",
      "metadata": {
        "id": "JwMvVH1e3h99"
      },
      "source": [
        "### 💻 2. BERT encoder 학습시키기\n",
        "1. BERT 모델을 구성한 후\n",
        "2. Passage 를 임베딩하는 `p_encoder`와 Query/Question 을 임베딩하는 `q_encoder` 를 각각 선언해줍니다.\n",
        "3. 두 모델을 학습시킵니다."
      ]
    },
    {
      "cell_type": "code",
      "metadata": {
        "ExecuteTime": {
          "end_time": "2021-09-15T08:06:32.340866Z",
          "start_time": "2021-09-15T08:06:32.327858Z"
        },
        "id": "oKKkTlh_l5VL"
      },
      "source": [
        "class BertEncoder(BertPreTrainedModel):\n",
        "\n",
        "    def __init__(self, config):\n",
        "        super(BertEncoder, self).__init__(config)\n",
        "\n",
        "        self.bert = BertModel(config)\n",
        "        self.init_weights()\n",
        "      \n",
        "      \n",
        "    def forward(self,\n",
        "            input_ids, \n",
        "            attention_mask=None,\n",
        "            token_type_ids=None\n",
        "        ): \n",
        "  \n",
        "        outputs = self.bert(\n",
        "            input_ids,\n",
        "            attention_mask=attention_mask,\n",
        "            token_type_ids=token_type_ids\n",
        "        )\n",
        "        \n",
        "        pooled_output = outputs[1]\n",
        "        return pooled_output"
      ],
      "execution_count": null,
      "outputs": []
    },
    {
      "cell_type": "code",
      "metadata": {
        "colab": {
          "base_uri": "https://localhost:8080/"
        },
        "id": "wnO1b30SomBP",
        "outputId": "635dec4b-33c2-4026-8fef-a6fa8f150829"
      },
      "source": [
        "# Pre-train된 모델을 사용해줍니다. 위에서 사용한 `model_checkpoint`를 재활용합니다.\n",
        "p_encoder = BertEncoder.from_pretrained(model_checkpoint)\n",
        "q_encoder = BertEncoder.from_pretrained(model_checkpoint)\n",
        "\n",
        "if torch.cuda.is_available():\n",
        "    p_encoder.cuda()\n",
        "    q_encoder.cuda()"
      ],
      "execution_count": null,
      "outputs": [
        {
          "output_type": "stream",
          "name": "stderr",
          "text": [
            "Some weights of the model checkpoint at klue/bert-base were not used when initializing BertEncoder: ['cls.predictions.bias', 'cls.predictions.transform.dense.weight', 'cls.predictions.transform.dense.bias', 'cls.predictions.transform.LayerNorm.weight', 'cls.predictions.transform.LayerNorm.bias', 'cls.predictions.decoder.weight', 'cls.predictions.decoder.bias', 'cls.seq_relationship.weight', 'cls.seq_relationship.bias']\n",
            "- This IS expected if you are initializing BertEncoder from the checkpoint of a model trained on another task or with another architecture (e.g. initializing a BertForSequenceClassification model from a BertForPreTraining model).\n",
            "- This IS NOT expected if you are initializing BertEncoder from the checkpoint of a model that you expect to be exactly identical (initializing a BertForSequenceClassification model from a BertForSequenceClassification model).\n",
            "Some weights of the model checkpoint at klue/bert-base were not used when initializing BertEncoder: ['cls.predictions.bias', 'cls.predictions.transform.dense.weight', 'cls.predictions.transform.dense.bias', 'cls.predictions.transform.LayerNorm.weight', 'cls.predictions.transform.LayerNorm.bias', 'cls.predictions.decoder.weight', 'cls.predictions.decoder.bias', 'cls.seq_relationship.weight', 'cls.seq_relationship.bias']\n",
            "- This IS expected if you are initializing BertEncoder from the checkpoint of a model trained on another task or with another architecture (e.g. initializing a BertForSequenceClassification model from a BertForPreTraining model).\n",
            "- This IS NOT expected if you are initializing BertEncoder from the checkpoint of a model that you expect to be exactly identical (initializing a BertForSequenceClassification model from a BertForSequenceClassification model).\n"
          ]
        }
      ]
    },
    {
      "cell_type": "markdown",
      "metadata": {
        "id": "f3Dgo8U997HD"
      },
      "source": [
        "`train` 함수를 정의한 후 `p_encoder`과 `q_encoder`를 학습시켜봅시다.\n"
      ]
    },
    {
      "cell_type": "code",
      "metadata": {
        "id": "VAb7NpUc8YRo"
      },
      "source": [
        "def train(args, num_neg, dataset, p_encoder, q_encoder):\n",
        "    batch_size = args.per_device_train_batch_size\n",
        "  \n",
        "    # Dataloader\n",
        "    train_dataloader = DataLoader(dataset, batch_size=batch_size)\n",
        "\n",
        "    # Optimizer\n",
        "    no_decay = [\"bias\", \"LayerNorm.weight\"]\n",
        "    optimizer_grouped_parameters = [\n",
        "        {\"params\": [p for n, p in p_encoder.named_parameters() if not any(nd in n for nd in no_decay)], \"weight_decay\": args.weight_decay},\n",
        "        {\"params\": [p for n, p in p_encoder.named_parameters() if any(nd in n for nd in no_decay)], \"weight_decay\": 0.0},\n",
        "        {\"params\": [p for n, p in q_encoder.named_parameters() if not any(nd in n for nd in no_decay)], \"weight_decay\": args.weight_decay},\n",
        "        {\"params\": [p for n, p in q_encoder.named_parameters() if any(nd in n for nd in no_decay)], \"weight_decay\": 0.0}\n",
        "    ]\n",
        "    optimizer = AdamW(\n",
        "        optimizer_grouped_parameters,\n",
        "        lr=args.learning_rate,\n",
        "        eps=args.adam_epsilon\n",
        "    )\n",
        "    t_total = len(train_dataloader) // args.gradient_accumulation_steps * args.num_train_epochs\n",
        "    scheduler = get_linear_schedule_with_warmup(\n",
        "        optimizer,\n",
        "        num_warmup_steps=args.warmup_steps,\n",
        "        num_training_steps=t_total\n",
        "    )\n",
        "\n",
        "    # Start training!\n",
        "    global_step = 0\n",
        "\n",
        "    p_encoder.zero_grad()\n",
        "    q_encoder.zero_grad()\n",
        "\n",
        "    p_encoder.train()\n",
        "    q_encoder.train()\n",
        "\n",
        "    torch.cuda.empty_cache()\n",
        "\n",
        "    train_iterator = trange(int(args.num_train_epochs), desc=\"Epoch\")\n",
        "    for _ in train_iterator:\n",
        "\n",
        "        # epoch_iterator = tqdm(train_dataloader, desc=\"Iteration\")\n",
        "        with tqdm(train_dataloader, unit=\"batch\") as tepoch:\n",
        "            for batch in tepoch:\n",
        "        \n",
        "                targets = torch.zeros(batch_size).long() # positive example은 전부 첫 번째에 위치하므로\n",
        "                targets = targets.to(args.device)\n",
        "\n",
        "                p_inputs = {\n",
        "                    \"input_ids\": batch[0].view(batch_size * (num_neg + 1), -1).to(args.device),\n",
        "                    \"attention_mask\": batch[1].view(batch_size * (num_neg + 1), -1).to(args.device),\n",
        "                    \"token_type_ids\": batch[2].view(batch_size * (num_neg + 1), -1).to(args.device)\n",
        "                }\n",
        "        \n",
        "                q_inputs = {\n",
        "                    \"input_ids\": batch[3].to(args.device),\n",
        "                    \"attention_mask\": batch[4].to(args.device),\n",
        "                    \"token_type_ids\": batch[5].to(args.device)\n",
        "                }\n",
        "\n",
        "                del batch\n",
        "                torch.cuda.empty_cache()\n",
        "                # (batch_size * (num_neg + 1), emb_dim)\n",
        "                p_outputs = p_encoder(**p_inputs)\n",
        "                # (batch_size, emb_dim)  \n",
        "                q_outputs = q_encoder(**q_inputs)\n",
        "\n",
        "                # Calculate similarity score & loss\n",
        "                p_outputs = p_outputs.view(batch_size, -1, num_neg + 1)\n",
        "                q_outputs = q_outputs.view(batch_size, 1, -1)\n",
        "\n",
        "                # (batch_size, num_neg + 1)\n",
        "                sim_scores = torch.bmm(q_outputs, p_outputs).squeeze()  \n",
        "                sim_scores = sim_scores.view(batch_size, -1)\n",
        "                sim_scores = F.log_softmax(sim_scores, dim=1)\n",
        "\n",
        "                loss = F.nll_loss(sim_scores, targets)\n",
        "                tepoch.set_postfix(loss=f\"{str(loss.item())}\")\n",
        "\n",
        "                loss.backward()\n",
        "                optimizer.step()\n",
        "                scheduler.step()\n",
        "\n",
        "                q_encoder.zero_grad()\n",
        "                p_encoder.zero_grad()\n",
        "\n",
        "                global_step += 1\n",
        "\n",
        "                torch.cuda.empty_cache()\n",
        "                del p_inputs, q_inputs\n",
        "\n",
        "    return p_encoder, q_encoder"
      ],
      "execution_count": null,
      "outputs": []
    },
    {
      "cell_type": "code",
      "metadata": {
        "id": "ICSJoJrUDGZ5"
      },
      "source": [
        "args = TrainingArguments(\n",
        "    output_dir=\"dense_retireval\",\n",
        "    evaluation_strategy=\"epoch\",\n",
        "    learning_rate=2e-5,\n",
        "    per_device_train_batch_size=2, # 아슬아슬합니다. 작게 쓰세요 !\n",
        "    per_device_eval_batch_size=2,\n",
        "    num_train_epochs=2,\n",
        "    weight_decay=0.01,\n",
        ")"
      ],
      "execution_count": null,
      "outputs": []
    },
    {
      "cell_type": "markdown",
      "metadata": {
        "id": "I5h7_-aRA9dm"
      },
      "source": [
        "_혹시 CUDA 메모리 에러가 뜬다면 passage encoder 와 query encoder 를 나누지 말고 하나로 학습해보세요. `batch_size`도 변경해보세요._"
      ]
    },
    {
      "cell_type": "code",
      "metadata": {
        "colab": {
          "base_uri": "https://localhost:8080/"
        },
        "id": "E8a7ww3WgsaZ",
        "outputId": "fbbd90b3-b569-450c-8054-692333666768"
      },
      "source": [
        "p_encoder, q_encoder = train(args, num_neg, train_dataset, p_encoder, q_encoder)"
      ],
      "execution_count": null,
      "outputs": [
        {
          "output_type": "stream",
          "name": "stderr",
          "text": [
            "100%|██████████| 10/10 [02:12<00:00, 13.29s/batch, loss=0.0]\n",
            "100%|██████████| 10/10 [02:28<00:00, 14.84s/batch, loss=0.0]\n",
            "Epoch: 100%|██████████| 2/2 [04:41<00:00, 140.66s/it]\n"
          ]
        }
      ]
    },
    {
      "cell_type": "markdown",
      "metadata": {
        "id": "BGOw-k7Ln85t"
      },
      "source": [
        "### 💻 3. 검증셋에 있는 Query 에 대해 passage-retrieval 해보기\n",
        "이제 처음 보는 검증셋에 있는 Query 와 passage 에 대해서도 잘 작동하는지 확인해봅시다. 아래와 같은 순서로 작동해야겠죠?\n",
        "1. 검증셋을 불러온다.\n",
        "2. 검증셋의 query 와 passage 를 임베딩시킨다.\n",
        "3. 유사도를 통해 유사한 주어진 query 에 맞는 passage 를 찾는다."
      ]
    },
    {
      "cell_type": "markdown",
      "metadata": {
        "id": "FZA5V6tEpuUV"
      },
      "source": [
        "#### 💻 검증셋 불러오기"
      ]
    },
    {
      "cell_type": "code",
      "metadata": {
        "colab": {
          "base_uri": "https://localhost:8080/"
        },
        "id": "NouB9uBcTaws",
        "outputId": "d20d885c-d7cf-481f-f5fa-66b3952236b5"
      },
      "source": [
        "valid_corpus = list(set([example[\"context\"] for example in dataset[\"validation\"]]))[:10]\n",
        "\n",
        "sample_idx = random.choice(range(len(dataset[\"validation\"])))\n",
        "query = dataset[\"validation\"][sample_idx][\"question\"]\n",
        "ground_truth = dataset[\"validation\"][sample_idx][\"context\"]\n",
        "\n",
        "if not ground_truth in valid_corpus:\n",
        "    valid_corpus.append(ground_truth)\n",
        "\n",
        "print(f\"[Selected Query]\")\n",
        "pprint(query)\n",
        "\n",
        "print(f\"[Ground Truth]\")\n",
        "pprint(ground_truth)"
      ],
      "execution_count": null,
      "outputs": [
        {
          "output_type": "stream",
          "name": "stdout",
          "text": [
            "----- [Selected Query] -----\n",
            "'SBS 연기대상에서 김태희는 무슨 상을 받았나?'\n",
            "\n",
            "----- [Ground Truth] -----\n",
            "('2001년 영화 《선물》에 이영애의 아역으로 출연하면서 연기자로 입문하였고, 2002년 독립 영화 《신도시인》에 출연했다. 이후 '\n",
            " '시트콤《레츠고》(2002), 《스크린》, 《흥부네 박터졌네》(2003)와 같은 텔레비전 드라마에 출연했다. 2003년에는 《천국의 '\n",
            " '계단》에서 악역 한유리 역할로 얼굴을 알리며 인기를 얻기 시작했고, 이 드라마로 SBS 연기대상에서 뉴스타상을 수상했다. 2004년에는 '\n",
            " '드라마 《구미호 외전》과 《러브스토리 인 하버드》에 출연했다. 하지만 이후 영화 《중천》(2006), 《싸움》(2007)에 출연했으나, '\n",
            " '모두 흥행에 실패했다. 2009년에는 시청률 30%대를 기록한 드라마 《아이리스》에서 최승희 역할을 연기해 KBS 연기대상에서 '\n",
            " '우수연기상을 수상하였다. 이후 드라마 《마이프린세스》(2011), 《나와 스타의 99일》(2012), 《장옥정 사랑에 '\n",
            " '살다》(2013)에서 주연으로 출연했고, 2015년 드라마 《용팔이》로 SBS 연기대상 최우수연기상을 수상했다.')\n"
          ]
        }
      ]
    },
    {
      "cell_type": "markdown",
      "metadata": {
        "id": "05D8GzFrJhHO"
      },
      "source": [
        "#### 💻 앞서 학습한 passage encoder, question encoder 을 이용해 dense embedding 생성하기"
      ]
    },
    {
      "cell_type": "code",
      "metadata": {
        "colab": {
          "base_uri": "https://localhost:8080/"
        },
        "id": "YufA_ayPJBRg",
        "outputId": "cd5720b6-46c9-4da6-d5dc-d480868348e4"
      },
      "source": [
        "with torch.no_grad():\n",
        "    p_encoder.eval()\n",
        "    q_encoder.eval()\n",
        "\n",
        "    q_seqs_val = tokenizer(\n",
        "        [query],\n",
        "        padding=\"max_length\",\n",
        "        truncation=True,\n",
        "        return_tensors=\"pt\"\n",
        "    ).to(\"cuda\")\n",
        "    q_emb = q_encoder(**q_seqs_val).to(\"cpu\")  # (num_query, emb_dim)\n",
        "\n",
        "    p_embs = []\n",
        "    for p in valid_corpus:\n",
        "        p = tokenizer(\n",
        "            p,\n",
        "            padding=\"max_length\",\n",
        "            truncation=True,\n",
        "            return_tensors=\"pt\"\n",
        "        ).to(\"cuda\")\n",
        "        p_emb = p_encoder(**p).to(\"cpu\").numpy()\n",
        "        p_embs.append(p_emb)\n",
        "\n",
        "p_embs = torch.Tensor(p_embs).squeeze()  # (num_passage, emb_dim)\n",
        "print(p_embs.size(), q_emb.size())"
      ],
      "execution_count": null,
      "outputs": [
        {
          "output_type": "stream",
          "name": "stdout",
          "text": [
            "torch.Size([11, 768]) torch.Size([1, 768])\n"
          ]
        }
      ]
    },
    {
      "cell_type": "markdown",
      "metadata": {
        "id": "pOHHak7WS1ko"
      },
      "source": [
        "#### 💻 Dot product를 통해 유사도 구하기"
      ]
    },
    {
      "cell_type": "code",
      "metadata": {
        "colab": {
          "base_uri": "https://localhost:8080/"
        },
        "id": "xn5Cx5JkKZJB",
        "outputId": "84d37434-bfe5-4a6f-d160-d0ca72d65bcd"
      },
      "source": [
        "dot_prod_scores = torch.matmul(q_emb, torch.transpose(p_embs, 0, 1))\n",
        "print(dot_prod_scores.size())\n",
        "\n",
        "rank = torch.argsort(dot_prod_scores, dim=1, descending=True).squeeze()\n",
        "print(dot_prod_scores)\n",
        "print(rank)"
      ],
      "execution_count": null,
      "outputs": [
        {
          "output_type": "stream",
          "name": "stdout",
          "text": [
            "torch.Size([1, 11])\n",
            "tensor([[176.3418, 147.5652, 165.1897, 177.7192, 148.4269, 156.9671, 166.3144,\n",
            "         155.8632, 150.4935, 141.3773, 166.0702]])\n",
            "tensor([ 3,  0,  6, 10,  2,  5,  7,  8,  4,  1,  9])\n"
          ]
        }
      ]
    },
    {
      "cell_type": "markdown",
      "metadata": {
        "id": "Oq2Oiv8MKVS6"
      },
      "source": [
        "#### 💻 Top-5개의 passage를 retrieve 하고 ground truth와 비교하기"
      ]
    },
    {
      "cell_type": "code",
      "metadata": {
        "colab": {
          "base_uri": "https://localhost:8080/"
        },
        "id": "WaStRXYdJ-wI",
        "outputId": "9d93531f-8e65-43c7-dfdc-a1184963362f"
      },
      "source": [
        "k = 5\n",
        "print(\"[Search query]\\n\", query, \"\\n\")\n",
        "print(\"[Ground truth passage]\")\n",
        "print(ground_truth, \"\\n\")\n",
        "\n",
        "for i in range(k):\n",
        "  print(f\"Top-{i + 1} passage with score {dot_prod_scores.squeeze()[rank[i]]}:.4f\")\n",
        "  pprint(valid_corpus[rank[i]])"
      ],
      "execution_count": null,
      "outputs": [
        {
          "output_type": "stream",
          "name": "stdout",
          "text": [
            "[Search query]\n",
            " SBS 연기대상에서 김태희는 무슨 상을 받았나? \n",
            "\n",
            "[Ground truth passage]\n",
            "2001년 영화 《선물》에 이영애의 아역으로 출연하면서 연기자로 입문하였고, 2002년 독립 영화 《신도시인》에 출연했다. 이후 시트콤《레츠고》(2002), 《스크린》, 《흥부네 박터졌네》(2003)와 같은 텔레비전 드라마에 출연했다. 2003년에는 《천국의 계단》에서 악역 한유리 역할로 얼굴을 알리며 인기를 얻기 시작했고, 이 드라마로 SBS 연기대상에서 뉴스타상을 수상했다. 2004년에는 드라마 《구미호 외전》과 《러브스토리 인 하버드》에 출연했다. 하지만 이후 영화 《중천》(2006), 《싸움》(2007)에 출연했으나, 모두 흥행에 실패했다. 2009년에는 시청률 30%대를 기록한 드라마 《아이리스》에서 최승희 역할을 연기해 KBS 연기대상에서 우수연기상을 수상하였다. 이후 드라마 《마이프린세스》(2011), 《나와 스타의 99일》(2012), 《장옥정 사랑에 살다》(2013)에서 주연으로 출연했고, 2015년 드라마 《용팔이》로 SBS 연기대상 최우수연기상을 수상했다. \n",
            "\n",
            "Top-1 passage with score 177.71917724609375:.4f\n",
            "('2013년 12월부터는 SBS 드라마 《별에서 온 그대》에 한류 스타 천송이 역으로 출연했다. 이는 1999년 《해피투게더》 이후 14년 '\n",
            " '만의 드라마 작품으로, 이 전에 《도둑들》에서 함께 했던 김수현과 주연을 맡았다. 《별에서 온 그대》는 최고 시청률 28.1%, 평균 '\n",
            " '시청률 22.6%를 기록하며 단 한 번도 동시간대 시청률 1위를 놓친 적이 없다. 이 드라마로 2014년 5월 27일 열린 제50회 '\n",
            " '백상예술대상에서 TV 대상을 포함해 InStyle상까지 2관왕에 올랐다. 같은 해 《별에서 온 그대》로 2014년 SBS 연기대상에서 '\n",
            " '최고상인 대상과 베스트 커플상, 10대 스타상, 프로듀서상을 수상하여 4관왕에 올랐다.')\n",
            "Top-2 passage with score 176.34176635742188:.4f\n",
            "('1976년 10월 공군에 입대해 사병으로 복무 중인, 1978년 12월에 독일 분데스리가 SV 다름슈타트 98로 이적하였지만 병역 관련 '\n",
            " '문제로 계약이 파기되었다. (당시 차범근은 공군 팀 전력 강화를 꾀하던 참모총장의 권한으로 2년 뒤 전역을 약속받고, 공군에 입대하였다. '\n",
            " '약속된 1978년 12월 복무 기간을 마쳤다고 생각하고, 특별 휴가를 받아 독일로 떠나 SV 다름슈타트 98 입단 계약을 체결하였고 '\n",
            " '12월 30일 VfL 보훔과의 리그 경기에 출전해서 77분을 소화했고, 키커 평점 3점을 받는 등 좋은 활약을 펼치며 분데스리가 데뷔전을 '\n",
            " '성공적으로 끝마쳤다. 그러나 공군의 입장 변화로 1979년 1월 5일 다시 귀국한 후, 복귀해서 독일로 다시 나가지 못하고 1979년 '\n",
            " '5월 31일 만기 전역하였다.')\n",
            "Top-3 passage with score 166.31443786621094:.4f\n",
            "('국토교통부는 2015년까지 100년 주택인 장수명 아파트 인증제 도입을 추진한다고 보도했다. 유럽이나 미국의 경우, 100년된 주택을 '\n",
            " '쉽게 찿을수 있지만 고도의 성장에 있어 40년 넘은 주택조차 찿기 어려운것에 대한 조치이다. 서울시는 최근 근현대 문물 보존 프로잭트인 '\n",
            " '미래문화유산화의 일부보존 대상으로 아파트 10군데를 후보로 지정하였다. 가장오래된 충정아파트(1933), 동대문아파트 (1965)을 '\n",
            " '비롯해 정동아파트 (1965), 힐탑아파트 (1967), 회현제2시민아파트 (1970), 여의도시범아파트 (1971), 성요셉아파트 '\n",
            " '(1971), 서소문아파트 (1972), 반포본동아파트 (1973), 개포주공1단지아파트 (1981)가 선정되었으며 소유자의 동의를 받고 '\n",
            " '지정될 예정이다.')\n",
            "Top-4 passage with score 166.0701904296875:.4f\n",
            "('2001년 영화 《선물》에 이영애의 아역으로 출연하면서 연기자로 입문하였고, 2002년 독립 영화 《신도시인》에 출연했다. 이후 '\n",
            " '시트콤《레츠고》(2002), 《스크린》, 《흥부네 박터졌네》(2003)와 같은 텔레비전 드라마에 출연했다. 2003년에는 《천국의 '\n",
            " '계단》에서 악역 한유리 역할로 얼굴을 알리며 인기를 얻기 시작했고, 이 드라마로 SBS 연기대상에서 뉴스타상을 수상했다. 2004년에는 '\n",
            " '드라마 《구미호 외전》과 《러브스토리 인 하버드》에 출연했다. 하지만 이후 영화 《중천》(2006), 《싸움》(2007)에 출연했으나, '\n",
            " '모두 흥행에 실패했다. 2009년에는 시청률 30%대를 기록한 드라마 《아이리스》에서 최승희 역할을 연기해 KBS 연기대상에서 '\n",
            " '우수연기상을 수상하였다. 이후 드라마 《마이프린세스》(2011), 《나와 스타의 99일》(2012), 《장옥정 사랑에 '\n",
            " '살다》(2013)에서 주연으로 출연했고, 2015년 드라마 《용팔이》로 SBS 연기대상 최우수연기상을 수상했다.')\n",
            "Top-5 passage with score 165.18966674804688:.4f\n",
            "('1953년 3월 24일 전라북도 고창군에서 태어난 김이수는 고수국민학교, 광주서중학교, 전남고등학교와 서울대학교 법학과를 졸업했다. '\n",
            " '대학교 3학년인 1974년 민청학련 사건에 연루돼 64일간 구금됐다가 석방되었다. 1977년 제19회 사법시험에 합격해 사법연수원 9기를 '\n",
            " '수료하고 1979년 12월 31일에 사단 군검찰관으로 임관해 5개월 후인 1980년 5월 법무사 군 판사로서 5·18 항쟁 시민군을 태운 '\n",
            " '버스 운전사에게 사형을 선고했다. 이를 지적하는 새누리당 함진규 의원의 지적에 \"안 맡았으면 좋았을 재판이라고 지금도 생각한다\"며 \"광주 '\n",
            " '사람으로서 광주항쟁에 참여해야할 입장이었는데 재판을 맡게 됐다. 아주 복잡한 입장이었다\"고 말했으며 \"시민군 가담 여고생에게 징역 1년을 '\n",
            " '선고하고 50살 농민을 구금하고 징역 2년 집행유예 3년 선고했다. 군의 살상행위를 알린 현직 이장에게 유언비어 유포죄로 징역 1년 집유 '\n",
            " '2년을 선고했다\"는 새누리당 의원의 지적에는 \"기록을 검토해봐야 한다. 판결문만 보면 모순이 있는 것 같다\"고 했다. 5·16 '\n",
            " '군사쿠데타에 관해서 \"권력을 잡는 방법은 비정상적이었지만 권력을 잡은 측면과 전체를 한꺼번에 봐야한다\"며 \"10월 유신까지 가는 부분에는 '\n",
            " '공과가 있다\"고 했다.')\n"
          ]
        }
      ]
    },
    {
      "cell_type": "markdown",
      "metadata": {
        "id": "cicYTii7jZZC"
      },
      "source": [
        "Ground Truth와 똑같거나 비슷한 Passage가 출력됐나요? 역시 Pretrained는 강력하군요.\n",
        "### ❓ Dense Retrieval 코드를 class로 합쳐봅시다.\n",
        "현재 구현된 모델은 굉장히 단순히 짜여졌습니다. 이미 Pretrain된 BERT 모델을 활용했는데, 다른 PLM은 어떨까요? 이를 다시 시도해보자니 코드가 너무 셀로 흩어져있어서 재사용이 어렵네요. 우선 클래스화를 진햏한 후에, `BERT`가 아닌 다른 PLM도 활용해봅시다."
      ]
    },
    {
      "cell_type": "markdown",
      "metadata": {
        "id": "on_Ay5_nbqEc"
      },
      "source": [
        "❗ _Hint_   \n",
        "Scratch부터 짜는게 많이 어려우신가요?\n",
        "\n",
        "만들어야하는 기능들의 파이프라인을 나열하고 하나씩 모듈화하는 습관을 들이는 것이 좋습니다. 순서대로 생각해볼까요?\n",
        "\n",
        "1. Setup   \n",
        "    Naive한 `Dataset`을 받아서 이를 In-Batch Negative를 활용한 후 Dataloader로 변경해주는 코드가 있어야겠죠? 클래스 내에서 활용할 수 있도록 속성(attribute)으로 만들어줍시다. 이 코드를 위에서 활용한 `train` 함수에서 조금 차용해볼까요?\n",
        "2. PLM을 주어진 Passage 와 In-batch negative 기법을 활용해서 훈련합니다.   \n",
        "    이는 위에서 만든 `train` 함수를 약간 응용해서 재활용합시다.\n",
        "3. 훈련한 PLM 을 통해 Query 를 Transform 합니다.\n",
        "4. 내적을 통해 유사도를 구하고, 내림차순을 통해 유사한 Passage 를 Retrieval 합니다.\n",
        "\n",
        "위 4단계를 하나씩 함수로 구현한 후 Class로 합치면 훨씬 쉬울 겁니다!"
      ]
    },
    {
      "cell_type": "code",
      "metadata": {
        "ExecuteTime": {
          "end_time": "2021-09-15T08:06:47.410939Z",
          "start_time": "2021-09-15T08:06:46.140856Z"
        },
        "id": "994wDYAujsLr"
      },
      "source": [
        "# 코드가 많아보이지만 주석이 더 많지롱\n",
        "class DenseRetrieval:\n",
        "    def __init__(self,\n",
        "        args,\n",
        "        dataset,\n",
        "        num_neg,\n",
        "        tokenizer,\n",
        "        p_encoder,\n",
        "        q_encoder\n",
        "    ):\n",
        "        \"\"\"\n",
        "        Arguments:\n",
        "            args (Huggingface Arguments):\n",
        "                세팅과 학습에 필요한 설정값을 받습니다.\n",
        "            dataset (datasets.Dataset):\n",
        "                Huggingface의 Dataset을 받아옵니다.\n",
        "            num_neg (int):\n",
        "                In-batch negative 수행시 사용할 negative sample의 수를 받아옵니다.\n",
        "            tokenizer (Callable):\n",
        "                Tokenize할 함수를 받아옵니다.\n",
        "                아래와 같은 함수들을 사용할 수 있습니다.\n",
        "                - lambda x: x.split(' ')\n",
        "                - Huggingface Tokenizer\n",
        "                - konlpy.tag의 Mecab\n",
        "            p_encoder (torch.nn.Module):\n",
        "                Passage를 Dense Representation으로 임베딩시킬 모델입니다.\n",
        "            q_encoder (torhc.nn.Module):\n",
        "                Query를 Dense Representation으로 임베딩시킬 모델입니다.\n",
        "\n",
        "        Summary:\n",
        "            학습과 추론에 필요한 객체들을 받아서 속성으로 저장합니다.\n",
        "            객체가 instantiate될 때 in-batch negative가 생긴 데이터를 만들도록 함수를 수행합니다.\n",
        "        \"\"\"\n",
        "\n",
        "        self.args = args\n",
        "        self.dataset = dataset\n",
        "        self.num_neg = num_neg\n",
        "\n",
        "        self.tokenizer = tokenizer\n",
        "        self.p_encoder = p_encoder.to(args.device)\n",
        "        self.q_encoder = q_encoder.to(args.device)\n",
        "\n",
        "        self.prepare_in_batch_negative(num_neg=num_neg)\n",
        "\n",
        "\n",
        "    def prepare_in_batch_negative(self,\n",
        "        dataset=None,\n",
        "        num_neg=2,\n",
        "        tokenizer=None\n",
        "    ):\n",
        "        \"\"\"\n",
        "        Arguments:\n",
        "            dataset (datasets.Dataset, default=None):\n",
        "                Huggingface의 Dataset을 받아오면,\n",
        "                in-batch negative를 추가해서 Dataloader를 만들어주세요.\n",
        "            num_neg (int, default=2):\n",
        "                In-batch negative 수행시 사용할 negative sample의 수를 받아옵니다.\n",
        "            tokenizer (Callable, default=None):\n",
        "                Tokenize할 함수를 받아옵니다.\n",
        "                별도로 받아오지 않으면 속성으로 저장된 Tokenizer를 불러올 수 있게 짜주세요.\n",
        "\n",
        "        Note:\n",
        "            모든 Arguments는 사실 이 클래스의 속성으로 보관되어 있기 때문에\n",
        "            별도로 Argument를 직접 받지 않아도 수행할 수 있게 만들어주세요.\n",
        "        \"\"\"\n",
        "        if dataset is None:\n",
        "            dataset = self.dataset\n",
        "\n",
        "\n",
        "    def train(self,\n",
        "        args=None\n",
        "    ):\n",
        "        \"\"\"\n",
        "        Summary:\n",
        "            train을 합니다. 위에 과제에서 이용한 코드를 활용합시다.\n",
        "            encoder들과 dataloader가 속성으로 저장되어있는 점에 유의해주세요.\n",
        "        \"\"\"\n",
        "        pass\n",
        "\n",
        "\n",
        "    def get_relevant_doc(self,\n",
        "        query,\n",
        "        k=1,\n",
        "        args=None\n",
        "    ):\n",
        "        \"\"\"\n",
        "        Arguments:\n",
        "            query (str)\n",
        "                문자열로 주어진 질문입니다.\n",
        "            k (int, default=1)\n",
        "                상위 몇 개의 유사한 passage를 뽑을 것인지 결정합니다.\n",
        "            args (Huggingface Arguments, default=None)\n",
        "                Configuration을 필요한 경우 넣어줍니다.\n",
        "                만약 None이 들어오면 self.args를 쓰도록 짜면 좋을 것 같습니다.\n",
        "\n",
        "        Summary:\n",
        "            1. query를 받아서 embedding을 하고\n",
        "            2. 전체 passage와의 유사도를 구한 후\n",
        "            3. 상위 k개의 문서 index를 반환합니다.\n",
        "        \"\"\"\n",
        "        pass"
      ],
      "execution_count": null,
      "outputs": []
    },
    {
      "cell_type": "code",
      "metadata": {
        "ExecuteTime": {
          "end_time": "2021-09-15T08:06:50.333519Z",
          "start_time": "2021-09-15T08:06:47.419925Z"
        },
        "colab": {
          "base_uri": "https://localhost:8080/",
          "height": 67,
          "referenced_widgets": [
            "1b16d8e4c2d74aab9fdda9ae60c21441",
            "58ca9dbe05d149fcb73677736541c1ce",
            "92cbaf4e42694aca93e327941b1c9422",
            "e4c5ce6351014015aa41d8a43fdca7d8",
            "9407250e75c14524be3fa222b02c4f74",
            "e38d794604bb409bb4d41a5bfef5eb61",
            "0a78e445530c4d93a2ccce5bcda351da",
            "3fe1fbff472c435c94c25c1736081373",
            "430873d31e5c4770afd48183c1a8f1de",
            "3ad885d798e64e35ae6705412494a52e",
            "be78ee5fbd55487fb3dd0da23adbc154"
          ]
        },
        "id": "cBr57rLvkM68",
        "outputId": "1bcc0a3e-90b7-44cb-c772-91a88df16f93"
      },
      "source": [
        "# 데이터셋과 모델은 아래와 같이 불러옵니다.\n",
        "train_dataset = load_dataset(\"squad_kor_v1\")[\"train\"]\n",
        "\n",
        "# 메모리가 부족한 경우 일부만 사용하세요 !\n",
        "num_sample = 1500\n",
        "sample_idx = np.random.choice(range(len(train_dataset)), num_sample)\n",
        "train_dataset = train_dataset[sample_idx]\n",
        "\n",
        "args = TrainingArguments(\n",
        "    output_dir=\"dense_retireval\",\n",
        "    evaluation_strategy=\"epoch\",\n",
        "    learning_rate=2e-5,\n",
        "    per_device_train_batch_size=2,\n",
        "    per_device_eval_batch_size=2,\n",
        "    num_train_epochs=2,\n",
        "    weight_decay=0.01\n",
        ")\n",
        "model_checkpoint = \"klue/bert-base\"\n",
        "\n",
        "# 혹시 위에서 사용한 encoder가 있다면 주석처리 후 진행해주세요 (CUDA ...)\n",
        "tokenizer = AutoTokenizer.from_pretrained(model_checkpoint)\n",
        "p_encoder = BertEncoder.from_pretrained(model_checkpoint).to(args.device)\n",
        "q_encoder = BertEncoder.from_pretrained(model_checkpoint).to(args.device)"
      ],
      "execution_count": null,
      "outputs": [
        {
          "output_type": "stream",
          "name": "stderr",
          "text": [
            "Reusing dataset squad_kor_v1 (/root/.cache/huggingface/datasets/squad_kor_v1/squad_kor_v1/1.0.0/18d4f44736b8ee85671f63cb84965bfb583fa0a4ff2df3c2e10eee9693796725)\n"
          ]
        },
        {
          "output_type": "display_data",
          "data": {
            "application/vnd.jupyter.widget-view+json": {
              "model_id": "1b16d8e4c2d74aab9fdda9ae60c21441",
              "version_minor": 0,
              "version_major": 2
            },
            "text/plain": [
              "  0%|          | 0/2 [00:00<?, ?it/s]"
            ]
          },
          "metadata": {}
        }
      ]
    },
    {
      "cell_type": "code",
      "metadata": {
        "ExecuteTime": {
          "end_time": "2021-09-15T08:06:50.335488Z",
          "start_time": "2021-09-15T08:06:50.335488Z"
        },
        "id": "8aUOE8VEyZ1v",
        "colab": {
          "base_uri": "https://localhost:8080/"
        },
        "outputId": "1b78b56c-a84c-4e5f-8d4a-43afe8dd0c2d"
      },
      "source": [
        "# Retriever는 아래와 같이 사용할 수 있도록 코드를 짜봅시다.\n",
        "retriever = DenseRetrieval(\n",
        "    args=args,\n",
        "    dataset=train_dataset,\n",
        "    num_neg=2,\n",
        "    tokenizer=tokenizer,\n",
        "    p_encoder=p_encoder,\n",
        "    q_encoder=q_encoder\n",
        ")\n",
        "\n",
        "retriever.train()\n",
        "\n",
        "query = \"유아인에게 타고난 배우라고 말한 드라마 밀회의 감독은?\"\n",
        "results = retriever.get_relevant_doc(query=query, k=5)"
      ],
      "execution_count": null,
      "outputs": [
        {
          "output_type": "stream",
          "name": "stderr",
          "text": [
            "Iteration: 100%|██████████| 750/750 [01:34<00:00,  7.91it/s]\n"
          ]
        }
      ]
    },
    {
      "cell_type": "code",
      "metadata": {
        "colab": {
          "base_uri": "https://localhost:8080/"
        },
        "id": "YKKMfYhREui4",
        "outputId": "ef512c8c-f8d6-4b6f-d124-24c438529faf"
      },
      "source": [
        "print(f\"[Search Query] {query}\")\n",
        "\n",
        "indices = result[1]\n",
        "for i, idx in enumerate(indices):\n",
        "    print(f\"Top-{i + 1}th Passage (Index {idx})\")\n",
        "    pprint(retriever.contexts[idx])"
      ],
      "execution_count": null,
      "outputs": [
        {
          "output_type": "stream",
          "name": "stdout",
          "text": [
            "[Search query]\n",
            " 유아인에게 타고난 배우라고 말한 드라마 밀회의 감독은? \n",
            "\n",
            "[Predicted Passage]\n",
            "('한편 2009년 헐리우드 메이저 영화 단독 주연으로 \"닌자 어쌔신\" 개봉하였고 2010년 6월 6일 아시아 한국인 최초로 미국 LA에서 '\n",
            " '열린 제 19회 \"2010 엠티비 무비 어워드(MTV Movie Awards)에서 최고의 액션스타상(Biggest Badass '\n",
            " 'Star)을 수상하였다. 아시아 최초 첫 단독 주연 액션스타상은 비가 최초이다. 또한 미국의 배우 안젤리나 졸리는 한 언론과의 인터뷰에서 '\n",
            " '비는 정말 대단하다며 극찬을 펼치기도 했었다. 2011년 아시아 연예인 최초로 미국 타임 세계에서 가장 영향력 있는 100인에 2회 '\n",
            " '선정되었다. 미국 타임 100인 선정은 타임 심사 위원들의 심사를 거쳐 선정하는데 가능하면 과거에 뽑힌 인물은 중복해서 선정하지 않는 게 '\n",
            " '원칙이고 인터넷 투표는 참고사항일뿐이라고 타임지는 밝혔습니다. 비는 지금까지 온라인 인기투표 리스트에 총 6회 이름이 올려줬다.[1]')\n"
          ]
        }
      ]
    },
    {
      "cell_type": "markdown",
      "metadata": {
        "id": "TwE-zCr2CIiq"
      },
      "source": [
        "#### ➕추가 과제: 다양한 기능 추가하기\n",
        "현재 코드에서 불편한 부분이 있죠. 일단 너무 많은 기능을 한 class에 넣은 것도 문제, 메소드도 한 번에 너무 다양한 기능을 하는 것이 문제입니다. 메소드 내의 기능을 쪼개서 여러 메소드로 나누거나 데이터셋을 만드는 부분 같이 큰 기능을 다른 class로 분리해봅시다. (DPR 추가 과제는 예시 코드가 제공되지 않습니다. 다양하게 활용해보세요 !)"
      ]
    },
    {
      "cell_type": "markdown",
      "metadata": {
        "id": "sU8A2bpXnIOL"
      },
      "source": [
        "### ❓ Sparse Retrieval과 Dense Retrieval을 둘 다 시도해보았습니다. 어떤 차이가 있을까요? 팀원들과 논의해보세요."
      ]
    },
    {
      "cell_type": "markdown",
      "metadata": {
        "id": "z8KO4AmLhr_G"
      },
      "source": [
        "## ❓ 과제: Wikipedia documents에 대해 Passage Retrieval 실습하기"
      ]
    },
    {
      "cell_type": "markdown",
      "metadata": {
        "id": "fnvVrapPmcCO"
      },
      "source": [
        "위에서 배운 Passage Retrieval을 Wikipedia에 있는 문서들로 진행해봅시다. 사실 위에서 두 클래스를 성공적으로 만들었다면, 데이터를 불러온 후 적용만 시키면 끝이 납니다.   \n",
        "***별도의 예시코드가 제공되지 않습니다**"
      ]
    },
    {
      "cell_type": "code",
      "metadata": {
        "id": "BC2AVU0m6OoV"
      },
      "source": [
        "# 츄라이 츄라이"
      ],
      "execution_count": null,
      "outputs": []
    },
    {
      "cell_type": "markdown",
      "metadata": {
        "id": "74EO3anZnbga"
      },
      "source": [
        "만족스러운 결과가 나왔나요? 그렇지 않았다면 모델의 구조를 바꾸거나, 더 많은 training set으로 학습 시켜보세요 !"
      ]
    },
    {
      "cell_type": "markdown",
      "metadata": {
        "id": "A3j0VhH-kU9e"
      },
      "source": [
        "### ❓ Take-home Question\n",
        "이 QA 모델을 배포한다고 생각해봅시다. 성능이 좋아서 점점 이용자가 많아지는 상황입니다. 만약 동시에 1000명의 이용자가 Query 를 보내면 어떻게 될까요? 전체 Passage가 100,000 개라면, 이 유사도를 계산하고 비교하는 횟수는 ... 점점 많아질 것 같네요. 이 문제는 어떻게 해결하면 좋을까요?"
      ]
    },
    {
      "cell_type": "code",
      "metadata": {
        "id": "dCWS-F5haN6_"
      },
      "source": [
        ""
      ],
      "execution_count": null,
      "outputs": []
    }
  ]
}